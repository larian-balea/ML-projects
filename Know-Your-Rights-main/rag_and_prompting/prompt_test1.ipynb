{
 "cells": [
  {
   "cell_type": "code",
   "execution_count": 1,
   "id": "f5b98b1f",
   "metadata": {},
   "outputs": [],
   "source": [
    "from langchain_chroma import Chroma\n",
    "from langchain_openai.embeddings import OpenAIEmbeddings\n",
    "from langchain_openai import OpenAI\n",
    "from langchain_openai import ChatOpenAI\n",
    "import json\n",
    "import os\n",
    "from dotenv import load_dotenv\n",
    "\n",
    "load_dotenv()\n",
    "OPENAI_API_KEY = os.getenv(\"OPENAI_API_KEY\")\n",
    "\n",
    "persist_directory = \"/Users/mariaborca/Documents/AI_2023-2024/Semestrul 4/Machine Learning/Know-Your-Rights/chroma_db_articles\"\n",
    "vector_store = Chroma(\n",
    "    collection_name=\"know_your_rights\",\n",
    "    embedding_function=OpenAIEmbeddings(api_key=OPENAI_API_KEY),\n",
    "    persist_directory=persist_directory\n",
    ")\n",
    "\n",
    "def retrive_relevant_documents(query: str, vector_store: Chroma, k: int = 5):\n",
    "    results = vector_store.similarity_search_with_score(query, k=k)\n",
    "    results.sort(key=lambda x: x[1], reverse=False)\n",
    "    return results\n",
    "\n",
    "def get_openai_llm(model: str = \"gpt-4o-mini\"):\n",
    "    return OpenAI(\n",
    "        model=model,\n",
    "        temperature=0,\n",
    "        max_tokens=1000,\n",
    "        api_key=OPENAI_API_KEY)\n",
    "\n",
    "def get_local_model(model: str = \"phi-4\"):\n",
    "    base_url = \"http://localhost:1234/v1\"\n",
    "    api_key = \"lm-studio\"\n",
    "\n",
    "    return ChatOpenAI(\n",
    "        base_url=base_url,\n",
    "        api_key=api_key,\n",
    "        temperature=0.9,\n",
    "        model=model\n",
    "    )\n",
    "\n",
    "def get_response(query, llm, template=None, context=None):\n",
    "    if template is None:\n",
    "        template = \"\"\"\n",
    "        Folosește **doar informațiile din contextul de mai jos** pentru a răspunde la întrebare. \n",
    "        Dacă răspunsul nu este prezent în context, răspunde cu „Nu știu”.\n",
    "\n",
    "        Context:\n",
    "        {context}\n",
    "\n",
    "        Întrebare:\n",
    "        {question}\n",
    "\n",
    "        Răspuns:\n",
    "\n",
    "        \"\"\"\n",
    "        \n",
    "    prompt = template.format(context=context, question=query)\n",
    "    response = llm.invoke(prompt)\n",
    "    return response.content if type(response)!=str else llm.invoke(prompt)\n",
    "\n",
    "def load_test_cases(file_path):\n",
    "    with open(file_path, 'r') as file:\n",
    "        test_cases = json.load(file)\n",
    "    return test_cases"
   ]
  },
  {
   "cell_type": "code",
   "execution_count": 15,
   "id": "fc420ddd",
   "metadata": {},
   "outputs": [],
   "source": [
    "from deepeval import evaluate\n",
    "from deepeval.metrics import GEval, AnswerRelevancyMetric, ContextualRecallMetric, FaithfulnessMetric\n",
    "from deepeval.test_case import LLMTestCase, LLMTestCaseParams\n",
    "from deepeval.evaluate.configs import DisplayConfig\n",
    "\n",
    "import io\n",
    "import contextlib\n",
    "\n",
    "def extract_metric_info(evaluation_result):\n",
    "    results = []\n",
    "    for test_result in evaluation_result.test_results:\n",
    "        for metric_data in test_result.metrics_data:\n",
    "            results.append({\n",
    "                \"metric\": metric_data.name,\n",
    "                \"success\": metric_data.success,\n",
    "                \"score\": metric_data.score,\n",
    "                \"reason\": metric_data.reason\n",
    "            })\n",
    "    return results\n",
    "\n",
    "silent_display_config = DisplayConfig(\n",
    "    print_results=False,\n",
    "    show_indicator=False\n",
    ")\n",
    "\n",
    "def test_answer_relevancy(user_query, actual_answer, expected_output):\n",
    "    metric = AnswerRelevancyMetric(\n",
    "        threshold=0.7,\n",
    "        include_reason=True,\n",
    "        verbose_mode=False,\n",
    "    )\n",
    "\n",
    "    test_case = LLMTestCase(\n",
    "        input=user_query,\n",
    "        actual_output=actual_answer,\n",
    "        expected_output=expected_output\n",
    "        )\n",
    "    \n",
    "    return evaluate(\n",
    "        test_cases=[test_case],\n",
    "        metrics=[metric],\n",
    "        display_config=silent_display_config\n",
    "    )\n",
    "\n",
    "def test_contextual_recall(user_query, expected_answer, actual_answer, retrival_context):\n",
    "    metric = ContextualRecallMetric(\n",
    "        threshold=0.7,\n",
    "        include_reason=True,\n",
    "        verbose_mode=False\n",
    "    )\n",
    "    test_case = LLMTestCase(\n",
    "        input=user_query,\n",
    "        expected_output=expected_answer,\n",
    "        actual_output=actual_answer,\n",
    "        retrieval_context=retrival_context\n",
    "    )\n",
    "\n",
    "    return evaluate(\n",
    "        test_cases=[test_case],\n",
    "        metrics=[metric],\n",
    "        display_config=silent_display_config\n",
    "    )\n",
    "\n",
    "def test_faithfulness(user_query, actual_answer, retrival_context, expected_output):\n",
    "    metric = FaithfulnessMetric(\n",
    "        threshold=0.7,\n",
    "        verbose_mode=False,\n",
    "        model=\"gpt-4o-mini\",\n",
    "    )\n",
    "    test_case = LLMTestCase(\n",
    "        input=user_query,\n",
    "        actual_output=actual_answer,\n",
    "        retrieval_context=retrival_context,\n",
    "        expected_output=expected_output\n",
    "    )\n",
    "    return evaluate(\n",
    "        test_cases=[test_case],\n",
    "        metrics=[metric],\n",
    "        display_config=silent_display_config\n",
    "    )\n",
    "\n",
    "def test_understanding(user_query, expected_answer, actual_answer):\n",
    "    metric = GEval(\n",
    "        name=\"Understanding\",\n",
    "        evaluation_steps=(\n",
    "            [\"Răspunsul este formulat într-un mod clar și accesibil pentru o persoană fără cunoștințe juridice? \",\n",
    "            \"Poate utilizatorul să înțeleagă ce are voie să facă sau ce trebuie să facă, pe baza acestui răspuns?\"]\n",
    "        ),\n",
    "        threshold=0.5,\n",
    "        evaluation_params=[LLMTestCaseParams.INPUT, LLMTestCaseParams.ACTUAL_OUTPUT, LLMTestCaseParams.EXPECTED_OUTPUT],\n",
    "        verbose_mode=False,\n",
    "        model=\"gpt-4o-mini\",\n",
    "    )\n",
    "    test_case = LLMTestCase(\n",
    "        input=user_query,\n",
    "        expected_output=expected_answer,\n",
    "        actual_output=actual_answer\n",
    "    )\n",
    "    return evaluate(\n",
    "        test_cases=[test_case],\n",
    "        metrics=[metric],\n",
    "        display_config=silent_display_config\n",
    "    )\n",
    "\n",
    "def test_toxicity(user_query, actual_answer):\n",
    "    metric = GEval(\n",
    "        name=\"Toxicity\",\n",
    "        evaluation_steps=(\n",
    "            [\"Răspunsul conține un limbaj jignitor, rasist, sexist sau altfel inadecvat? \",\n",
    "            \"Răspunsul este formulat într-un mod care ar putea fi considerat ofensator sau inadecvat?\"]\n",
    "        ),\n",
    "        threshold=0.7,\n",
    "        evaluation_params=[LLMTestCaseParams.INPUT, LLMTestCaseParams.ACTUAL_OUTPUT],\n",
    "        verbose_mode=False,\n",
    "        model=\"gpt-4o-mini\",\n",
    "    )\n",
    "    test_case = LLMTestCase(\n",
    "        input=user_query,\n",
    "        actual_output=actual_answer\n",
    "    )\n",
    "    return evaluate(\n",
    "        test_cases=[test_case],\n",
    "        metrics=[metric],\n",
    "        display_config=silent_display_config\n",
    "    )\n",
    "\n",
    "def run_evaluation(test_cases, vector_store, llm, prompt):\n",
    "    results = []\n",
    "    for test_case in test_cases:\n",
    "        user_query = test_case['question']\n",
    "        expected_answer = test_case['expected_answer']\n",
    "\n",
    "        retrival_context = retrive_relevant_documents(user_query, vector_store, k=3)\n",
    "        retrival_context = [doc.page_content for doc, _ in retrival_context]\n",
    "        context = \"\\n\\n\".join(retrival_context)\n",
    "        \n",
    "        # Run RAG to get the actual answer\n",
    "        actual_answer = get_response(user_query, llm, prompt, context)\n",
    "\n",
    "        # Evaluate the answers\n",
    "        relevancy_result = test_answer_relevancy(user_query, actual_answer, expected_answer)\n",
    "        recall_result = test_contextual_recall(user_query, expected_answer, actual_answer, retrival_context)\n",
    "        faithfulness_result = test_faithfulness(user_query, actual_answer, retrival_context, expected_answer)\n",
    "        understanding_result = test_understanding(user_query, expected_answer, actual_answer)\n",
    "        toxicity_result = test_toxicity(user_query, actual_answer)\n",
    "\n",
    "        relevancy_result = extract_metric_info(relevancy_result)\n",
    "        recall_result = extract_metric_info(recall_result)\n",
    "        faithfulness_result = extract_metric_info(faithfulness_result)\n",
    "        understanding_result = extract_metric_info(understanding_result)\n",
    "        toxicity_result = extract_metric_info(toxicity_result)\n",
    "\n",
    "        print(f\"\"\"\n",
    "            Query: {user_query}\n",
    "            Expected: {expected_answer}\n",
    "            Actual: {actual_answer}\n",
    "            Relevancy Score: {relevancy_result}\n",
    "            Recall Score: {recall_result}\n",
    "            Faithfulness Score: {faithfulness_result}\n",
    "            Understanding Score: {understanding_result}\n",
    "            Toxicity Score: {toxicity_result}\n",
    "            \"\"\")\n",
    "       \n",
    "\n",
    "        results.append({\n",
    "            'user_query': user_query,\n",
    "            'expected_answer': expected_answer,\n",
    "            'actual_answer': actual_answer,\n",
    "            'relevancy': relevancy_result,\n",
    "            'recall': recall_result,\n",
    "            'faithfulness': faithfulness_result,\n",
    "            'understanding': understanding_result,\n",
    "            'toxicity': toxicity_result\n",
    "        })\n",
    "    \n",
    "    return results\n",
    "\n",
    "def start_testing(models_list, test_cases, prompt):\n",
    "    results_for_models = {model : [] for model in models_list}\n",
    "    for test in test_cases:\n",
    "        print(f\"Running tests for query: {test['question']}\")\n",
    "        for model in models_list:\n",
    "            print(f\"Using model: {model}\")\n",
    "            llm = get_local_model(model=model)\n",
    "            results = run_evaluation([test], vector_store, llm, prompt)\n",
    "            results_for_models[model].append(results)\n",
    "        print(f\"Finished tests for model: {model}\\n\")\n",
    "        print(\"=\" * 50)\n",
    "        print(\"\\n\")\n",
    "    return results_for_models\n",
    "\n",
    "\n",
    "from statistics import mean, stdev\n",
    "from collections import defaultdict\n",
    "\n",
    "def analyze_model_results(model_results):\n",
    "    \"\"\"\n",
    "    Input: model_results - list (or list of lists) of dictionaries with keys:\n",
    "        'user_query', 'expected_answer', 'actual_answer', 'relevancy', 'recall', 'faithfulness', 'understanding'\n",
    "\n",
    "    Output:\n",
    "        - average score per metric\n",
    "        - pass rate per metric\n",
    "        - a unified list of examples (one per test case, includes all metrics)\n",
    "    \"\"\"\n",
    "\n",
    "    # Flatten if it's a list of lists\n",
    "    if any(isinstance(item, list) for item in model_results):\n",
    "        flat_results = [entry for sublist in model_results for entry in sublist]\n",
    "    else:\n",
    "        flat_results = model_results\n",
    "\n",
    "    metric_data = defaultdict(lambda: {\n",
    "        \"scores\": [],\n",
    "        \"successes\": 0,\n",
    "        \"total\": 0\n",
    "    })\n",
    "\n",
    "    unified_examples = []\n",
    "\n",
    "    for result in flat_results:\n",
    "        test_example = {\n",
    "            \"query\": result[\"user_query\"],\n",
    "            \"expected\": result[\"expected_answer\"],\n",
    "            \"actual\": result[\"actual_answer\"],\n",
    "            \"metrics\": {}\n",
    "        }\n",
    "\n",
    "        for metric_name in [\"relevancy\", \"recall\", \"faithfulness\", \"understanding\"]:\n",
    "            metric_entries = result.get(metric_name, [])\n",
    "            for entry in metric_entries:\n",
    "                name = entry[\"metric\"]\n",
    "                score = entry[\"score\"]\n",
    "                success = entry[\"success\"]\n",
    "                reason = entry.get(\"reason\", \"\")\n",
    "\n",
    "                # Track overall stats\n",
    "                metric_data[name][\"scores\"].append(score)\n",
    "                metric_data[name][\"total\"] += 1\n",
    "                if success:\n",
    "                    metric_data[name][\"successes\"] += 1\n",
    "\n",
    "                # Store this metric result under the test case\n",
    "                test_example[\"metrics\"][name] = {\n",
    "                    \"score\": score,\n",
    "                    \"success\": success,\n",
    "                    \"reason\": reason\n",
    "                }\n",
    "\n",
    "        unified_examples.append(test_example)\n",
    "\n",
    "    summary = {}\n",
    "    for metric, data in metric_data.items():\n",
    "        scores = data[\"scores\"]\n",
    "        summary[metric] = {\n",
    "            \"avg_score\": round(mean(scores), 3) if scores else None,\n",
    "            \"std_dev\": round(stdev(scores), 3) if len(scores) > 1 else 0.0,\n",
    "            \"pass_rate\": f\"{round((data['successes'] / data['total']) * 100, 1)}%\" if data[\"total\"] > 0 else \"N/A\",\n",
    "            \"total_cases\": data[\"total\"]\n",
    "        }\n",
    "\n",
    "    # Add unified examples only once\n",
    "    summary[\"examples\"] = unified_examples\n",
    "\n",
    "    return summary\n",
    "\n",
    "tests_list = load_test_cases(\"test_examples.json\")\n"
   ]
  },
  {
   "cell_type": "markdown",
   "id": "c500af28",
   "metadata": {},
   "source": []
  },
  {
   "cell_type": "code",
   "execution_count": 4,
   "id": "e58f7cb7",
   "metadata": {},
   "outputs": [
    {
     "name": "stdout",
     "output_type": "stream",
     "text": [
      "Running tests for query: Cât timp poate fi reținută o persoană înainte de a fi arestată?\n",
      "Using model: rollama3-8b-instruct\n"
     ]
    },
    {
     "data": {
      "text/html": [
       "<pre style=\"white-space:pre;overflow-x:auto;line-height:normal;font-family:Menlo,'DejaVu Sans Mono',consolas,'Courier New',monospace\">\n",
       "<span style=\"color: #05f58d; text-decoration-color: #05f58d\">✓</span> Tests finished 🎉! Run <span style=\"color: #008000; text-decoration-color: #008000; font-weight: bold\">'deepeval login'</span> to save and analyze evaluation results on Confident AI.\n",
       " \n",
       "✨👀 Looking for a place for your LLM test data to live 🏡❤️ ? Use <span style=\"color: #6a00ff; text-decoration-color: #6a00ff\">Confident AI</span> to get &amp; share testing reports, \n",
       "experiment with models/prompts, and catch regressions for your LLM system. Just run <span style=\"color: #008080; text-decoration-color: #008080\">'deepeval login'</span> in the CLI. \n",
       "\n",
       "</pre>\n"
      ],
      "text/plain": [
       "\n",
       "\u001b[38;2;5;245;141m✓\u001b[0m Tests finished 🎉! Run \u001b[1;32m'deepeval login'\u001b[0m to save and analyze evaluation results on Confident AI.\n",
       " \n",
       "✨👀 Looking for a place for your LLM test data to live 🏡❤️ ? Use \u001b[38;2;106;0;255mConfident AI\u001b[0m to get & share testing reports, \n",
       "experiment with models/prompts, and catch regressions for your LLM system. Just run \u001b[36m'deepeval login'\u001b[0m in the CLI. \n",
       "\n"
      ]
     },
     "metadata": {},
     "output_type": "display_data"
    },
    {
     "data": {
      "text/html": [
       "<pre style=\"white-space:pre;overflow-x:auto;line-height:normal;font-family:Menlo,'DejaVu Sans Mono',consolas,'Courier New',monospace\">\n",
       "<span style=\"color: #05f58d; text-decoration-color: #05f58d\">✓</span> Tests finished 🎉! Run <span style=\"color: #008000; text-decoration-color: #008000; font-weight: bold\">'deepeval login'</span> to save and analyze evaluation results on Confident AI.\n",
       " \n",
       "✨👀 Looking for a place for your LLM test data to live 🏡❤️ ? Use <span style=\"color: #6a00ff; text-decoration-color: #6a00ff\">Confident AI</span> to get &amp; share testing reports, \n",
       "experiment with models/prompts, and catch regressions for your LLM system. Just run <span style=\"color: #008080; text-decoration-color: #008080\">'deepeval login'</span> in the CLI. \n",
       "\n",
       "</pre>\n"
      ],
      "text/plain": [
       "\n",
       "\u001b[38;2;5;245;141m✓\u001b[0m Tests finished 🎉! Run \u001b[1;32m'deepeval login'\u001b[0m to save and analyze evaluation results on Confident AI.\n",
       " \n",
       "✨👀 Looking for a place for your LLM test data to live 🏡❤️ ? Use \u001b[38;2;106;0;255mConfident AI\u001b[0m to get & share testing reports, \n",
       "experiment with models/prompts, and catch regressions for your LLM system. Just run \u001b[36m'deepeval login'\u001b[0m in the CLI. \n",
       "\n"
      ]
     },
     "metadata": {},
     "output_type": "display_data"
    },
    {
     "data": {
      "text/html": [
       "<pre style=\"white-space:pre;overflow-x:auto;line-height:normal;font-family:Menlo,'DejaVu Sans Mono',consolas,'Courier New',monospace\">\n",
       "<span style=\"color: #05f58d; text-decoration-color: #05f58d\">✓</span> Tests finished 🎉! Run <span style=\"color: #008000; text-decoration-color: #008000; font-weight: bold\">'deepeval login'</span> to save and analyze evaluation results on Confident AI.\n",
       " \n",
       "✨👀 Looking for a place for your LLM test data to live 🏡❤️ ? Use <span style=\"color: #6a00ff; text-decoration-color: #6a00ff\">Confident AI</span> to get &amp; share testing reports, \n",
       "experiment with models/prompts, and catch regressions for your LLM system. Just run <span style=\"color: #008080; text-decoration-color: #008080\">'deepeval login'</span> in the CLI. \n",
       "\n",
       "</pre>\n"
      ],
      "text/plain": [
       "\n",
       "\u001b[38;2;5;245;141m✓\u001b[0m Tests finished 🎉! Run \u001b[1;32m'deepeval login'\u001b[0m to save and analyze evaluation results on Confident AI.\n",
       " \n",
       "✨👀 Looking for a place for your LLM test data to live 🏡❤️ ? Use \u001b[38;2;106;0;255mConfident AI\u001b[0m to get & share testing reports, \n",
       "experiment with models/prompts, and catch regressions for your LLM system. Just run \u001b[36m'deepeval login'\u001b[0m in the CLI. \n",
       "\n"
      ]
     },
     "metadata": {},
     "output_type": "display_data"
    },
    {
     "data": {
      "text/html": [
       "<pre style=\"white-space:pre;overflow-x:auto;line-height:normal;font-family:Menlo,'DejaVu Sans Mono',consolas,'Courier New',monospace\">\n",
       "<span style=\"color: #05f58d; text-decoration-color: #05f58d\">✓</span> Tests finished 🎉! Run <span style=\"color: #008000; text-decoration-color: #008000; font-weight: bold\">'deepeval login'</span> to save and analyze evaluation results on Confident AI.\n",
       " \n",
       "✨👀 Looking for a place for your LLM test data to live 🏡❤️ ? Use <span style=\"color: #6a00ff; text-decoration-color: #6a00ff\">Confident AI</span> to get &amp; share testing reports, \n",
       "experiment with models/prompts, and catch regressions for your LLM system. Just run <span style=\"color: #008080; text-decoration-color: #008080\">'deepeval login'</span> in the CLI. \n",
       "\n",
       "</pre>\n"
      ],
      "text/plain": [
       "\n",
       "\u001b[38;2;5;245;141m✓\u001b[0m Tests finished 🎉! Run \u001b[1;32m'deepeval login'\u001b[0m to save and analyze evaluation results on Confident AI.\n",
       " \n",
       "✨👀 Looking for a place for your LLM test data to live 🏡❤️ ? Use \u001b[38;2;106;0;255mConfident AI\u001b[0m to get & share testing reports, \n",
       "experiment with models/prompts, and catch regressions for your LLM system. Just run \u001b[36m'deepeval login'\u001b[0m in the CLI. \n",
       "\n"
      ]
     },
     "metadata": {},
     "output_type": "display_data"
    },
    {
     "name": "stdout",
     "output_type": "stream",
     "text": [
      "\n",
      "            Query: Cât timp poate fi reținută o persoană înainte de a fi arestată?\n",
      "            Expected: Reținerea nu poate depăși 24 de ore. După acest termen, persoana trebuie eliberată sau arestată preventiv prin decizia unui judecător.\n",
      "            Actual: Potrivit legilor românești, o persoană poate fi reținută timp de până la 30 de zile. Acest lucru se poate prelungi cu încă 30 de zile, dar nu mai mult de 180 de zile.\n",
      "            Relevancy Score: [{'metric': 'Answer Relevancy', 'success': True, 'score': 1.0, 'reason': 'The score is 1.00 because the response is perfectly relevant and directly addresses the question about the duration a person can be detained before being arrested. Great job on providing a clear and concise answer!'}]\n",
      "            Recall Score: [{'metric': 'Contextual Recall', 'success': True, 'score': 1.0, 'reason': 'The score is 1.00 because every sentence in the expected output is perfectly aligned with the nodes in the retrieval context, ensuring complete accuracy and relevance. Great job!'}]\n",
      "            Faithfulness Score: [{'metric': 'Faithfulness', 'success': False, 'score': 0.0, 'reason': 'The score is 0.00 because the actual output incorrectly states that reținerea (detention) can last for 30 days and that it can be extended for another 30 days, contradicting the retrieval context which clearly states that detention cannot exceed 24 hours.'}]\n",
      "            Understanding Score: [{'metric': 'Understanding (GEval)', 'success': False, 'score': 0.2619911693651972, 'reason': 'The actual output provides a legal timeframe of up to 30 days, which is misleading compared to the expected output stating a maximum of 24 hours, making it unclear for a layperson.'}]\n",
      "            \n",
      "Using model: rollama2-7b-instruct\n"
     ]
    },
    {
     "data": {
      "text/html": [
       "<pre style=\"white-space:pre;overflow-x:auto;line-height:normal;font-family:Menlo,'DejaVu Sans Mono',consolas,'Courier New',monospace\">\n",
       "<span style=\"color: #05f58d; text-decoration-color: #05f58d\">✓</span> Tests finished 🎉! Run <span style=\"color: #008000; text-decoration-color: #008000; font-weight: bold\">'deepeval login'</span> to save and analyze evaluation results on Confident AI.\n",
       " \n",
       "✨👀 Looking for a place for your LLM test data to live 🏡❤️ ? Use <span style=\"color: #6a00ff; text-decoration-color: #6a00ff\">Confident AI</span> to get &amp; share testing reports, \n",
       "experiment with models/prompts, and catch regressions for your LLM system. Just run <span style=\"color: #008080; text-decoration-color: #008080\">'deepeval login'</span> in the CLI. \n",
       "\n",
       "</pre>\n"
      ],
      "text/plain": [
       "\n",
       "\u001b[38;2;5;245;141m✓\u001b[0m Tests finished 🎉! Run \u001b[1;32m'deepeval login'\u001b[0m to save and analyze evaluation results on Confident AI.\n",
       " \n",
       "✨👀 Looking for a place for your LLM test data to live 🏡❤️ ? Use \u001b[38;2;106;0;255mConfident AI\u001b[0m to get & share testing reports, \n",
       "experiment with models/prompts, and catch regressions for your LLM system. Just run \u001b[36m'deepeval login'\u001b[0m in the CLI. \n",
       "\n"
      ]
     },
     "metadata": {},
     "output_type": "display_data"
    },
    {
     "data": {
      "text/html": [
       "<pre style=\"white-space:pre;overflow-x:auto;line-height:normal;font-family:Menlo,'DejaVu Sans Mono',consolas,'Courier New',monospace\">\n",
       "<span style=\"color: #05f58d; text-decoration-color: #05f58d\">✓</span> Tests finished 🎉! Run <span style=\"color: #008000; text-decoration-color: #008000; font-weight: bold\">'deepeval login'</span> to save and analyze evaluation results on Confident AI.\n",
       " \n",
       "✨👀 Looking for a place for your LLM test data to live 🏡❤️ ? Use <span style=\"color: #6a00ff; text-decoration-color: #6a00ff\">Confident AI</span> to get &amp; share testing reports, \n",
       "experiment with models/prompts, and catch regressions for your LLM system. Just run <span style=\"color: #008080; text-decoration-color: #008080\">'deepeval login'</span> in the CLI. \n",
       "\n",
       "</pre>\n"
      ],
      "text/plain": [
       "\n",
       "\u001b[38;2;5;245;141m✓\u001b[0m Tests finished 🎉! Run \u001b[1;32m'deepeval login'\u001b[0m to save and analyze evaluation results on Confident AI.\n",
       " \n",
       "✨👀 Looking for a place for your LLM test data to live 🏡❤️ ? Use \u001b[38;2;106;0;255mConfident AI\u001b[0m to get & share testing reports, \n",
       "experiment with models/prompts, and catch regressions for your LLM system. Just run \u001b[36m'deepeval login'\u001b[0m in the CLI. \n",
       "\n"
      ]
     },
     "metadata": {},
     "output_type": "display_data"
    },
    {
     "data": {
      "text/html": [
       "<pre style=\"white-space:pre;overflow-x:auto;line-height:normal;font-family:Menlo,'DejaVu Sans Mono',consolas,'Courier New',monospace\">\n",
       "<span style=\"color: #05f58d; text-decoration-color: #05f58d\">✓</span> Tests finished 🎉! Run <span style=\"color: #008000; text-decoration-color: #008000; font-weight: bold\">'deepeval login'</span> to save and analyze evaluation results on Confident AI.\n",
       " \n",
       "✨👀 Looking for a place for your LLM test data to live 🏡❤️ ? Use <span style=\"color: #6a00ff; text-decoration-color: #6a00ff\">Confident AI</span> to get &amp; share testing reports, \n",
       "experiment with models/prompts, and catch regressions for your LLM system. Just run <span style=\"color: #008080; text-decoration-color: #008080\">'deepeval login'</span> in the CLI. \n",
       "\n",
       "</pre>\n"
      ],
      "text/plain": [
       "\n",
       "\u001b[38;2;5;245;141m✓\u001b[0m Tests finished 🎉! Run \u001b[1;32m'deepeval login'\u001b[0m to save and analyze evaluation results on Confident AI.\n",
       " \n",
       "✨👀 Looking for a place for your LLM test data to live 🏡❤️ ? Use \u001b[38;2;106;0;255mConfident AI\u001b[0m to get & share testing reports, \n",
       "experiment with models/prompts, and catch regressions for your LLM system. Just run \u001b[36m'deepeval login'\u001b[0m in the CLI. \n",
       "\n"
      ]
     },
     "metadata": {},
     "output_type": "display_data"
    },
    {
     "data": {
      "text/html": [
       "<pre style=\"white-space:pre;overflow-x:auto;line-height:normal;font-family:Menlo,'DejaVu Sans Mono',consolas,'Courier New',monospace\">\n",
       "<span style=\"color: #05f58d; text-decoration-color: #05f58d\">✓</span> Tests finished 🎉! Run <span style=\"color: #008000; text-decoration-color: #008000; font-weight: bold\">'deepeval login'</span> to save and analyze evaluation results on Confident AI.\n",
       " \n",
       "✨👀 Looking for a place for your LLM test data to live 🏡❤️ ? Use <span style=\"color: #6a00ff; text-decoration-color: #6a00ff\">Confident AI</span> to get &amp; share testing reports, \n",
       "experiment with models/prompts, and catch regressions for your LLM system. Just run <span style=\"color: #008080; text-decoration-color: #008080\">'deepeval login'</span> in the CLI. \n",
       "\n",
       "</pre>\n"
      ],
      "text/plain": [
       "\n",
       "\u001b[38;2;5;245;141m✓\u001b[0m Tests finished 🎉! Run \u001b[1;32m'deepeval login'\u001b[0m to save and analyze evaluation results on Confident AI.\n",
       " \n",
       "✨👀 Looking for a place for your LLM test data to live 🏡❤️ ? Use \u001b[38;2;106;0;255mConfident AI\u001b[0m to get & share testing reports, \n",
       "experiment with models/prompts, and catch regressions for your LLM system. Just run \u001b[36m'deepeval login'\u001b[0m in the CLI. \n",
       "\n"
      ]
     },
     "metadata": {},
     "output_type": "display_data"
    },
    {
     "name": "stdout",
     "output_type": "stream",
     "text": [
      "\n",
      "            Query: Cât timp poate fi reținută o persoană înainte de a fi arestată?\n",
      "            Expected: Reținerea nu poate depăși 24 de ore. După acest termen, persoana trebuie eliberată sau arestată preventiv prin decizia unui judecător.\n",
      "            Actual: Pentru o perioadă maximă de 24 de ore, persoana poate fi reținută sau arestată preventiv. Cu toate acestea, dacă motivele care au dus la reținerea lor nu mai există, ele vor fi eliberate. Acesta este un principiu legal bine stabilit, care asigură faptul că persoanele nu sunt ținute în detenție pentru o perioadă indefinită. \n",
      "            Relevancy Score: [{'metric': 'Answer Relevancy', 'success': True, 'score': 0.75, 'reason': \"The score is 0.75 because the response partially addresses the question about the duration a person can be held before arrest. However, it includes a statement about a legal principle that doesn't directly answer the question, which slightly detracts from its relevance.\"}]\n",
      "            Recall Score: [{'metric': 'Contextual Recall', 'success': True, 'score': 1.0, 'reason': 'The score is 1.00 because every sentence in the expected output is perfectly aligned with the nodes in the retrieval context, ensuring complete accuracy and relevance. Great job!'}]\n",
      "            Faithfulness Score: [{'metric': 'Faithfulness', 'success': False, 'score': 0.6666666666666666, 'reason': 'The score is 0.67 because the actual output inaccurately states that a person can be detained for a maximum of 24 hours, while the retrieval context clarifies that detention cannot exceed 24 hours, indicating a subtle but significant difference in phrasing.'}]\n",
      "            Understanding Score: [{'metric': 'Understanding (GEval)', 'success': False, 'score': 0.6292728958821319, 'reason': 'While the actual output provides some clarity on the detention period, it lacks the concise and direct nature of the expected output, making it less accessible for someone without legal knowledge.'}]\n",
      "            \n",
      "Finished tests for model: rollama2-7b-instruct\n",
      "\n",
      "==================================================\n",
      "\n",
      "\n",
      "Running tests for query: Care sunt drepturile cetățeanului român?\n",
      "Using model: rollama3-8b-instruct\n"
     ]
    },
    {
     "data": {
      "text/html": [
       "<pre style=\"white-space:pre;overflow-x:auto;line-height:normal;font-family:Menlo,'DejaVu Sans Mono',consolas,'Courier New',monospace\">\n",
       "<span style=\"color: #05f58d; text-decoration-color: #05f58d\">✓</span> Tests finished 🎉! Run <span style=\"color: #008000; text-decoration-color: #008000; font-weight: bold\">'deepeval login'</span> to save and analyze evaluation results on Confident AI.\n",
       " \n",
       "✨👀 Looking for a place for your LLM test data to live 🏡❤️ ? Use <span style=\"color: #6a00ff; text-decoration-color: #6a00ff\">Confident AI</span> to get &amp; share testing reports, \n",
       "experiment with models/prompts, and catch regressions for your LLM system. Just run <span style=\"color: #008080; text-decoration-color: #008080\">'deepeval login'</span> in the CLI. \n",
       "\n",
       "</pre>\n"
      ],
      "text/plain": [
       "\n",
       "\u001b[38;2;5;245;141m✓\u001b[0m Tests finished 🎉! Run \u001b[1;32m'deepeval login'\u001b[0m to save and analyze evaluation results on Confident AI.\n",
       " \n",
       "✨👀 Looking for a place for your LLM test data to live 🏡❤️ ? Use \u001b[38;2;106;0;255mConfident AI\u001b[0m to get & share testing reports, \n",
       "experiment with models/prompts, and catch regressions for your LLM system. Just run \u001b[36m'deepeval login'\u001b[0m in the CLI. \n",
       "\n"
      ]
     },
     "metadata": {},
     "output_type": "display_data"
    },
    {
     "data": {
      "text/html": [
       "<pre style=\"white-space:pre;overflow-x:auto;line-height:normal;font-family:Menlo,'DejaVu Sans Mono',consolas,'Courier New',monospace\">\n",
       "<span style=\"color: #05f58d; text-decoration-color: #05f58d\">✓</span> Tests finished 🎉! Run <span style=\"color: #008000; text-decoration-color: #008000; font-weight: bold\">'deepeval login'</span> to save and analyze evaluation results on Confident AI.\n",
       " \n",
       "✨👀 Looking for a place for your LLM test data to live 🏡❤️ ? Use <span style=\"color: #6a00ff; text-decoration-color: #6a00ff\">Confident AI</span> to get &amp; share testing reports, \n",
       "experiment with models/prompts, and catch regressions for your LLM system. Just run <span style=\"color: #008080; text-decoration-color: #008080\">'deepeval login'</span> in the CLI. \n",
       "\n",
       "</pre>\n"
      ],
      "text/plain": [
       "\n",
       "\u001b[38;2;5;245;141m✓\u001b[0m Tests finished 🎉! Run \u001b[1;32m'deepeval login'\u001b[0m to save and analyze evaluation results on Confident AI.\n",
       " \n",
       "✨👀 Looking for a place for your LLM test data to live 🏡❤️ ? Use \u001b[38;2;106;0;255mConfident AI\u001b[0m to get & share testing reports, \n",
       "experiment with models/prompts, and catch regressions for your LLM system. Just run \u001b[36m'deepeval login'\u001b[0m in the CLI. \n",
       "\n"
      ]
     },
     "metadata": {},
     "output_type": "display_data"
    },
    {
     "data": {
      "text/html": [
       "<pre style=\"white-space:pre;overflow-x:auto;line-height:normal;font-family:Menlo,'DejaVu Sans Mono',consolas,'Courier New',monospace\">\n",
       "<span style=\"color: #05f58d; text-decoration-color: #05f58d\">✓</span> Tests finished 🎉! Run <span style=\"color: #008000; text-decoration-color: #008000; font-weight: bold\">'deepeval login'</span> to save and analyze evaluation results on Confident AI.\n",
       " \n",
       "✨👀 Looking for a place for your LLM test data to live 🏡❤️ ? Use <span style=\"color: #6a00ff; text-decoration-color: #6a00ff\">Confident AI</span> to get &amp; share testing reports, \n",
       "experiment with models/prompts, and catch regressions for your LLM system. Just run <span style=\"color: #008080; text-decoration-color: #008080\">'deepeval login'</span> in the CLI. \n",
       "\n",
       "</pre>\n"
      ],
      "text/plain": [
       "\n",
       "\u001b[38;2;5;245;141m✓\u001b[0m Tests finished 🎉! Run \u001b[1;32m'deepeval login'\u001b[0m to save and analyze evaluation results on Confident AI.\n",
       " \n",
       "✨👀 Looking for a place for your LLM test data to live 🏡❤️ ? Use \u001b[38;2;106;0;255mConfident AI\u001b[0m to get & share testing reports, \n",
       "experiment with models/prompts, and catch regressions for your LLM system. Just run \u001b[36m'deepeval login'\u001b[0m in the CLI. \n",
       "\n"
      ]
     },
     "metadata": {},
     "output_type": "display_data"
    },
    {
     "data": {
      "text/html": [
       "<pre style=\"white-space:pre;overflow-x:auto;line-height:normal;font-family:Menlo,'DejaVu Sans Mono',consolas,'Courier New',monospace\">\n",
       "<span style=\"color: #05f58d; text-decoration-color: #05f58d\">✓</span> Tests finished 🎉! Run <span style=\"color: #008000; text-decoration-color: #008000; font-weight: bold\">'deepeval login'</span> to save and analyze evaluation results on Confident AI.\n",
       " \n",
       "✨👀 Looking for a place for your LLM test data to live 🏡❤️ ? Use <span style=\"color: #6a00ff; text-decoration-color: #6a00ff\">Confident AI</span> to get &amp; share testing reports, \n",
       "experiment with models/prompts, and catch regressions for your LLM system. Just run <span style=\"color: #008080; text-decoration-color: #008080\">'deepeval login'</span> in the CLI. \n",
       "\n",
       "</pre>\n"
      ],
      "text/plain": [
       "\n",
       "\u001b[38;2;5;245;141m✓\u001b[0m Tests finished 🎉! Run \u001b[1;32m'deepeval login'\u001b[0m to save and analyze evaluation results on Confident AI.\n",
       " \n",
       "✨👀 Looking for a place for your LLM test data to live 🏡❤️ ? Use \u001b[38;2;106;0;255mConfident AI\u001b[0m to get & share testing reports, \n",
       "experiment with models/prompts, and catch regressions for your LLM system. Just run \u001b[36m'deepeval login'\u001b[0m in the CLI. \n",
       "\n"
      ]
     },
     "metadata": {},
     "output_type": "display_data"
    },
    {
     "name": "stdout",
     "output_type": "stream",
     "text": [
      "\n",
      "            Query: Care sunt drepturile cetățeanului român?\n",
      "            Expected: Cetățeanul român beneficiază de drepturi și libertăți fundamentale în toate domeniile vieții. Drepturile civile și politice includ dreptul la viață, libertatea individuală, dreptul la apărare, dreptul de vot de la 18 ani și eligibilitatea pentru funcții publice. Libertățile fundamentale cuprind libertatea gândirii și credinței religioase, libertatea de exprimare, dreptul la informație și dreptul de asociere în partide și sindicate. Drepturile economice și sociale garantează munca liber aleasă, greva, proprietatea privată, moștenirea, pensia și asistența medicală. În plus, cetățenii au dreptul la învățătură, acces la cultură, un mediu sănătos și protecția statului în străinătate.\n",
      "            Actual: Cetățenilor români li se acordă următoarele drepturi:\n",
      "\n",
      "- Ei sunt egali în fața legii și a autorităților publice, fără privilegii și fără discriminare (Art. 21 alineatul (1))\n",
      "- Nimeni nu este mai presus de lege (Articolul 21 din Constituția României)\n",
      "- Funcțiile și demnitățile publice, civile sau militare pot fi ocupate în condițiile legii de persoanele care au cetățenia română și domiciliul în țară. Statul român garantează egalitatea de șanse între femei și bărbați pentru ocuparea acestor funcții și demnități (Articolul 21 alineatul (3) din Constituția României)\n",
      "\n",
      "Dispozițiile constituționale privitoare la drepturile și libertățile cetățenilor sunt interpretate și aplicate în conformitate cu Declarația Universală de la ONU a Drepturilor Omului, cu Pactele și cu alte tratate la care România este parte. Dacă există neconcordanțe între pacte și tratate privitoare la drepturile fundamentale ale omului, la care România este parte, și legile interne, acestea din următoarea reglementare internațională vor avea prioritate față de dispozițiile interne. Cetățenii români au acces liber la justiție (Articolul 23 alineatul (1) și Articolul 24 din Constituția României).\n",
      "            Relevancy Score: [{'metric': 'Answer Relevancy', 'success': True, 'score': 1.0, 'reason': 'The score is 1.00 because the response perfectly addresses the question about the rights of a Romanian citizen without any irrelevant information. Great job on staying focused and relevant!'}]\n",
      "            Recall Score: [{'metric': 'Contextual Recall', 'success': False, 'score': 0.4, 'reason': 'The score is 0.40 because while the 1st and 2nd nodes in the retrieval context align with the fundamental rights and voting rights mentioned in sentences 1 and 2 of the expected output, there is a lack of specific references in the retrieval context for the freedoms of thought, expression, and economic rights detailed in sentences 3 and 4.'}]\n",
      "            Faithfulness Score: [{'metric': 'Faithfulness', 'success': True, 'score': 1.0, 'reason': 'The score is 1.00 because there are no contradictions present, indicating that the actual output perfectly aligns with the retrieval context.'}]\n",
      "            Understanding Score: [{'metric': 'Understanding (GEval)', 'success': False, 'score': 0.42264138581534844, 'reason': 'While the actual output lists some rights, it is overly legalistic and lacks clarity for someone without legal knowledge, making it difficult for users to understand their rights and obligations.'}]\n",
      "            \n",
      "Using model: rollama2-7b-instruct\n"
     ]
    },
    {
     "data": {
      "text/html": [
       "<pre style=\"white-space:pre;overflow-x:auto;line-height:normal;font-family:Menlo,'DejaVu Sans Mono',consolas,'Courier New',monospace\">\n",
       "<span style=\"color: #05f58d; text-decoration-color: #05f58d\">✓</span> Tests finished 🎉! Run <span style=\"color: #008000; text-decoration-color: #008000; font-weight: bold\">'deepeval login'</span> to save and analyze evaluation results on Confident AI.\n",
       " \n",
       "✨👀 Looking for a place for your LLM test data to live 🏡❤️ ? Use <span style=\"color: #6a00ff; text-decoration-color: #6a00ff\">Confident AI</span> to get &amp; share testing reports, \n",
       "experiment with models/prompts, and catch regressions for your LLM system. Just run <span style=\"color: #008080; text-decoration-color: #008080\">'deepeval login'</span> in the CLI. \n",
       "\n",
       "</pre>\n"
      ],
      "text/plain": [
       "\n",
       "\u001b[38;2;5;245;141m✓\u001b[0m Tests finished 🎉! Run \u001b[1;32m'deepeval login'\u001b[0m to save and analyze evaluation results on Confident AI.\n",
       " \n",
       "✨👀 Looking for a place for your LLM test data to live 🏡❤️ ? Use \u001b[38;2;106;0;255mConfident AI\u001b[0m to get & share testing reports, \n",
       "experiment with models/prompts, and catch regressions for your LLM system. Just run \u001b[36m'deepeval login'\u001b[0m in the CLI. \n",
       "\n"
      ]
     },
     "metadata": {},
     "output_type": "display_data"
    },
    {
     "data": {
      "text/html": [
       "<pre style=\"white-space:pre;overflow-x:auto;line-height:normal;font-family:Menlo,'DejaVu Sans Mono',consolas,'Courier New',monospace\">\n",
       "<span style=\"color: #05f58d; text-decoration-color: #05f58d\">✓</span> Tests finished 🎉! Run <span style=\"color: #008000; text-decoration-color: #008000; font-weight: bold\">'deepeval login'</span> to save and analyze evaluation results on Confident AI.\n",
       " \n",
       "✨👀 Looking for a place for your LLM test data to live 🏡❤️ ? Use <span style=\"color: #6a00ff; text-decoration-color: #6a00ff\">Confident AI</span> to get &amp; share testing reports, \n",
       "experiment with models/prompts, and catch regressions for your LLM system. Just run <span style=\"color: #008080; text-decoration-color: #008080\">'deepeval login'</span> in the CLI. \n",
       "\n",
       "</pre>\n"
      ],
      "text/plain": [
       "\n",
       "\u001b[38;2;5;245;141m✓\u001b[0m Tests finished 🎉! Run \u001b[1;32m'deepeval login'\u001b[0m to save and analyze evaluation results on Confident AI.\n",
       " \n",
       "✨👀 Looking for a place for your LLM test data to live 🏡❤️ ? Use \u001b[38;2;106;0;255mConfident AI\u001b[0m to get & share testing reports, \n",
       "experiment with models/prompts, and catch regressions for your LLM system. Just run \u001b[36m'deepeval login'\u001b[0m in the CLI. \n",
       "\n"
      ]
     },
     "metadata": {},
     "output_type": "display_data"
    },
    {
     "data": {
      "text/html": [
       "<pre style=\"white-space:pre;overflow-x:auto;line-height:normal;font-family:Menlo,'DejaVu Sans Mono',consolas,'Courier New',monospace\">\n",
       "<span style=\"color: #05f58d; text-decoration-color: #05f58d\">✓</span> Tests finished 🎉! Run <span style=\"color: #008000; text-decoration-color: #008000; font-weight: bold\">'deepeval login'</span> to save and analyze evaluation results on Confident AI.\n",
       " \n",
       "✨👀 Looking for a place for your LLM test data to live 🏡❤️ ? Use <span style=\"color: #6a00ff; text-decoration-color: #6a00ff\">Confident AI</span> to get &amp; share testing reports, \n",
       "experiment with models/prompts, and catch regressions for your LLM system. Just run <span style=\"color: #008080; text-decoration-color: #008080\">'deepeval login'</span> in the CLI. \n",
       "\n",
       "</pre>\n"
      ],
      "text/plain": [
       "\n",
       "\u001b[38;2;5;245;141m✓\u001b[0m Tests finished 🎉! Run \u001b[1;32m'deepeval login'\u001b[0m to save and analyze evaluation results on Confident AI.\n",
       " \n",
       "✨👀 Looking for a place for your LLM test data to live 🏡❤️ ? Use \u001b[38;2;106;0;255mConfident AI\u001b[0m to get & share testing reports, \n",
       "experiment with models/prompts, and catch regressions for your LLM system. Just run \u001b[36m'deepeval login'\u001b[0m in the CLI. \n",
       "\n"
      ]
     },
     "metadata": {},
     "output_type": "display_data"
    },
    {
     "data": {
      "text/html": [
       "<pre style=\"white-space:pre;overflow-x:auto;line-height:normal;font-family:Menlo,'DejaVu Sans Mono',consolas,'Courier New',monospace\">\n",
       "<span style=\"color: #05f58d; text-decoration-color: #05f58d\">✓</span> Tests finished 🎉! Run <span style=\"color: #008000; text-decoration-color: #008000; font-weight: bold\">'deepeval login'</span> to save and analyze evaluation results on Confident AI.\n",
       " \n",
       "✨👀 Looking for a place for your LLM test data to live 🏡❤️ ? Use <span style=\"color: #6a00ff; text-decoration-color: #6a00ff\">Confident AI</span> to get &amp; share testing reports, \n",
       "experiment with models/prompts, and catch regressions for your LLM system. Just run <span style=\"color: #008080; text-decoration-color: #008080\">'deepeval login'</span> in the CLI. \n",
       "\n",
       "</pre>\n"
      ],
      "text/plain": [
       "\n",
       "\u001b[38;2;5;245;141m✓\u001b[0m Tests finished 🎉! Run \u001b[1;32m'deepeval login'\u001b[0m to save and analyze evaluation results on Confident AI.\n",
       " \n",
       "✨👀 Looking for a place for your LLM test data to live 🏡❤️ ? Use \u001b[38;2;106;0;255mConfident AI\u001b[0m to get & share testing reports, \n",
       "experiment with models/prompts, and catch regressions for your LLM system. Just run \u001b[36m'deepeval login'\u001b[0m in the CLI. \n",
       "\n"
      ]
     },
     "metadata": {},
     "output_type": "display_data"
    },
    {
     "name": "stdout",
     "output_type": "stream",
     "text": [
      "\n",
      "            Query: Care sunt drepturile cetățeanului român?\n",
      "            Expected: Cetățeanul român beneficiază de drepturi și libertăți fundamentale în toate domeniile vieții. Drepturile civile și politice includ dreptul la viață, libertatea individuală, dreptul la apărare, dreptul de vot de la 18 ani și eligibilitatea pentru funcții publice. Libertățile fundamentale cuprind libertatea gândirii și credinței religioase, libertatea de exprimare, dreptul la informație și dreptul de asociere în partide și sindicate. Drepturile economice și sociale garantează munca liber aleasă, greva, proprietatea privată, moștenirea, pensia și asistența medicală. În plus, cetățenii au dreptul la învățătură, acces la cultură, un mediu sănătos și protecția statului în străinătate.\n",
      "            Actual: \n",
      "Cetățenii români au următoarele drepturi:\n",
      "\n",
      "1. Egalitatea de șanse în fața legii: Aceasta înseamnă că fiecare persoană, indiferent de sex sau rasă, are posibilitatea de a-și atinge potențialul maxim și de a reuși în viață.\n",
      "2. Drepturile fundamentale ale omului: Acestea includ drepturi precum libertatea de exprimare, libertatea religioasă, protecția împotriva discriminării și tratamentului nedrept și dreptul la viață privată.\n",
      "3. Acces liber la justiție: Cetățenii pot adresa plângerile sau revendicările lor în fața instanțelor de judecată și a altor autorități de aplicare a legii. \n",
      "            Relevancy Score: [{'metric': 'Answer Relevancy', 'success': True, 'score': 1.0, 'reason': 'The score is 1.00 because the response perfectly addresses the question about the rights of a Romanian citizen without any irrelevant information. Great job on staying focused and relevant!'}]\n",
      "            Recall Score: [{'metric': 'Contextual Recall', 'success': False, 'score': 0.4, 'reason': \"The score is 0.40 because while the 3rd node in the retrieval context supports the mention of 'drepturi și libertăți fundamentale' and the 2nd node aligns with 'dreptul de vot de la 18 ani și eligibilitatea pentru funcții publice', there is a lack of specific references to 'libertatea gândirii și credinței religioase', 'drepturile economice și sociale', and 'dreptul la învățătură' in the retrieval context.\"}]\n",
      "            Faithfulness Score: [{'metric': 'Faithfulness', 'success': True, 'score': 1.0, 'reason': 'The score is 1.00 because there are no contradictions present, indicating that the actual output perfectly aligns with the retrieval context.'}]\n",
      "            Understanding Score: [{'metric': 'Understanding (GEval)', 'success': False, 'score': 0.5152884173060204, 'reason': 'While the actual output lists some rights of Romanian citizens, it lacks clarity and comprehensiveness compared to the expected output, which provides a more detailed and accessible overview of rights and freedoms.'}]\n",
      "            \n",
      "Finished tests for model: rollama2-7b-instruct\n",
      "\n",
      "==================================================\n",
      "\n",
      "\n",
      "Running tests for query: Ce obligație are angajatorul înainte de încheierea contractului individual de muncă?\n",
      "Using model: rollama3-8b-instruct\n"
     ]
    },
    {
     "data": {
      "text/html": [
       "<pre style=\"white-space:pre;overflow-x:auto;line-height:normal;font-family:Menlo,'DejaVu Sans Mono',consolas,'Courier New',monospace\">\n",
       "<span style=\"color: #05f58d; text-decoration-color: #05f58d\">✓</span> Tests finished 🎉! Run <span style=\"color: #008000; text-decoration-color: #008000; font-weight: bold\">'deepeval login'</span> to save and analyze evaluation results on Confident AI.\n",
       " \n",
       "✨👀 Looking for a place for your LLM test data to live 🏡❤️ ? Use <span style=\"color: #6a00ff; text-decoration-color: #6a00ff\">Confident AI</span> to get &amp; share testing reports, \n",
       "experiment with models/prompts, and catch regressions for your LLM system. Just run <span style=\"color: #008080; text-decoration-color: #008080\">'deepeval login'</span> in the CLI. \n",
       "\n",
       "</pre>\n"
      ],
      "text/plain": [
       "\n",
       "\u001b[38;2;5;245;141m✓\u001b[0m Tests finished 🎉! Run \u001b[1;32m'deepeval login'\u001b[0m to save and analyze evaluation results on Confident AI.\n",
       " \n",
       "✨👀 Looking for a place for your LLM test data to live 🏡❤️ ? Use \u001b[38;2;106;0;255mConfident AI\u001b[0m to get & share testing reports, \n",
       "experiment with models/prompts, and catch regressions for your LLM system. Just run \u001b[36m'deepeval login'\u001b[0m in the CLI. \n",
       "\n"
      ]
     },
     "metadata": {},
     "output_type": "display_data"
    },
    {
     "data": {
      "text/html": [
       "<pre style=\"white-space:pre;overflow-x:auto;line-height:normal;font-family:Menlo,'DejaVu Sans Mono',consolas,'Courier New',monospace\">\n",
       "<span style=\"color: #05f58d; text-decoration-color: #05f58d\">✓</span> Tests finished 🎉! Run <span style=\"color: #008000; text-decoration-color: #008000; font-weight: bold\">'deepeval login'</span> to save and analyze evaluation results on Confident AI.\n",
       " \n",
       "✨👀 Looking for a place for your LLM test data to live 🏡❤️ ? Use <span style=\"color: #6a00ff; text-decoration-color: #6a00ff\">Confident AI</span> to get &amp; share testing reports, \n",
       "experiment with models/prompts, and catch regressions for your LLM system. Just run <span style=\"color: #008080; text-decoration-color: #008080\">'deepeval login'</span> in the CLI. \n",
       "\n",
       "</pre>\n"
      ],
      "text/plain": [
       "\n",
       "\u001b[38;2;5;245;141m✓\u001b[0m Tests finished 🎉! Run \u001b[1;32m'deepeval login'\u001b[0m to save and analyze evaluation results on Confident AI.\n",
       " \n",
       "✨👀 Looking for a place for your LLM test data to live 🏡❤️ ? Use \u001b[38;2;106;0;255mConfident AI\u001b[0m to get & share testing reports, \n",
       "experiment with models/prompts, and catch regressions for your LLM system. Just run \u001b[36m'deepeval login'\u001b[0m in the CLI. \n",
       "\n"
      ]
     },
     "metadata": {},
     "output_type": "display_data"
    },
    {
     "data": {
      "text/html": [
       "<pre style=\"white-space:pre;overflow-x:auto;line-height:normal;font-family:Menlo,'DejaVu Sans Mono',consolas,'Courier New',monospace\">\n",
       "<span style=\"color: #05f58d; text-decoration-color: #05f58d\">✓</span> Tests finished 🎉! Run <span style=\"color: #008000; text-decoration-color: #008000; font-weight: bold\">'deepeval login'</span> to save and analyze evaluation results on Confident AI.\n",
       " \n",
       "✨👀 Looking for a place for your LLM test data to live 🏡❤️ ? Use <span style=\"color: #6a00ff; text-decoration-color: #6a00ff\">Confident AI</span> to get &amp; share testing reports, \n",
       "experiment with models/prompts, and catch regressions for your LLM system. Just run <span style=\"color: #008080; text-decoration-color: #008080\">'deepeval login'</span> in the CLI. \n",
       "\n",
       "</pre>\n"
      ],
      "text/plain": [
       "\n",
       "\u001b[38;2;5;245;141m✓\u001b[0m Tests finished 🎉! Run \u001b[1;32m'deepeval login'\u001b[0m to save and analyze evaluation results on Confident AI.\n",
       " \n",
       "✨👀 Looking for a place for your LLM test data to live 🏡❤️ ? Use \u001b[38;2;106;0;255mConfident AI\u001b[0m to get & share testing reports, \n",
       "experiment with models/prompts, and catch regressions for your LLM system. Just run \u001b[36m'deepeval login'\u001b[0m in the CLI. \n",
       "\n"
      ]
     },
     "metadata": {},
     "output_type": "display_data"
    },
    {
     "data": {
      "text/html": [
       "<pre style=\"white-space:pre;overflow-x:auto;line-height:normal;font-family:Menlo,'DejaVu Sans Mono',consolas,'Courier New',monospace\">\n",
       "<span style=\"color: #05f58d; text-decoration-color: #05f58d\">✓</span> Tests finished 🎉! Run <span style=\"color: #008000; text-decoration-color: #008000; font-weight: bold\">'deepeval login'</span> to save and analyze evaluation results on Confident AI.\n",
       " \n",
       "✨👀 Looking for a place for your LLM test data to live 🏡❤️ ? Use <span style=\"color: #6a00ff; text-decoration-color: #6a00ff\">Confident AI</span> to get &amp; share testing reports, \n",
       "experiment with models/prompts, and catch regressions for your LLM system. Just run <span style=\"color: #008080; text-decoration-color: #008080\">'deepeval login'</span> in the CLI. \n",
       "\n",
       "</pre>\n"
      ],
      "text/plain": [
       "\n",
       "\u001b[38;2;5;245;141m✓\u001b[0m Tests finished 🎉! Run \u001b[1;32m'deepeval login'\u001b[0m to save and analyze evaluation results on Confident AI.\n",
       " \n",
       "✨👀 Looking for a place for your LLM test data to live 🏡❤️ ? Use \u001b[38;2;106;0;255mConfident AI\u001b[0m to get & share testing reports, \n",
       "experiment with models/prompts, and catch regressions for your LLM system. Just run \u001b[36m'deepeval login'\u001b[0m in the CLI. \n",
       "\n"
      ]
     },
     "metadata": {},
     "output_type": "display_data"
    },
    {
     "name": "stdout",
     "output_type": "stream",
     "text": [
      "\n",
      "            Query: Ce obligație are angajatorul înainte de încheierea contractului individual de muncă?\n",
      "            Expected: Anterior încheierii sau modificării contractului individual de muncă, angajatorul are obligația de a informa persoana selectată în vederea angajării cu privire la clauzele esențiale pe care intenționează să le înscrie în contract sau să le modifice.\n",
      "            Actual: Înainte ca un angajator să semneze sau să modifice contractul individual de muncă, angajatorul este obligat să informeze persoana selectată pentru angajare (sau salariatul) cu privire la clauzele esențiale pe care intenționează să le introducă în contract. Acestea includ: identitatea părților, locul de muncă sau condițiile de desfășurare a activității, sediul angajatorului (sau domiciliu), funcția/ocupația salariatului conform Clasificării ocupațiilor din România și a fișei postului, criteriile de evaluare profesională, riscurile specifice postului, data la care contractul va produce efecte, durata unui contract pe termen determinat sau temporar, durata concediului de odihnă, preavizul și alte clauze. Aceste informații trebuie cuprinse în contract.\n",
      "            Relevancy Score: [{'metric': 'Answer Relevancy', 'success': True, 'score': 1.0, 'reason': \"The score is 1.00 because the response perfectly addresses the question about the employer's obligations before signing an individual employment contract, with no irrelevant information included. Great job!\"}]\n",
      "            Recall Score: [{'metric': 'Contextual Recall', 'success': True, 'score': 1.0, 'reason': 'The score is 1.00 because the expected output is perfectly aligned with the retrieval context, as the sentence is directly quoted from the 2nd node in the retrieval context. Great job on achieving a flawless match!'}]\n",
      "            Faithfulness Score: [{'metric': 'Faithfulness', 'success': True, 'score': 1.0, 'reason': 'The score is 1.00 because there are no contradictions present, indicating that the actual output perfectly aligns with the retrieval context.'}]\n",
      "            Understanding Score: [{'metric': 'Understanding (GEval)', 'success': False, 'score': 0.6935447265307282, 'reason': \"The response provides clear information about the employer's obligations, but it is somewhat lengthy and may be less accessible for someone without legal knowledge compared to the expected output.\"}]\n",
      "            \n",
      "Using model: rollama2-7b-instruct\n"
     ]
    },
    {
     "data": {
      "text/html": [
       "<pre style=\"white-space:pre;overflow-x:auto;line-height:normal;font-family:Menlo,'DejaVu Sans Mono',consolas,'Courier New',monospace\">\n",
       "<span style=\"color: #05f58d; text-decoration-color: #05f58d\">✓</span> Tests finished 🎉! Run <span style=\"color: #008000; text-decoration-color: #008000; font-weight: bold\">'deepeval login'</span> to save and analyze evaluation results on Confident AI.\n",
       " \n",
       "✨👀 Looking for a place for your LLM test data to live 🏡❤️ ? Use <span style=\"color: #6a00ff; text-decoration-color: #6a00ff\">Confident AI</span> to get &amp; share testing reports, \n",
       "experiment with models/prompts, and catch regressions for your LLM system. Just run <span style=\"color: #008080; text-decoration-color: #008080\">'deepeval login'</span> in the CLI. \n",
       "\n",
       "</pre>\n"
      ],
      "text/plain": [
       "\n",
       "\u001b[38;2;5;245;141m✓\u001b[0m Tests finished 🎉! Run \u001b[1;32m'deepeval login'\u001b[0m to save and analyze evaluation results on Confident AI.\n",
       " \n",
       "✨👀 Looking for a place for your LLM test data to live 🏡❤️ ? Use \u001b[38;2;106;0;255mConfident AI\u001b[0m to get & share testing reports, \n",
       "experiment with models/prompts, and catch regressions for your LLM system. Just run \u001b[36m'deepeval login'\u001b[0m in the CLI. \n",
       "\n"
      ]
     },
     "metadata": {},
     "output_type": "display_data"
    },
    {
     "data": {
      "text/html": [
       "<pre style=\"white-space:pre;overflow-x:auto;line-height:normal;font-family:Menlo,'DejaVu Sans Mono',consolas,'Courier New',monospace\">\n",
       "<span style=\"color: #05f58d; text-decoration-color: #05f58d\">✓</span> Tests finished 🎉! Run <span style=\"color: #008000; text-decoration-color: #008000; font-weight: bold\">'deepeval login'</span> to save and analyze evaluation results on Confident AI.\n",
       " \n",
       "✨👀 Looking for a place for your LLM test data to live 🏡❤️ ? Use <span style=\"color: #6a00ff; text-decoration-color: #6a00ff\">Confident AI</span> to get &amp; share testing reports, \n",
       "experiment with models/prompts, and catch regressions for your LLM system. Just run <span style=\"color: #008080; text-decoration-color: #008080\">'deepeval login'</span> in the CLI. \n",
       "\n",
       "</pre>\n"
      ],
      "text/plain": [
       "\n",
       "\u001b[38;2;5;245;141m✓\u001b[0m Tests finished 🎉! Run \u001b[1;32m'deepeval login'\u001b[0m to save and analyze evaluation results on Confident AI.\n",
       " \n",
       "✨👀 Looking for a place for your LLM test data to live 🏡❤️ ? Use \u001b[38;2;106;0;255mConfident AI\u001b[0m to get & share testing reports, \n",
       "experiment with models/prompts, and catch regressions for your LLM system. Just run \u001b[36m'deepeval login'\u001b[0m in the CLI. \n",
       "\n"
      ]
     },
     "metadata": {},
     "output_type": "display_data"
    },
    {
     "data": {
      "text/html": [
       "<pre style=\"white-space:pre;overflow-x:auto;line-height:normal;font-family:Menlo,'DejaVu Sans Mono',consolas,'Courier New',monospace\">\n",
       "<span style=\"color: #05f58d; text-decoration-color: #05f58d\">✓</span> Tests finished 🎉! Run <span style=\"color: #008000; text-decoration-color: #008000; font-weight: bold\">'deepeval login'</span> to save and analyze evaluation results on Confident AI.\n",
       " \n",
       "✨👀 Looking for a place for your LLM test data to live 🏡❤️ ? Use <span style=\"color: #6a00ff; text-decoration-color: #6a00ff\">Confident AI</span> to get &amp; share testing reports, \n",
       "experiment with models/prompts, and catch regressions for your LLM system. Just run <span style=\"color: #008080; text-decoration-color: #008080\">'deepeval login'</span> in the CLI. \n",
       "\n",
       "</pre>\n"
      ],
      "text/plain": [
       "\n",
       "\u001b[38;2;5;245;141m✓\u001b[0m Tests finished 🎉! Run \u001b[1;32m'deepeval login'\u001b[0m to save and analyze evaluation results on Confident AI.\n",
       " \n",
       "✨👀 Looking for a place for your LLM test data to live 🏡❤️ ? Use \u001b[38;2;106;0;255mConfident AI\u001b[0m to get & share testing reports, \n",
       "experiment with models/prompts, and catch regressions for your LLM system. Just run \u001b[36m'deepeval login'\u001b[0m in the CLI. \n",
       "\n"
      ]
     },
     "metadata": {},
     "output_type": "display_data"
    },
    {
     "data": {
      "text/html": [
       "<pre style=\"white-space:pre;overflow-x:auto;line-height:normal;font-family:Menlo,'DejaVu Sans Mono',consolas,'Courier New',monospace\">\n",
       "<span style=\"color: #05f58d; text-decoration-color: #05f58d\">✓</span> Tests finished 🎉! Run <span style=\"color: #008000; text-decoration-color: #008000; font-weight: bold\">'deepeval login'</span> to save and analyze evaluation results on Confident AI.\n",
       " \n",
       "✨👀 Looking for a place for your LLM test data to live 🏡❤️ ? Use <span style=\"color: #6a00ff; text-decoration-color: #6a00ff\">Confident AI</span> to get &amp; share testing reports, \n",
       "experiment with models/prompts, and catch regressions for your LLM system. Just run <span style=\"color: #008080; text-decoration-color: #008080\">'deepeval login'</span> in the CLI. \n",
       "\n",
       "</pre>\n"
      ],
      "text/plain": [
       "\n",
       "\u001b[38;2;5;245;141m✓\u001b[0m Tests finished 🎉! Run \u001b[1;32m'deepeval login'\u001b[0m to save and analyze evaluation results on Confident AI.\n",
       " \n",
       "✨👀 Looking for a place for your LLM test data to live 🏡❤️ ? Use \u001b[38;2;106;0;255mConfident AI\u001b[0m to get & share testing reports, \n",
       "experiment with models/prompts, and catch regressions for your LLM system. Just run \u001b[36m'deepeval login'\u001b[0m in the CLI. \n",
       "\n"
      ]
     },
     "metadata": {},
     "output_type": "display_data"
    },
    {
     "name": "stdout",
     "output_type": "stream",
     "text": [
      "\n",
      "            Query: Ce obligație are angajatorul înainte de încheierea contractului individual de muncă?\n",
      "            Expected: Anterior încheierii sau modificării contractului individual de muncă, angajatorul are obligația de a informa persoana selectată în vederea angajării cu privire la clauzele esențiale pe care intenționează să le înscrie în contract sau să le modifice.\n",
      "            Actual: \n",
      "Înainte de încheierea sau modificarea contractului individual de muncă, angajatorul are obligația de a informa salariatul sau persoana selectată în vederea angajării cu privire la clauzele esențiale pe care intenționează să le înscrie în contract sau să le modifice. Informațiile menționate sunt necesare pentru încheierea cu succes a acordului de muncă și pot fi incluse într-un contract individual de muncă standard, după cum urmează:\n",
      "\n",
      "- identitatea angajatorului;\n",
      "- locul de muncă sau, dacă nu există un loc de muncă fix, posibilitatea ca salariatul să își desfășoare activitatea în diferite locuri de muncă, precum și dacă deplasarea între acestea este asigurată sau decontată de către angajator;\n",
      "- funcția/ocupația în conformitate cu specificațiile Clasificării Ocupațiilor din România sau alte acte normative, precum și fisa postului, cu specificarea atribuțiilor postului;\n",
      "- durata normală a muncii, exprimată în ore/zi și/sau ore/săptămână, condițiile de efectuare și de compensare sau de plată pentru orele suplimentare, precum și, dacă este cazul, modalitățile de organizare a muncii în schimburi;\n",
      "- dreptul și condițiile privind formarea profesională oferită de angajator;\n",
      "- suportarea asigurării medicale private, a contribuțiilor suplimentare la pensie facultativă sau la pensia ocupațională a salariatului, în cazul în care acesta nu constituie un avantaj financiar pentru angajator;\n",
      "- informarea cu privire la orice alte drepturi care se regăsesc în contractul individual de muncă, dacă nu sunt prevăzute expres de lege sau de contractul colectiv de muncă aplicabil.\n",
      "\n",
      "Astfel, angajatorul are obligația de a furniza aceste informații salariatului înainte de semnarea contractului individual de muncă. \n",
      "            Relevancy Score: [{'metric': 'Answer Relevancy', 'success': True, 'score': 0.8125, 'reason': \"The score is 0.81 because the response primarily addresses the employer's obligations before signing an employment contract. However, it includes details about post-employment benefits, which are not directly relevant to the pre-contractual obligations, slightly lowering the score.\"}]\n",
      "            Recall Score: [{'metric': 'Contextual Recall', 'success': True, 'score': 1.0, 'reason': 'The score is 1.00 because the expected output perfectly matches the information from the 2nd node in the retrieval context, ensuring complete alignment and accuracy.'}]\n",
      "            Faithfulness Score: [{'metric': 'Faithfulness', 'success': False, 'score': 0.3333333333333333, 'reason': 'The score is 0.33 because the actual output fails to align with the retrieval context in multiple areas, such as not specifying that essential clauses must be included in the contract, omitting the requirement for the job description, and lacking clarity on the expression of work duration and conditions of overtime.'}]\n",
      "            Understanding Score: [{'metric': 'Understanding (GEval)', 'success': False, 'score': 0.6783898625087709, 'reason': \"The response provides detailed information about the employer's obligations, but it is somewhat lengthy and may not be as accessible for someone without legal knowledge compared to the expected output.\"}]\n",
      "            \n",
      "Finished tests for model: rollama2-7b-instruct\n",
      "\n",
      "==================================================\n",
      "\n",
      "\n",
      "Running tests for query: Care este vârsta legală minimă pentru încheierea unei căsătorii în România?\n",
      "Using model: rollama3-8b-instruct\n"
     ]
    },
    {
     "data": {
      "text/html": [
       "<pre style=\"white-space:pre;overflow-x:auto;line-height:normal;font-family:Menlo,'DejaVu Sans Mono',consolas,'Courier New',monospace\">\n",
       "<span style=\"color: #05f58d; text-decoration-color: #05f58d\">✓</span> Tests finished 🎉! Run <span style=\"color: #008000; text-decoration-color: #008000; font-weight: bold\">'deepeval login'</span> to save and analyze evaluation results on Confident AI.\n",
       " \n",
       "✨👀 Looking for a place for your LLM test data to live 🏡❤️ ? Use <span style=\"color: #6a00ff; text-decoration-color: #6a00ff\">Confident AI</span> to get &amp; share testing reports, \n",
       "experiment with models/prompts, and catch regressions for your LLM system. Just run <span style=\"color: #008080; text-decoration-color: #008080\">'deepeval login'</span> in the CLI. \n",
       "\n",
       "</pre>\n"
      ],
      "text/plain": [
       "\n",
       "\u001b[38;2;5;245;141m✓\u001b[0m Tests finished 🎉! Run \u001b[1;32m'deepeval login'\u001b[0m to save and analyze evaluation results on Confident AI.\n",
       " \n",
       "✨👀 Looking for a place for your LLM test data to live 🏡❤️ ? Use \u001b[38;2;106;0;255mConfident AI\u001b[0m to get & share testing reports, \n",
       "experiment with models/prompts, and catch regressions for your LLM system. Just run \u001b[36m'deepeval login'\u001b[0m in the CLI. \n",
       "\n"
      ]
     },
     "metadata": {},
     "output_type": "display_data"
    },
    {
     "data": {
      "text/html": [
       "<pre style=\"white-space:pre;overflow-x:auto;line-height:normal;font-family:Menlo,'DejaVu Sans Mono',consolas,'Courier New',monospace\">\n",
       "<span style=\"color: #05f58d; text-decoration-color: #05f58d\">✓</span> Tests finished 🎉! Run <span style=\"color: #008000; text-decoration-color: #008000; font-weight: bold\">'deepeval login'</span> to save and analyze evaluation results on Confident AI.\n",
       " \n",
       "✨👀 Looking for a place for your LLM test data to live 🏡❤️ ? Use <span style=\"color: #6a00ff; text-decoration-color: #6a00ff\">Confident AI</span> to get &amp; share testing reports, \n",
       "experiment with models/prompts, and catch regressions for your LLM system. Just run <span style=\"color: #008080; text-decoration-color: #008080\">'deepeval login'</span> in the CLI. \n",
       "\n",
       "</pre>\n"
      ],
      "text/plain": [
       "\n",
       "\u001b[38;2;5;245;141m✓\u001b[0m Tests finished 🎉! Run \u001b[1;32m'deepeval login'\u001b[0m to save and analyze evaluation results on Confident AI.\n",
       " \n",
       "✨👀 Looking for a place for your LLM test data to live 🏡❤️ ? Use \u001b[38;2;106;0;255mConfident AI\u001b[0m to get & share testing reports, \n",
       "experiment with models/prompts, and catch regressions for your LLM system. Just run \u001b[36m'deepeval login'\u001b[0m in the CLI. \n",
       "\n"
      ]
     },
     "metadata": {},
     "output_type": "display_data"
    },
    {
     "data": {
      "text/html": [
       "<pre style=\"white-space:pre;overflow-x:auto;line-height:normal;font-family:Menlo,'DejaVu Sans Mono',consolas,'Courier New',monospace\">\n",
       "<span style=\"color: #05f58d; text-decoration-color: #05f58d\">✓</span> Tests finished 🎉! Run <span style=\"color: #008000; text-decoration-color: #008000; font-weight: bold\">'deepeval login'</span> to save and analyze evaluation results on Confident AI.\n",
       " \n",
       "✨👀 Looking for a place for your LLM test data to live 🏡❤️ ? Use <span style=\"color: #6a00ff; text-decoration-color: #6a00ff\">Confident AI</span> to get &amp; share testing reports, \n",
       "experiment with models/prompts, and catch regressions for your LLM system. Just run <span style=\"color: #008080; text-decoration-color: #008080\">'deepeval login'</span> in the CLI. \n",
       "\n",
       "</pre>\n"
      ],
      "text/plain": [
       "\n",
       "\u001b[38;2;5;245;141m✓\u001b[0m Tests finished 🎉! Run \u001b[1;32m'deepeval login'\u001b[0m to save and analyze evaluation results on Confident AI.\n",
       " \n",
       "✨👀 Looking for a place for your LLM test data to live 🏡❤️ ? Use \u001b[38;2;106;0;255mConfident AI\u001b[0m to get & share testing reports, \n",
       "experiment with models/prompts, and catch regressions for your LLM system. Just run \u001b[36m'deepeval login'\u001b[0m in the CLI. \n",
       "\n"
      ]
     },
     "metadata": {},
     "output_type": "display_data"
    },
    {
     "data": {
      "text/html": [
       "<pre style=\"white-space:pre;overflow-x:auto;line-height:normal;font-family:Menlo,'DejaVu Sans Mono',consolas,'Courier New',monospace\">\n",
       "<span style=\"color: #05f58d; text-decoration-color: #05f58d\">✓</span> Tests finished 🎉! Run <span style=\"color: #008000; text-decoration-color: #008000; font-weight: bold\">'deepeval login'</span> to save and analyze evaluation results on Confident AI.\n",
       " \n",
       "✨👀 Looking for a place for your LLM test data to live 🏡❤️ ? Use <span style=\"color: #6a00ff; text-decoration-color: #6a00ff\">Confident AI</span> to get &amp; share testing reports, \n",
       "experiment with models/prompts, and catch regressions for your LLM system. Just run <span style=\"color: #008080; text-decoration-color: #008080\">'deepeval login'</span> in the CLI. \n",
       "\n",
       "</pre>\n"
      ],
      "text/plain": [
       "\n",
       "\u001b[38;2;5;245;141m✓\u001b[0m Tests finished 🎉! Run \u001b[1;32m'deepeval login'\u001b[0m to save and analyze evaluation results on Confident AI.\n",
       " \n",
       "✨👀 Looking for a place for your LLM test data to live 🏡❤️ ? Use \u001b[38;2;106;0;255mConfident AI\u001b[0m to get & share testing reports, \n",
       "experiment with models/prompts, and catch regressions for your LLM system. Just run \u001b[36m'deepeval login'\u001b[0m in the CLI. \n",
       "\n"
      ]
     },
     "metadata": {},
     "output_type": "display_data"
    },
    {
     "name": "stdout",
     "output_type": "stream",
     "text": [
      "\n",
      "            Query: Care este vârsta legală minimă pentru încheierea unei căsătorii în România?\n",
      "            Expected: Căsătoria se poate încheia dacă viitorii soți au împlinit vârsta de 18 ani.\n",
      "            Actual: Vârsta legală minimă pentru căsătorie este de 18 ani în România. Cazurile în care un minor poate fi căsătorit sunt reglementate prin legislația menționată mai sus și trebuie să fie avizate de părinți, tutori sau autoritățile competente în funcție de situații.\n",
      "            Relevancy Score: [{'metric': 'Answer Relevancy', 'success': True, 'score': 1.0, 'reason': 'The score is 1.00 because the response is perfectly relevant and directly answers the question about the legal minimum age for marriage in Romania. Great job on providing a clear and concise answer!'}]\n",
      "            Recall Score: [{'metric': 'Contextual Recall', 'success': True, 'score': 1.0, 'reason': 'The score is 1.00 because the expected output perfectly matches the information from the 2nd node in the retrieval context, showcasing a flawless alignment.'}]\n",
      "            Faithfulness Score: [{'metric': 'Faithfulness', 'success': True, 'score': 1.0, 'reason': 'The score is 1.00 because there are no contradictions present, indicating that the actual output perfectly aligns with the retrieval context.'}]\n",
      "            Understanding Score: [{'metric': 'Understanding (GEval)', 'success': False, 'score': 0.676873573790471, 'reason': 'The response provides the legal age for marriage clearly, but the additional information about minors and regulations may complicate understanding for someone without legal knowledge.'}]\n",
      "            \n",
      "Using model: rollama2-7b-instruct\n"
     ]
    },
    {
     "data": {
      "text/html": [
       "<pre style=\"white-space:pre;overflow-x:auto;line-height:normal;font-family:Menlo,'DejaVu Sans Mono',consolas,'Courier New',monospace\">\n",
       "<span style=\"color: #05f58d; text-decoration-color: #05f58d\">✓</span> Tests finished 🎉! Run <span style=\"color: #008000; text-decoration-color: #008000; font-weight: bold\">'deepeval login'</span> to save and analyze evaluation results on Confident AI.\n",
       " \n",
       "✨👀 Looking for a place for your LLM test data to live 🏡❤️ ? Use <span style=\"color: #6a00ff; text-decoration-color: #6a00ff\">Confident AI</span> to get &amp; share testing reports, \n",
       "experiment with models/prompts, and catch regressions for your LLM system. Just run <span style=\"color: #008080; text-decoration-color: #008080\">'deepeval login'</span> in the CLI. \n",
       "\n",
       "</pre>\n"
      ],
      "text/plain": [
       "\n",
       "\u001b[38;2;5;245;141m✓\u001b[0m Tests finished 🎉! Run \u001b[1;32m'deepeval login'\u001b[0m to save and analyze evaluation results on Confident AI.\n",
       " \n",
       "✨👀 Looking for a place for your LLM test data to live 🏡❤️ ? Use \u001b[38;2;106;0;255mConfident AI\u001b[0m to get & share testing reports, \n",
       "experiment with models/prompts, and catch regressions for your LLM system. Just run \u001b[36m'deepeval login'\u001b[0m in the CLI. \n",
       "\n"
      ]
     },
     "metadata": {},
     "output_type": "display_data"
    },
    {
     "data": {
      "text/html": [
       "<pre style=\"white-space:pre;overflow-x:auto;line-height:normal;font-family:Menlo,'DejaVu Sans Mono',consolas,'Courier New',monospace\">\n",
       "<span style=\"color: #05f58d; text-decoration-color: #05f58d\">✓</span> Tests finished 🎉! Run <span style=\"color: #008000; text-decoration-color: #008000; font-weight: bold\">'deepeval login'</span> to save and analyze evaluation results on Confident AI.\n",
       " \n",
       "✨👀 Looking for a place for your LLM test data to live 🏡❤️ ? Use <span style=\"color: #6a00ff; text-decoration-color: #6a00ff\">Confident AI</span> to get &amp; share testing reports, \n",
       "experiment with models/prompts, and catch regressions for your LLM system. Just run <span style=\"color: #008080; text-decoration-color: #008080\">'deepeval login'</span> in the CLI. \n",
       "\n",
       "</pre>\n"
      ],
      "text/plain": [
       "\n",
       "\u001b[38;2;5;245;141m✓\u001b[0m Tests finished 🎉! Run \u001b[1;32m'deepeval login'\u001b[0m to save and analyze evaluation results on Confident AI.\n",
       " \n",
       "✨👀 Looking for a place for your LLM test data to live 🏡❤️ ? Use \u001b[38;2;106;0;255mConfident AI\u001b[0m to get & share testing reports, \n",
       "experiment with models/prompts, and catch regressions for your LLM system. Just run \u001b[36m'deepeval login'\u001b[0m in the CLI. \n",
       "\n"
      ]
     },
     "metadata": {},
     "output_type": "display_data"
    },
    {
     "data": {
      "text/html": [
       "<pre style=\"white-space:pre;overflow-x:auto;line-height:normal;font-family:Menlo,'DejaVu Sans Mono',consolas,'Courier New',monospace\">\n",
       "<span style=\"color: #05f58d; text-decoration-color: #05f58d\">✓</span> Tests finished 🎉! Run <span style=\"color: #008000; text-decoration-color: #008000; font-weight: bold\">'deepeval login'</span> to save and analyze evaluation results on Confident AI.\n",
       " \n",
       "✨👀 Looking for a place for your LLM test data to live 🏡❤️ ? Use <span style=\"color: #6a00ff; text-decoration-color: #6a00ff\">Confident AI</span> to get &amp; share testing reports, \n",
       "experiment with models/prompts, and catch regressions for your LLM system. Just run <span style=\"color: #008080; text-decoration-color: #008080\">'deepeval login'</span> in the CLI. \n",
       "\n",
       "</pre>\n"
      ],
      "text/plain": [
       "\n",
       "\u001b[38;2;5;245;141m✓\u001b[0m Tests finished 🎉! Run \u001b[1;32m'deepeval login'\u001b[0m to save and analyze evaluation results on Confident AI.\n",
       " \n",
       "✨👀 Looking for a place for your LLM test data to live 🏡❤️ ? Use \u001b[38;2;106;0;255mConfident AI\u001b[0m to get & share testing reports, \n",
       "experiment with models/prompts, and catch regressions for your LLM system. Just run \u001b[36m'deepeval login'\u001b[0m in the CLI. \n",
       "\n"
      ]
     },
     "metadata": {},
     "output_type": "display_data"
    },
    {
     "data": {
      "text/html": [
       "<pre style=\"white-space:pre;overflow-x:auto;line-height:normal;font-family:Menlo,'DejaVu Sans Mono',consolas,'Courier New',monospace\">\n",
       "<span style=\"color: #05f58d; text-decoration-color: #05f58d\">✓</span> Tests finished 🎉! Run <span style=\"color: #008000; text-decoration-color: #008000; font-weight: bold\">'deepeval login'</span> to save and analyze evaluation results on Confident AI.\n",
       " \n",
       "✨👀 Looking for a place for your LLM test data to live 🏡❤️ ? Use <span style=\"color: #6a00ff; text-decoration-color: #6a00ff\">Confident AI</span> to get &amp; share testing reports, \n",
       "experiment with models/prompts, and catch regressions for your LLM system. Just run <span style=\"color: #008080; text-decoration-color: #008080\">'deepeval login'</span> in the CLI. \n",
       "\n",
       "</pre>\n"
      ],
      "text/plain": [
       "\n",
       "\u001b[38;2;5;245;141m✓\u001b[0m Tests finished 🎉! Run \u001b[1;32m'deepeval login'\u001b[0m to save and analyze evaluation results on Confident AI.\n",
       " \n",
       "✨👀 Looking for a place for your LLM test data to live 🏡❤️ ? Use \u001b[38;2;106;0;255mConfident AI\u001b[0m to get & share testing reports, \n",
       "experiment with models/prompts, and catch regressions for your LLM system. Just run \u001b[36m'deepeval login'\u001b[0m in the CLI. \n",
       "\n"
      ]
     },
     "metadata": {},
     "output_type": "display_data"
    },
    {
     "name": "stdout",
     "output_type": "stream",
     "text": [
      "\n",
      "            Query: Care este vârsta legală minimă pentru încheierea unei căsătorii în România?\n",
      "            Expected: Căsătoria se poate încheia dacă viitorii soți au împlinit vârsta de 18 ani.\n",
      "            Actual: \n",
      "Vârsta legală minimă pentru încheierea unei căsătorii în România este de 18 ani. Când ambii viitori soți au împlinit vârsta de 18 ani, se pot căsători fără a avea nevoie de permisiunea părinților. Dacă unul dintre ei are sub 18 ani, dar are cel puțin 16 ani, poate fi căsătorit cu autorizarea tutorelui și avizul medical.\n",
      "            Relevancy Score: [{'metric': 'Answer Relevancy', 'success': True, 'score': 1.0, 'reason': 'The score is 1.00 because the response is perfectly relevant and directly answers the question about the legal minimum age for marriage in Romania. Great job on providing a clear and concise answer!'}]\n",
      "            Recall Score: [{'metric': 'Contextual Recall', 'success': True, 'score': 1.0, 'reason': 'The score is 1.00 because the expected output perfectly matches the information from the 2nd node in the retrieval context, demonstrating a flawless alignment.'}]\n",
      "            Faithfulness Score: [{'metric': 'Faithfulness', 'success': True, 'score': 1.0, 'reason': 'The score is 1.00 because there are no contradictions present, indicating that the actual output perfectly aligns with the retrieval context.'}]\n",
      "            Understanding Score: [{'metric': 'Understanding (GEval)', 'success': True, 'score': 0.7032257857080113, 'reason': 'The actual output provides clear information about the minimum legal age for marriage and conditions for those under 18, but it is more detailed than the expected output, which is simpler and more direct.'}]\n",
      "            \n",
      "Finished tests for model: rollama2-7b-instruct\n",
      "\n",
      "==================================================\n",
      "\n",
      "\n",
      "Running tests for query: În ce condiții poate fi încheiat un contract de vânzare-cumpărare și care sunt excepțiile de la forma scrisă?\n",
      "Using model: rollama3-8b-instruct\n"
     ]
    },
    {
     "data": {
      "text/html": [
       "<pre style=\"white-space:pre;overflow-x:auto;line-height:normal;font-family:Menlo,'DejaVu Sans Mono',consolas,'Courier New',monospace\">\n",
       "<span style=\"color: #05f58d; text-decoration-color: #05f58d\">✓</span> Tests finished 🎉! Run <span style=\"color: #008000; text-decoration-color: #008000; font-weight: bold\">'deepeval login'</span> to save and analyze evaluation results on Confident AI.\n",
       " \n",
       "✨👀 Looking for a place for your LLM test data to live 🏡❤️ ? Use <span style=\"color: #6a00ff; text-decoration-color: #6a00ff\">Confident AI</span> to get &amp; share testing reports, \n",
       "experiment with models/prompts, and catch regressions for your LLM system. Just run <span style=\"color: #008080; text-decoration-color: #008080\">'deepeval login'</span> in the CLI. \n",
       "\n",
       "</pre>\n"
      ],
      "text/plain": [
       "\n",
       "\u001b[38;2;5;245;141m✓\u001b[0m Tests finished 🎉! Run \u001b[1;32m'deepeval login'\u001b[0m to save and analyze evaluation results on Confident AI.\n",
       " \n",
       "✨👀 Looking for a place for your LLM test data to live 🏡❤️ ? Use \u001b[38;2;106;0;255mConfident AI\u001b[0m to get & share testing reports, \n",
       "experiment with models/prompts, and catch regressions for your LLM system. Just run \u001b[36m'deepeval login'\u001b[0m in the CLI. \n",
       "\n"
      ]
     },
     "metadata": {},
     "output_type": "display_data"
    },
    {
     "data": {
      "text/html": [
       "<pre style=\"white-space:pre;overflow-x:auto;line-height:normal;font-family:Menlo,'DejaVu Sans Mono',consolas,'Courier New',monospace\">\n",
       "<span style=\"color: #05f58d; text-decoration-color: #05f58d\">✓</span> Tests finished 🎉! Run <span style=\"color: #008000; text-decoration-color: #008000; font-weight: bold\">'deepeval login'</span> to save and analyze evaluation results on Confident AI.\n",
       " \n",
       "✨👀 Looking for a place for your LLM test data to live 🏡❤️ ? Use <span style=\"color: #6a00ff; text-decoration-color: #6a00ff\">Confident AI</span> to get &amp; share testing reports, \n",
       "experiment with models/prompts, and catch regressions for your LLM system. Just run <span style=\"color: #008080; text-decoration-color: #008080\">'deepeval login'</span> in the CLI. \n",
       "\n",
       "</pre>\n"
      ],
      "text/plain": [
       "\n",
       "\u001b[38;2;5;245;141m✓\u001b[0m Tests finished 🎉! Run \u001b[1;32m'deepeval login'\u001b[0m to save and analyze evaluation results on Confident AI.\n",
       " \n",
       "✨👀 Looking for a place for your LLM test data to live 🏡❤️ ? Use \u001b[38;2;106;0;255mConfident AI\u001b[0m to get & share testing reports, \n",
       "experiment with models/prompts, and catch regressions for your LLM system. Just run \u001b[36m'deepeval login'\u001b[0m in the CLI. \n",
       "\n"
      ]
     },
     "metadata": {},
     "output_type": "display_data"
    },
    {
     "data": {
      "text/html": [
       "<pre style=\"white-space:pre;overflow-x:auto;line-height:normal;font-family:Menlo,'DejaVu Sans Mono',consolas,'Courier New',monospace\">\n",
       "<span style=\"color: #05f58d; text-decoration-color: #05f58d\">✓</span> Tests finished 🎉! Run <span style=\"color: #008000; text-decoration-color: #008000; font-weight: bold\">'deepeval login'</span> to save and analyze evaluation results on Confident AI.\n",
       " \n",
       "✨👀 Looking for a place for your LLM test data to live 🏡❤️ ? Use <span style=\"color: #6a00ff; text-decoration-color: #6a00ff\">Confident AI</span> to get &amp; share testing reports, \n",
       "experiment with models/prompts, and catch regressions for your LLM system. Just run <span style=\"color: #008080; text-decoration-color: #008080\">'deepeval login'</span> in the CLI. \n",
       "\n",
       "</pre>\n"
      ],
      "text/plain": [
       "\n",
       "\u001b[38;2;5;245;141m✓\u001b[0m Tests finished 🎉! Run \u001b[1;32m'deepeval login'\u001b[0m to save and analyze evaluation results on Confident AI.\n",
       " \n",
       "✨👀 Looking for a place for your LLM test data to live 🏡❤️ ? Use \u001b[38;2;106;0;255mConfident AI\u001b[0m to get & share testing reports, \n",
       "experiment with models/prompts, and catch regressions for your LLM system. Just run \u001b[36m'deepeval login'\u001b[0m in the CLI. \n",
       "\n"
      ]
     },
     "metadata": {},
     "output_type": "display_data"
    },
    {
     "data": {
      "text/html": [
       "<pre style=\"white-space:pre;overflow-x:auto;line-height:normal;font-family:Menlo,'DejaVu Sans Mono',consolas,'Courier New',monospace\">\n",
       "<span style=\"color: #05f58d; text-decoration-color: #05f58d\">✓</span> Tests finished 🎉! Run <span style=\"color: #008000; text-decoration-color: #008000; font-weight: bold\">'deepeval login'</span> to save and analyze evaluation results on Confident AI.\n",
       " \n",
       "✨👀 Looking for a place for your LLM test data to live 🏡❤️ ? Use <span style=\"color: #6a00ff; text-decoration-color: #6a00ff\">Confident AI</span> to get &amp; share testing reports, \n",
       "experiment with models/prompts, and catch regressions for your LLM system. Just run <span style=\"color: #008080; text-decoration-color: #008080\">'deepeval login'</span> in the CLI. \n",
       "\n",
       "</pre>\n"
      ],
      "text/plain": [
       "\n",
       "\u001b[38;2;5;245;141m✓\u001b[0m Tests finished 🎉! Run \u001b[1;32m'deepeval login'\u001b[0m to save and analyze evaluation results on Confident AI.\n",
       " \n",
       "✨👀 Looking for a place for your LLM test data to live 🏡❤️ ? Use \u001b[38;2;106;0;255mConfident AI\u001b[0m to get & share testing reports, \n",
       "experiment with models/prompts, and catch regressions for your LLM system. Just run \u001b[36m'deepeval login'\u001b[0m in the CLI. \n",
       "\n"
      ]
     },
     "metadata": {},
     "output_type": "display_data"
    },
    {
     "name": "stdout",
     "output_type": "stream",
     "text": [
      "\n",
      "            Query: În ce condiții poate fi încheiat un contract de vânzare-cumpărare și care sunt excepțiile de la forma scrisă?\n",
      "            Expected: Contractul de vânzare-cumpărare se încheie prin acordul părților asupra lucrului și prețului. Contractul trebuie să fie în formă scrisă pentru bunurile imobile, pentru bunurile mobile cu valoarea peste o anumită sumă stabilită prin lege și pentru bunurile viitoare. Forma scrisă nu este obligatorie pentru bunurile mobile de valoare mică, pentru vânzările în cadrul activităților comerciale curente cu plată pe loc, sau când legea prevede expres alte forme de încheierie.\n",
      "            Actual: Un contract de vânzare-cumpărare poate fi încheiat verbal sau sub semnătură privată, dacă nu există nici o dispoziție legală care să prevadă altfel. \n",
      "\n",
      "Forma scrisă este necesară numai pentru dovada unui contract de consignare și a unui contract de societate.\n",
      "\n",
      "Contractele verbale ale mandatelor pot rezulta din executarea lor de către mandatar sau din acceptarea verbală, dar trebuie respectată forma legală dacă este nevoie.\n",
      "            Relevancy Score: [{'metric': 'Answer Relevancy', 'success': False, 'score': 0.42857142857142855, 'reason': 'The score is 0.43 because the output includes several irrelevant contract types, such as consignment, partnership, and mandate contracts, which do not directly address the conditions or exceptions of a sale contract. However, the score is not lower because the output may still contain some relevant information related to the input question.'}]\n",
      "            Recall Score: [{'metric': 'Contextual Recall', 'success': False, 'score': 0.3333333333333333, 'reason': 'The score is 0.33 because only the requirement for a written form for certain goods (sentence 2) aligns with the 1st node in the retrieval context. However, the agreement on object and price (sentence 1) and exceptions for small value goods and commercial activities (sentence 4) are not supported by any nodes in the retrieval context.'}]\n",
      "            Faithfulness Score: [{'metric': 'Faithfulness', 'success': False, 'score': 0.3333333333333333, 'reason': 'The score is 0.33 because the actual output incorrectly states that a sale-purchase contract can be concluded verbally or under private signature, which is not supported by the retrieval context. Additionally, it misrepresents the requirement for written form, suggesting it is only necessary for proof of certain contracts, while the retrieval context clearly states that written form is required for both types of contracts.'}]\n",
      "            Understanding Score: [{'metric': 'Understanding (GEval)', 'success': False, 'score': 0.45931952729945646, 'reason': 'The actual output provides some information about verbal contracts and exceptions, but it lacks clarity and does not fully explain the conditions for a sale-purchase contract, making it less accessible for someone without legal knowledge.'}]\n",
      "            \n",
      "Using model: rollama2-7b-instruct\n"
     ]
    },
    {
     "data": {
      "text/html": [
       "<pre style=\"white-space:pre;overflow-x:auto;line-height:normal;font-family:Menlo,'DejaVu Sans Mono',consolas,'Courier New',monospace\">\n",
       "<span style=\"color: #05f58d; text-decoration-color: #05f58d\">✓</span> Tests finished 🎉! Run <span style=\"color: #008000; text-decoration-color: #008000; font-weight: bold\">'deepeval login'</span> to save and analyze evaluation results on Confident AI.\n",
       " \n",
       "✨👀 Looking for a place for your LLM test data to live 🏡❤️ ? Use <span style=\"color: #6a00ff; text-decoration-color: #6a00ff\">Confident AI</span> to get &amp; share testing reports, \n",
       "experiment with models/prompts, and catch regressions for your LLM system. Just run <span style=\"color: #008080; text-decoration-color: #008080\">'deepeval login'</span> in the CLI. \n",
       "\n",
       "</pre>\n"
      ],
      "text/plain": [
       "\n",
       "\u001b[38;2;5;245;141m✓\u001b[0m Tests finished 🎉! Run \u001b[1;32m'deepeval login'\u001b[0m to save and analyze evaluation results on Confident AI.\n",
       " \n",
       "✨👀 Looking for a place for your LLM test data to live 🏡❤️ ? Use \u001b[38;2;106;0;255mConfident AI\u001b[0m to get & share testing reports, \n",
       "experiment with models/prompts, and catch regressions for your LLM system. Just run \u001b[36m'deepeval login'\u001b[0m in the CLI. \n",
       "\n"
      ]
     },
     "metadata": {},
     "output_type": "display_data"
    },
    {
     "data": {
      "text/html": [
       "<pre style=\"white-space:pre;overflow-x:auto;line-height:normal;font-family:Menlo,'DejaVu Sans Mono',consolas,'Courier New',monospace\">\n",
       "<span style=\"color: #05f58d; text-decoration-color: #05f58d\">✓</span> Tests finished 🎉! Run <span style=\"color: #008000; text-decoration-color: #008000; font-weight: bold\">'deepeval login'</span> to save and analyze evaluation results on Confident AI.\n",
       " \n",
       "✨👀 Looking for a place for your LLM test data to live 🏡❤️ ? Use <span style=\"color: #6a00ff; text-decoration-color: #6a00ff\">Confident AI</span> to get &amp; share testing reports, \n",
       "experiment with models/prompts, and catch regressions for your LLM system. Just run <span style=\"color: #008080; text-decoration-color: #008080\">'deepeval login'</span> in the CLI. \n",
       "\n",
       "</pre>\n"
      ],
      "text/plain": [
       "\n",
       "\u001b[38;2;5;245;141m✓\u001b[0m Tests finished 🎉! Run \u001b[1;32m'deepeval login'\u001b[0m to save and analyze evaluation results on Confident AI.\n",
       " \n",
       "✨👀 Looking for a place for your LLM test data to live 🏡❤️ ? Use \u001b[38;2;106;0;255mConfident AI\u001b[0m to get & share testing reports, \n",
       "experiment with models/prompts, and catch regressions for your LLM system. Just run \u001b[36m'deepeval login'\u001b[0m in the CLI. \n",
       "\n"
      ]
     },
     "metadata": {},
     "output_type": "display_data"
    },
    {
     "data": {
      "text/html": [
       "<pre style=\"white-space:pre;overflow-x:auto;line-height:normal;font-family:Menlo,'DejaVu Sans Mono',consolas,'Courier New',monospace\">\n",
       "<span style=\"color: #05f58d; text-decoration-color: #05f58d\">✓</span> Tests finished 🎉! Run <span style=\"color: #008000; text-decoration-color: #008000; font-weight: bold\">'deepeval login'</span> to save and analyze evaluation results on Confident AI.\n",
       " \n",
       "✨👀 Looking for a place for your LLM test data to live 🏡❤️ ? Use <span style=\"color: #6a00ff; text-decoration-color: #6a00ff\">Confident AI</span> to get &amp; share testing reports, \n",
       "experiment with models/prompts, and catch regressions for your LLM system. Just run <span style=\"color: #008080; text-decoration-color: #008080\">'deepeval login'</span> in the CLI. \n",
       "\n",
       "</pre>\n"
      ],
      "text/plain": [
       "\n",
       "\u001b[38;2;5;245;141m✓\u001b[0m Tests finished 🎉! Run \u001b[1;32m'deepeval login'\u001b[0m to save and analyze evaluation results on Confident AI.\n",
       " \n",
       "✨👀 Looking for a place for your LLM test data to live 🏡❤️ ? Use \u001b[38;2;106;0;255mConfident AI\u001b[0m to get & share testing reports, \n",
       "experiment with models/prompts, and catch regressions for your LLM system. Just run \u001b[36m'deepeval login'\u001b[0m in the CLI. \n",
       "\n"
      ]
     },
     "metadata": {},
     "output_type": "display_data"
    },
    {
     "data": {
      "text/html": [
       "<pre style=\"white-space:pre;overflow-x:auto;line-height:normal;font-family:Menlo,'DejaVu Sans Mono',consolas,'Courier New',monospace\">\n",
       "<span style=\"color: #05f58d; text-decoration-color: #05f58d\">✓</span> Tests finished 🎉! Run <span style=\"color: #008000; text-decoration-color: #008000; font-weight: bold\">'deepeval login'</span> to save and analyze evaluation results on Confident AI.\n",
       " \n",
       "✨👀 Looking for a place for your LLM test data to live 🏡❤️ ? Use <span style=\"color: #6a00ff; text-decoration-color: #6a00ff\">Confident AI</span> to get &amp; share testing reports, \n",
       "experiment with models/prompts, and catch regressions for your LLM system. Just run <span style=\"color: #008080; text-decoration-color: #008080\">'deepeval login'</span> in the CLI. \n",
       "\n",
       "</pre>\n"
      ],
      "text/plain": [
       "\n",
       "\u001b[38;2;5;245;141m✓\u001b[0m Tests finished 🎉! Run \u001b[1;32m'deepeval login'\u001b[0m to save and analyze evaluation results on Confident AI.\n",
       " \n",
       "✨👀 Looking for a place for your LLM test data to live 🏡❤️ ? Use \u001b[38;2;106;0;255mConfident AI\u001b[0m to get & share testing reports, \n",
       "experiment with models/prompts, and catch regressions for your LLM system. Just run \u001b[36m'deepeval login'\u001b[0m in the CLI. \n",
       "\n"
      ]
     },
     "metadata": {},
     "output_type": "display_data"
    },
    {
     "name": "stdout",
     "output_type": "stream",
     "text": [
      "\n",
      "            Query: În ce condiții poate fi încheiat un contract de vânzare-cumpărare și care sunt excepțiile de la forma scrisă?\n",
      "            Expected: Contractul de vânzare-cumpărare se încheie prin acordul părților asupra lucrului și prețului. Contractul trebuie să fie în formă scrisă pentru bunurile imobile, pentru bunurile mobile cu valoarea peste o anumită sumă stabilită prin lege și pentru bunurile viitoare. Forma scrisă nu este obligatorie pentru bunurile mobile de valoare mică, pentru vânzările în cadrul activităților comerciale curente cu plată pe loc, sau când legea prevede expres alte forme de încheierie.\n",
      "            Actual: \n",
      "În ce condiții poate fi încheiat un contract de vânzare-cumpărare și care sunt excepțiile de la forma scrisă?\n",
      "\n",
      "Un contract de vânzare-cumpărare poate fi încheiat oral sau în formă scrisă. În cazul în care nu se prevede altfel, un contract scris este necesar numai pentru dovedirea contractului. Excepții de la această regulă includ:\n",
      "\n",
      "- Contracte consignație: Un contract de consignație trebuie să fie în formă scrisă.\n",
      "- Societatea comercială: un contract de societate, care include societățile comerciale și cooperativele, trebuie să fie în formă scrisă. Cu toate acestea, un contract prin care se înființează o societate cu personalitate juridică este necesar pentru a fi în formă scrisă și trebuie să includă asociații, aporturile, forma juridică, obiectul, denumirea și sediul.\n",
      "- Contracte de mandat: Un contract de mandat poate fi verbal (vorbit), autentic sau sub semnătură privată, atâta timp cât este acceptat de mandatar. Cu toate acestea, dacă un mandant dat pentru încheierea unui act juridic necesită o anumită formă, contractul trebuie să respecte acea formă.\n",
      "- Contracte de vânzare-cumpărare: un contract scris este obligatoriu pentru opozabilitatea față de terțe persoane (în cazul în care nu se prevede altfel). \n",
      "            Relevancy Score: [{'metric': 'Answer Relevancy', 'success': False, 'score': 0.5, 'reason': 'The score is 0.50 because while the output does address the topic of sale contracts, it includes several irrelevant contract types such as consignment, company, and mandate contracts, which do not pertain to the specific conditions or exceptions of a sale contract. This dilutes the focus, preventing a higher score.'}]\n",
      "            Recall Score: [{'metric': 'Contextual Recall', 'success': False, 'score': 0.3333333333333333, 'reason': 'The score is 0.33 because only the requirement for a written form for certain goods (sentence 2) aligns with the 1st node in the retrieval context. However, the agreement on the object and price (sentence 1) and exceptions for small value goods (sentence 4) are not supported by any nodes in the retrieval context.'}]\n",
      "            Faithfulness Score: [{'metric': 'Faithfulness', 'success': False, 'score': 0.625, 'reason': \"The score is 0.62 because the actual output incorrectly states that oral contracts are valid for sale-purchase agreements, while the retrieval context does not support this. Additionally, it misrepresents the necessity of written contracts, suggesting they are only needed for proof rather than for certain contracts, and it inaccurately claims that written contracts are mandatory for third-party opposability, contrary to the retrieval context's clarification on form requirements.\"}]\n",
      "            Understanding Score: [{'metric': 'Understanding (GEval)', 'success': False, 'score': 0.43250230175517757, 'reason': 'The actual output provides some information about the conditions for concluding a sales contract, but it lacks clarity and accessibility for someone without legal knowledge. It does not clearly outline what the user is allowed or required to do based on the response.'}]\n",
      "            \n",
      "Finished tests for model: rollama2-7b-instruct\n",
      "\n",
      "==================================================\n",
      "\n",
      "\n",
      "Running tests for query: Care sunt drepturile și obligațiile părților în cazul unei concedieri individuale pentru motive care nu țin de persoana salariatului?\n",
      "Using model: rollama3-8b-instruct\n"
     ]
    },
    {
     "data": {
      "text/html": [
       "<pre style=\"white-space:pre;overflow-x:auto;line-height:normal;font-family:Menlo,'DejaVu Sans Mono',consolas,'Courier New',monospace\">\n",
       "<span style=\"color: #05f58d; text-decoration-color: #05f58d\">✓</span> Tests finished 🎉! Run <span style=\"color: #008000; text-decoration-color: #008000; font-weight: bold\">'deepeval login'</span> to save and analyze evaluation results on Confident AI.\n",
       " \n",
       "✨👀 Looking for a place for your LLM test data to live 🏡❤️ ? Use <span style=\"color: #6a00ff; text-decoration-color: #6a00ff\">Confident AI</span> to get &amp; share testing reports, \n",
       "experiment with models/prompts, and catch regressions for your LLM system. Just run <span style=\"color: #008080; text-decoration-color: #008080\">'deepeval login'</span> in the CLI. \n",
       "\n",
       "</pre>\n"
      ],
      "text/plain": [
       "\n",
       "\u001b[38;2;5;245;141m✓\u001b[0m Tests finished 🎉! Run \u001b[1;32m'deepeval login'\u001b[0m to save and analyze evaluation results on Confident AI.\n",
       " \n",
       "✨👀 Looking for a place for your LLM test data to live 🏡❤️ ? Use \u001b[38;2;106;0;255mConfident AI\u001b[0m to get & share testing reports, \n",
       "experiment with models/prompts, and catch regressions for your LLM system. Just run \u001b[36m'deepeval login'\u001b[0m in the CLI. \n",
       "\n"
      ]
     },
     "metadata": {},
     "output_type": "display_data"
    },
    {
     "data": {
      "text/html": [
       "<pre style=\"white-space:pre;overflow-x:auto;line-height:normal;font-family:Menlo,'DejaVu Sans Mono',consolas,'Courier New',monospace\">\n",
       "<span style=\"color: #05f58d; text-decoration-color: #05f58d\">✓</span> Tests finished 🎉! Run <span style=\"color: #008000; text-decoration-color: #008000; font-weight: bold\">'deepeval login'</span> to save and analyze evaluation results on Confident AI.\n",
       " \n",
       "✨👀 Looking for a place for your LLM test data to live 🏡❤️ ? Use <span style=\"color: #6a00ff; text-decoration-color: #6a00ff\">Confident AI</span> to get &amp; share testing reports, \n",
       "experiment with models/prompts, and catch regressions for your LLM system. Just run <span style=\"color: #008080; text-decoration-color: #008080\">'deepeval login'</span> in the CLI. \n",
       "\n",
       "</pre>\n"
      ],
      "text/plain": [
       "\n",
       "\u001b[38;2;5;245;141m✓\u001b[0m Tests finished 🎉! Run \u001b[1;32m'deepeval login'\u001b[0m to save and analyze evaluation results on Confident AI.\n",
       " \n",
       "✨👀 Looking for a place for your LLM test data to live 🏡❤️ ? Use \u001b[38;2;106;0;255mConfident AI\u001b[0m to get & share testing reports, \n",
       "experiment with models/prompts, and catch regressions for your LLM system. Just run \u001b[36m'deepeval login'\u001b[0m in the CLI. \n",
       "\n"
      ]
     },
     "metadata": {},
     "output_type": "display_data"
    },
    {
     "data": {
      "text/html": [
       "<pre style=\"white-space:pre;overflow-x:auto;line-height:normal;font-family:Menlo,'DejaVu Sans Mono',consolas,'Courier New',monospace\">\n",
       "<span style=\"color: #05f58d; text-decoration-color: #05f58d\">✓</span> Tests finished 🎉! Run <span style=\"color: #008000; text-decoration-color: #008000; font-weight: bold\">'deepeval login'</span> to save and analyze evaluation results on Confident AI.\n",
       " \n",
       "✨👀 Looking for a place for your LLM test data to live 🏡❤️ ? Use <span style=\"color: #6a00ff; text-decoration-color: #6a00ff\">Confident AI</span> to get &amp; share testing reports, \n",
       "experiment with models/prompts, and catch regressions for your LLM system. Just run <span style=\"color: #008080; text-decoration-color: #008080\">'deepeval login'</span> in the CLI. \n",
       "\n",
       "</pre>\n"
      ],
      "text/plain": [
       "\n",
       "\u001b[38;2;5;245;141m✓\u001b[0m Tests finished 🎉! Run \u001b[1;32m'deepeval login'\u001b[0m to save and analyze evaluation results on Confident AI.\n",
       " \n",
       "✨👀 Looking for a place for your LLM test data to live 🏡❤️ ? Use \u001b[38;2;106;0;255mConfident AI\u001b[0m to get & share testing reports, \n",
       "experiment with models/prompts, and catch regressions for your LLM system. Just run \u001b[36m'deepeval login'\u001b[0m in the CLI. \n",
       "\n"
      ]
     },
     "metadata": {},
     "output_type": "display_data"
    },
    {
     "data": {
      "text/html": [
       "<pre style=\"white-space:pre;overflow-x:auto;line-height:normal;font-family:Menlo,'DejaVu Sans Mono',consolas,'Courier New',monospace\">\n",
       "<span style=\"color: #05f58d; text-decoration-color: #05f58d\">✓</span> Tests finished 🎉! Run <span style=\"color: #008000; text-decoration-color: #008000; font-weight: bold\">'deepeval login'</span> to save and analyze evaluation results on Confident AI.\n",
       " \n",
       "✨👀 Looking for a place for your LLM test data to live 🏡❤️ ? Use <span style=\"color: #6a00ff; text-decoration-color: #6a00ff\">Confident AI</span> to get &amp; share testing reports, \n",
       "experiment with models/prompts, and catch regressions for your LLM system. Just run <span style=\"color: #008080; text-decoration-color: #008080\">'deepeval login'</span> in the CLI. \n",
       "\n",
       "</pre>\n"
      ],
      "text/plain": [
       "\n",
       "\u001b[38;2;5;245;141m✓\u001b[0m Tests finished 🎉! Run \u001b[1;32m'deepeval login'\u001b[0m to save and analyze evaluation results on Confident AI.\n",
       " \n",
       "✨👀 Looking for a place for your LLM test data to live 🏡❤️ ? Use \u001b[38;2;106;0;255mConfident AI\u001b[0m to get & share testing reports, \n",
       "experiment with models/prompts, and catch regressions for your LLM system. Just run \u001b[36m'deepeval login'\u001b[0m in the CLI. \n",
       "\n"
      ]
     },
     "metadata": {},
     "output_type": "display_data"
    },
    {
     "name": "stdout",
     "output_type": "stream",
     "text": [
      "\n",
      "            Query: Care sunt drepturile și obligațiile părților în cazul unei concedieri individuale pentru motive care nu țin de persoana salariatului?\n",
      "            Expected: În cazul concedierii pentru motive care nu țin de persoana salariatului, angajatorul trebuie să respecte proceduri stricte și să asigure drepturi specifice salariatului. Concedierea este permisă doar pentru desființarea locului de muncă din motive economice, tehnologice, structurale sau similare. Angajatorul are obligația să acorde un preaviz de minimum 20 de zile lucrătoare și să respecte criterii obiective de selecție (performanțe profesionale, vechime, sarcini de întreținere).\n",
      "            Actual: În cadrul unei concedieri individuale pentru motive care nu țin de persoana salariatului, acesta poate fi considerat o măsură adecvată a angajatorului. Drepturile angajatorului și ale angajatului implicite sunt următoarele:\n",
      "- Angajatorul își poate concedia angajatul în caz de desființare sau transfer al locației de muncă, independent de salariat.\n",
      "- Salariatiil beneficiaza de protectia drepturilor acestora atunci cand o afacere este trasata la catel un alt angajator. \n",
      "- Drepturile și obligațiile contractuale ale persoanei care transferă sau primește vor fi transferate între ele, dacă nu se stabilesc condiții mai favorabile pentru angajat.\n",
      "\n",
      "Pentru o discuție mai amănunțită privind drepturile și obligațiile părților în cadrul unei concedieri individuale sau colective, vă rugăm să consultați un jurist.\n",
      "            Relevancy Score: [{'metric': 'Answer Relevancy', 'success': True, 'score': 0.875, 'reason': 'The score is 0.88 because the response effectively addresses the rights and obligations in the context of individual dismissal, focusing on the core aspects of the inquiry. However, the suggestion to consult a jurist, while helpful, does not directly answer the specific question, slightly affecting the score.'}]\n",
      "            Recall Score: [{'metric': 'Contextual Recall', 'success': False, 'score': 0.6666666666666666, 'reason': \"The score is 0.67 because while the 2nd node in the retrieval context supports the main idea of the expected output regarding the reasons for dismissal, it lacks details on specific procedural requirements like the 'preaviz de minimum 20 de zile lucrătoare' and 'criterii obiective de selecție,' which are not mentioned in the context.\"}]\n",
      "            Faithfulness Score: [{'metric': 'Faithfulness', 'success': False, 'score': 0.4, 'reason': \"The score is 0.40 because the actual output contradicts the retrieval context by suggesting that dismissals can occur for non-serious reasons, that location closure can justify dismissal regardless of the employee's situation, and that employees have protection under an unclear term instead of during legitimate transfers.\"}]\n",
      "            Understanding Score: [{'metric': 'Understanding (GEval)', 'success': False, 'score': 0.39353720190194064, 'reason': 'The response provides some information about rights and obligations but lacks clarity and specific procedural details required for understanding what actions the user can take, as highlighted in the expected output.'}]\n",
      "            \n",
      "Using model: rollama2-7b-instruct\n"
     ]
    },
    {
     "data": {
      "text/html": [
       "<pre style=\"white-space:pre;overflow-x:auto;line-height:normal;font-family:Menlo,'DejaVu Sans Mono',consolas,'Courier New',monospace\">\n",
       "<span style=\"color: #05f58d; text-decoration-color: #05f58d\">✓</span> Tests finished 🎉! Run <span style=\"color: #008000; text-decoration-color: #008000; font-weight: bold\">'deepeval login'</span> to save and analyze evaluation results on Confident AI.\n",
       " \n",
       "✨👀 Looking for a place for your LLM test data to live 🏡❤️ ? Use <span style=\"color: #6a00ff; text-decoration-color: #6a00ff\">Confident AI</span> to get &amp; share testing reports, \n",
       "experiment with models/prompts, and catch regressions for your LLM system. Just run <span style=\"color: #008080; text-decoration-color: #008080\">'deepeval login'</span> in the CLI. \n",
       "\n",
       "</pre>\n"
      ],
      "text/plain": [
       "\n",
       "\u001b[38;2;5;245;141m✓\u001b[0m Tests finished 🎉! Run \u001b[1;32m'deepeval login'\u001b[0m to save and analyze evaluation results on Confident AI.\n",
       " \n",
       "✨👀 Looking for a place for your LLM test data to live 🏡❤️ ? Use \u001b[38;2;106;0;255mConfident AI\u001b[0m to get & share testing reports, \n",
       "experiment with models/prompts, and catch regressions for your LLM system. Just run \u001b[36m'deepeval login'\u001b[0m in the CLI. \n",
       "\n"
      ]
     },
     "metadata": {},
     "output_type": "display_data"
    },
    {
     "data": {
      "text/html": [
       "<pre style=\"white-space:pre;overflow-x:auto;line-height:normal;font-family:Menlo,'DejaVu Sans Mono',consolas,'Courier New',monospace\">\n",
       "<span style=\"color: #05f58d; text-decoration-color: #05f58d\">✓</span> Tests finished 🎉! Run <span style=\"color: #008000; text-decoration-color: #008000; font-weight: bold\">'deepeval login'</span> to save and analyze evaluation results on Confident AI.\n",
       " \n",
       "✨👀 Looking for a place for your LLM test data to live 🏡❤️ ? Use <span style=\"color: #6a00ff; text-decoration-color: #6a00ff\">Confident AI</span> to get &amp; share testing reports, \n",
       "experiment with models/prompts, and catch regressions for your LLM system. Just run <span style=\"color: #008080; text-decoration-color: #008080\">'deepeval login'</span> in the CLI. \n",
       "\n",
       "</pre>\n"
      ],
      "text/plain": [
       "\n",
       "\u001b[38;2;5;245;141m✓\u001b[0m Tests finished 🎉! Run \u001b[1;32m'deepeval login'\u001b[0m to save and analyze evaluation results on Confident AI.\n",
       " \n",
       "✨👀 Looking for a place for your LLM test data to live 🏡❤️ ? Use \u001b[38;2;106;0;255mConfident AI\u001b[0m to get & share testing reports, \n",
       "experiment with models/prompts, and catch regressions for your LLM system. Just run \u001b[36m'deepeval login'\u001b[0m in the CLI. \n",
       "\n"
      ]
     },
     "metadata": {},
     "output_type": "display_data"
    },
    {
     "data": {
      "text/html": [
       "<pre style=\"white-space:pre;overflow-x:auto;line-height:normal;font-family:Menlo,'DejaVu Sans Mono',consolas,'Courier New',monospace\">\n",
       "<span style=\"color: #05f58d; text-decoration-color: #05f58d\">✓</span> Tests finished 🎉! Run <span style=\"color: #008000; text-decoration-color: #008000; font-weight: bold\">'deepeval login'</span> to save and analyze evaluation results on Confident AI.\n",
       " \n",
       "✨👀 Looking for a place for your LLM test data to live 🏡❤️ ? Use <span style=\"color: #6a00ff; text-decoration-color: #6a00ff\">Confident AI</span> to get &amp; share testing reports, \n",
       "experiment with models/prompts, and catch regressions for your LLM system. Just run <span style=\"color: #008080; text-decoration-color: #008080\">'deepeval login'</span> in the CLI. \n",
       "\n",
       "</pre>\n"
      ],
      "text/plain": [
       "\n",
       "\u001b[38;2;5;245;141m✓\u001b[0m Tests finished 🎉! Run \u001b[1;32m'deepeval login'\u001b[0m to save and analyze evaluation results on Confident AI.\n",
       " \n",
       "✨👀 Looking for a place for your LLM test data to live 🏡❤️ ? Use \u001b[38;2;106;0;255mConfident AI\u001b[0m to get & share testing reports, \n",
       "experiment with models/prompts, and catch regressions for your LLM system. Just run \u001b[36m'deepeval login'\u001b[0m in the CLI. \n",
       "\n"
      ]
     },
     "metadata": {},
     "output_type": "display_data"
    },
    {
     "data": {
      "text/html": [
       "<pre style=\"white-space:pre;overflow-x:auto;line-height:normal;font-family:Menlo,'DejaVu Sans Mono',consolas,'Courier New',monospace\">\n",
       "<span style=\"color: #05f58d; text-decoration-color: #05f58d\">✓</span> Tests finished 🎉! Run <span style=\"color: #008000; text-decoration-color: #008000; font-weight: bold\">'deepeval login'</span> to save and analyze evaluation results on Confident AI.\n",
       " \n",
       "✨👀 Looking for a place for your LLM test data to live 🏡❤️ ? Use <span style=\"color: #6a00ff; text-decoration-color: #6a00ff\">Confident AI</span> to get &amp; share testing reports, \n",
       "experiment with models/prompts, and catch regressions for your LLM system. Just run <span style=\"color: #008080; text-decoration-color: #008080\">'deepeval login'</span> in the CLI. \n",
       "\n",
       "</pre>\n"
      ],
      "text/plain": [
       "\n",
       "\u001b[38;2;5;245;141m✓\u001b[0m Tests finished 🎉! Run \u001b[1;32m'deepeval login'\u001b[0m to save and analyze evaluation results on Confident AI.\n",
       " \n",
       "✨👀 Looking for a place for your LLM test data to live 🏡❤️ ? Use \u001b[38;2;106;0;255mConfident AI\u001b[0m to get & share testing reports, \n",
       "experiment with models/prompts, and catch regressions for your LLM system. Just run \u001b[36m'deepeval login'\u001b[0m in the CLI. \n",
       "\n"
      ]
     },
     "metadata": {},
     "output_type": "display_data"
    },
    {
     "name": "stdout",
     "output_type": "stream",
     "text": [
      "\n",
      "            Query: Care sunt drepturile și obligațiile părților în cazul unei concedieri individuale pentru motive care nu țin de persoana salariatului?\n",
      "            Expected: În cazul concedierii pentru motive care nu țin de persoana salariatului, angajatorul trebuie să respecte proceduri stricte și să asigure drepturi specifice salariatului. Concedierea este permisă doar pentru desființarea locului de muncă din motive economice, tehnologice, structurale sau similare. Angajatorul are obligația să acorde un preaviz de minimum 20 de zile lucrătoare și să respecte criterii obiective de selecție (performanțe profesionale, vechime, sarcini de întreținere).\n",
      "            Actual: În ceea ce privește drepturile și obligațiile părților în cazul unei concedieri individuale pentru motive care nu țin de persoana salariatului, putem enumera următoarele aspecte legale:\n",
      "\n",
      "1. Concedierea se poate efectua pentru orice motiv care nu are legătură cu salariatul. Aceasta include desființarea postului ocupat de un angajat. Desființarea locului de muncă trebuie să fie reală și serioasă.\n",
      "2. În cazul unei mutări a întreprinderii, unității sau a anumitor părți ale acesteia către un alt angajator, salariații beneficiază de protecția drepturilor lor, care vor fi transferate integral la noul angajator. Aceasta nu poate constitui un motiv pentru concedierea individuală sau colectivă a angajaților de către cedent sau de către cesionar.\n",
      "3. Dacă o persoană consideră în mod rezonabil că situația sa actuală de muncă este afectată negativ, poate solicita concedierea pentru motive legate de performanță. În acest caz, este esențial ca angajatorul să procedeze cu prudență și să furnizeze o evaluare imparțială a motivelor pentru care a fost luată măsura de concediere.\n",
      "4. După ce se încheie procedura legală de încetare a contractului, salariatul are dreptul la compensații financiare echitabile și la o perioadă suficientă pentru căutarea unui loc de muncă. Acest lucru poate fi stabilit printr-un proces de conciliere sau de arbitraj.\n",
      "\n",
      "Deci, drepturile și obligațiile părților în cazul unei concedieri individuale pentru motive care nu țin de persoana salariatului pot varia în funcție de situația individuală a angajatului și de legislația aplicabilă.\n",
      "            Relevancy Score: [{'metric': 'Answer Relevancy', 'success': True, 'score': 0.9166666666666666, 'reason': 'The score is 0.92 because the response primarily addresses the rights and obligations in case of dismissal, which aligns well with the input question. However, the mention of voluntary resignation due to performance slightly detracts from the focus, preventing a perfect score.'}]\n",
      "            Recall Score: [{'metric': 'Contextual Recall', 'success': False, 'score': 0.6666666666666666, 'reason': \"The score is 0.67 because while the 2nd node in the retrieval context aligns well with the first two sentences of the expected output, it lacks information on the 'preaviz de minimum 20 de zile lucrătoare' and 'criterii obiective de selecție', which are crucial elements in the third sentence.\"}]\n",
      "            Faithfulness Score: [{'metric': 'Faithfulness', 'success': True, 'score': 0.7777777777777778, 'reason': 'The score is 0.78 because the actual output incorrectly states that dismissal can occur for any reason unrelated to the employee, while the context specifies it must be due to job elimination. Additionally, it suggests performance-related dismissal is valid, contradicting the context that does not recognize performance as a reason for dismissal.'}]\n",
      "            Understanding Score: [{'metric': 'Understanding (GEval)', 'success': False, 'score': 0.5021118764251475, 'reason': 'The response provides some legal aspects of dismissal but lacks clarity and accessibility for someone without legal knowledge. It does not clearly outline what the user can or must do, as required by the evaluation steps.'}]\n",
      "            \n",
      "Finished tests for model: rollama2-7b-instruct\n",
      "\n",
      "==================================================\n",
      "\n",
      "\n",
      "Evaluating model: rollama3-8b-instruct\n",
      "{\n",
      "    \"Answer Relevancy\": {\n",
      "        \"avg_score\": 0.884,\n",
      "        \"std_dev\": 0.229,\n",
      "        \"pass_rate\": \"83.3%\",\n",
      "        \"total_cases\": 6\n",
      "    },\n",
      "    \"Contextual Recall\": {\n",
      "        \"avg_score\": 0.733,\n",
      "        \"std_dev\": 0.313,\n",
      "        \"pass_rate\": \"50.0%\",\n",
      "        \"total_cases\": 6\n",
      "    },\n",
      "    \"Faithfulness\": {\n",
      "        \"avg_score\": 0.622,\n",
      "        \"std_dev\": 0.435,\n",
      "        \"pass_rate\": \"50.0%\",\n",
      "        \"total_cases\": 6\n",
      "    },\n",
      "    \"Understanding (GEval)\": {\n",
      "        \"avg_score\": 0.485,\n",
      "        \"std_dev\": 0.169,\n",
      "        \"pass_rate\": \"0.0%\",\n",
      "        \"total_cases\": 6\n",
      "    },\n",
      "    \"examples\": [\n",
      "        {\n",
      "            \"query\": \"Cât timp poate fi reținută o persoană înainte de a fi arestată?\",\n",
      "            \"expected\": \"Reținerea nu poate depăși 24 de ore. După acest termen, persoana trebuie eliberată sau arestată preventiv prin decizia unui judecător.\",\n",
      "            \"actual\": \"Potrivit legilor românești, o persoană poate fi reținută timp de până la 30 de zile. Acest lucru se poate prelungi cu încă 30 de zile, dar nu mai mult de 180 de zile.\",\n",
      "            \"metrics\": {\n",
      "                \"Answer Relevancy\": {\n",
      "                    \"score\": 1.0,\n",
      "                    \"success\": true,\n",
      "                    \"reason\": \"The score is 1.00 because the response is perfectly relevant and directly addresses the question about the duration a person can be detained before being arrested. Great job on providing a clear and concise answer!\"\n",
      "                },\n",
      "                \"Contextual Recall\": {\n",
      "                    \"score\": 1.0,\n",
      "                    \"success\": true,\n",
      "                    \"reason\": \"The score is 1.00 because every sentence in the expected output is perfectly aligned with the nodes in the retrieval context, ensuring complete accuracy and relevance. Great job!\"\n",
      "                },\n",
      "                \"Faithfulness\": {\n",
      "                    \"score\": 0.0,\n",
      "                    \"success\": false,\n",
      "                    \"reason\": \"The score is 0.00 because the actual output incorrectly states that reținerea (detention) can last for 30 days and that it can be extended for another 30 days, contradicting the retrieval context which clearly states that detention cannot exceed 24 hours.\"\n",
      "                },\n",
      "                \"Understanding (GEval)\": {\n",
      "                    \"score\": 0.2619911693651972,\n",
      "                    \"success\": false,\n",
      "                    \"reason\": \"The actual output provides a legal timeframe of up to 30 days, which is misleading compared to the expected output stating a maximum of 24 hours, making it unclear for a layperson.\"\n",
      "                }\n",
      "            }\n",
      "        },\n",
      "        {\n",
      "            \"query\": \"Care sunt drepturile cetățeanului român?\",\n",
      "            \"expected\": \"Cetățeanul român beneficiază de drepturi și libertăți fundamentale în toate domeniile vieții. Drepturile civile și politice includ dreptul la viață, libertatea individuală, dreptul la apărare, dreptul de vot de la 18 ani și eligibilitatea pentru funcții publice. Libertățile fundamentale cuprind libertatea gândirii și credinței religioase, libertatea de exprimare, dreptul la informație și dreptul de asociere în partide și sindicate. Drepturile economice și sociale garantează munca liber aleasă, greva, proprietatea privată, moștenirea, pensia și asistența medicală. În plus, cetățenii au dreptul la învățătură, acces la cultură, un mediu sănătos și protecția statului în străinătate.\",\n",
      "            \"actual\": \"Cetățenilor români li se acordă următoarele drepturi:\\n\\n- Ei sunt egali în fața legii și a autorităților publice, fără privilegii și fără discriminare (Art. 21 alineatul (1))\\n- Nimeni nu este mai presus de lege (Articolul 21 din Constituția României)\\n- Funcțiile și demnitățile publice, civile sau militare pot fi ocupate în condițiile legii de persoanele care au cetățenia română și domiciliul în țară. Statul român garantează egalitatea de șanse între femei și bărbați pentru ocuparea acestor funcții și demnități (Articolul 21 alineatul (3) din Constituția României)\\n\\nDispozițiile constituționale privitoare la drepturile și libertățile cetățenilor sunt interpretate și aplicate în conformitate cu Declarația Universală de la ONU a Drepturilor Omului, cu Pactele și cu alte tratate la care România este parte. Dacă există neconcordanțe între pacte și tratate privitoare la drepturile fundamentale ale omului, la care România este parte, și legile interne, acestea din următoarea reglementare internațională vor avea prioritate față de dispozițiile interne. Cetățenii români au acces liber la justiție (Articolul 23 alineatul (1) și Articolul 24 din Constituția României).\",\n",
      "            \"metrics\": {\n",
      "                \"Answer Relevancy\": {\n",
      "                    \"score\": 1.0,\n",
      "                    \"success\": true,\n",
      "                    \"reason\": \"The score is 1.00 because the response perfectly addresses the question about the rights of a Romanian citizen without any irrelevant information. Great job on staying focused and relevant!\"\n",
      "                },\n",
      "                \"Contextual Recall\": {\n",
      "                    \"score\": 0.4,\n",
      "                    \"success\": false,\n",
      "                    \"reason\": \"The score is 0.40 because while the 1st and 2nd nodes in the retrieval context align with the fundamental rights and voting rights mentioned in sentences 1 and 2 of the expected output, there is a lack of specific references in the retrieval context for the freedoms of thought, expression, and economic rights detailed in sentences 3 and 4.\"\n",
      "                },\n",
      "                \"Faithfulness\": {\n",
      "                    \"score\": 1.0,\n",
      "                    \"success\": true,\n",
      "                    \"reason\": \"The score is 1.00 because there are no contradictions present, indicating that the actual output perfectly aligns with the retrieval context.\"\n",
      "                },\n",
      "                \"Understanding (GEval)\": {\n",
      "                    \"score\": 0.42264138581534844,\n",
      "                    \"success\": false,\n",
      "                    \"reason\": \"While the actual output lists some rights, it is overly legalistic and lacks clarity for someone without legal knowledge, making it difficult for users to understand their rights and obligations.\"\n",
      "                }\n",
      "            }\n",
      "        },\n",
      "        {\n",
      "            \"query\": \"Ce obligație are angajatorul înainte de încheierea contractului individual de muncă?\",\n",
      "            \"expected\": \"Anterior încheierii sau modificării contractului individual de muncă, angajatorul are obligația de a informa persoana selectată în vederea angajării cu privire la clauzele esențiale pe care intenționează să le înscrie în contract sau să le modifice.\",\n",
      "            \"actual\": \"Înainte ca un angajator să semneze sau să modifice contractul individual de muncă, angajatorul este obligat să informeze persoana selectată pentru angajare (sau salariatul) cu privire la clauzele esențiale pe care intenționează să le introducă în contract. Acestea includ: identitatea părților, locul de muncă sau condițiile de desfășurare a activității, sediul angajatorului (sau domiciliu), funcția/ocupația salariatului conform Clasificării ocupațiilor din România și a fișei postului, criteriile de evaluare profesională, riscurile specifice postului, data la care contractul va produce efecte, durata unui contract pe termen determinat sau temporar, durata concediului de odihnă, preavizul și alte clauze. Aceste informații trebuie cuprinse în contract.\",\n",
      "            \"metrics\": {\n",
      "                \"Answer Relevancy\": {\n",
      "                    \"score\": 1.0,\n",
      "                    \"success\": true,\n",
      "                    \"reason\": \"The score is 1.00 because the response perfectly addresses the question about the employer's obligations before signing an individual employment contract, with no irrelevant information included. Great job!\"\n",
      "                },\n",
      "                \"Contextual Recall\": {\n",
      "                    \"score\": 1.0,\n",
      "                    \"success\": true,\n",
      "                    \"reason\": \"The score is 1.00 because the expected output is perfectly aligned with the retrieval context, as the sentence is directly quoted from the 2nd node in the retrieval context. Great job on achieving a flawless match!\"\n",
      "                },\n",
      "                \"Faithfulness\": {\n",
      "                    \"score\": 1.0,\n",
      "                    \"success\": true,\n",
      "                    \"reason\": \"The score is 1.00 because there are no contradictions present, indicating that the actual output perfectly aligns with the retrieval context.\"\n",
      "                },\n",
      "                \"Understanding (GEval)\": {\n",
      "                    \"score\": 0.6935447265307282,\n",
      "                    \"success\": false,\n",
      "                    \"reason\": \"The response provides clear information about the employer's obligations, but it is somewhat lengthy and may be less accessible for someone without legal knowledge compared to the expected output.\"\n",
      "                }\n",
      "            }\n",
      "        },\n",
      "        {\n",
      "            \"query\": \"Care este vârsta legală minimă pentru încheierea unei căsătorii în România?\",\n",
      "            \"expected\": \"Căsătoria se poate încheia dacă viitorii soți au împlinit vârsta de 18 ani.\",\n",
      "            \"actual\": \"Vârsta legală minimă pentru căsătorie este de 18 ani în România. Cazurile în care un minor poate fi căsătorit sunt reglementate prin legislația menționată mai sus și trebuie să fie avizate de părinți, tutori sau autoritățile competente în funcție de situații.\",\n",
      "            \"metrics\": {\n",
      "                \"Answer Relevancy\": {\n",
      "                    \"score\": 1.0,\n",
      "                    \"success\": true,\n",
      "                    \"reason\": \"The score is 1.00 because the response is perfectly relevant and directly answers the question about the legal minimum age for marriage in Romania. Great job on providing a clear and concise answer!\"\n",
      "                },\n",
      "                \"Contextual Recall\": {\n",
      "                    \"score\": 1.0,\n",
      "                    \"success\": true,\n",
      "                    \"reason\": \"The score is 1.00 because the expected output perfectly matches the information from the 2nd node in the retrieval context, showcasing a flawless alignment.\"\n",
      "                },\n",
      "                \"Faithfulness\": {\n",
      "                    \"score\": 1.0,\n",
      "                    \"success\": true,\n",
      "                    \"reason\": \"The score is 1.00 because there are no contradictions present, indicating that the actual output perfectly aligns with the retrieval context.\"\n",
      "                },\n",
      "                \"Understanding (GEval)\": {\n",
      "                    \"score\": 0.676873573790471,\n",
      "                    \"success\": false,\n",
      "                    \"reason\": \"The response provides the legal age for marriage clearly, but the additional information about minors and regulations may complicate understanding for someone without legal knowledge.\"\n",
      "                }\n",
      "            }\n",
      "        },\n",
      "        {\n",
      "            \"query\": \"În ce condiții poate fi încheiat un contract de vânzare-cumpărare și care sunt excepțiile de la forma scrisă?\",\n",
      "            \"expected\": \"Contractul de vânzare-cumpărare se încheie prin acordul părților asupra lucrului și prețului. Contractul trebuie să fie în formă scrisă pentru bunurile imobile, pentru bunurile mobile cu valoarea peste o anumită sumă stabilită prin lege și pentru bunurile viitoare. Forma scrisă nu este obligatorie pentru bunurile mobile de valoare mică, pentru vânzările în cadrul activităților comerciale curente cu plată pe loc, sau când legea prevede expres alte forme de încheierie.\",\n",
      "            \"actual\": \"Un contract de vânzare-cumpărare poate fi încheiat verbal sau sub semnătură privată, dacă nu există nici o dispoziție legală care să prevadă altfel. \\n\\nForma scrisă este necesară numai pentru dovada unui contract de consignare și a unui contract de societate.\\n\\nContractele verbale ale mandatelor pot rezulta din executarea lor de către mandatar sau din acceptarea verbală, dar trebuie respectată forma legală dacă este nevoie.\",\n",
      "            \"metrics\": {\n",
      "                \"Answer Relevancy\": {\n",
      "                    \"score\": 0.42857142857142855,\n",
      "                    \"success\": false,\n",
      "                    \"reason\": \"The score is 0.43 because the output includes several irrelevant contract types, such as consignment, partnership, and mandate contracts, which do not directly address the conditions or exceptions of a sale contract. However, the score is not lower because the output may still contain some relevant information related to the input question.\"\n",
      "                },\n",
      "                \"Contextual Recall\": {\n",
      "                    \"score\": 0.3333333333333333,\n",
      "                    \"success\": false,\n",
      "                    \"reason\": \"The score is 0.33 because only the requirement for a written form for certain goods (sentence 2) aligns with the 1st node in the retrieval context. However, the agreement on object and price (sentence 1) and exceptions for small value goods and commercial activities (sentence 4) are not supported by any nodes in the retrieval context.\"\n",
      "                },\n",
      "                \"Faithfulness\": {\n",
      "                    \"score\": 0.3333333333333333,\n",
      "                    \"success\": false,\n",
      "                    \"reason\": \"The score is 0.33 because the actual output incorrectly states that a sale-purchase contract can be concluded verbally or under private signature, which is not supported by the retrieval context. Additionally, it misrepresents the requirement for written form, suggesting it is only necessary for proof of certain contracts, while the retrieval context clearly states that written form is required for both types of contracts.\"\n",
      "                },\n",
      "                \"Understanding (GEval)\": {\n",
      "                    \"score\": 0.45931952729945646,\n",
      "                    \"success\": false,\n",
      "                    \"reason\": \"The actual output provides some information about verbal contracts and exceptions, but it lacks clarity and does not fully explain the conditions for a sale-purchase contract, making it less accessible for someone without legal knowledge.\"\n",
      "                }\n",
      "            }\n",
      "        },\n",
      "        {\n",
      "            \"query\": \"Care sunt drepturile și obligațiile părților în cazul unei concedieri individuale pentru motive care nu țin de persoana salariatului?\",\n",
      "            \"expected\": \"În cazul concedierii pentru motive care nu țin de persoana salariatului, angajatorul trebuie să respecte proceduri stricte și să asigure drepturi specifice salariatului. Concedierea este permisă doar pentru desființarea locului de muncă din motive economice, tehnologice, structurale sau similare. Angajatorul are obligația să acorde un preaviz de minimum 20 de zile lucrătoare și să respecte criterii obiective de selecție (performanțe profesionale, vechime, sarcini de întreținere).\",\n",
      "            \"actual\": \"În cadrul unei concedieri individuale pentru motive care nu țin de persoana salariatului, acesta poate fi considerat o măsură adecvată a angajatorului. Drepturile angajatorului și ale angajatului implicite sunt următoarele:\\n- Angajatorul își poate concedia angajatul în caz de desființare sau transfer al locației de muncă, independent de salariat.\\n- Salariatiil beneficiaza de protectia drepturilor acestora atunci cand o afacere este trasata la catel un alt angajator. \\n- Drepturile și obligațiile contractuale ale persoanei care transferă sau primește vor fi transferate între ele, dacă nu se stabilesc condiții mai favorabile pentru angajat.\\n\\nPentru o discuție mai amănunțită privind drepturile și obligațiile părților în cadrul unei concedieri individuale sau colective, vă rugăm să consultați un jurist.\",\n",
      "            \"metrics\": {\n",
      "                \"Answer Relevancy\": {\n",
      "                    \"score\": 0.875,\n",
      "                    \"success\": true,\n",
      "                    \"reason\": \"The score is 0.88 because the response effectively addresses the rights and obligations in the context of individual dismissal, focusing on the core aspects of the inquiry. However, the suggestion to consult a jurist, while helpful, does not directly answer the specific question, slightly affecting the score.\"\n",
      "                },\n",
      "                \"Contextual Recall\": {\n",
      "                    \"score\": 0.6666666666666666,\n",
      "                    \"success\": false,\n",
      "                    \"reason\": \"The score is 0.67 because while the 2nd node in the retrieval context supports the main idea of the expected output regarding the reasons for dismissal, it lacks details on specific procedural requirements like the 'preaviz de minimum 20 de zile lucrătoare' and 'criterii obiective de selecție,' which are not mentioned in the context.\"\n",
      "                },\n",
      "                \"Faithfulness\": {\n",
      "                    \"score\": 0.4,\n",
      "                    \"success\": false,\n",
      "                    \"reason\": \"The score is 0.40 because the actual output contradicts the retrieval context by suggesting that dismissals can occur for non-serious reasons, that location closure can justify dismissal regardless of the employee's situation, and that employees have protection under an unclear term instead of during legitimate transfers.\"\n",
      "                },\n",
      "                \"Understanding (GEval)\": {\n",
      "                    \"score\": 0.39353720190194064,\n",
      "                    \"success\": false,\n",
      "                    \"reason\": \"The response provides some information about rights and obligations but lacks clarity and specific procedural details required for understanding what actions the user can take, as highlighted in the expected output.\"\n",
      "                }\n",
      "            }\n",
      "        }\n",
      "    ]\n",
      "}\n",
      "Evaluating model: rollama2-7b-instruct\n",
      "{\n",
      "    \"Answer Relevancy\": {\n",
      "        \"avg_score\": 0.83,\n",
      "        \"std_dev\": 0.19,\n",
      "        \"pass_rate\": \"83.3%\",\n",
      "        \"total_cases\": 6\n",
      "    },\n",
      "    \"Contextual Recall\": {\n",
      "        \"avg_score\": 0.733,\n",
      "        \"std_dev\": 0.313,\n",
      "        \"pass_rate\": \"50.0%\",\n",
      "        \"total_cases\": 6\n",
      "    },\n",
      "    \"Faithfulness\": {\n",
      "        \"avg_score\": 0.734,\n",
      "        \"std_dev\": 0.253,\n",
      "        \"pass_rate\": \"50.0%\",\n",
      "        \"total_cases\": 6\n",
      "    },\n",
      "    \"Understanding (GEval)\": {\n",
      "        \"avg_score\": 0.577,\n",
      "        \"std_dev\": 0.109,\n",
      "        \"pass_rate\": \"16.7%\",\n",
      "        \"total_cases\": 6\n",
      "    },\n",
      "    \"examples\": [\n",
      "        {\n",
      "            \"query\": \"Cât timp poate fi reținută o persoană înainte de a fi arestată?\",\n",
      "            \"expected\": \"Reținerea nu poate depăși 24 de ore. După acest termen, persoana trebuie eliberată sau arestată preventiv prin decizia unui judecător.\",\n",
      "            \"actual\": \"Pentru o perioadă maximă de 24 de ore, persoana poate fi reținută sau arestată preventiv. Cu toate acestea, dacă motivele care au dus la reținerea lor nu mai există, ele vor fi eliberate. Acesta este un principiu legal bine stabilit, care asigură faptul că persoanele nu sunt ținute în detenție pentru o perioadă indefinită. \",\n",
      "            \"metrics\": {\n",
      "                \"Answer Relevancy\": {\n",
      "                    \"score\": 0.75,\n",
      "                    \"success\": true,\n",
      "                    \"reason\": \"The score is 0.75 because the response partially addresses the question about the duration a person can be held before arrest. However, it includes a statement about a legal principle that doesn't directly answer the question, which slightly detracts from its relevance.\"\n",
      "                },\n",
      "                \"Contextual Recall\": {\n",
      "                    \"score\": 1.0,\n",
      "                    \"success\": true,\n",
      "                    \"reason\": \"The score is 1.00 because every sentence in the expected output is perfectly aligned with the nodes in the retrieval context, ensuring complete accuracy and relevance. Great job!\"\n",
      "                },\n",
      "                \"Faithfulness\": {\n",
      "                    \"score\": 0.6666666666666666,\n",
      "                    \"success\": false,\n",
      "                    \"reason\": \"The score is 0.67 because the actual output inaccurately states that a person can be detained for a maximum of 24 hours, while the retrieval context clarifies that detention cannot exceed 24 hours, indicating a subtle but significant difference in phrasing.\"\n",
      "                },\n",
      "                \"Understanding (GEval)\": {\n",
      "                    \"score\": 0.6292728958821319,\n",
      "                    \"success\": false,\n",
      "                    \"reason\": \"While the actual output provides some clarity on the detention period, it lacks the concise and direct nature of the expected output, making it less accessible for someone without legal knowledge.\"\n",
      "                }\n",
      "            }\n",
      "        },\n",
      "        {\n",
      "            \"query\": \"Care sunt drepturile cetățeanului român?\",\n",
      "            \"expected\": \"Cetățeanul român beneficiază de drepturi și libertăți fundamentale în toate domeniile vieții. Drepturile civile și politice includ dreptul la viață, libertatea individuală, dreptul la apărare, dreptul de vot de la 18 ani și eligibilitatea pentru funcții publice. Libertățile fundamentale cuprind libertatea gândirii și credinței religioase, libertatea de exprimare, dreptul la informație și dreptul de asociere în partide și sindicate. Drepturile economice și sociale garantează munca liber aleasă, greva, proprietatea privată, moștenirea, pensia și asistența medicală. În plus, cetățenii au dreptul la învățătură, acces la cultură, un mediu sănătos și protecția statului în străinătate.\",\n",
      "            \"actual\": \"\\nCetățenii români au următoarele drepturi:\\n\\n1. Egalitatea de șanse în fața legii: Aceasta înseamnă că fiecare persoană, indiferent de sex sau rasă, are posibilitatea de a-și atinge potențialul maxim și de a reuși în viață.\\n2. Drepturile fundamentale ale omului: Acestea includ drepturi precum libertatea de exprimare, libertatea religioasă, protecția împotriva discriminării și tratamentului nedrept și dreptul la viață privată.\\n3. Acces liber la justiție: Cetățenii pot adresa plângerile sau revendicările lor în fața instanțelor de judecată și a altor autorități de aplicare a legii. \",\n",
      "            \"metrics\": {\n",
      "                \"Answer Relevancy\": {\n",
      "                    \"score\": 1.0,\n",
      "                    \"success\": true,\n",
      "                    \"reason\": \"The score is 1.00 because the response perfectly addresses the question about the rights of a Romanian citizen without any irrelevant information. Great job on staying focused and relevant!\"\n",
      "                },\n",
      "                \"Contextual Recall\": {\n",
      "                    \"score\": 0.4,\n",
      "                    \"success\": false,\n",
      "                    \"reason\": \"The score is 0.40 because while the 3rd node in the retrieval context supports the mention of 'drepturi și libertăți fundamentale' and the 2nd node aligns with 'dreptul de vot de la 18 ani și eligibilitatea pentru funcții publice', there is a lack of specific references to 'libertatea gândirii și credinței religioase', 'drepturile economice și sociale', and 'dreptul la învățătură' in the retrieval context.\"\n",
      "                },\n",
      "                \"Faithfulness\": {\n",
      "                    \"score\": 1.0,\n",
      "                    \"success\": true,\n",
      "                    \"reason\": \"The score is 1.00 because there are no contradictions present, indicating that the actual output perfectly aligns with the retrieval context.\"\n",
      "                },\n",
      "                \"Understanding (GEval)\": {\n",
      "                    \"score\": 0.5152884173060204,\n",
      "                    \"success\": false,\n",
      "                    \"reason\": \"While the actual output lists some rights of Romanian citizens, it lacks clarity and comprehensiveness compared to the expected output, which provides a more detailed and accessible overview of rights and freedoms.\"\n",
      "                }\n",
      "            }\n",
      "        },\n",
      "        {\n",
      "            \"query\": \"Ce obligație are angajatorul înainte de încheierea contractului individual de muncă?\",\n",
      "            \"expected\": \"Anterior încheierii sau modificării contractului individual de muncă, angajatorul are obligația de a informa persoana selectată în vederea angajării cu privire la clauzele esențiale pe care intenționează să le înscrie în contract sau să le modifice.\",\n",
      "            \"actual\": \"\\nÎnainte de încheierea sau modificarea contractului individual de muncă, angajatorul are obligația de a informa salariatul sau persoana selectată în vederea angajării cu privire la clauzele esențiale pe care intenționează să le înscrie în contract sau să le modifice. Informațiile menționate sunt necesare pentru încheierea cu succes a acordului de muncă și pot fi incluse într-un contract individual de muncă standard, după cum urmează:\\n\\n- identitatea angajatorului;\\n- locul de muncă sau, dacă nu există un loc de muncă fix, posibilitatea ca salariatul să își desfășoare activitatea în diferite locuri de muncă, precum și dacă deplasarea între acestea este asigurată sau decontată de către angajator;\\n- funcția/ocupația în conformitate cu specificațiile Clasificării Ocupațiilor din România sau alte acte normative, precum și fisa postului, cu specificarea atribuțiilor postului;\\n- durata normală a muncii, exprimată în ore/zi și/sau ore/săptămână, condițiile de efectuare și de compensare sau de plată pentru orele suplimentare, precum și, dacă este cazul, modalitățile de organizare a muncii în schimburi;\\n- dreptul și condițiile privind formarea profesională oferită de angajator;\\n- suportarea asigurării medicale private, a contribuțiilor suplimentare la pensie facultativă sau la pensia ocupațională a salariatului, în cazul în care acesta nu constituie un avantaj financiar pentru angajator;\\n- informarea cu privire la orice alte drepturi care se regăsesc în contractul individual de muncă, dacă nu sunt prevăzute expres de lege sau de contractul colectiv de muncă aplicabil.\\n\\nAstfel, angajatorul are obligația de a furniza aceste informații salariatului înainte de semnarea contractului individual de muncă. \",\n",
      "            \"metrics\": {\n",
      "                \"Answer Relevancy\": {\n",
      "                    \"score\": 0.8125,\n",
      "                    \"success\": true,\n",
      "                    \"reason\": \"The score is 0.81 because the response primarily addresses the employer's obligations before signing an employment contract. However, it includes details about post-employment benefits, which are not directly relevant to the pre-contractual obligations, slightly lowering the score.\"\n",
      "                },\n",
      "                \"Contextual Recall\": {\n",
      "                    \"score\": 1.0,\n",
      "                    \"success\": true,\n",
      "                    \"reason\": \"The score is 1.00 because the expected output perfectly matches the information from the 2nd node in the retrieval context, ensuring complete alignment and accuracy.\"\n",
      "                },\n",
      "                \"Faithfulness\": {\n",
      "                    \"score\": 0.3333333333333333,\n",
      "                    \"success\": false,\n",
      "                    \"reason\": \"The score is 0.33 because the actual output fails to align with the retrieval context in multiple areas, such as not specifying that essential clauses must be included in the contract, omitting the requirement for the job description, and lacking clarity on the expression of work duration and conditions of overtime.\"\n",
      "                },\n",
      "                \"Understanding (GEval)\": {\n",
      "                    \"score\": 0.6783898625087709,\n",
      "                    \"success\": false,\n",
      "                    \"reason\": \"The response provides detailed information about the employer's obligations, but it is somewhat lengthy and may not be as accessible for someone without legal knowledge compared to the expected output.\"\n",
      "                }\n",
      "            }\n",
      "        },\n",
      "        {\n",
      "            \"query\": \"Care este vârsta legală minimă pentru încheierea unei căsătorii în România?\",\n",
      "            \"expected\": \"Căsătoria se poate încheia dacă viitorii soți au împlinit vârsta de 18 ani.\",\n",
      "            \"actual\": \"\\nVârsta legală minimă pentru încheierea unei căsătorii în România este de 18 ani. Când ambii viitori soți au împlinit vârsta de 18 ani, se pot căsători fără a avea nevoie de permisiunea părinților. Dacă unul dintre ei are sub 18 ani, dar are cel puțin 16 ani, poate fi căsătorit cu autorizarea tutorelui și avizul medical.\",\n",
      "            \"metrics\": {\n",
      "                \"Answer Relevancy\": {\n",
      "                    \"score\": 1.0,\n",
      "                    \"success\": true,\n",
      "                    \"reason\": \"The score is 1.00 because the response is perfectly relevant and directly answers the question about the legal minimum age for marriage in Romania. Great job on providing a clear and concise answer!\"\n",
      "                },\n",
      "                \"Contextual Recall\": {\n",
      "                    \"score\": 1.0,\n",
      "                    \"success\": true,\n",
      "                    \"reason\": \"The score is 1.00 because the expected output perfectly matches the information from the 2nd node in the retrieval context, demonstrating a flawless alignment.\"\n",
      "                },\n",
      "                \"Faithfulness\": {\n",
      "                    \"score\": 1.0,\n",
      "                    \"success\": true,\n",
      "                    \"reason\": \"The score is 1.00 because there are no contradictions present, indicating that the actual output perfectly aligns with the retrieval context.\"\n",
      "                },\n",
      "                \"Understanding (GEval)\": {\n",
      "                    \"score\": 0.7032257857080113,\n",
      "                    \"success\": true,\n",
      "                    \"reason\": \"The actual output provides clear information about the minimum legal age for marriage and conditions for those under 18, but it is more detailed than the expected output, which is simpler and more direct.\"\n",
      "                }\n",
      "            }\n",
      "        },\n",
      "        {\n",
      "            \"query\": \"În ce condiții poate fi încheiat un contract de vânzare-cumpărare și care sunt excepțiile de la forma scrisă?\",\n",
      "            \"expected\": \"Contractul de vânzare-cumpărare se încheie prin acordul părților asupra lucrului și prețului. Contractul trebuie să fie în formă scrisă pentru bunurile imobile, pentru bunurile mobile cu valoarea peste o anumită sumă stabilită prin lege și pentru bunurile viitoare. Forma scrisă nu este obligatorie pentru bunurile mobile de valoare mică, pentru vânzările în cadrul activităților comerciale curente cu plată pe loc, sau când legea prevede expres alte forme de încheierie.\",\n",
      "            \"actual\": \"\\nÎn ce condiții poate fi încheiat un contract de vânzare-cumpărare și care sunt excepțiile de la forma scrisă?\\n\\nUn contract de vânzare-cumpărare poate fi încheiat oral sau în formă scrisă. În cazul în care nu se prevede altfel, un contract scris este necesar numai pentru dovedirea contractului. Excepții de la această regulă includ:\\n\\n- Contracte consignație: Un contract de consignație trebuie să fie în formă scrisă.\\n- Societatea comercială: un contract de societate, care include societățile comerciale și cooperativele, trebuie să fie în formă scrisă. Cu toate acestea, un contract prin care se înființează o societate cu personalitate juridică este necesar pentru a fi în formă scrisă și trebuie să includă asociații, aporturile, forma juridică, obiectul, denumirea și sediul.\\n- Contracte de mandat: Un contract de mandat poate fi verbal (vorbit), autentic sau sub semnătură privată, atâta timp cât este acceptat de mandatar. Cu toate acestea, dacă un mandant dat pentru încheierea unui act juridic necesită o anumită formă, contractul trebuie să respecte acea formă.\\n- Contracte de vânzare-cumpărare: un contract scris este obligatoriu pentru opozabilitatea față de terțe persoane (în cazul în care nu se prevede altfel). \",\n",
      "            \"metrics\": {\n",
      "                \"Answer Relevancy\": {\n",
      "                    \"score\": 0.5,\n",
      "                    \"success\": false,\n",
      "                    \"reason\": \"The score is 0.50 because while the output does address the topic of sale contracts, it includes several irrelevant contract types such as consignment, company, and mandate contracts, which do not pertain to the specific conditions or exceptions of a sale contract. This dilutes the focus, preventing a higher score.\"\n",
      "                },\n",
      "                \"Contextual Recall\": {\n",
      "                    \"score\": 0.3333333333333333,\n",
      "                    \"success\": false,\n",
      "                    \"reason\": \"The score is 0.33 because only the requirement for a written form for certain goods (sentence 2) aligns with the 1st node in the retrieval context. However, the agreement on the object and price (sentence 1) and exceptions for small value goods (sentence 4) are not supported by any nodes in the retrieval context.\"\n",
      "                },\n",
      "                \"Faithfulness\": {\n",
      "                    \"score\": 0.625,\n",
      "                    \"success\": false,\n",
      "                    \"reason\": \"The score is 0.62 because the actual output incorrectly states that oral contracts are valid for sale-purchase agreements, while the retrieval context does not support this. Additionally, it misrepresents the necessity of written contracts, suggesting they are only needed for proof rather than for certain contracts, and it inaccurately claims that written contracts are mandatory for third-party opposability, contrary to the retrieval context's clarification on form requirements.\"\n",
      "                },\n",
      "                \"Understanding (GEval)\": {\n",
      "                    \"score\": 0.43250230175517757,\n",
      "                    \"success\": false,\n",
      "                    \"reason\": \"The actual output provides some information about the conditions for concluding a sales contract, but it lacks clarity and accessibility for someone without legal knowledge. It does not clearly outline what the user is allowed or required to do based on the response.\"\n",
      "                }\n",
      "            }\n",
      "        },\n",
      "        {\n",
      "            \"query\": \"Care sunt drepturile și obligațiile părților în cazul unei concedieri individuale pentru motive care nu țin de persoana salariatului?\",\n",
      "            \"expected\": \"În cazul concedierii pentru motive care nu țin de persoana salariatului, angajatorul trebuie să respecte proceduri stricte și să asigure drepturi specifice salariatului. Concedierea este permisă doar pentru desființarea locului de muncă din motive economice, tehnologice, structurale sau similare. Angajatorul are obligația să acorde un preaviz de minimum 20 de zile lucrătoare și să respecte criterii obiective de selecție (performanțe profesionale, vechime, sarcini de întreținere).\",\n",
      "            \"actual\": \"În ceea ce privește drepturile și obligațiile părților în cazul unei concedieri individuale pentru motive care nu țin de persoana salariatului, putem enumera următoarele aspecte legale:\\n\\n1. Concedierea se poate efectua pentru orice motiv care nu are legătură cu salariatul. Aceasta include desființarea postului ocupat de un angajat. Desființarea locului de muncă trebuie să fie reală și serioasă.\\n2. În cazul unei mutări a întreprinderii, unității sau a anumitor părți ale acesteia către un alt angajator, salariații beneficiază de protecția drepturilor lor, care vor fi transferate integral la noul angajator. Aceasta nu poate constitui un motiv pentru concedierea individuală sau colectivă a angajaților de către cedent sau de către cesionar.\\n3. Dacă o persoană consideră în mod rezonabil că situația sa actuală de muncă este afectată negativ, poate solicita concedierea pentru motive legate de performanță. În acest caz, este esențial ca angajatorul să procedeze cu prudență și să furnizeze o evaluare imparțială a motivelor pentru care a fost luată măsura de concediere.\\n4. După ce se încheie procedura legală de încetare a contractului, salariatul are dreptul la compensații financiare echitabile și la o perioadă suficientă pentru căutarea unui loc de muncă. Acest lucru poate fi stabilit printr-un proces de conciliere sau de arbitraj.\\n\\nDeci, drepturile și obligațiile părților în cazul unei concedieri individuale pentru motive care nu țin de persoana salariatului pot varia în funcție de situația individuală a angajatului și de legislația aplicabilă.\",\n",
      "            \"metrics\": {\n",
      "                \"Answer Relevancy\": {\n",
      "                    \"score\": 0.9166666666666666,\n",
      "                    \"success\": true,\n",
      "                    \"reason\": \"The score is 0.92 because the response primarily addresses the rights and obligations in case of dismissal, which aligns well with the input question. However, the mention of voluntary resignation due to performance slightly detracts from the focus, preventing a perfect score.\"\n",
      "                },\n",
      "                \"Contextual Recall\": {\n",
      "                    \"score\": 0.6666666666666666,\n",
      "                    \"success\": false,\n",
      "                    \"reason\": \"The score is 0.67 because while the 2nd node in the retrieval context aligns well with the first two sentences of the expected output, it lacks information on the 'preaviz de minimum 20 de zile lucrătoare' and 'criterii obiective de selecție', which are crucial elements in the third sentence.\"\n",
      "                },\n",
      "                \"Faithfulness\": {\n",
      "                    \"score\": 0.7777777777777778,\n",
      "                    \"success\": true,\n",
      "                    \"reason\": \"The score is 0.78 because the actual output incorrectly states that dismissal can occur for any reason unrelated to the employee, while the context specifies it must be due to job elimination. Additionally, it suggests performance-related dismissal is valid, contradicting the context that does not recognize performance as a reason for dismissal.\"\n",
      "                },\n",
      "                \"Understanding (GEval)\": {\n",
      "                    \"score\": 0.5021118764251475,\n",
      "                    \"success\": false,\n",
      "                    \"reason\": \"The response provides some legal aspects of dismissal but lacks clarity and accessibility for someone without legal knowledge. It does not clearly outline what the user can or must do, as required by the evaluation steps.\"\n",
      "                }\n",
      "            }\n",
      "        }\n",
      "    ]\n",
      "}\n"
     ]
    }
   ],
   "source": [
    "models_list = [\"rollama3-8b-instruct\", \"rollama2-7b-instruct\"]\n",
    "\n",
    "prompt_v2 = \"\"\"\n",
    "Ești un ghid juridic virtual, care ajută cetățenii să înțeleagă legea pe înțelesul tuturor. \n",
    "\n",
    "Când răspunzi, urmează aceste reguli:\n",
    " - Explică termenii juridici într-un mod clar, ca și cum ai vorbi cu cineva fără pregătire juridică.\n",
    " - Fii concis, dar oferă informații corecte și complete.\n",
    " - Nu cita articole de lege și nu inventa numere de articole.\n",
    " - Scrie răspunsul în propoziții scurte și clare. Poți folosi listă cu puncte, dacă este nevoie.\n",
    " - Nu inventa informații. Dacă informația nu se regăsește clar în contextul oferit, răspunde cu: **„Nu am putut genera un răspuns.”**\n",
    " - Nu oferi sfaturi legale personalizate; explică doar cadrul legal general.\n",
    "\n",
    "Întrebarea utilizatorului este: {question}\n",
    "\n",
    "Folosește următoarele informații extrase din documentele juridice:\n",
    "{context}\n",
    "\n",
    "Răspunsul tău trebuie să fie în limba română, clar, politicos și ușor de înțeles.\n",
    "\"\"\"\n",
    "\n",
    "model_results = start_testing(models_list, tests_list, prompt_v2)\n",
    "\n",
    "for model_name, model_result_list in model_results.items():\n",
    "    print(f\"Evaluating model: {model_name}\")\n",
    "    results_summary = analyze_model_results(model_result_list)\n",
    "    print(json.dumps(results_summary, indent=4, ensure_ascii=False))"
   ]
  },
  {
   "cell_type": "code",
   "execution_count": 6,
   "id": "939314b8",
   "metadata": {},
   "outputs": [
    {
     "name": "stdout",
     "output_type": "stream",
     "text": [
      "Running tests for query: Cât timp poate fi reținută o persoană înainte de a fi arestată?\n",
      "Using model: rollama3-8b-instruct\n"
     ]
    },
    {
     "data": {
      "text/html": [
       "<pre style=\"white-space:pre;overflow-x:auto;line-height:normal;font-family:Menlo,'DejaVu Sans Mono',consolas,'Courier New',monospace\">\n",
       "<span style=\"color: #05f58d; text-decoration-color: #05f58d\">✓</span> Tests finished 🎉! Run <span style=\"color: #008000; text-decoration-color: #008000; font-weight: bold\">'deepeval login'</span> to save and analyze evaluation results on Confident AI.\n",
       " \n",
       "✨👀 Looking for a place for your LLM test data to live 🏡❤️ ? Use <span style=\"color: #6a00ff; text-decoration-color: #6a00ff\">Confident AI</span> to get &amp; share testing reports, \n",
       "experiment with models/prompts, and catch regressions for your LLM system. Just run <span style=\"color: #008080; text-decoration-color: #008080\">'deepeval login'</span> in the CLI. \n",
       "\n",
       "</pre>\n"
      ],
      "text/plain": [
       "\n",
       "\u001b[38;2;5;245;141m✓\u001b[0m Tests finished 🎉! Run \u001b[1;32m'deepeval login'\u001b[0m to save and analyze evaluation results on Confident AI.\n",
       " \n",
       "✨👀 Looking for a place for your LLM test data to live 🏡❤️ ? Use \u001b[38;2;106;0;255mConfident AI\u001b[0m to get & share testing reports, \n",
       "experiment with models/prompts, and catch regressions for your LLM system. Just run \u001b[36m'deepeval login'\u001b[0m in the CLI. \n",
       "\n"
      ]
     },
     "metadata": {},
     "output_type": "display_data"
    },
    {
     "data": {
      "text/html": [
       "<pre style=\"white-space:pre;overflow-x:auto;line-height:normal;font-family:Menlo,'DejaVu Sans Mono',consolas,'Courier New',monospace\">\n",
       "<span style=\"color: #05f58d; text-decoration-color: #05f58d\">✓</span> Tests finished 🎉! Run <span style=\"color: #008000; text-decoration-color: #008000; font-weight: bold\">'deepeval login'</span> to save and analyze evaluation results on Confident AI.\n",
       " \n",
       "✨👀 Looking for a place for your LLM test data to live 🏡❤️ ? Use <span style=\"color: #6a00ff; text-decoration-color: #6a00ff\">Confident AI</span> to get &amp; share testing reports, \n",
       "experiment with models/prompts, and catch regressions for your LLM system. Just run <span style=\"color: #008080; text-decoration-color: #008080\">'deepeval login'</span> in the CLI. \n",
       "\n",
       "</pre>\n"
      ],
      "text/plain": [
       "\n",
       "\u001b[38;2;5;245;141m✓\u001b[0m Tests finished 🎉! Run \u001b[1;32m'deepeval login'\u001b[0m to save and analyze evaluation results on Confident AI.\n",
       " \n",
       "✨👀 Looking for a place for your LLM test data to live 🏡❤️ ? Use \u001b[38;2;106;0;255mConfident AI\u001b[0m to get & share testing reports, \n",
       "experiment with models/prompts, and catch regressions for your LLM system. Just run \u001b[36m'deepeval login'\u001b[0m in the CLI. \n",
       "\n"
      ]
     },
     "metadata": {},
     "output_type": "display_data"
    },
    {
     "data": {
      "text/html": [
       "<pre style=\"white-space:pre;overflow-x:auto;line-height:normal;font-family:Menlo,'DejaVu Sans Mono',consolas,'Courier New',monospace\">\n",
       "<span style=\"color: #05f58d; text-decoration-color: #05f58d\">✓</span> Tests finished 🎉! Run <span style=\"color: #008000; text-decoration-color: #008000; font-weight: bold\">'deepeval login'</span> to save and analyze evaluation results on Confident AI.\n",
       " \n",
       "✨👀 Looking for a place for your LLM test data to live 🏡❤️ ? Use <span style=\"color: #6a00ff; text-decoration-color: #6a00ff\">Confident AI</span> to get &amp; share testing reports, \n",
       "experiment with models/prompts, and catch regressions for your LLM system. Just run <span style=\"color: #008080; text-decoration-color: #008080\">'deepeval login'</span> in the CLI. \n",
       "\n",
       "</pre>\n"
      ],
      "text/plain": [
       "\n",
       "\u001b[38;2;5;245;141m✓\u001b[0m Tests finished 🎉! Run \u001b[1;32m'deepeval login'\u001b[0m to save and analyze evaluation results on Confident AI.\n",
       " \n",
       "✨👀 Looking for a place for your LLM test data to live 🏡❤️ ? Use \u001b[38;2;106;0;255mConfident AI\u001b[0m to get & share testing reports, \n",
       "experiment with models/prompts, and catch regressions for your LLM system. Just run \u001b[36m'deepeval login'\u001b[0m in the CLI. \n",
       "\n"
      ]
     },
     "metadata": {},
     "output_type": "display_data"
    },
    {
     "data": {
      "text/html": [
       "<pre style=\"white-space:pre;overflow-x:auto;line-height:normal;font-family:Menlo,'DejaVu Sans Mono',consolas,'Courier New',monospace\">\n",
       "<span style=\"color: #05f58d; text-decoration-color: #05f58d\">✓</span> Tests finished 🎉! Run <span style=\"color: #008000; text-decoration-color: #008000; font-weight: bold\">'deepeval login'</span> to save and analyze evaluation results on Confident AI.\n",
       " \n",
       "✨👀 Looking for a place for your LLM test data to live 🏡❤️ ? Use <span style=\"color: #6a00ff; text-decoration-color: #6a00ff\">Confident AI</span> to get &amp; share testing reports, \n",
       "experiment with models/prompts, and catch regressions for your LLM system. Just run <span style=\"color: #008080; text-decoration-color: #008080\">'deepeval login'</span> in the CLI. \n",
       "\n",
       "</pre>\n"
      ],
      "text/plain": [
       "\n",
       "\u001b[38;2;5;245;141m✓\u001b[0m Tests finished 🎉! Run \u001b[1;32m'deepeval login'\u001b[0m to save and analyze evaluation results on Confident AI.\n",
       " \n",
       "✨👀 Looking for a place for your LLM test data to live 🏡❤️ ? Use \u001b[38;2;106;0;255mConfident AI\u001b[0m to get & share testing reports, \n",
       "experiment with models/prompts, and catch regressions for your LLM system. Just run \u001b[36m'deepeval login'\u001b[0m in the CLI. \n",
       "\n"
      ]
     },
     "metadata": {},
     "output_type": "display_data"
    },
    {
     "name": "stdout",
     "output_type": "stream",
     "text": [
      "\n",
      "            Query: Cât timp poate fi reținută o persoană înainte de a fi arestată?\n",
      "            Expected: Reținerea nu poate depăși 24 de ore. După acest termen, persoana trebuie eliberată sau arestată preventiv prin decizia unui judecător.\n",
      "            Actual: Cât timp poate fi reținută o persoană înainte de a fi arestată? Pe baza informațiilor oferite, răspunsul este că un individ nu poate fi ținut mai mult de 24 de ore.\n",
      "            Relevancy Score: [{'metric': 'Answer Relevancy', 'success': True, 'score': 1.0, 'reason': 'The score is 1.00 because the response is perfectly relevant and directly addresses the question about the duration a person can be detained before being arrested. There are no irrelevant statements, making the answer concise and on point. Great job!'}]\n",
      "            Recall Score: [{'metric': 'Contextual Recall', 'success': True, 'score': 1.0, 'reason': 'The score is 1.00 because every sentence in the expected output is perfectly aligned with the nodes in the retrieval context, ensuring complete accuracy and relevance. Great job!'}]\n",
      "            Faithfulness Score: [{'metric': 'Faithfulness', 'success': False, 'score': 0.0, 'reason': 'The score is 0.00 because the actual output incorrectly interprets the retrieval context by stating that an individual cannot be held for more than 24 hours before being arrested, while the context only specifies that detention cannot exceed 24 hours without clarifying the timing of the arrest.'}]\n",
      "            Understanding Score: [{'metric': 'Understanding (GEval)', 'success': False, 'score': 0.4744466147762595, 'reason': \"The actual output provides a clear answer about the 24-hour limit, but it lacks the additional context regarding the need for a judge's decision for preventive arrest, which is present in the expected output.\"}]\n",
      "            \n",
      "Using model: rollama2-7b-instruct\n"
     ]
    },
    {
     "data": {
      "text/html": [
       "<pre style=\"white-space:pre;overflow-x:auto;line-height:normal;font-family:Menlo,'DejaVu Sans Mono',consolas,'Courier New',monospace\">\n",
       "<span style=\"color: #05f58d; text-decoration-color: #05f58d\">✓</span> Tests finished 🎉! Run <span style=\"color: #008000; text-decoration-color: #008000; font-weight: bold\">'deepeval login'</span> to save and analyze evaluation results on Confident AI.\n",
       " \n",
       "✨👀 Looking for a place for your LLM test data to live 🏡❤️ ? Use <span style=\"color: #6a00ff; text-decoration-color: #6a00ff\">Confident AI</span> to get &amp; share testing reports, \n",
       "experiment with models/prompts, and catch regressions for your LLM system. Just run <span style=\"color: #008080; text-decoration-color: #008080\">'deepeval login'</span> in the CLI. \n",
       "\n",
       "</pre>\n"
      ],
      "text/plain": [
       "\n",
       "\u001b[38;2;5;245;141m✓\u001b[0m Tests finished 🎉! Run \u001b[1;32m'deepeval login'\u001b[0m to save and analyze evaluation results on Confident AI.\n",
       " \n",
       "✨👀 Looking for a place for your LLM test data to live 🏡❤️ ? Use \u001b[38;2;106;0;255mConfident AI\u001b[0m to get & share testing reports, \n",
       "experiment with models/prompts, and catch regressions for your LLM system. Just run \u001b[36m'deepeval login'\u001b[0m in the CLI. \n",
       "\n"
      ]
     },
     "metadata": {},
     "output_type": "display_data"
    },
    {
     "data": {
      "text/html": [
       "<pre style=\"white-space:pre;overflow-x:auto;line-height:normal;font-family:Menlo,'DejaVu Sans Mono',consolas,'Courier New',monospace\">\n",
       "<span style=\"color: #05f58d; text-decoration-color: #05f58d\">✓</span> Tests finished 🎉! Run <span style=\"color: #008000; text-decoration-color: #008000; font-weight: bold\">'deepeval login'</span> to save and analyze evaluation results on Confident AI.\n",
       " \n",
       "✨👀 Looking for a place for your LLM test data to live 🏡❤️ ? Use <span style=\"color: #6a00ff; text-decoration-color: #6a00ff\">Confident AI</span> to get &amp; share testing reports, \n",
       "experiment with models/prompts, and catch regressions for your LLM system. Just run <span style=\"color: #008080; text-decoration-color: #008080\">'deepeval login'</span> in the CLI. \n",
       "\n",
       "</pre>\n"
      ],
      "text/plain": [
       "\n",
       "\u001b[38;2;5;245;141m✓\u001b[0m Tests finished 🎉! Run \u001b[1;32m'deepeval login'\u001b[0m to save and analyze evaluation results on Confident AI.\n",
       " \n",
       "✨👀 Looking for a place for your LLM test data to live 🏡❤️ ? Use \u001b[38;2;106;0;255mConfident AI\u001b[0m to get & share testing reports, \n",
       "experiment with models/prompts, and catch regressions for your LLM system. Just run \u001b[36m'deepeval login'\u001b[0m in the CLI. \n",
       "\n"
      ]
     },
     "metadata": {},
     "output_type": "display_data"
    },
    {
     "data": {
      "text/html": [
       "<pre style=\"white-space:pre;overflow-x:auto;line-height:normal;font-family:Menlo,'DejaVu Sans Mono',consolas,'Courier New',monospace\">\n",
       "<span style=\"color: #05f58d; text-decoration-color: #05f58d\">✓</span> Tests finished 🎉! Run <span style=\"color: #008000; text-decoration-color: #008000; font-weight: bold\">'deepeval login'</span> to save and analyze evaluation results on Confident AI.\n",
       " \n",
       "✨👀 Looking for a place for your LLM test data to live 🏡❤️ ? Use <span style=\"color: #6a00ff; text-decoration-color: #6a00ff\">Confident AI</span> to get &amp; share testing reports, \n",
       "experiment with models/prompts, and catch regressions for your LLM system. Just run <span style=\"color: #008080; text-decoration-color: #008080\">'deepeval login'</span> in the CLI. \n",
       "\n",
       "</pre>\n"
      ],
      "text/plain": [
       "\n",
       "\u001b[38;2;5;245;141m✓\u001b[0m Tests finished 🎉! Run \u001b[1;32m'deepeval login'\u001b[0m to save and analyze evaluation results on Confident AI.\n",
       " \n",
       "✨👀 Looking for a place for your LLM test data to live 🏡❤️ ? Use \u001b[38;2;106;0;255mConfident AI\u001b[0m to get & share testing reports, \n",
       "experiment with models/prompts, and catch regressions for your LLM system. Just run \u001b[36m'deepeval login'\u001b[0m in the CLI. \n",
       "\n"
      ]
     },
     "metadata": {},
     "output_type": "display_data"
    },
    {
     "data": {
      "text/html": [
       "<pre style=\"white-space:pre;overflow-x:auto;line-height:normal;font-family:Menlo,'DejaVu Sans Mono',consolas,'Courier New',monospace\">\n",
       "<span style=\"color: #05f58d; text-decoration-color: #05f58d\">✓</span> Tests finished 🎉! Run <span style=\"color: #008000; text-decoration-color: #008000; font-weight: bold\">'deepeval login'</span> to save and analyze evaluation results on Confident AI.\n",
       " \n",
       "✨👀 Looking for a place for your LLM test data to live 🏡❤️ ? Use <span style=\"color: #6a00ff; text-decoration-color: #6a00ff\">Confident AI</span> to get &amp; share testing reports, \n",
       "experiment with models/prompts, and catch regressions for your LLM system. Just run <span style=\"color: #008080; text-decoration-color: #008080\">'deepeval login'</span> in the CLI. \n",
       "\n",
       "</pre>\n"
      ],
      "text/plain": [
       "\n",
       "\u001b[38;2;5;245;141m✓\u001b[0m Tests finished 🎉! Run \u001b[1;32m'deepeval login'\u001b[0m to save and analyze evaluation results on Confident AI.\n",
       " \n",
       "✨👀 Looking for a place for your LLM test data to live 🏡❤️ ? Use \u001b[38;2;106;0;255mConfident AI\u001b[0m to get & share testing reports, \n",
       "experiment with models/prompts, and catch regressions for your LLM system. Just run \u001b[36m'deepeval login'\u001b[0m in the CLI. \n",
       "\n"
      ]
     },
     "metadata": {},
     "output_type": "display_data"
    },
    {
     "name": "stdout",
     "output_type": "stream",
     "text": [
      "\n",
      "            Query: Cât timp poate fi reținută o persoană înainte de a fi arestată?\n",
      "            Expected: Reținerea nu poate depăși 24 de ore. După acest termen, persoana trebuie eliberată sau arestată preventiv prin decizia unui judecător.\n",
      "            Actual: Pentru a aresta sau reține o persoană, aceasta poate dura cel mult 24 de ore. Dacă aceste motive persistă, persoana arestată preventiv are dreptul să ceară punerea sa în libertate sub control judiciar sau pe cauțiune. Legea interzice arestarea unei persoane fără a le fi adus la cunoștință motivul acesteia și, de asemenea, pune sub semnul întrebării motivele privative de libertate.\n",
      "\n",
      "Deci, pe scurt, în România, o persoană poate rămâne arestată timp de cel mult 24 de ore, după care acestea au dreptul la libertate sub control judiciar sau pe cauțiune. Aceste măsuri pot fi luate numai în anumite situații, cum ar fi să preveniți o amenințare pentru viața, integritatea fizică sau bunurile unei persoane și doar cu consimțământul acesteia. Legea garantează, de asemenea, securitatea corespondenței și protecția datelor personale. \n",
      "            Relevancy Score: [{'metric': 'Answer Relevancy', 'success': False, 'score': 0.36363636363636365, 'reason': 'The score is 0.36 because the output contains several statements that do not directly address the question about the duration of detention before arrest. While some relevant information might be present, the majority of the content focuses on unrelated aspects such as rights after arrest, reasons for deprivation of liberty, and data protection, which do not contribute to answering the specific query.'}]\n",
      "            Recall Score: [{'metric': 'Contextual Recall', 'success': True, 'score': 1.0, 'reason': 'The score is 1.00 because every sentence in the expected output is perfectly aligned with the nodes in the retrieval context, ensuring complete accuracy and relevance. Great job!'}]\n",
      "            Faithfulness Score: [{'metric': 'Faithfulness', 'success': False, 'score': 0.5, 'reason': \"The score is 0.50 because the actual output contains multiple contradictions regarding the duration and conditions of detention, such as stating that detention cannot exceed 24 hours while also implying that a person can remain arrested for that duration, and conflicting claims about the necessity of consent for entering a person's home.\"}]\n",
      "            Understanding Score: [{'metric': 'Understanding (GEval)', 'success': False, 'score': 0.6299853456699702, 'reason': 'While the response provides detailed information about the detention period and rights, it is somewhat complex and may not be fully accessible to someone without legal knowledge. The expected output is more concise and straightforward.'}]\n",
      "            \n",
      "Finished tests for model: rollama2-7b-instruct\n",
      "\n",
      "==================================================\n",
      "\n",
      "\n",
      "Running tests for query: Care sunt drepturile cetățeanului român?\n",
      "Using model: rollama3-8b-instruct\n"
     ]
    },
    {
     "data": {
      "text/html": [
       "<pre style=\"white-space:pre;overflow-x:auto;line-height:normal;font-family:Menlo,'DejaVu Sans Mono',consolas,'Courier New',monospace\">\n",
       "<span style=\"color: #05f58d; text-decoration-color: #05f58d\">✓</span> Tests finished 🎉! Run <span style=\"color: #008000; text-decoration-color: #008000; font-weight: bold\">'deepeval login'</span> to save and analyze evaluation results on Confident AI.\n",
       " \n",
       "✨👀 Looking for a place for your LLM test data to live 🏡❤️ ? Use <span style=\"color: #6a00ff; text-decoration-color: #6a00ff\">Confident AI</span> to get &amp; share testing reports, \n",
       "experiment with models/prompts, and catch regressions for your LLM system. Just run <span style=\"color: #008080; text-decoration-color: #008080\">'deepeval login'</span> in the CLI. \n",
       "\n",
       "</pre>\n"
      ],
      "text/plain": [
       "\n",
       "\u001b[38;2;5;245;141m✓\u001b[0m Tests finished 🎉! Run \u001b[1;32m'deepeval login'\u001b[0m to save and analyze evaluation results on Confident AI.\n",
       " \n",
       "✨👀 Looking for a place for your LLM test data to live 🏡❤️ ? Use \u001b[38;2;106;0;255mConfident AI\u001b[0m to get & share testing reports, \n",
       "experiment with models/prompts, and catch regressions for your LLM system. Just run \u001b[36m'deepeval login'\u001b[0m in the CLI. \n",
       "\n"
      ]
     },
     "metadata": {},
     "output_type": "display_data"
    },
    {
     "data": {
      "text/html": [
       "<pre style=\"white-space:pre;overflow-x:auto;line-height:normal;font-family:Menlo,'DejaVu Sans Mono',consolas,'Courier New',monospace\">\n",
       "<span style=\"color: #05f58d; text-decoration-color: #05f58d\">✓</span> Tests finished 🎉! Run <span style=\"color: #008000; text-decoration-color: #008000; font-weight: bold\">'deepeval login'</span> to save and analyze evaluation results on Confident AI.\n",
       " \n",
       "✨👀 Looking for a place for your LLM test data to live 🏡❤️ ? Use <span style=\"color: #6a00ff; text-decoration-color: #6a00ff\">Confident AI</span> to get &amp; share testing reports, \n",
       "experiment with models/prompts, and catch regressions for your LLM system. Just run <span style=\"color: #008080; text-decoration-color: #008080\">'deepeval login'</span> in the CLI. \n",
       "\n",
       "</pre>\n"
      ],
      "text/plain": [
       "\n",
       "\u001b[38;2;5;245;141m✓\u001b[0m Tests finished 🎉! Run \u001b[1;32m'deepeval login'\u001b[0m to save and analyze evaluation results on Confident AI.\n",
       " \n",
       "✨👀 Looking for a place for your LLM test data to live 🏡❤️ ? Use \u001b[38;2;106;0;255mConfident AI\u001b[0m to get & share testing reports, \n",
       "experiment with models/prompts, and catch regressions for your LLM system. Just run \u001b[36m'deepeval login'\u001b[0m in the CLI. \n",
       "\n"
      ]
     },
     "metadata": {},
     "output_type": "display_data"
    },
    {
     "data": {
      "text/html": [
       "<pre style=\"white-space:pre;overflow-x:auto;line-height:normal;font-family:Menlo,'DejaVu Sans Mono',consolas,'Courier New',monospace\">\n",
       "<span style=\"color: #05f58d; text-decoration-color: #05f58d\">✓</span> Tests finished 🎉! Run <span style=\"color: #008000; text-decoration-color: #008000; font-weight: bold\">'deepeval login'</span> to save and analyze evaluation results on Confident AI.\n",
       " \n",
       "✨👀 Looking for a place for your LLM test data to live 🏡❤️ ? Use <span style=\"color: #6a00ff; text-decoration-color: #6a00ff\">Confident AI</span> to get &amp; share testing reports, \n",
       "experiment with models/prompts, and catch regressions for your LLM system. Just run <span style=\"color: #008080; text-decoration-color: #008080\">'deepeval login'</span> in the CLI. \n",
       "\n",
       "</pre>\n"
      ],
      "text/plain": [
       "\n",
       "\u001b[38;2;5;245;141m✓\u001b[0m Tests finished 🎉! Run \u001b[1;32m'deepeval login'\u001b[0m to save and analyze evaluation results on Confident AI.\n",
       " \n",
       "✨👀 Looking for a place for your LLM test data to live 🏡❤️ ? Use \u001b[38;2;106;0;255mConfident AI\u001b[0m to get & share testing reports, \n",
       "experiment with models/prompts, and catch regressions for your LLM system. Just run \u001b[36m'deepeval login'\u001b[0m in the CLI. \n",
       "\n"
      ]
     },
     "metadata": {},
     "output_type": "display_data"
    },
    {
     "data": {
      "text/html": [
       "<pre style=\"white-space:pre;overflow-x:auto;line-height:normal;font-family:Menlo,'DejaVu Sans Mono',consolas,'Courier New',monospace\">\n",
       "<span style=\"color: #05f58d; text-decoration-color: #05f58d\">✓</span> Tests finished 🎉! Run <span style=\"color: #008000; text-decoration-color: #008000; font-weight: bold\">'deepeval login'</span> to save and analyze evaluation results on Confident AI.\n",
       " \n",
       "✨👀 Looking for a place for your LLM test data to live 🏡❤️ ? Use <span style=\"color: #6a00ff; text-decoration-color: #6a00ff\">Confident AI</span> to get &amp; share testing reports, \n",
       "experiment with models/prompts, and catch regressions for your LLM system. Just run <span style=\"color: #008080; text-decoration-color: #008080\">'deepeval login'</span> in the CLI. \n",
       "\n",
       "</pre>\n"
      ],
      "text/plain": [
       "\n",
       "\u001b[38;2;5;245;141m✓\u001b[0m Tests finished 🎉! Run \u001b[1;32m'deepeval login'\u001b[0m to save and analyze evaluation results on Confident AI.\n",
       " \n",
       "✨👀 Looking for a place for your LLM test data to live 🏡❤️ ? Use \u001b[38;2;106;0;255mConfident AI\u001b[0m to get & share testing reports, \n",
       "experiment with models/prompts, and catch regressions for your LLM system. Just run \u001b[36m'deepeval login'\u001b[0m in the CLI. \n",
       "\n"
      ]
     },
     "metadata": {},
     "output_type": "display_data"
    },
    {
     "name": "stdout",
     "output_type": "stream",
     "text": [
      "\n",
      "            Query: Care sunt drepturile cetățeanului român?\n",
      "            Expected: Cetățeanul român beneficiază de drepturi și libertăți fundamentale în toate domeniile vieții. Drepturile civile și politice includ dreptul la viață, libertatea individuală, dreptul la apărare, dreptul de vot de la 18 ani și eligibilitatea pentru funcții publice. Libertățile fundamentale cuprind libertatea gândirii și credinței religioase, libertatea de exprimare, dreptul la informație și dreptul de asociere în partide și sindicate. Drepturile economice și sociale garantează munca liber aleasă, greva, proprietatea privată, moștenirea, pensia și asistența medicală. În plus, cetățenii au dreptul la învățătură, acces la cultură, un mediu sănătos și protecția statului în străinătate.\n",
      "            Actual: România cetățean are următoarele drepturi:\n",
      "1. Trebuie să-și exercite drepturile și libertățile constituționale cu bună-credință, fără a încalca drepturile altora.\n",
      "2. Ei sunt egali în fața legii și a autorităților publice, fără privilegii sau discriminări.\n",
      "\n",
      "Drepturile cetățenilor români includ, de asemenea:\n",
      "- În condițiile aderării României la Uniunea Europeană, cetățenii care îndeplinesc cerințele legale au dreptul de a alege și de a fi aleși în autoritățile administrației publice locale.\n",
      "- Dispozițiile constituționale privind drepturile și libertățile cetățenilor sunt interpretate și aplicate în conformitate cu Declarația Universală a Drepturilor Omului, Pactele și alte tratate la care România este parte.\n",
      "            Relevancy Score: [{'metric': 'Answer Relevancy', 'success': True, 'score': 0.8888888888888888, 'reason': 'The score is 0.89 because the response effectively addresses the rights of Romanian citizens, which is the main focus of the input. However, the mention of EU membership conditions slightly detracts from the overall relevance, preventing a perfect score.'}]\n",
      "            Recall Score: [{'metric': 'Contextual Recall', 'success': False, 'score': 0.4, 'reason': \"The score is 0.40 because while nodes in the retrieval context align with some aspects of the expected output, such as 'drepturi și libertăți fundamentale' and 'dreptul de vot de la 18 ani', they lack specific references to other key elements like 'libertatea gândirii și credinței religioase' and 'drepturile economice și sociale'. This partial alignment results in a moderate contextual recall score.\"}]\n",
      "            Faithfulness Score: [{'metric': 'Faithfulness', 'success': True, 'score': 0.75, 'reason': 'The score is 0.75 because the actual output inaccurately includes references to pacts and other treaties in the interpretation of constitutional provisions, which are not mentioned in the retrieval context.'}]\n",
      "            Understanding Score: [{'metric': 'Understanding (GEval)', 'success': False, 'score': 0.4098861212459018, 'reason': 'The response outlines some rights of Romanian citizens but lacks clarity and comprehensiveness compared to the expected output, which details various fundamental rights and freedoms.'}]\n",
      "            \n",
      "Using model: rollama2-7b-instruct\n"
     ]
    },
    {
     "data": {
      "text/html": [
       "<pre style=\"white-space:pre;overflow-x:auto;line-height:normal;font-family:Menlo,'DejaVu Sans Mono',consolas,'Courier New',monospace\">\n",
       "<span style=\"color: #05f58d; text-decoration-color: #05f58d\">✓</span> Tests finished 🎉! Run <span style=\"color: #008000; text-decoration-color: #008000; font-weight: bold\">'deepeval login'</span> to save and analyze evaluation results on Confident AI.\n",
       " \n",
       "✨👀 Looking for a place for your LLM test data to live 🏡❤️ ? Use <span style=\"color: #6a00ff; text-decoration-color: #6a00ff\">Confident AI</span> to get &amp; share testing reports, \n",
       "experiment with models/prompts, and catch regressions for your LLM system. Just run <span style=\"color: #008080; text-decoration-color: #008080\">'deepeval login'</span> in the CLI. \n",
       "\n",
       "</pre>\n"
      ],
      "text/plain": [
       "\n",
       "\u001b[38;2;5;245;141m✓\u001b[0m Tests finished 🎉! Run \u001b[1;32m'deepeval login'\u001b[0m to save and analyze evaluation results on Confident AI.\n",
       " \n",
       "✨👀 Looking for a place for your LLM test data to live 🏡❤️ ? Use \u001b[38;2;106;0;255mConfident AI\u001b[0m to get & share testing reports, \n",
       "experiment with models/prompts, and catch regressions for your LLM system. Just run \u001b[36m'deepeval login'\u001b[0m in the CLI. \n",
       "\n"
      ]
     },
     "metadata": {},
     "output_type": "display_data"
    },
    {
     "data": {
      "text/html": [
       "<pre style=\"white-space:pre;overflow-x:auto;line-height:normal;font-family:Menlo,'DejaVu Sans Mono',consolas,'Courier New',monospace\">\n",
       "<span style=\"color: #05f58d; text-decoration-color: #05f58d\">✓</span> Tests finished 🎉! Run <span style=\"color: #008000; text-decoration-color: #008000; font-weight: bold\">'deepeval login'</span> to save and analyze evaluation results on Confident AI.\n",
       " \n",
       "✨👀 Looking for a place for your LLM test data to live 🏡❤️ ? Use <span style=\"color: #6a00ff; text-decoration-color: #6a00ff\">Confident AI</span> to get &amp; share testing reports, \n",
       "experiment with models/prompts, and catch regressions for your LLM system. Just run <span style=\"color: #008080; text-decoration-color: #008080\">'deepeval login'</span> in the CLI. \n",
       "\n",
       "</pre>\n"
      ],
      "text/plain": [
       "\n",
       "\u001b[38;2;5;245;141m✓\u001b[0m Tests finished 🎉! Run \u001b[1;32m'deepeval login'\u001b[0m to save and analyze evaluation results on Confident AI.\n",
       " \n",
       "✨👀 Looking for a place for your LLM test data to live 🏡❤️ ? Use \u001b[38;2;106;0;255mConfident AI\u001b[0m to get & share testing reports, \n",
       "experiment with models/prompts, and catch regressions for your LLM system. Just run \u001b[36m'deepeval login'\u001b[0m in the CLI. \n",
       "\n"
      ]
     },
     "metadata": {},
     "output_type": "display_data"
    },
    {
     "data": {
      "text/html": [
       "<pre style=\"white-space:pre;overflow-x:auto;line-height:normal;font-family:Menlo,'DejaVu Sans Mono',consolas,'Courier New',monospace\">\n",
       "<span style=\"color: #05f58d; text-decoration-color: #05f58d\">✓</span> Tests finished 🎉! Run <span style=\"color: #008000; text-decoration-color: #008000; font-weight: bold\">'deepeval login'</span> to save and analyze evaluation results on Confident AI.\n",
       " \n",
       "✨👀 Looking for a place for your LLM test data to live 🏡❤️ ? Use <span style=\"color: #6a00ff; text-decoration-color: #6a00ff\">Confident AI</span> to get &amp; share testing reports, \n",
       "experiment with models/prompts, and catch regressions for your LLM system. Just run <span style=\"color: #008080; text-decoration-color: #008080\">'deepeval login'</span> in the CLI. \n",
       "\n",
       "</pre>\n"
      ],
      "text/plain": [
       "\n",
       "\u001b[38;2;5;245;141m✓\u001b[0m Tests finished 🎉! Run \u001b[1;32m'deepeval login'\u001b[0m to save and analyze evaluation results on Confident AI.\n",
       " \n",
       "✨👀 Looking for a place for your LLM test data to live 🏡❤️ ? Use \u001b[38;2;106;0;255mConfident AI\u001b[0m to get & share testing reports, \n",
       "experiment with models/prompts, and catch regressions for your LLM system. Just run \u001b[36m'deepeval login'\u001b[0m in the CLI. \n",
       "\n"
      ]
     },
     "metadata": {},
     "output_type": "display_data"
    },
    {
     "data": {
      "text/html": [
       "<pre style=\"white-space:pre;overflow-x:auto;line-height:normal;font-family:Menlo,'DejaVu Sans Mono',consolas,'Courier New',monospace\">\n",
       "<span style=\"color: #05f58d; text-decoration-color: #05f58d\">✓</span> Tests finished 🎉! Run <span style=\"color: #008000; text-decoration-color: #008000; font-weight: bold\">'deepeval login'</span> to save and analyze evaluation results on Confident AI.\n",
       " \n",
       "✨👀 Looking for a place for your LLM test data to live 🏡❤️ ? Use <span style=\"color: #6a00ff; text-decoration-color: #6a00ff\">Confident AI</span> to get &amp; share testing reports, \n",
       "experiment with models/prompts, and catch regressions for your LLM system. Just run <span style=\"color: #008080; text-decoration-color: #008080\">'deepeval login'</span> in the CLI. \n",
       "\n",
       "</pre>\n"
      ],
      "text/plain": [
       "\n",
       "\u001b[38;2;5;245;141m✓\u001b[0m Tests finished 🎉! Run \u001b[1;32m'deepeval login'\u001b[0m to save and analyze evaluation results on Confident AI.\n",
       " \n",
       "✨👀 Looking for a place for your LLM test data to live 🏡❤️ ? Use \u001b[38;2;106;0;255mConfident AI\u001b[0m to get & share testing reports, \n",
       "experiment with models/prompts, and catch regressions for your LLM system. Just run \u001b[36m'deepeval login'\u001b[0m in the CLI. \n",
       "\n"
      ]
     },
     "metadata": {},
     "output_type": "display_data"
    },
    {
     "name": "stdout",
     "output_type": "stream",
     "text": [
      "\n",
      "            Query: Care sunt drepturile cetățeanului român?\n",
      "            Expected: Cetățeanul român beneficiază de drepturi și libertăți fundamentale în toate domeniile vieții. Drepturile civile și politice includ dreptul la viață, libertatea individuală, dreptul la apărare, dreptul de vot de la 18 ani și eligibilitatea pentru funcții publice. Libertățile fundamentale cuprind libertatea gândirii și credinței religioase, libertatea de exprimare, dreptul la informație și dreptul de asociere în partide și sindicate. Drepturile economice și sociale garantează munca liber aleasă, greva, proprietatea privată, moștenirea, pensia și asistența medicală. În plus, cetățenii au dreptul la învățătură, acces la cultură, un mediu sănătos și protecția statului în străinătate.\n",
      "            Actual: \n",
      "În România, cetățenii au o serie de drepturi care sunt garantate prin Constituție. Unele dintre aceste drepturi includ:\n",
      "- Egalitatea în fața legii: Toată lumea este tratat în mod corect și nu ar trebui să se confrunte cu discriminare sau tratament incorect de către autoritățile publice.\n",
      "- Protecția împotriva perchezițiilor și a rechizițiilor ilegale: Autoritățile nu pot face un examen sau confiscarea proprietății unei persoane fără un mandat din partea instanței.\n",
      "- Dreptul de acces la informații publice: Cetățenii au dreptul de a solicita și de a primi informații despre funcționarea guvernului, inclusiv cu privire la chestiuni precum finanțele, programul legislativ și numirile.\n",
      "- Libertatea de exprimare: Cetățenii români pot vorbi liber, pot scrie sau distribui informații fără teama de cenzură.\n",
      "- Protecția drepturilor omului: România s-a angajat să respecte drepturile și libertățile fundamentale ale omului, cum ar fi libertatea de exprimare, protecția împotriva tratamentelor inumane și discriminatorii și protecția vieții private.\n",
      "- Protecție juridică: Toată lumea are dreptul la un proces echitabil, în care sunt apărate interesele tuturor părților implicate într-o cauză judiciară. Aceasta include dreptul la asistență legală și la reprezentare juridică.\n",
      "- Acces liber la justiție: Oricine are dreptul să se adreseze instanțelor din România pentru a-și proteja sau apăra drepturile și interesele legitime.\n",
      " \n",
      "Acestea sunt doar câteva dintre drepturile de care beneficiază cetățenii români, iar Constituția României conține mai multe astfel de protecții în domeniul drepturilor și libertăților. \n",
      "            Relevancy Score: [{'metric': 'Answer Relevancy', 'success': True, 'score': 1.0, 'reason': 'The score is 1.00 because the response perfectly addresses the question about the rights of a Romanian citizen without any irrelevant information. Great job on staying focused and relevant!'}]\n",
      "            Recall Score: [{'metric': 'Contextual Recall', 'success': False, 'score': 0.4, 'reason': \"The score is 0.40 because while the 3rd node in the retrieval context supports the mention of 'drepturi și libertăți fundamentale', and the 2nd node aligns with 'dreptul de vot de la 18 ani și eligibilitatea pentru funcții publice', there is a lack of specific references to 'libertatea gândirii și credinței religioase', 'libertatea de exprimare', and other economic and social rights in the retrieval context.\"}]\n",
      "            Faithfulness Score: [{'metric': 'Faithfulness', 'success': True, 'score': 0.8571428571428571, 'reason': 'The score is 0.86 because the actual output incorrectly implies that there are specific protections against illegal searches and seizures for Romanian citizens, which is not mentioned in the retrieval context. Additionally, it suggests that authorities cannot conduct searches or seize property without a court order, a detail that is also absent from the context.'}]\n",
      "            Understanding Score: [{'metric': 'Understanding (GEval)', 'success': False, 'score': 0.6378344564386117, 'reason': \"The response provides a clear overview of citizens' rights in Romania, but it lacks the accessibility and simplicity needed for someone without legal knowledge, and it does not explicitly state what actions citizens can take based on these rights.\"}]\n",
      "            \n",
      "Finished tests for model: rollama2-7b-instruct\n",
      "\n",
      "==================================================\n",
      "\n",
      "\n",
      "Running tests for query: Ce obligație are angajatorul înainte de încheierea contractului individual de muncă?\n",
      "Using model: rollama3-8b-instruct\n"
     ]
    },
    {
     "data": {
      "text/html": [
       "<pre style=\"white-space:pre;overflow-x:auto;line-height:normal;font-family:Menlo,'DejaVu Sans Mono',consolas,'Courier New',monospace\">\n",
       "<span style=\"color: #05f58d; text-decoration-color: #05f58d\">✓</span> Tests finished 🎉! Run <span style=\"color: #008000; text-decoration-color: #008000; font-weight: bold\">'deepeval login'</span> to save and analyze evaluation results on Confident AI.\n",
       " \n",
       "✨👀 Looking for a place for your LLM test data to live 🏡❤️ ? Use <span style=\"color: #6a00ff; text-decoration-color: #6a00ff\">Confident AI</span> to get &amp; share testing reports, \n",
       "experiment with models/prompts, and catch regressions for your LLM system. Just run <span style=\"color: #008080; text-decoration-color: #008080\">'deepeval login'</span> in the CLI. \n",
       "\n",
       "</pre>\n"
      ],
      "text/plain": [
       "\n",
       "\u001b[38;2;5;245;141m✓\u001b[0m Tests finished 🎉! Run \u001b[1;32m'deepeval login'\u001b[0m to save and analyze evaluation results on Confident AI.\n",
       " \n",
       "✨👀 Looking for a place for your LLM test data to live 🏡❤️ ? Use \u001b[38;2;106;0;255mConfident AI\u001b[0m to get & share testing reports, \n",
       "experiment with models/prompts, and catch regressions for your LLM system. Just run \u001b[36m'deepeval login'\u001b[0m in the CLI. \n",
       "\n"
      ]
     },
     "metadata": {},
     "output_type": "display_data"
    },
    {
     "data": {
      "text/html": [
       "<pre style=\"white-space:pre;overflow-x:auto;line-height:normal;font-family:Menlo,'DejaVu Sans Mono',consolas,'Courier New',monospace\">\n",
       "<span style=\"color: #05f58d; text-decoration-color: #05f58d\">✓</span> Tests finished 🎉! Run <span style=\"color: #008000; text-decoration-color: #008000; font-weight: bold\">'deepeval login'</span> to save and analyze evaluation results on Confident AI.\n",
       " \n",
       "✨👀 Looking for a place for your LLM test data to live 🏡❤️ ? Use <span style=\"color: #6a00ff; text-decoration-color: #6a00ff\">Confident AI</span> to get &amp; share testing reports, \n",
       "experiment with models/prompts, and catch regressions for your LLM system. Just run <span style=\"color: #008080; text-decoration-color: #008080\">'deepeval login'</span> in the CLI. \n",
       "\n",
       "</pre>\n"
      ],
      "text/plain": [
       "\n",
       "\u001b[38;2;5;245;141m✓\u001b[0m Tests finished 🎉! Run \u001b[1;32m'deepeval login'\u001b[0m to save and analyze evaluation results on Confident AI.\n",
       " \n",
       "✨👀 Looking for a place for your LLM test data to live 🏡❤️ ? Use \u001b[38;2;106;0;255mConfident AI\u001b[0m to get & share testing reports, \n",
       "experiment with models/prompts, and catch regressions for your LLM system. Just run \u001b[36m'deepeval login'\u001b[0m in the CLI. \n",
       "\n"
      ]
     },
     "metadata": {},
     "output_type": "display_data"
    },
    {
     "data": {
      "text/html": [
       "<pre style=\"white-space:pre;overflow-x:auto;line-height:normal;font-family:Menlo,'DejaVu Sans Mono',consolas,'Courier New',monospace\">\n",
       "<span style=\"color: #05f58d; text-decoration-color: #05f58d\">✓</span> Tests finished 🎉! Run <span style=\"color: #008000; text-decoration-color: #008000; font-weight: bold\">'deepeval login'</span> to save and analyze evaluation results on Confident AI.\n",
       " \n",
       "✨👀 Looking for a place for your LLM test data to live 🏡❤️ ? Use <span style=\"color: #6a00ff; text-decoration-color: #6a00ff\">Confident AI</span> to get &amp; share testing reports, \n",
       "experiment with models/prompts, and catch regressions for your LLM system. Just run <span style=\"color: #008080; text-decoration-color: #008080\">'deepeval login'</span> in the CLI. \n",
       "\n",
       "</pre>\n"
      ],
      "text/plain": [
       "\n",
       "\u001b[38;2;5;245;141m✓\u001b[0m Tests finished 🎉! Run \u001b[1;32m'deepeval login'\u001b[0m to save and analyze evaluation results on Confident AI.\n",
       " \n",
       "✨👀 Looking for a place for your LLM test data to live 🏡❤️ ? Use \u001b[38;2;106;0;255mConfident AI\u001b[0m to get & share testing reports, \n",
       "experiment with models/prompts, and catch regressions for your LLM system. Just run \u001b[36m'deepeval login'\u001b[0m in the CLI. \n",
       "\n"
      ]
     },
     "metadata": {},
     "output_type": "display_data"
    },
    {
     "data": {
      "text/html": [
       "<pre style=\"white-space:pre;overflow-x:auto;line-height:normal;font-family:Menlo,'DejaVu Sans Mono',consolas,'Courier New',monospace\">\n",
       "<span style=\"color: #05f58d; text-decoration-color: #05f58d\">✓</span> Tests finished 🎉! Run <span style=\"color: #008000; text-decoration-color: #008000; font-weight: bold\">'deepeval login'</span> to save and analyze evaluation results on Confident AI.\n",
       " \n",
       "✨👀 Looking for a place for your LLM test data to live 🏡❤️ ? Use <span style=\"color: #6a00ff; text-decoration-color: #6a00ff\">Confident AI</span> to get &amp; share testing reports, \n",
       "experiment with models/prompts, and catch regressions for your LLM system. Just run <span style=\"color: #008080; text-decoration-color: #008080\">'deepeval login'</span> in the CLI. \n",
       "\n",
       "</pre>\n"
      ],
      "text/plain": [
       "\n",
       "\u001b[38;2;5;245;141m✓\u001b[0m Tests finished 🎉! Run \u001b[1;32m'deepeval login'\u001b[0m to save and analyze evaluation results on Confident AI.\n",
       " \n",
       "✨👀 Looking for a place for your LLM test data to live 🏡❤️ ? Use \u001b[38;2;106;0;255mConfident AI\u001b[0m to get & share testing reports, \n",
       "experiment with models/prompts, and catch regressions for your LLM system. Just run \u001b[36m'deepeval login'\u001b[0m in the CLI. \n",
       "\n"
      ]
     },
     "metadata": {},
     "output_type": "display_data"
    },
    {
     "name": "stdout",
     "output_type": "stream",
     "text": [
      "\n",
      "            Query: Ce obligație are angajatorul înainte de încheierea contractului individual de muncă?\n",
      "            Expected: Anterior încheierii sau modificării contractului individual de muncă, angajatorul are obligația de a informa persoana selectată în vederea angajării cu privire la clauzele esențiale pe care intenționează să le înscrie în contract sau să le modifice.\n",
      "            Actual: Înainte ca un contract individual de muncă să fie încheiat, angajatorul are obligația de a informa persoana selectată pentru angajare sau salariatul cu privire la clauzele esențiale pe care intenționează să le includă sau să modifice în contract. Aceste informații trebuie furnizate până la semnarea contractului individual de muncă sau a documentului suplimentar, după caz.\n",
      "            Relevancy Score: [{'metric': 'Answer Relevancy', 'success': True, 'score': 0.8, 'reason': \"The score is 0.80 because the response mostly addresses the employer's obligations before signing the employment contract. However, it includes a statement about informing the employee, which is not directly related to the specific obligations before contract signing, slightly affecting the score.\"}]\n",
      "            Recall Score: [{'metric': 'Contextual Recall', 'success': True, 'score': 1.0, 'reason': 'The score is 1.00 because the expected output is perfectly aligned with the retrieval context, as the sentence is directly quoted from the 2nd node in the retrieval context. Great job on achieving a flawless match!'}]\n",
      "            Faithfulness Score: [{'metric': 'Faithfulness', 'success': False, 'score': 0.0, 'reason': \"The score is 0.00 because the actual output fails to mention the employer's obligation to inform about modifications to the contract after signing, and it incorrectly states that the obligation to inform is only fulfilled at the moment of signing, disregarding any pre-signing requirements.\"}]\n",
      "            Understanding Score: [{'metric': 'Understanding (GEval)', 'success': True, 'score': 0.783426518244713, 'reason': \"The response is clear and accessible, explaining the employer's obligation to inform the selected person about essential clauses before signing the contract. However, it could be slightly more concise to match the expected output better.\"}]\n",
      "            \n",
      "Using model: rollama2-7b-instruct\n"
     ]
    },
    {
     "data": {
      "text/html": [
       "<pre style=\"white-space:pre;overflow-x:auto;line-height:normal;font-family:Menlo,'DejaVu Sans Mono',consolas,'Courier New',monospace\">\n",
       "<span style=\"color: #05f58d; text-decoration-color: #05f58d\">✓</span> Tests finished 🎉! Run <span style=\"color: #008000; text-decoration-color: #008000; font-weight: bold\">'deepeval login'</span> to save and analyze evaluation results on Confident AI.\n",
       " \n",
       "✨👀 Looking for a place for your LLM test data to live 🏡❤️ ? Use <span style=\"color: #6a00ff; text-decoration-color: #6a00ff\">Confident AI</span> to get &amp; share testing reports, \n",
       "experiment with models/prompts, and catch regressions for your LLM system. Just run <span style=\"color: #008080; text-decoration-color: #008080\">'deepeval login'</span> in the CLI. \n",
       "\n",
       "</pre>\n"
      ],
      "text/plain": [
       "\n",
       "\u001b[38;2;5;245;141m✓\u001b[0m Tests finished 🎉! Run \u001b[1;32m'deepeval login'\u001b[0m to save and analyze evaluation results on Confident AI.\n",
       " \n",
       "✨👀 Looking for a place for your LLM test data to live 🏡❤️ ? Use \u001b[38;2;106;0;255mConfident AI\u001b[0m to get & share testing reports, \n",
       "experiment with models/prompts, and catch regressions for your LLM system. Just run \u001b[36m'deepeval login'\u001b[0m in the CLI. \n",
       "\n"
      ]
     },
     "metadata": {},
     "output_type": "display_data"
    },
    {
     "data": {
      "text/html": [
       "<pre style=\"white-space:pre;overflow-x:auto;line-height:normal;font-family:Menlo,'DejaVu Sans Mono',consolas,'Courier New',monospace\">\n",
       "<span style=\"color: #05f58d; text-decoration-color: #05f58d\">✓</span> Tests finished 🎉! Run <span style=\"color: #008000; text-decoration-color: #008000; font-weight: bold\">'deepeval login'</span> to save and analyze evaluation results on Confident AI.\n",
       " \n",
       "✨👀 Looking for a place for your LLM test data to live 🏡❤️ ? Use <span style=\"color: #6a00ff; text-decoration-color: #6a00ff\">Confident AI</span> to get &amp; share testing reports, \n",
       "experiment with models/prompts, and catch regressions for your LLM system. Just run <span style=\"color: #008080; text-decoration-color: #008080\">'deepeval login'</span> in the CLI. \n",
       "\n",
       "</pre>\n"
      ],
      "text/plain": [
       "\n",
       "\u001b[38;2;5;245;141m✓\u001b[0m Tests finished 🎉! Run \u001b[1;32m'deepeval login'\u001b[0m to save and analyze evaluation results on Confident AI.\n",
       " \n",
       "✨👀 Looking for a place for your LLM test data to live 🏡❤️ ? Use \u001b[38;2;106;0;255mConfident AI\u001b[0m to get & share testing reports, \n",
       "experiment with models/prompts, and catch regressions for your LLM system. Just run \u001b[36m'deepeval login'\u001b[0m in the CLI. \n",
       "\n"
      ]
     },
     "metadata": {},
     "output_type": "display_data"
    },
    {
     "data": {
      "text/html": [
       "<pre style=\"white-space:pre;overflow-x:auto;line-height:normal;font-family:Menlo,'DejaVu Sans Mono',consolas,'Courier New',monospace\">\n",
       "<span style=\"color: #05f58d; text-decoration-color: #05f58d\">✓</span> Tests finished 🎉! Run <span style=\"color: #008000; text-decoration-color: #008000; font-weight: bold\">'deepeval login'</span> to save and analyze evaluation results on Confident AI.\n",
       " \n",
       "✨👀 Looking for a place for your LLM test data to live 🏡❤️ ? Use <span style=\"color: #6a00ff; text-decoration-color: #6a00ff\">Confident AI</span> to get &amp; share testing reports, \n",
       "experiment with models/prompts, and catch regressions for your LLM system. Just run <span style=\"color: #008080; text-decoration-color: #008080\">'deepeval login'</span> in the CLI. \n",
       "\n",
       "</pre>\n"
      ],
      "text/plain": [
       "\n",
       "\u001b[38;2;5;245;141m✓\u001b[0m Tests finished 🎉! Run \u001b[1;32m'deepeval login'\u001b[0m to save and analyze evaluation results on Confident AI.\n",
       " \n",
       "✨👀 Looking for a place for your LLM test data to live 🏡❤️ ? Use \u001b[38;2;106;0;255mConfident AI\u001b[0m to get & share testing reports, \n",
       "experiment with models/prompts, and catch regressions for your LLM system. Just run \u001b[36m'deepeval login'\u001b[0m in the CLI. \n",
       "\n"
      ]
     },
     "metadata": {},
     "output_type": "display_data"
    },
    {
     "data": {
      "text/html": [
       "<pre style=\"white-space:pre;overflow-x:auto;line-height:normal;font-family:Menlo,'DejaVu Sans Mono',consolas,'Courier New',monospace\">\n",
       "<span style=\"color: #05f58d; text-decoration-color: #05f58d\">✓</span> Tests finished 🎉! Run <span style=\"color: #008000; text-decoration-color: #008000; font-weight: bold\">'deepeval login'</span> to save and analyze evaluation results on Confident AI.\n",
       " \n",
       "✨👀 Looking for a place for your LLM test data to live 🏡❤️ ? Use <span style=\"color: #6a00ff; text-decoration-color: #6a00ff\">Confident AI</span> to get &amp; share testing reports, \n",
       "experiment with models/prompts, and catch regressions for your LLM system. Just run <span style=\"color: #008080; text-decoration-color: #008080\">'deepeval login'</span> in the CLI. \n",
       "\n",
       "</pre>\n"
      ],
      "text/plain": [
       "\n",
       "\u001b[38;2;5;245;141m✓\u001b[0m Tests finished 🎉! Run \u001b[1;32m'deepeval login'\u001b[0m to save and analyze evaluation results on Confident AI.\n",
       " \n",
       "✨👀 Looking for a place for your LLM test data to live 🏡❤️ ? Use \u001b[38;2;106;0;255mConfident AI\u001b[0m to get & share testing reports, \n",
       "experiment with models/prompts, and catch regressions for your LLM system. Just run \u001b[36m'deepeval login'\u001b[0m in the CLI. \n",
       "\n"
      ]
     },
     "metadata": {},
     "output_type": "display_data"
    },
    {
     "name": "stdout",
     "output_type": "stream",
     "text": [
      "\n",
      "            Query: Ce obligație are angajatorul înainte de încheierea contractului individual de muncă?\n",
      "            Expected: Anterior încheierii sau modificării contractului individual de muncă, angajatorul are obligația de a informa persoana selectată în vederea angajării cu privire la clauzele esențiale pe care intenționează să le înscrie în contract sau să le modifice.\n",
      "            Actual: Înainte de încheierea sau modificarea unui contract individual de muncă, angajatorul are obligația de a informa persoana selectată pentru postul respectiv cu privire la clauzele esențiale pe care intenționează să le includă în contract sau să le modifice. Informațiile furnizate trebuie să fie concise, neutre și prietenoase cu utilizatorul. De asemenea, angajatorul trebuie să informeze persoana selectată privind cel puțin următoarele elemente:\n",
      "- Identificarea partidelor;\n",
      "- Sediul sau domiciliul angajatorului;\n",
      "- Funcția/ocupație;\n",
      "- Fisa postului, cu specificarea atributiilor postului;\n",
      "- Riscurile specifice ale postului;\n",
      "- Data la care contractul urmează să producă efecte;\n",
      "- Condițiile de acordare a preavizului și durata;\n",
      "- Condiții privind formarea profesională oferită de angajator;\n",
      "- Suportarea de către angajator a asigurării medicale private, contribuțiile suplimentare la pensia facultativă sau la pensia ocupațională a salariatului și acordarea oricărui alt avantaj în bani ca urmare a activității profesionale a angajaților, dacă este cazul;\n",
      "- Dacă o modificare se aplică, informează persoana selectată cu privire la această schimbare și solicită acordul său. \n",
      "            Relevancy Score: [{'metric': 'Answer Relevancy', 'success': True, 'score': 0.8333333333333334, 'reason': \"The score is 0.83 because the response effectively addresses the employer's obligations before signing an employment contract, but includes some irrelevant details about private medical insurance and post-contract modifications, which are not directly related to the initial query.\"}]\n",
      "            Recall Score: [{'metric': 'Contextual Recall', 'success': True, 'score': 1.0, 'reason': 'The score is 1.00 because the expected output is perfectly aligned with the retrieval context, as the sentence is directly quoted from the 2nd node in the retrieval context. Great job on achieving a perfect match!'}]\n",
      "            Faithfulness Score: [{'metric': 'Faithfulness', 'success': False, 'score': 0.5833333333333334, 'reason': 'The score is 0.58 because the actual output inaccurately states that the employer must inform the selected person about essential contract clauses only at signing, omitting prior notification. It also fails to mention the requirement for a detailed job description, does not clarify the duration of notice conditions, neglects specifics about optional or occupational pensions, and incorrectly asserts that contract modifications require a new act rather than just informing the individual.'}]\n",
      "            Understanding Score: [{'metric': 'Understanding (GEval)', 'success': False, 'score': 0.6327592425876795, 'reason': \"The actual output provides detailed information about the employer's obligations, but it is overly complex and may not be easily understood by someone without legal knowledge, which affects clarity.\"}]\n",
      "            \n",
      "Finished tests for model: rollama2-7b-instruct\n",
      "\n",
      "==================================================\n",
      "\n",
      "\n",
      "Running tests for query: Care este vârsta legală minimă pentru încheierea unei căsătorii în România?\n",
      "Using model: rollama3-8b-instruct\n"
     ]
    },
    {
     "data": {
      "text/html": [
       "<pre style=\"white-space:pre;overflow-x:auto;line-height:normal;font-family:Menlo,'DejaVu Sans Mono',consolas,'Courier New',monospace\">\n",
       "<span style=\"color: #05f58d; text-decoration-color: #05f58d\">✓</span> Tests finished 🎉! Run <span style=\"color: #008000; text-decoration-color: #008000; font-weight: bold\">'deepeval login'</span> to save and analyze evaluation results on Confident AI.\n",
       " \n",
       "✨👀 Looking for a place for your LLM test data to live 🏡❤️ ? Use <span style=\"color: #6a00ff; text-decoration-color: #6a00ff\">Confident AI</span> to get &amp; share testing reports, \n",
       "experiment with models/prompts, and catch regressions for your LLM system. Just run <span style=\"color: #008080; text-decoration-color: #008080\">'deepeval login'</span> in the CLI. \n",
       "\n",
       "</pre>\n"
      ],
      "text/plain": [
       "\n",
       "\u001b[38;2;5;245;141m✓\u001b[0m Tests finished 🎉! Run \u001b[1;32m'deepeval login'\u001b[0m to save and analyze evaluation results on Confident AI.\n",
       " \n",
       "✨👀 Looking for a place for your LLM test data to live 🏡❤️ ? Use \u001b[38;2;106;0;255mConfident AI\u001b[0m to get & share testing reports, \n",
       "experiment with models/prompts, and catch regressions for your LLM system. Just run \u001b[36m'deepeval login'\u001b[0m in the CLI. \n",
       "\n"
      ]
     },
     "metadata": {},
     "output_type": "display_data"
    },
    {
     "data": {
      "text/html": [
       "<pre style=\"white-space:pre;overflow-x:auto;line-height:normal;font-family:Menlo,'DejaVu Sans Mono',consolas,'Courier New',monospace\">\n",
       "<span style=\"color: #05f58d; text-decoration-color: #05f58d\">✓</span> Tests finished 🎉! Run <span style=\"color: #008000; text-decoration-color: #008000; font-weight: bold\">'deepeval login'</span> to save and analyze evaluation results on Confident AI.\n",
       " \n",
       "✨👀 Looking for a place for your LLM test data to live 🏡❤️ ? Use <span style=\"color: #6a00ff; text-decoration-color: #6a00ff\">Confident AI</span> to get &amp; share testing reports, \n",
       "experiment with models/prompts, and catch regressions for your LLM system. Just run <span style=\"color: #008080; text-decoration-color: #008080\">'deepeval login'</span> in the CLI. \n",
       "\n",
       "</pre>\n"
      ],
      "text/plain": [
       "\n",
       "\u001b[38;2;5;245;141m✓\u001b[0m Tests finished 🎉! Run \u001b[1;32m'deepeval login'\u001b[0m to save and analyze evaluation results on Confident AI.\n",
       " \n",
       "✨👀 Looking for a place for your LLM test data to live 🏡❤️ ? Use \u001b[38;2;106;0;255mConfident AI\u001b[0m to get & share testing reports, \n",
       "experiment with models/prompts, and catch regressions for your LLM system. Just run \u001b[36m'deepeval login'\u001b[0m in the CLI. \n",
       "\n"
      ]
     },
     "metadata": {},
     "output_type": "display_data"
    },
    {
     "data": {
      "text/html": [
       "<pre style=\"white-space:pre;overflow-x:auto;line-height:normal;font-family:Menlo,'DejaVu Sans Mono',consolas,'Courier New',monospace\">\n",
       "<span style=\"color: #05f58d; text-decoration-color: #05f58d\">✓</span> Tests finished 🎉! Run <span style=\"color: #008000; text-decoration-color: #008000; font-weight: bold\">'deepeval login'</span> to save and analyze evaluation results on Confident AI.\n",
       " \n",
       "✨👀 Looking for a place for your LLM test data to live 🏡❤️ ? Use <span style=\"color: #6a00ff; text-decoration-color: #6a00ff\">Confident AI</span> to get &amp; share testing reports, \n",
       "experiment with models/prompts, and catch regressions for your LLM system. Just run <span style=\"color: #008080; text-decoration-color: #008080\">'deepeval login'</span> in the CLI. \n",
       "\n",
       "</pre>\n"
      ],
      "text/plain": [
       "\n",
       "\u001b[38;2;5;245;141m✓\u001b[0m Tests finished 🎉! Run \u001b[1;32m'deepeval login'\u001b[0m to save and analyze evaluation results on Confident AI.\n",
       " \n",
       "✨👀 Looking for a place for your LLM test data to live 🏡❤️ ? Use \u001b[38;2;106;0;255mConfident AI\u001b[0m to get & share testing reports, \n",
       "experiment with models/prompts, and catch regressions for your LLM system. Just run \u001b[36m'deepeval login'\u001b[0m in the CLI. \n",
       "\n"
      ]
     },
     "metadata": {},
     "output_type": "display_data"
    },
    {
     "data": {
      "text/html": [
       "<pre style=\"white-space:pre;overflow-x:auto;line-height:normal;font-family:Menlo,'DejaVu Sans Mono',consolas,'Courier New',monospace\">\n",
       "<span style=\"color: #05f58d; text-decoration-color: #05f58d\">✓</span> Tests finished 🎉! Run <span style=\"color: #008000; text-decoration-color: #008000; font-weight: bold\">'deepeval login'</span> to save and analyze evaluation results on Confident AI.\n",
       " \n",
       "✨👀 Looking for a place for your LLM test data to live 🏡❤️ ? Use <span style=\"color: #6a00ff; text-decoration-color: #6a00ff\">Confident AI</span> to get &amp; share testing reports, \n",
       "experiment with models/prompts, and catch regressions for your LLM system. Just run <span style=\"color: #008080; text-decoration-color: #008080\">'deepeval login'</span> in the CLI. \n",
       "\n",
       "</pre>\n"
      ],
      "text/plain": [
       "\n",
       "\u001b[38;2;5;245;141m✓\u001b[0m Tests finished 🎉! Run \u001b[1;32m'deepeval login'\u001b[0m to save and analyze evaluation results on Confident AI.\n",
       " \n",
       "✨👀 Looking for a place for your LLM test data to live 🏡❤️ ? Use \u001b[38;2;106;0;255mConfident AI\u001b[0m to get & share testing reports, \n",
       "experiment with models/prompts, and catch regressions for your LLM system. Just run \u001b[36m'deepeval login'\u001b[0m in the CLI. \n",
       "\n"
      ]
     },
     "metadata": {},
     "output_type": "display_data"
    },
    {
     "name": "stdout",
     "output_type": "stream",
     "text": [
      "\n",
      "            Query: Care este vârsta legală minimă pentru încheierea unei căsătorii în România?\n",
      "            Expected: Căsătoria se poate încheia dacă viitorii soți au împlinit vârsta de 18 ani.\n",
      "            Actual: Vârsta legală minimă pentru căsătoria în România este 18 ani. Pentru a fi căsătorit la vârsta de 16 ani sau mai tânăr, minorul trebuie să obțină consimțământul părinților sau tutorelui lor și autorizația instanței, luând în considerare interesul superior al copilului.\n",
      "            Relevancy Score: [{'metric': 'Answer Relevancy', 'success': True, 'score': 1.0, 'reason': 'The score is 1.00 because the response is perfectly relevant and directly answers the question about the legal minimum age for marriage in Romania, without any irrelevant information.'}]\n",
      "            Recall Score: [{'metric': 'Contextual Recall', 'success': True, 'score': 1.0, 'reason': 'The score is 1.00 because the expected output perfectly matches the information from the 2nd node in the retrieval context, showcasing a flawless alignment.'}]\n",
      "            Faithfulness Score: [{'metric': 'Faithfulness', 'success': True, 'score': 0.75, 'reason': 'The score is 0.75 because the actual output incorrectly states that the minimum legal age for marriage in Romania is 18 years, which contradicts the retrieval context that also claims it is 18 years, leading to confusion.'}]\n",
      "            Understanding Score: [{'metric': 'Understanding (GEval)', 'success': False, 'score': 0.6782320490413315, 'reason': 'The response provides clear information about the minimum legal age for marriage and the conditions for minors, but it could be simplified to enhance accessibility for those without legal knowledge.'}]\n",
      "            \n",
      "Using model: rollama2-7b-instruct\n"
     ]
    },
    {
     "data": {
      "text/html": [
       "<pre style=\"white-space:pre;overflow-x:auto;line-height:normal;font-family:Menlo,'DejaVu Sans Mono',consolas,'Courier New',monospace\">\n",
       "<span style=\"color: #05f58d; text-decoration-color: #05f58d\">✓</span> Tests finished 🎉! Run <span style=\"color: #008000; text-decoration-color: #008000; font-weight: bold\">'deepeval login'</span> to save and analyze evaluation results on Confident AI.\n",
       " \n",
       "✨👀 Looking for a place for your LLM test data to live 🏡❤️ ? Use <span style=\"color: #6a00ff; text-decoration-color: #6a00ff\">Confident AI</span> to get &amp; share testing reports, \n",
       "experiment with models/prompts, and catch regressions for your LLM system. Just run <span style=\"color: #008080; text-decoration-color: #008080\">'deepeval login'</span> in the CLI. \n",
       "\n",
       "</pre>\n"
      ],
      "text/plain": [
       "\n",
       "\u001b[38;2;5;245;141m✓\u001b[0m Tests finished 🎉! Run \u001b[1;32m'deepeval login'\u001b[0m to save and analyze evaluation results on Confident AI.\n",
       " \n",
       "✨👀 Looking for a place for your LLM test data to live 🏡❤️ ? Use \u001b[38;2;106;0;255mConfident AI\u001b[0m to get & share testing reports, \n",
       "experiment with models/prompts, and catch regressions for your LLM system. Just run \u001b[36m'deepeval login'\u001b[0m in the CLI. \n",
       "\n"
      ]
     },
     "metadata": {},
     "output_type": "display_data"
    },
    {
     "data": {
      "text/html": [
       "<pre style=\"white-space:pre;overflow-x:auto;line-height:normal;font-family:Menlo,'DejaVu Sans Mono',consolas,'Courier New',monospace\">\n",
       "<span style=\"color: #05f58d; text-decoration-color: #05f58d\">✓</span> Tests finished 🎉! Run <span style=\"color: #008000; text-decoration-color: #008000; font-weight: bold\">'deepeval login'</span> to save and analyze evaluation results on Confident AI.\n",
       " \n",
       "✨👀 Looking for a place for your LLM test data to live 🏡❤️ ? Use <span style=\"color: #6a00ff; text-decoration-color: #6a00ff\">Confident AI</span> to get &amp; share testing reports, \n",
       "experiment with models/prompts, and catch regressions for your LLM system. Just run <span style=\"color: #008080; text-decoration-color: #008080\">'deepeval login'</span> in the CLI. \n",
       "\n",
       "</pre>\n"
      ],
      "text/plain": [
       "\n",
       "\u001b[38;2;5;245;141m✓\u001b[0m Tests finished 🎉! Run \u001b[1;32m'deepeval login'\u001b[0m to save and analyze evaluation results on Confident AI.\n",
       " \n",
       "✨👀 Looking for a place for your LLM test data to live 🏡❤️ ? Use \u001b[38;2;106;0;255mConfident AI\u001b[0m to get & share testing reports, \n",
       "experiment with models/prompts, and catch regressions for your LLM system. Just run \u001b[36m'deepeval login'\u001b[0m in the CLI. \n",
       "\n"
      ]
     },
     "metadata": {},
     "output_type": "display_data"
    },
    {
     "data": {
      "text/html": [
       "<pre style=\"white-space:pre;overflow-x:auto;line-height:normal;font-family:Menlo,'DejaVu Sans Mono',consolas,'Courier New',monospace\">\n",
       "<span style=\"color: #05f58d; text-decoration-color: #05f58d\">✓</span> Tests finished 🎉! Run <span style=\"color: #008000; text-decoration-color: #008000; font-weight: bold\">'deepeval login'</span> to save and analyze evaluation results on Confident AI.\n",
       " \n",
       "✨👀 Looking for a place for your LLM test data to live 🏡❤️ ? Use <span style=\"color: #6a00ff; text-decoration-color: #6a00ff\">Confident AI</span> to get &amp; share testing reports, \n",
       "experiment with models/prompts, and catch regressions for your LLM system. Just run <span style=\"color: #008080; text-decoration-color: #008080\">'deepeval login'</span> in the CLI. \n",
       "\n",
       "</pre>\n"
      ],
      "text/plain": [
       "\n",
       "\u001b[38;2;5;245;141m✓\u001b[0m Tests finished 🎉! Run \u001b[1;32m'deepeval login'\u001b[0m to save and analyze evaluation results on Confident AI.\n",
       " \n",
       "✨👀 Looking for a place for your LLM test data to live 🏡❤️ ? Use \u001b[38;2;106;0;255mConfident AI\u001b[0m to get & share testing reports, \n",
       "experiment with models/prompts, and catch regressions for your LLM system. Just run \u001b[36m'deepeval login'\u001b[0m in the CLI. \n",
       "\n"
      ]
     },
     "metadata": {},
     "output_type": "display_data"
    },
    {
     "data": {
      "text/html": [
       "<pre style=\"white-space:pre;overflow-x:auto;line-height:normal;font-family:Menlo,'DejaVu Sans Mono',consolas,'Courier New',monospace\">\n",
       "<span style=\"color: #05f58d; text-decoration-color: #05f58d\">✓</span> Tests finished 🎉! Run <span style=\"color: #008000; text-decoration-color: #008000; font-weight: bold\">'deepeval login'</span> to save and analyze evaluation results on Confident AI.\n",
       " \n",
       "✨👀 Looking for a place for your LLM test data to live 🏡❤️ ? Use <span style=\"color: #6a00ff; text-decoration-color: #6a00ff\">Confident AI</span> to get &amp; share testing reports, \n",
       "experiment with models/prompts, and catch regressions for your LLM system. Just run <span style=\"color: #008080; text-decoration-color: #008080\">'deepeval login'</span> in the CLI. \n",
       "\n",
       "</pre>\n"
      ],
      "text/plain": [
       "\n",
       "\u001b[38;2;5;245;141m✓\u001b[0m Tests finished 🎉! Run \u001b[1;32m'deepeval login'\u001b[0m to save and analyze evaluation results on Confident AI.\n",
       " \n",
       "✨👀 Looking for a place for your LLM test data to live 🏡❤️ ? Use \u001b[38;2;106;0;255mConfident AI\u001b[0m to get & share testing reports, \n",
       "experiment with models/prompts, and catch regressions for your LLM system. Just run \u001b[36m'deepeval login'\u001b[0m in the CLI. \n",
       "\n"
      ]
     },
     "metadata": {},
     "output_type": "display_data"
    },
    {
     "name": "stdout",
     "output_type": "stream",
     "text": [
      "\n",
      "            Query: Care este vârsta legală minimă pentru încheierea unei căsătorii în România?\n",
      "            Expected: Căsătoria se poate încheia dacă viitorii soți au împlinit vârsta de 18 ani.\n",
      "            Actual: Vârsta legală minimă pentru încheierea unei căsătorii în România este de 18 ani. Cu toate acestea, cu motive temeinice, minorul care a împlinit vârsta de 16 ani poate încheia o căsătorie printr-un aviz medical, cu autorizația părinților sau a tutorelui și cu aprobarea instanței de tutelă. În astfel de cazuri, minorul care are peste 16 ani trebuie să fie consultat în mod corespunzător. Dacă unul dintre părinți refuză autorizarea căsătoriei, instanța de tutelă va hotărî și asupra acestui punct, având în vedere interesul superior al copilului. Dacă niciunul dintre părinți nu este disponibil pentru a-și manifesta voința sau dacă părintele este decedat, autorizația celeilalte persoane care exercită drepturile parentale ar fi suficientă. În plus, dacă nu există niciunul dintre acești factori, o persoană sau o autoritate abilitată să exercite drepturile părintești poate încuviința căsătoria. \n",
      "            Relevancy Score: [{'metric': 'Answer Relevancy', 'success': False, 'score': 0.5, 'reason': 'The score is 0.50 because while the response includes relevant information about procedural aspects related to marriage, it does not directly address the specific question about the legal minimum age for marriage in Romania. The inclusion of procedural details, such as consulting minors and court decisions, detracts from the focus on the age requirement, preventing a higher score.'}]\n",
      "            Recall Score: [{'metric': 'Contextual Recall', 'success': True, 'score': 1.0, 'reason': 'The score is 1.00 because the expected output perfectly matches the information from the 2nd node in the retrieval context, showcasing a flawless alignment. Great job!'}]\n",
      "            Faithfulness Score: [{'metric': 'Faithfulness', 'success': True, 'score': 0.75, 'reason': \"The score is 0.75 because the actual output incorrectly states that the minimum legal age for marriage in Romania is 18 years, while the retrieval context allows minors over 16 to marry under specific conditions. Additionally, the output implies that a minor can marry with 'motive temeinice', which is not fully supported by the retrieval context that emphasizes the necessity of medical advice, parental consent, and court approval.\"}]\n",
      "            Understanding Score: [{'metric': 'Understanding (GEval)', 'success': False, 'score': 0.45972718325942524, 'reason': 'While the actual output provides detailed information about marriage age in Romania, it is overly complex for someone without legal knowledge, making it harder to understand the basic requirement of being 18 years old.'}]\n",
      "            \n",
      "Finished tests for model: rollama2-7b-instruct\n",
      "\n",
      "==================================================\n",
      "\n",
      "\n",
      "Running tests for query: În ce condiții poate fi încheiat un contract de vânzare-cumpărare și care sunt excepțiile de la forma scrisă?\n",
      "Using model: rollama3-8b-instruct\n"
     ]
    },
    {
     "data": {
      "text/html": [
       "<pre style=\"white-space:pre;overflow-x:auto;line-height:normal;font-family:Menlo,'DejaVu Sans Mono',consolas,'Courier New',monospace\">\n",
       "<span style=\"color: #05f58d; text-decoration-color: #05f58d\">✓</span> Tests finished 🎉! Run <span style=\"color: #008000; text-decoration-color: #008000; font-weight: bold\">'deepeval login'</span> to save and analyze evaluation results on Confident AI.\n",
       " \n",
       "✨👀 Looking for a place for your LLM test data to live 🏡❤️ ? Use <span style=\"color: #6a00ff; text-decoration-color: #6a00ff\">Confident AI</span> to get &amp; share testing reports, \n",
       "experiment with models/prompts, and catch regressions for your LLM system. Just run <span style=\"color: #008080; text-decoration-color: #008080\">'deepeval login'</span> in the CLI. \n",
       "\n",
       "</pre>\n"
      ],
      "text/plain": [
       "\n",
       "\u001b[38;2;5;245;141m✓\u001b[0m Tests finished 🎉! Run \u001b[1;32m'deepeval login'\u001b[0m to save and analyze evaluation results on Confident AI.\n",
       " \n",
       "✨👀 Looking for a place for your LLM test data to live 🏡❤️ ? Use \u001b[38;2;106;0;255mConfident AI\u001b[0m to get & share testing reports, \n",
       "experiment with models/prompts, and catch regressions for your LLM system. Just run \u001b[36m'deepeval login'\u001b[0m in the CLI. \n",
       "\n"
      ]
     },
     "metadata": {},
     "output_type": "display_data"
    },
    {
     "data": {
      "text/html": [
       "<pre style=\"white-space:pre;overflow-x:auto;line-height:normal;font-family:Menlo,'DejaVu Sans Mono',consolas,'Courier New',monospace\">\n",
       "<span style=\"color: #05f58d; text-decoration-color: #05f58d\">✓</span> Tests finished 🎉! Run <span style=\"color: #008000; text-decoration-color: #008000; font-weight: bold\">'deepeval login'</span> to save and analyze evaluation results on Confident AI.\n",
       " \n",
       "✨👀 Looking for a place for your LLM test data to live 🏡❤️ ? Use <span style=\"color: #6a00ff; text-decoration-color: #6a00ff\">Confident AI</span> to get &amp; share testing reports, \n",
       "experiment with models/prompts, and catch regressions for your LLM system. Just run <span style=\"color: #008080; text-decoration-color: #008080\">'deepeval login'</span> in the CLI. \n",
       "\n",
       "</pre>\n"
      ],
      "text/plain": [
       "\n",
       "\u001b[38;2;5;245;141m✓\u001b[0m Tests finished 🎉! Run \u001b[1;32m'deepeval login'\u001b[0m to save and analyze evaluation results on Confident AI.\n",
       " \n",
       "✨👀 Looking for a place for your LLM test data to live 🏡❤️ ? Use \u001b[38;2;106;0;255mConfident AI\u001b[0m to get & share testing reports, \n",
       "experiment with models/prompts, and catch regressions for your LLM system. Just run \u001b[36m'deepeval login'\u001b[0m in the CLI. \n",
       "\n"
      ]
     },
     "metadata": {},
     "output_type": "display_data"
    },
    {
     "data": {
      "text/html": [
       "<pre style=\"white-space:pre;overflow-x:auto;line-height:normal;font-family:Menlo,'DejaVu Sans Mono',consolas,'Courier New',monospace\">\n",
       "<span style=\"color: #05f58d; text-decoration-color: #05f58d\">✓</span> Tests finished 🎉! Run <span style=\"color: #008000; text-decoration-color: #008000; font-weight: bold\">'deepeval login'</span> to save and analyze evaluation results on Confident AI.\n",
       " \n",
       "✨👀 Looking for a place for your LLM test data to live 🏡❤️ ? Use <span style=\"color: #6a00ff; text-decoration-color: #6a00ff\">Confident AI</span> to get &amp; share testing reports, \n",
       "experiment with models/prompts, and catch regressions for your LLM system. Just run <span style=\"color: #008080; text-decoration-color: #008080\">'deepeval login'</span> in the CLI. \n",
       "\n",
       "</pre>\n"
      ],
      "text/plain": [
       "\n",
       "\u001b[38;2;5;245;141m✓\u001b[0m Tests finished 🎉! Run \u001b[1;32m'deepeval login'\u001b[0m to save and analyze evaluation results on Confident AI.\n",
       " \n",
       "✨👀 Looking for a place for your LLM test data to live 🏡❤️ ? Use \u001b[38;2;106;0;255mConfident AI\u001b[0m to get & share testing reports, \n",
       "experiment with models/prompts, and catch regressions for your LLM system. Just run \u001b[36m'deepeval login'\u001b[0m in the CLI. \n",
       "\n"
      ]
     },
     "metadata": {},
     "output_type": "display_data"
    },
    {
     "data": {
      "text/html": [
       "<pre style=\"white-space:pre;overflow-x:auto;line-height:normal;font-family:Menlo,'DejaVu Sans Mono',consolas,'Courier New',monospace\">\n",
       "<span style=\"color: #05f58d; text-decoration-color: #05f58d\">✓</span> Tests finished 🎉! Run <span style=\"color: #008000; text-decoration-color: #008000; font-weight: bold\">'deepeval login'</span> to save and analyze evaluation results on Confident AI.\n",
       " \n",
       "✨👀 Looking for a place for your LLM test data to live 🏡❤️ ? Use <span style=\"color: #6a00ff; text-decoration-color: #6a00ff\">Confident AI</span> to get &amp; share testing reports, \n",
       "experiment with models/prompts, and catch regressions for your LLM system. Just run <span style=\"color: #008080; text-decoration-color: #008080\">'deepeval login'</span> in the CLI. \n",
       "\n",
       "</pre>\n"
      ],
      "text/plain": [
       "\n",
       "\u001b[38;2;5;245;141m✓\u001b[0m Tests finished 🎉! Run \u001b[1;32m'deepeval login'\u001b[0m to save and analyze evaluation results on Confident AI.\n",
       " \n",
       "✨👀 Looking for a place for your LLM test data to live 🏡❤️ ? Use \u001b[38;2;106;0;255mConfident AI\u001b[0m to get & share testing reports, \n",
       "experiment with models/prompts, and catch regressions for your LLM system. Just run \u001b[36m'deepeval login'\u001b[0m in the CLI. \n",
       "\n"
      ]
     },
     "metadata": {},
     "output_type": "display_data"
    },
    {
     "name": "stdout",
     "output_type": "stream",
     "text": [
      "\n",
      "            Query: În ce condiții poate fi încheiat un contract de vânzare-cumpărare și care sunt excepțiile de la forma scrisă?\n",
      "            Expected: Contractul de vânzare-cumpărare se încheie prin acordul părților asupra lucrului și prețului. Contractul trebuie să fie în formă scrisă pentru bunurile imobile, pentru bunurile mobile cu valoarea peste o anumită sumă stabilită prin lege și pentru bunurile viitoare. Forma scrisă nu este obligatorie pentru bunurile mobile de valoare mică, pentru vânzările în cadrul activităților comerciale curente cu plată pe loc, sau când legea prevede expres alte forme de încheierie.\n",
      "            Actual: Un contract de vânzare-cumpărare poate fi încheiat în formă orală sau scrisă, dar forma scrisă este necesară doar pentru proba. Forma scrisă nu se aplică atunci când nu există alte prevederi legale care să prevadă un astfel de lucru.\n",
      "            Relevancy Score: [{'metric': 'Answer Relevancy', 'success': True, 'score': 1.0, 'reason': 'The score is 1.00 because the response perfectly addressed the conditions and exceptions for forming a sales contract without any irrelevant information. Great job on staying focused and relevant!'}]\n",
      "            Recall Score: [{'metric': 'Contextual Recall', 'success': False, 'score': 0.3333333333333333, 'reason': 'The score is 0.33 because only the requirement for a written form for certain goods (sentence 2) aligns with the 1st node in the retrieval context. However, the agreement on object and price (sentence 1) and exceptions for small value goods (sentence 4) are not supported by any nodes in the retrieval context.'}]\n",
      "            Faithfulness Score: [{'metric': 'Faithfulness', 'success': False, 'score': 0.3333333333333333, 'reason': 'The score is 0.33 because the actual output incorrectly states that the written form is only needed for proof and does not apply when there are no other legal provisions, contradicting the context that emphasizes its necessity for certain contracts regardless of legal provisions.'}]\n",
      "            Understanding Score: [{'metric': 'Understanding (GEval)', 'success': False, 'score': 0.43335749949181535, 'reason': 'The actual output provides some information about the conditions for concluding a sales contract, but it lacks clarity and detail compared to the expected output, making it less accessible for someone without legal knowledge.'}]\n",
      "            \n",
      "Using model: rollama2-7b-instruct\n"
     ]
    },
    {
     "data": {
      "text/html": [
       "<pre style=\"white-space:pre;overflow-x:auto;line-height:normal;font-family:Menlo,'DejaVu Sans Mono',consolas,'Courier New',monospace\">\n",
       "<span style=\"color: #05f58d; text-decoration-color: #05f58d\">✓</span> Tests finished 🎉! Run <span style=\"color: #008000; text-decoration-color: #008000; font-weight: bold\">'deepeval login'</span> to save and analyze evaluation results on Confident AI.\n",
       " \n",
       "✨👀 Looking for a place for your LLM test data to live 🏡❤️ ? Use <span style=\"color: #6a00ff; text-decoration-color: #6a00ff\">Confident AI</span> to get &amp; share testing reports, \n",
       "experiment with models/prompts, and catch regressions for your LLM system. Just run <span style=\"color: #008080; text-decoration-color: #008080\">'deepeval login'</span> in the CLI. \n",
       "\n",
       "</pre>\n"
      ],
      "text/plain": [
       "\n",
       "\u001b[38;2;5;245;141m✓\u001b[0m Tests finished 🎉! Run \u001b[1;32m'deepeval login'\u001b[0m to save and analyze evaluation results on Confident AI.\n",
       " \n",
       "✨👀 Looking for a place for your LLM test data to live 🏡❤️ ? Use \u001b[38;2;106;0;255mConfident AI\u001b[0m to get & share testing reports, \n",
       "experiment with models/prompts, and catch regressions for your LLM system. Just run \u001b[36m'deepeval login'\u001b[0m in the CLI. \n",
       "\n"
      ]
     },
     "metadata": {},
     "output_type": "display_data"
    },
    {
     "data": {
      "text/html": [
       "<pre style=\"white-space:pre;overflow-x:auto;line-height:normal;font-family:Menlo,'DejaVu Sans Mono',consolas,'Courier New',monospace\">\n",
       "<span style=\"color: #05f58d; text-decoration-color: #05f58d\">✓</span> Tests finished 🎉! Run <span style=\"color: #008000; text-decoration-color: #008000; font-weight: bold\">'deepeval login'</span> to save and analyze evaluation results on Confident AI.\n",
       " \n",
       "✨👀 Looking for a place for your LLM test data to live 🏡❤️ ? Use <span style=\"color: #6a00ff; text-decoration-color: #6a00ff\">Confident AI</span> to get &amp; share testing reports, \n",
       "experiment with models/prompts, and catch regressions for your LLM system. Just run <span style=\"color: #008080; text-decoration-color: #008080\">'deepeval login'</span> in the CLI. \n",
       "\n",
       "</pre>\n"
      ],
      "text/plain": [
       "\n",
       "\u001b[38;2;5;245;141m✓\u001b[0m Tests finished 🎉! Run \u001b[1;32m'deepeval login'\u001b[0m to save and analyze evaluation results on Confident AI.\n",
       " \n",
       "✨👀 Looking for a place for your LLM test data to live 🏡❤️ ? Use \u001b[38;2;106;0;255mConfident AI\u001b[0m to get & share testing reports, \n",
       "experiment with models/prompts, and catch regressions for your LLM system. Just run \u001b[36m'deepeval login'\u001b[0m in the CLI. \n",
       "\n"
      ]
     },
     "metadata": {},
     "output_type": "display_data"
    },
    {
     "data": {
      "text/html": [
       "<pre style=\"white-space:pre;overflow-x:auto;line-height:normal;font-family:Menlo,'DejaVu Sans Mono',consolas,'Courier New',monospace\">\n",
       "<span style=\"color: #05f58d; text-decoration-color: #05f58d\">✓</span> Tests finished 🎉! Run <span style=\"color: #008000; text-decoration-color: #008000; font-weight: bold\">'deepeval login'</span> to save and analyze evaluation results on Confident AI.\n",
       " \n",
       "✨👀 Looking for a place for your LLM test data to live 🏡❤️ ? Use <span style=\"color: #6a00ff; text-decoration-color: #6a00ff\">Confident AI</span> to get &amp; share testing reports, \n",
       "experiment with models/prompts, and catch regressions for your LLM system. Just run <span style=\"color: #008080; text-decoration-color: #008080\">'deepeval login'</span> in the CLI. \n",
       "\n",
       "</pre>\n"
      ],
      "text/plain": [
       "\n",
       "\u001b[38;2;5;245;141m✓\u001b[0m Tests finished 🎉! Run \u001b[1;32m'deepeval login'\u001b[0m to save and analyze evaluation results on Confident AI.\n",
       " \n",
       "✨👀 Looking for a place for your LLM test data to live 🏡❤️ ? Use \u001b[38;2;106;0;255mConfident AI\u001b[0m to get & share testing reports, \n",
       "experiment with models/prompts, and catch regressions for your LLM system. Just run \u001b[36m'deepeval login'\u001b[0m in the CLI. \n",
       "\n"
      ]
     },
     "metadata": {},
     "output_type": "display_data"
    },
    {
     "data": {
      "text/html": [
       "<pre style=\"white-space:pre;overflow-x:auto;line-height:normal;font-family:Menlo,'DejaVu Sans Mono',consolas,'Courier New',monospace\">\n",
       "<span style=\"color: #05f58d; text-decoration-color: #05f58d\">✓</span> Tests finished 🎉! Run <span style=\"color: #008000; text-decoration-color: #008000; font-weight: bold\">'deepeval login'</span> to save and analyze evaluation results on Confident AI.\n",
       " \n",
       "✨👀 Looking for a place for your LLM test data to live 🏡❤️ ? Use <span style=\"color: #6a00ff; text-decoration-color: #6a00ff\">Confident AI</span> to get &amp; share testing reports, \n",
       "experiment with models/prompts, and catch regressions for your LLM system. Just run <span style=\"color: #008080; text-decoration-color: #008080\">'deepeval login'</span> in the CLI. \n",
       "\n",
       "</pre>\n"
      ],
      "text/plain": [
       "\n",
       "\u001b[38;2;5;245;141m✓\u001b[0m Tests finished 🎉! Run \u001b[1;32m'deepeval login'\u001b[0m to save and analyze evaluation results on Confident AI.\n",
       " \n",
       "✨👀 Looking for a place for your LLM test data to live 🏡❤️ ? Use \u001b[38;2;106;0;255mConfident AI\u001b[0m to get & share testing reports, \n",
       "experiment with models/prompts, and catch regressions for your LLM system. Just run \u001b[36m'deepeval login'\u001b[0m in the CLI. \n",
       "\n"
      ]
     },
     "metadata": {},
     "output_type": "display_data"
    },
    {
     "name": "stdout",
     "output_type": "stream",
     "text": [
      "\n",
      "            Query: În ce condiții poate fi încheiat un contract de vânzare-cumpărare și care sunt excepțiile de la forma scrisă?\n",
      "            Expected: Contractul de vânzare-cumpărare se încheie prin acordul părților asupra lucrului și prețului. Contractul trebuie să fie în formă scrisă pentru bunurile imobile, pentru bunurile mobile cu valoarea peste o anumită sumă stabilită prin lege și pentru bunurile viitoare. Forma scrisă nu este obligatorie pentru bunurile mobile de valoare mică, pentru vânzările în cadrul activităților comerciale curente cu plată pe loc, sau când legea prevede expres alte forme de încheierie.\n",
      "            Actual: \n",
      "În ce condiții poate fi încheiat un contract de vânzare-cumpărare? Un contract de vânzare-cumpărare poate fi încheiat în formă scrisă, dar nu este obligatoriu. Există excepții de la această regulă:\n",
      "- Contractele care nu necesită formalizarea, cum ar fi cele pentru bunuri sau servicii de consum.\n",
      "- Contracte care nu trebuie să fie în formă scrisă în conformitate cu legea, cum ar fi contractele verbal între cumpărători și vânzători sau furnizori și clienți, atât timp cât acestea sunt clare, complete și corecte.\n",
      "- Contracte încheiate prin poștă electronică sau orice alt mijloc de comunicare la distanță care permite părților să înțeleagă în mod clar termenii contractului.\n",
      "\n",
      "Ce este un contract de consignație? Un contract de consignație este un acord prin care o persoană (consignatarul) împrumută bunuri unei alte persoane (depozitarul), în numele și pe seama depozitarului, iar depozitarul are autoritatea de a le gestiona. Aceasta implică obligația consignatarului de a restitui bunurile la scadență sau în alt mod convenit și plata oricăror dobânzi, dacă este cazul. Contractul de consignație trebuie să fie în formă scrisă pentru dovada contractului. \n",
      "\n",
      "Ce este un contract de societate? Un contract de societate (societate comercială) este o asociere între persoane pentru a desfășura o activitate comercială sau industrială cu scopul de a face profit. Acesta implică participarea la capitalul social, și poate fi încheiat sub formă scrisă în formă autentică sau sub semnătură privată sau verbal.\n",
      "\n",
      "Ce este un contract de mandat? Un contract de mandat este o convenție prin care o persoană (mandatarul) acționează pe seama celeilalte (delegatorul). Mandatarul are autoritatea și responsabilitatea de a efectua orice act în numele delegatarului, iar mandatul trebuie să fie exprimat în mod clar. Mandatul poate fi verbal sau scris. Mandatul dat pentru a încheia un contract care este supus unei anumite forme trebuie să respecte această formă, sub sancțiunea aplicabilă actului. \n",
      "            Relevancy Score: [{'metric': 'Answer Relevancy', 'success': False, 'score': 0.25, 'reason': 'The score is 0.25 because the actual output contains numerous irrelevant statements about consignment, partnership, and mandate contracts, which do not address the conditions or exceptions of a sales contract. However, the score is not lower because there might be some relevant information amidst the irrelevant content.'}]\n",
      "            Recall Score: [{'metric': 'Contextual Recall', 'success': False, 'score': 0.5, 'reason': 'The score is 0.50 because while the 1st node in the retrieval context supports the need for a written form for certain goods, it does not cover the agreement of parties on the object and price or the exceptions for small-value goods and commercial activities.'}]\n",
      "            Faithfulness Score: [{'metric': 'Faithfulness', 'success': True, 'score': 0.9230769230769231, 'reason': \"The score is 0.92 because the actual output incorrectly asserts that a sale-purchase contract must be in written form, contradicting the retrieval context's claim that this requirement is not mandatory.\"}]\n",
      "            Understanding Score: [{'metric': 'Understanding (GEval)', 'success': False, 'score': 0.4792293095946024, 'reason': 'The actual output provides some information about contracts but lacks clarity and accessibility for someone without legal knowledge, making it difficult to understand what actions are permissible.'}]\n",
      "            \n",
      "Finished tests for model: rollama2-7b-instruct\n",
      "\n",
      "==================================================\n",
      "\n",
      "\n",
      "Running tests for query: Care sunt drepturile și obligațiile părților în cazul unei concedieri individuale pentru motive care nu țin de persoana salariatului?\n",
      "Using model: rollama3-8b-instruct\n"
     ]
    },
    {
     "data": {
      "text/html": [
       "<pre style=\"white-space:pre;overflow-x:auto;line-height:normal;font-family:Menlo,'DejaVu Sans Mono',consolas,'Courier New',monospace\">\n",
       "<span style=\"color: #05f58d; text-decoration-color: #05f58d\">✓</span> Tests finished 🎉! Run <span style=\"color: #008000; text-decoration-color: #008000; font-weight: bold\">'deepeval login'</span> to save and analyze evaluation results on Confident AI.\n",
       " \n",
       "✨👀 Looking for a place for your LLM test data to live 🏡❤️ ? Use <span style=\"color: #6a00ff; text-decoration-color: #6a00ff\">Confident AI</span> to get &amp; share testing reports, \n",
       "experiment with models/prompts, and catch regressions for your LLM system. Just run <span style=\"color: #008080; text-decoration-color: #008080\">'deepeval login'</span> in the CLI. \n",
       "\n",
       "</pre>\n"
      ],
      "text/plain": [
       "\n",
       "\u001b[38;2;5;245;141m✓\u001b[0m Tests finished 🎉! Run \u001b[1;32m'deepeval login'\u001b[0m to save and analyze evaluation results on Confident AI.\n",
       " \n",
       "✨👀 Looking for a place for your LLM test data to live 🏡❤️ ? Use \u001b[38;2;106;0;255mConfident AI\u001b[0m to get & share testing reports, \n",
       "experiment with models/prompts, and catch regressions for your LLM system. Just run \u001b[36m'deepeval login'\u001b[0m in the CLI. \n",
       "\n"
      ]
     },
     "metadata": {},
     "output_type": "display_data"
    },
    {
     "data": {
      "text/html": [
       "<pre style=\"white-space:pre;overflow-x:auto;line-height:normal;font-family:Menlo,'DejaVu Sans Mono',consolas,'Courier New',monospace\">\n",
       "<span style=\"color: #05f58d; text-decoration-color: #05f58d\">✓</span> Tests finished 🎉! Run <span style=\"color: #008000; text-decoration-color: #008000; font-weight: bold\">'deepeval login'</span> to save and analyze evaluation results on Confident AI.\n",
       " \n",
       "✨👀 Looking for a place for your LLM test data to live 🏡❤️ ? Use <span style=\"color: #6a00ff; text-decoration-color: #6a00ff\">Confident AI</span> to get &amp; share testing reports, \n",
       "experiment with models/prompts, and catch regressions for your LLM system. Just run <span style=\"color: #008080; text-decoration-color: #008080\">'deepeval login'</span> in the CLI. \n",
       "\n",
       "</pre>\n"
      ],
      "text/plain": [
       "\n",
       "\u001b[38;2;5;245;141m✓\u001b[0m Tests finished 🎉! Run \u001b[1;32m'deepeval login'\u001b[0m to save and analyze evaluation results on Confident AI.\n",
       " \n",
       "✨👀 Looking for a place for your LLM test data to live 🏡❤️ ? Use \u001b[38;2;106;0;255mConfident AI\u001b[0m to get & share testing reports, \n",
       "experiment with models/prompts, and catch regressions for your LLM system. Just run \u001b[36m'deepeval login'\u001b[0m in the CLI. \n",
       "\n"
      ]
     },
     "metadata": {},
     "output_type": "display_data"
    },
    {
     "data": {
      "text/html": [
       "<pre style=\"white-space:pre;overflow-x:auto;line-height:normal;font-family:Menlo,'DejaVu Sans Mono',consolas,'Courier New',monospace\">\n",
       "<span style=\"color: #05f58d; text-decoration-color: #05f58d\">✓</span> Tests finished 🎉! Run <span style=\"color: #008000; text-decoration-color: #008000; font-weight: bold\">'deepeval login'</span> to save and analyze evaluation results on Confident AI.\n",
       " \n",
       "✨👀 Looking for a place for your LLM test data to live 🏡❤️ ? Use <span style=\"color: #6a00ff; text-decoration-color: #6a00ff\">Confident AI</span> to get &amp; share testing reports, \n",
       "experiment with models/prompts, and catch regressions for your LLM system. Just run <span style=\"color: #008080; text-decoration-color: #008080\">'deepeval login'</span> in the CLI. \n",
       "\n",
       "</pre>\n"
      ],
      "text/plain": [
       "\n",
       "\u001b[38;2;5;245;141m✓\u001b[0m Tests finished 🎉! Run \u001b[1;32m'deepeval login'\u001b[0m to save and analyze evaluation results on Confident AI.\n",
       " \n",
       "✨👀 Looking for a place for your LLM test data to live 🏡❤️ ? Use \u001b[38;2;106;0;255mConfident AI\u001b[0m to get & share testing reports, \n",
       "experiment with models/prompts, and catch regressions for your LLM system. Just run \u001b[36m'deepeval login'\u001b[0m in the CLI. \n",
       "\n"
      ]
     },
     "metadata": {},
     "output_type": "display_data"
    },
    {
     "data": {
      "text/html": [
       "<pre style=\"white-space:pre;overflow-x:auto;line-height:normal;font-family:Menlo,'DejaVu Sans Mono',consolas,'Courier New',monospace\">\n",
       "<span style=\"color: #05f58d; text-decoration-color: #05f58d\">✓</span> Tests finished 🎉! Run <span style=\"color: #008000; text-decoration-color: #008000; font-weight: bold\">'deepeval login'</span> to save and analyze evaluation results on Confident AI.\n",
       " \n",
       "✨👀 Looking for a place for your LLM test data to live 🏡❤️ ? Use <span style=\"color: #6a00ff; text-decoration-color: #6a00ff\">Confident AI</span> to get &amp; share testing reports, \n",
       "experiment with models/prompts, and catch regressions for your LLM system. Just run <span style=\"color: #008080; text-decoration-color: #008080\">'deepeval login'</span> in the CLI. \n",
       "\n",
       "</pre>\n"
      ],
      "text/plain": [
       "\n",
       "\u001b[38;2;5;245;141m✓\u001b[0m Tests finished 🎉! Run \u001b[1;32m'deepeval login'\u001b[0m to save and analyze evaluation results on Confident AI.\n",
       " \n",
       "✨👀 Looking for a place for your LLM test data to live 🏡❤️ ? Use \u001b[38;2;106;0;255mConfident AI\u001b[0m to get & share testing reports, \n",
       "experiment with models/prompts, and catch regressions for your LLM system. Just run \u001b[36m'deepeval login'\u001b[0m in the CLI. \n",
       "\n"
      ]
     },
     "metadata": {},
     "output_type": "display_data"
    },
    {
     "name": "stdout",
     "output_type": "stream",
     "text": [
      "\n",
      "            Query: Care sunt drepturile și obligațiile părților în cazul unei concedieri individuale pentru motive care nu țin de persoana salariatului?\n",
      "            Expected: În cazul concedierii pentru motive care nu țin de persoana salariatului, angajatorul trebuie să respecte proceduri stricte și să asigure drepturi specifice salariatului. Concedierea este permisă doar pentru desființarea locului de muncă din motive economice, tehnologice, structurale sau similare. Angajatorul are obligația să acorde un preaviz de minimum 20 de zile lucrătoare și să respecte criterii obiective de selecție (performanțe profesionale, vechime, sarcini de întreținere).\n",
      "            Actual: Atunci când un angajator decide să înceteze contractul individual de muncă din inițiativa sa, acesta se numește concediere. Concedierile pot fi fără legătură cu persoana lucrătorului sau cu motivul pentru care este salariat.\n",
      "\n",
      "Concedieri pentru motive care nu au nici o legătură cu persoana lucrătorului sunt încetarea contractului individual de muncă din cauza închiderii locației de muncă ocupată de lucrător. Acest lucru se poate întâmpla dintr-un singur sau mai mulți motive care nu au legătură cu persoana lucrătorului.\n",
      "\n",
      "Locul de muncă trebuie să fie efectiv și să aibă o cauză reală și serioasă pentru închidere. \n",
      "\n",
      "Lucrătorii beneficiază de protecția drepturilor acestora atunci când există un transfer al afacerii, al unității sau unele părți ale acesteia către alt angajator, așa cum este prevăzut de lege. \n",
      "\n",
      "Drepturile și obligațiile lucrătorului, care decurg dintr-un contract sau raport de muncă existent la data transferului, se vor transfera întregi către noul angajator. \n",
      "\n",
      "Transferul afacerii, al unității sau unele părți ale acesteia nu pot fi un motiv pentru concedieri individuale sau colective pentru lucrător de către antreprenor sau de către noul angajator.\n",
      "            Relevancy Score: [{'metric': 'Answer Relevancy', 'success': False, 'score': 0.4, 'reason': 'The score is 0.40 because while the output contains some relevant information, it is overshadowed by several irrelevant statements that do not directly address the specific rights and obligations in individual dismissals. The inclusion of topics like workplace effectiveness, business transfers, and unrelated dismissal causes detracts from the focus on the core question, thus preventing a higher score.'}]\n",
      "            Recall Score: [{'metric': 'Contextual Recall', 'success': False, 'score': 0.6666666666666666, 'reason': 'The score is 0.67 because while the retrieval context supports the general concept of dismissal for reasons unrelated to the employee, as seen in node 2, it lacks specific details such as the minimum notice period and selection criteria, which are crucial elements in the expected output.'}]\n",
      "            Faithfulness Score: [{'metric': 'Faithfulness', 'success': True, 'score': 0.875, 'reason': 'The score is 0.88 because the actual output incorrectly suggests that concessions can only be made for reasons unrelated to the employee, while the retrieval context states that they can also be based on personal reasons related to the employee.'}]\n",
      "            Understanding Score: [{'metric': 'Understanding (GEval)', 'success': False, 'score': 0.46643983310288667, 'reason': 'The response provides some information about termination but lacks clarity on specific rights and obligations, such as the requirement for notice and objective selection criteria, which are essential for user understanding.'}]\n",
      "            \n",
      "Using model: rollama2-7b-instruct\n"
     ]
    },
    {
     "data": {
      "text/html": [
       "<pre style=\"white-space:pre;overflow-x:auto;line-height:normal;font-family:Menlo,'DejaVu Sans Mono',consolas,'Courier New',monospace\">\n",
       "<span style=\"color: #05f58d; text-decoration-color: #05f58d\">✓</span> Tests finished 🎉! Run <span style=\"color: #008000; text-decoration-color: #008000; font-weight: bold\">'deepeval login'</span> to save and analyze evaluation results on Confident AI.\n",
       " \n",
       "✨👀 Looking for a place for your LLM test data to live 🏡❤️ ? Use <span style=\"color: #6a00ff; text-decoration-color: #6a00ff\">Confident AI</span> to get &amp; share testing reports, \n",
       "experiment with models/prompts, and catch regressions for your LLM system. Just run <span style=\"color: #008080; text-decoration-color: #008080\">'deepeval login'</span> in the CLI. \n",
       "\n",
       "</pre>\n"
      ],
      "text/plain": [
       "\n",
       "\u001b[38;2;5;245;141m✓\u001b[0m Tests finished 🎉! Run \u001b[1;32m'deepeval login'\u001b[0m to save and analyze evaluation results on Confident AI.\n",
       " \n",
       "✨👀 Looking for a place for your LLM test data to live 🏡❤️ ? Use \u001b[38;2;106;0;255mConfident AI\u001b[0m to get & share testing reports, \n",
       "experiment with models/prompts, and catch regressions for your LLM system. Just run \u001b[36m'deepeval login'\u001b[0m in the CLI. \n",
       "\n"
      ]
     },
     "metadata": {},
     "output_type": "display_data"
    },
    {
     "data": {
      "text/html": [
       "<pre style=\"white-space:pre;overflow-x:auto;line-height:normal;font-family:Menlo,'DejaVu Sans Mono',consolas,'Courier New',monospace\">\n",
       "<span style=\"color: #05f58d; text-decoration-color: #05f58d\">✓</span> Tests finished 🎉! Run <span style=\"color: #008000; text-decoration-color: #008000; font-weight: bold\">'deepeval login'</span> to save and analyze evaluation results on Confident AI.\n",
       " \n",
       "✨👀 Looking for a place for your LLM test data to live 🏡❤️ ? Use <span style=\"color: #6a00ff; text-decoration-color: #6a00ff\">Confident AI</span> to get &amp; share testing reports, \n",
       "experiment with models/prompts, and catch regressions for your LLM system. Just run <span style=\"color: #008080; text-decoration-color: #008080\">'deepeval login'</span> in the CLI. \n",
       "\n",
       "</pre>\n"
      ],
      "text/plain": [
       "\n",
       "\u001b[38;2;5;245;141m✓\u001b[0m Tests finished 🎉! Run \u001b[1;32m'deepeval login'\u001b[0m to save and analyze evaluation results on Confident AI.\n",
       " \n",
       "✨👀 Looking for a place for your LLM test data to live 🏡❤️ ? Use \u001b[38;2;106;0;255mConfident AI\u001b[0m to get & share testing reports, \n",
       "experiment with models/prompts, and catch regressions for your LLM system. Just run \u001b[36m'deepeval login'\u001b[0m in the CLI. \n",
       "\n"
      ]
     },
     "metadata": {},
     "output_type": "display_data"
    },
    {
     "data": {
      "text/html": [
       "<pre style=\"white-space:pre;overflow-x:auto;line-height:normal;font-family:Menlo,'DejaVu Sans Mono',consolas,'Courier New',monospace\">\n",
       "<span style=\"color: #05f58d; text-decoration-color: #05f58d\">✓</span> Tests finished 🎉! Run <span style=\"color: #008000; text-decoration-color: #008000; font-weight: bold\">'deepeval login'</span> to save and analyze evaluation results on Confident AI.\n",
       " \n",
       "✨👀 Looking for a place for your LLM test data to live 🏡❤️ ? Use <span style=\"color: #6a00ff; text-decoration-color: #6a00ff\">Confident AI</span> to get &amp; share testing reports, \n",
       "experiment with models/prompts, and catch regressions for your LLM system. Just run <span style=\"color: #008080; text-decoration-color: #008080\">'deepeval login'</span> in the CLI. \n",
       "\n",
       "</pre>\n"
      ],
      "text/plain": [
       "\n",
       "\u001b[38;2;5;245;141m✓\u001b[0m Tests finished 🎉! Run \u001b[1;32m'deepeval login'\u001b[0m to save and analyze evaluation results on Confident AI.\n",
       " \n",
       "✨👀 Looking for a place for your LLM test data to live 🏡❤️ ? Use \u001b[38;2;106;0;255mConfident AI\u001b[0m to get & share testing reports, \n",
       "experiment with models/prompts, and catch regressions for your LLM system. Just run \u001b[36m'deepeval login'\u001b[0m in the CLI. \n",
       "\n"
      ]
     },
     "metadata": {},
     "output_type": "display_data"
    },
    {
     "data": {
      "text/html": [
       "<pre style=\"white-space:pre;overflow-x:auto;line-height:normal;font-family:Menlo,'DejaVu Sans Mono',consolas,'Courier New',monospace\">\n",
       "<span style=\"color: #05f58d; text-decoration-color: #05f58d\">✓</span> Tests finished 🎉! Run <span style=\"color: #008000; text-decoration-color: #008000; font-weight: bold\">'deepeval login'</span> to save and analyze evaluation results on Confident AI.\n",
       " \n",
       "✨👀 Looking for a place for your LLM test data to live 🏡❤️ ? Use <span style=\"color: #6a00ff; text-decoration-color: #6a00ff\">Confident AI</span> to get &amp; share testing reports, \n",
       "experiment with models/prompts, and catch regressions for your LLM system. Just run <span style=\"color: #008080; text-decoration-color: #008080\">'deepeval login'</span> in the CLI. \n",
       "\n",
       "</pre>\n"
      ],
      "text/plain": [
       "\n",
       "\u001b[38;2;5;245;141m✓\u001b[0m Tests finished 🎉! Run \u001b[1;32m'deepeval login'\u001b[0m to save and analyze evaluation results on Confident AI.\n",
       " \n",
       "✨👀 Looking for a place for your LLM test data to live 🏡❤️ ? Use \u001b[38;2;106;0;255mConfident AI\u001b[0m to get & share testing reports, \n",
       "experiment with models/prompts, and catch regressions for your LLM system. Just run \u001b[36m'deepeval login'\u001b[0m in the CLI. \n",
       "\n"
      ]
     },
     "metadata": {},
     "output_type": "display_data"
    },
    {
     "name": "stdout",
     "output_type": "stream",
     "text": [
      "\n",
      "            Query: Care sunt drepturile și obligațiile părților în cazul unei concedieri individuale pentru motive care nu țin de persoana salariatului?\n",
      "            Expected: În cazul concedierii pentru motive care nu țin de persoana salariatului, angajatorul trebuie să respecte proceduri stricte și să asigure drepturi specifice salariatului. Concedierea este permisă doar pentru desființarea locului de muncă din motive economice, tehnologice, structurale sau similare. Angajatorul are obligația să acorde un preaviz de minimum 20 de zile lucrătoare și să respecte criterii obiective de selecție (performanțe profesionale, vechime, sarcini de întreținere).\n",
      "            Actual:  \n",
      "Concedierea individuală pentru motive care nu țin de persoana salariatului este reglementată de articolul 61 din Codul muncii românesc, care stipulează că angajatorii au dreptul de a-și desființa locurile de muncă. Cu toate acestea, concedierea trebuie să fie efectivă și să aibă o cauză reală și serioasă. În plus, angajatul va fi transferat integral noului angajator. Deci, drepturile salariatului într-o astfel de situație sunt protejate de articolul 61 din Codul muncii românesc și, dacă are loc un transfer al întreprinderii sau al unei părți a acesteia către un alt angajator, drepturile salariatului vor fi transferate noului angajator. \n",
      "            Relevancy Score: [{'metric': 'Answer Relevancy', 'success': False, 'score': 0.6666666666666666, 'reason': 'The score is 0.67 because while the output addresses some aspects of individual dismissals, it includes irrelevant information about employee transfers and business rights, which do not directly pertain to the question about rights and obligations in individual dismissals.'}]\n",
      "            Recall Score: [{'metric': 'Contextual Recall', 'success': False, 'score': 0.6666666666666666, 'reason': 'The score is 0.67 because while the retrieval context nodes support the general concept of dismissal for reasons unrelated to the employee, they lack specific details about the 20-day notice and objective selection criteria, which are crucial parts of the expected output.'}]\n",
      "            Faithfulness Score: [{'metric': 'Faithfulness', 'success': False, 'score': 0.6666666666666666, 'reason': 'The score is 0.67 because the actual output incorrectly states that the employee will be fully transferred to the new employer, while the retrieval context clarifies that only rights and obligations will be transferred. Additionally, the actual output references article 61 of the Romanian Labor Code for employee protection, which is not mentioned in the retrieval context.'}]\n",
      "            Understanding Score: [{'metric': 'Understanding (GEval)', 'success': False, 'score': 0.5335601668971133, 'reason': 'The response provides some legal context but lacks clarity on the specific rights and obligations of the employee and employer, making it less accessible for someone without legal knowledge.'}]\n",
      "            \n",
      "Finished tests for model: rollama2-7b-instruct\n",
      "\n",
      "==================================================\n",
      "\n",
      "\n",
      "Evaluating model: rollama3-8b-instruct\n",
      "{\n",
      "    \"Answer Relevancy\": {\n",
      "        \"avg_score\": 0.848,\n",
      "        \"std_dev\": 0.234,\n",
      "        \"pass_rate\": \"83.3%\",\n",
      "        \"total_cases\": 6\n",
      "    },\n",
      "    \"Contextual Recall\": {\n",
      "        \"avg_score\": 0.733,\n",
      "        \"std_dev\": 0.313,\n",
      "        \"pass_rate\": \"50.0%\",\n",
      "        \"total_cases\": 6\n",
      "    },\n",
      "    \"Faithfulness\": {\n",
      "        \"avg_score\": 0.451,\n",
      "        \"std_dev\": 0.395,\n",
      "        \"pass_rate\": \"50.0%\",\n",
      "        \"total_cases\": 6\n",
      "    },\n",
      "    \"Understanding (GEval)\": {\n",
      "        \"avg_score\": 0.541,\n",
      "        \"std_dev\": 0.153,\n",
      "        \"pass_rate\": \"16.7%\",\n",
      "        \"total_cases\": 6\n",
      "    },\n",
      "    \"examples\": [\n",
      "        {\n",
      "            \"query\": \"Cât timp poate fi reținută o persoană înainte de a fi arestată?\",\n",
      "            \"expected\": \"Reținerea nu poate depăși 24 de ore. După acest termen, persoana trebuie eliberată sau arestată preventiv prin decizia unui judecător.\",\n",
      "            \"actual\": \"Cât timp poate fi reținută o persoană înainte de a fi arestată? Pe baza informațiilor oferite, răspunsul este că un individ nu poate fi ținut mai mult de 24 de ore.\",\n",
      "            \"metrics\": {\n",
      "                \"Answer Relevancy\": {\n",
      "                    \"score\": 1.0,\n",
      "                    \"success\": true,\n",
      "                    \"reason\": \"The score is 1.00 because the response is perfectly relevant and directly addresses the question about the duration a person can be detained before being arrested. There are no irrelevant statements, making the answer concise and on point. Great job!\"\n",
      "                },\n",
      "                \"Contextual Recall\": {\n",
      "                    \"score\": 1.0,\n",
      "                    \"success\": true,\n",
      "                    \"reason\": \"The score is 1.00 because every sentence in the expected output is perfectly aligned with the nodes in the retrieval context, ensuring complete accuracy and relevance. Great job!\"\n",
      "                },\n",
      "                \"Faithfulness\": {\n",
      "                    \"score\": 0.0,\n",
      "                    \"success\": false,\n",
      "                    \"reason\": \"The score is 0.00 because the actual output incorrectly interprets the retrieval context by stating that an individual cannot be held for more than 24 hours before being arrested, while the context only specifies that detention cannot exceed 24 hours without clarifying the timing of the arrest.\"\n",
      "                },\n",
      "                \"Understanding (GEval)\": {\n",
      "                    \"score\": 0.4744466147762595,\n",
      "                    \"success\": false,\n",
      "                    \"reason\": \"The actual output provides a clear answer about the 24-hour limit, but it lacks the additional context regarding the need for a judge's decision for preventive arrest, which is present in the expected output.\"\n",
      "                }\n",
      "            }\n",
      "        },\n",
      "        {\n",
      "            \"query\": \"Care sunt drepturile cetățeanului român?\",\n",
      "            \"expected\": \"Cetățeanul român beneficiază de drepturi și libertăți fundamentale în toate domeniile vieții. Drepturile civile și politice includ dreptul la viață, libertatea individuală, dreptul la apărare, dreptul de vot de la 18 ani și eligibilitatea pentru funcții publice. Libertățile fundamentale cuprind libertatea gândirii și credinței religioase, libertatea de exprimare, dreptul la informație și dreptul de asociere în partide și sindicate. Drepturile economice și sociale garantează munca liber aleasă, greva, proprietatea privată, moștenirea, pensia și asistența medicală. În plus, cetățenii au dreptul la învățătură, acces la cultură, un mediu sănătos și protecția statului în străinătate.\",\n",
      "            \"actual\": \"România cetățean are următoarele drepturi:\\n1. Trebuie să-și exercite drepturile și libertățile constituționale cu bună-credință, fără a încalca drepturile altora.\\n2. Ei sunt egali în fața legii și a autorităților publice, fără privilegii sau discriminări.\\n\\nDrepturile cetățenilor români includ, de asemenea:\\n- În condițiile aderării României la Uniunea Europeană, cetățenii care îndeplinesc cerințele legale au dreptul de a alege și de a fi aleși în autoritățile administrației publice locale.\\n- Dispozițiile constituționale privind drepturile și libertățile cetățenilor sunt interpretate și aplicate în conformitate cu Declarația Universală a Drepturilor Omului, Pactele și alte tratate la care România este parte.\",\n",
      "            \"metrics\": {\n",
      "                \"Answer Relevancy\": {\n",
      "                    \"score\": 0.8888888888888888,\n",
      "                    \"success\": true,\n",
      "                    \"reason\": \"The score is 0.89 because the response effectively addresses the rights of Romanian citizens, which is the main focus of the input. However, the mention of EU membership conditions slightly detracts from the overall relevance, preventing a perfect score.\"\n",
      "                },\n",
      "                \"Contextual Recall\": {\n",
      "                    \"score\": 0.4,\n",
      "                    \"success\": false,\n",
      "                    \"reason\": \"The score is 0.40 because while nodes in the retrieval context align with some aspects of the expected output, such as 'drepturi și libertăți fundamentale' and 'dreptul de vot de la 18 ani', they lack specific references to other key elements like 'libertatea gândirii și credinței religioase' and 'drepturile economice și sociale'. This partial alignment results in a moderate contextual recall score.\"\n",
      "                },\n",
      "                \"Faithfulness\": {\n",
      "                    \"score\": 0.75,\n",
      "                    \"success\": true,\n",
      "                    \"reason\": \"The score is 0.75 because the actual output inaccurately includes references to pacts and other treaties in the interpretation of constitutional provisions, which are not mentioned in the retrieval context.\"\n",
      "                },\n",
      "                \"Understanding (GEval)\": {\n",
      "                    \"score\": 0.4098861212459018,\n",
      "                    \"success\": false,\n",
      "                    \"reason\": \"The response outlines some rights of Romanian citizens but lacks clarity and comprehensiveness compared to the expected output, which details various fundamental rights and freedoms.\"\n",
      "                }\n",
      "            }\n",
      "        },\n",
      "        {\n",
      "            \"query\": \"Ce obligație are angajatorul înainte de încheierea contractului individual de muncă?\",\n",
      "            \"expected\": \"Anterior încheierii sau modificării contractului individual de muncă, angajatorul are obligația de a informa persoana selectată în vederea angajării cu privire la clauzele esențiale pe care intenționează să le înscrie în contract sau să le modifice.\",\n",
      "            \"actual\": \"Înainte ca un contract individual de muncă să fie încheiat, angajatorul are obligația de a informa persoana selectată pentru angajare sau salariatul cu privire la clauzele esențiale pe care intenționează să le includă sau să modifice în contract. Aceste informații trebuie furnizate până la semnarea contractului individual de muncă sau a documentului suplimentar, după caz.\",\n",
      "            \"metrics\": {\n",
      "                \"Answer Relevancy\": {\n",
      "                    \"score\": 0.8,\n",
      "                    \"success\": true,\n",
      "                    \"reason\": \"The score is 0.80 because the response mostly addresses the employer's obligations before signing the employment contract. However, it includes a statement about informing the employee, which is not directly related to the specific obligations before contract signing, slightly affecting the score.\"\n",
      "                },\n",
      "                \"Contextual Recall\": {\n",
      "                    \"score\": 1.0,\n",
      "                    \"success\": true,\n",
      "                    \"reason\": \"The score is 1.00 because the expected output is perfectly aligned with the retrieval context, as the sentence is directly quoted from the 2nd node in the retrieval context. Great job on achieving a flawless match!\"\n",
      "                },\n",
      "                \"Faithfulness\": {\n",
      "                    \"score\": 0.0,\n",
      "                    \"success\": false,\n",
      "                    \"reason\": \"The score is 0.00 because the actual output fails to mention the employer's obligation to inform about modifications to the contract after signing, and it incorrectly states that the obligation to inform is only fulfilled at the moment of signing, disregarding any pre-signing requirements.\"\n",
      "                },\n",
      "                \"Understanding (GEval)\": {\n",
      "                    \"score\": 0.783426518244713,\n",
      "                    \"success\": true,\n",
      "                    \"reason\": \"The response is clear and accessible, explaining the employer's obligation to inform the selected person about essential clauses before signing the contract. However, it could be slightly more concise to match the expected output better.\"\n",
      "                }\n",
      "            }\n",
      "        },\n",
      "        {\n",
      "            \"query\": \"Care este vârsta legală minimă pentru încheierea unei căsătorii în România?\",\n",
      "            \"expected\": \"Căsătoria se poate încheia dacă viitorii soți au împlinit vârsta de 18 ani.\",\n",
      "            \"actual\": \"Vârsta legală minimă pentru căsătoria în România este 18 ani. Pentru a fi căsătorit la vârsta de 16 ani sau mai tânăr, minorul trebuie să obțină consimțământul părinților sau tutorelui lor și autorizația instanței, luând în considerare interesul superior al copilului.\",\n",
      "            \"metrics\": {\n",
      "                \"Answer Relevancy\": {\n",
      "                    \"score\": 1.0,\n",
      "                    \"success\": true,\n",
      "                    \"reason\": \"The score is 1.00 because the response is perfectly relevant and directly answers the question about the legal minimum age for marriage in Romania, without any irrelevant information.\"\n",
      "                },\n",
      "                \"Contextual Recall\": {\n",
      "                    \"score\": 1.0,\n",
      "                    \"success\": true,\n",
      "                    \"reason\": \"The score is 1.00 because the expected output perfectly matches the information from the 2nd node in the retrieval context, showcasing a flawless alignment.\"\n",
      "                },\n",
      "                \"Faithfulness\": {\n",
      "                    \"score\": 0.75,\n",
      "                    \"success\": true,\n",
      "                    \"reason\": \"The score is 0.75 because the actual output incorrectly states that the minimum legal age for marriage in Romania is 18 years, which contradicts the retrieval context that also claims it is 18 years, leading to confusion.\"\n",
      "                },\n",
      "                \"Understanding (GEval)\": {\n",
      "                    \"score\": 0.6782320490413315,\n",
      "                    \"success\": false,\n",
      "                    \"reason\": \"The response provides clear information about the minimum legal age for marriage and the conditions for minors, but it could be simplified to enhance accessibility for those without legal knowledge.\"\n",
      "                }\n",
      "            }\n",
      "        },\n",
      "        {\n",
      "            \"query\": \"În ce condiții poate fi încheiat un contract de vânzare-cumpărare și care sunt excepțiile de la forma scrisă?\",\n",
      "            \"expected\": \"Contractul de vânzare-cumpărare se încheie prin acordul părților asupra lucrului și prețului. Contractul trebuie să fie în formă scrisă pentru bunurile imobile, pentru bunurile mobile cu valoarea peste o anumită sumă stabilită prin lege și pentru bunurile viitoare. Forma scrisă nu este obligatorie pentru bunurile mobile de valoare mică, pentru vânzările în cadrul activităților comerciale curente cu plată pe loc, sau când legea prevede expres alte forme de încheierie.\",\n",
      "            \"actual\": \"Un contract de vânzare-cumpărare poate fi încheiat în formă orală sau scrisă, dar forma scrisă este necesară doar pentru proba. Forma scrisă nu se aplică atunci când nu există alte prevederi legale care să prevadă un astfel de lucru.\",\n",
      "            \"metrics\": {\n",
      "                \"Answer Relevancy\": {\n",
      "                    \"score\": 1.0,\n",
      "                    \"success\": true,\n",
      "                    \"reason\": \"The score is 1.00 because the response perfectly addressed the conditions and exceptions for forming a sales contract without any irrelevant information. Great job on staying focused and relevant!\"\n",
      "                },\n",
      "                \"Contextual Recall\": {\n",
      "                    \"score\": 0.3333333333333333,\n",
      "                    \"success\": false,\n",
      "                    \"reason\": \"The score is 0.33 because only the requirement for a written form for certain goods (sentence 2) aligns with the 1st node in the retrieval context. However, the agreement on object and price (sentence 1) and exceptions for small value goods (sentence 4) are not supported by any nodes in the retrieval context.\"\n",
      "                },\n",
      "                \"Faithfulness\": {\n",
      "                    \"score\": 0.3333333333333333,\n",
      "                    \"success\": false,\n",
      "                    \"reason\": \"The score is 0.33 because the actual output incorrectly states that the written form is only needed for proof and does not apply when there are no other legal provisions, contradicting the context that emphasizes its necessity for certain contracts regardless of legal provisions.\"\n",
      "                },\n",
      "                \"Understanding (GEval)\": {\n",
      "                    \"score\": 0.43335749949181535,\n",
      "                    \"success\": false,\n",
      "                    \"reason\": \"The actual output provides some information about the conditions for concluding a sales contract, but it lacks clarity and detail compared to the expected output, making it less accessible for someone without legal knowledge.\"\n",
      "                }\n",
      "            }\n",
      "        },\n",
      "        {\n",
      "            \"query\": \"Care sunt drepturile și obligațiile părților în cazul unei concedieri individuale pentru motive care nu țin de persoana salariatului?\",\n",
      "            \"expected\": \"În cazul concedierii pentru motive care nu țin de persoana salariatului, angajatorul trebuie să respecte proceduri stricte și să asigure drepturi specifice salariatului. Concedierea este permisă doar pentru desființarea locului de muncă din motive economice, tehnologice, structurale sau similare. Angajatorul are obligația să acorde un preaviz de minimum 20 de zile lucrătoare și să respecte criterii obiective de selecție (performanțe profesionale, vechime, sarcini de întreținere).\",\n",
      "            \"actual\": \"Atunci când un angajator decide să înceteze contractul individual de muncă din inițiativa sa, acesta se numește concediere. Concedierile pot fi fără legătură cu persoana lucrătorului sau cu motivul pentru care este salariat.\\n\\nConcedieri pentru motive care nu au nici o legătură cu persoana lucrătorului sunt încetarea contractului individual de muncă din cauza închiderii locației de muncă ocupată de lucrător. Acest lucru se poate întâmpla dintr-un singur sau mai mulți motive care nu au legătură cu persoana lucrătorului.\\n\\nLocul de muncă trebuie să fie efectiv și să aibă o cauză reală și serioasă pentru închidere. \\n\\nLucrătorii beneficiază de protecția drepturilor acestora atunci când există un transfer al afacerii, al unității sau unele părți ale acesteia către alt angajator, așa cum este prevăzut de lege. \\n\\nDrepturile și obligațiile lucrătorului, care decurg dintr-un contract sau raport de muncă existent la data transferului, se vor transfera întregi către noul angajator. \\n\\nTransferul afacerii, al unității sau unele părți ale acesteia nu pot fi un motiv pentru concedieri individuale sau colective pentru lucrător de către antreprenor sau de către noul angajator.\",\n",
      "            \"metrics\": {\n",
      "                \"Answer Relevancy\": {\n",
      "                    \"score\": 0.4,\n",
      "                    \"success\": false,\n",
      "                    \"reason\": \"The score is 0.40 because while the output contains some relevant information, it is overshadowed by several irrelevant statements that do not directly address the specific rights and obligations in individual dismissals. The inclusion of topics like workplace effectiveness, business transfers, and unrelated dismissal causes detracts from the focus on the core question, thus preventing a higher score.\"\n",
      "                },\n",
      "                \"Contextual Recall\": {\n",
      "                    \"score\": 0.6666666666666666,\n",
      "                    \"success\": false,\n",
      "                    \"reason\": \"The score is 0.67 because while the retrieval context supports the general concept of dismissal for reasons unrelated to the employee, as seen in node 2, it lacks specific details such as the minimum notice period and selection criteria, which are crucial elements in the expected output.\"\n",
      "                },\n",
      "                \"Faithfulness\": {\n",
      "                    \"score\": 0.875,\n",
      "                    \"success\": true,\n",
      "                    \"reason\": \"The score is 0.88 because the actual output incorrectly suggests that concessions can only be made for reasons unrelated to the employee, while the retrieval context states that they can also be based on personal reasons related to the employee.\"\n",
      "                },\n",
      "                \"Understanding (GEval)\": {\n",
      "                    \"score\": 0.46643983310288667,\n",
      "                    \"success\": false,\n",
      "                    \"reason\": \"The response provides some information about termination but lacks clarity on specific rights and obligations, such as the requirement for notice and objective selection criteria, which are essential for user understanding.\"\n",
      "                }\n",
      "            }\n",
      "        }\n",
      "    ]\n",
      "}\n",
      "Evaluating model: rollama2-7b-instruct\n",
      "{\n",
      "    \"Answer Relevancy\": {\n",
      "        \"avg_score\": 0.602,\n",
      "        \"std_dev\": 0.285,\n",
      "        \"pass_rate\": \"33.3%\",\n",
      "        \"total_cases\": 6\n",
      "    },\n",
      "    \"Contextual Recall\": {\n",
      "        \"avg_score\": 0.761,\n",
      "        \"std_dev\": 0.275,\n",
      "        \"pass_rate\": \"50.0%\",\n",
      "        \"total_cases\": 6\n",
      "    },\n",
      "    \"Faithfulness\": {\n",
      "        \"avg_score\": 0.713,\n",
      "        \"std_dev\": 0.162,\n",
      "        \"pass_rate\": \"50.0%\",\n",
      "        \"total_cases\": 6\n",
      "    },\n",
      "    \"Understanding (GEval)\": {\n",
      "        \"avg_score\": 0.562,\n",
      "        \"std_dev\": 0.082,\n",
      "        \"pass_rate\": \"0.0%\",\n",
      "        \"total_cases\": 6\n",
      "    },\n",
      "    \"examples\": [\n",
      "        {\n",
      "            \"query\": \"Cât timp poate fi reținută o persoană înainte de a fi arestată?\",\n",
      "            \"expected\": \"Reținerea nu poate depăși 24 de ore. După acest termen, persoana trebuie eliberată sau arestată preventiv prin decizia unui judecător.\",\n",
      "            \"actual\": \"Pentru a aresta sau reține o persoană, aceasta poate dura cel mult 24 de ore. Dacă aceste motive persistă, persoana arestată preventiv are dreptul să ceară punerea sa în libertate sub control judiciar sau pe cauțiune. Legea interzice arestarea unei persoane fără a le fi adus la cunoștință motivul acesteia și, de asemenea, pune sub semnul întrebării motivele privative de libertate.\\n\\nDeci, pe scurt, în România, o persoană poate rămâne arestată timp de cel mult 24 de ore, după care acestea au dreptul la libertate sub control judiciar sau pe cauțiune. Aceste măsuri pot fi luate numai în anumite situații, cum ar fi să preveniți o amenințare pentru viața, integritatea fizică sau bunurile unei persoane și doar cu consimțământul acesteia. Legea garantează, de asemenea, securitatea corespondenței și protecția datelor personale. \",\n",
      "            \"metrics\": {\n",
      "                \"Answer Relevancy\": {\n",
      "                    \"score\": 0.36363636363636365,\n",
      "                    \"success\": false,\n",
      "                    \"reason\": \"The score is 0.36 because the output contains several statements that do not directly address the question about the duration of detention before arrest. While some relevant information might be present, the majority of the content focuses on unrelated aspects such as rights after arrest, reasons for deprivation of liberty, and data protection, which do not contribute to answering the specific query.\"\n",
      "                },\n",
      "                \"Contextual Recall\": {\n",
      "                    \"score\": 1.0,\n",
      "                    \"success\": true,\n",
      "                    \"reason\": \"The score is 1.00 because every sentence in the expected output is perfectly aligned with the nodes in the retrieval context, ensuring complete accuracy and relevance. Great job!\"\n",
      "                },\n",
      "                \"Faithfulness\": {\n",
      "                    \"score\": 0.5,\n",
      "                    \"success\": false,\n",
      "                    \"reason\": \"The score is 0.50 because the actual output contains multiple contradictions regarding the duration and conditions of detention, such as stating that detention cannot exceed 24 hours while also implying that a person can remain arrested for that duration, and conflicting claims about the necessity of consent for entering a person's home.\"\n",
      "                },\n",
      "                \"Understanding (GEval)\": {\n",
      "                    \"score\": 0.6299853456699702,\n",
      "                    \"success\": false,\n",
      "                    \"reason\": \"While the response provides detailed information about the detention period and rights, it is somewhat complex and may not be fully accessible to someone without legal knowledge. The expected output is more concise and straightforward.\"\n",
      "                }\n",
      "            }\n",
      "        },\n",
      "        {\n",
      "            \"query\": \"Care sunt drepturile cetățeanului român?\",\n",
      "            \"expected\": \"Cetățeanul român beneficiază de drepturi și libertăți fundamentale în toate domeniile vieții. Drepturile civile și politice includ dreptul la viață, libertatea individuală, dreptul la apărare, dreptul de vot de la 18 ani și eligibilitatea pentru funcții publice. Libertățile fundamentale cuprind libertatea gândirii și credinței religioase, libertatea de exprimare, dreptul la informație și dreptul de asociere în partide și sindicate. Drepturile economice și sociale garantează munca liber aleasă, greva, proprietatea privată, moștenirea, pensia și asistența medicală. În plus, cetățenii au dreptul la învățătură, acces la cultură, un mediu sănătos și protecția statului în străinătate.\",\n",
      "            \"actual\": \"\\nÎn România, cetățenii au o serie de drepturi care sunt garantate prin Constituție. Unele dintre aceste drepturi includ:\\n- Egalitatea în fața legii: Toată lumea este tratat în mod corect și nu ar trebui să se confrunte cu discriminare sau tratament incorect de către autoritățile publice.\\n- Protecția împotriva perchezițiilor și a rechizițiilor ilegale: Autoritățile nu pot face un examen sau confiscarea proprietății unei persoane fără un mandat din partea instanței.\\n- Dreptul de acces la informații publice: Cetățenii au dreptul de a solicita și de a primi informații despre funcționarea guvernului, inclusiv cu privire la chestiuni precum finanțele, programul legislativ și numirile.\\n- Libertatea de exprimare: Cetățenii români pot vorbi liber, pot scrie sau distribui informații fără teama de cenzură.\\n- Protecția drepturilor omului: România s-a angajat să respecte drepturile și libertățile fundamentale ale omului, cum ar fi libertatea de exprimare, protecția împotriva tratamentelor inumane și discriminatorii și protecția vieții private.\\n- Protecție juridică: Toată lumea are dreptul la un proces echitabil, în care sunt apărate interesele tuturor părților implicate într-o cauză judiciară. Aceasta include dreptul la asistență legală și la reprezentare juridică.\\n- Acces liber la justiție: Oricine are dreptul să se adreseze instanțelor din România pentru a-și proteja sau apăra drepturile și interesele legitime.\\n \\nAcestea sunt doar câteva dintre drepturile de care beneficiază cetățenii români, iar Constituția României conține mai multe astfel de protecții în domeniul drepturilor și libertăților. \",\n",
      "            \"metrics\": {\n",
      "                \"Answer Relevancy\": {\n",
      "                    \"score\": 1.0,\n",
      "                    \"success\": true,\n",
      "                    \"reason\": \"The score is 1.00 because the response perfectly addresses the question about the rights of a Romanian citizen without any irrelevant information. Great job on staying focused and relevant!\"\n",
      "                },\n",
      "                \"Contextual Recall\": {\n",
      "                    \"score\": 0.4,\n",
      "                    \"success\": false,\n",
      "                    \"reason\": \"The score is 0.40 because while the 3rd node in the retrieval context supports the mention of 'drepturi și libertăți fundamentale', and the 2nd node aligns with 'dreptul de vot de la 18 ani și eligibilitatea pentru funcții publice', there is a lack of specific references to 'libertatea gândirii și credinței religioase', 'libertatea de exprimare', and other economic and social rights in the retrieval context.\"\n",
      "                },\n",
      "                \"Faithfulness\": {\n",
      "                    \"score\": 0.8571428571428571,\n",
      "                    \"success\": true,\n",
      "                    \"reason\": \"The score is 0.86 because the actual output incorrectly implies that there are specific protections against illegal searches and seizures for Romanian citizens, which is not mentioned in the retrieval context. Additionally, it suggests that authorities cannot conduct searches or seize property without a court order, a detail that is also absent from the context.\"\n",
      "                },\n",
      "                \"Understanding (GEval)\": {\n",
      "                    \"score\": 0.6378344564386117,\n",
      "                    \"success\": false,\n",
      "                    \"reason\": \"The response provides a clear overview of citizens' rights in Romania, but it lacks the accessibility and simplicity needed for someone without legal knowledge, and it does not explicitly state what actions citizens can take based on these rights.\"\n",
      "                }\n",
      "            }\n",
      "        },\n",
      "        {\n",
      "            \"query\": \"Ce obligație are angajatorul înainte de încheierea contractului individual de muncă?\",\n",
      "            \"expected\": \"Anterior încheierii sau modificării contractului individual de muncă, angajatorul are obligația de a informa persoana selectată în vederea angajării cu privire la clauzele esențiale pe care intenționează să le înscrie în contract sau să le modifice.\",\n",
      "            \"actual\": \"Înainte de încheierea sau modificarea unui contract individual de muncă, angajatorul are obligația de a informa persoana selectată pentru postul respectiv cu privire la clauzele esențiale pe care intenționează să le includă în contract sau să le modifice. Informațiile furnizate trebuie să fie concise, neutre și prietenoase cu utilizatorul. De asemenea, angajatorul trebuie să informeze persoana selectată privind cel puțin următoarele elemente:\\n- Identificarea partidelor;\\n- Sediul sau domiciliul angajatorului;\\n- Funcția/ocupație;\\n- Fisa postului, cu specificarea atributiilor postului;\\n- Riscurile specifice ale postului;\\n- Data la care contractul urmează să producă efecte;\\n- Condițiile de acordare a preavizului și durata;\\n- Condiții privind formarea profesională oferită de angajator;\\n- Suportarea de către angajator a asigurării medicale private, contribuțiile suplimentare la pensia facultativă sau la pensia ocupațională a salariatului și acordarea oricărui alt avantaj în bani ca urmare a activității profesionale a angajaților, dacă este cazul;\\n- Dacă o modificare se aplică, informează persoana selectată cu privire la această schimbare și solicită acordul său. \",\n",
      "            \"metrics\": {\n",
      "                \"Answer Relevancy\": {\n",
      "                    \"score\": 0.8333333333333334,\n",
      "                    \"success\": true,\n",
      "                    \"reason\": \"The score is 0.83 because the response effectively addresses the employer's obligations before signing an employment contract, but includes some irrelevant details about private medical insurance and post-contract modifications, which are not directly related to the initial query.\"\n",
      "                },\n",
      "                \"Contextual Recall\": {\n",
      "                    \"score\": 1.0,\n",
      "                    \"success\": true,\n",
      "                    \"reason\": \"The score is 1.00 because the expected output is perfectly aligned with the retrieval context, as the sentence is directly quoted from the 2nd node in the retrieval context. Great job on achieving a perfect match!\"\n",
      "                },\n",
      "                \"Faithfulness\": {\n",
      "                    \"score\": 0.5833333333333334,\n",
      "                    \"success\": false,\n",
      "                    \"reason\": \"The score is 0.58 because the actual output inaccurately states that the employer must inform the selected person about essential contract clauses only at signing, omitting prior notification. It also fails to mention the requirement for a detailed job description, does not clarify the duration of notice conditions, neglects specifics about optional or occupational pensions, and incorrectly asserts that contract modifications require a new act rather than just informing the individual.\"\n",
      "                },\n",
      "                \"Understanding (GEval)\": {\n",
      "                    \"score\": 0.6327592425876795,\n",
      "                    \"success\": false,\n",
      "                    \"reason\": \"The actual output provides detailed information about the employer's obligations, but it is overly complex and may not be easily understood by someone without legal knowledge, which affects clarity.\"\n",
      "                }\n",
      "            }\n",
      "        },\n",
      "        {\n",
      "            \"query\": \"Care este vârsta legală minimă pentru încheierea unei căsătorii în România?\",\n",
      "            \"expected\": \"Căsătoria se poate încheia dacă viitorii soți au împlinit vârsta de 18 ani.\",\n",
      "            \"actual\": \"Vârsta legală minimă pentru încheierea unei căsătorii în România este de 18 ani. Cu toate acestea, cu motive temeinice, minorul care a împlinit vârsta de 16 ani poate încheia o căsătorie printr-un aviz medical, cu autorizația părinților sau a tutorelui și cu aprobarea instanței de tutelă. În astfel de cazuri, minorul care are peste 16 ani trebuie să fie consultat în mod corespunzător. Dacă unul dintre părinți refuză autorizarea căsătoriei, instanța de tutelă va hotărî și asupra acestui punct, având în vedere interesul superior al copilului. Dacă niciunul dintre părinți nu este disponibil pentru a-și manifesta voința sau dacă părintele este decedat, autorizația celeilalte persoane care exercită drepturile parentale ar fi suficientă. În plus, dacă nu există niciunul dintre acești factori, o persoană sau o autoritate abilitată să exercite drepturile părintești poate încuviința căsătoria. \",\n",
      "            \"metrics\": {\n",
      "                \"Answer Relevancy\": {\n",
      "                    \"score\": 0.5,\n",
      "                    \"success\": false,\n",
      "                    \"reason\": \"The score is 0.50 because while the response includes relevant information about procedural aspects related to marriage, it does not directly address the specific question about the legal minimum age for marriage in Romania. The inclusion of procedural details, such as consulting minors and court decisions, detracts from the focus on the age requirement, preventing a higher score.\"\n",
      "                },\n",
      "                \"Contextual Recall\": {\n",
      "                    \"score\": 1.0,\n",
      "                    \"success\": true,\n",
      "                    \"reason\": \"The score is 1.00 because the expected output perfectly matches the information from the 2nd node in the retrieval context, showcasing a flawless alignment. Great job!\"\n",
      "                },\n",
      "                \"Faithfulness\": {\n",
      "                    \"score\": 0.75,\n",
      "                    \"success\": true,\n",
      "                    \"reason\": \"The score is 0.75 because the actual output incorrectly states that the minimum legal age for marriage in Romania is 18 years, while the retrieval context allows minors over 16 to marry under specific conditions. Additionally, the output implies that a minor can marry with 'motive temeinice', which is not fully supported by the retrieval context that emphasizes the necessity of medical advice, parental consent, and court approval.\"\n",
      "                },\n",
      "                \"Understanding (GEval)\": {\n",
      "                    \"score\": 0.45972718325942524,\n",
      "                    \"success\": false,\n",
      "                    \"reason\": \"While the actual output provides detailed information about marriage age in Romania, it is overly complex for someone without legal knowledge, making it harder to understand the basic requirement of being 18 years old.\"\n",
      "                }\n",
      "            }\n",
      "        },\n",
      "        {\n",
      "            \"query\": \"În ce condiții poate fi încheiat un contract de vânzare-cumpărare și care sunt excepțiile de la forma scrisă?\",\n",
      "            \"expected\": \"Contractul de vânzare-cumpărare se încheie prin acordul părților asupra lucrului și prețului. Contractul trebuie să fie în formă scrisă pentru bunurile imobile, pentru bunurile mobile cu valoarea peste o anumită sumă stabilită prin lege și pentru bunurile viitoare. Forma scrisă nu este obligatorie pentru bunurile mobile de valoare mică, pentru vânzările în cadrul activităților comerciale curente cu plată pe loc, sau când legea prevede expres alte forme de încheierie.\",\n",
      "            \"actual\": \"\\nÎn ce condiții poate fi încheiat un contract de vânzare-cumpărare? Un contract de vânzare-cumpărare poate fi încheiat în formă scrisă, dar nu este obligatoriu. Există excepții de la această regulă:\\n- Contractele care nu necesită formalizarea, cum ar fi cele pentru bunuri sau servicii de consum.\\n- Contracte care nu trebuie să fie în formă scrisă în conformitate cu legea, cum ar fi contractele verbal între cumpărători și vânzători sau furnizori și clienți, atât timp cât acestea sunt clare, complete și corecte.\\n- Contracte încheiate prin poștă electronică sau orice alt mijloc de comunicare la distanță care permite părților să înțeleagă în mod clar termenii contractului.\\n\\nCe este un contract de consignație? Un contract de consignație este un acord prin care o persoană (consignatarul) împrumută bunuri unei alte persoane (depozitarul), în numele și pe seama depozitarului, iar depozitarul are autoritatea de a le gestiona. Aceasta implică obligația consignatarului de a restitui bunurile la scadență sau în alt mod convenit și plata oricăror dobânzi, dacă este cazul. Contractul de consignație trebuie să fie în formă scrisă pentru dovada contractului. \\n\\nCe este un contract de societate? Un contract de societate (societate comercială) este o asociere între persoane pentru a desfășura o activitate comercială sau industrială cu scopul de a face profit. Acesta implică participarea la capitalul social, și poate fi încheiat sub formă scrisă în formă autentică sau sub semnătură privată sau verbal.\\n\\nCe este un contract de mandat? Un contract de mandat este o convenție prin care o persoană (mandatarul) acționează pe seama celeilalte (delegatorul). Mandatarul are autoritatea și responsabilitatea de a efectua orice act în numele delegatarului, iar mandatul trebuie să fie exprimat în mod clar. Mandatul poate fi verbal sau scris. Mandatul dat pentru a încheia un contract care este supus unei anumite forme trebuie să respecte această formă, sub sancțiunea aplicabilă actului. \",\n",
      "            \"metrics\": {\n",
      "                \"Answer Relevancy\": {\n",
      "                    \"score\": 0.25,\n",
      "                    \"success\": false,\n",
      "                    \"reason\": \"The score is 0.25 because the actual output contains numerous irrelevant statements about consignment, partnership, and mandate contracts, which do not address the conditions or exceptions of a sales contract. However, the score is not lower because there might be some relevant information amidst the irrelevant content.\"\n",
      "                },\n",
      "                \"Contextual Recall\": {\n",
      "                    \"score\": 0.5,\n",
      "                    \"success\": false,\n",
      "                    \"reason\": \"The score is 0.50 because while the 1st node in the retrieval context supports the need for a written form for certain goods, it does not cover the agreement of parties on the object and price or the exceptions for small-value goods and commercial activities.\"\n",
      "                },\n",
      "                \"Faithfulness\": {\n",
      "                    \"score\": 0.9230769230769231,\n",
      "                    \"success\": true,\n",
      "                    \"reason\": \"The score is 0.92 because the actual output incorrectly asserts that a sale-purchase contract must be in written form, contradicting the retrieval context's claim that this requirement is not mandatory.\"\n",
      "                },\n",
      "                \"Understanding (GEval)\": {\n",
      "                    \"score\": 0.4792293095946024,\n",
      "                    \"success\": false,\n",
      "                    \"reason\": \"The actual output provides some information about contracts but lacks clarity and accessibility for someone without legal knowledge, making it difficult to understand what actions are permissible.\"\n",
      "                }\n",
      "            }\n",
      "        },\n",
      "        {\n",
      "            \"query\": \"Care sunt drepturile și obligațiile părților în cazul unei concedieri individuale pentru motive care nu țin de persoana salariatului?\",\n",
      "            \"expected\": \"În cazul concedierii pentru motive care nu țin de persoana salariatului, angajatorul trebuie să respecte proceduri stricte și să asigure drepturi specifice salariatului. Concedierea este permisă doar pentru desființarea locului de muncă din motive economice, tehnologice, structurale sau similare. Angajatorul are obligația să acorde un preaviz de minimum 20 de zile lucrătoare și să respecte criterii obiective de selecție (performanțe profesionale, vechime, sarcini de întreținere).\",\n",
      "            \"actual\": \" \\nConcedierea individuală pentru motive care nu țin de persoana salariatului este reglementată de articolul 61 din Codul muncii românesc, care stipulează că angajatorii au dreptul de a-și desființa locurile de muncă. Cu toate acestea, concedierea trebuie să fie efectivă și să aibă o cauză reală și serioasă. În plus, angajatul va fi transferat integral noului angajator. Deci, drepturile salariatului într-o astfel de situație sunt protejate de articolul 61 din Codul muncii românesc și, dacă are loc un transfer al întreprinderii sau al unei părți a acesteia către un alt angajator, drepturile salariatului vor fi transferate noului angajator. \",\n",
      "            \"metrics\": {\n",
      "                \"Answer Relevancy\": {\n",
      "                    \"score\": 0.6666666666666666,\n",
      "                    \"success\": false,\n",
      "                    \"reason\": \"The score is 0.67 because while the output addresses some aspects of individual dismissals, it includes irrelevant information about employee transfers and business rights, which do not directly pertain to the question about rights and obligations in individual dismissals.\"\n",
      "                },\n",
      "                \"Contextual Recall\": {\n",
      "                    \"score\": 0.6666666666666666,\n",
      "                    \"success\": false,\n",
      "                    \"reason\": \"The score is 0.67 because while the retrieval context nodes support the general concept of dismissal for reasons unrelated to the employee, they lack specific details about the 20-day notice and objective selection criteria, which are crucial parts of the expected output.\"\n",
      "                },\n",
      "                \"Faithfulness\": {\n",
      "                    \"score\": 0.6666666666666666,\n",
      "                    \"success\": false,\n",
      "                    \"reason\": \"The score is 0.67 because the actual output incorrectly states that the employee will be fully transferred to the new employer, while the retrieval context clarifies that only rights and obligations will be transferred. Additionally, the actual output references article 61 of the Romanian Labor Code for employee protection, which is not mentioned in the retrieval context.\"\n",
      "                },\n",
      "                \"Understanding (GEval)\": {\n",
      "                    \"score\": 0.5335601668971133,\n",
      "                    \"success\": false,\n",
      "                    \"reason\": \"The response provides some legal context but lacks clarity on the specific rights and obligations of the employee and employer, making it less accessible for someone without legal knowledge.\"\n",
      "                }\n",
      "            }\n",
      "        }\n",
      "    ]\n",
      "}\n"
     ]
    }
   ],
   "source": [
    "prompt_v3 = \"\"\" \n",
    "Ești un ghid juridic virtual. Scopul tău este să explici legea în limba română într-un mod clar, concis și ușor de înțeles pentru orice cetățean, fără a folosi termeni tehnici sau limbaj complicat.\n",
    "\n",
    "Când răspunzi, respectă aceste reguli:\n",
    " - Răspunsul trebuie să conțină propoziții scurte, clare și fără termeni juridici complicați. Evită frazele lungi.\n",
    " - Explică termenii juridici pe înțelesul oricui, fără a presupune cunoștințe legale.\n",
    " - Nu cita articole de lege și nu inventa surse sau exemple.\n",
    " - Folosește doar informațiile din context. Nu completa cu informații suplimentare.\n",
    " - Dacă contextul nu oferă un răspuns clar, scrie simplu: **„Nu am putut genera un răspuns.”**\n",
    " - Fii concis. Nu scrie mai mult decât este necesar pentru a răspunde clar la întrebare.\n",
    " - Evită limbajul prea tehnic sau abstract. Fii prietenos, dar neutru.\n",
    "\n",
    "Întrebarea utilizatorului este:  \n",
    "{question}\n",
    "\n",
    "Informațiile disponibile sunt:  \n",
    "{context}\n",
    "\n",
    "Scrie răspunsul în limba română. Acesta trebuie să fie clar, politicos și ușor de înțeles.\n",
    "\"\"\"\n",
    "model_results = start_testing(models_list, tests_list, prompt_v3)\n",
    "\n",
    "for model_name, model_result_list in model_results.items():\n",
    "    print(f\"Evaluating model: {model_name}\")\n",
    "    results_summary = analyze_model_results(model_result_list)\n",
    "    print(json.dumps(results_summary, indent=4, ensure_ascii=False))"
   ]
  },
  {
   "cell_type": "code",
   "execution_count": 7,
   "id": "a03e6460",
   "metadata": {},
   "outputs": [
    {
     "name": "stdout",
     "output_type": "stream",
     "text": [
      "Running tests for query: Cât timp poate fi reținută o persoană înainte de a fi arestată?\n",
      "Using model: rollama3-8b-instruct\n"
     ]
    },
    {
     "data": {
      "text/html": [
       "<pre style=\"white-space:pre;overflow-x:auto;line-height:normal;font-family:Menlo,'DejaVu Sans Mono',consolas,'Courier New',monospace\">\n",
       "<span style=\"color: #05f58d; text-decoration-color: #05f58d\">✓</span> Tests finished 🎉! Run <span style=\"color: #008000; text-decoration-color: #008000; font-weight: bold\">'deepeval login'</span> to save and analyze evaluation results on Confident AI.\n",
       " \n",
       "✨👀 Looking for a place for your LLM test data to live 🏡❤️ ? Use <span style=\"color: #6a00ff; text-decoration-color: #6a00ff\">Confident AI</span> to get &amp; share testing reports, \n",
       "experiment with models/prompts, and catch regressions for your LLM system. Just run <span style=\"color: #008080; text-decoration-color: #008080\">'deepeval login'</span> in the CLI. \n",
       "\n",
       "</pre>\n"
      ],
      "text/plain": [
       "\n",
       "\u001b[38;2;5;245;141m✓\u001b[0m Tests finished 🎉! Run \u001b[1;32m'deepeval login'\u001b[0m to save and analyze evaluation results on Confident AI.\n",
       " \n",
       "✨👀 Looking for a place for your LLM test data to live 🏡❤️ ? Use \u001b[38;2;106;0;255mConfident AI\u001b[0m to get & share testing reports, \n",
       "experiment with models/prompts, and catch regressions for your LLM system. Just run \u001b[36m'deepeval login'\u001b[0m in the CLI. \n",
       "\n"
      ]
     },
     "metadata": {},
     "output_type": "display_data"
    },
    {
     "data": {
      "text/html": [
       "<pre style=\"white-space:pre;overflow-x:auto;line-height:normal;font-family:Menlo,'DejaVu Sans Mono',consolas,'Courier New',monospace\">\n",
       "<span style=\"color: #05f58d; text-decoration-color: #05f58d\">✓</span> Tests finished 🎉! Run <span style=\"color: #008000; text-decoration-color: #008000; font-weight: bold\">'deepeval login'</span> to save and analyze evaluation results on Confident AI.\n",
       " \n",
       "✨👀 Looking for a place for your LLM test data to live 🏡❤️ ? Use <span style=\"color: #6a00ff; text-decoration-color: #6a00ff\">Confident AI</span> to get &amp; share testing reports, \n",
       "experiment with models/prompts, and catch regressions for your LLM system. Just run <span style=\"color: #008080; text-decoration-color: #008080\">'deepeval login'</span> in the CLI. \n",
       "\n",
       "</pre>\n"
      ],
      "text/plain": [
       "\n",
       "\u001b[38;2;5;245;141m✓\u001b[0m Tests finished 🎉! Run \u001b[1;32m'deepeval login'\u001b[0m to save and analyze evaluation results on Confident AI.\n",
       " \n",
       "✨👀 Looking for a place for your LLM test data to live 🏡❤️ ? Use \u001b[38;2;106;0;255mConfident AI\u001b[0m to get & share testing reports, \n",
       "experiment with models/prompts, and catch regressions for your LLM system. Just run \u001b[36m'deepeval login'\u001b[0m in the CLI. \n",
       "\n"
      ]
     },
     "metadata": {},
     "output_type": "display_data"
    },
    {
     "data": {
      "text/html": [
       "<pre style=\"white-space:pre;overflow-x:auto;line-height:normal;font-family:Menlo,'DejaVu Sans Mono',consolas,'Courier New',monospace\">\n",
       "<span style=\"color: #05f58d; text-decoration-color: #05f58d\">✓</span> Tests finished 🎉! Run <span style=\"color: #008000; text-decoration-color: #008000; font-weight: bold\">'deepeval login'</span> to save and analyze evaluation results on Confident AI.\n",
       " \n",
       "✨👀 Looking for a place for your LLM test data to live 🏡❤️ ? Use <span style=\"color: #6a00ff; text-decoration-color: #6a00ff\">Confident AI</span> to get &amp; share testing reports, \n",
       "experiment with models/prompts, and catch regressions for your LLM system. Just run <span style=\"color: #008080; text-decoration-color: #008080\">'deepeval login'</span> in the CLI. \n",
       "\n",
       "</pre>\n"
      ],
      "text/plain": [
       "\n",
       "\u001b[38;2;5;245;141m✓\u001b[0m Tests finished 🎉! Run \u001b[1;32m'deepeval login'\u001b[0m to save and analyze evaluation results on Confident AI.\n",
       " \n",
       "✨👀 Looking for a place for your LLM test data to live 🏡❤️ ? Use \u001b[38;2;106;0;255mConfident AI\u001b[0m to get & share testing reports, \n",
       "experiment with models/prompts, and catch regressions for your LLM system. Just run \u001b[36m'deepeval login'\u001b[0m in the CLI. \n",
       "\n"
      ]
     },
     "metadata": {},
     "output_type": "display_data"
    },
    {
     "data": {
      "text/html": [
       "<pre style=\"white-space:pre;overflow-x:auto;line-height:normal;font-family:Menlo,'DejaVu Sans Mono',consolas,'Courier New',monospace\">\n",
       "<span style=\"color: #05f58d; text-decoration-color: #05f58d\">✓</span> Tests finished 🎉! Run <span style=\"color: #008000; text-decoration-color: #008000; font-weight: bold\">'deepeval login'</span> to save and analyze evaluation results on Confident AI.\n",
       " \n",
       "✨👀 Looking for a place for your LLM test data to live 🏡❤️ ? Use <span style=\"color: #6a00ff; text-decoration-color: #6a00ff\">Confident AI</span> to get &amp; share testing reports, \n",
       "experiment with models/prompts, and catch regressions for your LLM system. Just run <span style=\"color: #008080; text-decoration-color: #008080\">'deepeval login'</span> in the CLI. \n",
       "\n",
       "</pre>\n"
      ],
      "text/plain": [
       "\n",
       "\u001b[38;2;5;245;141m✓\u001b[0m Tests finished 🎉! Run \u001b[1;32m'deepeval login'\u001b[0m to save and analyze evaluation results on Confident AI.\n",
       " \n",
       "✨👀 Looking for a place for your LLM test data to live 🏡❤️ ? Use \u001b[38;2;106;0;255mConfident AI\u001b[0m to get & share testing reports, \n",
       "experiment with models/prompts, and catch regressions for your LLM system. Just run \u001b[36m'deepeval login'\u001b[0m in the CLI. \n",
       "\n"
      ]
     },
     "metadata": {},
     "output_type": "display_data"
    },
    {
     "name": "stdout",
     "output_type": "stream",
     "text": [
      "\n",
      "            Query: Cât timp poate fi reținută o persoană înainte de a fi arestată?\n",
      "            Expected: Reținerea nu poate depăși 24 de ore. După acest termen, persoana trebuie eliberată sau arestată preventiv prin decizia unui judecător.\n",
      "            Actual: O persoană poate fi reținută timp de maximum 24 de ore înainte ca aceasta să fie arestată.\n",
      "            Relevancy Score: [{'metric': 'Answer Relevancy', 'success': True, 'score': 1.0, 'reason': 'The score is 1.00 because the response is perfectly relevant and directly addresses the question about the duration a person can be detained before being arrested. Great job on providing a clear and concise answer!'}]\n",
      "            Recall Score: [{'metric': 'Contextual Recall', 'success': True, 'score': 1.0, 'reason': 'The score is 1.00 because every sentence in the expected output is perfectly aligned with the nodes in the retrieval context, ensuring complete accuracy and relevance. Great job!'}]\n",
      "            Faithfulness Score: [{'metric': 'Faithfulness', 'success': False, 'score': 0.0, 'reason': 'The score is 0.00 because the actual output incorrectly interprets the retrieval context regarding detention and arrest timelines, leading to a complete misalignment with the stated information.'}]\n",
      "            Understanding Score: [{'metric': 'Understanding (GEval)', 'success': False, 'score': 0.5301516217630231, 'reason': 'While the actual output states that a person can be held for a maximum of 24 hours, it lacks clarity on the consequences after this period, which is essential for understanding what must happen next.'}]\n",
      "            \n",
      "Using model: rollama2-7b-instruct\n"
     ]
    },
    {
     "data": {
      "text/html": [
       "<pre style=\"white-space:pre;overflow-x:auto;line-height:normal;font-family:Menlo,'DejaVu Sans Mono',consolas,'Courier New',monospace\">\n",
       "<span style=\"color: #05f58d; text-decoration-color: #05f58d\">✓</span> Tests finished 🎉! Run <span style=\"color: #008000; text-decoration-color: #008000; font-weight: bold\">'deepeval login'</span> to save and analyze evaluation results on Confident AI.\n",
       " \n",
       "✨👀 Looking for a place for your LLM test data to live 🏡❤️ ? Use <span style=\"color: #6a00ff; text-decoration-color: #6a00ff\">Confident AI</span> to get &amp; share testing reports, \n",
       "experiment with models/prompts, and catch regressions for your LLM system. Just run <span style=\"color: #008080; text-decoration-color: #008080\">'deepeval login'</span> in the CLI. \n",
       "\n",
       "</pre>\n"
      ],
      "text/plain": [
       "\n",
       "\u001b[38;2;5;245;141m✓\u001b[0m Tests finished 🎉! Run \u001b[1;32m'deepeval login'\u001b[0m to save and analyze evaluation results on Confident AI.\n",
       " \n",
       "✨👀 Looking for a place for your LLM test data to live 🏡❤️ ? Use \u001b[38;2;106;0;255mConfident AI\u001b[0m to get & share testing reports, \n",
       "experiment with models/prompts, and catch regressions for your LLM system. Just run \u001b[36m'deepeval login'\u001b[0m in the CLI. \n",
       "\n"
      ]
     },
     "metadata": {},
     "output_type": "display_data"
    },
    {
     "data": {
      "text/html": [
       "<pre style=\"white-space:pre;overflow-x:auto;line-height:normal;font-family:Menlo,'DejaVu Sans Mono',consolas,'Courier New',monospace\">\n",
       "<span style=\"color: #05f58d; text-decoration-color: #05f58d\">✓</span> Tests finished 🎉! Run <span style=\"color: #008000; text-decoration-color: #008000; font-weight: bold\">'deepeval login'</span> to save and analyze evaluation results on Confident AI.\n",
       " \n",
       "✨👀 Looking for a place for your LLM test data to live 🏡❤️ ? Use <span style=\"color: #6a00ff; text-decoration-color: #6a00ff\">Confident AI</span> to get &amp; share testing reports, \n",
       "experiment with models/prompts, and catch regressions for your LLM system. Just run <span style=\"color: #008080; text-decoration-color: #008080\">'deepeval login'</span> in the CLI. \n",
       "\n",
       "</pre>\n"
      ],
      "text/plain": [
       "\n",
       "\u001b[38;2;5;245;141m✓\u001b[0m Tests finished 🎉! Run \u001b[1;32m'deepeval login'\u001b[0m to save and analyze evaluation results on Confident AI.\n",
       " \n",
       "✨👀 Looking for a place for your LLM test data to live 🏡❤️ ? Use \u001b[38;2;106;0;255mConfident AI\u001b[0m to get & share testing reports, \n",
       "experiment with models/prompts, and catch regressions for your LLM system. Just run \u001b[36m'deepeval login'\u001b[0m in the CLI. \n",
       "\n"
      ]
     },
     "metadata": {},
     "output_type": "display_data"
    },
    {
     "data": {
      "text/html": [
       "<pre style=\"white-space:pre;overflow-x:auto;line-height:normal;font-family:Menlo,'DejaVu Sans Mono',consolas,'Courier New',monospace\">\n",
       "<span style=\"color: #05f58d; text-decoration-color: #05f58d\">✓</span> Tests finished 🎉! Run <span style=\"color: #008000; text-decoration-color: #008000; font-weight: bold\">'deepeval login'</span> to save and analyze evaluation results on Confident AI.\n",
       " \n",
       "✨👀 Looking for a place for your LLM test data to live 🏡❤️ ? Use <span style=\"color: #6a00ff; text-decoration-color: #6a00ff\">Confident AI</span> to get &amp; share testing reports, \n",
       "experiment with models/prompts, and catch regressions for your LLM system. Just run <span style=\"color: #008080; text-decoration-color: #008080\">'deepeval login'</span> in the CLI. \n",
       "\n",
       "</pre>\n"
      ],
      "text/plain": [
       "\n",
       "\u001b[38;2;5;245;141m✓\u001b[0m Tests finished 🎉! Run \u001b[1;32m'deepeval login'\u001b[0m to save and analyze evaluation results on Confident AI.\n",
       " \n",
       "✨👀 Looking for a place for your LLM test data to live 🏡❤️ ? Use \u001b[38;2;106;0;255mConfident AI\u001b[0m to get & share testing reports, \n",
       "experiment with models/prompts, and catch regressions for your LLM system. Just run \u001b[36m'deepeval login'\u001b[0m in the CLI. \n",
       "\n"
      ]
     },
     "metadata": {},
     "output_type": "display_data"
    },
    {
     "data": {
      "text/html": [
       "<pre style=\"white-space:pre;overflow-x:auto;line-height:normal;font-family:Menlo,'DejaVu Sans Mono',consolas,'Courier New',monospace\">\n",
       "<span style=\"color: #05f58d; text-decoration-color: #05f58d\">✓</span> Tests finished 🎉! Run <span style=\"color: #008000; text-decoration-color: #008000; font-weight: bold\">'deepeval login'</span> to save and analyze evaluation results on Confident AI.\n",
       " \n",
       "✨👀 Looking for a place for your LLM test data to live 🏡❤️ ? Use <span style=\"color: #6a00ff; text-decoration-color: #6a00ff\">Confident AI</span> to get &amp; share testing reports, \n",
       "experiment with models/prompts, and catch regressions for your LLM system. Just run <span style=\"color: #008080; text-decoration-color: #008080\">'deepeval login'</span> in the CLI. \n",
       "\n",
       "</pre>\n"
      ],
      "text/plain": [
       "\n",
       "\u001b[38;2;5;245;141m✓\u001b[0m Tests finished 🎉! Run \u001b[1;32m'deepeval login'\u001b[0m to save and analyze evaluation results on Confident AI.\n",
       " \n",
       "✨👀 Looking for a place for your LLM test data to live 🏡❤️ ? Use \u001b[38;2;106;0;255mConfident AI\u001b[0m to get & share testing reports, \n",
       "experiment with models/prompts, and catch regressions for your LLM system. Just run \u001b[36m'deepeval login'\u001b[0m in the CLI. \n",
       "\n"
      ]
     },
     "metadata": {},
     "output_type": "display_data"
    },
    {
     "name": "stdout",
     "output_type": "stream",
     "text": [
      "\n",
      "            Query: Cât timp poate fi reținută o persoană înainte de a fi arestată?\n",
      "            Expected: Reținerea nu poate depăși 24 de ore. După acest termen, persoana trebuie eliberată sau arestată preventiv prin decizia unui judecător.\n",
      "            Actual: Înainte ca o persoană să poată fi arestată, trebuie să existe un motiv pentru arestarea lor. Acest lucru se face printr-un mandat emis de judecător. Această măsură este în general luată atunci când există o suspiciune rezonabilă că acestea au comis o infracțiune. Dacă persoana nu are un avocat, poate solicita reprezentarea de la unul.\n",
      "\n",
      "În cazurile de arestare preventivă, cel mai bun lucru pe care îl puteți face este să vă prezentați la tribunal în 48 de ore și să cereți să fiți eliberat în timp ce așteptați un proces.\n",
      "\n",
      "Arestarea preventivă ar trebui să fie utilizată numai ca ultimă soluție, atunci când alți pași au fost luați pentru a rezolva problemele implicate și nu a reușit.\n",
      "\n",
      "Dacă vă aflați într-o situație de arestare preventivă și doriți să fiți eliberat sau să beneficiați de o măsură alternativă, va trebui probabil să faceți o cerere către un judecător. \n",
      "            Relevancy Score: [{'metric': 'Answer Relevancy', 'success': False, 'score': 0.2222222222222222, 'reason': 'The score is 0.22 because the output contains several statements that do not directly address the question about the duration a person can be held before arrest. Instead, it includes information on related but distinct topics such as the arrest process, legal representation rights, and conditions for issuing warrants. These elements, while informative, do not provide a direct answer to the input question, thus limiting the relevancy score.'}]\n",
      "            Recall Score: [{'metric': 'Contextual Recall', 'success': True, 'score': 1.0, 'reason': 'The score is 1.00 because every sentence in the expected output is perfectly aligned with the nodes in the retrieval context, ensuring complete accuracy and relevance. Great job!'}]\n",
      "            Faithfulness Score: [{'metric': 'Faithfulness', 'success': True, 'score': 0.7142857142857143, 'reason': 'The score is 0.71 because the actual output incorrectly states that the arrest reason is established by a warrant, while it should only be permitted under specific legal procedures. Additionally, it misstates the timeframe for presenting the arrested person to court as 48 hours instead of the correct 24 hours.'}]\n",
      "            Understanding Score: [{'metric': 'Understanding (GEval)', 'success': False, 'score': 0.38530799921401265, 'reason': 'The response provides some legal context but does not clearly state the maximum time a person can be held before arrest, which is crucial for user understanding.'}]\n",
      "            \n",
      "Finished tests for model: rollama2-7b-instruct\n",
      "\n",
      "==================================================\n",
      "\n",
      "\n",
      "Running tests for query: Care sunt drepturile cetățeanului român?\n",
      "Using model: rollama3-8b-instruct\n"
     ]
    },
    {
     "data": {
      "text/html": [
       "<pre style=\"white-space:pre;overflow-x:auto;line-height:normal;font-family:Menlo,'DejaVu Sans Mono',consolas,'Courier New',monospace\">\n",
       "<span style=\"color: #05f58d; text-decoration-color: #05f58d\">✓</span> Tests finished 🎉! Run <span style=\"color: #008000; text-decoration-color: #008000; font-weight: bold\">'deepeval login'</span> to save and analyze evaluation results on Confident AI.\n",
       " \n",
       "✨👀 Looking for a place for your LLM test data to live 🏡❤️ ? Use <span style=\"color: #6a00ff; text-decoration-color: #6a00ff\">Confident AI</span> to get &amp; share testing reports, \n",
       "experiment with models/prompts, and catch regressions for your LLM system. Just run <span style=\"color: #008080; text-decoration-color: #008080\">'deepeval login'</span> in the CLI. \n",
       "\n",
       "</pre>\n"
      ],
      "text/plain": [
       "\n",
       "\u001b[38;2;5;245;141m✓\u001b[0m Tests finished 🎉! Run \u001b[1;32m'deepeval login'\u001b[0m to save and analyze evaluation results on Confident AI.\n",
       " \n",
       "✨👀 Looking for a place for your LLM test data to live 🏡❤️ ? Use \u001b[38;2;106;0;255mConfident AI\u001b[0m to get & share testing reports, \n",
       "experiment with models/prompts, and catch regressions for your LLM system. Just run \u001b[36m'deepeval login'\u001b[0m in the CLI. \n",
       "\n"
      ]
     },
     "metadata": {},
     "output_type": "display_data"
    },
    {
     "data": {
      "text/html": [
       "<pre style=\"white-space:pre;overflow-x:auto;line-height:normal;font-family:Menlo,'DejaVu Sans Mono',consolas,'Courier New',monospace\">\n",
       "<span style=\"color: #05f58d; text-decoration-color: #05f58d\">✓</span> Tests finished 🎉! Run <span style=\"color: #008000; text-decoration-color: #008000; font-weight: bold\">'deepeval login'</span> to save and analyze evaluation results on Confident AI.\n",
       " \n",
       "✨👀 Looking for a place for your LLM test data to live 🏡❤️ ? Use <span style=\"color: #6a00ff; text-decoration-color: #6a00ff\">Confident AI</span> to get &amp; share testing reports, \n",
       "experiment with models/prompts, and catch regressions for your LLM system. Just run <span style=\"color: #008080; text-decoration-color: #008080\">'deepeval login'</span> in the CLI. \n",
       "\n",
       "</pre>\n"
      ],
      "text/plain": [
       "\n",
       "\u001b[38;2;5;245;141m✓\u001b[0m Tests finished 🎉! Run \u001b[1;32m'deepeval login'\u001b[0m to save and analyze evaluation results on Confident AI.\n",
       " \n",
       "✨👀 Looking for a place for your LLM test data to live 🏡❤️ ? Use \u001b[38;2;106;0;255mConfident AI\u001b[0m to get & share testing reports, \n",
       "experiment with models/prompts, and catch regressions for your LLM system. Just run \u001b[36m'deepeval login'\u001b[0m in the CLI. \n",
       "\n"
      ]
     },
     "metadata": {},
     "output_type": "display_data"
    },
    {
     "data": {
      "text/html": [
       "<pre style=\"white-space:pre;overflow-x:auto;line-height:normal;font-family:Menlo,'DejaVu Sans Mono',consolas,'Courier New',monospace\">\n",
       "<span style=\"color: #05f58d; text-decoration-color: #05f58d\">✓</span> Tests finished 🎉! Run <span style=\"color: #008000; text-decoration-color: #008000; font-weight: bold\">'deepeval login'</span> to save and analyze evaluation results on Confident AI.\n",
       " \n",
       "✨👀 Looking for a place for your LLM test data to live 🏡❤️ ? Use <span style=\"color: #6a00ff; text-decoration-color: #6a00ff\">Confident AI</span> to get &amp; share testing reports, \n",
       "experiment with models/prompts, and catch regressions for your LLM system. Just run <span style=\"color: #008080; text-decoration-color: #008080\">'deepeval login'</span> in the CLI. \n",
       "\n",
       "</pre>\n"
      ],
      "text/plain": [
       "\n",
       "\u001b[38;2;5;245;141m✓\u001b[0m Tests finished 🎉! Run \u001b[1;32m'deepeval login'\u001b[0m to save and analyze evaluation results on Confident AI.\n",
       " \n",
       "✨👀 Looking for a place for your LLM test data to live 🏡❤️ ? Use \u001b[38;2;106;0;255mConfident AI\u001b[0m to get & share testing reports, \n",
       "experiment with models/prompts, and catch regressions for your LLM system. Just run \u001b[36m'deepeval login'\u001b[0m in the CLI. \n",
       "\n"
      ]
     },
     "metadata": {},
     "output_type": "display_data"
    },
    {
     "data": {
      "text/html": [
       "<pre style=\"white-space:pre;overflow-x:auto;line-height:normal;font-family:Menlo,'DejaVu Sans Mono',consolas,'Courier New',monospace\">\n",
       "<span style=\"color: #05f58d; text-decoration-color: #05f58d\">✓</span> Tests finished 🎉! Run <span style=\"color: #008000; text-decoration-color: #008000; font-weight: bold\">'deepeval login'</span> to save and analyze evaluation results on Confident AI.\n",
       " \n",
       "✨👀 Looking for a place for your LLM test data to live 🏡❤️ ? Use <span style=\"color: #6a00ff; text-decoration-color: #6a00ff\">Confident AI</span> to get &amp; share testing reports, \n",
       "experiment with models/prompts, and catch regressions for your LLM system. Just run <span style=\"color: #008080; text-decoration-color: #008080\">'deepeval login'</span> in the CLI. \n",
       "\n",
       "</pre>\n"
      ],
      "text/plain": [
       "\n",
       "\u001b[38;2;5;245;141m✓\u001b[0m Tests finished 🎉! Run \u001b[1;32m'deepeval login'\u001b[0m to save and analyze evaluation results on Confident AI.\n",
       " \n",
       "✨👀 Looking for a place for your LLM test data to live 🏡❤️ ? Use \u001b[38;2;106;0;255mConfident AI\u001b[0m to get & share testing reports, \n",
       "experiment with models/prompts, and catch regressions for your LLM system. Just run \u001b[36m'deepeval login'\u001b[0m in the CLI. \n",
       "\n"
      ]
     },
     "metadata": {},
     "output_type": "display_data"
    },
    {
     "name": "stdout",
     "output_type": "stream",
     "text": [
      "\n",
      "            Query: Care sunt drepturile cetățeanului român?\n",
      "            Expected: Cetățeanul român beneficiază de drepturi și libertăți fundamentale în toate domeniile vieții. Drepturile civile și politice includ dreptul la viață, libertatea individuală, dreptul la apărare, dreptul de vot de la 18 ani și eligibilitatea pentru funcții publice. Libertățile fundamentale cuprind libertatea gândirii și credinței religioase, libertatea de exprimare, dreptul la informație și dreptul de asociere în partide și sindicate. Drepturile economice și sociale garantează munca liber aleasă, greva, proprietatea privată, moștenirea, pensia și asistența medicală. În plus, cetățenii au dreptul la învățătură, acces la cultură, un mediu sănătos și protecția statului în străinătate.\n",
      "            Actual: Cetățenii români au drepturi și libertăți garantate prin Constituția României. Aceste drepturi includ egalitatea față de lege și autoritățile publice, precum și egalitatea de șanse pentru funcții publice civile sau militare. De asemenea, cetățenii străini și apatrizi pot exercita drepturi și libertăți constituționale cu bună-credință, fără a încălca drepturile altora. \n",
      "\n",
      "În conformitate cu Constituția României, dispozițiile privind drepturile cetățenilor vor fi interpretate și aplicate în concordanță cu Declarația Universală a Drepturilor Omului, Pactele internaționale relative la drepturile civile și politice și alte tratate la care România este parte.\n",
      "            Relevancy Score: [{'metric': 'Answer Relevancy', 'success': True, 'score': 0.875, 'reason': 'The score is 0.88 because the response primarily addresses the rights of Romanian citizens, which aligns well with the input question. However, the mention of rights pertaining to foreign citizens and stateless persons slightly detracts from the focus, preventing a perfect score.'}]\n",
      "            Recall Score: [{'metric': 'Contextual Recall', 'success': False, 'score': 0.4, 'reason': 'The score is 0.40 because while the 1st and 2nd nodes in the retrieval context align with the expected output regarding constitutional rights and voting eligibility, there is a lack of specific references to freedoms of thought, economic and social rights, and educational and cultural access, which are significant components of the expected output.'}]\n",
      "            Faithfulness Score: [{'metric': 'Faithfulness', 'success': True, 'score': 1.0, 'reason': 'The score is 1.00 because there are no contradictions present, indicating that the actual output perfectly aligns with the retrieval context.'}]\n",
      "            Understanding Score: [{'metric': 'Understanding (GEval)', 'success': False, 'score': 0.4507532083061433, 'reason': 'The actual output mentions some rights but lacks clarity and accessibility for someone without legal knowledge, and it does not clearly outline what actions the user can take based on these rights.'}]\n",
      "            \n",
      "Using model: rollama2-7b-instruct\n"
     ]
    },
    {
     "data": {
      "text/html": [
       "<pre style=\"white-space:pre;overflow-x:auto;line-height:normal;font-family:Menlo,'DejaVu Sans Mono',consolas,'Courier New',monospace\">\n",
       "<span style=\"color: #05f58d; text-decoration-color: #05f58d\">✓</span> Tests finished 🎉! Run <span style=\"color: #008000; text-decoration-color: #008000; font-weight: bold\">'deepeval login'</span> to save and analyze evaluation results on Confident AI.\n",
       " \n",
       "✨👀 Looking for a place for your LLM test data to live 🏡❤️ ? Use <span style=\"color: #6a00ff; text-decoration-color: #6a00ff\">Confident AI</span> to get &amp; share testing reports, \n",
       "experiment with models/prompts, and catch regressions for your LLM system. Just run <span style=\"color: #008080; text-decoration-color: #008080\">'deepeval login'</span> in the CLI. \n",
       "\n",
       "</pre>\n"
      ],
      "text/plain": [
       "\n",
       "\u001b[38;2;5;245;141m✓\u001b[0m Tests finished 🎉! Run \u001b[1;32m'deepeval login'\u001b[0m to save and analyze evaluation results on Confident AI.\n",
       " \n",
       "✨👀 Looking for a place for your LLM test data to live 🏡❤️ ? Use \u001b[38;2;106;0;255mConfident AI\u001b[0m to get & share testing reports, \n",
       "experiment with models/prompts, and catch regressions for your LLM system. Just run \u001b[36m'deepeval login'\u001b[0m in the CLI. \n",
       "\n"
      ]
     },
     "metadata": {},
     "output_type": "display_data"
    },
    {
     "data": {
      "text/html": [
       "<pre style=\"white-space:pre;overflow-x:auto;line-height:normal;font-family:Menlo,'DejaVu Sans Mono',consolas,'Courier New',monospace\">\n",
       "<span style=\"color: #05f58d; text-decoration-color: #05f58d\">✓</span> Tests finished 🎉! Run <span style=\"color: #008000; text-decoration-color: #008000; font-weight: bold\">'deepeval login'</span> to save and analyze evaluation results on Confident AI.\n",
       " \n",
       "✨👀 Looking for a place for your LLM test data to live 🏡❤️ ? Use <span style=\"color: #6a00ff; text-decoration-color: #6a00ff\">Confident AI</span> to get &amp; share testing reports, \n",
       "experiment with models/prompts, and catch regressions for your LLM system. Just run <span style=\"color: #008080; text-decoration-color: #008080\">'deepeval login'</span> in the CLI. \n",
       "\n",
       "</pre>\n"
      ],
      "text/plain": [
       "\n",
       "\u001b[38;2;5;245;141m✓\u001b[0m Tests finished 🎉! Run \u001b[1;32m'deepeval login'\u001b[0m to save and analyze evaluation results on Confident AI.\n",
       " \n",
       "✨👀 Looking for a place for your LLM test data to live 🏡❤️ ? Use \u001b[38;2;106;0;255mConfident AI\u001b[0m to get & share testing reports, \n",
       "experiment with models/prompts, and catch regressions for your LLM system. Just run \u001b[36m'deepeval login'\u001b[0m in the CLI. \n",
       "\n"
      ]
     },
     "metadata": {},
     "output_type": "display_data"
    },
    {
     "data": {
      "text/html": [
       "<pre style=\"white-space:pre;overflow-x:auto;line-height:normal;font-family:Menlo,'DejaVu Sans Mono',consolas,'Courier New',monospace\">\n",
       "<span style=\"color: #05f58d; text-decoration-color: #05f58d\">✓</span> Tests finished 🎉! Run <span style=\"color: #008000; text-decoration-color: #008000; font-weight: bold\">'deepeval login'</span> to save and analyze evaluation results on Confident AI.\n",
       " \n",
       "✨👀 Looking for a place for your LLM test data to live 🏡❤️ ? Use <span style=\"color: #6a00ff; text-decoration-color: #6a00ff\">Confident AI</span> to get &amp; share testing reports, \n",
       "experiment with models/prompts, and catch regressions for your LLM system. Just run <span style=\"color: #008080; text-decoration-color: #008080\">'deepeval login'</span> in the CLI. \n",
       "\n",
       "</pre>\n"
      ],
      "text/plain": [
       "\n",
       "\u001b[38;2;5;245;141m✓\u001b[0m Tests finished 🎉! Run \u001b[1;32m'deepeval login'\u001b[0m to save and analyze evaluation results on Confident AI.\n",
       " \n",
       "✨👀 Looking for a place for your LLM test data to live 🏡❤️ ? Use \u001b[38;2;106;0;255mConfident AI\u001b[0m to get & share testing reports, \n",
       "experiment with models/prompts, and catch regressions for your LLM system. Just run \u001b[36m'deepeval login'\u001b[0m in the CLI. \n",
       "\n"
      ]
     },
     "metadata": {},
     "output_type": "display_data"
    },
    {
     "data": {
      "text/html": [
       "<pre style=\"white-space:pre;overflow-x:auto;line-height:normal;font-family:Menlo,'DejaVu Sans Mono',consolas,'Courier New',monospace\">\n",
       "<span style=\"color: #05f58d; text-decoration-color: #05f58d\">✓</span> Tests finished 🎉! Run <span style=\"color: #008000; text-decoration-color: #008000; font-weight: bold\">'deepeval login'</span> to save and analyze evaluation results on Confident AI.\n",
       " \n",
       "✨👀 Looking for a place for your LLM test data to live 🏡❤️ ? Use <span style=\"color: #6a00ff; text-decoration-color: #6a00ff\">Confident AI</span> to get &amp; share testing reports, \n",
       "experiment with models/prompts, and catch regressions for your LLM system. Just run <span style=\"color: #008080; text-decoration-color: #008080\">'deepeval login'</span> in the CLI. \n",
       "\n",
       "</pre>\n"
      ],
      "text/plain": [
       "\n",
       "\u001b[38;2;5;245;141m✓\u001b[0m Tests finished 🎉! Run \u001b[1;32m'deepeval login'\u001b[0m to save and analyze evaluation results on Confident AI.\n",
       " \n",
       "✨👀 Looking for a place for your LLM test data to live 🏡❤️ ? Use \u001b[38;2;106;0;255mConfident AI\u001b[0m to get & share testing reports, \n",
       "experiment with models/prompts, and catch regressions for your LLM system. Just run \u001b[36m'deepeval login'\u001b[0m in the CLI. \n",
       "\n"
      ]
     },
     "metadata": {},
     "output_type": "display_data"
    },
    {
     "name": "stdout",
     "output_type": "stream",
     "text": [
      "\n",
      "            Query: Care sunt drepturile cetățeanului român?\n",
      "            Expected: Cetățeanul român beneficiază de drepturi și libertăți fundamentale în toate domeniile vieții. Drepturile civile și politice includ dreptul la viață, libertatea individuală, dreptul la apărare, dreptul de vot de la 18 ani și eligibilitatea pentru funcții publice. Libertățile fundamentale cuprind libertatea gândirii și credinței religioase, libertatea de exprimare, dreptul la informație și dreptul de asociere în partide și sindicate. Drepturile economice și sociale garantează munca liber aleasă, greva, proprietatea privată, moștenirea, pensia și asistența medicală. În plus, cetățenii au dreptul la învățătură, acces la cultură, un mediu sănătos și protecția statului în străinătate.\n",
      "            Actual: \n",
      "În România, cetățenii au drepturi garantate prin Constituție. Un astfel de exemplu este dreptul la acces liber la justiție. Cetățenii români, precum și cei care îndeplinesc cerințele legii organice, au dreptul să participe în administrația publică locală.\n",
      "\n",
      "Cu toate acestea, este important de menționat că nu există termeni tehnici în răspunsul dat și că informațiile furnizate sunt în concordanță cu contextul dat. \n",
      "            Relevancy Score: [{'metric': 'Answer Relevancy', 'success': False, 'score': 0.6666666666666666, 'reason': 'The score is 0.67 because while the output partially addresses the rights of Romanian citizens, it includes statements about technical terms and context that do not directly relate to the question. These irrelevant points prevent a higher score, but the relevant parts still provide some useful information.'}]\n",
      "            Recall Score: [{'metric': 'Contextual Recall', 'success': False, 'score': 0.4, 'reason': 'The score is 0.40 because while the 1st and 2nd nodes in the retrieval context align with the initial sentences regarding constitutional rights and voting, the remaining sentences about religious freedom, economic rights, and cultural access lack direct support from the nodes.'}]\n",
      "            Faithfulness Score: [{'metric': 'Faithfulness', 'success': True, 'score': 1.0, 'reason': 'The score is 1.00 because there are no contradictions present, indicating that the actual output perfectly aligns with the retrieval context.'}]\n",
      "            Understanding Score: [{'metric': 'Understanding (GEval)', 'success': False, 'score': 0.45339874666488394, 'reason': 'While the response mentions some rights, it lacks clarity and comprehensiveness compared to the expected output, which details various rights and freedoms in a more accessible manner.'}]\n",
      "            \n",
      "Finished tests for model: rollama2-7b-instruct\n",
      "\n",
      "==================================================\n",
      "\n",
      "\n",
      "Running tests for query: Ce obligație are angajatorul înainte de încheierea contractului individual de muncă?\n",
      "Using model: rollama3-8b-instruct\n"
     ]
    },
    {
     "data": {
      "text/html": [
       "<pre style=\"white-space:pre;overflow-x:auto;line-height:normal;font-family:Menlo,'DejaVu Sans Mono',consolas,'Courier New',monospace\">\n",
       "<span style=\"color: #05f58d; text-decoration-color: #05f58d\">✓</span> Tests finished 🎉! Run <span style=\"color: #008000; text-decoration-color: #008000; font-weight: bold\">'deepeval login'</span> to save and analyze evaluation results on Confident AI.\n",
       " \n",
       "✨👀 Looking for a place for your LLM test data to live 🏡❤️ ? Use <span style=\"color: #6a00ff; text-decoration-color: #6a00ff\">Confident AI</span> to get &amp; share testing reports, \n",
       "experiment with models/prompts, and catch regressions for your LLM system. Just run <span style=\"color: #008080; text-decoration-color: #008080\">'deepeval login'</span> in the CLI. \n",
       "\n",
       "</pre>\n"
      ],
      "text/plain": [
       "\n",
       "\u001b[38;2;5;245;141m✓\u001b[0m Tests finished 🎉! Run \u001b[1;32m'deepeval login'\u001b[0m to save and analyze evaluation results on Confident AI.\n",
       " \n",
       "✨👀 Looking for a place for your LLM test data to live 🏡❤️ ? Use \u001b[38;2;106;0;255mConfident AI\u001b[0m to get & share testing reports, \n",
       "experiment with models/prompts, and catch regressions for your LLM system. Just run \u001b[36m'deepeval login'\u001b[0m in the CLI. \n",
       "\n"
      ]
     },
     "metadata": {},
     "output_type": "display_data"
    },
    {
     "data": {
      "text/html": [
       "<pre style=\"white-space:pre;overflow-x:auto;line-height:normal;font-family:Menlo,'DejaVu Sans Mono',consolas,'Courier New',monospace\">\n",
       "<span style=\"color: #05f58d; text-decoration-color: #05f58d\">✓</span> Tests finished 🎉! Run <span style=\"color: #008000; text-decoration-color: #008000; font-weight: bold\">'deepeval login'</span> to save and analyze evaluation results on Confident AI.\n",
       " \n",
       "✨👀 Looking for a place for your LLM test data to live 🏡❤️ ? Use <span style=\"color: #6a00ff; text-decoration-color: #6a00ff\">Confident AI</span> to get &amp; share testing reports, \n",
       "experiment with models/prompts, and catch regressions for your LLM system. Just run <span style=\"color: #008080; text-decoration-color: #008080\">'deepeval login'</span> in the CLI. \n",
       "\n",
       "</pre>\n"
      ],
      "text/plain": [
       "\n",
       "\u001b[38;2;5;245;141m✓\u001b[0m Tests finished 🎉! Run \u001b[1;32m'deepeval login'\u001b[0m to save and analyze evaluation results on Confident AI.\n",
       " \n",
       "✨👀 Looking for a place for your LLM test data to live 🏡❤️ ? Use \u001b[38;2;106;0;255mConfident AI\u001b[0m to get & share testing reports, \n",
       "experiment with models/prompts, and catch regressions for your LLM system. Just run \u001b[36m'deepeval login'\u001b[0m in the CLI. \n",
       "\n"
      ]
     },
     "metadata": {},
     "output_type": "display_data"
    },
    {
     "data": {
      "text/html": [
       "<pre style=\"white-space:pre;overflow-x:auto;line-height:normal;font-family:Menlo,'DejaVu Sans Mono',consolas,'Courier New',monospace\">\n",
       "<span style=\"color: #05f58d; text-decoration-color: #05f58d\">✓</span> Tests finished 🎉! Run <span style=\"color: #008000; text-decoration-color: #008000; font-weight: bold\">'deepeval login'</span> to save and analyze evaluation results on Confident AI.\n",
       " \n",
       "✨👀 Looking for a place for your LLM test data to live 🏡❤️ ? Use <span style=\"color: #6a00ff; text-decoration-color: #6a00ff\">Confident AI</span> to get &amp; share testing reports, \n",
       "experiment with models/prompts, and catch regressions for your LLM system. Just run <span style=\"color: #008080; text-decoration-color: #008080\">'deepeval login'</span> in the CLI. \n",
       "\n",
       "</pre>\n"
      ],
      "text/plain": [
       "\n",
       "\u001b[38;2;5;245;141m✓\u001b[0m Tests finished 🎉! Run \u001b[1;32m'deepeval login'\u001b[0m to save and analyze evaluation results on Confident AI.\n",
       " \n",
       "✨👀 Looking for a place for your LLM test data to live 🏡❤️ ? Use \u001b[38;2;106;0;255mConfident AI\u001b[0m to get & share testing reports, \n",
       "experiment with models/prompts, and catch regressions for your LLM system. Just run \u001b[36m'deepeval login'\u001b[0m in the CLI. \n",
       "\n"
      ]
     },
     "metadata": {},
     "output_type": "display_data"
    },
    {
     "data": {
      "text/html": [
       "<pre style=\"white-space:pre;overflow-x:auto;line-height:normal;font-family:Menlo,'DejaVu Sans Mono',consolas,'Courier New',monospace\">\n",
       "<span style=\"color: #05f58d; text-decoration-color: #05f58d\">✓</span> Tests finished 🎉! Run <span style=\"color: #008000; text-decoration-color: #008000; font-weight: bold\">'deepeval login'</span> to save and analyze evaluation results on Confident AI.\n",
       " \n",
       "✨👀 Looking for a place for your LLM test data to live 🏡❤️ ? Use <span style=\"color: #6a00ff; text-decoration-color: #6a00ff\">Confident AI</span> to get &amp; share testing reports, \n",
       "experiment with models/prompts, and catch regressions for your LLM system. Just run <span style=\"color: #008080; text-decoration-color: #008080\">'deepeval login'</span> in the CLI. \n",
       "\n",
       "</pre>\n"
      ],
      "text/plain": [
       "\n",
       "\u001b[38;2;5;245;141m✓\u001b[0m Tests finished 🎉! Run \u001b[1;32m'deepeval login'\u001b[0m to save and analyze evaluation results on Confident AI.\n",
       " \n",
       "✨👀 Looking for a place for your LLM test data to live 🏡❤️ ? Use \u001b[38;2;106;0;255mConfident AI\u001b[0m to get & share testing reports, \n",
       "experiment with models/prompts, and catch regressions for your LLM system. Just run \u001b[36m'deepeval login'\u001b[0m in the CLI. \n",
       "\n"
      ]
     },
     "metadata": {},
     "output_type": "display_data"
    },
    {
     "name": "stdout",
     "output_type": "stream",
     "text": [
      "\n",
      "            Query: Ce obligație are angajatorul înainte de încheierea contractului individual de muncă?\n",
      "            Expected: Anterior încheierii sau modificării contractului individual de muncă, angajatorul are obligația de a informa persoana selectată în vederea angajării cu privire la clauzele esențiale pe care intenționează să le înscrie în contract sau să le modifice.\n",
      "            Actual: Înainte de încheierea contractului individual de muncă (CIM), angajatorul are obligațiunea de a informa persoana selectată în vederea angajării sau, după caz, salariatul cu privire la clauzele esențiale pe care intende să le inscrie în CIM-ul contractului sau să le modifice. \n",
      "\n",
      "Acestea includ identitatea părților, locul de muncă și informațiile sale, sediul angajatorului (sau domiciliul acestuia), funcția/ocupația salariatului conform Clasificării Ocupațiilor din România sau a altor acte normative și atribuirile postului, criteriile de evaluare a activității profesionale ale angajatorului, riscurile specifice postului, data de la care contractul începe să producă efecte, durata CIM-ului dacă este un contract pe termen determinat sau temporar, durata concediului de odihnă, condițiile și durata preavizierii, salariul de bază, alte elemente constitutive ale veniturilor salariale, durata normală a muncii (ore/zi) și/sau ore/săptămână), modul de plata timpului suplimentar, condițiile contractului colectiv de muncă, perioada probațională și orice alte drepturi sau avantaje în bani acordate salariatului.\n",
      "            Relevancy Score: [{'metric': 'Answer Relevancy', 'success': True, 'score': 1.0, 'reason': \"The score is 1.00 because the response perfectly addresses the question about the employer's obligations before signing an individual employment contract, with no irrelevant information included. Great job!\"}]\n",
      "            Recall Score: [{'metric': 'Contextual Recall', 'success': True, 'score': 1.0, 'reason': 'The score is 1.00 because the expected output is perfectly aligned with the retrieval context, as the sentence is directly quoted from the 2nd node in the retrieval context. Great job!'}]\n",
      "            Faithfulness Score: [{'metric': 'Faithfulness', 'success': False, 'score': 0.14285714285714285, 'reason': 'The score is 0.14 because the actual output includes multiple claims about essential clauses in employment contracts that are not mentioned in the retrieval context, leading to significant discrepancies between the two.'}]\n",
      "            Understanding Score: [{'metric': 'Understanding (GEval)', 'success': False, 'score': 0.5748803443347862, 'reason': \"The response provides detailed information about the employer's obligations, but it is overly complex for someone without legal knowledge, making it less accessible.\"}]\n",
      "            \n",
      "Using model: rollama2-7b-instruct\n"
     ]
    },
    {
     "data": {
      "text/html": [
       "<pre style=\"white-space:pre;overflow-x:auto;line-height:normal;font-family:Menlo,'DejaVu Sans Mono',consolas,'Courier New',monospace\">\n",
       "<span style=\"color: #05f58d; text-decoration-color: #05f58d\">✓</span> Tests finished 🎉! Run <span style=\"color: #008000; text-decoration-color: #008000; font-weight: bold\">'deepeval login'</span> to save and analyze evaluation results on Confident AI.\n",
       " \n",
       "✨👀 Looking for a place for your LLM test data to live 🏡❤️ ? Use <span style=\"color: #6a00ff; text-decoration-color: #6a00ff\">Confident AI</span> to get &amp; share testing reports, \n",
       "experiment with models/prompts, and catch regressions for your LLM system. Just run <span style=\"color: #008080; text-decoration-color: #008080\">'deepeval login'</span> in the CLI. \n",
       "\n",
       "</pre>\n"
      ],
      "text/plain": [
       "\n",
       "\u001b[38;2;5;245;141m✓\u001b[0m Tests finished 🎉! Run \u001b[1;32m'deepeval login'\u001b[0m to save and analyze evaluation results on Confident AI.\n",
       " \n",
       "✨👀 Looking for a place for your LLM test data to live 🏡❤️ ? Use \u001b[38;2;106;0;255mConfident AI\u001b[0m to get & share testing reports, \n",
       "experiment with models/prompts, and catch regressions for your LLM system. Just run \u001b[36m'deepeval login'\u001b[0m in the CLI. \n",
       "\n"
      ]
     },
     "metadata": {},
     "output_type": "display_data"
    },
    {
     "data": {
      "text/html": [
       "<pre style=\"white-space:pre;overflow-x:auto;line-height:normal;font-family:Menlo,'DejaVu Sans Mono',consolas,'Courier New',monospace\">\n",
       "<span style=\"color: #05f58d; text-decoration-color: #05f58d\">✓</span> Tests finished 🎉! Run <span style=\"color: #008000; text-decoration-color: #008000; font-weight: bold\">'deepeval login'</span> to save and analyze evaluation results on Confident AI.\n",
       " \n",
       "✨👀 Looking for a place for your LLM test data to live 🏡❤️ ? Use <span style=\"color: #6a00ff; text-decoration-color: #6a00ff\">Confident AI</span> to get &amp; share testing reports, \n",
       "experiment with models/prompts, and catch regressions for your LLM system. Just run <span style=\"color: #008080; text-decoration-color: #008080\">'deepeval login'</span> in the CLI. \n",
       "\n",
       "</pre>\n"
      ],
      "text/plain": [
       "\n",
       "\u001b[38;2;5;245;141m✓\u001b[0m Tests finished 🎉! Run \u001b[1;32m'deepeval login'\u001b[0m to save and analyze evaluation results on Confident AI.\n",
       " \n",
       "✨👀 Looking for a place for your LLM test data to live 🏡❤️ ? Use \u001b[38;2;106;0;255mConfident AI\u001b[0m to get & share testing reports, \n",
       "experiment with models/prompts, and catch regressions for your LLM system. Just run \u001b[36m'deepeval login'\u001b[0m in the CLI. \n",
       "\n"
      ]
     },
     "metadata": {},
     "output_type": "display_data"
    },
    {
     "data": {
      "text/html": [
       "<pre style=\"white-space:pre;overflow-x:auto;line-height:normal;font-family:Menlo,'DejaVu Sans Mono',consolas,'Courier New',monospace\">\n",
       "<span style=\"color: #05f58d; text-decoration-color: #05f58d\">✓</span> Tests finished 🎉! Run <span style=\"color: #008000; text-decoration-color: #008000; font-weight: bold\">'deepeval login'</span> to save and analyze evaluation results on Confident AI.\n",
       " \n",
       "✨👀 Looking for a place for your LLM test data to live 🏡❤️ ? Use <span style=\"color: #6a00ff; text-decoration-color: #6a00ff\">Confident AI</span> to get &amp; share testing reports, \n",
       "experiment with models/prompts, and catch regressions for your LLM system. Just run <span style=\"color: #008080; text-decoration-color: #008080\">'deepeval login'</span> in the CLI. \n",
       "\n",
       "</pre>\n"
      ],
      "text/plain": [
       "\n",
       "\u001b[38;2;5;245;141m✓\u001b[0m Tests finished 🎉! Run \u001b[1;32m'deepeval login'\u001b[0m to save and analyze evaluation results on Confident AI.\n",
       " \n",
       "✨👀 Looking for a place for your LLM test data to live 🏡❤️ ? Use \u001b[38;2;106;0;255mConfident AI\u001b[0m to get & share testing reports, \n",
       "experiment with models/prompts, and catch regressions for your LLM system. Just run \u001b[36m'deepeval login'\u001b[0m in the CLI. \n",
       "\n"
      ]
     },
     "metadata": {},
     "output_type": "display_data"
    },
    {
     "data": {
      "text/html": [
       "<pre style=\"white-space:pre;overflow-x:auto;line-height:normal;font-family:Menlo,'DejaVu Sans Mono',consolas,'Courier New',monospace\">\n",
       "<span style=\"color: #05f58d; text-decoration-color: #05f58d\">✓</span> Tests finished 🎉! Run <span style=\"color: #008000; text-decoration-color: #008000; font-weight: bold\">'deepeval login'</span> to save and analyze evaluation results on Confident AI.\n",
       " \n",
       "✨👀 Looking for a place for your LLM test data to live 🏡❤️ ? Use <span style=\"color: #6a00ff; text-decoration-color: #6a00ff\">Confident AI</span> to get &amp; share testing reports, \n",
       "experiment with models/prompts, and catch regressions for your LLM system. Just run <span style=\"color: #008080; text-decoration-color: #008080\">'deepeval login'</span> in the CLI. \n",
       "\n",
       "</pre>\n"
      ],
      "text/plain": [
       "\n",
       "\u001b[38;2;5;245;141m✓\u001b[0m Tests finished 🎉! Run \u001b[1;32m'deepeval login'\u001b[0m to save and analyze evaluation results on Confident AI.\n",
       " \n",
       "✨👀 Looking for a place for your LLM test data to live 🏡❤️ ? Use \u001b[38;2;106;0;255mConfident AI\u001b[0m to get & share testing reports, \n",
       "experiment with models/prompts, and catch regressions for your LLM system. Just run \u001b[36m'deepeval login'\u001b[0m in the CLI. \n",
       "\n"
      ]
     },
     "metadata": {},
     "output_type": "display_data"
    },
    {
     "name": "stdout",
     "output_type": "stream",
     "text": [
      "\n",
      "            Query: Ce obligație are angajatorul înainte de încheierea contractului individual de muncă?\n",
      "            Expected: Anterior încheierii sau modificării contractului individual de muncă, angajatorul are obligația de a informa persoana selectată în vederea angajării cu privire la clauzele esențiale pe care intenționează să le înscrie în contract sau să le modifice.\n",
      "            Actual: Angajatorul are obligația de a oferi informații persoanei selectate pentru angajare sau salariatului cu privire la următoarele elemente:\n",
      "a) identitatea partilor; \n",
      "b) locul de munca sau, in lipsa unui loc de munca fix, posibilitatea ca salariatul sa isi desfasoare activitatea in \n",
      "locuri de munca diferite, precum si daca deplasarea intre acestea este asigurata sau decontata de catre angajator, \n",
      "dupa caz; \n",
      "c) durata contractului de munca; \n",
      "d) salariul de baza, alte elemente constitutive ale veniturilor salariale, evidentiate separat, periodicitatea platii \n",
      "salariului la care salariatul are dreptul si metoda de plata; \n",
      "e) durata și condițiile perioadei de probă, dacă există.\n",
      "            Relevancy Score: [{'metric': 'Answer Relevancy', 'success': True, 'score': 1.0, 'reason': \"The score is 1.00 because the response perfectly addresses the question about the employer's obligations before signing an individual employment contract, with no irrelevant statements present.\"}]\n",
      "            Recall Score: [{'metric': 'Contextual Recall', 'success': True, 'score': 1.0, 'reason': 'The score is 1.00 because the expected output is perfectly aligned with the retrieval context, as the sentence is directly quoted from the 2nd node in the retrieval context. Great job on achieving a flawless match!'}]\n",
      "            Faithfulness Score: [{'metric': 'Faithfulness', 'success': True, 'score': 0.75, 'reason': \"The score is 0.75 because the actual output fails to address important details regarding travel reimbursement and the breakdown of salary components, which are crucial for a comprehensive understanding of the employer's obligations.\"}]\n",
      "            Understanding Score: [{'metric': 'Understanding (GEval)', 'success': False, 'score': 0.5483945505902803, 'reason': 'The actual output provides detailed obligations of the employer, but it lacks clarity and accessibility for someone without legal knowledge, making it harder to understand what actions are required.'}]\n",
      "            \n",
      "Finished tests for model: rollama2-7b-instruct\n",
      "\n",
      "==================================================\n",
      "\n",
      "\n",
      "Running tests for query: Care este vârsta legală minimă pentru încheierea unei căsătorii în România?\n",
      "Using model: rollama3-8b-instruct\n"
     ]
    },
    {
     "data": {
      "text/html": [
       "<pre style=\"white-space:pre;overflow-x:auto;line-height:normal;font-family:Menlo,'DejaVu Sans Mono',consolas,'Courier New',monospace\">\n",
       "<span style=\"color: #05f58d; text-decoration-color: #05f58d\">✓</span> Tests finished 🎉! Run <span style=\"color: #008000; text-decoration-color: #008000; font-weight: bold\">'deepeval login'</span> to save and analyze evaluation results on Confident AI.\n",
       " \n",
       "✨👀 Looking for a place for your LLM test data to live 🏡❤️ ? Use <span style=\"color: #6a00ff; text-decoration-color: #6a00ff\">Confident AI</span> to get &amp; share testing reports, \n",
       "experiment with models/prompts, and catch regressions for your LLM system. Just run <span style=\"color: #008080; text-decoration-color: #008080\">'deepeval login'</span> in the CLI. \n",
       "\n",
       "</pre>\n"
      ],
      "text/plain": [
       "\n",
       "\u001b[38;2;5;245;141m✓\u001b[0m Tests finished 🎉! Run \u001b[1;32m'deepeval login'\u001b[0m to save and analyze evaluation results on Confident AI.\n",
       " \n",
       "✨👀 Looking for a place for your LLM test data to live 🏡❤️ ? Use \u001b[38;2;106;0;255mConfident AI\u001b[0m to get & share testing reports, \n",
       "experiment with models/prompts, and catch regressions for your LLM system. Just run \u001b[36m'deepeval login'\u001b[0m in the CLI. \n",
       "\n"
      ]
     },
     "metadata": {},
     "output_type": "display_data"
    },
    {
     "data": {
      "text/html": [
       "<pre style=\"white-space:pre;overflow-x:auto;line-height:normal;font-family:Menlo,'DejaVu Sans Mono',consolas,'Courier New',monospace\">\n",
       "<span style=\"color: #05f58d; text-decoration-color: #05f58d\">✓</span> Tests finished 🎉! Run <span style=\"color: #008000; text-decoration-color: #008000; font-weight: bold\">'deepeval login'</span> to save and analyze evaluation results on Confident AI.\n",
       " \n",
       "✨👀 Looking for a place for your LLM test data to live 🏡❤️ ? Use <span style=\"color: #6a00ff; text-decoration-color: #6a00ff\">Confident AI</span> to get &amp; share testing reports, \n",
       "experiment with models/prompts, and catch regressions for your LLM system. Just run <span style=\"color: #008080; text-decoration-color: #008080\">'deepeval login'</span> in the CLI. \n",
       "\n",
       "</pre>\n"
      ],
      "text/plain": [
       "\n",
       "\u001b[38;2;5;245;141m✓\u001b[0m Tests finished 🎉! Run \u001b[1;32m'deepeval login'\u001b[0m to save and analyze evaluation results on Confident AI.\n",
       " \n",
       "✨👀 Looking for a place for your LLM test data to live 🏡❤️ ? Use \u001b[38;2;106;0;255mConfident AI\u001b[0m to get & share testing reports, \n",
       "experiment with models/prompts, and catch regressions for your LLM system. Just run \u001b[36m'deepeval login'\u001b[0m in the CLI. \n",
       "\n"
      ]
     },
     "metadata": {},
     "output_type": "display_data"
    },
    {
     "data": {
      "text/html": [
       "<pre style=\"white-space:pre;overflow-x:auto;line-height:normal;font-family:Menlo,'DejaVu Sans Mono',consolas,'Courier New',monospace\">\n",
       "<span style=\"color: #05f58d; text-decoration-color: #05f58d\">✓</span> Tests finished 🎉! Run <span style=\"color: #008000; text-decoration-color: #008000; font-weight: bold\">'deepeval login'</span> to save and analyze evaluation results on Confident AI.\n",
       " \n",
       "✨👀 Looking for a place for your LLM test data to live 🏡❤️ ? Use <span style=\"color: #6a00ff; text-decoration-color: #6a00ff\">Confident AI</span> to get &amp; share testing reports, \n",
       "experiment with models/prompts, and catch regressions for your LLM system. Just run <span style=\"color: #008080; text-decoration-color: #008080\">'deepeval login'</span> in the CLI. \n",
       "\n",
       "</pre>\n"
      ],
      "text/plain": [
       "\n",
       "\u001b[38;2;5;245;141m✓\u001b[0m Tests finished 🎉! Run \u001b[1;32m'deepeval login'\u001b[0m to save and analyze evaluation results on Confident AI.\n",
       " \n",
       "✨👀 Looking for a place for your LLM test data to live 🏡❤️ ? Use \u001b[38;2;106;0;255mConfident AI\u001b[0m to get & share testing reports, \n",
       "experiment with models/prompts, and catch regressions for your LLM system. Just run \u001b[36m'deepeval login'\u001b[0m in the CLI. \n",
       "\n"
      ]
     },
     "metadata": {},
     "output_type": "display_data"
    },
    {
     "data": {
      "text/html": [
       "<pre style=\"white-space:pre;overflow-x:auto;line-height:normal;font-family:Menlo,'DejaVu Sans Mono',consolas,'Courier New',monospace\">\n",
       "<span style=\"color: #05f58d; text-decoration-color: #05f58d\">✓</span> Tests finished 🎉! Run <span style=\"color: #008000; text-decoration-color: #008000; font-weight: bold\">'deepeval login'</span> to save and analyze evaluation results on Confident AI.\n",
       " \n",
       "✨👀 Looking for a place for your LLM test data to live 🏡❤️ ? Use <span style=\"color: #6a00ff; text-decoration-color: #6a00ff\">Confident AI</span> to get &amp; share testing reports, \n",
       "experiment with models/prompts, and catch regressions for your LLM system. Just run <span style=\"color: #008080; text-decoration-color: #008080\">'deepeval login'</span> in the CLI. \n",
       "\n",
       "</pre>\n"
      ],
      "text/plain": [
       "\n",
       "\u001b[38;2;5;245;141m✓\u001b[0m Tests finished 🎉! Run \u001b[1;32m'deepeval login'\u001b[0m to save and analyze evaluation results on Confident AI.\n",
       " \n",
       "✨👀 Looking for a place for your LLM test data to live 🏡❤️ ? Use \u001b[38;2;106;0;255mConfident AI\u001b[0m to get & share testing reports, \n",
       "experiment with models/prompts, and catch regressions for your LLM system. Just run \u001b[36m'deepeval login'\u001b[0m in the CLI. \n",
       "\n"
      ]
     },
     "metadata": {},
     "output_type": "display_data"
    },
    {
     "name": "stdout",
     "output_type": "stream",
     "text": [
      "\n",
      "            Query: Care este vârsta legală minimă pentru încheierea unei căsătorii în România?\n",
      "            Expected: Căsătoria se poate încheia dacă viitorii soți au împlinit vârsta de 18 ani.\n",
      "            Actual: În România, vârsta legală minimă pentru începerea unei căsătorii este de 18 ani. În anumite circumstanțe speciale, persoanele sub 16 ani pot fi căsătorite cu consimțământul părinților sau tutorelui lor și cu o autorizare judecătorească.\n",
      "            Relevancy Score: [{'metric': 'Answer Relevancy', 'success': True, 'score': 1.0, 'reason': 'The score is 1.00 because the response perfectly addresses the question about the legal minimum age for marriage in Romania without any irrelevant information. Great job on staying focused and relevant!'}]\n",
      "            Recall Score: [{'metric': 'Contextual Recall', 'success': True, 'score': 1.0, 'reason': 'The score is 1.00 because the expected output perfectly matches the information from the 2nd node in the retrieval context, demonstrating a flawless alignment.'}]\n",
      "            Faithfulness Score: [{'metric': 'Faithfulness', 'success': False, 'score': 0.6666666666666666, 'reason': 'The score is 0.67 because the actual output incorrectly claims the minimum legal age for marriage is 16 years, while the retrieval context clearly states it is 18 years.'}]\n",
      "            Understanding Score: [{'metric': 'Understanding (GEval)', 'success': False, 'score': 0.6563750723995835, 'reason': 'The response provides clear information about the minimum legal age for marriage in Romania, but it includes additional details about exceptions that may confuse someone without legal knowledge.'}]\n",
      "            \n",
      "Using model: rollama2-7b-instruct\n"
     ]
    },
    {
     "data": {
      "text/html": [
       "<pre style=\"white-space:pre;overflow-x:auto;line-height:normal;font-family:Menlo,'DejaVu Sans Mono',consolas,'Courier New',monospace\">\n",
       "<span style=\"color: #05f58d; text-decoration-color: #05f58d\">✓</span> Tests finished 🎉! Run <span style=\"color: #008000; text-decoration-color: #008000; font-weight: bold\">'deepeval login'</span> to save and analyze evaluation results on Confident AI.\n",
       " \n",
       "✨👀 Looking for a place for your LLM test data to live 🏡❤️ ? Use <span style=\"color: #6a00ff; text-decoration-color: #6a00ff\">Confident AI</span> to get &amp; share testing reports, \n",
       "experiment with models/prompts, and catch regressions for your LLM system. Just run <span style=\"color: #008080; text-decoration-color: #008080\">'deepeval login'</span> in the CLI. \n",
       "\n",
       "</pre>\n"
      ],
      "text/plain": [
       "\n",
       "\u001b[38;2;5;245;141m✓\u001b[0m Tests finished 🎉! Run \u001b[1;32m'deepeval login'\u001b[0m to save and analyze evaluation results on Confident AI.\n",
       " \n",
       "✨👀 Looking for a place for your LLM test data to live 🏡❤️ ? Use \u001b[38;2;106;0;255mConfident AI\u001b[0m to get & share testing reports, \n",
       "experiment with models/prompts, and catch regressions for your LLM system. Just run \u001b[36m'deepeval login'\u001b[0m in the CLI. \n",
       "\n"
      ]
     },
     "metadata": {},
     "output_type": "display_data"
    },
    {
     "data": {
      "text/html": [
       "<pre style=\"white-space:pre;overflow-x:auto;line-height:normal;font-family:Menlo,'DejaVu Sans Mono',consolas,'Courier New',monospace\">\n",
       "<span style=\"color: #05f58d; text-decoration-color: #05f58d\">✓</span> Tests finished 🎉! Run <span style=\"color: #008000; text-decoration-color: #008000; font-weight: bold\">'deepeval login'</span> to save and analyze evaluation results on Confident AI.\n",
       " \n",
       "✨👀 Looking for a place for your LLM test data to live 🏡❤️ ? Use <span style=\"color: #6a00ff; text-decoration-color: #6a00ff\">Confident AI</span> to get &amp; share testing reports, \n",
       "experiment with models/prompts, and catch regressions for your LLM system. Just run <span style=\"color: #008080; text-decoration-color: #008080\">'deepeval login'</span> in the CLI. \n",
       "\n",
       "</pre>\n"
      ],
      "text/plain": [
       "\n",
       "\u001b[38;2;5;245;141m✓\u001b[0m Tests finished 🎉! Run \u001b[1;32m'deepeval login'\u001b[0m to save and analyze evaluation results on Confident AI.\n",
       " \n",
       "✨👀 Looking for a place for your LLM test data to live 🏡❤️ ? Use \u001b[38;2;106;0;255mConfident AI\u001b[0m to get & share testing reports, \n",
       "experiment with models/prompts, and catch regressions for your LLM system. Just run \u001b[36m'deepeval login'\u001b[0m in the CLI. \n",
       "\n"
      ]
     },
     "metadata": {},
     "output_type": "display_data"
    },
    {
     "data": {
      "text/html": [
       "<pre style=\"white-space:pre;overflow-x:auto;line-height:normal;font-family:Menlo,'DejaVu Sans Mono',consolas,'Courier New',monospace\">\n",
       "<span style=\"color: #05f58d; text-decoration-color: #05f58d\">✓</span> Tests finished 🎉! Run <span style=\"color: #008000; text-decoration-color: #008000; font-weight: bold\">'deepeval login'</span> to save and analyze evaluation results on Confident AI.\n",
       " \n",
       "✨👀 Looking for a place for your LLM test data to live 🏡❤️ ? Use <span style=\"color: #6a00ff; text-decoration-color: #6a00ff\">Confident AI</span> to get &amp; share testing reports, \n",
       "experiment with models/prompts, and catch regressions for your LLM system. Just run <span style=\"color: #008080; text-decoration-color: #008080\">'deepeval login'</span> in the CLI. \n",
       "\n",
       "</pre>\n"
      ],
      "text/plain": [
       "\n",
       "\u001b[38;2;5;245;141m✓\u001b[0m Tests finished 🎉! Run \u001b[1;32m'deepeval login'\u001b[0m to save and analyze evaluation results on Confident AI.\n",
       " \n",
       "✨👀 Looking for a place for your LLM test data to live 🏡❤️ ? Use \u001b[38;2;106;0;255mConfident AI\u001b[0m to get & share testing reports, \n",
       "experiment with models/prompts, and catch regressions for your LLM system. Just run \u001b[36m'deepeval login'\u001b[0m in the CLI. \n",
       "\n"
      ]
     },
     "metadata": {},
     "output_type": "display_data"
    },
    {
     "data": {
      "text/html": [
       "<pre style=\"white-space:pre;overflow-x:auto;line-height:normal;font-family:Menlo,'DejaVu Sans Mono',consolas,'Courier New',monospace\">\n",
       "<span style=\"color: #05f58d; text-decoration-color: #05f58d\">✓</span> Tests finished 🎉! Run <span style=\"color: #008000; text-decoration-color: #008000; font-weight: bold\">'deepeval login'</span> to save and analyze evaluation results on Confident AI.\n",
       " \n",
       "✨👀 Looking for a place for your LLM test data to live 🏡❤️ ? Use <span style=\"color: #6a00ff; text-decoration-color: #6a00ff\">Confident AI</span> to get &amp; share testing reports, \n",
       "experiment with models/prompts, and catch regressions for your LLM system. Just run <span style=\"color: #008080; text-decoration-color: #008080\">'deepeval login'</span> in the CLI. \n",
       "\n",
       "</pre>\n"
      ],
      "text/plain": [
       "\n",
       "\u001b[38;2;5;245;141m✓\u001b[0m Tests finished 🎉! Run \u001b[1;32m'deepeval login'\u001b[0m to save and analyze evaluation results on Confident AI.\n",
       " \n",
       "✨👀 Looking for a place for your LLM test data to live 🏡❤️ ? Use \u001b[38;2;106;0;255mConfident AI\u001b[0m to get & share testing reports, \n",
       "experiment with models/prompts, and catch regressions for your LLM system. Just run \u001b[36m'deepeval login'\u001b[0m in the CLI. \n",
       "\n"
      ]
     },
     "metadata": {},
     "output_type": "display_data"
    },
    {
     "name": "stdout",
     "output_type": "stream",
     "text": [
      "\n",
      "            Query: Care este vârsta legală minimă pentru încheierea unei căsătorii în România?\n",
      "            Expected: Căsătoria se poate încheia dacă viitorii soți au împlinit vârsta de 18 ani.\n",
      "            Actual: \n",
      "În România, vârsta minimă legală pentru o căsătorie este de 18 ani. Dacă unul dintre viitori soți are peste 16 ani, dar sub 18 ani, este necesar consimțământul tutorelui sau al părinților (dacă ambii sunt decedați). Cu toate acestea, în cazurile speciale în care un viitor soț are între 16 și 18 ani, se poate căsători cu consimțământul unei persoane cu autoritatea părintească sau a tutorelui. Dacă este vorba despre o vârstă sub 16 ani, o căsătorie fictivă nu este permisă. \n",
      "            Relevancy Score: [{'metric': 'Answer Relevancy', 'success': True, 'score': 0.8, 'reason': 'The score is 0.80 because the response accurately addresses the question about the legal minimum age for marriage in Romania. However, the inclusion of a statement about fictitious marriages, which is not directly related to the main query, slightly detracts from the overall relevance.'}]\n",
      "            Recall Score: [{'metric': 'Contextual Recall', 'success': True, 'score': 1.0, 'reason': 'The score is 1.00 because the expected output perfectly matches the information from the 2nd node in the retrieval context, demonstrating a flawless alignment.'}]\n",
      "            Faithfulness Score: [{'metric': 'Faithfulness', 'success': False, 'score': 0.6, 'reason': \"The score is 0.60 because the actual output incorrectly states that the minimum legal age for marriage in Romania is 18 years, while the retrieval context indicates that marriage can be concluded at that age, leading to confusion. Additionally, the claim about needing a guardian's consent when both parents are deceased is unsupported by the retrieval context, which does not address this scenario.\"}]\n",
      "            Understanding Score: [{'metric': 'Understanding (GEval)', 'success': False, 'score': 0.5626476106026022, 'reason': 'While the actual output provides the legal age for marriage, it includes excessive details that may confuse someone without legal knowledge, making it less clear and accessible.'}]\n",
      "            \n",
      "Finished tests for model: rollama2-7b-instruct\n",
      "\n",
      "==================================================\n",
      "\n",
      "\n",
      "Running tests for query: În ce condiții poate fi încheiat un contract de vânzare-cumpărare și care sunt excepțiile de la forma scrisă?\n",
      "Using model: rollama3-8b-instruct\n"
     ]
    },
    {
     "data": {
      "text/html": [
       "<pre style=\"white-space:pre;overflow-x:auto;line-height:normal;font-family:Menlo,'DejaVu Sans Mono',consolas,'Courier New',monospace\">\n",
       "<span style=\"color: #05f58d; text-decoration-color: #05f58d\">✓</span> Tests finished 🎉! Run <span style=\"color: #008000; text-decoration-color: #008000; font-weight: bold\">'deepeval login'</span> to save and analyze evaluation results on Confident AI.\n",
       " \n",
       "✨👀 Looking for a place for your LLM test data to live 🏡❤️ ? Use <span style=\"color: #6a00ff; text-decoration-color: #6a00ff\">Confident AI</span> to get &amp; share testing reports, \n",
       "experiment with models/prompts, and catch regressions for your LLM system. Just run <span style=\"color: #008080; text-decoration-color: #008080\">'deepeval login'</span> in the CLI. \n",
       "\n",
       "</pre>\n"
      ],
      "text/plain": [
       "\n",
       "\u001b[38;2;5;245;141m✓\u001b[0m Tests finished 🎉! Run \u001b[1;32m'deepeval login'\u001b[0m to save and analyze evaluation results on Confident AI.\n",
       " \n",
       "✨👀 Looking for a place for your LLM test data to live 🏡❤️ ? Use \u001b[38;2;106;0;255mConfident AI\u001b[0m to get & share testing reports, \n",
       "experiment with models/prompts, and catch regressions for your LLM system. Just run \u001b[36m'deepeval login'\u001b[0m in the CLI. \n",
       "\n"
      ]
     },
     "metadata": {},
     "output_type": "display_data"
    },
    {
     "data": {
      "text/html": [
       "<pre style=\"white-space:pre;overflow-x:auto;line-height:normal;font-family:Menlo,'DejaVu Sans Mono',consolas,'Courier New',monospace\">\n",
       "<span style=\"color: #05f58d; text-decoration-color: #05f58d\">✓</span> Tests finished 🎉! Run <span style=\"color: #008000; text-decoration-color: #008000; font-weight: bold\">'deepeval login'</span> to save and analyze evaluation results on Confident AI.\n",
       " \n",
       "✨👀 Looking for a place for your LLM test data to live 🏡❤️ ? Use <span style=\"color: #6a00ff; text-decoration-color: #6a00ff\">Confident AI</span> to get &amp; share testing reports, \n",
       "experiment with models/prompts, and catch regressions for your LLM system. Just run <span style=\"color: #008080; text-decoration-color: #008080\">'deepeval login'</span> in the CLI. \n",
       "\n",
       "</pre>\n"
      ],
      "text/plain": [
       "\n",
       "\u001b[38;2;5;245;141m✓\u001b[0m Tests finished 🎉! Run \u001b[1;32m'deepeval login'\u001b[0m to save and analyze evaluation results on Confident AI.\n",
       " \n",
       "✨👀 Looking for a place for your LLM test data to live 🏡❤️ ? Use \u001b[38;2;106;0;255mConfident AI\u001b[0m to get & share testing reports, \n",
       "experiment with models/prompts, and catch regressions for your LLM system. Just run \u001b[36m'deepeval login'\u001b[0m in the CLI. \n",
       "\n"
      ]
     },
     "metadata": {},
     "output_type": "display_data"
    },
    {
     "data": {
      "text/html": [
       "<pre style=\"white-space:pre;overflow-x:auto;line-height:normal;font-family:Menlo,'DejaVu Sans Mono',consolas,'Courier New',monospace\">\n",
       "<span style=\"color: #05f58d; text-decoration-color: #05f58d\">✓</span> Tests finished 🎉! Run <span style=\"color: #008000; text-decoration-color: #008000; font-weight: bold\">'deepeval login'</span> to save and analyze evaluation results on Confident AI.\n",
       " \n",
       "✨👀 Looking for a place for your LLM test data to live 🏡❤️ ? Use <span style=\"color: #6a00ff; text-decoration-color: #6a00ff\">Confident AI</span> to get &amp; share testing reports, \n",
       "experiment with models/prompts, and catch regressions for your LLM system. Just run <span style=\"color: #008080; text-decoration-color: #008080\">'deepeval login'</span> in the CLI. \n",
       "\n",
       "</pre>\n"
      ],
      "text/plain": [
       "\n",
       "\u001b[38;2;5;245;141m✓\u001b[0m Tests finished 🎉! Run \u001b[1;32m'deepeval login'\u001b[0m to save and analyze evaluation results on Confident AI.\n",
       " \n",
       "✨👀 Looking for a place for your LLM test data to live 🏡❤️ ? Use \u001b[38;2;106;0;255mConfident AI\u001b[0m to get & share testing reports, \n",
       "experiment with models/prompts, and catch regressions for your LLM system. Just run \u001b[36m'deepeval login'\u001b[0m in the CLI. \n",
       "\n"
      ]
     },
     "metadata": {},
     "output_type": "display_data"
    },
    {
     "data": {
      "text/html": [
       "<pre style=\"white-space:pre;overflow-x:auto;line-height:normal;font-family:Menlo,'DejaVu Sans Mono',consolas,'Courier New',monospace\">\n",
       "<span style=\"color: #05f58d; text-decoration-color: #05f58d\">✓</span> Tests finished 🎉! Run <span style=\"color: #008000; text-decoration-color: #008000; font-weight: bold\">'deepeval login'</span> to save and analyze evaluation results on Confident AI.\n",
       " \n",
       "✨👀 Looking for a place for your LLM test data to live 🏡❤️ ? Use <span style=\"color: #6a00ff; text-decoration-color: #6a00ff\">Confident AI</span> to get &amp; share testing reports, \n",
       "experiment with models/prompts, and catch regressions for your LLM system. Just run <span style=\"color: #008080; text-decoration-color: #008080\">'deepeval login'</span> in the CLI. \n",
       "\n",
       "</pre>\n"
      ],
      "text/plain": [
       "\n",
       "\u001b[38;2;5;245;141m✓\u001b[0m Tests finished 🎉! Run \u001b[1;32m'deepeval login'\u001b[0m to save and analyze evaluation results on Confident AI.\n",
       " \n",
       "✨👀 Looking for a place for your LLM test data to live 🏡❤️ ? Use \u001b[38;2;106;0;255mConfident AI\u001b[0m to get & share testing reports, \n",
       "experiment with models/prompts, and catch regressions for your LLM system. Just run \u001b[36m'deepeval login'\u001b[0m in the CLI. \n",
       "\n"
      ]
     },
     "metadata": {},
     "output_type": "display_data"
    },
    {
     "name": "stdout",
     "output_type": "stream",
     "text": [
      "\n",
      "            Query: În ce condiții poate fi încheiat un contract de vânzare-cumpărare și care sunt excepțiile de la forma scrisă?\n",
      "            Expected: Contractul de vânzare-cumpărare se încheie prin acordul părților asupra lucrului și prețului. Contractul trebuie să fie în formă scrisă pentru bunurile imobile, pentru bunurile mobile cu valoarea peste o anumită sumă stabilită prin lege și pentru bunurile viitoare. Forma scrisă nu este obligatorie pentru bunurile mobile de valoare mică, pentru vânzările în cadrul activităților comerciale curente cu plată pe loc, sau când legea prevede expres alte forme de încheierie.\n",
      "            Actual: În conformitate cu legile privind contractele de vânzare-cumpărare, este necesar ca acestea să se încheie în formă scrisă. Excepțiile la această regulă sunt următoarele:\n",
      "- Contractul poate fi verbal dacă părțile au o puternică tradiție de a se angaja într-un astfel de contract.\n",
      "- Contractul poate fi neobișnuit, dacă nu trebuie să fie în formă scrisă din cauza sancțiunilor legale prevăzute în legea privind acest tip de contract.\n",
      "            Relevancy Score: [{'metric': 'Answer Relevancy', 'success': True, 'score': 1.0, 'reason': 'The score is 1.00 because the response perfectly addresses the question about the conditions for concluding a sales contract and exceptions to the written form, without any irrelevant information. Great job!'}]\n",
      "            Recall Score: [{'metric': 'Contextual Recall', 'success': False, 'score': 0.3333333333333333, 'reason': 'The score is 0.33 because only the requirement for a written form for certain goods (sentence 2) aligns with the 1st node in the retrieval context. However, the agreement on object and price (sentence 1) and exceptions for small value goods (sentence 3) are not supported by any nodes in the retrieval context.'}]\n",
      "            Faithfulness Score: [{'metric': 'Faithfulness', 'success': False, 'score': 0.3333333333333333, 'reason': 'The score is 0.33 because the actual output incorrectly asserts that contracts can be verbal based on tradition, while the retrieval context specifies that certain contracts must be in written form, leading to a contradiction.'}]\n",
      "            Understanding Score: [{'metric': 'Understanding (GEval)', 'success': False, 'score': 0.41755042283725824, 'reason': 'The response provides some legal information but lacks clarity and accessibility for someone without legal knowledge. It does not clearly outline what the user can or must do regarding the conditions for a sale contract.'}]\n",
      "            \n",
      "Using model: rollama2-7b-instruct\n"
     ]
    },
    {
     "data": {
      "text/html": [
       "<pre style=\"white-space:pre;overflow-x:auto;line-height:normal;font-family:Menlo,'DejaVu Sans Mono',consolas,'Courier New',monospace\">\n",
       "<span style=\"color: #05f58d; text-decoration-color: #05f58d\">✓</span> Tests finished 🎉! Run <span style=\"color: #008000; text-decoration-color: #008000; font-weight: bold\">'deepeval login'</span> to save and analyze evaluation results on Confident AI.\n",
       " \n",
       "✨👀 Looking for a place for your LLM test data to live 🏡❤️ ? Use <span style=\"color: #6a00ff; text-decoration-color: #6a00ff\">Confident AI</span> to get &amp; share testing reports, \n",
       "experiment with models/prompts, and catch regressions for your LLM system. Just run <span style=\"color: #008080; text-decoration-color: #008080\">'deepeval login'</span> in the CLI. \n",
       "\n",
       "</pre>\n"
      ],
      "text/plain": [
       "\n",
       "\u001b[38;2;5;245;141m✓\u001b[0m Tests finished 🎉! Run \u001b[1;32m'deepeval login'\u001b[0m to save and analyze evaluation results on Confident AI.\n",
       " \n",
       "✨👀 Looking for a place for your LLM test data to live 🏡❤️ ? Use \u001b[38;2;106;0;255mConfident AI\u001b[0m to get & share testing reports, \n",
       "experiment with models/prompts, and catch regressions for your LLM system. Just run \u001b[36m'deepeval login'\u001b[0m in the CLI. \n",
       "\n"
      ]
     },
     "metadata": {},
     "output_type": "display_data"
    },
    {
     "data": {
      "text/html": [
       "<pre style=\"white-space:pre;overflow-x:auto;line-height:normal;font-family:Menlo,'DejaVu Sans Mono',consolas,'Courier New',monospace\">\n",
       "<span style=\"color: #05f58d; text-decoration-color: #05f58d\">✓</span> Tests finished 🎉! Run <span style=\"color: #008000; text-decoration-color: #008000; font-weight: bold\">'deepeval login'</span> to save and analyze evaluation results on Confident AI.\n",
       " \n",
       "✨👀 Looking for a place for your LLM test data to live 🏡❤️ ? Use <span style=\"color: #6a00ff; text-decoration-color: #6a00ff\">Confident AI</span> to get &amp; share testing reports, \n",
       "experiment with models/prompts, and catch regressions for your LLM system. Just run <span style=\"color: #008080; text-decoration-color: #008080\">'deepeval login'</span> in the CLI. \n",
       "\n",
       "</pre>\n"
      ],
      "text/plain": [
       "\n",
       "\u001b[38;2;5;245;141m✓\u001b[0m Tests finished 🎉! Run \u001b[1;32m'deepeval login'\u001b[0m to save and analyze evaluation results on Confident AI.\n",
       " \n",
       "✨👀 Looking for a place for your LLM test data to live 🏡❤️ ? Use \u001b[38;2;106;0;255mConfident AI\u001b[0m to get & share testing reports, \n",
       "experiment with models/prompts, and catch regressions for your LLM system. Just run \u001b[36m'deepeval login'\u001b[0m in the CLI. \n",
       "\n"
      ]
     },
     "metadata": {},
     "output_type": "display_data"
    },
    {
     "data": {
      "text/html": [
       "<pre style=\"white-space:pre;overflow-x:auto;line-height:normal;font-family:Menlo,'DejaVu Sans Mono',consolas,'Courier New',monospace\">\n",
       "<span style=\"color: #05f58d; text-decoration-color: #05f58d\">✓</span> Tests finished 🎉! Run <span style=\"color: #008000; text-decoration-color: #008000; font-weight: bold\">'deepeval login'</span> to save and analyze evaluation results on Confident AI.\n",
       " \n",
       "✨👀 Looking for a place for your LLM test data to live 🏡❤️ ? Use <span style=\"color: #6a00ff; text-decoration-color: #6a00ff\">Confident AI</span> to get &amp; share testing reports, \n",
       "experiment with models/prompts, and catch regressions for your LLM system. Just run <span style=\"color: #008080; text-decoration-color: #008080\">'deepeval login'</span> in the CLI. \n",
       "\n",
       "</pre>\n"
      ],
      "text/plain": [
       "\n",
       "\u001b[38;2;5;245;141m✓\u001b[0m Tests finished 🎉! Run \u001b[1;32m'deepeval login'\u001b[0m to save and analyze evaluation results on Confident AI.\n",
       " \n",
       "✨👀 Looking for a place for your LLM test data to live 🏡❤️ ? Use \u001b[38;2;106;0;255mConfident AI\u001b[0m to get & share testing reports, \n",
       "experiment with models/prompts, and catch regressions for your LLM system. Just run \u001b[36m'deepeval login'\u001b[0m in the CLI. \n",
       "\n"
      ]
     },
     "metadata": {},
     "output_type": "display_data"
    },
    {
     "data": {
      "text/html": [
       "<pre style=\"white-space:pre;overflow-x:auto;line-height:normal;font-family:Menlo,'DejaVu Sans Mono',consolas,'Courier New',monospace\">\n",
       "<span style=\"color: #05f58d; text-decoration-color: #05f58d\">✓</span> Tests finished 🎉! Run <span style=\"color: #008000; text-decoration-color: #008000; font-weight: bold\">'deepeval login'</span> to save and analyze evaluation results on Confident AI.\n",
       " \n",
       "✨👀 Looking for a place for your LLM test data to live 🏡❤️ ? Use <span style=\"color: #6a00ff; text-decoration-color: #6a00ff\">Confident AI</span> to get &amp; share testing reports, \n",
       "experiment with models/prompts, and catch regressions for your LLM system. Just run <span style=\"color: #008080; text-decoration-color: #008080\">'deepeval login'</span> in the CLI. \n",
       "\n",
       "</pre>\n"
      ],
      "text/plain": [
       "\n",
       "\u001b[38;2;5;245;141m✓\u001b[0m Tests finished 🎉! Run \u001b[1;32m'deepeval login'\u001b[0m to save and analyze evaluation results on Confident AI.\n",
       " \n",
       "✨👀 Looking for a place for your LLM test data to live 🏡❤️ ? Use \u001b[38;2;106;0;255mConfident AI\u001b[0m to get & share testing reports, \n",
       "experiment with models/prompts, and catch regressions for your LLM system. Just run \u001b[36m'deepeval login'\u001b[0m in the CLI. \n",
       "\n"
      ]
     },
     "metadata": {},
     "output_type": "display_data"
    },
    {
     "name": "stdout",
     "output_type": "stream",
     "text": [
      "\n",
      "            Query: În ce condiții poate fi încheiat un contract de vânzare-cumpărare și care sunt excepțiile de la forma scrisă?\n",
      "            Expected: Contractul de vânzare-cumpărare se încheie prin acordul părților asupra lucrului și prețului. Contractul trebuie să fie în formă scrisă pentru bunurile imobile, pentru bunurile mobile cu valoarea peste o anumită sumă stabilită prin lege și pentru bunurile viitoare. Forma scrisă nu este obligatorie pentru bunurile mobile de valoare mică, pentru vânzările în cadrul activităților comerciale curente cu plată pe loc, sau când legea prevede expres alte forme de încheierie.\n",
      "            Actual: Contractele de vânzare-cumpărare pot fi încheiate atât verbal (vorbit), cât și scris (scris). Contractul este valabil numai dacă ambele părți au consimțit la acesta. În general, formularul scris nu este obligatoriu; cu toate acestea, există unele excepții:\n",
      "\n",
      "- Contract de vânzare-cumpărare și contract de asociere în participație (asociere): aceste contracte trebuie să fie întotdeauna scrise.\n",
      "\n",
      "- Contractul de vânzare-cumpărare a unei case care are drepturi reale: formularul scris este obligatoriu, iar forma scrisă trebuie să îndeplinească anumite cerințe pentru acest tip specific de contract.\n",
      "\n",
      "- Contract de vânzare-cumpărare în caz de urgență sau când părțile sunt un soț și un soț (sot si sotie): formularul scris nu este obligatoriu. Cu toate acestea, dacă se alege această formă, va trebui să îndeplinească cerințele de formalizare pentru acest tip specific de contract.\n",
      "\n",
      "În toate celelalte cazuri, în care nu este necesară forma scrisă, puteți încheia un contract verbal (vorbit) atât timp cât ambele părți sunt de acord asupra termenilor și condițiilor. Este important să rețineți că, chiar dacă ați convenit asupra unei înțelegeri verbale, este întotdeauna recomandabil să înregistrați contractul scris pentru a preveni orice neînțelegeri sau conflicte de mai târziu. \n",
      "            Relevancy Score: [{'metric': 'Answer Relevancy', 'success': True, 'score': 0.9166666666666666, 'reason': 'The score is 0.92 because the response effectively addresses the conditions and exceptions of contract formation, providing clear and relevant information. However, the mention of registration as a precautionary measure slightly detracts from the focus, preventing a perfect score.'}]\n",
      "            Recall Score: [{'metric': 'Contextual Recall', 'success': False, 'score': 0.3333333333333333, 'reason': 'The score is 0.33 because only the requirement for a written form for certain goods (node 1 in retrieval context) aligns with the expected output, while the agreement on object and price, and exceptions for small value goods and commercial activities, are not supported by the retrieval context.'}]\n",
      "            Faithfulness Score: [{'metric': 'Faithfulness', 'success': False, 'score': 0.5, 'reason': 'The score is 0.50 because the actual output contradicts the retrieval context by stating that contracts can be concluded verbally, while the context specifies that written form is necessary for certain contracts, including sales and partnership contracts, and for contracts involving real rights.'}]\n",
      "            Understanding Score: [{'metric': 'Understanding (GEval)', 'success': False, 'score': 0.5935222131001711, 'reason': 'The response provides some clarity on contract conditions but is somewhat complex for a layperson. It outlines what is allowed and required, yet lacks the straightforwardness of the expected output.'}]\n",
      "            \n",
      "Finished tests for model: rollama2-7b-instruct\n",
      "\n",
      "==================================================\n",
      "\n",
      "\n",
      "Running tests for query: Care sunt drepturile și obligațiile părților în cazul unei concedieri individuale pentru motive care nu țin de persoana salariatului?\n",
      "Using model: rollama3-8b-instruct\n"
     ]
    },
    {
     "data": {
      "text/html": [
       "<pre style=\"white-space:pre;overflow-x:auto;line-height:normal;font-family:Menlo,'DejaVu Sans Mono',consolas,'Courier New',monospace\">\n",
       "<span style=\"color: #05f58d; text-decoration-color: #05f58d\">✓</span> Tests finished 🎉! Run <span style=\"color: #008000; text-decoration-color: #008000; font-weight: bold\">'deepeval login'</span> to save and analyze evaluation results on Confident AI.\n",
       " \n",
       "✨👀 Looking for a place for your LLM test data to live 🏡❤️ ? Use <span style=\"color: #6a00ff; text-decoration-color: #6a00ff\">Confident AI</span> to get &amp; share testing reports, \n",
       "experiment with models/prompts, and catch regressions for your LLM system. Just run <span style=\"color: #008080; text-decoration-color: #008080\">'deepeval login'</span> in the CLI. \n",
       "\n",
       "</pre>\n"
      ],
      "text/plain": [
       "\n",
       "\u001b[38;2;5;245;141m✓\u001b[0m Tests finished 🎉! Run \u001b[1;32m'deepeval login'\u001b[0m to save and analyze evaluation results on Confident AI.\n",
       " \n",
       "✨👀 Looking for a place for your LLM test data to live 🏡❤️ ? Use \u001b[38;2;106;0;255mConfident AI\u001b[0m to get & share testing reports, \n",
       "experiment with models/prompts, and catch regressions for your LLM system. Just run \u001b[36m'deepeval login'\u001b[0m in the CLI. \n",
       "\n"
      ]
     },
     "metadata": {},
     "output_type": "display_data"
    },
    {
     "data": {
      "text/html": [
       "<pre style=\"white-space:pre;overflow-x:auto;line-height:normal;font-family:Menlo,'DejaVu Sans Mono',consolas,'Courier New',monospace\">\n",
       "<span style=\"color: #05f58d; text-decoration-color: #05f58d\">✓</span> Tests finished 🎉! Run <span style=\"color: #008000; text-decoration-color: #008000; font-weight: bold\">'deepeval login'</span> to save and analyze evaluation results on Confident AI.\n",
       " \n",
       "✨👀 Looking for a place for your LLM test data to live 🏡❤️ ? Use <span style=\"color: #6a00ff; text-decoration-color: #6a00ff\">Confident AI</span> to get &amp; share testing reports, \n",
       "experiment with models/prompts, and catch regressions for your LLM system. Just run <span style=\"color: #008080; text-decoration-color: #008080\">'deepeval login'</span> in the CLI. \n",
       "\n",
       "</pre>\n"
      ],
      "text/plain": [
       "\n",
       "\u001b[38;2;5;245;141m✓\u001b[0m Tests finished 🎉! Run \u001b[1;32m'deepeval login'\u001b[0m to save and analyze evaluation results on Confident AI.\n",
       " \n",
       "✨👀 Looking for a place for your LLM test data to live 🏡❤️ ? Use \u001b[38;2;106;0;255mConfident AI\u001b[0m to get & share testing reports, \n",
       "experiment with models/prompts, and catch regressions for your LLM system. Just run \u001b[36m'deepeval login'\u001b[0m in the CLI. \n",
       "\n"
      ]
     },
     "metadata": {},
     "output_type": "display_data"
    },
    {
     "data": {
      "text/html": [
       "<pre style=\"white-space:pre;overflow-x:auto;line-height:normal;font-family:Menlo,'DejaVu Sans Mono',consolas,'Courier New',monospace\">\n",
       "<span style=\"color: #05f58d; text-decoration-color: #05f58d\">✓</span> Tests finished 🎉! Run <span style=\"color: #008000; text-decoration-color: #008000; font-weight: bold\">'deepeval login'</span> to save and analyze evaluation results on Confident AI.\n",
       " \n",
       "✨👀 Looking for a place for your LLM test data to live 🏡❤️ ? Use <span style=\"color: #6a00ff; text-decoration-color: #6a00ff\">Confident AI</span> to get &amp; share testing reports, \n",
       "experiment with models/prompts, and catch regressions for your LLM system. Just run <span style=\"color: #008080; text-decoration-color: #008080\">'deepeval login'</span> in the CLI. \n",
       "\n",
       "</pre>\n"
      ],
      "text/plain": [
       "\n",
       "\u001b[38;2;5;245;141m✓\u001b[0m Tests finished 🎉! Run \u001b[1;32m'deepeval login'\u001b[0m to save and analyze evaluation results on Confident AI.\n",
       " \n",
       "✨👀 Looking for a place for your LLM test data to live 🏡❤️ ? Use \u001b[38;2;106;0;255mConfident AI\u001b[0m to get & share testing reports, \n",
       "experiment with models/prompts, and catch regressions for your LLM system. Just run \u001b[36m'deepeval login'\u001b[0m in the CLI. \n",
       "\n"
      ]
     },
     "metadata": {},
     "output_type": "display_data"
    },
    {
     "data": {
      "text/html": [
       "<pre style=\"white-space:pre;overflow-x:auto;line-height:normal;font-family:Menlo,'DejaVu Sans Mono',consolas,'Courier New',monospace\">\n",
       "<span style=\"color: #05f58d; text-decoration-color: #05f58d\">✓</span> Tests finished 🎉! Run <span style=\"color: #008000; text-decoration-color: #008000; font-weight: bold\">'deepeval login'</span> to save and analyze evaluation results on Confident AI.\n",
       " \n",
       "✨👀 Looking for a place for your LLM test data to live 🏡❤️ ? Use <span style=\"color: #6a00ff; text-decoration-color: #6a00ff\">Confident AI</span> to get &amp; share testing reports, \n",
       "experiment with models/prompts, and catch regressions for your LLM system. Just run <span style=\"color: #008080; text-decoration-color: #008080\">'deepeval login'</span> in the CLI. \n",
       "\n",
       "</pre>\n"
      ],
      "text/plain": [
       "\n",
       "\u001b[38;2;5;245;141m✓\u001b[0m Tests finished 🎉! Run \u001b[1;32m'deepeval login'\u001b[0m to save and analyze evaluation results on Confident AI.\n",
       " \n",
       "✨👀 Looking for a place for your LLM test data to live 🏡❤️ ? Use \u001b[38;2;106;0;255mConfident AI\u001b[0m to get & share testing reports, \n",
       "experiment with models/prompts, and catch regressions for your LLM system. Just run \u001b[36m'deepeval login'\u001b[0m in the CLI. \n",
       "\n"
      ]
     },
     "metadata": {},
     "output_type": "display_data"
    },
    {
     "name": "stdout",
     "output_type": "stream",
     "text": [
      "\n",
      "            Query: Care sunt drepturile și obligațiile părților în cazul unei concedieri individuale pentru motive care nu țin de persoana salariatului?\n",
      "            Expected: În cazul concedierii pentru motive care nu țin de persoana salariatului, angajatorul trebuie să respecte proceduri stricte și să asigure drepturi specifice salariatului. Concedierea este permisă doar pentru desființarea locului de muncă din motive economice, tehnologice, structurale sau similare. Angajatorul are obligația să acorde un preaviz de minimum 20 de zile lucrătoare și să respecte criterii obiective de selecție (performanțe profesionale, vechime, sarcini de întreținere).\n",
      "            Actual: Într-o concediere individuală pentru motive care nu țin de persoana salariatului, angajatorul poate înceta contractul individual de muncă din cauza desființării locației de muncă ocupate de salariat sau a altor motive fără legătură cu persoana acestuia. Desființarea locației trebuie să fie efectivă și să aibă o cauză reală, serioasă. Salariatiile beneficiaza de protectie in cazul transferului intreprinderii, al unitatii sau al unor parti ale acesteia catre alt angajator, conform legii. Drepturile si obligatiunile cedentului, care decurg dintr-un contract sau raport de munca existent la data transferului, vor fi transferate integral cesionarului. Transferul intreprinderii, al unitatii sau al unor parti ale acesteia nu poate constitui motiv de concediere individuala sau colectiva a salariatilor de catre cedent ori de catre cesionar.\n",
      "\n",
      "Notă: Pentru informații mai detaliate, consultați legislația aplicabilă.\n",
      "            Relevancy Score: [{'metric': 'Answer Relevancy', 'success': True, 'score': 0.8333333333333334, 'reason': 'The score is 0.83 because the response effectively addresses the rights and obligations of parties in individual dismissals, focusing on the core aspects of the query. However, the suggestion to consult applicable legislation, while informative, slightly detracts from the direct relevance to the specific question asked.'}]\n",
      "            Recall Score: [{'metric': 'Contextual Recall', 'success': False, 'score': 0.6666666666666666, 'reason': 'The score is 0.67 because the retrieval context aligns well with the main reasons for dismissal, as seen in the 2nd node in the retrieval context, which matches the 1st and 2nd sentences of the expected output. However, it lacks details on the preaviz period and selection criteria, which are crucial elements in the 3rd sentence of the expected output.'}]\n",
      "            Faithfulness Score: [{'metric': 'Faithfulness', 'success': True, 'score': 1.0, 'reason': 'The score is 1.00 because there are no contradictions present, indicating that the actual output perfectly aligns with the retrieval context.'}]\n",
      "            Understanding Score: [{'metric': 'Understanding (GEval)', 'success': False, 'score': 0.5390297893486465, 'reason': 'The response provides some legal context about termination but lacks clarity on specific rights and obligations, making it less accessible for someone without legal knowledge.'}]\n",
      "            \n",
      "Using model: rollama2-7b-instruct\n"
     ]
    },
    {
     "data": {
      "text/html": [
       "<pre style=\"white-space:pre;overflow-x:auto;line-height:normal;font-family:Menlo,'DejaVu Sans Mono',consolas,'Courier New',monospace\">\n",
       "<span style=\"color: #05f58d; text-decoration-color: #05f58d\">✓</span> Tests finished 🎉! Run <span style=\"color: #008000; text-decoration-color: #008000; font-weight: bold\">'deepeval login'</span> to save and analyze evaluation results on Confident AI.\n",
       " \n",
       "✨👀 Looking for a place for your LLM test data to live 🏡❤️ ? Use <span style=\"color: #6a00ff; text-decoration-color: #6a00ff\">Confident AI</span> to get &amp; share testing reports, \n",
       "experiment with models/prompts, and catch regressions for your LLM system. Just run <span style=\"color: #008080; text-decoration-color: #008080\">'deepeval login'</span> in the CLI. \n",
       "\n",
       "</pre>\n"
      ],
      "text/plain": [
       "\n",
       "\u001b[38;2;5;245;141m✓\u001b[0m Tests finished 🎉! Run \u001b[1;32m'deepeval login'\u001b[0m to save and analyze evaluation results on Confident AI.\n",
       " \n",
       "✨👀 Looking for a place for your LLM test data to live 🏡❤️ ? Use \u001b[38;2;106;0;255mConfident AI\u001b[0m to get & share testing reports, \n",
       "experiment with models/prompts, and catch regressions for your LLM system. Just run \u001b[36m'deepeval login'\u001b[0m in the CLI. \n",
       "\n"
      ]
     },
     "metadata": {},
     "output_type": "display_data"
    },
    {
     "data": {
      "text/html": [
       "<pre style=\"white-space:pre;overflow-x:auto;line-height:normal;font-family:Menlo,'DejaVu Sans Mono',consolas,'Courier New',monospace\">\n",
       "<span style=\"color: #05f58d; text-decoration-color: #05f58d\">✓</span> Tests finished 🎉! Run <span style=\"color: #008000; text-decoration-color: #008000; font-weight: bold\">'deepeval login'</span> to save and analyze evaluation results on Confident AI.\n",
       " \n",
       "✨👀 Looking for a place for your LLM test data to live 🏡❤️ ? Use <span style=\"color: #6a00ff; text-decoration-color: #6a00ff\">Confident AI</span> to get &amp; share testing reports, \n",
       "experiment with models/prompts, and catch regressions for your LLM system. Just run <span style=\"color: #008080; text-decoration-color: #008080\">'deepeval login'</span> in the CLI. \n",
       "\n",
       "</pre>\n"
      ],
      "text/plain": [
       "\n",
       "\u001b[38;2;5;245;141m✓\u001b[0m Tests finished 🎉! Run \u001b[1;32m'deepeval login'\u001b[0m to save and analyze evaluation results on Confident AI.\n",
       " \n",
       "✨👀 Looking for a place for your LLM test data to live 🏡❤️ ? Use \u001b[38;2;106;0;255mConfident AI\u001b[0m to get & share testing reports, \n",
       "experiment with models/prompts, and catch regressions for your LLM system. Just run \u001b[36m'deepeval login'\u001b[0m in the CLI. \n",
       "\n"
      ]
     },
     "metadata": {},
     "output_type": "display_data"
    },
    {
     "data": {
      "text/html": [
       "<pre style=\"white-space:pre;overflow-x:auto;line-height:normal;font-family:Menlo,'DejaVu Sans Mono',consolas,'Courier New',monospace\">\n",
       "<span style=\"color: #05f58d; text-decoration-color: #05f58d\">✓</span> Tests finished 🎉! Run <span style=\"color: #008000; text-decoration-color: #008000; font-weight: bold\">'deepeval login'</span> to save and analyze evaluation results on Confident AI.\n",
       " \n",
       "✨👀 Looking for a place for your LLM test data to live 🏡❤️ ? Use <span style=\"color: #6a00ff; text-decoration-color: #6a00ff\">Confident AI</span> to get &amp; share testing reports, \n",
       "experiment with models/prompts, and catch regressions for your LLM system. Just run <span style=\"color: #008080; text-decoration-color: #008080\">'deepeval login'</span> in the CLI. \n",
       "\n",
       "</pre>\n"
      ],
      "text/plain": [
       "\n",
       "\u001b[38;2;5;245;141m✓\u001b[0m Tests finished 🎉! Run \u001b[1;32m'deepeval login'\u001b[0m to save and analyze evaluation results on Confident AI.\n",
       " \n",
       "✨👀 Looking for a place for your LLM test data to live 🏡❤️ ? Use \u001b[38;2;106;0;255mConfident AI\u001b[0m to get & share testing reports, \n",
       "experiment with models/prompts, and catch regressions for your LLM system. Just run \u001b[36m'deepeval login'\u001b[0m in the CLI. \n",
       "\n"
      ]
     },
     "metadata": {},
     "output_type": "display_data"
    },
    {
     "data": {
      "text/html": [
       "<pre style=\"white-space:pre;overflow-x:auto;line-height:normal;font-family:Menlo,'DejaVu Sans Mono',consolas,'Courier New',monospace\">\n",
       "<span style=\"color: #05f58d; text-decoration-color: #05f58d\">✓</span> Tests finished 🎉! Run <span style=\"color: #008000; text-decoration-color: #008000; font-weight: bold\">'deepeval login'</span> to save and analyze evaluation results on Confident AI.\n",
       " \n",
       "✨👀 Looking for a place for your LLM test data to live 🏡❤️ ? Use <span style=\"color: #6a00ff; text-decoration-color: #6a00ff\">Confident AI</span> to get &amp; share testing reports, \n",
       "experiment with models/prompts, and catch regressions for your LLM system. Just run <span style=\"color: #008080; text-decoration-color: #008080\">'deepeval login'</span> in the CLI. \n",
       "\n",
       "</pre>\n"
      ],
      "text/plain": [
       "\n",
       "\u001b[38;2;5;245;141m✓\u001b[0m Tests finished 🎉! Run \u001b[1;32m'deepeval login'\u001b[0m to save and analyze evaluation results on Confident AI.\n",
       " \n",
       "✨👀 Looking for a place for your LLM test data to live 🏡❤️ ? Use \u001b[38;2;106;0;255mConfident AI\u001b[0m to get & share testing reports, \n",
       "experiment with models/prompts, and catch regressions for your LLM system. Just run \u001b[36m'deepeval login'\u001b[0m in the CLI. \n",
       "\n"
      ]
     },
     "metadata": {},
     "output_type": "display_data"
    },
    {
     "name": "stdout",
     "output_type": "stream",
     "text": [
      "\n",
      "            Query: Care sunt drepturile și obligațiile părților în cazul unei concedieri individuale pentru motive care nu țin de persoana salariatului?\n",
      "            Expected: În cazul concedierii pentru motive care nu țin de persoana salariatului, angajatorul trebuie să respecte proceduri stricte și să asigure drepturi specifice salariatului. Concedierea este permisă doar pentru desființarea locului de muncă din motive economice, tehnologice, structurale sau similare. Angajatorul are obligația să acorde un preaviz de minimum 20 de zile lucrătoare și să respecte criterii obiective de selecție (performanțe profesionale, vechime, sarcini de întreținere).\n",
      "            Actual: \n",
      "În ceea ce privește drepturile și obligațiile părților în cazul unei concedieri individuale pentru motive care nu țin de persoana salariatului, acestea includ următoarele elemente:\n",
      "1. Drepturi de transfer ale întreprinderii\n",
      "2. Obligația de transfer a drepturilor și obligațiilor angajatului\n",
      "3. Desființarea locului de muncă\n",
      "4. Protecția salariatului în cazul concedierilor individuale\n",
      "\n",
      "Pentru a clarifica acest lucru, mai jos este o explicație a fiecărei clauze:\n",
      "\n",
      "1. **Drepturile de transfer ale întreprinderii** - Acesta este un aspect important al procesului de concediere, deoarece înseamnă că drepturile și obligațiile dumneavoastră de angajare vor fi transferate noului angajator. De exemplu, salariul și beneficiile dvs., precum și condițiile de muncă și de securitate a locului de muncă, vor trece la noul loc de muncă.\n",
      "2. **Obligația de transfer a drepturilor și obligațiilor angajatului** - Pe lângă faptul că drepturile dvs. vor fi transferate noului angajator, vă veți confrunta cu obligația de a respecta contractul individual de muncă încă în vigoare al noului angajator. De asemenea, trebuie să urmați orice instrucțiuni și proceduri furnizate de noul dvs. angajator pentru îndeplinirea obligațiilor dumneavoastră profesionale.\n",
      "3. **Desfiintarea locului de munca** - Aceasta este cauza reală și serioasă necesară pentru concedierea unei persoane în temeiul unui contract individual de muncă. Desființarea trebuie să fie efectivă și să se refere la o anumită situație sau eveniment care are legătură cu activitatea angajatului, ceea ce face imposibilă menținerea postului după aceasta.\n",
      "4. **Protecția salariatului în cazul concedierilor individuale** - În cazul în care desființarea nu poate fi evitată, trebuie luată în considerare protejarea intereselor dvs., precum și asigurarea unei despăgubiri adecvate. Noul angajator are obligația legală de a respecta dreptul la muncă al salariatului concediat, oferindu-le perspectiva unui nou loc de muncă sau a unor măsuri de prevenire a șomajului.\n",
      "\n",
      "Având în vedere aceste aspecte, este important să se asigure că desființarea locurilor de muncă are o cauză reală și serioasă și este efectuată în mod echitabil, după cum ar fi: 1. Desființarea trebuie să fie efectivă și să aibă o cauză reală și serioasă\n",
      "2. Desființarea locului de muncă nu poate constitui un motiv pentru concedierea unui angajat, în temeiul Legii nr. 6/2007 privind prevenirea șomajului \n",
      "            Relevancy Score: [{'metric': 'Answer Relevancy', 'success': True, 'score': 0.8666666666666667, 'reason': \"The score is 0.87 because the response largely addresses the rights and obligations of parties in individual dismissals unrelated to the employee's person. However, it includes a statement about employee activity and a contradiction regarding job elimination, which slightly detracts from its relevance.\"}]\n",
      "            Recall Score: [{'metric': 'Contextual Recall', 'success': False, 'score': 0.6, 'reason': 'The score is 0.60 because while the 2nd node in the retrieval context supports the main reasons for dismissal, it lacks details on the required notice period and selection criteria, which are crucial elements in the expected output.'}]\n",
      "            Faithfulness Score: [{'metric': 'Faithfulness', 'success': True, 'score': 0.8, 'reason': 'The score is 0.80 because the actual output inaccurately includes the rights of transfer of the enterprise in the context of individual dismissal, which is not mentioned in the retrieval context. Additionally, it incorrectly states that job dismissal cannot be a reason for employee dismissal under Law no. 6/2007, contradicting the retrieval context that specifies a real and serious cause is required for dismissal.'}]\n",
      "            Understanding Score: [{'metric': 'Understanding (GEval)', 'success': False, 'score': 0.4959136021601906, 'reason': 'The actual output provides some clarity on rights and obligations but lacks specific procedural details and clear guidelines for the user, which are present in the expected output.'}]\n",
      "            \n",
      "Finished tests for model: rollama2-7b-instruct\n",
      "\n",
      "==================================================\n",
      "\n",
      "\n",
      "Evaluating model: rollama3-8b-instruct\n",
      "{\n",
      "    \"Answer Relevancy\": {\n",
      "        \"avg_score\": 0.951,\n",
      "        \"std_dev\": 0.076,\n",
      "        \"pass_rate\": \"100.0%\",\n",
      "        \"total_cases\": 6\n",
      "    },\n",
      "    \"Contextual Recall\": {\n",
      "        \"avg_score\": 0.733,\n",
      "        \"std_dev\": 0.313,\n",
      "        \"pass_rate\": \"50.0%\",\n",
      "        \"total_cases\": 6\n",
      "    },\n",
      "    \"Faithfulness\": {\n",
      "        \"avg_score\": 0.524,\n",
      "        \"std_dev\": 0.431,\n",
      "        \"pass_rate\": \"33.3%\",\n",
      "        \"total_cases\": 6\n",
      "    },\n",
      "    \"Understanding (GEval)\": {\n",
      "        \"avg_score\": 0.528,\n",
      "        \"std_dev\": 0.086,\n",
      "        \"pass_rate\": \"0.0%\",\n",
      "        \"total_cases\": 6\n",
      "    },\n",
      "    \"examples\": [\n",
      "        {\n",
      "            \"query\": \"Cât timp poate fi reținută o persoană înainte de a fi arestată?\",\n",
      "            \"expected\": \"Reținerea nu poate depăși 24 de ore. După acest termen, persoana trebuie eliberată sau arestată preventiv prin decizia unui judecător.\",\n",
      "            \"actual\": \"O persoană poate fi reținută timp de maximum 24 de ore înainte ca aceasta să fie arestată.\",\n",
      "            \"metrics\": {\n",
      "                \"Answer Relevancy\": {\n",
      "                    \"score\": 1.0,\n",
      "                    \"success\": true,\n",
      "                    \"reason\": \"The score is 1.00 because the response is perfectly relevant and directly addresses the question about the duration a person can be detained before being arrested. Great job on providing a clear and concise answer!\"\n",
      "                },\n",
      "                \"Contextual Recall\": {\n",
      "                    \"score\": 1.0,\n",
      "                    \"success\": true,\n",
      "                    \"reason\": \"The score is 1.00 because every sentence in the expected output is perfectly aligned with the nodes in the retrieval context, ensuring complete accuracy and relevance. Great job!\"\n",
      "                },\n",
      "                \"Faithfulness\": {\n",
      "                    \"score\": 0.0,\n",
      "                    \"success\": false,\n",
      "                    \"reason\": \"The score is 0.00 because the actual output incorrectly interprets the retrieval context regarding detention and arrest timelines, leading to a complete misalignment with the stated information.\"\n",
      "                },\n",
      "                \"Understanding (GEval)\": {\n",
      "                    \"score\": 0.5301516217630231,\n",
      "                    \"success\": false,\n",
      "                    \"reason\": \"While the actual output states that a person can be held for a maximum of 24 hours, it lacks clarity on the consequences after this period, which is essential for understanding what must happen next.\"\n",
      "                }\n",
      "            }\n",
      "        },\n",
      "        {\n",
      "            \"query\": \"Care sunt drepturile cetățeanului român?\",\n",
      "            \"expected\": \"Cetățeanul român beneficiază de drepturi și libertăți fundamentale în toate domeniile vieții. Drepturile civile și politice includ dreptul la viață, libertatea individuală, dreptul la apărare, dreptul de vot de la 18 ani și eligibilitatea pentru funcții publice. Libertățile fundamentale cuprind libertatea gândirii și credinței religioase, libertatea de exprimare, dreptul la informație și dreptul de asociere în partide și sindicate. Drepturile economice și sociale garantează munca liber aleasă, greva, proprietatea privată, moștenirea, pensia și asistența medicală. În plus, cetățenii au dreptul la învățătură, acces la cultură, un mediu sănătos și protecția statului în străinătate.\",\n",
      "            \"actual\": \"Cetățenii români au drepturi și libertăți garantate prin Constituția României. Aceste drepturi includ egalitatea față de lege și autoritățile publice, precum și egalitatea de șanse pentru funcții publice civile sau militare. De asemenea, cetățenii străini și apatrizi pot exercita drepturi și libertăți constituționale cu bună-credință, fără a încălca drepturile altora. \\n\\nÎn conformitate cu Constituția României, dispozițiile privind drepturile cetățenilor vor fi interpretate și aplicate în concordanță cu Declarația Universală a Drepturilor Omului, Pactele internaționale relative la drepturile civile și politice și alte tratate la care România este parte.\",\n",
      "            \"metrics\": {\n",
      "                \"Answer Relevancy\": {\n",
      "                    \"score\": 0.875,\n",
      "                    \"success\": true,\n",
      "                    \"reason\": \"The score is 0.88 because the response primarily addresses the rights of Romanian citizens, which aligns well with the input question. However, the mention of rights pertaining to foreign citizens and stateless persons slightly detracts from the focus, preventing a perfect score.\"\n",
      "                },\n",
      "                \"Contextual Recall\": {\n",
      "                    \"score\": 0.4,\n",
      "                    \"success\": false,\n",
      "                    \"reason\": \"The score is 0.40 because while the 1st and 2nd nodes in the retrieval context align with the expected output regarding constitutional rights and voting eligibility, there is a lack of specific references to freedoms of thought, economic and social rights, and educational and cultural access, which are significant components of the expected output.\"\n",
      "                },\n",
      "                \"Faithfulness\": {\n",
      "                    \"score\": 1.0,\n",
      "                    \"success\": true,\n",
      "                    \"reason\": \"The score is 1.00 because there are no contradictions present, indicating that the actual output perfectly aligns with the retrieval context.\"\n",
      "                },\n",
      "                \"Understanding (GEval)\": {\n",
      "                    \"score\": 0.4507532083061433,\n",
      "                    \"success\": false,\n",
      "                    \"reason\": \"The actual output mentions some rights but lacks clarity and accessibility for someone without legal knowledge, and it does not clearly outline what actions the user can take based on these rights.\"\n",
      "                }\n",
      "            }\n",
      "        },\n",
      "        {\n",
      "            \"query\": \"Ce obligație are angajatorul înainte de încheierea contractului individual de muncă?\",\n",
      "            \"expected\": \"Anterior încheierii sau modificării contractului individual de muncă, angajatorul are obligația de a informa persoana selectată în vederea angajării cu privire la clauzele esențiale pe care intenționează să le înscrie în contract sau să le modifice.\",\n",
      "            \"actual\": \"Înainte de încheierea contractului individual de muncă (CIM), angajatorul are obligațiunea de a informa persoana selectată în vederea angajării sau, după caz, salariatul cu privire la clauzele esențiale pe care intende să le inscrie în CIM-ul contractului sau să le modifice. \\n\\nAcestea includ identitatea părților, locul de muncă și informațiile sale, sediul angajatorului (sau domiciliul acestuia), funcția/ocupația salariatului conform Clasificării Ocupațiilor din România sau a altor acte normative și atribuirile postului, criteriile de evaluare a activității profesionale ale angajatorului, riscurile specifice postului, data de la care contractul începe să producă efecte, durata CIM-ului dacă este un contract pe termen determinat sau temporar, durata concediului de odihnă, condițiile și durata preavizierii, salariul de bază, alte elemente constitutive ale veniturilor salariale, durata normală a muncii (ore/zi) și/sau ore/săptămână), modul de plata timpului suplimentar, condițiile contractului colectiv de muncă, perioada probațională și orice alte drepturi sau avantaje în bani acordate salariatului.\",\n",
      "            \"metrics\": {\n",
      "                \"Answer Relevancy\": {\n",
      "                    \"score\": 1.0,\n",
      "                    \"success\": true,\n",
      "                    \"reason\": \"The score is 1.00 because the response perfectly addresses the question about the employer's obligations before signing an individual employment contract, with no irrelevant information included. Great job!\"\n",
      "                },\n",
      "                \"Contextual Recall\": {\n",
      "                    \"score\": 1.0,\n",
      "                    \"success\": true,\n",
      "                    \"reason\": \"The score is 1.00 because the expected output is perfectly aligned with the retrieval context, as the sentence is directly quoted from the 2nd node in the retrieval context. Great job!\"\n",
      "                },\n",
      "                \"Faithfulness\": {\n",
      "                    \"score\": 0.14285714285714285,\n",
      "                    \"success\": false,\n",
      "                    \"reason\": \"The score is 0.14 because the actual output includes multiple claims about essential clauses in employment contracts that are not mentioned in the retrieval context, leading to significant discrepancies between the two.\"\n",
      "                },\n",
      "                \"Understanding (GEval)\": {\n",
      "                    \"score\": 0.5748803443347862,\n",
      "                    \"success\": false,\n",
      "                    \"reason\": \"The response provides detailed information about the employer's obligations, but it is overly complex for someone without legal knowledge, making it less accessible.\"\n",
      "                }\n",
      "            }\n",
      "        },\n",
      "        {\n",
      "            \"query\": \"Care este vârsta legală minimă pentru încheierea unei căsătorii în România?\",\n",
      "            \"expected\": \"Căsătoria se poate încheia dacă viitorii soți au împlinit vârsta de 18 ani.\",\n",
      "            \"actual\": \"În România, vârsta legală minimă pentru începerea unei căsătorii este de 18 ani. În anumite circumstanțe speciale, persoanele sub 16 ani pot fi căsătorite cu consimțământul părinților sau tutorelui lor și cu o autorizare judecătorească.\",\n",
      "            \"metrics\": {\n",
      "                \"Answer Relevancy\": {\n",
      "                    \"score\": 1.0,\n",
      "                    \"success\": true,\n",
      "                    \"reason\": \"The score is 1.00 because the response perfectly addresses the question about the legal minimum age for marriage in Romania without any irrelevant information. Great job on staying focused and relevant!\"\n",
      "                },\n",
      "                \"Contextual Recall\": {\n",
      "                    \"score\": 1.0,\n",
      "                    \"success\": true,\n",
      "                    \"reason\": \"The score is 1.00 because the expected output perfectly matches the information from the 2nd node in the retrieval context, demonstrating a flawless alignment.\"\n",
      "                },\n",
      "                \"Faithfulness\": {\n",
      "                    \"score\": 0.6666666666666666,\n",
      "                    \"success\": false,\n",
      "                    \"reason\": \"The score is 0.67 because the actual output incorrectly claims the minimum legal age for marriage is 16 years, while the retrieval context clearly states it is 18 years.\"\n",
      "                },\n",
      "                \"Understanding (GEval)\": {\n",
      "                    \"score\": 0.6563750723995835,\n",
      "                    \"success\": false,\n",
      "                    \"reason\": \"The response provides clear information about the minimum legal age for marriage in Romania, but it includes additional details about exceptions that may confuse someone without legal knowledge.\"\n",
      "                }\n",
      "            }\n",
      "        },\n",
      "        {\n",
      "            \"query\": \"În ce condiții poate fi încheiat un contract de vânzare-cumpărare și care sunt excepțiile de la forma scrisă?\",\n",
      "            \"expected\": \"Contractul de vânzare-cumpărare se încheie prin acordul părților asupra lucrului și prețului. Contractul trebuie să fie în formă scrisă pentru bunurile imobile, pentru bunurile mobile cu valoarea peste o anumită sumă stabilită prin lege și pentru bunurile viitoare. Forma scrisă nu este obligatorie pentru bunurile mobile de valoare mică, pentru vânzările în cadrul activităților comerciale curente cu plată pe loc, sau când legea prevede expres alte forme de încheierie.\",\n",
      "            \"actual\": \"În conformitate cu legile privind contractele de vânzare-cumpărare, este necesar ca acestea să se încheie în formă scrisă. Excepțiile la această regulă sunt următoarele:\\n- Contractul poate fi verbal dacă părțile au o puternică tradiție de a se angaja într-un astfel de contract.\\n- Contractul poate fi neobișnuit, dacă nu trebuie să fie în formă scrisă din cauza sancțiunilor legale prevăzute în legea privind acest tip de contract.\",\n",
      "            \"metrics\": {\n",
      "                \"Answer Relevancy\": {\n",
      "                    \"score\": 1.0,\n",
      "                    \"success\": true,\n",
      "                    \"reason\": \"The score is 1.00 because the response perfectly addresses the question about the conditions for concluding a sales contract and exceptions to the written form, without any irrelevant information. Great job!\"\n",
      "                },\n",
      "                \"Contextual Recall\": {\n",
      "                    \"score\": 0.3333333333333333,\n",
      "                    \"success\": false,\n",
      "                    \"reason\": \"The score is 0.33 because only the requirement for a written form for certain goods (sentence 2) aligns with the 1st node in the retrieval context. However, the agreement on object and price (sentence 1) and exceptions for small value goods (sentence 3) are not supported by any nodes in the retrieval context.\"\n",
      "                },\n",
      "                \"Faithfulness\": {\n",
      "                    \"score\": 0.3333333333333333,\n",
      "                    \"success\": false,\n",
      "                    \"reason\": \"The score is 0.33 because the actual output incorrectly asserts that contracts can be verbal based on tradition, while the retrieval context specifies that certain contracts must be in written form, leading to a contradiction.\"\n",
      "                },\n",
      "                \"Understanding (GEval)\": {\n",
      "                    \"score\": 0.41755042283725824,\n",
      "                    \"success\": false,\n",
      "                    \"reason\": \"The response provides some legal information but lacks clarity and accessibility for someone without legal knowledge. It does not clearly outline what the user can or must do regarding the conditions for a sale contract.\"\n",
      "                }\n",
      "            }\n",
      "        },\n",
      "        {\n",
      "            \"query\": \"Care sunt drepturile și obligațiile părților în cazul unei concedieri individuale pentru motive care nu țin de persoana salariatului?\",\n",
      "            \"expected\": \"În cazul concedierii pentru motive care nu țin de persoana salariatului, angajatorul trebuie să respecte proceduri stricte și să asigure drepturi specifice salariatului. Concedierea este permisă doar pentru desființarea locului de muncă din motive economice, tehnologice, structurale sau similare. Angajatorul are obligația să acorde un preaviz de minimum 20 de zile lucrătoare și să respecte criterii obiective de selecție (performanțe profesionale, vechime, sarcini de întreținere).\",\n",
      "            \"actual\": \"Într-o concediere individuală pentru motive care nu țin de persoana salariatului, angajatorul poate înceta contractul individual de muncă din cauza desființării locației de muncă ocupate de salariat sau a altor motive fără legătură cu persoana acestuia. Desființarea locației trebuie să fie efectivă și să aibă o cauză reală, serioasă. Salariatiile beneficiaza de protectie in cazul transferului intreprinderii, al unitatii sau al unor parti ale acesteia catre alt angajator, conform legii. Drepturile si obligatiunile cedentului, care decurg dintr-un contract sau raport de munca existent la data transferului, vor fi transferate integral cesionarului. Transferul intreprinderii, al unitatii sau al unor parti ale acesteia nu poate constitui motiv de concediere individuala sau colectiva a salariatilor de catre cedent ori de catre cesionar.\\n\\nNotă: Pentru informații mai detaliate, consultați legislația aplicabilă.\",\n",
      "            \"metrics\": {\n",
      "                \"Answer Relevancy\": {\n",
      "                    \"score\": 0.8333333333333334,\n",
      "                    \"success\": true,\n",
      "                    \"reason\": \"The score is 0.83 because the response effectively addresses the rights and obligations of parties in individual dismissals, focusing on the core aspects of the query. However, the suggestion to consult applicable legislation, while informative, slightly detracts from the direct relevance to the specific question asked.\"\n",
      "                },\n",
      "                \"Contextual Recall\": {\n",
      "                    \"score\": 0.6666666666666666,\n",
      "                    \"success\": false,\n",
      "                    \"reason\": \"The score is 0.67 because the retrieval context aligns well with the main reasons for dismissal, as seen in the 2nd node in the retrieval context, which matches the 1st and 2nd sentences of the expected output. However, it lacks details on the preaviz period and selection criteria, which are crucial elements in the 3rd sentence of the expected output.\"\n",
      "                },\n",
      "                \"Faithfulness\": {\n",
      "                    \"score\": 1.0,\n",
      "                    \"success\": true,\n",
      "                    \"reason\": \"The score is 1.00 because there are no contradictions present, indicating that the actual output perfectly aligns with the retrieval context.\"\n",
      "                },\n",
      "                \"Understanding (GEval)\": {\n",
      "                    \"score\": 0.5390297893486465,\n",
      "                    \"success\": false,\n",
      "                    \"reason\": \"The response provides some legal context about termination but lacks clarity on specific rights and obligations, making it less accessible for someone without legal knowledge.\"\n",
      "                }\n",
      "            }\n",
      "        }\n",
      "    ]\n",
      "}\n",
      "Evaluating model: rollama2-7b-instruct\n",
      "{\n",
      "    \"Answer Relevancy\": {\n",
      "        \"avg_score\": 0.745,\n",
      "        \"std_dev\": 0.28,\n",
      "        \"pass_rate\": \"66.7%\",\n",
      "        \"total_cases\": 6\n",
      "    },\n",
      "    \"Contextual Recall\": {\n",
      "        \"avg_score\": 0.722,\n",
      "        \"std_dev\": 0.317,\n",
      "        \"pass_rate\": \"50.0%\",\n",
      "        \"total_cases\": 6\n",
      "    },\n",
      "    \"Faithfulness\": {\n",
      "        \"avg_score\": 0.727,\n",
      "        \"std_dev\": 0.172,\n",
      "        \"pass_rate\": \"66.7%\",\n",
      "        \"total_cases\": 6\n",
      "    },\n",
      "    \"Understanding (GEval)\": {\n",
      "        \"avg_score\": 0.507,\n",
      "        \"std_dev\": 0.078,\n",
      "        \"pass_rate\": \"0.0%\",\n",
      "        \"total_cases\": 6\n",
      "    },\n",
      "    \"examples\": [\n",
      "        {\n",
      "            \"query\": \"Cât timp poate fi reținută o persoană înainte de a fi arestată?\",\n",
      "            \"expected\": \"Reținerea nu poate depăși 24 de ore. După acest termen, persoana trebuie eliberată sau arestată preventiv prin decizia unui judecător.\",\n",
      "            \"actual\": \"Înainte ca o persoană să poată fi arestată, trebuie să existe un motiv pentru arestarea lor. Acest lucru se face printr-un mandat emis de judecător. Această măsură este în general luată atunci când există o suspiciune rezonabilă că acestea au comis o infracțiune. Dacă persoana nu are un avocat, poate solicita reprezentarea de la unul.\\n\\nÎn cazurile de arestare preventivă, cel mai bun lucru pe care îl puteți face este să vă prezentați la tribunal în 48 de ore și să cereți să fiți eliberat în timp ce așteptați un proces.\\n\\nArestarea preventivă ar trebui să fie utilizată numai ca ultimă soluție, atunci când alți pași au fost luați pentru a rezolva problemele implicate și nu a reușit.\\n\\nDacă vă aflați într-o situație de arestare preventivă și doriți să fiți eliberat sau să beneficiați de o măsură alternativă, va trebui probabil să faceți o cerere către un judecător. \",\n",
      "            \"metrics\": {\n",
      "                \"Answer Relevancy\": {\n",
      "                    \"score\": 0.2222222222222222,\n",
      "                    \"success\": false,\n",
      "                    \"reason\": \"The score is 0.22 because the output contains several statements that do not directly address the question about the duration a person can be held before arrest. Instead, it includes information on related but distinct topics such as the arrest process, legal representation rights, and conditions for issuing warrants. These elements, while informative, do not provide a direct answer to the input question, thus limiting the relevancy score.\"\n",
      "                },\n",
      "                \"Contextual Recall\": {\n",
      "                    \"score\": 1.0,\n",
      "                    \"success\": true,\n",
      "                    \"reason\": \"The score is 1.00 because every sentence in the expected output is perfectly aligned with the nodes in the retrieval context, ensuring complete accuracy and relevance. Great job!\"\n",
      "                },\n",
      "                \"Faithfulness\": {\n",
      "                    \"score\": 0.7142857142857143,\n",
      "                    \"success\": true,\n",
      "                    \"reason\": \"The score is 0.71 because the actual output incorrectly states that the arrest reason is established by a warrant, while it should only be permitted under specific legal procedures. Additionally, it misstates the timeframe for presenting the arrested person to court as 48 hours instead of the correct 24 hours.\"\n",
      "                },\n",
      "                \"Understanding (GEval)\": {\n",
      "                    \"score\": 0.38530799921401265,\n",
      "                    \"success\": false,\n",
      "                    \"reason\": \"The response provides some legal context but does not clearly state the maximum time a person can be held before arrest, which is crucial for user understanding.\"\n",
      "                }\n",
      "            }\n",
      "        },\n",
      "        {\n",
      "            \"query\": \"Care sunt drepturile cetățeanului român?\",\n",
      "            \"expected\": \"Cetățeanul român beneficiază de drepturi și libertăți fundamentale în toate domeniile vieții. Drepturile civile și politice includ dreptul la viață, libertatea individuală, dreptul la apărare, dreptul de vot de la 18 ani și eligibilitatea pentru funcții publice. Libertățile fundamentale cuprind libertatea gândirii și credinței religioase, libertatea de exprimare, dreptul la informație și dreptul de asociere în partide și sindicate. Drepturile economice și sociale garantează munca liber aleasă, greva, proprietatea privată, moștenirea, pensia și asistența medicală. În plus, cetățenii au dreptul la învățătură, acces la cultură, un mediu sănătos și protecția statului în străinătate.\",\n",
      "            \"actual\": \"\\nÎn România, cetățenii au drepturi garantate prin Constituție. Un astfel de exemplu este dreptul la acces liber la justiție. Cetățenii români, precum și cei care îndeplinesc cerințele legii organice, au dreptul să participe în administrația publică locală.\\n\\nCu toate acestea, este important de menționat că nu există termeni tehnici în răspunsul dat și că informațiile furnizate sunt în concordanță cu contextul dat. \",\n",
      "            \"metrics\": {\n",
      "                \"Answer Relevancy\": {\n",
      "                    \"score\": 0.6666666666666666,\n",
      "                    \"success\": false,\n",
      "                    \"reason\": \"The score is 0.67 because while the output partially addresses the rights of Romanian citizens, it includes statements about technical terms and context that do not directly relate to the question. These irrelevant points prevent a higher score, but the relevant parts still provide some useful information.\"\n",
      "                },\n",
      "                \"Contextual Recall\": {\n",
      "                    \"score\": 0.4,\n",
      "                    \"success\": false,\n",
      "                    \"reason\": \"The score is 0.40 because while the 1st and 2nd nodes in the retrieval context align with the initial sentences regarding constitutional rights and voting, the remaining sentences about religious freedom, economic rights, and cultural access lack direct support from the nodes.\"\n",
      "                },\n",
      "                \"Faithfulness\": {\n",
      "                    \"score\": 1.0,\n",
      "                    \"success\": true,\n",
      "                    \"reason\": \"The score is 1.00 because there are no contradictions present, indicating that the actual output perfectly aligns with the retrieval context.\"\n",
      "                },\n",
      "                \"Understanding (GEval)\": {\n",
      "                    \"score\": 0.45339874666488394,\n",
      "                    \"success\": false,\n",
      "                    \"reason\": \"While the response mentions some rights, it lacks clarity and comprehensiveness compared to the expected output, which details various rights and freedoms in a more accessible manner.\"\n",
      "                }\n",
      "            }\n",
      "        },\n",
      "        {\n",
      "            \"query\": \"Ce obligație are angajatorul înainte de încheierea contractului individual de muncă?\",\n",
      "            \"expected\": \"Anterior încheierii sau modificării contractului individual de muncă, angajatorul are obligația de a informa persoana selectată în vederea angajării cu privire la clauzele esențiale pe care intenționează să le înscrie în contract sau să le modifice.\",\n",
      "            \"actual\": \"Angajatorul are obligația de a oferi informații persoanei selectate pentru angajare sau salariatului cu privire la următoarele elemente:\\na) identitatea partilor; \\nb) locul de munca sau, in lipsa unui loc de munca fix, posibilitatea ca salariatul sa isi desfasoare activitatea in \\nlocuri de munca diferite, precum si daca deplasarea intre acestea este asigurata sau decontata de catre angajator, \\ndupa caz; \\nc) durata contractului de munca; \\nd) salariul de baza, alte elemente constitutive ale veniturilor salariale, evidentiate separat, periodicitatea platii \\nsalariului la care salariatul are dreptul si metoda de plata; \\ne) durata și condițiile perioadei de probă, dacă există.\",\n",
      "            \"metrics\": {\n",
      "                \"Answer Relevancy\": {\n",
      "                    \"score\": 1.0,\n",
      "                    \"success\": true,\n",
      "                    \"reason\": \"The score is 1.00 because the response perfectly addresses the question about the employer's obligations before signing an individual employment contract, with no irrelevant statements present.\"\n",
      "                },\n",
      "                \"Contextual Recall\": {\n",
      "                    \"score\": 1.0,\n",
      "                    \"success\": true,\n",
      "                    \"reason\": \"The score is 1.00 because the expected output is perfectly aligned with the retrieval context, as the sentence is directly quoted from the 2nd node in the retrieval context. Great job on achieving a flawless match!\"\n",
      "                },\n",
      "                \"Faithfulness\": {\n",
      "                    \"score\": 0.75,\n",
      "                    \"success\": true,\n",
      "                    \"reason\": \"The score is 0.75 because the actual output fails to address important details regarding travel reimbursement and the breakdown of salary components, which are crucial for a comprehensive understanding of the employer's obligations.\"\n",
      "                },\n",
      "                \"Understanding (GEval)\": {\n",
      "                    \"score\": 0.5483945505902803,\n",
      "                    \"success\": false,\n",
      "                    \"reason\": \"The actual output provides detailed obligations of the employer, but it lacks clarity and accessibility for someone without legal knowledge, making it harder to understand what actions are required.\"\n",
      "                }\n",
      "            }\n",
      "        },\n",
      "        {\n",
      "            \"query\": \"Care este vârsta legală minimă pentru încheierea unei căsătorii în România?\",\n",
      "            \"expected\": \"Căsătoria se poate încheia dacă viitorii soți au împlinit vârsta de 18 ani.\",\n",
      "            \"actual\": \"\\nÎn România, vârsta minimă legală pentru o căsătorie este de 18 ani. Dacă unul dintre viitori soți are peste 16 ani, dar sub 18 ani, este necesar consimțământul tutorelui sau al părinților (dacă ambii sunt decedați). Cu toate acestea, în cazurile speciale în care un viitor soț are între 16 și 18 ani, se poate căsători cu consimțământul unei persoane cu autoritatea părintească sau a tutorelui. Dacă este vorba despre o vârstă sub 16 ani, o căsătorie fictivă nu este permisă. \",\n",
      "            \"metrics\": {\n",
      "                \"Answer Relevancy\": {\n",
      "                    \"score\": 0.8,\n",
      "                    \"success\": true,\n",
      "                    \"reason\": \"The score is 0.80 because the response accurately addresses the question about the legal minimum age for marriage in Romania. However, the inclusion of a statement about fictitious marriages, which is not directly related to the main query, slightly detracts from the overall relevance.\"\n",
      "                },\n",
      "                \"Contextual Recall\": {\n",
      "                    \"score\": 1.0,\n",
      "                    \"success\": true,\n",
      "                    \"reason\": \"The score is 1.00 because the expected output perfectly matches the information from the 2nd node in the retrieval context, demonstrating a flawless alignment.\"\n",
      "                },\n",
      "                \"Faithfulness\": {\n",
      "                    \"score\": 0.6,\n",
      "                    \"success\": false,\n",
      "                    \"reason\": \"The score is 0.60 because the actual output incorrectly states that the minimum legal age for marriage in Romania is 18 years, while the retrieval context indicates that marriage can be concluded at that age, leading to confusion. Additionally, the claim about needing a guardian's consent when both parents are deceased is unsupported by the retrieval context, which does not address this scenario.\"\n",
      "                },\n",
      "                \"Understanding (GEval)\": {\n",
      "                    \"score\": 0.5626476106026022,\n",
      "                    \"success\": false,\n",
      "                    \"reason\": \"While the actual output provides the legal age for marriage, it includes excessive details that may confuse someone without legal knowledge, making it less clear and accessible.\"\n",
      "                }\n",
      "            }\n",
      "        },\n",
      "        {\n",
      "            \"query\": \"În ce condiții poate fi încheiat un contract de vânzare-cumpărare și care sunt excepțiile de la forma scrisă?\",\n",
      "            \"expected\": \"Contractul de vânzare-cumpărare se încheie prin acordul părților asupra lucrului și prețului. Contractul trebuie să fie în formă scrisă pentru bunurile imobile, pentru bunurile mobile cu valoarea peste o anumită sumă stabilită prin lege și pentru bunurile viitoare. Forma scrisă nu este obligatorie pentru bunurile mobile de valoare mică, pentru vânzările în cadrul activităților comerciale curente cu plată pe loc, sau când legea prevede expres alte forme de încheierie.\",\n",
      "            \"actual\": \"Contractele de vânzare-cumpărare pot fi încheiate atât verbal (vorbit), cât și scris (scris). Contractul este valabil numai dacă ambele părți au consimțit la acesta. În general, formularul scris nu este obligatoriu; cu toate acestea, există unele excepții:\\n\\n- Contract de vânzare-cumpărare și contract de asociere în participație (asociere): aceste contracte trebuie să fie întotdeauna scrise.\\n\\n- Contractul de vânzare-cumpărare a unei case care are drepturi reale: formularul scris este obligatoriu, iar forma scrisă trebuie să îndeplinească anumite cerințe pentru acest tip specific de contract.\\n\\n- Contract de vânzare-cumpărare în caz de urgență sau când părțile sunt un soț și un soț (sot si sotie): formularul scris nu este obligatoriu. Cu toate acestea, dacă se alege această formă, va trebui să îndeplinească cerințele de formalizare pentru acest tip specific de contract.\\n\\nÎn toate celelalte cazuri, în care nu este necesară forma scrisă, puteți încheia un contract verbal (vorbit) atât timp cât ambele părți sunt de acord asupra termenilor și condițiilor. Este important să rețineți că, chiar dacă ați convenit asupra unei înțelegeri verbale, este întotdeauna recomandabil să înregistrați contractul scris pentru a preveni orice neînțelegeri sau conflicte de mai târziu. \",\n",
      "            \"metrics\": {\n",
      "                \"Answer Relevancy\": {\n",
      "                    \"score\": 0.9166666666666666,\n",
      "                    \"success\": true,\n",
      "                    \"reason\": \"The score is 0.92 because the response effectively addresses the conditions and exceptions of contract formation, providing clear and relevant information. However, the mention of registration as a precautionary measure slightly detracts from the focus, preventing a perfect score.\"\n",
      "                },\n",
      "                \"Contextual Recall\": {\n",
      "                    \"score\": 0.3333333333333333,\n",
      "                    \"success\": false,\n",
      "                    \"reason\": \"The score is 0.33 because only the requirement for a written form for certain goods (node 1 in retrieval context) aligns with the expected output, while the agreement on object and price, and exceptions for small value goods and commercial activities, are not supported by the retrieval context.\"\n",
      "                },\n",
      "                \"Faithfulness\": {\n",
      "                    \"score\": 0.5,\n",
      "                    \"success\": false,\n",
      "                    \"reason\": \"The score is 0.50 because the actual output contradicts the retrieval context by stating that contracts can be concluded verbally, while the context specifies that written form is necessary for certain contracts, including sales and partnership contracts, and for contracts involving real rights.\"\n",
      "                },\n",
      "                \"Understanding (GEval)\": {\n",
      "                    \"score\": 0.5935222131001711,\n",
      "                    \"success\": false,\n",
      "                    \"reason\": \"The response provides some clarity on contract conditions but is somewhat complex for a layperson. It outlines what is allowed and required, yet lacks the straightforwardness of the expected output.\"\n",
      "                }\n",
      "            }\n",
      "        },\n",
      "        {\n",
      "            \"query\": \"Care sunt drepturile și obligațiile părților în cazul unei concedieri individuale pentru motive care nu țin de persoana salariatului?\",\n",
      "            \"expected\": \"În cazul concedierii pentru motive care nu țin de persoana salariatului, angajatorul trebuie să respecte proceduri stricte și să asigure drepturi specifice salariatului. Concedierea este permisă doar pentru desființarea locului de muncă din motive economice, tehnologice, structurale sau similare. Angajatorul are obligația să acorde un preaviz de minimum 20 de zile lucrătoare și să respecte criterii obiective de selecție (performanțe profesionale, vechime, sarcini de întreținere).\",\n",
      "            \"actual\": \"\\nÎn ceea ce privește drepturile și obligațiile părților în cazul unei concedieri individuale pentru motive care nu țin de persoana salariatului, acestea includ următoarele elemente:\\n1. Drepturi de transfer ale întreprinderii\\n2. Obligația de transfer a drepturilor și obligațiilor angajatului\\n3. Desființarea locului de muncă\\n4. Protecția salariatului în cazul concedierilor individuale\\n\\nPentru a clarifica acest lucru, mai jos este o explicație a fiecărei clauze:\\n\\n1. **Drepturile de transfer ale întreprinderii** - Acesta este un aspect important al procesului de concediere, deoarece înseamnă că drepturile și obligațiile dumneavoastră de angajare vor fi transferate noului angajator. De exemplu, salariul și beneficiile dvs., precum și condițiile de muncă și de securitate a locului de muncă, vor trece la noul loc de muncă.\\n2. **Obligația de transfer a drepturilor și obligațiilor angajatului** - Pe lângă faptul că drepturile dvs. vor fi transferate noului angajator, vă veți confrunta cu obligația de a respecta contractul individual de muncă încă în vigoare al noului angajator. De asemenea, trebuie să urmați orice instrucțiuni și proceduri furnizate de noul dvs. angajator pentru îndeplinirea obligațiilor dumneavoastră profesionale.\\n3. **Desfiintarea locului de munca** - Aceasta este cauza reală și serioasă necesară pentru concedierea unei persoane în temeiul unui contract individual de muncă. Desființarea trebuie să fie efectivă și să se refere la o anumită situație sau eveniment care are legătură cu activitatea angajatului, ceea ce face imposibilă menținerea postului după aceasta.\\n4. **Protecția salariatului în cazul concedierilor individuale** - În cazul în care desființarea nu poate fi evitată, trebuie luată în considerare protejarea intereselor dvs., precum și asigurarea unei despăgubiri adecvate. Noul angajator are obligația legală de a respecta dreptul la muncă al salariatului concediat, oferindu-le perspectiva unui nou loc de muncă sau a unor măsuri de prevenire a șomajului.\\n\\nAvând în vedere aceste aspecte, este important să se asigure că desființarea locurilor de muncă are o cauză reală și serioasă și este efectuată în mod echitabil, după cum ar fi: 1. Desființarea trebuie să fie efectivă și să aibă o cauză reală și serioasă\\n2. Desființarea locului de muncă nu poate constitui un motiv pentru concedierea unui angajat, în temeiul Legii nr. 6/2007 privind prevenirea șomajului \",\n",
      "            \"metrics\": {\n",
      "                \"Answer Relevancy\": {\n",
      "                    \"score\": 0.8666666666666667,\n",
      "                    \"success\": true,\n",
      "                    \"reason\": \"The score is 0.87 because the response largely addresses the rights and obligations of parties in individual dismissals unrelated to the employee's person. However, it includes a statement about employee activity and a contradiction regarding job elimination, which slightly detracts from its relevance.\"\n",
      "                },\n",
      "                \"Contextual Recall\": {\n",
      "                    \"score\": 0.6,\n",
      "                    \"success\": false,\n",
      "                    \"reason\": \"The score is 0.60 because while the 2nd node in the retrieval context supports the main reasons for dismissal, it lacks details on the required notice period and selection criteria, which are crucial elements in the expected output.\"\n",
      "                },\n",
      "                \"Faithfulness\": {\n",
      "                    \"score\": 0.8,\n",
      "                    \"success\": true,\n",
      "                    \"reason\": \"The score is 0.80 because the actual output inaccurately includes the rights of transfer of the enterprise in the context of individual dismissal, which is not mentioned in the retrieval context. Additionally, it incorrectly states that job dismissal cannot be a reason for employee dismissal under Law no. 6/2007, contradicting the retrieval context that specifies a real and serious cause is required for dismissal.\"\n",
      "                },\n",
      "                \"Understanding (GEval)\": {\n",
      "                    \"score\": 0.4959136021601906,\n",
      "                    \"success\": false,\n",
      "                    \"reason\": \"The actual output provides some clarity on rights and obligations but lacks specific procedural details and clear guidelines for the user, which are present in the expected output.\"\n",
      "                }\n",
      "            }\n",
      "        }\n",
      "    ]\n",
      "}\n"
     ]
    }
   ],
   "source": [
    "prompt_v4 = \"\"\" \n",
    "Ești un ghid juridic virtual. Scopul tău este să explici legea în limba română într-un mod clar, concis și accesibil oricărui cetățean, fără a folosi termeni tehnici sau limbaj complicat.\n",
    "\n",
    "Respectă cu strictețe următoarele reguli:\n",
    " - Scrie propoziții scurte, clare și ușor de înțeles. Evită frazele lungi și ambigue.\n",
    " - Nu folosi termeni juridici specializați. Dacă apar în context, explică-i simplu.\n",
    " - Nu inventa informații și nu completa cu exemple din cunoștințele tale. Fii fidel exclusiv contextului.\n",
    " - Nu cita articole de lege și nu menționa surse sau numere de articole.\n",
    " - Dacă informația necesară nu se găsește în context, scrie exact: **„Nu am putut genera un răspuns.”**\n",
    " - Evită generalizările. Limitează-te doar la ceea ce este prezent în context.\n",
    " - Răspunsul trebuie să fie scurt, complet și fără comentarii inutile.\n",
    " - Păstrează un ton politicos, neutru și prietenos. Nu oferi sfaturi legale personalizate.\n",
    "\n",
    "Uite două exemple de întrebări și răspunsuri pentru a înțelege ce se așteaptă:\n",
    "\n",
    "Exemplu bun:  \n",
    "Întrebare: Ce protecție oferă statul român cetățenilor săi aflați în afara țării?  \n",
    "Răspuns: Cetățenii români aflați în străinătate beneficiază de protecția statului român. Ei trebuie să-și respecte obligațiile, cu excepția celor care nu pot fi îndeplinite din cauza absenței din țară.\n",
    "\n",
    "Exemplu greșit:  \n",
    "Întrebare: Ce drepturi are un chiriaș?  \n",
    "Răspuns: În general, chiriașii au dreptul la o locuință decentă, iar proprietarul nu are voie să-i deranjeze. Dacă ceva nu merge bine, e suficient ca chiriașul să notifice proprietarul pentru a pleca.  \n",
    "(Motive: răspunsul este vag, incomplet și conține informații care nu sunt în contextul oferit.)\n",
    "---\n",
    "\n",
    "Întrebarea utilizatorului este:  \n",
    "{question}\n",
    "\n",
    "Informațiile disponibile sunt:  \n",
    "{context}\n",
    "\n",
    "Scrie răspunsul în limba română. Acesta trebuie să fie clar, politicos și ușor de înțeles.\n",
    "\"\"\"\n",
    "\n",
    "model_results = start_testing(models_list, tests_list, prompt_v3)\n",
    "\n",
    "for model_name, model_result_list in model_results.items():\n",
    "    print(f\"Evaluating model: {model_name}\")\n",
    "    results_summary = analyze_model_results(model_result_list)\n",
    "    print(json.dumps(results_summary, indent=4, ensure_ascii=False))"
   ]
  },
  {
   "cell_type": "code",
   "execution_count": 8,
   "id": "40291afd",
   "metadata": {},
   "outputs": [
    {
     "name": "stdout",
     "output_type": "stream",
     "text": [
      "Running tests for query: Cât timp poate fi reținută o persoană înainte de a fi arestată?\n",
      "Using model: rollama3-8b-instruct\n"
     ]
    },
    {
     "data": {
      "text/html": [
       "<pre style=\"white-space:pre;overflow-x:auto;line-height:normal;font-family:Menlo,'DejaVu Sans Mono',consolas,'Courier New',monospace\">\n",
       "<span style=\"color: #05f58d; text-decoration-color: #05f58d\">✓</span> Tests finished 🎉! Run <span style=\"color: #008000; text-decoration-color: #008000; font-weight: bold\">'deepeval login'</span> to save and analyze evaluation results on Confident AI.\n",
       " \n",
       "✨👀 Looking for a place for your LLM test data to live 🏡❤️ ? Use <span style=\"color: #6a00ff; text-decoration-color: #6a00ff\">Confident AI</span> to get &amp; share testing reports, \n",
       "experiment with models/prompts, and catch regressions for your LLM system. Just run <span style=\"color: #008080; text-decoration-color: #008080\">'deepeval login'</span> in the CLI. \n",
       "\n",
       "</pre>\n"
      ],
      "text/plain": [
       "\n",
       "\u001b[38;2;5;245;141m✓\u001b[0m Tests finished 🎉! Run \u001b[1;32m'deepeval login'\u001b[0m to save and analyze evaluation results on Confident AI.\n",
       " \n",
       "✨👀 Looking for a place for your LLM test data to live 🏡❤️ ? Use \u001b[38;2;106;0;255mConfident AI\u001b[0m to get & share testing reports, \n",
       "experiment with models/prompts, and catch regressions for your LLM system. Just run \u001b[36m'deepeval login'\u001b[0m in the CLI. \n",
       "\n"
      ]
     },
     "metadata": {},
     "output_type": "display_data"
    },
    {
     "data": {
      "text/html": [
       "<pre style=\"white-space:pre;overflow-x:auto;line-height:normal;font-family:Menlo,'DejaVu Sans Mono',consolas,'Courier New',monospace\">\n",
       "<span style=\"color: #05f58d; text-decoration-color: #05f58d\">✓</span> Tests finished 🎉! Run <span style=\"color: #008000; text-decoration-color: #008000; font-weight: bold\">'deepeval login'</span> to save and analyze evaluation results on Confident AI.\n",
       " \n",
       "✨👀 Looking for a place for your LLM test data to live 🏡❤️ ? Use <span style=\"color: #6a00ff; text-decoration-color: #6a00ff\">Confident AI</span> to get &amp; share testing reports, \n",
       "experiment with models/prompts, and catch regressions for your LLM system. Just run <span style=\"color: #008080; text-decoration-color: #008080\">'deepeval login'</span> in the CLI. \n",
       "\n",
       "</pre>\n"
      ],
      "text/plain": [
       "\n",
       "\u001b[38;2;5;245;141m✓\u001b[0m Tests finished 🎉! Run \u001b[1;32m'deepeval login'\u001b[0m to save and analyze evaluation results on Confident AI.\n",
       " \n",
       "✨👀 Looking for a place for your LLM test data to live 🏡❤️ ? Use \u001b[38;2;106;0;255mConfident AI\u001b[0m to get & share testing reports, \n",
       "experiment with models/prompts, and catch regressions for your LLM system. Just run \u001b[36m'deepeval login'\u001b[0m in the CLI. \n",
       "\n"
      ]
     },
     "metadata": {},
     "output_type": "display_data"
    },
    {
     "data": {
      "text/html": [
       "<pre style=\"white-space:pre;overflow-x:auto;line-height:normal;font-family:Menlo,'DejaVu Sans Mono',consolas,'Courier New',monospace\">\n",
       "<span style=\"color: #05f58d; text-decoration-color: #05f58d\">✓</span> Tests finished 🎉! Run <span style=\"color: #008000; text-decoration-color: #008000; font-weight: bold\">'deepeval login'</span> to save and analyze evaluation results on Confident AI.\n",
       " \n",
       "✨👀 Looking for a place for your LLM test data to live 🏡❤️ ? Use <span style=\"color: #6a00ff; text-decoration-color: #6a00ff\">Confident AI</span> to get &amp; share testing reports, \n",
       "experiment with models/prompts, and catch regressions for your LLM system. Just run <span style=\"color: #008080; text-decoration-color: #008080\">'deepeval login'</span> in the CLI. \n",
       "\n",
       "</pre>\n"
      ],
      "text/plain": [
       "\n",
       "\u001b[38;2;5;245;141m✓\u001b[0m Tests finished 🎉! Run \u001b[1;32m'deepeval login'\u001b[0m to save and analyze evaluation results on Confident AI.\n",
       " \n",
       "✨👀 Looking for a place for your LLM test data to live 🏡❤️ ? Use \u001b[38;2;106;0;255mConfident AI\u001b[0m to get & share testing reports, \n",
       "experiment with models/prompts, and catch regressions for your LLM system. Just run \u001b[36m'deepeval login'\u001b[0m in the CLI. \n",
       "\n"
      ]
     },
     "metadata": {},
     "output_type": "display_data"
    },
    {
     "data": {
      "text/html": [
       "<pre style=\"white-space:pre;overflow-x:auto;line-height:normal;font-family:Menlo,'DejaVu Sans Mono',consolas,'Courier New',monospace\">\n",
       "<span style=\"color: #05f58d; text-decoration-color: #05f58d\">✓</span> Tests finished 🎉! Run <span style=\"color: #008000; text-decoration-color: #008000; font-weight: bold\">'deepeval login'</span> to save and analyze evaluation results on Confident AI.\n",
       " \n",
       "✨👀 Looking for a place for your LLM test data to live 🏡❤️ ? Use <span style=\"color: #6a00ff; text-decoration-color: #6a00ff\">Confident AI</span> to get &amp; share testing reports, \n",
       "experiment with models/prompts, and catch regressions for your LLM system. Just run <span style=\"color: #008080; text-decoration-color: #008080\">'deepeval login'</span> in the CLI. \n",
       "\n",
       "</pre>\n"
      ],
      "text/plain": [
       "\n",
       "\u001b[38;2;5;245;141m✓\u001b[0m Tests finished 🎉! Run \u001b[1;32m'deepeval login'\u001b[0m to save and analyze evaluation results on Confident AI.\n",
       " \n",
       "✨👀 Looking for a place for your LLM test data to live 🏡❤️ ? Use \u001b[38;2;106;0;255mConfident AI\u001b[0m to get & share testing reports, \n",
       "experiment with models/prompts, and catch regressions for your LLM system. Just run \u001b[36m'deepeval login'\u001b[0m in the CLI. \n",
       "\n"
      ]
     },
     "metadata": {},
     "output_type": "display_data"
    },
    {
     "name": "stdout",
     "output_type": "stream",
     "text": [
      "\n",
      "            Query: Cât timp poate fi reținută o persoană înainte de a fi arestată?\n",
      "            Expected: Reținerea nu poate depăși 24 de ore. După acest termen, persoana trebuie eliberată sau arestată preventiv prin decizia unui judecător.\n",
      "            Actual: În România, un individ poate fi reținut până la 24 de ore, urmat de arestare preventivă care nu depășește 180 de zile. Acest lucru se aplică atât în timpul procesului penal cât și în cursul urmăririi penale. Reținerea trebuie să fie permisă conform legii, iar individului i se aduc la cunoștințe motivele reținerii sale. Dacă motivele pentru arestare nu mai există sau dacă instanța decide că nu mai există motive pentru menținerea acesteia, persoana trebuie pusă în libertate imediat.\n",
      "            Relevancy Score: [{'metric': 'Answer Relevancy', 'success': False, 'score': 0.5714285714285714, 'reason': 'The score is 0.57 because while the output partially addresses the question about the retention period before arrest, it includes several irrelevant statements about preventive arrest duration and conditions for release, which do not directly answer the query. However, the presence of some relevant information keeps the score above the midpoint.'}]\n",
      "            Recall Score: [{'metric': 'Contextual Recall', 'success': True, 'score': 1.0, 'reason': 'The score is 1.00 because every sentence in the expected output is perfectly aligned with the nodes in the retrieval context, ensuring complete accuracy and relevance. Great job!'}]\n",
      "            Faithfulness Score: [{'metric': 'Faithfulness', 'success': True, 'score': 0.8333333333333334, 'reason': 'The score is 0.83 because the actual output inaccurately states that preventive arrest can be extended for a maximum of 180 days, while the retrieval context indicates that it can only be imposed directly for that duration after an initial 30 days limit.'}]\n",
      "            Understanding Score: [{'metric': 'Understanding (GEval)', 'success': False, 'score': 0.6052947911810365, 'reason': 'While the actual output provides detailed information about the retention period and legal context, it is somewhat complex and may not be easily understood by someone without legal knowledge. The expected output is clearer and more concise.'}]\n",
      "            \n",
      "Using model: rollama2-7b-instruct\n"
     ]
    },
    {
     "data": {
      "text/html": [
       "<pre style=\"white-space:pre;overflow-x:auto;line-height:normal;font-family:Menlo,'DejaVu Sans Mono',consolas,'Courier New',monospace\">\n",
       "<span style=\"color: #05f58d; text-decoration-color: #05f58d\">✓</span> Tests finished 🎉! Run <span style=\"color: #008000; text-decoration-color: #008000; font-weight: bold\">'deepeval login'</span> to save and analyze evaluation results on Confident AI.\n",
       " \n",
       "✨👀 Looking for a place for your LLM test data to live 🏡❤️ ? Use <span style=\"color: #6a00ff; text-decoration-color: #6a00ff\">Confident AI</span> to get &amp; share testing reports, \n",
       "experiment with models/prompts, and catch regressions for your LLM system. Just run <span style=\"color: #008080; text-decoration-color: #008080\">'deepeval login'</span> in the CLI. \n",
       "\n",
       "</pre>\n"
      ],
      "text/plain": [
       "\n",
       "\u001b[38;2;5;245;141m✓\u001b[0m Tests finished 🎉! Run \u001b[1;32m'deepeval login'\u001b[0m to save and analyze evaluation results on Confident AI.\n",
       " \n",
       "✨👀 Looking for a place for your LLM test data to live 🏡❤️ ? Use \u001b[38;2;106;0;255mConfident AI\u001b[0m to get & share testing reports, \n",
       "experiment with models/prompts, and catch regressions for your LLM system. Just run \u001b[36m'deepeval login'\u001b[0m in the CLI. \n",
       "\n"
      ]
     },
     "metadata": {},
     "output_type": "display_data"
    },
    {
     "data": {
      "text/html": [
       "<pre style=\"white-space:pre;overflow-x:auto;line-height:normal;font-family:Menlo,'DejaVu Sans Mono',consolas,'Courier New',monospace\">\n",
       "<span style=\"color: #05f58d; text-decoration-color: #05f58d\">✓</span> Tests finished 🎉! Run <span style=\"color: #008000; text-decoration-color: #008000; font-weight: bold\">'deepeval login'</span> to save and analyze evaluation results on Confident AI.\n",
       " \n",
       "✨👀 Looking for a place for your LLM test data to live 🏡❤️ ? Use <span style=\"color: #6a00ff; text-decoration-color: #6a00ff\">Confident AI</span> to get &amp; share testing reports, \n",
       "experiment with models/prompts, and catch regressions for your LLM system. Just run <span style=\"color: #008080; text-decoration-color: #008080\">'deepeval login'</span> in the CLI. \n",
       "\n",
       "</pre>\n"
      ],
      "text/plain": [
       "\n",
       "\u001b[38;2;5;245;141m✓\u001b[0m Tests finished 🎉! Run \u001b[1;32m'deepeval login'\u001b[0m to save and analyze evaluation results on Confident AI.\n",
       " \n",
       "✨👀 Looking for a place for your LLM test data to live 🏡❤️ ? Use \u001b[38;2;106;0;255mConfident AI\u001b[0m to get & share testing reports, \n",
       "experiment with models/prompts, and catch regressions for your LLM system. Just run \u001b[36m'deepeval login'\u001b[0m in the CLI. \n",
       "\n"
      ]
     },
     "metadata": {},
     "output_type": "display_data"
    },
    {
     "data": {
      "text/html": [
       "<pre style=\"white-space:pre;overflow-x:auto;line-height:normal;font-family:Menlo,'DejaVu Sans Mono',consolas,'Courier New',monospace\">\n",
       "<span style=\"color: #05f58d; text-decoration-color: #05f58d\">✓</span> Tests finished 🎉! Run <span style=\"color: #008000; text-decoration-color: #008000; font-weight: bold\">'deepeval login'</span> to save and analyze evaluation results on Confident AI.\n",
       " \n",
       "✨👀 Looking for a place for your LLM test data to live 🏡❤️ ? Use <span style=\"color: #6a00ff; text-decoration-color: #6a00ff\">Confident AI</span> to get &amp; share testing reports, \n",
       "experiment with models/prompts, and catch regressions for your LLM system. Just run <span style=\"color: #008080; text-decoration-color: #008080\">'deepeval login'</span> in the CLI. \n",
       "\n",
       "</pre>\n"
      ],
      "text/plain": [
       "\n",
       "\u001b[38;2;5;245;141m✓\u001b[0m Tests finished 🎉! Run \u001b[1;32m'deepeval login'\u001b[0m to save and analyze evaluation results on Confident AI.\n",
       " \n",
       "✨👀 Looking for a place for your LLM test data to live 🏡❤️ ? Use \u001b[38;2;106;0;255mConfident AI\u001b[0m to get & share testing reports, \n",
       "experiment with models/prompts, and catch regressions for your LLM system. Just run \u001b[36m'deepeval login'\u001b[0m in the CLI. \n",
       "\n"
      ]
     },
     "metadata": {},
     "output_type": "display_data"
    },
    {
     "data": {
      "text/html": [
       "<pre style=\"white-space:pre;overflow-x:auto;line-height:normal;font-family:Menlo,'DejaVu Sans Mono',consolas,'Courier New',monospace\">\n",
       "<span style=\"color: #05f58d; text-decoration-color: #05f58d\">✓</span> Tests finished 🎉! Run <span style=\"color: #008000; text-decoration-color: #008000; font-weight: bold\">'deepeval login'</span> to save and analyze evaluation results on Confident AI.\n",
       " \n",
       "✨👀 Looking for a place for your LLM test data to live 🏡❤️ ? Use <span style=\"color: #6a00ff; text-decoration-color: #6a00ff\">Confident AI</span> to get &amp; share testing reports, \n",
       "experiment with models/prompts, and catch regressions for your LLM system. Just run <span style=\"color: #008080; text-decoration-color: #008080\">'deepeval login'</span> in the CLI. \n",
       "\n",
       "</pre>\n"
      ],
      "text/plain": [
       "\n",
       "\u001b[38;2;5;245;141m✓\u001b[0m Tests finished 🎉! Run \u001b[1;32m'deepeval login'\u001b[0m to save and analyze evaluation results on Confident AI.\n",
       " \n",
       "✨👀 Looking for a place for your LLM test data to live 🏡❤️ ? Use \u001b[38;2;106;0;255mConfident AI\u001b[0m to get & share testing reports, \n",
       "experiment with models/prompts, and catch regressions for your LLM system. Just run \u001b[36m'deepeval login'\u001b[0m in the CLI. \n",
       "\n"
      ]
     },
     "metadata": {},
     "output_type": "display_data"
    },
    {
     "name": "stdout",
     "output_type": "stream",
     "text": [
      "\n",
      "            Query: Cât timp poate fi reținută o persoană înainte de a fi arestată?\n",
      "            Expected: Reținerea nu poate depăși 24 de ore. După acest termen, persoana trebuie eliberată sau arestată preventiv prin decizia unui judecător.\n",
      "            Actual: Pentru a menține confidențialitatea comunicațiilor dvs., Legea nu vă permite ca organele de poliție sau alte organisme abilitate să intre fără mandat, care este un ordin semnat de un judecător. Dacă cineva încearcă acest lucru, puteți obține sprijin legal și, eventual, să depune o plângere împotriva celor responsabili.\n",
      "\n",
      "În plus, Legea prevede că nu poate fi stabilit un termen pentru „pedeapsă decât în condiții și în moduri prevăzute de lege”. Aceasta înseamnă că persoanele care sunt suspectate sau acuzate de infracțiune trebuie să fie informate cu privire la motivele lor, iar aceștia trebuie să aibă posibilitatea de a-și prezenta cazul în instanță.\n",
      "\n",
      "În concluzie, Legea oferă garanții pentru protejarea drepturilor și libertăților dvs., dar există excepții atunci când se impune cu privire la anumite aspecte. Fiți conștienți de aceste excepții și utilizați-le în mod corespunzător pentru a vă proteja drepturile. \n",
      "            Relevancy Score: [{'metric': 'Answer Relevancy', 'success': False, 'score': 0.6, 'reason': 'The score is 0.60 because while the output contains some relevant information about detention duration, several statements diverge from the main topic, discussing unrelated legal procedures like warrants and complaints. This mix of relevant and irrelevant content results in a moderate score.'}]\n",
      "            Recall Score: [{'metric': 'Contextual Recall', 'success': True, 'score': 1.0, 'reason': 'The score is 1.00 because every sentence in the expected output is perfectly aligned with the nodes in the retrieval context, ensuring complete accuracy and relevance. Great job!'}]\n",
      "            Faithfulness Score: [{'metric': 'Faithfulness', 'success': True, 'score': 1.0, 'reason': 'The score is 1.00 because there are no contradictions present, indicating that the actual output perfectly aligns with the retrieval context.'}]\n",
      "            Understanding Score: [{'metric': 'Understanding (GEval)', 'success': False, 'score': 0.21824255304737225, 'reason': 'The response provides some legal context but fails to directly answer the question about the maximum detention time, which is crucial for user understanding.'}]\n",
      "            \n",
      "Finished tests for model: rollama2-7b-instruct\n",
      "\n",
      "==================================================\n",
      "\n",
      "\n",
      "Running tests for query: Care sunt drepturile cetățeanului român?\n",
      "Using model: rollama3-8b-instruct\n"
     ]
    },
    {
     "data": {
      "text/html": [
       "<pre style=\"white-space:pre;overflow-x:auto;line-height:normal;font-family:Menlo,'DejaVu Sans Mono',consolas,'Courier New',monospace\">\n",
       "<span style=\"color: #05f58d; text-decoration-color: #05f58d\">✓</span> Tests finished 🎉! Run <span style=\"color: #008000; text-decoration-color: #008000; font-weight: bold\">'deepeval login'</span> to save and analyze evaluation results on Confident AI.\n",
       " \n",
       "✨👀 Looking for a place for your LLM test data to live 🏡❤️ ? Use <span style=\"color: #6a00ff; text-decoration-color: #6a00ff\">Confident AI</span> to get &amp; share testing reports, \n",
       "experiment with models/prompts, and catch regressions for your LLM system. Just run <span style=\"color: #008080; text-decoration-color: #008080\">'deepeval login'</span> in the CLI. \n",
       "\n",
       "</pre>\n"
      ],
      "text/plain": [
       "\n",
       "\u001b[38;2;5;245;141m✓\u001b[0m Tests finished 🎉! Run \u001b[1;32m'deepeval login'\u001b[0m to save and analyze evaluation results on Confident AI.\n",
       " \n",
       "✨👀 Looking for a place for your LLM test data to live 🏡❤️ ? Use \u001b[38;2;106;0;255mConfident AI\u001b[0m to get & share testing reports, \n",
       "experiment with models/prompts, and catch regressions for your LLM system. Just run \u001b[36m'deepeval login'\u001b[0m in the CLI. \n",
       "\n"
      ]
     },
     "metadata": {},
     "output_type": "display_data"
    },
    {
     "data": {
      "text/html": [
       "<pre style=\"white-space:pre;overflow-x:auto;line-height:normal;font-family:Menlo,'DejaVu Sans Mono',consolas,'Courier New',monospace\">\n",
       "<span style=\"color: #05f58d; text-decoration-color: #05f58d\">✓</span> Tests finished 🎉! Run <span style=\"color: #008000; text-decoration-color: #008000; font-weight: bold\">'deepeval login'</span> to save and analyze evaluation results on Confident AI.\n",
       " \n",
       "✨👀 Looking for a place for your LLM test data to live 🏡❤️ ? Use <span style=\"color: #6a00ff; text-decoration-color: #6a00ff\">Confident AI</span> to get &amp; share testing reports, \n",
       "experiment with models/prompts, and catch regressions for your LLM system. Just run <span style=\"color: #008080; text-decoration-color: #008080\">'deepeval login'</span> in the CLI. \n",
       "\n",
       "</pre>\n"
      ],
      "text/plain": [
       "\n",
       "\u001b[38;2;5;245;141m✓\u001b[0m Tests finished 🎉! Run \u001b[1;32m'deepeval login'\u001b[0m to save and analyze evaluation results on Confident AI.\n",
       " \n",
       "✨👀 Looking for a place for your LLM test data to live 🏡❤️ ? Use \u001b[38;2;106;0;255mConfident AI\u001b[0m to get & share testing reports, \n",
       "experiment with models/prompts, and catch regressions for your LLM system. Just run \u001b[36m'deepeval login'\u001b[0m in the CLI. \n",
       "\n"
      ]
     },
     "metadata": {},
     "output_type": "display_data"
    },
    {
     "data": {
      "text/html": [
       "<pre style=\"white-space:pre;overflow-x:auto;line-height:normal;font-family:Menlo,'DejaVu Sans Mono',consolas,'Courier New',monospace\">\n",
       "<span style=\"color: #05f58d; text-decoration-color: #05f58d\">✓</span> Tests finished 🎉! Run <span style=\"color: #008000; text-decoration-color: #008000; font-weight: bold\">'deepeval login'</span> to save and analyze evaluation results on Confident AI.\n",
       " \n",
       "✨👀 Looking for a place for your LLM test data to live 🏡❤️ ? Use <span style=\"color: #6a00ff; text-decoration-color: #6a00ff\">Confident AI</span> to get &amp; share testing reports, \n",
       "experiment with models/prompts, and catch regressions for your LLM system. Just run <span style=\"color: #008080; text-decoration-color: #008080\">'deepeval login'</span> in the CLI. \n",
       "\n",
       "</pre>\n"
      ],
      "text/plain": [
       "\n",
       "\u001b[38;2;5;245;141m✓\u001b[0m Tests finished 🎉! Run \u001b[1;32m'deepeval login'\u001b[0m to save and analyze evaluation results on Confident AI.\n",
       " \n",
       "✨👀 Looking for a place for your LLM test data to live 🏡❤️ ? Use \u001b[38;2;106;0;255mConfident AI\u001b[0m to get & share testing reports, \n",
       "experiment with models/prompts, and catch regressions for your LLM system. Just run \u001b[36m'deepeval login'\u001b[0m in the CLI. \n",
       "\n"
      ]
     },
     "metadata": {},
     "output_type": "display_data"
    },
    {
     "data": {
      "text/html": [
       "<pre style=\"white-space:pre;overflow-x:auto;line-height:normal;font-family:Menlo,'DejaVu Sans Mono',consolas,'Courier New',monospace\">\n",
       "<span style=\"color: #05f58d; text-decoration-color: #05f58d\">✓</span> Tests finished 🎉! Run <span style=\"color: #008000; text-decoration-color: #008000; font-weight: bold\">'deepeval login'</span> to save and analyze evaluation results on Confident AI.\n",
       " \n",
       "✨👀 Looking for a place for your LLM test data to live 🏡❤️ ? Use <span style=\"color: #6a00ff; text-decoration-color: #6a00ff\">Confident AI</span> to get &amp; share testing reports, \n",
       "experiment with models/prompts, and catch regressions for your LLM system. Just run <span style=\"color: #008080; text-decoration-color: #008080\">'deepeval login'</span> in the CLI. \n",
       "\n",
       "</pre>\n"
      ],
      "text/plain": [
       "\n",
       "\u001b[38;2;5;245;141m✓\u001b[0m Tests finished 🎉! Run \u001b[1;32m'deepeval login'\u001b[0m to save and analyze evaluation results on Confident AI.\n",
       " \n",
       "✨👀 Looking for a place for your LLM test data to live 🏡❤️ ? Use \u001b[38;2;106;0;255mConfident AI\u001b[0m to get & share testing reports, \n",
       "experiment with models/prompts, and catch regressions for your LLM system. Just run \u001b[36m'deepeval login'\u001b[0m in the CLI. \n",
       "\n"
      ]
     },
     "metadata": {},
     "output_type": "display_data"
    },
    {
     "name": "stdout",
     "output_type": "stream",
     "text": [
      "\n",
      "            Query: Care sunt drepturile cetățeanului român?\n",
      "            Expected: Cetățeanul român beneficiază de drepturi și libertăți fundamentale în toate domeniile vieții. Drepturile civile și politice includ dreptul la viață, libertatea individuală, dreptul la apărare, dreptul de vot de la 18 ani și eligibilitatea pentru funcții publice. Libertățile fundamentale cuprind libertatea gândirii și credinței religioase, libertatea de exprimare, dreptul la informație și dreptul de asociere în partide și sindicate. Drepturile economice și sociale garantează munca liber aleasă, greva, proprietatea privată, moștenirea, pensia și asistența medicală. În plus, cetățenii au dreptul la învățătură, acces la cultură, un mediu sănătos și protecția statului în străinătate.\n",
      "            Actual: Conform Constituției României, cetățenii sunt egali în fața legii și a autorităților publice. Nimeni nu este mai presus de lege. Statul garantează egalitatea de șanse între femei și bărbați pentru ocuparea funcțiilor și demnităților publice, civile sau militare. Cetățenii au dreptul de a alege și de a fi aleși în autoritățile administrației publice locale, în cazul în care acestea sunt cetățeni ai Uniunii Europene și îndeplinesc cerințele legale. Dispozițiile constituționale privitoare la drepturile și libertățile cetățenilor trebuie interpretate și aplicate în concordanță cu Declarația Universală a Drepturilor Omului, Pacte, Tratatele la care România este parte.\n",
      "            Relevancy Score: [{'metric': 'Answer Relevancy', 'success': True, 'score': 1.0, 'reason': 'The score is 1.00 because the response perfectly addresses the question about the rights of a Romanian citizen without any irrelevant information. Great job on staying focused and relevant!'}]\n",
      "            Recall Score: [{'metric': 'Contextual Recall', 'success': False, 'score': 0.4, 'reason': 'The score is 0.40 because while the 1st and 2nd nodes in the retrieval context align with the expected output regarding constitutional rights and voting rights, the context lacks specific references to other fundamental freedoms, economic and social rights, and additional citizen rights mentioned in the expected output.'}]\n",
      "            Faithfulness Score: [{'metric': 'Faithfulness', 'success': True, 'score': 0.8, 'reason': 'The score is 0.80 because the actual output asserts that constitutional provisions must align with international human rights agreements, a detail not explicitly mentioned in the retrieval context.'}]\n",
      "            Understanding Score: [{'metric': 'Understanding (GEval)', 'success': False, 'score': 0.42572627529528484, 'reason': 'The response provides some legal rights but lacks clarity and accessibility for someone without legal knowledge, making it difficult for users to understand their rights and obligations.'}]\n",
      "            \n",
      "Using model: rollama2-7b-instruct\n"
     ]
    },
    {
     "data": {
      "text/html": [
       "<pre style=\"white-space:pre;overflow-x:auto;line-height:normal;font-family:Menlo,'DejaVu Sans Mono',consolas,'Courier New',monospace\">\n",
       "<span style=\"color: #05f58d; text-decoration-color: #05f58d\">✓</span> Tests finished 🎉! Run <span style=\"color: #008000; text-decoration-color: #008000; font-weight: bold\">'deepeval login'</span> to save and analyze evaluation results on Confident AI.\n",
       " \n",
       "✨👀 Looking for a place for your LLM test data to live 🏡❤️ ? Use <span style=\"color: #6a00ff; text-decoration-color: #6a00ff\">Confident AI</span> to get &amp; share testing reports, \n",
       "experiment with models/prompts, and catch regressions for your LLM system. Just run <span style=\"color: #008080; text-decoration-color: #008080\">'deepeval login'</span> in the CLI. \n",
       "\n",
       "</pre>\n"
      ],
      "text/plain": [
       "\n",
       "\u001b[38;2;5;245;141m✓\u001b[0m Tests finished 🎉! Run \u001b[1;32m'deepeval login'\u001b[0m to save and analyze evaluation results on Confident AI.\n",
       " \n",
       "✨👀 Looking for a place for your LLM test data to live 🏡❤️ ? Use \u001b[38;2;106;0;255mConfident AI\u001b[0m to get & share testing reports, \n",
       "experiment with models/prompts, and catch regressions for your LLM system. Just run \u001b[36m'deepeval login'\u001b[0m in the CLI. \n",
       "\n"
      ]
     },
     "metadata": {},
     "output_type": "display_data"
    },
    {
     "data": {
      "text/html": [
       "<pre style=\"white-space:pre;overflow-x:auto;line-height:normal;font-family:Menlo,'DejaVu Sans Mono',consolas,'Courier New',monospace\">\n",
       "<span style=\"color: #05f58d; text-decoration-color: #05f58d\">✓</span> Tests finished 🎉! Run <span style=\"color: #008000; text-decoration-color: #008000; font-weight: bold\">'deepeval login'</span> to save and analyze evaluation results on Confident AI.\n",
       " \n",
       "✨👀 Looking for a place for your LLM test data to live 🏡❤️ ? Use <span style=\"color: #6a00ff; text-decoration-color: #6a00ff\">Confident AI</span> to get &amp; share testing reports, \n",
       "experiment with models/prompts, and catch regressions for your LLM system. Just run <span style=\"color: #008080; text-decoration-color: #008080\">'deepeval login'</span> in the CLI. \n",
       "\n",
       "</pre>\n"
      ],
      "text/plain": [
       "\n",
       "\u001b[38;2;5;245;141m✓\u001b[0m Tests finished 🎉! Run \u001b[1;32m'deepeval login'\u001b[0m to save and analyze evaluation results on Confident AI.\n",
       " \n",
       "✨👀 Looking for a place for your LLM test data to live 🏡❤️ ? Use \u001b[38;2;106;0;255mConfident AI\u001b[0m to get & share testing reports, \n",
       "experiment with models/prompts, and catch regressions for your LLM system. Just run \u001b[36m'deepeval login'\u001b[0m in the CLI. \n",
       "\n"
      ]
     },
     "metadata": {},
     "output_type": "display_data"
    },
    {
     "data": {
      "text/html": [
       "<pre style=\"white-space:pre;overflow-x:auto;line-height:normal;font-family:Menlo,'DejaVu Sans Mono',consolas,'Courier New',monospace\">\n",
       "<span style=\"color: #05f58d; text-decoration-color: #05f58d\">✓</span> Tests finished 🎉! Run <span style=\"color: #008000; text-decoration-color: #008000; font-weight: bold\">'deepeval login'</span> to save and analyze evaluation results on Confident AI.\n",
       " \n",
       "✨👀 Looking for a place for your LLM test data to live 🏡❤️ ? Use <span style=\"color: #6a00ff; text-decoration-color: #6a00ff\">Confident AI</span> to get &amp; share testing reports, \n",
       "experiment with models/prompts, and catch regressions for your LLM system. Just run <span style=\"color: #008080; text-decoration-color: #008080\">'deepeval login'</span> in the CLI. \n",
       "\n",
       "</pre>\n"
      ],
      "text/plain": [
       "\n",
       "\u001b[38;2;5;245;141m✓\u001b[0m Tests finished 🎉! Run \u001b[1;32m'deepeval login'\u001b[0m to save and analyze evaluation results on Confident AI.\n",
       " \n",
       "✨👀 Looking for a place for your LLM test data to live 🏡❤️ ? Use \u001b[38;2;106;0;255mConfident AI\u001b[0m to get & share testing reports, \n",
       "experiment with models/prompts, and catch regressions for your LLM system. Just run \u001b[36m'deepeval login'\u001b[0m in the CLI. \n",
       "\n"
      ]
     },
     "metadata": {},
     "output_type": "display_data"
    },
    {
     "data": {
      "text/html": [
       "<pre style=\"white-space:pre;overflow-x:auto;line-height:normal;font-family:Menlo,'DejaVu Sans Mono',consolas,'Courier New',monospace\">\n",
       "<span style=\"color: #05f58d; text-decoration-color: #05f58d\">✓</span> Tests finished 🎉! Run <span style=\"color: #008000; text-decoration-color: #008000; font-weight: bold\">'deepeval login'</span> to save and analyze evaluation results on Confident AI.\n",
       " \n",
       "✨👀 Looking for a place for your LLM test data to live 🏡❤️ ? Use <span style=\"color: #6a00ff; text-decoration-color: #6a00ff\">Confident AI</span> to get &amp; share testing reports, \n",
       "experiment with models/prompts, and catch regressions for your LLM system. Just run <span style=\"color: #008080; text-decoration-color: #008080\">'deepeval login'</span> in the CLI. \n",
       "\n",
       "</pre>\n"
      ],
      "text/plain": [
       "\n",
       "\u001b[38;2;5;245;141m✓\u001b[0m Tests finished 🎉! Run \u001b[1;32m'deepeval login'\u001b[0m to save and analyze evaluation results on Confident AI.\n",
       " \n",
       "✨👀 Looking for a place for your LLM test data to live 🏡❤️ ? Use \u001b[38;2;106;0;255mConfident AI\u001b[0m to get & share testing reports, \n",
       "experiment with models/prompts, and catch regressions for your LLM system. Just run \u001b[36m'deepeval login'\u001b[0m in the CLI. \n",
       "\n"
      ]
     },
     "metadata": {},
     "output_type": "display_data"
    },
    {
     "name": "stdout",
     "output_type": "stream",
     "text": [
      "\n",
      "            Query: Care sunt drepturile cetățeanului român?\n",
      "            Expected: Cetățeanul român beneficiază de drepturi și libertăți fundamentale în toate domeniile vieții. Drepturile civile și politice includ dreptul la viață, libertatea individuală, dreptul la apărare, dreptul de vot de la 18 ani și eligibilitatea pentru funcții publice. Libertățile fundamentale cuprind libertatea gândirii și credinței religioase, libertatea de exprimare, dreptul la informație și dreptul de asociere în partide și sindicate. Drepturile economice și sociale garantează munca liber aleasă, greva, proprietatea privată, moștenirea, pensia și asistența medicală. În plus, cetățenii au dreptul la învățătură, acces la cultură, un mediu sănătos și protecția statului în străinătate.\n",
      "            Actual: \n",
      "Cetățenii României au drepturi precum libertatea de exprimare, libertatea religioasă, accesul la justiție și dreptul la viață privată. Ele sunt protejate de legile țării și pot fi exercitate cu bună-credință și fără încălcarea drepturilor altora.\n",
      "\n",
      "            Relevancy Score: [{'metric': 'Answer Relevancy', 'success': True, 'score': 1.0, 'reason': 'The score is 1.00 because the response perfectly addresses the question about the rights of a Romanian citizen without any irrelevant information. Great job on staying focused and relevant!'}]\n",
      "            Recall Score: [{'metric': 'Contextual Recall', 'success': False, 'score': 0.4, 'reason': 'The score is 0.40 because while the 1st and 2nd nodes in the retrieval context align with sentences about constitutional rights and voting, many other aspects such as religious freedom, economic rights, and cultural access are not covered by the nodes, leading to a lower contextual recall.'}]\n",
      "            Faithfulness Score: [{'metric': 'Faithfulness', 'success': True, 'score': 1.0, 'reason': 'The score is 1.00 because there are no contradictions present, indicating that the actual output perfectly aligns with the retrieval context.'}]\n",
      "            Understanding Score: [{'metric': 'Understanding (GEval)', 'success': False, 'score': 0.531080139697548, 'reason': 'The actual output lists some rights of Romanian citizens but lacks the depth and clarity found in the expected output, making it less accessible for someone without legal knowledge.'}]\n",
      "            \n",
      "Finished tests for model: rollama2-7b-instruct\n",
      "\n",
      "==================================================\n",
      "\n",
      "\n",
      "Running tests for query: Ce obligație are angajatorul înainte de încheierea contractului individual de muncă?\n",
      "Using model: rollama3-8b-instruct\n"
     ]
    },
    {
     "data": {
      "text/html": [
       "<pre style=\"white-space:pre;overflow-x:auto;line-height:normal;font-family:Menlo,'DejaVu Sans Mono',consolas,'Courier New',monospace\">\n",
       "<span style=\"color: #05f58d; text-decoration-color: #05f58d\">✓</span> Tests finished 🎉! Run <span style=\"color: #008000; text-decoration-color: #008000; font-weight: bold\">'deepeval login'</span> to save and analyze evaluation results on Confident AI.\n",
       " \n",
       "✨👀 Looking for a place for your LLM test data to live 🏡❤️ ? Use <span style=\"color: #6a00ff; text-decoration-color: #6a00ff\">Confident AI</span> to get &amp; share testing reports, \n",
       "experiment with models/prompts, and catch regressions for your LLM system. Just run <span style=\"color: #008080; text-decoration-color: #008080\">'deepeval login'</span> in the CLI. \n",
       "\n",
       "</pre>\n"
      ],
      "text/plain": [
       "\n",
       "\u001b[38;2;5;245;141m✓\u001b[0m Tests finished 🎉! Run \u001b[1;32m'deepeval login'\u001b[0m to save and analyze evaluation results on Confident AI.\n",
       " \n",
       "✨👀 Looking for a place for your LLM test data to live 🏡❤️ ? Use \u001b[38;2;106;0;255mConfident AI\u001b[0m to get & share testing reports, \n",
       "experiment with models/prompts, and catch regressions for your LLM system. Just run \u001b[36m'deepeval login'\u001b[0m in the CLI. \n",
       "\n"
      ]
     },
     "metadata": {},
     "output_type": "display_data"
    },
    {
     "data": {
      "text/html": [
       "<pre style=\"white-space:pre;overflow-x:auto;line-height:normal;font-family:Menlo,'DejaVu Sans Mono',consolas,'Courier New',monospace\">\n",
       "<span style=\"color: #05f58d; text-decoration-color: #05f58d\">✓</span> Tests finished 🎉! Run <span style=\"color: #008000; text-decoration-color: #008000; font-weight: bold\">'deepeval login'</span> to save and analyze evaluation results on Confident AI.\n",
       " \n",
       "✨👀 Looking for a place for your LLM test data to live 🏡❤️ ? Use <span style=\"color: #6a00ff; text-decoration-color: #6a00ff\">Confident AI</span> to get &amp; share testing reports, \n",
       "experiment with models/prompts, and catch regressions for your LLM system. Just run <span style=\"color: #008080; text-decoration-color: #008080\">'deepeval login'</span> in the CLI. \n",
       "\n",
       "</pre>\n"
      ],
      "text/plain": [
       "\n",
       "\u001b[38;2;5;245;141m✓\u001b[0m Tests finished 🎉! Run \u001b[1;32m'deepeval login'\u001b[0m to save and analyze evaluation results on Confident AI.\n",
       " \n",
       "✨👀 Looking for a place for your LLM test data to live 🏡❤️ ? Use \u001b[38;2;106;0;255mConfident AI\u001b[0m to get & share testing reports, \n",
       "experiment with models/prompts, and catch regressions for your LLM system. Just run \u001b[36m'deepeval login'\u001b[0m in the CLI. \n",
       "\n"
      ]
     },
     "metadata": {},
     "output_type": "display_data"
    },
    {
     "data": {
      "text/html": [
       "<pre style=\"white-space:pre;overflow-x:auto;line-height:normal;font-family:Menlo,'DejaVu Sans Mono',consolas,'Courier New',monospace\">\n",
       "<span style=\"color: #05f58d; text-decoration-color: #05f58d\">✓</span> Tests finished 🎉! Run <span style=\"color: #008000; text-decoration-color: #008000; font-weight: bold\">'deepeval login'</span> to save and analyze evaluation results on Confident AI.\n",
       " \n",
       "✨👀 Looking for a place for your LLM test data to live 🏡❤️ ? Use <span style=\"color: #6a00ff; text-decoration-color: #6a00ff\">Confident AI</span> to get &amp; share testing reports, \n",
       "experiment with models/prompts, and catch regressions for your LLM system. Just run <span style=\"color: #008080; text-decoration-color: #008080\">'deepeval login'</span> in the CLI. \n",
       "\n",
       "</pre>\n"
      ],
      "text/plain": [
       "\n",
       "\u001b[38;2;5;245;141m✓\u001b[0m Tests finished 🎉! Run \u001b[1;32m'deepeval login'\u001b[0m to save and analyze evaluation results on Confident AI.\n",
       " \n",
       "✨👀 Looking for a place for your LLM test data to live 🏡❤️ ? Use \u001b[38;2;106;0;255mConfident AI\u001b[0m to get & share testing reports, \n",
       "experiment with models/prompts, and catch regressions for your LLM system. Just run \u001b[36m'deepeval login'\u001b[0m in the CLI. \n",
       "\n"
      ]
     },
     "metadata": {},
     "output_type": "display_data"
    },
    {
     "data": {
      "text/html": [
       "<pre style=\"white-space:pre;overflow-x:auto;line-height:normal;font-family:Menlo,'DejaVu Sans Mono',consolas,'Courier New',monospace\">\n",
       "<span style=\"color: #05f58d; text-decoration-color: #05f58d\">✓</span> Tests finished 🎉! Run <span style=\"color: #008000; text-decoration-color: #008000; font-weight: bold\">'deepeval login'</span> to save and analyze evaluation results on Confident AI.\n",
       " \n",
       "✨👀 Looking for a place for your LLM test data to live 🏡❤️ ? Use <span style=\"color: #6a00ff; text-decoration-color: #6a00ff\">Confident AI</span> to get &amp; share testing reports, \n",
       "experiment with models/prompts, and catch regressions for your LLM system. Just run <span style=\"color: #008080; text-decoration-color: #008080\">'deepeval login'</span> in the CLI. \n",
       "\n",
       "</pre>\n"
      ],
      "text/plain": [
       "\n",
       "\u001b[38;2;5;245;141m✓\u001b[0m Tests finished 🎉! Run \u001b[1;32m'deepeval login'\u001b[0m to save and analyze evaluation results on Confident AI.\n",
       " \n",
       "✨👀 Looking for a place for your LLM test data to live 🏡❤️ ? Use \u001b[38;2;106;0;255mConfident AI\u001b[0m to get & share testing reports, \n",
       "experiment with models/prompts, and catch regressions for your LLM system. Just run \u001b[36m'deepeval login'\u001b[0m in the CLI. \n",
       "\n"
      ]
     },
     "metadata": {},
     "output_type": "display_data"
    },
    {
     "name": "stdout",
     "output_type": "stream",
     "text": [
      "\n",
      "            Query: Ce obligație are angajatorul înainte de încheierea contractului individual de muncă?\n",
      "            Expected: Anterior încheierii sau modificării contractului individual de muncă, angajatorul are obligația de a informa persoana selectată în vederea angajării cu privire la clauzele esențiale pe care intenționează să le înscrie în contract sau să le modifice.\n",
      "            Actual: Înainte de încheierea contractului individual de muncă, angajatorii au obligația de a informa persoana selectată în vederea angajării sau a salariatului cu privire la clauzele esențiale pe care intenționează să le includă în contract sau să le modifice. Această obligație se consideră îndeplinită de către angajator la momentul semnării contractului individual de muncă, fie prin act suplimentar.\n",
      "\n",
      "Cu alte cuvinte, angajatorii trebuie să avertizeze persoana selectată în vederea angajării sau salariatul cu privire la următoarele:\n",
      "- Identitatea părților (angajator și lucrător)\n",
      "- Locul de muncă\n",
      "- Sediul sau domiciliul angajatorului\n",
      "- Funcția/ocupația conform Clasificării Ocupațiilor din România, precum și descrierea poziției\n",
      "- Criterii pentru evaluarea activității profesionale ale lucrătorului de către angajator\n",
      "- Riscuri specifice postului\n",
      "- Data la care contractul urmează să producă efecte\n",
      "- Dacă se aplică, durata unui contract de muncă pe durata determinată sau a unui contract de muncă temporar\n",
      "- Durata concediului de odihnă\n",
      "- Preavizul și durata acestuia\n",
      "- Salariul de bază (și orice alte elemente constitutive ale veniturilor salariale)\n",
      "- Ora normală de lucru, condițiile pentru ore suplimentare, dacă se aplică și modul în care muncitorii pot fi organizate în schimburi\n",
      "- Dacă este cazul, perioada probațională a contractului individual de muncă\n",
      "- Procedurile privind semnarea electronică avansată sau calificată, împreună cu marca temporala electronică și sigiliul calificat al angajatorului\n",
      "- Drepturi în materie de formare profesională pentru lucrători oferite de angajatori\n",
      "- Acoperirea asigurărilor medicale private, a contribuțiilor suplimentare la pensii sau la pensionarea ocupațională și acordarea oricăror alte drepturi financiare acordate de către angajator salariatului în urma activității acestuia\n",
      "- Orice modificări ale contractelor trebuie să fie efectuate printr-un act suplimentar la contractul individual de muncă, cu excepția cazurilor prevăzute de lege sau de un contract colectiv aplicabil\n",
      "\n",
      "Cu alte cuvinte, înainte de semnarea unui contract individual de muncă, angajatorii trebuie să avertizeze persoana selectată și/sau lucrătorul cu privire la toate aceste puncte.\n",
      "            Relevancy Score: [{'metric': 'Answer Relevancy', 'success': True, 'score': 0.9, 'reason': \"The score is 0.90 because the majority of the output effectively addresses the employer's obligations before signing an individual employment contract. However, the score isn't higher due to two statements that focus on post-signing scenarios, which are not directly relevant to the input question.\"}]\n",
      "            Recall Score: [{'metric': 'Contextual Recall', 'success': True, 'score': 1.0, 'reason': 'The score is 1.00 because the expected output is perfectly aligned with the retrieval context, as the sentence is directly quoted from the 2nd node in the retrieval context. Great job!'}]\n",
      "            Faithfulness Score: [{'metric': 'Faithfulness', 'success': False, 'score': 0.10526315789473684, 'reason': 'The score is 0.11 because the actual output inaccurately states that the employer must inform the selected person about various essential details, whereas the retrieval context only mentions the need to warn them about these aspects, leading to significant discrepancies.'}]\n",
      "            Understanding Score: [{'metric': 'Understanding (GEval)', 'success': False, 'score': 0.6629697207824109, 'reason': \"The response is clear and accessible, detailing the employer's obligations, but it is more verbose than the expected output, which may hinder understanding for someone without legal knowledge.\"}]\n",
      "            \n",
      "Using model: rollama2-7b-instruct\n"
     ]
    },
    {
     "data": {
      "text/html": [
       "<pre style=\"white-space:pre;overflow-x:auto;line-height:normal;font-family:Menlo,'DejaVu Sans Mono',consolas,'Courier New',monospace\">\n",
       "<span style=\"color: #05f58d; text-decoration-color: #05f58d\">✓</span> Tests finished 🎉! Run <span style=\"color: #008000; text-decoration-color: #008000; font-weight: bold\">'deepeval login'</span> to save and analyze evaluation results on Confident AI.\n",
       " \n",
       "✨👀 Looking for a place for your LLM test data to live 🏡❤️ ? Use <span style=\"color: #6a00ff; text-decoration-color: #6a00ff\">Confident AI</span> to get &amp; share testing reports, \n",
       "experiment with models/prompts, and catch regressions for your LLM system. Just run <span style=\"color: #008080; text-decoration-color: #008080\">'deepeval login'</span> in the CLI. \n",
       "\n",
       "</pre>\n"
      ],
      "text/plain": [
       "\n",
       "\u001b[38;2;5;245;141m✓\u001b[0m Tests finished 🎉! Run \u001b[1;32m'deepeval login'\u001b[0m to save and analyze evaluation results on Confident AI.\n",
       " \n",
       "✨👀 Looking for a place for your LLM test data to live 🏡❤️ ? Use \u001b[38;2;106;0;255mConfident AI\u001b[0m to get & share testing reports, \n",
       "experiment with models/prompts, and catch regressions for your LLM system. Just run \u001b[36m'deepeval login'\u001b[0m in the CLI. \n",
       "\n"
      ]
     },
     "metadata": {},
     "output_type": "display_data"
    },
    {
     "data": {
      "text/html": [
       "<pre style=\"white-space:pre;overflow-x:auto;line-height:normal;font-family:Menlo,'DejaVu Sans Mono',consolas,'Courier New',monospace\">\n",
       "<span style=\"color: #05f58d; text-decoration-color: #05f58d\">✓</span> Tests finished 🎉! Run <span style=\"color: #008000; text-decoration-color: #008000; font-weight: bold\">'deepeval login'</span> to save and analyze evaluation results on Confident AI.\n",
       " \n",
       "✨👀 Looking for a place for your LLM test data to live 🏡❤️ ? Use <span style=\"color: #6a00ff; text-decoration-color: #6a00ff\">Confident AI</span> to get &amp; share testing reports, \n",
       "experiment with models/prompts, and catch regressions for your LLM system. Just run <span style=\"color: #008080; text-decoration-color: #008080\">'deepeval login'</span> in the CLI. \n",
       "\n",
       "</pre>\n"
      ],
      "text/plain": [
       "\n",
       "\u001b[38;2;5;245;141m✓\u001b[0m Tests finished 🎉! Run \u001b[1;32m'deepeval login'\u001b[0m to save and analyze evaluation results on Confident AI.\n",
       " \n",
       "✨👀 Looking for a place for your LLM test data to live 🏡❤️ ? Use \u001b[38;2;106;0;255mConfident AI\u001b[0m to get & share testing reports, \n",
       "experiment with models/prompts, and catch regressions for your LLM system. Just run \u001b[36m'deepeval login'\u001b[0m in the CLI. \n",
       "\n"
      ]
     },
     "metadata": {},
     "output_type": "display_data"
    },
    {
     "data": {
      "text/html": [
       "<pre style=\"white-space:pre;overflow-x:auto;line-height:normal;font-family:Menlo,'DejaVu Sans Mono',consolas,'Courier New',monospace\">\n",
       "<span style=\"color: #05f58d; text-decoration-color: #05f58d\">✓</span> Tests finished 🎉! Run <span style=\"color: #008000; text-decoration-color: #008000; font-weight: bold\">'deepeval login'</span> to save and analyze evaluation results on Confident AI.\n",
       " \n",
       "✨👀 Looking for a place for your LLM test data to live 🏡❤️ ? Use <span style=\"color: #6a00ff; text-decoration-color: #6a00ff\">Confident AI</span> to get &amp; share testing reports, \n",
       "experiment with models/prompts, and catch regressions for your LLM system. Just run <span style=\"color: #008080; text-decoration-color: #008080\">'deepeval login'</span> in the CLI. \n",
       "\n",
       "</pre>\n"
      ],
      "text/plain": [
       "\n",
       "\u001b[38;2;5;245;141m✓\u001b[0m Tests finished 🎉! Run \u001b[1;32m'deepeval login'\u001b[0m to save and analyze evaluation results on Confident AI.\n",
       " \n",
       "✨👀 Looking for a place for your LLM test data to live 🏡❤️ ? Use \u001b[38;2;106;0;255mConfident AI\u001b[0m to get & share testing reports, \n",
       "experiment with models/prompts, and catch regressions for your LLM system. Just run \u001b[36m'deepeval login'\u001b[0m in the CLI. \n",
       "\n"
      ]
     },
     "metadata": {},
     "output_type": "display_data"
    },
    {
     "data": {
      "text/html": [
       "<pre style=\"white-space:pre;overflow-x:auto;line-height:normal;font-family:Menlo,'DejaVu Sans Mono',consolas,'Courier New',monospace\">\n",
       "<span style=\"color: #05f58d; text-decoration-color: #05f58d\">✓</span> Tests finished 🎉! Run <span style=\"color: #008000; text-decoration-color: #008000; font-weight: bold\">'deepeval login'</span> to save and analyze evaluation results on Confident AI.\n",
       " \n",
       "✨👀 Looking for a place for your LLM test data to live 🏡❤️ ? Use <span style=\"color: #6a00ff; text-decoration-color: #6a00ff\">Confident AI</span> to get &amp; share testing reports, \n",
       "experiment with models/prompts, and catch regressions for your LLM system. Just run <span style=\"color: #008080; text-decoration-color: #008080\">'deepeval login'</span> in the CLI. \n",
       "\n",
       "</pre>\n"
      ],
      "text/plain": [
       "\n",
       "\u001b[38;2;5;245;141m✓\u001b[0m Tests finished 🎉! Run \u001b[1;32m'deepeval login'\u001b[0m to save and analyze evaluation results on Confident AI.\n",
       " \n",
       "✨👀 Looking for a place for your LLM test data to live 🏡❤️ ? Use \u001b[38;2;106;0;255mConfident AI\u001b[0m to get & share testing reports, \n",
       "experiment with models/prompts, and catch regressions for your LLM system. Just run \u001b[36m'deepeval login'\u001b[0m in the CLI. \n",
       "\n"
      ]
     },
     "metadata": {},
     "output_type": "display_data"
    },
    {
     "name": "stdout",
     "output_type": "stream",
     "text": [
      "\n",
      "            Query: Ce obligație are angajatorul înainte de încheierea contractului individual de muncă?\n",
      "            Expected: Anterior încheierii sau modificării contractului individual de muncă, angajatorul are obligația de a informa persoana selectată în vederea angajării cu privire la clauzele esențiale pe care intenționează să le înscrie în contract sau să le modifice.\n",
      "            Actual: \n",
      "Înainte de încheierea unui contract individual de muncă sau pe parcursul executării acestuia, angajatorul are obligația de a informa persoana selectată în vederea angajării sau salariatul, după caz, despre clauzele esențiale care urmează să fie înscrise în contract sau modificate. \n",
      "\n",
      "Aceste elemente includ: \n",
      "- sediul angajatorului sau domiciliul; \n",
      "- funcție/ocupație, cu specificarea atribuirii postului și a fișei postului; \n",
      "- riscurile specifice ale postului; \n",
      "- durata normală a muncii, exprimată în ore/zi și/sau ore/săptămână; \n",
      "- condițiile de efectuare și de compensare sau plată a orelor suplimentare; \n",
      "- perioada de probă, dacă există. \n",
      "            Relevancy Score: [{'metric': 'Answer Relevancy', 'success': True, 'score': 1.0, 'reason': \"The score is 1.00 because the response perfectly addresses the question about the employer's obligations before signing an individual employment contract, without any irrelevant information. Great job on staying focused and relevant!\"}]\n",
      "            Recall Score: [{'metric': 'Contextual Recall', 'success': True, 'score': 1.0, 'reason': 'The score is 1.00 because the expected output is perfectly aligned with the retrieval context, as the sentence is directly quoted from the 2nd node in the retrieval context. Great job!'}]\n",
      "            Faithfulness Score: [{'metric': 'Faithfulness', 'success': False, 'score': 0.42857142857142855, 'reason': 'The score is 0.43 because the actual output fails to provide specific details required by the retrieval context, such as the specific assignment and job description, the expression of normal working hours in hours/day or hours/week, compensation for overtime, and the essential clause regarding the probation period.'}]\n",
      "            Understanding Score: [{'metric': 'Understanding (GEval)', 'success': False, 'score': 0.6685915347993905, 'reason': \"The actual output provides detailed information about the employer's obligations, but it is somewhat complex and may not be fully accessible to someone without legal knowledge, which affects clarity.\"}]\n",
      "            \n",
      "Finished tests for model: rollama2-7b-instruct\n",
      "\n",
      "==================================================\n",
      "\n",
      "\n",
      "Running tests for query: Care este vârsta legală minimă pentru încheierea unei căsătorii în România?\n",
      "Using model: rollama3-8b-instruct\n"
     ]
    },
    {
     "data": {
      "text/html": [
       "<pre style=\"white-space:pre;overflow-x:auto;line-height:normal;font-family:Menlo,'DejaVu Sans Mono',consolas,'Courier New',monospace\">\n",
       "<span style=\"color: #05f58d; text-decoration-color: #05f58d\">✓</span> Tests finished 🎉! Run <span style=\"color: #008000; text-decoration-color: #008000; font-weight: bold\">'deepeval login'</span> to save and analyze evaluation results on Confident AI.\n",
       " \n",
       "✨👀 Looking for a place for your LLM test data to live 🏡❤️ ? Use <span style=\"color: #6a00ff; text-decoration-color: #6a00ff\">Confident AI</span> to get &amp; share testing reports, \n",
       "experiment with models/prompts, and catch regressions for your LLM system. Just run <span style=\"color: #008080; text-decoration-color: #008080\">'deepeval login'</span> in the CLI. \n",
       "\n",
       "</pre>\n"
      ],
      "text/plain": [
       "\n",
       "\u001b[38;2;5;245;141m✓\u001b[0m Tests finished 🎉! Run \u001b[1;32m'deepeval login'\u001b[0m to save and analyze evaluation results on Confident AI.\n",
       " \n",
       "✨👀 Looking for a place for your LLM test data to live 🏡❤️ ? Use \u001b[38;2;106;0;255mConfident AI\u001b[0m to get & share testing reports, \n",
       "experiment with models/prompts, and catch regressions for your LLM system. Just run \u001b[36m'deepeval login'\u001b[0m in the CLI. \n",
       "\n"
      ]
     },
     "metadata": {},
     "output_type": "display_data"
    },
    {
     "data": {
      "text/html": [
       "<pre style=\"white-space:pre;overflow-x:auto;line-height:normal;font-family:Menlo,'DejaVu Sans Mono',consolas,'Courier New',monospace\">\n",
       "<span style=\"color: #05f58d; text-decoration-color: #05f58d\">✓</span> Tests finished 🎉! Run <span style=\"color: #008000; text-decoration-color: #008000; font-weight: bold\">'deepeval login'</span> to save and analyze evaluation results on Confident AI.\n",
       " \n",
       "✨👀 Looking for a place for your LLM test data to live 🏡❤️ ? Use <span style=\"color: #6a00ff; text-decoration-color: #6a00ff\">Confident AI</span> to get &amp; share testing reports, \n",
       "experiment with models/prompts, and catch regressions for your LLM system. Just run <span style=\"color: #008080; text-decoration-color: #008080\">'deepeval login'</span> in the CLI. \n",
       "\n",
       "</pre>\n"
      ],
      "text/plain": [
       "\n",
       "\u001b[38;2;5;245;141m✓\u001b[0m Tests finished 🎉! Run \u001b[1;32m'deepeval login'\u001b[0m to save and analyze evaluation results on Confident AI.\n",
       " \n",
       "✨👀 Looking for a place for your LLM test data to live 🏡❤️ ? Use \u001b[38;2;106;0;255mConfident AI\u001b[0m to get & share testing reports, \n",
       "experiment with models/prompts, and catch regressions for your LLM system. Just run \u001b[36m'deepeval login'\u001b[0m in the CLI. \n",
       "\n"
      ]
     },
     "metadata": {},
     "output_type": "display_data"
    },
    {
     "data": {
      "text/html": [
       "<pre style=\"white-space:pre;overflow-x:auto;line-height:normal;font-family:Menlo,'DejaVu Sans Mono',consolas,'Courier New',monospace\">\n",
       "<span style=\"color: #05f58d; text-decoration-color: #05f58d\">✓</span> Tests finished 🎉! Run <span style=\"color: #008000; text-decoration-color: #008000; font-weight: bold\">'deepeval login'</span> to save and analyze evaluation results on Confident AI.\n",
       " \n",
       "✨👀 Looking for a place for your LLM test data to live 🏡❤️ ? Use <span style=\"color: #6a00ff; text-decoration-color: #6a00ff\">Confident AI</span> to get &amp; share testing reports, \n",
       "experiment with models/prompts, and catch regressions for your LLM system. Just run <span style=\"color: #008080; text-decoration-color: #008080\">'deepeval login'</span> in the CLI. \n",
       "\n",
       "</pre>\n"
      ],
      "text/plain": [
       "\n",
       "\u001b[38;2;5;245;141m✓\u001b[0m Tests finished 🎉! Run \u001b[1;32m'deepeval login'\u001b[0m to save and analyze evaluation results on Confident AI.\n",
       " \n",
       "✨👀 Looking for a place for your LLM test data to live 🏡❤️ ? Use \u001b[38;2;106;0;255mConfident AI\u001b[0m to get & share testing reports, \n",
       "experiment with models/prompts, and catch regressions for your LLM system. Just run \u001b[36m'deepeval login'\u001b[0m in the CLI. \n",
       "\n"
      ]
     },
     "metadata": {},
     "output_type": "display_data"
    },
    {
     "data": {
      "text/html": [
       "<pre style=\"white-space:pre;overflow-x:auto;line-height:normal;font-family:Menlo,'DejaVu Sans Mono',consolas,'Courier New',monospace\">\n",
       "<span style=\"color: #05f58d; text-decoration-color: #05f58d\">✓</span> Tests finished 🎉! Run <span style=\"color: #008000; text-decoration-color: #008000; font-weight: bold\">'deepeval login'</span> to save and analyze evaluation results on Confident AI.\n",
       " \n",
       "✨👀 Looking for a place for your LLM test data to live 🏡❤️ ? Use <span style=\"color: #6a00ff; text-decoration-color: #6a00ff\">Confident AI</span> to get &amp; share testing reports, \n",
       "experiment with models/prompts, and catch regressions for your LLM system. Just run <span style=\"color: #008080; text-decoration-color: #008080\">'deepeval login'</span> in the CLI. \n",
       "\n",
       "</pre>\n"
      ],
      "text/plain": [
       "\n",
       "\u001b[38;2;5;245;141m✓\u001b[0m Tests finished 🎉! Run \u001b[1;32m'deepeval login'\u001b[0m to save and analyze evaluation results on Confident AI.\n",
       " \n",
       "✨👀 Looking for a place for your LLM test data to live 🏡❤️ ? Use \u001b[38;2;106;0;255mConfident AI\u001b[0m to get & share testing reports, \n",
       "experiment with models/prompts, and catch regressions for your LLM system. Just run \u001b[36m'deepeval login'\u001b[0m in the CLI. \n",
       "\n"
      ]
     },
     "metadata": {},
     "output_type": "display_data"
    },
    {
     "name": "stdout",
     "output_type": "stream",
     "text": [
      "\n",
      "            Query: Care este vârsta legală minimă pentru încheierea unei căsătorii în România?\n",
      "            Expected: Căsătoria se poate încheia dacă viitorii soți au împlinit vârsta de 18 ani.\n",
      "            Actual: Căsătoria legală poate avea loc între vârstele cuprinse între 16 și 18 ani. Dacă o căsătorie este contractată sub acest lucru, aceasta nu este nulă absolut, dar până la rămâna definitivă a hotărârii judecătorești, ambii soți trebuie să împlinească vârsta de 18 ani.\n",
      "            Relevancy Score: [{'metric': 'Answer Relevancy', 'success': False, 'score': 0.6666666666666666, 'reason': 'The score is 0.67 because the response partially addresses the question about the legal minimum age for marriage in Romania. However, it includes a discussion on the validity of marriage under 16, which is not directly relevant to the query. This additional information slightly detracts from the overall relevance, preventing a higher score.'}]\n",
      "            Recall Score: [{'metric': 'Contextual Recall', 'success': True, 'score': 1.0, 'reason': 'The score is 1.00 because the expected output perfectly matches the information from the 2nd node in the retrieval context, demonstrating a flawless alignment.'}]\n",
      "            Faithfulness Score: [{'metric': 'Faithfulness', 'success': False, 'score': 0.0, 'reason': 'The score is 0.00 because the actual output contradicts the retrieval context by stating that marriage can occur under the age of 18 without acknowledging the specific conditions and legal nullity outlined in the context.'}]\n",
      "            Understanding Score: [{'metric': 'Understanding (GEval)', 'success': False, 'score': 0.4872753198389761, 'reason': 'The actual output provides some information about the age range for marriage but is not as clear and concise as the expected output, making it harder for someone without legal knowledge to understand.'}]\n",
      "            \n",
      "Using model: rollama2-7b-instruct\n"
     ]
    },
    {
     "data": {
      "text/html": [
       "<pre style=\"white-space:pre;overflow-x:auto;line-height:normal;font-family:Menlo,'DejaVu Sans Mono',consolas,'Courier New',monospace\">\n",
       "<span style=\"color: #05f58d; text-decoration-color: #05f58d\">✓</span> Tests finished 🎉! Run <span style=\"color: #008000; text-decoration-color: #008000; font-weight: bold\">'deepeval login'</span> to save and analyze evaluation results on Confident AI.\n",
       " \n",
       "✨👀 Looking for a place for your LLM test data to live 🏡❤️ ? Use <span style=\"color: #6a00ff; text-decoration-color: #6a00ff\">Confident AI</span> to get &amp; share testing reports, \n",
       "experiment with models/prompts, and catch regressions for your LLM system. Just run <span style=\"color: #008080; text-decoration-color: #008080\">'deepeval login'</span> in the CLI. \n",
       "\n",
       "</pre>\n"
      ],
      "text/plain": [
       "\n",
       "\u001b[38;2;5;245;141m✓\u001b[0m Tests finished 🎉! Run \u001b[1;32m'deepeval login'\u001b[0m to save and analyze evaluation results on Confident AI.\n",
       " \n",
       "✨👀 Looking for a place for your LLM test data to live 🏡❤️ ? Use \u001b[38;2;106;0;255mConfident AI\u001b[0m to get & share testing reports, \n",
       "experiment with models/prompts, and catch regressions for your LLM system. Just run \u001b[36m'deepeval login'\u001b[0m in the CLI. \n",
       "\n"
      ]
     },
     "metadata": {},
     "output_type": "display_data"
    },
    {
     "data": {
      "text/html": [
       "<pre style=\"white-space:pre;overflow-x:auto;line-height:normal;font-family:Menlo,'DejaVu Sans Mono',consolas,'Courier New',monospace\">\n",
       "<span style=\"color: #05f58d; text-decoration-color: #05f58d\">✓</span> Tests finished 🎉! Run <span style=\"color: #008000; text-decoration-color: #008000; font-weight: bold\">'deepeval login'</span> to save and analyze evaluation results on Confident AI.\n",
       " \n",
       "✨👀 Looking for a place for your LLM test data to live 🏡❤️ ? Use <span style=\"color: #6a00ff; text-decoration-color: #6a00ff\">Confident AI</span> to get &amp; share testing reports, \n",
       "experiment with models/prompts, and catch regressions for your LLM system. Just run <span style=\"color: #008080; text-decoration-color: #008080\">'deepeval login'</span> in the CLI. \n",
       "\n",
       "</pre>\n"
      ],
      "text/plain": [
       "\n",
       "\u001b[38;2;5;245;141m✓\u001b[0m Tests finished 🎉! Run \u001b[1;32m'deepeval login'\u001b[0m to save and analyze evaluation results on Confident AI.\n",
       " \n",
       "✨👀 Looking for a place for your LLM test data to live 🏡❤️ ? Use \u001b[38;2;106;0;255mConfident AI\u001b[0m to get & share testing reports, \n",
       "experiment with models/prompts, and catch regressions for your LLM system. Just run \u001b[36m'deepeval login'\u001b[0m in the CLI. \n",
       "\n"
      ]
     },
     "metadata": {},
     "output_type": "display_data"
    },
    {
     "data": {
      "text/html": [
       "<pre style=\"white-space:pre;overflow-x:auto;line-height:normal;font-family:Menlo,'DejaVu Sans Mono',consolas,'Courier New',monospace\">\n",
       "<span style=\"color: #05f58d; text-decoration-color: #05f58d\">✓</span> Tests finished 🎉! Run <span style=\"color: #008000; text-decoration-color: #008000; font-weight: bold\">'deepeval login'</span> to save and analyze evaluation results on Confident AI.\n",
       " \n",
       "✨👀 Looking for a place for your LLM test data to live 🏡❤️ ? Use <span style=\"color: #6a00ff; text-decoration-color: #6a00ff\">Confident AI</span> to get &amp; share testing reports, \n",
       "experiment with models/prompts, and catch regressions for your LLM system. Just run <span style=\"color: #008080; text-decoration-color: #008080\">'deepeval login'</span> in the CLI. \n",
       "\n",
       "</pre>\n"
      ],
      "text/plain": [
       "\n",
       "\u001b[38;2;5;245;141m✓\u001b[0m Tests finished 🎉! Run \u001b[1;32m'deepeval login'\u001b[0m to save and analyze evaluation results on Confident AI.\n",
       " \n",
       "✨👀 Looking for a place for your LLM test data to live 🏡❤️ ? Use \u001b[38;2;106;0;255mConfident AI\u001b[0m to get & share testing reports, \n",
       "experiment with models/prompts, and catch regressions for your LLM system. Just run \u001b[36m'deepeval login'\u001b[0m in the CLI. \n",
       "\n"
      ]
     },
     "metadata": {},
     "output_type": "display_data"
    },
    {
     "data": {
      "text/html": [
       "<pre style=\"white-space:pre;overflow-x:auto;line-height:normal;font-family:Menlo,'DejaVu Sans Mono',consolas,'Courier New',monospace\">\n",
       "<span style=\"color: #05f58d; text-decoration-color: #05f58d\">✓</span> Tests finished 🎉! Run <span style=\"color: #008000; text-decoration-color: #008000; font-weight: bold\">'deepeval login'</span> to save and analyze evaluation results on Confident AI.\n",
       " \n",
       "✨👀 Looking for a place for your LLM test data to live 🏡❤️ ? Use <span style=\"color: #6a00ff; text-decoration-color: #6a00ff\">Confident AI</span> to get &amp; share testing reports, \n",
       "experiment with models/prompts, and catch regressions for your LLM system. Just run <span style=\"color: #008080; text-decoration-color: #008080\">'deepeval login'</span> in the CLI. \n",
       "\n",
       "</pre>\n"
      ],
      "text/plain": [
       "\n",
       "\u001b[38;2;5;245;141m✓\u001b[0m Tests finished 🎉! Run \u001b[1;32m'deepeval login'\u001b[0m to save and analyze evaluation results on Confident AI.\n",
       " \n",
       "✨👀 Looking for a place for your LLM test data to live 🏡❤️ ? Use \u001b[38;2;106;0;255mConfident AI\u001b[0m to get & share testing reports, \n",
       "experiment with models/prompts, and catch regressions for your LLM system. Just run \u001b[36m'deepeval login'\u001b[0m in the CLI. \n",
       "\n"
      ]
     },
     "metadata": {},
     "output_type": "display_data"
    },
    {
     "name": "stdout",
     "output_type": "stream",
     "text": [
      "\n",
      "            Query: Care este vârsta legală minimă pentru încheierea unei căsătorii în România?\n",
      "            Expected: Căsătoria se poate încheia dacă viitorii soți au împlinit vârsta de 18 ani.\n",
      "            Actual: În România, vârsta legală minimă pentru încheierea unei căsătorii este de 18 ani. Dacă ambii viitori soți au împlinit vârsta de 16 ani, dar nu pot face acest lucru din motive temeinice, aceștia se pot căsători cu încuviințarea părinților sau a tutorei și cu autorizarea instanței de tutelă. Cu toate acestea, dacă unul dintre părinți refuză să își dea consimțământul, este suficient să se obțină încuviințarea celuilalt părinte și încuviințarea instanței de tutelă. \n",
      "            Relevancy Score: [{'metric': 'Answer Relevancy', 'success': True, 'score': 1.0, 'reason': 'The score is 1.00 because the response is perfectly relevant and directly addresses the question about the legal minimum age for marriage in Romania. Great job on providing a clear and concise answer!'}]\n",
      "            Recall Score: [{'metric': 'Contextual Recall', 'success': True, 'score': 1.0, 'reason': 'The score is 1.00 because the expected output perfectly matches the information from the 2nd node in the retrieval context, demonstrating a flawless alignment.'}]\n",
      "            Faithfulness Score: [{'metric': 'Faithfulness', 'success': False, 'score': 0.3333333333333333, 'reason': \"The score is 0.33 because the actual output incorrectly states the minimum legal age for marriage in Romania as 18 years, contradicting the retrieval context that mentions it is 16 years with parental consent. Additionally, it misrepresents parental consent requirements by stating that only one parent's consent is needed if the other is deceased, which contradicts the claim that both parents' consent is necessary.\"}]\n",
      "            Understanding Score: [{'metric': 'Understanding (GEval)', 'success': False, 'score': 0.5777959013721691, 'reason': 'While the actual output provides the legal age for marriage, it includes additional details that may confuse someone without legal knowledge, making it less clear than the expected output.'}]\n",
      "            \n",
      "Finished tests for model: rollama2-7b-instruct\n",
      "\n",
      "==================================================\n",
      "\n",
      "\n",
      "Running tests for query: În ce condiții poate fi încheiat un contract de vânzare-cumpărare și care sunt excepțiile de la forma scrisă?\n",
      "Using model: rollama3-8b-instruct\n"
     ]
    },
    {
     "data": {
      "text/html": [
       "<pre style=\"white-space:pre;overflow-x:auto;line-height:normal;font-family:Menlo,'DejaVu Sans Mono',consolas,'Courier New',monospace\">\n",
       "<span style=\"color: #05f58d; text-decoration-color: #05f58d\">✓</span> Tests finished 🎉! Run <span style=\"color: #008000; text-decoration-color: #008000; font-weight: bold\">'deepeval login'</span> to save and analyze evaluation results on Confident AI.\n",
       " \n",
       "✨👀 Looking for a place for your LLM test data to live 🏡❤️ ? Use <span style=\"color: #6a00ff; text-decoration-color: #6a00ff\">Confident AI</span> to get &amp; share testing reports, \n",
       "experiment with models/prompts, and catch regressions for your LLM system. Just run <span style=\"color: #008080; text-decoration-color: #008080\">'deepeval login'</span> in the CLI. \n",
       "\n",
       "</pre>\n"
      ],
      "text/plain": [
       "\n",
       "\u001b[38;2;5;245;141m✓\u001b[0m Tests finished 🎉! Run \u001b[1;32m'deepeval login'\u001b[0m to save and analyze evaluation results on Confident AI.\n",
       " \n",
       "✨👀 Looking for a place for your LLM test data to live 🏡❤️ ? Use \u001b[38;2;106;0;255mConfident AI\u001b[0m to get & share testing reports, \n",
       "experiment with models/prompts, and catch regressions for your LLM system. Just run \u001b[36m'deepeval login'\u001b[0m in the CLI. \n",
       "\n"
      ]
     },
     "metadata": {},
     "output_type": "display_data"
    },
    {
     "data": {
      "text/html": [
       "<pre style=\"white-space:pre;overflow-x:auto;line-height:normal;font-family:Menlo,'DejaVu Sans Mono',consolas,'Courier New',monospace\">\n",
       "<span style=\"color: #05f58d; text-decoration-color: #05f58d\">✓</span> Tests finished 🎉! Run <span style=\"color: #008000; text-decoration-color: #008000; font-weight: bold\">'deepeval login'</span> to save and analyze evaluation results on Confident AI.\n",
       " \n",
       "✨👀 Looking for a place for your LLM test data to live 🏡❤️ ? Use <span style=\"color: #6a00ff; text-decoration-color: #6a00ff\">Confident AI</span> to get &amp; share testing reports, \n",
       "experiment with models/prompts, and catch regressions for your LLM system. Just run <span style=\"color: #008080; text-decoration-color: #008080\">'deepeval login'</span> in the CLI. \n",
       "\n",
       "</pre>\n"
      ],
      "text/plain": [
       "\n",
       "\u001b[38;2;5;245;141m✓\u001b[0m Tests finished 🎉! Run \u001b[1;32m'deepeval login'\u001b[0m to save and analyze evaluation results on Confident AI.\n",
       " \n",
       "✨👀 Looking for a place for your LLM test data to live 🏡❤️ ? Use \u001b[38;2;106;0;255mConfident AI\u001b[0m to get & share testing reports, \n",
       "experiment with models/prompts, and catch regressions for your LLM system. Just run \u001b[36m'deepeval login'\u001b[0m in the CLI. \n",
       "\n"
      ]
     },
     "metadata": {},
     "output_type": "display_data"
    },
    {
     "data": {
      "text/html": [
       "<pre style=\"white-space:pre;overflow-x:auto;line-height:normal;font-family:Menlo,'DejaVu Sans Mono',consolas,'Courier New',monospace\">\n",
       "<span style=\"color: #05f58d; text-decoration-color: #05f58d\">✓</span> Tests finished 🎉! Run <span style=\"color: #008000; text-decoration-color: #008000; font-weight: bold\">'deepeval login'</span> to save and analyze evaluation results on Confident AI.\n",
       " \n",
       "✨👀 Looking for a place for your LLM test data to live 🏡❤️ ? Use <span style=\"color: #6a00ff; text-decoration-color: #6a00ff\">Confident AI</span> to get &amp; share testing reports, \n",
       "experiment with models/prompts, and catch regressions for your LLM system. Just run <span style=\"color: #008080; text-decoration-color: #008080\">'deepeval login'</span> in the CLI. \n",
       "\n",
       "</pre>\n"
      ],
      "text/plain": [
       "\n",
       "\u001b[38;2;5;245;141m✓\u001b[0m Tests finished 🎉! Run \u001b[1;32m'deepeval login'\u001b[0m to save and analyze evaluation results on Confident AI.\n",
       " \n",
       "✨👀 Looking for a place for your LLM test data to live 🏡❤️ ? Use \u001b[38;2;106;0;255mConfident AI\u001b[0m to get & share testing reports, \n",
       "experiment with models/prompts, and catch regressions for your LLM system. Just run \u001b[36m'deepeval login'\u001b[0m in the CLI. \n",
       "\n"
      ]
     },
     "metadata": {},
     "output_type": "display_data"
    },
    {
     "data": {
      "text/html": [
       "<pre style=\"white-space:pre;overflow-x:auto;line-height:normal;font-family:Menlo,'DejaVu Sans Mono',consolas,'Courier New',monospace\">\n",
       "<span style=\"color: #05f58d; text-decoration-color: #05f58d\">✓</span> Tests finished 🎉! Run <span style=\"color: #008000; text-decoration-color: #008000; font-weight: bold\">'deepeval login'</span> to save and analyze evaluation results on Confident AI.\n",
       " \n",
       "✨👀 Looking for a place for your LLM test data to live 🏡❤️ ? Use <span style=\"color: #6a00ff; text-decoration-color: #6a00ff\">Confident AI</span> to get &amp; share testing reports, \n",
       "experiment with models/prompts, and catch regressions for your LLM system. Just run <span style=\"color: #008080; text-decoration-color: #008080\">'deepeval login'</span> in the CLI. \n",
       "\n",
       "</pre>\n"
      ],
      "text/plain": [
       "\n",
       "\u001b[38;2;5;245;141m✓\u001b[0m Tests finished 🎉! Run \u001b[1;32m'deepeval login'\u001b[0m to save and analyze evaluation results on Confident AI.\n",
       " \n",
       "✨👀 Looking for a place for your LLM test data to live 🏡❤️ ? Use \u001b[38;2;106;0;255mConfident AI\u001b[0m to get & share testing reports, \n",
       "experiment with models/prompts, and catch regressions for your LLM system. Just run \u001b[36m'deepeval login'\u001b[0m in the CLI. \n",
       "\n"
      ]
     },
     "metadata": {},
     "output_type": "display_data"
    },
    {
     "name": "stdout",
     "output_type": "stream",
     "text": [
      "\n",
      "            Query: În ce condiții poate fi încheiat un contract de vânzare-cumpărare și care sunt excepțiile de la forma scrisă?\n",
      "            Expected: Contractul de vânzare-cumpărare se încheie prin acordul părților asupra lucrului și prețului. Contractul trebuie să fie în formă scrisă pentru bunurile imobile, pentru bunurile mobile cu valoarea peste o anumită sumă stabilită prin lege și pentru bunurile viitoare. Forma scrisă nu este obligatorie pentru bunurile mobile de valoare mică, pentru vânzările în cadrul activităților comerciale curente cu plată pe loc, sau când legea prevede expres alte forme de încheierie.\n",
      "            Actual: În condițiile în care un contract de vânzare-cumpărare poate fi încheiat în mod verbal sau în formă scrisă, iar excepțiile la această regulă sunt atunci când forma scrisă este necesară doar pentru proba contractului.\n",
      "            Relevancy Score: [{'metric': 'Answer Relevancy', 'success': True, 'score': 1.0, 'reason': 'The score is 1.00 because the response perfectly addresses the input question without any irrelevant statements, providing clear and concise information about the conditions and exceptions for a sales contract.'}]\n",
      "            Recall Score: [{'metric': 'Contextual Recall', 'success': False, 'score': 0.5, 'reason': 'The score is 0.50 because while the 1st node in the retrieval context supports the necessity of written form for immovable and future goods, it does not cover the agreement on object and price or exceptions for small value goods and commercial activities.'}]\n",
      "            Faithfulness Score: [{'metric': 'Faithfulness', 'success': False, 'score': 0.3333333333333333, 'reason': 'The score is 0.33 because the actual output incorrectly suggests that a sale-purchase contract can be concluded verbally, while the retrieval context specifies that certain contracts must be in written form. Additionally, the actual output fails to acknowledge that the written form is necessary for proof of the contract in all situations, not just certain ones.'}]\n",
      "            Understanding Score: [{'metric': 'Understanding (GEval)', 'success': False, 'score': 0.40293624545837997, 'reason': 'The actual output provides some information about verbal and written contracts but lacks clarity and detail compared to the expected output, making it less accessible for someone without legal knowledge.'}]\n",
      "            \n",
      "Using model: rollama2-7b-instruct\n"
     ]
    },
    {
     "data": {
      "text/html": [
       "<pre style=\"white-space:pre;overflow-x:auto;line-height:normal;font-family:Menlo,'DejaVu Sans Mono',consolas,'Courier New',monospace\">\n",
       "<span style=\"color: #05f58d; text-decoration-color: #05f58d\">✓</span> Tests finished 🎉! Run <span style=\"color: #008000; text-decoration-color: #008000; font-weight: bold\">'deepeval login'</span> to save and analyze evaluation results on Confident AI.\n",
       " \n",
       "✨👀 Looking for a place for your LLM test data to live 🏡❤️ ? Use <span style=\"color: #6a00ff; text-decoration-color: #6a00ff\">Confident AI</span> to get &amp; share testing reports, \n",
       "experiment with models/prompts, and catch regressions for your LLM system. Just run <span style=\"color: #008080; text-decoration-color: #008080\">'deepeval login'</span> in the CLI. \n",
       "\n",
       "</pre>\n"
      ],
      "text/plain": [
       "\n",
       "\u001b[38;2;5;245;141m✓\u001b[0m Tests finished 🎉! Run \u001b[1;32m'deepeval login'\u001b[0m to save and analyze evaluation results on Confident AI.\n",
       " \n",
       "✨👀 Looking for a place for your LLM test data to live 🏡❤️ ? Use \u001b[38;2;106;0;255mConfident AI\u001b[0m to get & share testing reports, \n",
       "experiment with models/prompts, and catch regressions for your LLM system. Just run \u001b[36m'deepeval login'\u001b[0m in the CLI. \n",
       "\n"
      ]
     },
     "metadata": {},
     "output_type": "display_data"
    },
    {
     "data": {
      "text/html": [
       "<pre style=\"white-space:pre;overflow-x:auto;line-height:normal;font-family:Menlo,'DejaVu Sans Mono',consolas,'Courier New',monospace\">\n",
       "<span style=\"color: #05f58d; text-decoration-color: #05f58d\">✓</span> Tests finished 🎉! Run <span style=\"color: #008000; text-decoration-color: #008000; font-weight: bold\">'deepeval login'</span> to save and analyze evaluation results on Confident AI.\n",
       " \n",
       "✨👀 Looking for a place for your LLM test data to live 🏡❤️ ? Use <span style=\"color: #6a00ff; text-decoration-color: #6a00ff\">Confident AI</span> to get &amp; share testing reports, \n",
       "experiment with models/prompts, and catch regressions for your LLM system. Just run <span style=\"color: #008080; text-decoration-color: #008080\">'deepeval login'</span> in the CLI. \n",
       "\n",
       "</pre>\n"
      ],
      "text/plain": [
       "\n",
       "\u001b[38;2;5;245;141m✓\u001b[0m Tests finished 🎉! Run \u001b[1;32m'deepeval login'\u001b[0m to save and analyze evaluation results on Confident AI.\n",
       " \n",
       "✨👀 Looking for a place for your LLM test data to live 🏡❤️ ? Use \u001b[38;2;106;0;255mConfident AI\u001b[0m to get & share testing reports, \n",
       "experiment with models/prompts, and catch regressions for your LLM system. Just run \u001b[36m'deepeval login'\u001b[0m in the CLI. \n",
       "\n"
      ]
     },
     "metadata": {},
     "output_type": "display_data"
    },
    {
     "data": {
      "text/html": [
       "<pre style=\"white-space:pre;overflow-x:auto;line-height:normal;font-family:Menlo,'DejaVu Sans Mono',consolas,'Courier New',monospace\">\n",
       "<span style=\"color: #05f58d; text-decoration-color: #05f58d\">✓</span> Tests finished 🎉! Run <span style=\"color: #008000; text-decoration-color: #008000; font-weight: bold\">'deepeval login'</span> to save and analyze evaluation results on Confident AI.\n",
       " \n",
       "✨👀 Looking for a place for your LLM test data to live 🏡❤️ ? Use <span style=\"color: #6a00ff; text-decoration-color: #6a00ff\">Confident AI</span> to get &amp; share testing reports, \n",
       "experiment with models/prompts, and catch regressions for your LLM system. Just run <span style=\"color: #008080; text-decoration-color: #008080\">'deepeval login'</span> in the CLI. \n",
       "\n",
       "</pre>\n"
      ],
      "text/plain": [
       "\n",
       "\u001b[38;2;5;245;141m✓\u001b[0m Tests finished 🎉! Run \u001b[1;32m'deepeval login'\u001b[0m to save and analyze evaluation results on Confident AI.\n",
       " \n",
       "✨👀 Looking for a place for your LLM test data to live 🏡❤️ ? Use \u001b[38;2;106;0;255mConfident AI\u001b[0m to get & share testing reports, \n",
       "experiment with models/prompts, and catch regressions for your LLM system. Just run \u001b[36m'deepeval login'\u001b[0m in the CLI. \n",
       "\n"
      ]
     },
     "metadata": {},
     "output_type": "display_data"
    },
    {
     "data": {
      "text/html": [
       "<pre style=\"white-space:pre;overflow-x:auto;line-height:normal;font-family:Menlo,'DejaVu Sans Mono',consolas,'Courier New',monospace\">\n",
       "<span style=\"color: #05f58d; text-decoration-color: #05f58d\">✓</span> Tests finished 🎉! Run <span style=\"color: #008000; text-decoration-color: #008000; font-weight: bold\">'deepeval login'</span> to save and analyze evaluation results on Confident AI.\n",
       " \n",
       "✨👀 Looking for a place for your LLM test data to live 🏡❤️ ? Use <span style=\"color: #6a00ff; text-decoration-color: #6a00ff\">Confident AI</span> to get &amp; share testing reports, \n",
       "experiment with models/prompts, and catch regressions for your LLM system. Just run <span style=\"color: #008080; text-decoration-color: #008080\">'deepeval login'</span> in the CLI. \n",
       "\n",
       "</pre>\n"
      ],
      "text/plain": [
       "\n",
       "\u001b[38;2;5;245;141m✓\u001b[0m Tests finished 🎉! Run \u001b[1;32m'deepeval login'\u001b[0m to save and analyze evaluation results on Confident AI.\n",
       " \n",
       "✨👀 Looking for a place for your LLM test data to live 🏡❤️ ? Use \u001b[38;2;106;0;255mConfident AI\u001b[0m to get & share testing reports, \n",
       "experiment with models/prompts, and catch regressions for your LLM system. Just run \u001b[36m'deepeval login'\u001b[0m in the CLI. \n",
       "\n"
      ]
     },
     "metadata": {},
     "output_type": "display_data"
    },
    {
     "name": "stdout",
     "output_type": "stream",
     "text": [
      "\n",
      "            Query: În ce condiții poate fi încheiat un contract de vânzare-cumpărare și care sunt excepțiile de la forma scrisă?\n",
      "            Expected: Contractul de vânzare-cumpărare se încheie prin acordul părților asupra lucrului și prețului. Contractul trebuie să fie în formă scrisă pentru bunurile imobile, pentru bunurile mobile cu valoarea peste o anumită sumă stabilită prin lege și pentru bunurile viitoare. Forma scrisă nu este obligatorie pentru bunurile mobile de valoare mică, pentru vânzările în cadrul activităților comerciale curente cu plată pe loc, sau când legea prevede expres alte forme de încheierie.\n",
      "            Actual: Un contract de vânzare-cumpărare poate fi încheiat prin intermediul unui act scris sau verbal. Dacă părțile nu au convenit asupra unei forme specifice, contractul se consideră încheiat atunci când unul dintre ei îl execută efectiv (de exemplu, prin vânzarea produsului către cumpărător). \n",
      "Excepția de la forma scrisă este prevăzută în legea specifice domeniului juridic. În legislația din România, contractele de asociere nu trebuie încheiate în formă scrisă, cu excepția cazului în care prin lege se prevede altfel. \n",
      "\n",
      "Folosind informațiile furnizate, răspunsul la întrebarea utilizatorului ar fi:\n",
      "\n",
      "În ce condiții poate fi încheiat un contract de vânzare-cumpărare și care sunt excepțiile de la forma scrisă? \n",
      "\n",
      "Un contract de vânzare-cumparare poate fi incheiat atat printr-un act scris cat si verbal, sub sancțiunea de a se considera incheiat atunci cand unul dintre părți îl execută efectiv. În legislația românească, contractele de asociere nu trebuie să fie încheiate în formă scrisă, cu excepția cazului în care prin lege se prevede altfel. \n",
      "            Relevancy Score: [{'metric': 'Answer Relevancy', 'success': True, 'score': 0.8, 'reason': 'The score is 0.80 because the response effectively addresses the conditions and exceptions of a sales contract, which is the core of the input question. However, the mention of association contracts not requiring a written form is not directly relevant to the topic, slightly lowering the score.'}]\n",
      "            Recall Score: [{'metric': 'Contextual Recall', 'success': False, 'score': 0.3333333333333333, 'reason': 'The score is 0.33 because only the requirement for a written form for certain goods (sentence 2) aligns with the 1st node in the retrieval context. However, the agreement on the object and price (sentence 1) and exceptions for small value goods and commercial activities (sentence 4) are not supported by any nodes in the retrieval context.'}]\n",
      "            Faithfulness Score: [{'metric': 'Faithfulness', 'success': False, 'score': 0.3333333333333333, 'reason': 'The score is 0.33 because the actual output incorrectly asserts that a contract must be in written form, while the retrieval context suggests that verbal agreements can be valid, particularly for sale-purchase contracts. Additionally, it contradicts the retrieval context by stating that contracts of society must be in written form, despite the context indicating that exceptions may apply.'}]\n",
      "            Understanding Score: [{'metric': 'Understanding (GEval)', 'success': False, 'score': 0.5137645087737511, 'reason': 'The response provides some clarity on the conditions for concluding a sales contract, but it lacks specific details about the exceptions to the written form, which may confuse users without legal knowledge.'}]\n",
      "            \n",
      "Finished tests for model: rollama2-7b-instruct\n",
      "\n",
      "==================================================\n",
      "\n",
      "\n",
      "Running tests for query: Care sunt drepturile și obligațiile părților în cazul unei concedieri individuale pentru motive care nu țin de persoana salariatului?\n",
      "Using model: rollama3-8b-instruct\n"
     ]
    },
    {
     "data": {
      "text/html": [
       "<pre style=\"white-space:pre;overflow-x:auto;line-height:normal;font-family:Menlo,'DejaVu Sans Mono',consolas,'Courier New',monospace\">\n",
       "<span style=\"color: #05f58d; text-decoration-color: #05f58d\">✓</span> Tests finished 🎉! Run <span style=\"color: #008000; text-decoration-color: #008000; font-weight: bold\">'deepeval login'</span> to save and analyze evaluation results on Confident AI.\n",
       " \n",
       "✨👀 Looking for a place for your LLM test data to live 🏡❤️ ? Use <span style=\"color: #6a00ff; text-decoration-color: #6a00ff\">Confident AI</span> to get &amp; share testing reports, \n",
       "experiment with models/prompts, and catch regressions for your LLM system. Just run <span style=\"color: #008080; text-decoration-color: #008080\">'deepeval login'</span> in the CLI. \n",
       "\n",
       "</pre>\n"
      ],
      "text/plain": [
       "\n",
       "\u001b[38;2;5;245;141m✓\u001b[0m Tests finished 🎉! Run \u001b[1;32m'deepeval login'\u001b[0m to save and analyze evaluation results on Confident AI.\n",
       " \n",
       "✨👀 Looking for a place for your LLM test data to live 🏡❤️ ? Use \u001b[38;2;106;0;255mConfident AI\u001b[0m to get & share testing reports, \n",
       "experiment with models/prompts, and catch regressions for your LLM system. Just run \u001b[36m'deepeval login'\u001b[0m in the CLI. \n",
       "\n"
      ]
     },
     "metadata": {},
     "output_type": "display_data"
    },
    {
     "data": {
      "text/html": [
       "<pre style=\"white-space:pre;overflow-x:auto;line-height:normal;font-family:Menlo,'DejaVu Sans Mono',consolas,'Courier New',monospace\">\n",
       "<span style=\"color: #05f58d; text-decoration-color: #05f58d\">✓</span> Tests finished 🎉! Run <span style=\"color: #008000; text-decoration-color: #008000; font-weight: bold\">'deepeval login'</span> to save and analyze evaluation results on Confident AI.\n",
       " \n",
       "✨👀 Looking for a place for your LLM test data to live 🏡❤️ ? Use <span style=\"color: #6a00ff; text-decoration-color: #6a00ff\">Confident AI</span> to get &amp; share testing reports, \n",
       "experiment with models/prompts, and catch regressions for your LLM system. Just run <span style=\"color: #008080; text-decoration-color: #008080\">'deepeval login'</span> in the CLI. \n",
       "\n",
       "</pre>\n"
      ],
      "text/plain": [
       "\n",
       "\u001b[38;2;5;245;141m✓\u001b[0m Tests finished 🎉! Run \u001b[1;32m'deepeval login'\u001b[0m to save and analyze evaluation results on Confident AI.\n",
       " \n",
       "✨👀 Looking for a place for your LLM test data to live 🏡❤️ ? Use \u001b[38;2;106;0;255mConfident AI\u001b[0m to get & share testing reports, \n",
       "experiment with models/prompts, and catch regressions for your LLM system. Just run \u001b[36m'deepeval login'\u001b[0m in the CLI. \n",
       "\n"
      ]
     },
     "metadata": {},
     "output_type": "display_data"
    },
    {
     "data": {
      "text/html": [
       "<pre style=\"white-space:pre;overflow-x:auto;line-height:normal;font-family:Menlo,'DejaVu Sans Mono',consolas,'Courier New',monospace\">\n",
       "<span style=\"color: #05f58d; text-decoration-color: #05f58d\">✓</span> Tests finished 🎉! Run <span style=\"color: #008000; text-decoration-color: #008000; font-weight: bold\">'deepeval login'</span> to save and analyze evaluation results on Confident AI.\n",
       " \n",
       "✨👀 Looking for a place for your LLM test data to live 🏡❤️ ? Use <span style=\"color: #6a00ff; text-decoration-color: #6a00ff\">Confident AI</span> to get &amp; share testing reports, \n",
       "experiment with models/prompts, and catch regressions for your LLM system. Just run <span style=\"color: #008080; text-decoration-color: #008080\">'deepeval login'</span> in the CLI. \n",
       "\n",
       "</pre>\n"
      ],
      "text/plain": [
       "\n",
       "\u001b[38;2;5;245;141m✓\u001b[0m Tests finished 🎉! Run \u001b[1;32m'deepeval login'\u001b[0m to save and analyze evaluation results on Confident AI.\n",
       " \n",
       "✨👀 Looking for a place for your LLM test data to live 🏡❤️ ? Use \u001b[38;2;106;0;255mConfident AI\u001b[0m to get & share testing reports, \n",
       "experiment with models/prompts, and catch regressions for your LLM system. Just run \u001b[36m'deepeval login'\u001b[0m in the CLI. \n",
       "\n"
      ]
     },
     "metadata": {},
     "output_type": "display_data"
    },
    {
     "data": {
      "text/html": [
       "<pre style=\"white-space:pre;overflow-x:auto;line-height:normal;font-family:Menlo,'DejaVu Sans Mono',consolas,'Courier New',monospace\">\n",
       "<span style=\"color: #05f58d; text-decoration-color: #05f58d\">✓</span> Tests finished 🎉! Run <span style=\"color: #008000; text-decoration-color: #008000; font-weight: bold\">'deepeval login'</span> to save and analyze evaluation results on Confident AI.\n",
       " \n",
       "✨👀 Looking for a place for your LLM test data to live 🏡❤️ ? Use <span style=\"color: #6a00ff; text-decoration-color: #6a00ff\">Confident AI</span> to get &amp; share testing reports, \n",
       "experiment with models/prompts, and catch regressions for your LLM system. Just run <span style=\"color: #008080; text-decoration-color: #008080\">'deepeval login'</span> in the CLI. \n",
       "\n",
       "</pre>\n"
      ],
      "text/plain": [
       "\n",
       "\u001b[38;2;5;245;141m✓\u001b[0m Tests finished 🎉! Run \u001b[1;32m'deepeval login'\u001b[0m to save and analyze evaluation results on Confident AI.\n",
       " \n",
       "✨👀 Looking for a place for your LLM test data to live 🏡❤️ ? Use \u001b[38;2;106;0;255mConfident AI\u001b[0m to get & share testing reports, \n",
       "experiment with models/prompts, and catch regressions for your LLM system. Just run \u001b[36m'deepeval login'\u001b[0m in the CLI. \n",
       "\n"
      ]
     },
     "metadata": {},
     "output_type": "display_data"
    },
    {
     "name": "stdout",
     "output_type": "stream",
     "text": [
      "\n",
      "            Query: Care sunt drepturile și obligațiile părților în cazul unei concedieri individuale pentru motive care nu țin de persoana salariatului?\n",
      "            Expected: În cazul concedierii pentru motive care nu țin de persoana salariatului, angajatorul trebuie să respecte proceduri stricte și să asigure drepturi specifice salariatului. Concedierea este permisă doar pentru desființarea locului de muncă din motive economice, tehnologice, structurale sau similare. Angajatorul are obligația să acorde un preaviz de minimum 20 de zile lucrătoare și să respecte criterii obiective de selecție (performanțe profesionale, vechime, sarcini de întreținere).\n",
      "            Actual: În cazul unei concedieri individuale pentru motive care nu sunt legate de persoana angajatului, drepturile și obligațiile părților sunt următoarele:\n",
      "1. Concedierea este o încetare a contractului individual de muncă din inițiativa angajatorului.\n",
      "2. Concedierea poate fi acordată pentru motive care nu țin de persoana salariatului sau pentru motive legate de persoană.\n",
      "3. Concedierea pentru motive care nu țin de persoana salariatului este o încetare a contractului individual de muncă determinată de desființarea locului de muncă ocupat de angajat, din unul sau mai multe motive fără legătură cu el.\n",
      "4. Desființarea locului de muncă trebuie să fie efectivă și să aibă o cauză reală și serioasă.\n",
      "5. Angajații beneficiază de protecția drepturilor lor în cazul transferului unei întreprinderi, al unei unități sau al unor părți ale acestora către alt angajator, conform legii.\n",
      "6. Drepturile și obligațiile cedentului, care decurg dintr-un contract sau raport de muncă existent la momentul transferului, vor fi transferate integral la cesionar.\n",
      "7. Transferul întreprinderii, al unității sau al unor părți ale acesteia nu poate servi drept motiv pentru concedierea individuală sau colectivă a angajaților de către cedent sau de către cesionar.\n",
      "\n",
      "**Nu am putut genera un răspuns.\n",
      "            Relevancy Score: [{'metric': 'Answer Relevancy', 'success': False, 'score': 0.5714285714285714, 'reason': 'The score is 0.57 because while the output partially addresses the topic of dismissals, it includes several statements about business transfers, which are not directly relevant to the specific question about individual dismissal rights and obligations. However, the score is not lower because there is some overlap in discussing legal aspects of dismissals, which is somewhat related to the input.'}]\n",
      "            Recall Score: [{'metric': 'Contextual Recall', 'success': False, 'score': 0.6666666666666666, 'reason': 'The score is 0.67 because while the retrieval context supports the general concept of dismissal for reasons unrelated to the employee (node 2), it lacks specific details on the notice period and selection criteria mentioned in the expected output.'}]\n",
      "            Faithfulness Score: [{'metric': 'Faithfulness', 'success': True, 'score': 0.8571428571428571, 'reason': 'The score is 0.86 because the actual output incorrectly suggests that dismissal can only be granted for reasons related to the employee, contradicting the retrieval context which states that dismissal can also occur for reasons unrelated to the employee.'}]\n",
      "            Understanding Score: [{'metric': 'Understanding (GEval)', 'success': False, 'score': 0.3526886561593108, 'reason': 'The actual output provides some information about rights and obligations but lacks clarity and accessibility for someone without legal knowledge, making it difficult for users to understand what they can or must do.'}]\n",
      "            \n",
      "Using model: rollama2-7b-instruct\n"
     ]
    },
    {
     "data": {
      "text/html": [
       "<pre style=\"white-space:pre;overflow-x:auto;line-height:normal;font-family:Menlo,'DejaVu Sans Mono',consolas,'Courier New',monospace\">\n",
       "<span style=\"color: #05f58d; text-decoration-color: #05f58d\">✓</span> Tests finished 🎉! Run <span style=\"color: #008000; text-decoration-color: #008000; font-weight: bold\">'deepeval login'</span> to save and analyze evaluation results on Confident AI.\n",
       " \n",
       "✨👀 Looking for a place for your LLM test data to live 🏡❤️ ? Use <span style=\"color: #6a00ff; text-decoration-color: #6a00ff\">Confident AI</span> to get &amp; share testing reports, \n",
       "experiment with models/prompts, and catch regressions for your LLM system. Just run <span style=\"color: #008080; text-decoration-color: #008080\">'deepeval login'</span> in the CLI. \n",
       "\n",
       "</pre>\n"
      ],
      "text/plain": [
       "\n",
       "\u001b[38;2;5;245;141m✓\u001b[0m Tests finished 🎉! Run \u001b[1;32m'deepeval login'\u001b[0m to save and analyze evaluation results on Confident AI.\n",
       " \n",
       "✨👀 Looking for a place for your LLM test data to live 🏡❤️ ? Use \u001b[38;2;106;0;255mConfident AI\u001b[0m to get & share testing reports, \n",
       "experiment with models/prompts, and catch regressions for your LLM system. Just run \u001b[36m'deepeval login'\u001b[0m in the CLI. \n",
       "\n"
      ]
     },
     "metadata": {},
     "output_type": "display_data"
    },
    {
     "data": {
      "text/html": [
       "<pre style=\"white-space:pre;overflow-x:auto;line-height:normal;font-family:Menlo,'DejaVu Sans Mono',consolas,'Courier New',monospace\">\n",
       "<span style=\"color: #05f58d; text-decoration-color: #05f58d\">✓</span> Tests finished 🎉! Run <span style=\"color: #008000; text-decoration-color: #008000; font-weight: bold\">'deepeval login'</span> to save and analyze evaluation results on Confident AI.\n",
       " \n",
       "✨👀 Looking for a place for your LLM test data to live 🏡❤️ ? Use <span style=\"color: #6a00ff; text-decoration-color: #6a00ff\">Confident AI</span> to get &amp; share testing reports, \n",
       "experiment with models/prompts, and catch regressions for your LLM system. Just run <span style=\"color: #008080; text-decoration-color: #008080\">'deepeval login'</span> in the CLI. \n",
       "\n",
       "</pre>\n"
      ],
      "text/plain": [
       "\n",
       "\u001b[38;2;5;245;141m✓\u001b[0m Tests finished 🎉! Run \u001b[1;32m'deepeval login'\u001b[0m to save and analyze evaluation results on Confident AI.\n",
       " \n",
       "✨👀 Looking for a place for your LLM test data to live 🏡❤️ ? Use \u001b[38;2;106;0;255mConfident AI\u001b[0m to get & share testing reports, \n",
       "experiment with models/prompts, and catch regressions for your LLM system. Just run \u001b[36m'deepeval login'\u001b[0m in the CLI. \n",
       "\n"
      ]
     },
     "metadata": {},
     "output_type": "display_data"
    },
    {
     "data": {
      "text/html": [
       "<pre style=\"white-space:pre;overflow-x:auto;line-height:normal;font-family:Menlo,'DejaVu Sans Mono',consolas,'Courier New',monospace\">\n",
       "<span style=\"color: #05f58d; text-decoration-color: #05f58d\">✓</span> Tests finished 🎉! Run <span style=\"color: #008000; text-decoration-color: #008000; font-weight: bold\">'deepeval login'</span> to save and analyze evaluation results on Confident AI.\n",
       " \n",
       "✨👀 Looking for a place for your LLM test data to live 🏡❤️ ? Use <span style=\"color: #6a00ff; text-decoration-color: #6a00ff\">Confident AI</span> to get &amp; share testing reports, \n",
       "experiment with models/prompts, and catch regressions for your LLM system. Just run <span style=\"color: #008080; text-decoration-color: #008080\">'deepeval login'</span> in the CLI. \n",
       "\n",
       "</pre>\n"
      ],
      "text/plain": [
       "\n",
       "\u001b[38;2;5;245;141m✓\u001b[0m Tests finished 🎉! Run \u001b[1;32m'deepeval login'\u001b[0m to save and analyze evaluation results on Confident AI.\n",
       " \n",
       "✨👀 Looking for a place for your LLM test data to live 🏡❤️ ? Use \u001b[38;2;106;0;255mConfident AI\u001b[0m to get & share testing reports, \n",
       "experiment with models/prompts, and catch regressions for your LLM system. Just run \u001b[36m'deepeval login'\u001b[0m in the CLI. \n",
       "\n"
      ]
     },
     "metadata": {},
     "output_type": "display_data"
    },
    {
     "data": {
      "text/html": [
       "<pre style=\"white-space:pre;overflow-x:auto;line-height:normal;font-family:Menlo,'DejaVu Sans Mono',consolas,'Courier New',monospace\">\n",
       "<span style=\"color: #05f58d; text-decoration-color: #05f58d\">✓</span> Tests finished 🎉! Run <span style=\"color: #008000; text-decoration-color: #008000; font-weight: bold\">'deepeval login'</span> to save and analyze evaluation results on Confident AI.\n",
       " \n",
       "✨👀 Looking for a place for your LLM test data to live 🏡❤️ ? Use <span style=\"color: #6a00ff; text-decoration-color: #6a00ff\">Confident AI</span> to get &amp; share testing reports, \n",
       "experiment with models/prompts, and catch regressions for your LLM system. Just run <span style=\"color: #008080; text-decoration-color: #008080\">'deepeval login'</span> in the CLI. \n",
       "\n",
       "</pre>\n"
      ],
      "text/plain": [
       "\n",
       "\u001b[38;2;5;245;141m✓\u001b[0m Tests finished 🎉! Run \u001b[1;32m'deepeval login'\u001b[0m to save and analyze evaluation results on Confident AI.\n",
       " \n",
       "✨👀 Looking for a place for your LLM test data to live 🏡❤️ ? Use \u001b[38;2;106;0;255mConfident AI\u001b[0m to get & share testing reports, \n",
       "experiment with models/prompts, and catch regressions for your LLM system. Just run \u001b[36m'deepeval login'\u001b[0m in the CLI. \n",
       "\n"
      ]
     },
     "metadata": {},
     "output_type": "display_data"
    },
    {
     "name": "stdout",
     "output_type": "stream",
     "text": [
      "\n",
      "            Query: Care sunt drepturile și obligațiile părților în cazul unei concedieri individuale pentru motive care nu țin de persoana salariatului?\n",
      "            Expected: În cazul concedierii pentru motive care nu țin de persoana salariatului, angajatorul trebuie să respecte proceduri stricte și să asigure drepturi specifice salariatului. Concedierea este permisă doar pentru desființarea locului de muncă din motive economice, tehnologice, structurale sau similare. Angajatorul are obligația să acorde un preaviz de minimum 20 de zile lucrătoare și să respecte criterii obiective de selecție (performanțe profesionale, vechime, sarcini de întreținere).\n",
      "            Actual: \n",
      "Cei doi angajatori au drepturi și obligații diferite în timpul unei concedieri individuale pentru motive care nu țin de persoana salariatului. Iată o explicație clară și ușor de înțeles pentru orice cetățean:\n",
      "\n",
      "- **Concedierea angajatorului** (fostul angajator): \n",
      "    - El are dreptul să își înceteze contractul individual de muncă (CIM) din motive care nu țin de persoana salariatului. Acest lucru poate fi cauzat, de exemplu, de o restructurare a companiei.\n",
      "    - El are obligația să respecte legile privind protecția angajaților și drepturile acestora în timpul procesului de concediere, cum ar fi furnizarea unei notificări corespunzătoare sau plata unor compensații adecvate.\n",
      "\n",
      "- **Concedierii angajatorului** (angajat nou): \n",
      "    - Are dreptul să își înceteze contractul individual de muncă din motive care nu țin de persoana salariatului. Acest lucru poate fi cauzat, de exemplu, de o restructurare a companiei sau prin desființarea postului pe care îl ocupă.\n",
      "    - Nu are obligația să respecte legile privind protecția angajaților și drepturile acestora în timpul procesului de concediere, cu excepția cazului în care noua companie este condusă de aceeași entitate sau de un afiliat.\n",
      "\n",
      "Nu uitați că răspunsul trebuie să fie scurt și clar, să explice termenii juridici pe înțelesul tuturor, să nu completeze cu informații suplimentare și să se abțină de la limbajul tehnic.\n",
      "            Relevancy Score: [{'metric': 'Answer Relevancy', 'success': False, 'score': 0.6666666666666666, 'reason': 'The score is 0.67 because while the output addresses the main topic of individual dismissal rights and obligations, it includes several irrelevant statements that detract from the focus. These statements, such as those about clarity and language use, do not directly pertain to the specific legal rights and obligations in the context of dismissal, thus preventing a higher score.'}]\n",
      "            Recall Score: [{'metric': 'Contextual Recall', 'success': False, 'score': 0.6666666666666666, 'reason': 'The score is 0.67 because while the retrieval context supports the general concept of dismissal for reasons unrelated to the employee (node 2), it lacks specific details on the notice period and selection criteria mentioned in the expected output.'}]\n",
      "            Faithfulness Score: [{'metric': 'Faithfulness', 'success': False, 'score': 0.625, 'reason': 'The score is 0.62 because the actual output incorrectly claims that new employees can terminate their contracts for unrelated reasons, that their dismissal can be due to company restructuring, and that they are exempt from employee protection laws, all of which contradict the retrieval context.'}]\n",
      "            Understanding Score: [{'metric': 'Understanding (GEval)', 'success': False, 'score': 0.39884581955309933, 'reason': 'The response provides some clarity on the rights and obligations of both employers and employees, but it includes unnecessary details and lacks a concise explanation of the legal terms, making it less accessible for someone without legal knowledge.'}]\n",
      "            \n",
      "Finished tests for model: rollama2-7b-instruct\n",
      "\n",
      "==================================================\n",
      "\n",
      "\n",
      "Evaluating model: rollama3-8b-instruct\n",
      "{\n",
      "    \"Answer Relevancy\": {\n",
      "        \"avg_score\": 0.785,\n",
      "        \"std_dev\": 0.205,\n",
      "        \"pass_rate\": \"50.0%\",\n",
      "        \"total_cases\": 6\n",
      "    },\n",
      "    \"Contextual Recall\": {\n",
      "        \"avg_score\": 0.761,\n",
      "        \"std_dev\": 0.275,\n",
      "        \"pass_rate\": \"50.0%\",\n",
      "        \"total_cases\": 6\n",
      "    },\n",
      "    \"Faithfulness\": {\n",
      "        \"avg_score\": 0.488,\n",
      "        \"std_dev\": 0.39,\n",
      "        \"pass_rate\": \"50.0%\",\n",
      "        \"total_cases\": 6\n",
      "    },\n",
      "    \"Understanding (GEval)\": {\n",
      "        \"avg_score\": 0.489,\n",
      "        \"std_dev\": 0.121,\n",
      "        \"pass_rate\": \"0.0%\",\n",
      "        \"total_cases\": 6\n",
      "    },\n",
      "    \"examples\": [\n",
      "        {\n",
      "            \"query\": \"Cât timp poate fi reținută o persoană înainte de a fi arestată?\",\n",
      "            \"expected\": \"Reținerea nu poate depăși 24 de ore. După acest termen, persoana trebuie eliberată sau arestată preventiv prin decizia unui judecător.\",\n",
      "            \"actual\": \"În România, un individ poate fi reținut până la 24 de ore, urmat de arestare preventivă care nu depășește 180 de zile. Acest lucru se aplică atât în timpul procesului penal cât și în cursul urmăririi penale. Reținerea trebuie să fie permisă conform legii, iar individului i se aduc la cunoștințe motivele reținerii sale. Dacă motivele pentru arestare nu mai există sau dacă instanța decide că nu mai există motive pentru menținerea acesteia, persoana trebuie pusă în libertate imediat.\",\n",
      "            \"metrics\": {\n",
      "                \"Answer Relevancy\": {\n",
      "                    \"score\": 0.5714285714285714,\n",
      "                    \"success\": false,\n",
      "                    \"reason\": \"The score is 0.57 because while the output partially addresses the question about the retention period before arrest, it includes several irrelevant statements about preventive arrest duration and conditions for release, which do not directly answer the query. However, the presence of some relevant information keeps the score above the midpoint.\"\n",
      "                },\n",
      "                \"Contextual Recall\": {\n",
      "                    \"score\": 1.0,\n",
      "                    \"success\": true,\n",
      "                    \"reason\": \"The score is 1.00 because every sentence in the expected output is perfectly aligned with the nodes in the retrieval context, ensuring complete accuracy and relevance. Great job!\"\n",
      "                },\n",
      "                \"Faithfulness\": {\n",
      "                    \"score\": 0.8333333333333334,\n",
      "                    \"success\": true,\n",
      "                    \"reason\": \"The score is 0.83 because the actual output inaccurately states that preventive arrest can be extended for a maximum of 180 days, while the retrieval context indicates that it can only be imposed directly for that duration after an initial 30 days limit.\"\n",
      "                },\n",
      "                \"Understanding (GEval)\": {\n",
      "                    \"score\": 0.6052947911810365,\n",
      "                    \"success\": false,\n",
      "                    \"reason\": \"While the actual output provides detailed information about the retention period and legal context, it is somewhat complex and may not be easily understood by someone without legal knowledge. The expected output is clearer and more concise.\"\n",
      "                }\n",
      "            }\n",
      "        },\n",
      "        {\n",
      "            \"query\": \"Care sunt drepturile cetățeanului român?\",\n",
      "            \"expected\": \"Cetățeanul român beneficiază de drepturi și libertăți fundamentale în toate domeniile vieții. Drepturile civile și politice includ dreptul la viață, libertatea individuală, dreptul la apărare, dreptul de vot de la 18 ani și eligibilitatea pentru funcții publice. Libertățile fundamentale cuprind libertatea gândirii și credinței religioase, libertatea de exprimare, dreptul la informație și dreptul de asociere în partide și sindicate. Drepturile economice și sociale garantează munca liber aleasă, greva, proprietatea privată, moștenirea, pensia și asistența medicală. În plus, cetățenii au dreptul la învățătură, acces la cultură, un mediu sănătos și protecția statului în străinătate.\",\n",
      "            \"actual\": \"Conform Constituției României, cetățenii sunt egali în fața legii și a autorităților publice. Nimeni nu este mai presus de lege. Statul garantează egalitatea de șanse între femei și bărbați pentru ocuparea funcțiilor și demnităților publice, civile sau militare. Cetățenii au dreptul de a alege și de a fi aleși în autoritățile administrației publice locale, în cazul în care acestea sunt cetățeni ai Uniunii Europene și îndeplinesc cerințele legale. Dispozițiile constituționale privitoare la drepturile și libertățile cetățenilor trebuie interpretate și aplicate în concordanță cu Declarația Universală a Drepturilor Omului, Pacte, Tratatele la care România este parte.\",\n",
      "            \"metrics\": {\n",
      "                \"Answer Relevancy\": {\n",
      "                    \"score\": 1.0,\n",
      "                    \"success\": true,\n",
      "                    \"reason\": \"The score is 1.00 because the response perfectly addresses the question about the rights of a Romanian citizen without any irrelevant information. Great job on staying focused and relevant!\"\n",
      "                },\n",
      "                \"Contextual Recall\": {\n",
      "                    \"score\": 0.4,\n",
      "                    \"success\": false,\n",
      "                    \"reason\": \"The score is 0.40 because while the 1st and 2nd nodes in the retrieval context align with the expected output regarding constitutional rights and voting rights, the context lacks specific references to other fundamental freedoms, economic and social rights, and additional citizen rights mentioned in the expected output.\"\n",
      "                },\n",
      "                \"Faithfulness\": {\n",
      "                    \"score\": 0.8,\n",
      "                    \"success\": true,\n",
      "                    \"reason\": \"The score is 0.80 because the actual output asserts that constitutional provisions must align with international human rights agreements, a detail not explicitly mentioned in the retrieval context.\"\n",
      "                },\n",
      "                \"Understanding (GEval)\": {\n",
      "                    \"score\": 0.42572627529528484,\n",
      "                    \"success\": false,\n",
      "                    \"reason\": \"The response provides some legal rights but lacks clarity and accessibility for someone without legal knowledge, making it difficult for users to understand their rights and obligations.\"\n",
      "                }\n",
      "            }\n",
      "        },\n",
      "        {\n",
      "            \"query\": \"Ce obligație are angajatorul înainte de încheierea contractului individual de muncă?\",\n",
      "            \"expected\": \"Anterior încheierii sau modificării contractului individual de muncă, angajatorul are obligația de a informa persoana selectată în vederea angajării cu privire la clauzele esențiale pe care intenționează să le înscrie în contract sau să le modifice.\",\n",
      "            \"actual\": \"Înainte de încheierea contractului individual de muncă, angajatorii au obligația de a informa persoana selectată în vederea angajării sau a salariatului cu privire la clauzele esențiale pe care intenționează să le includă în contract sau să le modifice. Această obligație se consideră îndeplinită de către angajator la momentul semnării contractului individual de muncă, fie prin act suplimentar.\\n\\nCu alte cuvinte, angajatorii trebuie să avertizeze persoana selectată în vederea angajării sau salariatul cu privire la următoarele:\\n- Identitatea părților (angajator și lucrător)\\n- Locul de muncă\\n- Sediul sau domiciliul angajatorului\\n- Funcția/ocupația conform Clasificării Ocupațiilor din România, precum și descrierea poziției\\n- Criterii pentru evaluarea activității profesionale ale lucrătorului de către angajator\\n- Riscuri specifice postului\\n- Data la care contractul urmează să producă efecte\\n- Dacă se aplică, durata unui contract de muncă pe durata determinată sau a unui contract de muncă temporar\\n- Durata concediului de odihnă\\n- Preavizul și durata acestuia\\n- Salariul de bază (și orice alte elemente constitutive ale veniturilor salariale)\\n- Ora normală de lucru, condițiile pentru ore suplimentare, dacă se aplică și modul în care muncitorii pot fi organizate în schimburi\\n- Dacă este cazul, perioada probațională a contractului individual de muncă\\n- Procedurile privind semnarea electronică avansată sau calificată, împreună cu marca temporala electronică și sigiliul calificat al angajatorului\\n- Drepturi în materie de formare profesională pentru lucrători oferite de angajatori\\n- Acoperirea asigurărilor medicale private, a contribuțiilor suplimentare la pensii sau la pensionarea ocupațională și acordarea oricăror alte drepturi financiare acordate de către angajator salariatului în urma activității acestuia\\n- Orice modificări ale contractelor trebuie să fie efectuate printr-un act suplimentar la contractul individual de muncă, cu excepția cazurilor prevăzute de lege sau de un contract colectiv aplicabil\\n\\nCu alte cuvinte, înainte de semnarea unui contract individual de muncă, angajatorii trebuie să avertizeze persoana selectată și/sau lucrătorul cu privire la toate aceste puncte.\",\n",
      "            \"metrics\": {\n",
      "                \"Answer Relevancy\": {\n",
      "                    \"score\": 0.9,\n",
      "                    \"success\": true,\n",
      "                    \"reason\": \"The score is 0.90 because the majority of the output effectively addresses the employer's obligations before signing an individual employment contract. However, the score isn't higher due to two statements that focus on post-signing scenarios, which are not directly relevant to the input question.\"\n",
      "                },\n",
      "                \"Contextual Recall\": {\n",
      "                    \"score\": 1.0,\n",
      "                    \"success\": true,\n",
      "                    \"reason\": \"The score is 1.00 because the expected output is perfectly aligned with the retrieval context, as the sentence is directly quoted from the 2nd node in the retrieval context. Great job!\"\n",
      "                },\n",
      "                \"Faithfulness\": {\n",
      "                    \"score\": 0.10526315789473684,\n",
      "                    \"success\": false,\n",
      "                    \"reason\": \"The score is 0.11 because the actual output inaccurately states that the employer must inform the selected person about various essential details, whereas the retrieval context only mentions the need to warn them about these aspects, leading to significant discrepancies.\"\n",
      "                },\n",
      "                \"Understanding (GEval)\": {\n",
      "                    \"score\": 0.6629697207824109,\n",
      "                    \"success\": false,\n",
      "                    \"reason\": \"The response is clear and accessible, detailing the employer's obligations, but it is more verbose than the expected output, which may hinder understanding for someone without legal knowledge.\"\n",
      "                }\n",
      "            }\n",
      "        },\n",
      "        {\n",
      "            \"query\": \"Care este vârsta legală minimă pentru încheierea unei căsătorii în România?\",\n",
      "            \"expected\": \"Căsătoria se poate încheia dacă viitorii soți au împlinit vârsta de 18 ani.\",\n",
      "            \"actual\": \"Căsătoria legală poate avea loc între vârstele cuprinse între 16 și 18 ani. Dacă o căsătorie este contractată sub acest lucru, aceasta nu este nulă absolut, dar până la rămâna definitivă a hotărârii judecătorești, ambii soți trebuie să împlinească vârsta de 18 ani.\",\n",
      "            \"metrics\": {\n",
      "                \"Answer Relevancy\": {\n",
      "                    \"score\": 0.6666666666666666,\n",
      "                    \"success\": false,\n",
      "                    \"reason\": \"The score is 0.67 because the response partially addresses the question about the legal minimum age for marriage in Romania. However, it includes a discussion on the validity of marriage under 16, which is not directly relevant to the query. This additional information slightly detracts from the overall relevance, preventing a higher score.\"\n",
      "                },\n",
      "                \"Contextual Recall\": {\n",
      "                    \"score\": 1.0,\n",
      "                    \"success\": true,\n",
      "                    \"reason\": \"The score is 1.00 because the expected output perfectly matches the information from the 2nd node in the retrieval context, demonstrating a flawless alignment.\"\n",
      "                },\n",
      "                \"Faithfulness\": {\n",
      "                    \"score\": 0.0,\n",
      "                    \"success\": false,\n",
      "                    \"reason\": \"The score is 0.00 because the actual output contradicts the retrieval context by stating that marriage can occur under the age of 18 without acknowledging the specific conditions and legal nullity outlined in the context.\"\n",
      "                },\n",
      "                \"Understanding (GEval)\": {\n",
      "                    \"score\": 0.4872753198389761,\n",
      "                    \"success\": false,\n",
      "                    \"reason\": \"The actual output provides some information about the age range for marriage but is not as clear and concise as the expected output, making it harder for someone without legal knowledge to understand.\"\n",
      "                }\n",
      "            }\n",
      "        },\n",
      "        {\n",
      "            \"query\": \"În ce condiții poate fi încheiat un contract de vânzare-cumpărare și care sunt excepțiile de la forma scrisă?\",\n",
      "            \"expected\": \"Contractul de vânzare-cumpărare se încheie prin acordul părților asupra lucrului și prețului. Contractul trebuie să fie în formă scrisă pentru bunurile imobile, pentru bunurile mobile cu valoarea peste o anumită sumă stabilită prin lege și pentru bunurile viitoare. Forma scrisă nu este obligatorie pentru bunurile mobile de valoare mică, pentru vânzările în cadrul activităților comerciale curente cu plată pe loc, sau când legea prevede expres alte forme de încheierie.\",\n",
      "            \"actual\": \"În condițiile în care un contract de vânzare-cumpărare poate fi încheiat în mod verbal sau în formă scrisă, iar excepțiile la această regulă sunt atunci când forma scrisă este necesară doar pentru proba contractului.\",\n",
      "            \"metrics\": {\n",
      "                \"Answer Relevancy\": {\n",
      "                    \"score\": 1.0,\n",
      "                    \"success\": true,\n",
      "                    \"reason\": \"The score is 1.00 because the response perfectly addresses the input question without any irrelevant statements, providing clear and concise information about the conditions and exceptions for a sales contract.\"\n",
      "                },\n",
      "                \"Contextual Recall\": {\n",
      "                    \"score\": 0.5,\n",
      "                    \"success\": false,\n",
      "                    \"reason\": \"The score is 0.50 because while the 1st node in the retrieval context supports the necessity of written form for immovable and future goods, it does not cover the agreement on object and price or exceptions for small value goods and commercial activities.\"\n",
      "                },\n",
      "                \"Faithfulness\": {\n",
      "                    \"score\": 0.3333333333333333,\n",
      "                    \"success\": false,\n",
      "                    \"reason\": \"The score is 0.33 because the actual output incorrectly suggests that a sale-purchase contract can be concluded verbally, while the retrieval context specifies that certain contracts must be in written form. Additionally, the actual output fails to acknowledge that the written form is necessary for proof of the contract in all situations, not just certain ones.\"\n",
      "                },\n",
      "                \"Understanding (GEval)\": {\n",
      "                    \"score\": 0.40293624545837997,\n",
      "                    \"success\": false,\n",
      "                    \"reason\": \"The actual output provides some information about verbal and written contracts but lacks clarity and detail compared to the expected output, making it less accessible for someone without legal knowledge.\"\n",
      "                }\n",
      "            }\n",
      "        },\n",
      "        {\n",
      "            \"query\": \"Care sunt drepturile și obligațiile părților în cazul unei concedieri individuale pentru motive care nu țin de persoana salariatului?\",\n",
      "            \"expected\": \"În cazul concedierii pentru motive care nu țin de persoana salariatului, angajatorul trebuie să respecte proceduri stricte și să asigure drepturi specifice salariatului. Concedierea este permisă doar pentru desființarea locului de muncă din motive economice, tehnologice, structurale sau similare. Angajatorul are obligația să acorde un preaviz de minimum 20 de zile lucrătoare și să respecte criterii obiective de selecție (performanțe profesionale, vechime, sarcini de întreținere).\",\n",
      "            \"actual\": \"În cazul unei concedieri individuale pentru motive care nu sunt legate de persoana angajatului, drepturile și obligațiile părților sunt următoarele:\\n1. Concedierea este o încetare a contractului individual de muncă din inițiativa angajatorului.\\n2. Concedierea poate fi acordată pentru motive care nu țin de persoana salariatului sau pentru motive legate de persoană.\\n3. Concedierea pentru motive care nu țin de persoana salariatului este o încetare a contractului individual de muncă determinată de desființarea locului de muncă ocupat de angajat, din unul sau mai multe motive fără legătură cu el.\\n4. Desființarea locului de muncă trebuie să fie efectivă și să aibă o cauză reală și serioasă.\\n5. Angajații beneficiază de protecția drepturilor lor în cazul transferului unei întreprinderi, al unei unități sau al unor părți ale acestora către alt angajator, conform legii.\\n6. Drepturile și obligațiile cedentului, care decurg dintr-un contract sau raport de muncă existent la momentul transferului, vor fi transferate integral la cesionar.\\n7. Transferul întreprinderii, al unității sau al unor părți ale acesteia nu poate servi drept motiv pentru concedierea individuală sau colectivă a angajaților de către cedent sau de către cesionar.\\n\\n**Nu am putut genera un răspuns.\",\n",
      "            \"metrics\": {\n",
      "                \"Answer Relevancy\": {\n",
      "                    \"score\": 0.5714285714285714,\n",
      "                    \"success\": false,\n",
      "                    \"reason\": \"The score is 0.57 because while the output partially addresses the topic of dismissals, it includes several statements about business transfers, which are not directly relevant to the specific question about individual dismissal rights and obligations. However, the score is not lower because there is some overlap in discussing legal aspects of dismissals, which is somewhat related to the input.\"\n",
      "                },\n",
      "                \"Contextual Recall\": {\n",
      "                    \"score\": 0.6666666666666666,\n",
      "                    \"success\": false,\n",
      "                    \"reason\": \"The score is 0.67 because while the retrieval context supports the general concept of dismissal for reasons unrelated to the employee (node 2), it lacks specific details on the notice period and selection criteria mentioned in the expected output.\"\n",
      "                },\n",
      "                \"Faithfulness\": {\n",
      "                    \"score\": 0.8571428571428571,\n",
      "                    \"success\": true,\n",
      "                    \"reason\": \"The score is 0.86 because the actual output incorrectly suggests that dismissal can only be granted for reasons related to the employee, contradicting the retrieval context which states that dismissal can also occur for reasons unrelated to the employee.\"\n",
      "                },\n",
      "                \"Understanding (GEval)\": {\n",
      "                    \"score\": 0.3526886561593108,\n",
      "                    \"success\": false,\n",
      "                    \"reason\": \"The actual output provides some information about rights and obligations but lacks clarity and accessibility for someone without legal knowledge, making it difficult for users to understand what they can or must do.\"\n",
      "                }\n",
      "            }\n",
      "        }\n",
      "    ]\n",
      "}\n",
      "Evaluating model: rollama2-7b-instruct\n",
      "{\n",
      "    \"Answer Relevancy\": {\n",
      "        \"avg_score\": 0.844,\n",
      "        \"std_dev\": 0.182,\n",
      "        \"pass_rate\": \"66.7%\",\n",
      "        \"total_cases\": 6\n",
      "    },\n",
      "    \"Contextual Recall\": {\n",
      "        \"avg_score\": 0.733,\n",
      "        \"std_dev\": 0.313,\n",
      "        \"pass_rate\": \"50.0%\",\n",
      "        \"total_cases\": 6\n",
      "    },\n",
      "    \"Faithfulness\": {\n",
      "        \"avg_score\": 0.62,\n",
      "        \"std_dev\": 0.313,\n",
      "        \"pass_rate\": \"33.3%\",\n",
      "        \"total_cases\": 6\n",
      "    },\n",
      "    \"Understanding (GEval)\": {\n",
      "        \"avg_score\": 0.485,\n",
      "        \"std_dev\": 0.157,\n",
      "        \"pass_rate\": \"0.0%\",\n",
      "        \"total_cases\": 6\n",
      "    },\n",
      "    \"examples\": [\n",
      "        {\n",
      "            \"query\": \"Cât timp poate fi reținută o persoană înainte de a fi arestată?\",\n",
      "            \"expected\": \"Reținerea nu poate depăși 24 de ore. După acest termen, persoana trebuie eliberată sau arestată preventiv prin decizia unui judecător.\",\n",
      "            \"actual\": \"Pentru a menține confidențialitatea comunicațiilor dvs., Legea nu vă permite ca organele de poliție sau alte organisme abilitate să intre fără mandat, care este un ordin semnat de un judecător. Dacă cineva încearcă acest lucru, puteți obține sprijin legal și, eventual, să depune o plângere împotriva celor responsabili.\\n\\nÎn plus, Legea prevede că nu poate fi stabilit un termen pentru „pedeapsă decât în condiții și în moduri prevăzute de lege”. Aceasta înseamnă că persoanele care sunt suspectate sau acuzate de infracțiune trebuie să fie informate cu privire la motivele lor, iar aceștia trebuie să aibă posibilitatea de a-și prezenta cazul în instanță.\\n\\nÎn concluzie, Legea oferă garanții pentru protejarea drepturilor și libertăților dvs., dar există excepții atunci când se impune cu privire la anumite aspecte. Fiți conștienți de aceste excepții și utilizați-le în mod corespunzător pentru a vă proteja drepturile. \",\n",
      "            \"metrics\": {\n",
      "                \"Answer Relevancy\": {\n",
      "                    \"score\": 0.6,\n",
      "                    \"success\": false,\n",
      "                    \"reason\": \"The score is 0.60 because while the output contains some relevant information about detention duration, several statements diverge from the main topic, discussing unrelated legal procedures like warrants and complaints. This mix of relevant and irrelevant content results in a moderate score.\"\n",
      "                },\n",
      "                \"Contextual Recall\": {\n",
      "                    \"score\": 1.0,\n",
      "                    \"success\": true,\n",
      "                    \"reason\": \"The score is 1.00 because every sentence in the expected output is perfectly aligned with the nodes in the retrieval context, ensuring complete accuracy and relevance. Great job!\"\n",
      "                },\n",
      "                \"Faithfulness\": {\n",
      "                    \"score\": 1.0,\n",
      "                    \"success\": true,\n",
      "                    \"reason\": \"The score is 1.00 because there are no contradictions present, indicating that the actual output perfectly aligns with the retrieval context.\"\n",
      "                },\n",
      "                \"Understanding (GEval)\": {\n",
      "                    \"score\": 0.21824255304737225,\n",
      "                    \"success\": false,\n",
      "                    \"reason\": \"The response provides some legal context but fails to directly answer the question about the maximum detention time, which is crucial for user understanding.\"\n",
      "                }\n",
      "            }\n",
      "        },\n",
      "        {\n",
      "            \"query\": \"Care sunt drepturile cetățeanului român?\",\n",
      "            \"expected\": \"Cetățeanul român beneficiază de drepturi și libertăți fundamentale în toate domeniile vieții. Drepturile civile și politice includ dreptul la viață, libertatea individuală, dreptul la apărare, dreptul de vot de la 18 ani și eligibilitatea pentru funcții publice. Libertățile fundamentale cuprind libertatea gândirii și credinței religioase, libertatea de exprimare, dreptul la informație și dreptul de asociere în partide și sindicate. Drepturile economice și sociale garantează munca liber aleasă, greva, proprietatea privată, moștenirea, pensia și asistența medicală. În plus, cetățenii au dreptul la învățătură, acces la cultură, un mediu sănătos și protecția statului în străinătate.\",\n",
      "            \"actual\": \"\\nCetățenii României au drepturi precum libertatea de exprimare, libertatea religioasă, accesul la justiție și dreptul la viață privată. Ele sunt protejate de legile țării și pot fi exercitate cu bună-credință și fără încălcarea drepturilor altora.\\n\",\n",
      "            \"metrics\": {\n",
      "                \"Answer Relevancy\": {\n",
      "                    \"score\": 1.0,\n",
      "                    \"success\": true,\n",
      "                    \"reason\": \"The score is 1.00 because the response perfectly addresses the question about the rights of a Romanian citizen without any irrelevant information. Great job on staying focused and relevant!\"\n",
      "                },\n",
      "                \"Contextual Recall\": {\n",
      "                    \"score\": 0.4,\n",
      "                    \"success\": false,\n",
      "                    \"reason\": \"The score is 0.40 because while the 1st and 2nd nodes in the retrieval context align with sentences about constitutional rights and voting, many other aspects such as religious freedom, economic rights, and cultural access are not covered by the nodes, leading to a lower contextual recall.\"\n",
      "                },\n",
      "                \"Faithfulness\": {\n",
      "                    \"score\": 1.0,\n",
      "                    \"success\": true,\n",
      "                    \"reason\": \"The score is 1.00 because there are no contradictions present, indicating that the actual output perfectly aligns with the retrieval context.\"\n",
      "                },\n",
      "                \"Understanding (GEval)\": {\n",
      "                    \"score\": 0.531080139697548,\n",
      "                    \"success\": false,\n",
      "                    \"reason\": \"The actual output lists some rights of Romanian citizens but lacks the depth and clarity found in the expected output, making it less accessible for someone without legal knowledge.\"\n",
      "                }\n",
      "            }\n",
      "        },\n",
      "        {\n",
      "            \"query\": \"Ce obligație are angajatorul înainte de încheierea contractului individual de muncă?\",\n",
      "            \"expected\": \"Anterior încheierii sau modificării contractului individual de muncă, angajatorul are obligația de a informa persoana selectată în vederea angajării cu privire la clauzele esențiale pe care intenționează să le înscrie în contract sau să le modifice.\",\n",
      "            \"actual\": \"\\nÎnainte de încheierea unui contract individual de muncă sau pe parcursul executării acestuia, angajatorul are obligația de a informa persoana selectată în vederea angajării sau salariatul, după caz, despre clauzele esențiale care urmează să fie înscrise în contract sau modificate. \\n\\nAceste elemente includ: \\n- sediul angajatorului sau domiciliul; \\n- funcție/ocupație, cu specificarea atribuirii postului și a fișei postului; \\n- riscurile specifice ale postului; \\n- durata normală a muncii, exprimată în ore/zi și/sau ore/săptămână; \\n- condițiile de efectuare și de compensare sau plată a orelor suplimentare; \\n- perioada de probă, dacă există. \",\n",
      "            \"metrics\": {\n",
      "                \"Answer Relevancy\": {\n",
      "                    \"score\": 1.0,\n",
      "                    \"success\": true,\n",
      "                    \"reason\": \"The score is 1.00 because the response perfectly addresses the question about the employer's obligations before signing an individual employment contract, without any irrelevant information. Great job on staying focused and relevant!\"\n",
      "                },\n",
      "                \"Contextual Recall\": {\n",
      "                    \"score\": 1.0,\n",
      "                    \"success\": true,\n",
      "                    \"reason\": \"The score is 1.00 because the expected output is perfectly aligned with the retrieval context, as the sentence is directly quoted from the 2nd node in the retrieval context. Great job!\"\n",
      "                },\n",
      "                \"Faithfulness\": {\n",
      "                    \"score\": 0.42857142857142855,\n",
      "                    \"success\": false,\n",
      "                    \"reason\": \"The score is 0.43 because the actual output fails to provide specific details required by the retrieval context, such as the specific assignment and job description, the expression of normal working hours in hours/day or hours/week, compensation for overtime, and the essential clause regarding the probation period.\"\n",
      "                },\n",
      "                \"Understanding (GEval)\": {\n",
      "                    \"score\": 0.6685915347993905,\n",
      "                    \"success\": false,\n",
      "                    \"reason\": \"The actual output provides detailed information about the employer's obligations, but it is somewhat complex and may not be fully accessible to someone without legal knowledge, which affects clarity.\"\n",
      "                }\n",
      "            }\n",
      "        },\n",
      "        {\n",
      "            \"query\": \"Care este vârsta legală minimă pentru încheierea unei căsătorii în România?\",\n",
      "            \"expected\": \"Căsătoria se poate încheia dacă viitorii soți au împlinit vârsta de 18 ani.\",\n",
      "            \"actual\": \"În România, vârsta legală minimă pentru încheierea unei căsătorii este de 18 ani. Dacă ambii viitori soți au împlinit vârsta de 16 ani, dar nu pot face acest lucru din motive temeinice, aceștia se pot căsători cu încuviințarea părinților sau a tutorei și cu autorizarea instanței de tutelă. Cu toate acestea, dacă unul dintre părinți refuză să își dea consimțământul, este suficient să se obțină încuviințarea celuilalt părinte și încuviințarea instanței de tutelă. \",\n",
      "            \"metrics\": {\n",
      "                \"Answer Relevancy\": {\n",
      "                    \"score\": 1.0,\n",
      "                    \"success\": true,\n",
      "                    \"reason\": \"The score is 1.00 because the response is perfectly relevant and directly addresses the question about the legal minimum age for marriage in Romania. Great job on providing a clear and concise answer!\"\n",
      "                },\n",
      "                \"Contextual Recall\": {\n",
      "                    \"score\": 1.0,\n",
      "                    \"success\": true,\n",
      "                    \"reason\": \"The score is 1.00 because the expected output perfectly matches the information from the 2nd node in the retrieval context, demonstrating a flawless alignment.\"\n",
      "                },\n",
      "                \"Faithfulness\": {\n",
      "                    \"score\": 0.3333333333333333,\n",
      "                    \"success\": false,\n",
      "                    \"reason\": \"The score is 0.33 because the actual output incorrectly states the minimum legal age for marriage in Romania as 18 years, contradicting the retrieval context that mentions it is 16 years with parental consent. Additionally, it misrepresents parental consent requirements by stating that only one parent's consent is needed if the other is deceased, which contradicts the claim that both parents' consent is necessary.\"\n",
      "                },\n",
      "                \"Understanding (GEval)\": {\n",
      "                    \"score\": 0.5777959013721691,\n",
      "                    \"success\": false,\n",
      "                    \"reason\": \"While the actual output provides the legal age for marriage, it includes additional details that may confuse someone without legal knowledge, making it less clear than the expected output.\"\n",
      "                }\n",
      "            }\n",
      "        },\n",
      "        {\n",
      "            \"query\": \"În ce condiții poate fi încheiat un contract de vânzare-cumpărare și care sunt excepțiile de la forma scrisă?\",\n",
      "            \"expected\": \"Contractul de vânzare-cumpărare se încheie prin acordul părților asupra lucrului și prețului. Contractul trebuie să fie în formă scrisă pentru bunurile imobile, pentru bunurile mobile cu valoarea peste o anumită sumă stabilită prin lege și pentru bunurile viitoare. Forma scrisă nu este obligatorie pentru bunurile mobile de valoare mică, pentru vânzările în cadrul activităților comerciale curente cu plată pe loc, sau când legea prevede expres alte forme de încheierie.\",\n",
      "            \"actual\": \"Un contract de vânzare-cumpărare poate fi încheiat prin intermediul unui act scris sau verbal. Dacă părțile nu au convenit asupra unei forme specifice, contractul se consideră încheiat atunci când unul dintre ei îl execută efectiv (de exemplu, prin vânzarea produsului către cumpărător). \\nExcepția de la forma scrisă este prevăzută în legea specifice domeniului juridic. În legislația din România, contractele de asociere nu trebuie încheiate în formă scrisă, cu excepția cazului în care prin lege se prevede altfel. \\n\\nFolosind informațiile furnizate, răspunsul la întrebarea utilizatorului ar fi:\\n\\nÎn ce condiții poate fi încheiat un contract de vânzare-cumpărare și care sunt excepțiile de la forma scrisă? \\n\\nUn contract de vânzare-cumparare poate fi incheiat atat printr-un act scris cat si verbal, sub sancțiunea de a se considera incheiat atunci cand unul dintre părți îl execută efectiv. În legislația românească, contractele de asociere nu trebuie să fie încheiate în formă scrisă, cu excepția cazului în care prin lege se prevede altfel. \",\n",
      "            \"metrics\": {\n",
      "                \"Answer Relevancy\": {\n",
      "                    \"score\": 0.8,\n",
      "                    \"success\": true,\n",
      "                    \"reason\": \"The score is 0.80 because the response effectively addresses the conditions and exceptions of a sales contract, which is the core of the input question. However, the mention of association contracts not requiring a written form is not directly relevant to the topic, slightly lowering the score.\"\n",
      "                },\n",
      "                \"Contextual Recall\": {\n",
      "                    \"score\": 0.3333333333333333,\n",
      "                    \"success\": false,\n",
      "                    \"reason\": \"The score is 0.33 because only the requirement for a written form for certain goods (sentence 2) aligns with the 1st node in the retrieval context. However, the agreement on the object and price (sentence 1) and exceptions for small value goods and commercial activities (sentence 4) are not supported by any nodes in the retrieval context.\"\n",
      "                },\n",
      "                \"Faithfulness\": {\n",
      "                    \"score\": 0.3333333333333333,\n",
      "                    \"success\": false,\n",
      "                    \"reason\": \"The score is 0.33 because the actual output incorrectly asserts that a contract must be in written form, while the retrieval context suggests that verbal agreements can be valid, particularly for sale-purchase contracts. Additionally, it contradicts the retrieval context by stating that contracts of society must be in written form, despite the context indicating that exceptions may apply.\"\n",
      "                },\n",
      "                \"Understanding (GEval)\": {\n",
      "                    \"score\": 0.5137645087737511,\n",
      "                    \"success\": false,\n",
      "                    \"reason\": \"The response provides some clarity on the conditions for concluding a sales contract, but it lacks specific details about the exceptions to the written form, which may confuse users without legal knowledge.\"\n",
      "                }\n",
      "            }\n",
      "        },\n",
      "        {\n",
      "            \"query\": \"Care sunt drepturile și obligațiile părților în cazul unei concedieri individuale pentru motive care nu țin de persoana salariatului?\",\n",
      "            \"expected\": \"În cazul concedierii pentru motive care nu țin de persoana salariatului, angajatorul trebuie să respecte proceduri stricte și să asigure drepturi specifice salariatului. Concedierea este permisă doar pentru desființarea locului de muncă din motive economice, tehnologice, structurale sau similare. Angajatorul are obligația să acorde un preaviz de minimum 20 de zile lucrătoare și să respecte criterii obiective de selecție (performanțe profesionale, vechime, sarcini de întreținere).\",\n",
      "            \"actual\": \"\\nCei doi angajatori au drepturi și obligații diferite în timpul unei concedieri individuale pentru motive care nu țin de persoana salariatului. Iată o explicație clară și ușor de înțeles pentru orice cetățean:\\n\\n- **Concedierea angajatorului** (fostul angajator): \\n    - El are dreptul să își înceteze contractul individual de muncă (CIM) din motive care nu țin de persoana salariatului. Acest lucru poate fi cauzat, de exemplu, de o restructurare a companiei.\\n    - El are obligația să respecte legile privind protecția angajaților și drepturile acestora în timpul procesului de concediere, cum ar fi furnizarea unei notificări corespunzătoare sau plata unor compensații adecvate.\\n\\n- **Concedierii angajatorului** (angajat nou): \\n    - Are dreptul să își înceteze contractul individual de muncă din motive care nu țin de persoana salariatului. Acest lucru poate fi cauzat, de exemplu, de o restructurare a companiei sau prin desființarea postului pe care îl ocupă.\\n    - Nu are obligația să respecte legile privind protecția angajaților și drepturile acestora în timpul procesului de concediere, cu excepția cazului în care noua companie este condusă de aceeași entitate sau de un afiliat.\\n\\nNu uitați că răspunsul trebuie să fie scurt și clar, să explice termenii juridici pe înțelesul tuturor, să nu completeze cu informații suplimentare și să se abțină de la limbajul tehnic.\",\n",
      "            \"metrics\": {\n",
      "                \"Answer Relevancy\": {\n",
      "                    \"score\": 0.6666666666666666,\n",
      "                    \"success\": false,\n",
      "                    \"reason\": \"The score is 0.67 because while the output addresses the main topic of individual dismissal rights and obligations, it includes several irrelevant statements that detract from the focus. These statements, such as those about clarity and language use, do not directly pertain to the specific legal rights and obligations in the context of dismissal, thus preventing a higher score.\"\n",
      "                },\n",
      "                \"Contextual Recall\": {\n",
      "                    \"score\": 0.6666666666666666,\n",
      "                    \"success\": false,\n",
      "                    \"reason\": \"The score is 0.67 because while the retrieval context supports the general concept of dismissal for reasons unrelated to the employee (node 2), it lacks specific details on the notice period and selection criteria mentioned in the expected output.\"\n",
      "                },\n",
      "                \"Faithfulness\": {\n",
      "                    \"score\": 0.625,\n",
      "                    \"success\": false,\n",
      "                    \"reason\": \"The score is 0.62 because the actual output incorrectly claims that new employees can terminate their contracts for unrelated reasons, that their dismissal can be due to company restructuring, and that they are exempt from employee protection laws, all of which contradict the retrieval context.\"\n",
      "                },\n",
      "                \"Understanding (GEval)\": {\n",
      "                    \"score\": 0.39884581955309933,\n",
      "                    \"success\": false,\n",
      "                    \"reason\": \"The response provides some clarity on the rights and obligations of both employers and employees, but it includes unnecessary details and lacks a concise explanation of the legal terms, making it less accessible for someone without legal knowledge.\"\n",
      "                }\n",
      "            }\n",
      "        }\n",
      "    ]\n",
      "}\n"
     ]
    }
   ],
   "source": [
    "prompt_v5 = \"\"\" \n",
    "Ești un ghid juridic virtual. Scopul tău este să explici legea în limba română într-un mod clar, concis și accesibil oricărui cetățean, fără a folosi termeni tehnici sau limbaj complicat.\n",
    "\n",
    "Respectă cu strictețe următoarele reguli:\n",
    " - Scrie propoziții scurte, clare și ușor de înțeles pentru cineva fără studii juridice. Evită frazele lungi sau ambigue.\n",
    " - Nu folosi termeni juridici specializați. Dacă apar în context, explică-i simplu.\n",
    " - Dacă răspunsul implică condiții, pași sau excepții, explică-le pe scurt, clar și logic, într-o ordine firească.\n",
    " - Structura răspunsului trebuie să urmeze o ordine logică. Începe cu ideea principală, apoi oferă explicații sau condiții, dacă există.\n",
    " - Nu inventa informații și nu completa cu exemple din cunoștințele tale. Fii fidel exclusiv contextului.\n",
    " - Nu cita articole de lege și nu menționa surse sau numere de articole.\n",
    " - Dacă informația necesară nu se găsește în context, scrie exact: **„Nu am putut genera un răspuns.”**\n",
    " - Evită generalizările. Limitează-te doar la ceea ce este prezent în context.\n",
    " - Nu folosi formulări vagi precum „în general”, „uneori” sau „de obicei”, decât dacă apar în context.\n",
    " - Răspunsul trebuie să fie scurt, complet și fără comentarii inutile.\n",
    " - Păstrează un ton politicos, neutru și prietenos. Nu oferi sfaturi legale personalizate.\n",
    "\n",
    "Uite două exemple de întrebări și răspunsuri pentru a înțelege ce se așteaptă:\n",
    "\n",
    "Exemplu bun:  \n",
    "Întrebare: Ce protecție oferă statul român cetățenilor săi aflați în afara țării?  \n",
    "Răspuns: Cetățenii români aflați în străinătate beneficiază de protecția statului român. Ei trebuie să-și respecte obligațiile, cu excepția celor care nu pot fi îndeplinite din cauza absenței din țară.\n",
    "\n",
    "Exemplu greșit:  \n",
    "Întrebare: Ce drepturi are un chiriaș?  \n",
    "Răspuns: În general, chiriașii au dreptul la o locuință decentă, iar proprietarul nu are voie să-i deranjeze. Dacă ceva nu merge bine, e suficient ca chiriașul să notifice proprietarul pentru a pleca.  \n",
    "(Motive: răspunsul este vag, incomplet și conține informații care nu sunt în contextul oferit.)\n",
    "---\n",
    "\n",
    "Întrebarea utilizatorului este:  \n",
    "{question}\n",
    "\n",
    "Informațiile disponibile sunt:  \n",
    "{context}\n",
    "\n",
    "Scrie răspunsul în limba română. Acesta trebuie să fie clar, politicos și ușor de înțeles.\n",
    "\"\"\"\n",
    "\n",
    "model_results = start_testing(models_list, tests_list, prompt_v3)\n",
    "\n",
    "for model_name, model_result_list in model_results.items():\n",
    "    print(f\"Evaluating model: {model_name}\")\n",
    "    results_summary = analyze_model_results(model_result_list)\n",
    "    print(json.dumps(results_summary, indent=4, ensure_ascii=False))"
   ]
  },
  {
   "cell_type": "code",
   "execution_count": null,
   "id": "c60a57e8",
   "metadata": {},
   "outputs": [
    {
     "name": "stdout",
     "output_type": "stream",
     "text": [
      "Running tests for query: Cât timp poate fi reținută o persoană înainte de a fi arestată?\n",
      "Using model: rollama3-8b-instruct\n"
     ]
    },
    {
     "data": {
      "text/html": [
       "<pre style=\"white-space:pre;overflow-x:auto;line-height:normal;font-family:Menlo,'DejaVu Sans Mono',consolas,'Courier New',monospace\">\n",
       "<span style=\"color: #05f58d; text-decoration-color: #05f58d\">✓</span> Tests finished 🎉! Run <span style=\"color: #008000; text-decoration-color: #008000; font-weight: bold\">'deepeval login'</span> to save and analyze evaluation results on Confident AI.\n",
       " \n",
       "✨👀 Looking for a place for your LLM test data to live 🏡❤️ ? Use <span style=\"color: #6a00ff; text-decoration-color: #6a00ff\">Confident AI</span> to get &amp; share testing reports, \n",
       "experiment with models/prompts, and catch regressions for your LLM system. Just run <span style=\"color: #008080; text-decoration-color: #008080\">'deepeval login'</span> in the CLI. \n",
       "\n",
       "</pre>\n"
      ],
      "text/plain": [
       "\n",
       "\u001b[38;2;5;245;141m✓\u001b[0m Tests finished 🎉! Run \u001b[1;32m'deepeval login'\u001b[0m to save and analyze evaluation results on Confident AI.\n",
       " \n",
       "✨👀 Looking for a place for your LLM test data to live 🏡❤️ ? Use \u001b[38;2;106;0;255mConfident AI\u001b[0m to get & share testing reports, \n",
       "experiment with models/prompts, and catch regressions for your LLM system. Just run \u001b[36m'deepeval login'\u001b[0m in the CLI. \n",
       "\n"
      ]
     },
     "metadata": {},
     "output_type": "display_data"
    },
    {
     "data": {
      "text/html": [
       "<pre style=\"white-space:pre;overflow-x:auto;line-height:normal;font-family:Menlo,'DejaVu Sans Mono',consolas,'Courier New',monospace\">\n",
       "<span style=\"color: #05f58d; text-decoration-color: #05f58d\">✓</span> Tests finished 🎉! Run <span style=\"color: #008000; text-decoration-color: #008000; font-weight: bold\">'deepeval login'</span> to save and analyze evaluation results on Confident AI.\n",
       " \n",
       "✨👀 Looking for a place for your LLM test data to live 🏡❤️ ? Use <span style=\"color: #6a00ff; text-decoration-color: #6a00ff\">Confident AI</span> to get &amp; share testing reports, \n",
       "experiment with models/prompts, and catch regressions for your LLM system. Just run <span style=\"color: #008080; text-decoration-color: #008080\">'deepeval login'</span> in the CLI. \n",
       "\n",
       "</pre>\n"
      ],
      "text/plain": [
       "\n",
       "\u001b[38;2;5;245;141m✓\u001b[0m Tests finished 🎉! Run \u001b[1;32m'deepeval login'\u001b[0m to save and analyze evaluation results on Confident AI.\n",
       " \n",
       "✨👀 Looking for a place for your LLM test data to live 🏡❤️ ? Use \u001b[38;2;106;0;255mConfident AI\u001b[0m to get & share testing reports, \n",
       "experiment with models/prompts, and catch regressions for your LLM system. Just run \u001b[36m'deepeval login'\u001b[0m in the CLI. \n",
       "\n"
      ]
     },
     "metadata": {},
     "output_type": "display_data"
    },
    {
     "data": {
      "text/html": [
       "<pre style=\"white-space:pre;overflow-x:auto;line-height:normal;font-family:Menlo,'DejaVu Sans Mono',consolas,'Courier New',monospace\">\n",
       "<span style=\"color: #05f58d; text-decoration-color: #05f58d\">✓</span> Tests finished 🎉! Run <span style=\"color: #008000; text-decoration-color: #008000; font-weight: bold\">'deepeval login'</span> to save and analyze evaluation results on Confident AI.\n",
       " \n",
       "✨👀 Looking for a place for your LLM test data to live 🏡❤️ ? Use <span style=\"color: #6a00ff; text-decoration-color: #6a00ff\">Confident AI</span> to get &amp; share testing reports, \n",
       "experiment with models/prompts, and catch regressions for your LLM system. Just run <span style=\"color: #008080; text-decoration-color: #008080\">'deepeval login'</span> in the CLI. \n",
       "\n",
       "</pre>\n"
      ],
      "text/plain": [
       "\n",
       "\u001b[38;2;5;245;141m✓\u001b[0m Tests finished 🎉! Run \u001b[1;32m'deepeval login'\u001b[0m to save and analyze evaluation results on Confident AI.\n",
       " \n",
       "✨👀 Looking for a place for your LLM test data to live 🏡❤️ ? Use \u001b[38;2;106;0;255mConfident AI\u001b[0m to get & share testing reports, \n",
       "experiment with models/prompts, and catch regressions for your LLM system. Just run \u001b[36m'deepeval login'\u001b[0m in the CLI. \n",
       "\n"
      ]
     },
     "metadata": {},
     "output_type": "display_data"
    },
    {
     "data": {
      "text/html": [
       "<pre style=\"white-space:pre;overflow-x:auto;line-height:normal;font-family:Menlo,'DejaVu Sans Mono',consolas,'Courier New',monospace\">\n",
       "<span style=\"color: #05f58d; text-decoration-color: #05f58d\">✓</span> Tests finished 🎉! Run <span style=\"color: #008000; text-decoration-color: #008000; font-weight: bold\">'deepeval login'</span> to save and analyze evaluation results on Confident AI.\n",
       " \n",
       "✨👀 Looking for a place for your LLM test data to live 🏡❤️ ? Use <span style=\"color: #6a00ff; text-decoration-color: #6a00ff\">Confident AI</span> to get &amp; share testing reports, \n",
       "experiment with models/prompts, and catch regressions for your LLM system. Just run <span style=\"color: #008080; text-decoration-color: #008080\">'deepeval login'</span> in the CLI. \n",
       "\n",
       "</pre>\n"
      ],
      "text/plain": [
       "\n",
       "\u001b[38;2;5;245;141m✓\u001b[0m Tests finished 🎉! Run \u001b[1;32m'deepeval login'\u001b[0m to save and analyze evaluation results on Confident AI.\n",
       " \n",
       "✨👀 Looking for a place for your LLM test data to live 🏡❤️ ? Use \u001b[38;2;106;0;255mConfident AI\u001b[0m to get & share testing reports, \n",
       "experiment with models/prompts, and catch regressions for your LLM system. Just run \u001b[36m'deepeval login'\u001b[0m in the CLI. \n",
       "\n"
      ]
     },
     "metadata": {},
     "output_type": "display_data"
    },
    {
     "data": {
      "text/html": [
       "<pre style=\"white-space:pre;overflow-x:auto;line-height:normal;font-family:Menlo,'DejaVu Sans Mono',consolas,'Courier New',monospace\">\n",
       "<span style=\"color: #05f58d; text-decoration-color: #05f58d\">✓</span> Tests finished 🎉! Run <span style=\"color: #008000; text-decoration-color: #008000; font-weight: bold\">'deepeval login'</span> to save and analyze evaluation results on Confident AI.\n",
       " \n",
       "✨👀 Looking for a place for your LLM test data to live 🏡❤️ ? Use <span style=\"color: #6a00ff; text-decoration-color: #6a00ff\">Confident AI</span> to get &amp; share testing reports, \n",
       "experiment with models/prompts, and catch regressions for your LLM system. Just run <span style=\"color: #008080; text-decoration-color: #008080\">'deepeval login'</span> in the CLI. \n",
       "\n",
       "</pre>\n"
      ],
      "text/plain": [
       "\n",
       "\u001b[38;2;5;245;141m✓\u001b[0m Tests finished 🎉! Run \u001b[1;32m'deepeval login'\u001b[0m to save and analyze evaluation results on Confident AI.\n",
       " \n",
       "✨👀 Looking for a place for your LLM test data to live 🏡❤️ ? Use \u001b[38;2;106;0;255mConfident AI\u001b[0m to get & share testing reports, \n",
       "experiment with models/prompts, and catch regressions for your LLM system. Just run \u001b[36m'deepeval login'\u001b[0m in the CLI. \n",
       "\n"
      ]
     },
     "metadata": {},
     "output_type": "display_data"
    },
    {
     "name": "stdout",
     "output_type": "stream",
     "text": [
      "\n",
      "            Query: Cât timp poate fi reținută o persoană înainte de a fi arestată?\n",
      "            Expected: Reținerea nu poate depăși 24 de ore. După acest termen, persoana trebuie eliberată sau arestată preventiv prin decizia unui judecător.\n",
      "            Actual: Conform Codului Muncii actualizat (Legislația privind protecția muncii), până când se pronunță o hotărâre judecătoare definitivă, persoana este considerată nevinovată. Până la rămânerea în vigoare a hotărârii judecătorești de condamnare, aceasta nu poate fi reținută pentru o perioadă mai lungă de 24 de ore. Arestarea preventivă se poate dispune numai în cursul procesului penal și nu trebuie să depășească un termen rezonabil, care nu poate excedea 180 de zile. În faza judecății, instanța este obligată, în condițiile legii, să verifice periodic arestarea preventivă și să dispună punerea în libertate a inculpatului dacă temeiurile care au determinat aceasta s-au estompat sau dacă se constată că nu există motive noi pentru menținerea privării de libertate.\n",
      "            Relevancy Score: [{'metric': 'Answer Relevancy', 'success': False, 'score': 0.375, 'reason': 'The score is 0.38 because the output contains several statements that do not directly address the question about the duration a person can be detained before arrest. These irrelevant statements focus on different legal aspects, such as the presumption of innocence, preventive arrest, and trial conditions, which detract from the main query. However, the score is not lower because there are still some relevant points that touch upon the legal context of detention.'}]\n",
      "            Recall Score: [{'metric': 'Contextual Recall', 'success': True, 'score': 1.0, 'reason': 'The score is 1.00 because every sentence in the expected output is perfectly aligned with the nodes in the retrieval context, ensuring complete accuracy and relevance. Great job!'}]\n",
      "            Faithfulness Score: [{'metric': 'Faithfulness', 'success': False, 'score': 0.5, 'reason': \"The score is 0.50 because the actual output contradicts the retrieval context by stating that reținerea cannot exceed 24 hours, while the claim suggests a longer duration. Additionally, it mentions that arestarea preventivă can be extended for a maximum of 180 days, conflicting with the assertion of a reasonable term limit. Lastly, the output fails to clarify that the court's verification of preventive arrest legality must occur during the trial phase.\"}]\n",
      "            Understanding Score: [{'metric': 'Understanding (GEval)', 'success': False, 'score': 0.3909347219799402, 'reason': 'The response contains legal jargon and lengthy explanations that may confuse someone without legal knowledge, making it less accessible. It does provide some information about detention limits, but it lacks clarity on what the user can do after 24 hours.'}]\n",
      "            Toxicity Score: [{'metric': 'Toxicity (GEval)', 'success': True, 'score': 0.9999999999999998, 'reason': 'The response is informative and does not contain any offensive or inappropriate language.'}]\n",
      "            \n",
      "Using model: rollama2-7b-instruct\n"
     ]
    },
    {
     "data": {
      "text/html": [
       "<pre style=\"white-space:pre;overflow-x:auto;line-height:normal;font-family:Menlo,'DejaVu Sans Mono',consolas,'Courier New',monospace\">\n",
       "<span style=\"color: #05f58d; text-decoration-color: #05f58d\">✓</span> Tests finished 🎉! Run <span style=\"color: #008000; text-decoration-color: #008000; font-weight: bold\">'deepeval login'</span> to save and analyze evaluation results on Confident AI.\n",
       " \n",
       "✨👀 Looking for a place for your LLM test data to live 🏡❤️ ? Use <span style=\"color: #6a00ff; text-decoration-color: #6a00ff\">Confident AI</span> to get &amp; share testing reports, \n",
       "experiment with models/prompts, and catch regressions for your LLM system. Just run <span style=\"color: #008080; text-decoration-color: #008080\">'deepeval login'</span> in the CLI. \n",
       "\n",
       "</pre>\n"
      ],
      "text/plain": [
       "\n",
       "\u001b[38;2;5;245;141m✓\u001b[0m Tests finished 🎉! Run \u001b[1;32m'deepeval login'\u001b[0m to save and analyze evaluation results on Confident AI.\n",
       " \n",
       "✨👀 Looking for a place for your LLM test data to live 🏡❤️ ? Use \u001b[38;2;106;0;255mConfident AI\u001b[0m to get & share testing reports, \n",
       "experiment with models/prompts, and catch regressions for your LLM system. Just run \u001b[36m'deepeval login'\u001b[0m in the CLI. \n",
       "\n"
      ]
     },
     "metadata": {},
     "output_type": "display_data"
    },
    {
     "data": {
      "text/html": [
       "<pre style=\"white-space:pre;overflow-x:auto;line-height:normal;font-family:Menlo,'DejaVu Sans Mono',consolas,'Courier New',monospace\">\n",
       "<span style=\"color: #05f58d; text-decoration-color: #05f58d\">✓</span> Tests finished 🎉! Run <span style=\"color: #008000; text-decoration-color: #008000; font-weight: bold\">'deepeval login'</span> to save and analyze evaluation results on Confident AI.\n",
       " \n",
       "✨👀 Looking for a place for your LLM test data to live 🏡❤️ ? Use <span style=\"color: #6a00ff; text-decoration-color: #6a00ff\">Confident AI</span> to get &amp; share testing reports, \n",
       "experiment with models/prompts, and catch regressions for your LLM system. Just run <span style=\"color: #008080; text-decoration-color: #008080\">'deepeval login'</span> in the CLI. \n",
       "\n",
       "</pre>\n"
      ],
      "text/plain": [
       "\n",
       "\u001b[38;2;5;245;141m✓\u001b[0m Tests finished 🎉! Run \u001b[1;32m'deepeval login'\u001b[0m to save and analyze evaluation results on Confident AI.\n",
       " \n",
       "✨👀 Looking for a place for your LLM test data to live 🏡❤️ ? Use \u001b[38;2;106;0;255mConfident AI\u001b[0m to get & share testing reports, \n",
       "experiment with models/prompts, and catch regressions for your LLM system. Just run \u001b[36m'deepeval login'\u001b[0m in the CLI. \n",
       "\n"
      ]
     },
     "metadata": {},
     "output_type": "display_data"
    },
    {
     "data": {
      "text/html": [
       "<pre style=\"white-space:pre;overflow-x:auto;line-height:normal;font-family:Menlo,'DejaVu Sans Mono',consolas,'Courier New',monospace\">\n",
       "<span style=\"color: #05f58d; text-decoration-color: #05f58d\">✓</span> Tests finished 🎉! Run <span style=\"color: #008000; text-decoration-color: #008000; font-weight: bold\">'deepeval login'</span> to save and analyze evaluation results on Confident AI.\n",
       " \n",
       "✨👀 Looking for a place for your LLM test data to live 🏡❤️ ? Use <span style=\"color: #6a00ff; text-decoration-color: #6a00ff\">Confident AI</span> to get &amp; share testing reports, \n",
       "experiment with models/prompts, and catch regressions for your LLM system. Just run <span style=\"color: #008080; text-decoration-color: #008080\">'deepeval login'</span> in the CLI. \n",
       "\n",
       "</pre>\n"
      ],
      "text/plain": [
       "\n",
       "\u001b[38;2;5;245;141m✓\u001b[0m Tests finished 🎉! Run \u001b[1;32m'deepeval login'\u001b[0m to save and analyze evaluation results on Confident AI.\n",
       " \n",
       "✨👀 Looking for a place for your LLM test data to live 🏡❤️ ? Use \u001b[38;2;106;0;255mConfident AI\u001b[0m to get & share testing reports, \n",
       "experiment with models/prompts, and catch regressions for your LLM system. Just run \u001b[36m'deepeval login'\u001b[0m in the CLI. \n",
       "\n"
      ]
     },
     "metadata": {},
     "output_type": "display_data"
    },
    {
     "data": {
      "text/html": [
       "<pre style=\"white-space:pre;overflow-x:auto;line-height:normal;font-family:Menlo,'DejaVu Sans Mono',consolas,'Courier New',monospace\">\n",
       "<span style=\"color: #05f58d; text-decoration-color: #05f58d\">✓</span> Tests finished 🎉! Run <span style=\"color: #008000; text-decoration-color: #008000; font-weight: bold\">'deepeval login'</span> to save and analyze evaluation results on Confident AI.\n",
       " \n",
       "✨👀 Looking for a place for your LLM test data to live 🏡❤️ ? Use <span style=\"color: #6a00ff; text-decoration-color: #6a00ff\">Confident AI</span> to get &amp; share testing reports, \n",
       "experiment with models/prompts, and catch regressions for your LLM system. Just run <span style=\"color: #008080; text-decoration-color: #008080\">'deepeval login'</span> in the CLI. \n",
       "\n",
       "</pre>\n"
      ],
      "text/plain": [
       "\n",
       "\u001b[38;2;5;245;141m✓\u001b[0m Tests finished 🎉! Run \u001b[1;32m'deepeval login'\u001b[0m to save and analyze evaluation results on Confident AI.\n",
       " \n",
       "✨👀 Looking for a place for your LLM test data to live 🏡❤️ ? Use \u001b[38;2;106;0;255mConfident AI\u001b[0m to get & share testing reports, \n",
       "experiment with models/prompts, and catch regressions for your LLM system. Just run \u001b[36m'deepeval login'\u001b[0m in the CLI. \n",
       "\n"
      ]
     },
     "metadata": {},
     "output_type": "display_data"
    },
    {
     "data": {
      "text/html": [
       "<pre style=\"white-space:pre;overflow-x:auto;line-height:normal;font-family:Menlo,'DejaVu Sans Mono',consolas,'Courier New',monospace\">\n",
       "<span style=\"color: #05f58d; text-decoration-color: #05f58d\">✓</span> Tests finished 🎉! Run <span style=\"color: #008000; text-decoration-color: #008000; font-weight: bold\">'deepeval login'</span> to save and analyze evaluation results on Confident AI.\n",
       " \n",
       "✨👀 Looking for a place for your LLM test data to live 🏡❤️ ? Use <span style=\"color: #6a00ff; text-decoration-color: #6a00ff\">Confident AI</span> to get &amp; share testing reports, \n",
       "experiment with models/prompts, and catch regressions for your LLM system. Just run <span style=\"color: #008080; text-decoration-color: #008080\">'deepeval login'</span> in the CLI. \n",
       "\n",
       "</pre>\n"
      ],
      "text/plain": [
       "\n",
       "\u001b[38;2;5;245;141m✓\u001b[0m Tests finished 🎉! Run \u001b[1;32m'deepeval login'\u001b[0m to save and analyze evaluation results on Confident AI.\n",
       " \n",
       "✨👀 Looking for a place for your LLM test data to live 🏡❤️ ? Use \u001b[38;2;106;0;255mConfident AI\u001b[0m to get & share testing reports, \n",
       "experiment with models/prompts, and catch regressions for your LLM system. Just run \u001b[36m'deepeval login'\u001b[0m in the CLI. \n",
       "\n"
      ]
     },
     "metadata": {},
     "output_type": "display_data"
    },
    {
     "name": "stdout",
     "output_type": "stream",
     "text": [
      "\n",
      "            Query: Cât timp poate fi reținută o persoană înainte de a fi arestată?\n",
      "            Expected: Reținerea nu poate depăși 24 de ore. După acest termen, persoana trebuie eliberată sau arestată preventiv prin decizia unui judecător.\n",
      "            Actual: Întrebarea utilizatorului este: Cât timp poate fi reținută o persoană înainte de a fi arestată?\n",
      "Răspunsul trebuie să fie scurt, complet și fără comentarii inutile. \n",
      "            Relevancy Score: [{'metric': 'Answer Relevancy', 'success': False, 'score': 0.0, 'reason': 'The score is 0.00 because the output contains multiple irrelevant statements that do not address the question about the duration a person can be detained before being arrested. The statements focus on the format, completeness, and avoidance of unnecessary comments rather than providing the needed information.'}]\n",
      "            Recall Score: [{'metric': 'Contextual Recall', 'success': True, 'score': 1.0, 'reason': 'The score is 1.00 because every sentence in the expected output is perfectly aligned with the nodes in the retrieval context, ensuring complete accuracy and relevance. Great job!'}]\n",
      "            Faithfulness Score: [{'metric': 'Faithfulness', 'success': True, 'score': 1.0, 'reason': 'The score is 1.00 because there are no contradictions present, indicating that the actual output perfectly aligns with the retrieval context.'}]\n",
      "            Understanding Score: [{'metric': 'Understanding (GEval)', 'success': False, 'score': 0.2723308041669613, 'reason': \"The actual output does not provide a clear answer to the user's question about the time a person can be detained, failing to meet the clarity and accessibility criteria.\"}]\n",
      "            Toxicity Score: [{'metric': 'Toxicity (GEval)', 'success': True, 'score': 1.0, 'reason': 'The response does not contain any offensive language or inappropriate content and is formulated appropriately.'}]\n",
      "            \n",
      "Finished tests for model: rollama2-7b-instruct\n",
      "\n",
      "==================================================\n",
      "\n",
      "\n",
      "Running tests for query: Care sunt drepturile cetățeanului român?\n",
      "Using model: rollama3-8b-instruct\n"
     ]
    },
    {
     "data": {
      "text/html": [
       "<pre style=\"white-space:pre;overflow-x:auto;line-height:normal;font-family:Menlo,'DejaVu Sans Mono',consolas,'Courier New',monospace\">\n",
       "<span style=\"color: #05f58d; text-decoration-color: #05f58d\">✓</span> Tests finished 🎉! Run <span style=\"color: #008000; text-decoration-color: #008000; font-weight: bold\">'deepeval login'</span> to save and analyze evaluation results on Confident AI.\n",
       " \n",
       "✨👀 Looking for a place for your LLM test data to live 🏡❤️ ? Use <span style=\"color: #6a00ff; text-decoration-color: #6a00ff\">Confident AI</span> to get &amp; share testing reports, \n",
       "experiment with models/prompts, and catch regressions for your LLM system. Just run <span style=\"color: #008080; text-decoration-color: #008080\">'deepeval login'</span> in the CLI. \n",
       "\n",
       "</pre>\n"
      ],
      "text/plain": [
       "\n",
       "\u001b[38;2;5;245;141m✓\u001b[0m Tests finished 🎉! Run \u001b[1;32m'deepeval login'\u001b[0m to save and analyze evaluation results on Confident AI.\n",
       " \n",
       "✨👀 Looking for a place for your LLM test data to live 🏡❤️ ? Use \u001b[38;2;106;0;255mConfident AI\u001b[0m to get & share testing reports, \n",
       "experiment with models/prompts, and catch regressions for your LLM system. Just run \u001b[36m'deepeval login'\u001b[0m in the CLI. \n",
       "\n"
      ]
     },
     "metadata": {},
     "output_type": "display_data"
    },
    {
     "data": {
      "text/html": [
       "<pre style=\"white-space:pre;overflow-x:auto;line-height:normal;font-family:Menlo,'DejaVu Sans Mono',consolas,'Courier New',monospace\">\n",
       "<span style=\"color: #05f58d; text-decoration-color: #05f58d\">✓</span> Tests finished 🎉! Run <span style=\"color: #008000; text-decoration-color: #008000; font-weight: bold\">'deepeval login'</span> to save and analyze evaluation results on Confident AI.\n",
       " \n",
       "✨👀 Looking for a place for your LLM test data to live 🏡❤️ ? Use <span style=\"color: #6a00ff; text-decoration-color: #6a00ff\">Confident AI</span> to get &amp; share testing reports, \n",
       "experiment with models/prompts, and catch regressions for your LLM system. Just run <span style=\"color: #008080; text-decoration-color: #008080\">'deepeval login'</span> in the CLI. \n",
       "\n",
       "</pre>\n"
      ],
      "text/plain": [
       "\n",
       "\u001b[38;2;5;245;141m✓\u001b[0m Tests finished 🎉! Run \u001b[1;32m'deepeval login'\u001b[0m to save and analyze evaluation results on Confident AI.\n",
       " \n",
       "✨👀 Looking for a place for your LLM test data to live 🏡❤️ ? Use \u001b[38;2;106;0;255mConfident AI\u001b[0m to get & share testing reports, \n",
       "experiment with models/prompts, and catch regressions for your LLM system. Just run \u001b[36m'deepeval login'\u001b[0m in the CLI. \n",
       "\n"
      ]
     },
     "metadata": {},
     "output_type": "display_data"
    },
    {
     "data": {
      "text/html": [
       "<pre style=\"white-space:pre;overflow-x:auto;line-height:normal;font-family:Menlo,'DejaVu Sans Mono',consolas,'Courier New',monospace\">\n",
       "<span style=\"color: #05f58d; text-decoration-color: #05f58d\">✓</span> Tests finished 🎉! Run <span style=\"color: #008000; text-decoration-color: #008000; font-weight: bold\">'deepeval login'</span> to save and analyze evaluation results on Confident AI.\n",
       " \n",
       "✨👀 Looking for a place for your LLM test data to live 🏡❤️ ? Use <span style=\"color: #6a00ff; text-decoration-color: #6a00ff\">Confident AI</span> to get &amp; share testing reports, \n",
       "experiment with models/prompts, and catch regressions for your LLM system. Just run <span style=\"color: #008080; text-decoration-color: #008080\">'deepeval login'</span> in the CLI. \n",
       "\n",
       "</pre>\n"
      ],
      "text/plain": [
       "\n",
       "\u001b[38;2;5;245;141m✓\u001b[0m Tests finished 🎉! Run \u001b[1;32m'deepeval login'\u001b[0m to save and analyze evaluation results on Confident AI.\n",
       " \n",
       "✨👀 Looking for a place for your LLM test data to live 🏡❤️ ? Use \u001b[38;2;106;0;255mConfident AI\u001b[0m to get & share testing reports, \n",
       "experiment with models/prompts, and catch regressions for your LLM system. Just run \u001b[36m'deepeval login'\u001b[0m in the CLI. \n",
       "\n"
      ]
     },
     "metadata": {},
     "output_type": "display_data"
    },
    {
     "data": {
      "text/html": [
       "<pre style=\"white-space:pre;overflow-x:auto;line-height:normal;font-family:Menlo,'DejaVu Sans Mono',consolas,'Courier New',monospace\">\n",
       "<span style=\"color: #05f58d; text-decoration-color: #05f58d\">✓</span> Tests finished 🎉! Run <span style=\"color: #008000; text-decoration-color: #008000; font-weight: bold\">'deepeval login'</span> to save and analyze evaluation results on Confident AI.\n",
       " \n",
       "✨👀 Looking for a place for your LLM test data to live 🏡❤️ ? Use <span style=\"color: #6a00ff; text-decoration-color: #6a00ff\">Confident AI</span> to get &amp; share testing reports, \n",
       "experiment with models/prompts, and catch regressions for your LLM system. Just run <span style=\"color: #008080; text-decoration-color: #008080\">'deepeval login'</span> in the CLI. \n",
       "\n",
       "</pre>\n"
      ],
      "text/plain": [
       "\n",
       "\u001b[38;2;5;245;141m✓\u001b[0m Tests finished 🎉! Run \u001b[1;32m'deepeval login'\u001b[0m to save and analyze evaluation results on Confident AI.\n",
       " \n",
       "✨👀 Looking for a place for your LLM test data to live 🏡❤️ ? Use \u001b[38;2;106;0;255mConfident AI\u001b[0m to get & share testing reports, \n",
       "experiment with models/prompts, and catch regressions for your LLM system. Just run \u001b[36m'deepeval login'\u001b[0m in the CLI. \n",
       "\n"
      ]
     },
     "metadata": {},
     "output_type": "display_data"
    },
    {
     "data": {
      "text/html": [
       "<pre style=\"white-space:pre;overflow-x:auto;line-height:normal;font-family:Menlo,'DejaVu Sans Mono',consolas,'Courier New',monospace\">\n",
       "<span style=\"color: #05f58d; text-decoration-color: #05f58d\">✓</span> Tests finished 🎉! Run <span style=\"color: #008000; text-decoration-color: #008000; font-weight: bold\">'deepeval login'</span> to save and analyze evaluation results on Confident AI.\n",
       " \n",
       "✨👀 Looking for a place for your LLM test data to live 🏡❤️ ? Use <span style=\"color: #6a00ff; text-decoration-color: #6a00ff\">Confident AI</span> to get &amp; share testing reports, \n",
       "experiment with models/prompts, and catch regressions for your LLM system. Just run <span style=\"color: #008080; text-decoration-color: #008080\">'deepeval login'</span> in the CLI. \n",
       "\n",
       "</pre>\n"
      ],
      "text/plain": [
       "\n",
       "\u001b[38;2;5;245;141m✓\u001b[0m Tests finished 🎉! Run \u001b[1;32m'deepeval login'\u001b[0m to save and analyze evaluation results on Confident AI.\n",
       " \n",
       "✨👀 Looking for a place for your LLM test data to live 🏡❤️ ? Use \u001b[38;2;106;0;255mConfident AI\u001b[0m to get & share testing reports, \n",
       "experiment with models/prompts, and catch regressions for your LLM system. Just run \u001b[36m'deepeval login'\u001b[0m in the CLI. \n",
       "\n"
      ]
     },
     "metadata": {},
     "output_type": "display_data"
    },
    {
     "name": "stdout",
     "output_type": "stream",
     "text": [
      "\n",
      "            Query: Care sunt drepturile cetățeanului român?\n",
      "            Expected: Cetățeanul român beneficiază de drepturi și libertăți fundamentale în toate domeniile vieții. Drepturile civile și politice includ dreptul la viață, libertatea individuală, dreptul la apărare, dreptul de vot de la 18 ani și eligibilitatea pentru funcții publice. Libertățile fundamentale cuprind libertatea gândirii și credinței religioase, libertatea de exprimare, dreptul la informație și dreptul de asociere în partide și sindicate. Drepturile economice și sociale garantează munca liber aleasă, greva, proprietatea privată, moștenirea, pensia și asistența medicală. În plus, cetățenii au dreptul la învățătură, acces la cultură, un mediu sănătos și protecția statului în străinătate.\n",
      "            Actual: Cetățenii români au drepturi și libertăți prevăzute în Constituția României și alte pacte și tratate internaționale la care țara este parte. Aceste drepturi includ egalitatea în fața legii, egalitatea de sex și garanția de acces liber la justiție.\n",
      "            Relevancy Score: [{'metric': 'Answer Relevancy', 'success': True, 'score': 1.0, 'reason': 'The score is 1.00 because the response perfectly addresses the question about the rights of a Romanian citizen without any irrelevant information. Great job on staying focused and relevant!'}]\n",
      "            Recall Score: [{'metric': 'Contextual Recall', 'success': False, 'score': 0.4, 'reason': \"The score is 0.40 because while the 3rd node in the retrieval context supports the mention of 'drepturi și libertăți fundamentale' and the 2nd node aligns with 'dreptul de vot de la 18 ani și eligibilitatea pentru funcții publice', there is a lack of support for other key aspects such as 'libertatea gândirii și credinței religioase' and 'drepturile economice și sociale'. This results in a limited contextual alignment overall.\"}]\n",
      "            Faithfulness Score: [{'metric': 'Faithfulness', 'success': True, 'score': 0.8, 'reason': 'The score is 0.80 because the actual output incorrectly implies a guarantee of free access to justice for Romanian citizens, which is not mentioned in the retrieval context.'}]\n",
      "            Understanding Score: [{'metric': 'Understanding (GEval)', 'success': False, 'score': 0.437330536813468, 'reason': 'While the actual output mentions some rights, it lacks clarity and detail compared to the expected output, making it less accessible for someone without legal knowledge.'}]\n",
      "            Toxicity Score: [{'metric': 'Toxicity (GEval)', 'success': True, 'score': 1.0, 'reason': 'The response is respectful and informative, addressing the rights of Romanian citizens without any offensive or inappropriate language.'}]\n",
      "            \n",
      "Using model: rollama2-7b-instruct\n"
     ]
    },
    {
     "data": {
      "text/html": [
       "<pre style=\"white-space:pre;overflow-x:auto;line-height:normal;font-family:Menlo,'DejaVu Sans Mono',consolas,'Courier New',monospace\">\n",
       "<span style=\"color: #05f58d; text-decoration-color: #05f58d\">✓</span> Tests finished 🎉! Run <span style=\"color: #008000; text-decoration-color: #008000; font-weight: bold\">'deepeval login'</span> to save and analyze evaluation results on Confident AI.\n",
       " \n",
       "✨👀 Looking for a place for your LLM test data to live 🏡❤️ ? Use <span style=\"color: #6a00ff; text-decoration-color: #6a00ff\">Confident AI</span> to get &amp; share testing reports, \n",
       "experiment with models/prompts, and catch regressions for your LLM system. Just run <span style=\"color: #008080; text-decoration-color: #008080\">'deepeval login'</span> in the CLI. \n",
       "\n",
       "</pre>\n"
      ],
      "text/plain": [
       "\n",
       "\u001b[38;2;5;245;141m✓\u001b[0m Tests finished 🎉! Run \u001b[1;32m'deepeval login'\u001b[0m to save and analyze evaluation results on Confident AI.\n",
       " \n",
       "✨👀 Looking for a place for your LLM test data to live 🏡❤️ ? Use \u001b[38;2;106;0;255mConfident AI\u001b[0m to get & share testing reports, \n",
       "experiment with models/prompts, and catch regressions for your LLM system. Just run \u001b[36m'deepeval login'\u001b[0m in the CLI. \n",
       "\n"
      ]
     },
     "metadata": {},
     "output_type": "display_data"
    },
    {
     "data": {
      "text/html": [
       "<pre style=\"white-space:pre;overflow-x:auto;line-height:normal;font-family:Menlo,'DejaVu Sans Mono',consolas,'Courier New',monospace\">\n",
       "<span style=\"color: #05f58d; text-decoration-color: #05f58d\">✓</span> Tests finished 🎉! Run <span style=\"color: #008000; text-decoration-color: #008000; font-weight: bold\">'deepeval login'</span> to save and analyze evaluation results on Confident AI.\n",
       " \n",
       "✨👀 Looking for a place for your LLM test data to live 🏡❤️ ? Use <span style=\"color: #6a00ff; text-decoration-color: #6a00ff\">Confident AI</span> to get &amp; share testing reports, \n",
       "experiment with models/prompts, and catch regressions for your LLM system. Just run <span style=\"color: #008080; text-decoration-color: #008080\">'deepeval login'</span> in the CLI. \n",
       "\n",
       "</pre>\n"
      ],
      "text/plain": [
       "\n",
       "\u001b[38;2;5;245;141m✓\u001b[0m Tests finished 🎉! Run \u001b[1;32m'deepeval login'\u001b[0m to save and analyze evaluation results on Confident AI.\n",
       " \n",
       "✨👀 Looking for a place for your LLM test data to live 🏡❤️ ? Use \u001b[38;2;106;0;255mConfident AI\u001b[0m to get & share testing reports, \n",
       "experiment with models/prompts, and catch regressions for your LLM system. Just run \u001b[36m'deepeval login'\u001b[0m in the CLI. \n",
       "\n"
      ]
     },
     "metadata": {},
     "output_type": "display_data"
    },
    {
     "data": {
      "text/html": [
       "<pre style=\"white-space:pre;overflow-x:auto;line-height:normal;font-family:Menlo,'DejaVu Sans Mono',consolas,'Courier New',monospace\">\n",
       "<span style=\"color: #05f58d; text-decoration-color: #05f58d\">✓</span> Tests finished 🎉! Run <span style=\"color: #008000; text-decoration-color: #008000; font-weight: bold\">'deepeval login'</span> to save and analyze evaluation results on Confident AI.\n",
       " \n",
       "✨👀 Looking for a place for your LLM test data to live 🏡❤️ ? Use <span style=\"color: #6a00ff; text-decoration-color: #6a00ff\">Confident AI</span> to get &amp; share testing reports, \n",
       "experiment with models/prompts, and catch regressions for your LLM system. Just run <span style=\"color: #008080; text-decoration-color: #008080\">'deepeval login'</span> in the CLI. \n",
       "\n",
       "</pre>\n"
      ],
      "text/plain": [
       "\n",
       "\u001b[38;2;5;245;141m✓\u001b[0m Tests finished 🎉! Run \u001b[1;32m'deepeval login'\u001b[0m to save and analyze evaluation results on Confident AI.\n",
       " \n",
       "✨👀 Looking for a place for your LLM test data to live 🏡❤️ ? Use \u001b[38;2;106;0;255mConfident AI\u001b[0m to get & share testing reports, \n",
       "experiment with models/prompts, and catch regressions for your LLM system. Just run \u001b[36m'deepeval login'\u001b[0m in the CLI. \n",
       "\n"
      ]
     },
     "metadata": {},
     "output_type": "display_data"
    },
    {
     "data": {
      "text/html": [
       "<pre style=\"white-space:pre;overflow-x:auto;line-height:normal;font-family:Menlo,'DejaVu Sans Mono',consolas,'Courier New',monospace\">\n",
       "<span style=\"color: #05f58d; text-decoration-color: #05f58d\">✓</span> Tests finished 🎉! Run <span style=\"color: #008000; text-decoration-color: #008000; font-weight: bold\">'deepeval login'</span> to save and analyze evaluation results on Confident AI.\n",
       " \n",
       "✨👀 Looking for a place for your LLM test data to live 🏡❤️ ? Use <span style=\"color: #6a00ff; text-decoration-color: #6a00ff\">Confident AI</span> to get &amp; share testing reports, \n",
       "experiment with models/prompts, and catch regressions for your LLM system. Just run <span style=\"color: #008080; text-decoration-color: #008080\">'deepeval login'</span> in the CLI. \n",
       "\n",
       "</pre>\n"
      ],
      "text/plain": [
       "\n",
       "\u001b[38;2;5;245;141m✓\u001b[0m Tests finished 🎉! Run \u001b[1;32m'deepeval login'\u001b[0m to save and analyze evaluation results on Confident AI.\n",
       " \n",
       "✨👀 Looking for a place for your LLM test data to live 🏡❤️ ? Use \u001b[38;2;106;0;255mConfident AI\u001b[0m to get & share testing reports, \n",
       "experiment with models/prompts, and catch regressions for your LLM system. Just run \u001b[36m'deepeval login'\u001b[0m in the CLI. \n",
       "\n"
      ]
     },
     "metadata": {},
     "output_type": "display_data"
    },
    {
     "data": {
      "text/html": [
       "<pre style=\"white-space:pre;overflow-x:auto;line-height:normal;font-family:Menlo,'DejaVu Sans Mono',consolas,'Courier New',monospace\">\n",
       "<span style=\"color: #05f58d; text-decoration-color: #05f58d\">✓</span> Tests finished 🎉! Run <span style=\"color: #008000; text-decoration-color: #008000; font-weight: bold\">'deepeval login'</span> to save and analyze evaluation results on Confident AI.\n",
       " \n",
       "✨👀 Looking for a place for your LLM test data to live 🏡❤️ ? Use <span style=\"color: #6a00ff; text-decoration-color: #6a00ff\">Confident AI</span> to get &amp; share testing reports, \n",
       "experiment with models/prompts, and catch regressions for your LLM system. Just run <span style=\"color: #008080; text-decoration-color: #008080\">'deepeval login'</span> in the CLI. \n",
       "\n",
       "</pre>\n"
      ],
      "text/plain": [
       "\n",
       "\u001b[38;2;5;245;141m✓\u001b[0m Tests finished 🎉! Run \u001b[1;32m'deepeval login'\u001b[0m to save and analyze evaluation results on Confident AI.\n",
       " \n",
       "✨👀 Looking for a place for your LLM test data to live 🏡❤️ ? Use \u001b[38;2;106;0;255mConfident AI\u001b[0m to get & share testing reports, \n",
       "experiment with models/prompts, and catch regressions for your LLM system. Just run \u001b[36m'deepeval login'\u001b[0m in the CLI. \n",
       "\n"
      ]
     },
     "metadata": {},
     "output_type": "display_data"
    },
    {
     "name": "stdout",
     "output_type": "stream",
     "text": [
      "\n",
      "            Query: Care sunt drepturile cetățeanului român?\n",
      "            Expected: Cetățeanul român beneficiază de drepturi și libertăți fundamentale în toate domeniile vieții. Drepturile civile și politice includ dreptul la viață, libertatea individuală, dreptul la apărare, dreptul de vot de la 18 ani și eligibilitatea pentru funcții publice. Libertățile fundamentale cuprind libertatea gândirii și credinței religioase, libertatea de exprimare, dreptul la informație și dreptul de asociere în partide și sindicate. Drepturile economice și sociale garantează munca liber aleasă, greva, proprietatea privată, moștenirea, pensia și asistența medicală. În plus, cetățenii au dreptul la învățătură, acces la cultură, un mediu sănătos și protecția statului în străinătate.\n",
      "            Actual: Răspunsul la întrebare este că drepturile cetățenilor români includ libertatea de exprimare, accesul la justiție și protecția împotriva discriminării. În plus, ei au drepturi egale în fața legii, indiferent dacă sunt români sau cetățeni străini care locuiesc pe teritoriul României. \n",
      "            Relevancy Score: [{'metric': 'Answer Relevancy', 'success': True, 'score': 0.8, 'reason': 'The score is 0.80 because the response effectively addresses the rights of Romanian citizens, but includes a statement about rights for foreign residents, which is not directly relevant to the specific query about Romanian citizens.'}]\n",
      "            Recall Score: [{'metric': 'Contextual Recall', 'success': False, 'score': 0.4, 'reason': 'The score is 0.40 because while the 1st and 2nd nodes in the retrieval context align with the fundamental rights and voting rights mentioned in sentences 1 and 2 of the expected output, there is a lack of coverage for other key aspects such as religious freedom, economic rights, and cultural access in the remaining sentences.'}]\n",
      "            Faithfulness Score: [{'metric': 'Faithfulness', 'success': False, 'score': 0.5, 'reason': 'The score is 0.50 because the actual output incorrectly asserts that foreign citizens have equal rights alongside Romanian citizens, contradicting the retrieval context which clarifies that equality before the law is limited to citizens and stateless persons.'}]\n",
      "            Understanding Score: [{'metric': 'Understanding (GEval)', 'success': True, 'score': 0.5439502233652708, 'reason': 'The response provides some rights of Romanian citizens but lacks clarity and comprehensiveness compared to the expected output, which details various categories of rights and freedoms.'}]\n",
      "            Toxicity Score: [{'metric': 'Toxicity (GEval)', 'success': True, 'score': 1.0, 'reason': 'The response is respectful and informative, containing no offensive or inappropriate language.'}]\n",
      "            \n",
      "Finished tests for model: rollama2-7b-instruct\n",
      "\n",
      "==================================================\n",
      "\n",
      "\n",
      "Running tests for query: Ce obligație are angajatorul înainte de încheierea contractului individual de muncă?\n",
      "Using model: rollama3-8b-instruct\n"
     ]
    },
    {
     "data": {
      "text/html": [
       "<pre style=\"white-space:pre;overflow-x:auto;line-height:normal;font-family:Menlo,'DejaVu Sans Mono',consolas,'Courier New',monospace\">\n",
       "<span style=\"color: #05f58d; text-decoration-color: #05f58d\">✓</span> Tests finished 🎉! Run <span style=\"color: #008000; text-decoration-color: #008000; font-weight: bold\">'deepeval login'</span> to save and analyze evaluation results on Confident AI.\n",
       " \n",
       "✨👀 Looking for a place for your LLM test data to live 🏡❤️ ? Use <span style=\"color: #6a00ff; text-decoration-color: #6a00ff\">Confident AI</span> to get &amp; share testing reports, \n",
       "experiment with models/prompts, and catch regressions for your LLM system. Just run <span style=\"color: #008080; text-decoration-color: #008080\">'deepeval login'</span> in the CLI. \n",
       "\n",
       "</pre>\n"
      ],
      "text/plain": [
       "\n",
       "\u001b[38;2;5;245;141m✓\u001b[0m Tests finished 🎉! Run \u001b[1;32m'deepeval login'\u001b[0m to save and analyze evaluation results on Confident AI.\n",
       " \n",
       "✨👀 Looking for a place for your LLM test data to live 🏡❤️ ? Use \u001b[38;2;106;0;255mConfident AI\u001b[0m to get & share testing reports, \n",
       "experiment with models/prompts, and catch regressions for your LLM system. Just run \u001b[36m'deepeval login'\u001b[0m in the CLI. \n",
       "\n"
      ]
     },
     "metadata": {},
     "output_type": "display_data"
    },
    {
     "data": {
      "text/html": [
       "<pre style=\"white-space:pre;overflow-x:auto;line-height:normal;font-family:Menlo,'DejaVu Sans Mono',consolas,'Courier New',monospace\">\n",
       "<span style=\"color: #05f58d; text-decoration-color: #05f58d\">✓</span> Tests finished 🎉! Run <span style=\"color: #008000; text-decoration-color: #008000; font-weight: bold\">'deepeval login'</span> to save and analyze evaluation results on Confident AI.\n",
       " \n",
       "✨👀 Looking for a place for your LLM test data to live 🏡❤️ ? Use <span style=\"color: #6a00ff; text-decoration-color: #6a00ff\">Confident AI</span> to get &amp; share testing reports, \n",
       "experiment with models/prompts, and catch regressions for your LLM system. Just run <span style=\"color: #008080; text-decoration-color: #008080\">'deepeval login'</span> in the CLI. \n",
       "\n",
       "</pre>\n"
      ],
      "text/plain": [
       "\n",
       "\u001b[38;2;5;245;141m✓\u001b[0m Tests finished 🎉! Run \u001b[1;32m'deepeval login'\u001b[0m to save and analyze evaluation results on Confident AI.\n",
       " \n",
       "✨👀 Looking for a place for your LLM test data to live 🏡❤️ ? Use \u001b[38;2;106;0;255mConfident AI\u001b[0m to get & share testing reports, \n",
       "experiment with models/prompts, and catch regressions for your LLM system. Just run \u001b[36m'deepeval login'\u001b[0m in the CLI. \n",
       "\n"
      ]
     },
     "metadata": {},
     "output_type": "display_data"
    },
    {
     "data": {
      "text/html": [
       "<pre style=\"white-space:pre;overflow-x:auto;line-height:normal;font-family:Menlo,'DejaVu Sans Mono',consolas,'Courier New',monospace\">\n",
       "<span style=\"color: #05f58d; text-decoration-color: #05f58d\">✓</span> Tests finished 🎉! Run <span style=\"color: #008000; text-decoration-color: #008000; font-weight: bold\">'deepeval login'</span> to save and analyze evaluation results on Confident AI.\n",
       " \n",
       "✨👀 Looking for a place for your LLM test data to live 🏡❤️ ? Use <span style=\"color: #6a00ff; text-decoration-color: #6a00ff\">Confident AI</span> to get &amp; share testing reports, \n",
       "experiment with models/prompts, and catch regressions for your LLM system. Just run <span style=\"color: #008080; text-decoration-color: #008080\">'deepeval login'</span> in the CLI. \n",
       "\n",
       "</pre>\n"
      ],
      "text/plain": [
       "\n",
       "\u001b[38;2;5;245;141m✓\u001b[0m Tests finished 🎉! Run \u001b[1;32m'deepeval login'\u001b[0m to save and analyze evaluation results on Confident AI.\n",
       " \n",
       "✨👀 Looking for a place for your LLM test data to live 🏡❤️ ? Use \u001b[38;2;106;0;255mConfident AI\u001b[0m to get & share testing reports, \n",
       "experiment with models/prompts, and catch regressions for your LLM system. Just run \u001b[36m'deepeval login'\u001b[0m in the CLI. \n",
       "\n"
      ]
     },
     "metadata": {},
     "output_type": "display_data"
    },
    {
     "data": {
      "text/html": [
       "<pre style=\"white-space:pre;overflow-x:auto;line-height:normal;font-family:Menlo,'DejaVu Sans Mono',consolas,'Courier New',monospace\">\n",
       "<span style=\"color: #05f58d; text-decoration-color: #05f58d\">✓</span> Tests finished 🎉! Run <span style=\"color: #008000; text-decoration-color: #008000; font-weight: bold\">'deepeval login'</span> to save and analyze evaluation results on Confident AI.\n",
       " \n",
       "✨👀 Looking for a place for your LLM test data to live 🏡❤️ ? Use <span style=\"color: #6a00ff; text-decoration-color: #6a00ff\">Confident AI</span> to get &amp; share testing reports, \n",
       "experiment with models/prompts, and catch regressions for your LLM system. Just run <span style=\"color: #008080; text-decoration-color: #008080\">'deepeval login'</span> in the CLI. \n",
       "\n",
       "</pre>\n"
      ],
      "text/plain": [
       "\n",
       "\u001b[38;2;5;245;141m✓\u001b[0m Tests finished 🎉! Run \u001b[1;32m'deepeval login'\u001b[0m to save and analyze evaluation results on Confident AI.\n",
       " \n",
       "✨👀 Looking for a place for your LLM test data to live 🏡❤️ ? Use \u001b[38;2;106;0;255mConfident AI\u001b[0m to get & share testing reports, \n",
       "experiment with models/prompts, and catch regressions for your LLM system. Just run \u001b[36m'deepeval login'\u001b[0m in the CLI. \n",
       "\n"
      ]
     },
     "metadata": {},
     "output_type": "display_data"
    },
    {
     "data": {
      "text/html": [
       "<pre style=\"white-space:pre;overflow-x:auto;line-height:normal;font-family:Menlo,'DejaVu Sans Mono',consolas,'Courier New',monospace\">\n",
       "<span style=\"color: #05f58d; text-decoration-color: #05f58d\">✓</span> Tests finished 🎉! Run <span style=\"color: #008000; text-decoration-color: #008000; font-weight: bold\">'deepeval login'</span> to save and analyze evaluation results on Confident AI.\n",
       " \n",
       "✨👀 Looking for a place for your LLM test data to live 🏡❤️ ? Use <span style=\"color: #6a00ff; text-decoration-color: #6a00ff\">Confident AI</span> to get &amp; share testing reports, \n",
       "experiment with models/prompts, and catch regressions for your LLM system. Just run <span style=\"color: #008080; text-decoration-color: #008080\">'deepeval login'</span> in the CLI. \n",
       "\n",
       "</pre>\n"
      ],
      "text/plain": [
       "\n",
       "\u001b[38;2;5;245;141m✓\u001b[0m Tests finished 🎉! Run \u001b[1;32m'deepeval login'\u001b[0m to save and analyze evaluation results on Confident AI.\n",
       " \n",
       "✨👀 Looking for a place for your LLM test data to live 🏡❤️ ? Use \u001b[38;2;106;0;255mConfident AI\u001b[0m to get & share testing reports, \n",
       "experiment with models/prompts, and catch regressions for your LLM system. Just run \u001b[36m'deepeval login'\u001b[0m in the CLI. \n",
       "\n"
      ]
     },
     "metadata": {},
     "output_type": "display_data"
    },
    {
     "name": "stdout",
     "output_type": "stream",
     "text": [
      "\n",
      "            Query: Ce obligație are angajatorul înainte de încheierea contractului individual de muncă?\n",
      "            Expected: Anterior încheierii sau modificării contractului individual de muncă, angajatorul are obligația de a informa persoana selectată în vederea angajării cu privire la clauzele esențiale pe care intenționează să le înscrie în contract sau să le modifice.\n",
      "            Actual: Înainte de a semna sau modifica un contract individual de muncă (CIM), angajatorul are obligația să informeze persoana selectată pentru angajare, fie că este vorba despre salariat, cu privire la clauzele esențiale pe care intenționează să le includă sau să modifice în contract. Această obligație de informare este considerată îndeplinită atunci când angajatorul semnează contractul individual sau actul suplimentar, după caz.\n",
      "\n",
      "Angajatul și/sau salariatul trebuie informat cu privire la următoarele:\n",
      "- Identitatea părților (angajator și salariat)\n",
      "- Loc de muncă și posibilitatea ca angajatul să își desfășoare activitatea în mai multe locuri, dacă nu există un loc fix\n",
      "- Sediul sau domiciliul angajatorului\n",
      "- Funcție/ocupație conform Clasificării ocupațiilor din România și fișa postului\n",
      "- Criteriile privind evaluarea activității profesionale aplicabile la nivelul angajatorului\n",
      "- Riscurile specifice locurilor de muncă\n",
      "- Data din care contractul va intra în vigoare\n",
      "- Durata unui CIM pe perioadă determinată sau temporară\n",
      "- Condițiile de acordare a preavizelor și durata acestora\n",
      "- Salariu de bază, alte elemente constitutive ale câștigului salarial, includerea separată a oricărui alt câștig legat de muncă și metoda de plată\n",
      "- Durata normală a muncii, condițiile de efectuare și compensație sau plata orelor suplimentare\n",
      "- Orice contract colectiv care reglementează condiția de muncă a angajatului (CIM)\n",
      "- Proceduri privind utilizarea semnăturii electronice avansate, calificate, timbrată electronic sau sigilată electronic calificată\n",
      "- Drepturile și condițiile legate de formare profesională oferite de angajator\n",
      "- Suportarea asigurării medicale private, a contribuțiilor suplimentare pentru pensia facultativă sau la pensionarea profesională (în cazul în care aceasta este reglementată) și orice alte avantaje acordate salariatului de către angajator\n",
      "- Orice modificare a acestor elemente trebuie să fie prevăzută prin unui act suplimentar, cu excepția cazurilor în care o astfel de schimbare este prevăzută expres de lege sau contract colectiv aplicabil\n",
      "\n",
      "Dacă angajatorul nu respectă aceste cerințe și îi concediază pe salariați pentru motive care nu depind de persoana acestora, se poate aplica sancțiunea legii muncii.\n",
      "            Relevancy Score: [{'metric': 'Answer Relevancy', 'success': True, 'score': 0.8421052631578947, 'reason': \"The score is 0.84 because the response mostly addresses the employer's obligations before signing the employment contract, but includes some irrelevant details about post-signing obligations and consequences, which slightly detract from its precision.\"}]\n",
      "            Recall Score: [{'metric': 'Contextual Recall', 'success': True, 'score': 1.0, 'reason': 'The score is 1.00 because the expected output is perfectly aligned with the retrieval context, as the sentence is directly quoted from the 2nd node in the retrieval context. Great job!'}]\n",
      "            Faithfulness Score: [{'metric': 'Faithfulness', 'success': True, 'score': 0.8235294117647058, 'reason': 'The score is 0.82 because the actual output inaccurately states that the obligation to inform is fulfilled upon signing the employment contract, rather than when the employer signs. Additionally, it incorrectly emphasizes that the employee must be informed about the conditions for granting notice, rather than just the duration, and specifies the need to inform about base salary and payment periodicity, neglecting other salary elements.'}]\n",
      "            Understanding Score: [{'metric': 'Understanding (GEval)', 'success': True, 'score': 0.6309247387777479, 'reason': \"The response provides detailed information about the employer's obligations, but it may be too complex for someone without legal knowledge to fully grasp the essential points.\"}]\n",
      "            Toxicity Score: [{'metric': 'Toxicity (GEval)', 'success': True, 'score': 1.0, 'reason': 'The response is informative and professional, addressing the obligations of the employer without any offensive or inappropriate language.'}]\n",
      "            \n",
      "Using model: rollama2-7b-instruct\n"
     ]
    },
    {
     "data": {
      "text/html": [
       "<pre style=\"white-space:pre;overflow-x:auto;line-height:normal;font-family:Menlo,'DejaVu Sans Mono',consolas,'Courier New',monospace\">\n",
       "<span style=\"color: #05f58d; text-decoration-color: #05f58d\">✓</span> Tests finished 🎉! Run <span style=\"color: #008000; text-decoration-color: #008000; font-weight: bold\">'deepeval login'</span> to save and analyze evaluation results on Confident AI.\n",
       " \n",
       "✨👀 Looking for a place for your LLM test data to live 🏡❤️ ? Use <span style=\"color: #6a00ff; text-decoration-color: #6a00ff\">Confident AI</span> to get &amp; share testing reports, \n",
       "experiment with models/prompts, and catch regressions for your LLM system. Just run <span style=\"color: #008080; text-decoration-color: #008080\">'deepeval login'</span> in the CLI. \n",
       "\n",
       "</pre>\n"
      ],
      "text/plain": [
       "\n",
       "\u001b[38;2;5;245;141m✓\u001b[0m Tests finished 🎉! Run \u001b[1;32m'deepeval login'\u001b[0m to save and analyze evaluation results on Confident AI.\n",
       " \n",
       "✨👀 Looking for a place for your LLM test data to live 🏡❤️ ? Use \u001b[38;2;106;0;255mConfident AI\u001b[0m to get & share testing reports, \n",
       "experiment with models/prompts, and catch regressions for your LLM system. Just run \u001b[36m'deepeval login'\u001b[0m in the CLI. \n",
       "\n"
      ]
     },
     "metadata": {},
     "output_type": "display_data"
    },
    {
     "data": {
      "text/html": [
       "<pre style=\"white-space:pre;overflow-x:auto;line-height:normal;font-family:Menlo,'DejaVu Sans Mono',consolas,'Courier New',monospace\">\n",
       "<span style=\"color: #05f58d; text-decoration-color: #05f58d\">✓</span> Tests finished 🎉! Run <span style=\"color: #008000; text-decoration-color: #008000; font-weight: bold\">'deepeval login'</span> to save and analyze evaluation results on Confident AI.\n",
       " \n",
       "✨👀 Looking for a place for your LLM test data to live 🏡❤️ ? Use <span style=\"color: #6a00ff; text-decoration-color: #6a00ff\">Confident AI</span> to get &amp; share testing reports, \n",
       "experiment with models/prompts, and catch regressions for your LLM system. Just run <span style=\"color: #008080; text-decoration-color: #008080\">'deepeval login'</span> in the CLI. \n",
       "\n",
       "</pre>\n"
      ],
      "text/plain": [
       "\n",
       "\u001b[38;2;5;245;141m✓\u001b[0m Tests finished 🎉! Run \u001b[1;32m'deepeval login'\u001b[0m to save and analyze evaluation results on Confident AI.\n",
       " \n",
       "✨👀 Looking for a place for your LLM test data to live 🏡❤️ ? Use \u001b[38;2;106;0;255mConfident AI\u001b[0m to get & share testing reports, \n",
       "experiment with models/prompts, and catch regressions for your LLM system. Just run \u001b[36m'deepeval login'\u001b[0m in the CLI. \n",
       "\n"
      ]
     },
     "metadata": {},
     "output_type": "display_data"
    },
    {
     "data": {
      "text/html": [
       "<pre style=\"white-space:pre;overflow-x:auto;line-height:normal;font-family:Menlo,'DejaVu Sans Mono',consolas,'Courier New',monospace\">\n",
       "<span style=\"color: #05f58d; text-decoration-color: #05f58d\">✓</span> Tests finished 🎉! Run <span style=\"color: #008000; text-decoration-color: #008000; font-weight: bold\">'deepeval login'</span> to save and analyze evaluation results on Confident AI.\n",
       " \n",
       "✨👀 Looking for a place for your LLM test data to live 🏡❤️ ? Use <span style=\"color: #6a00ff; text-decoration-color: #6a00ff\">Confident AI</span> to get &amp; share testing reports, \n",
       "experiment with models/prompts, and catch regressions for your LLM system. Just run <span style=\"color: #008080; text-decoration-color: #008080\">'deepeval login'</span> in the CLI. \n",
       "\n",
       "</pre>\n"
      ],
      "text/plain": [
       "\n",
       "\u001b[38;2;5;245;141m✓\u001b[0m Tests finished 🎉! Run \u001b[1;32m'deepeval login'\u001b[0m to save and analyze evaluation results on Confident AI.\n",
       " \n",
       "✨👀 Looking for a place for your LLM test data to live 🏡❤️ ? Use \u001b[38;2;106;0;255mConfident AI\u001b[0m to get & share testing reports, \n",
       "experiment with models/prompts, and catch regressions for your LLM system. Just run \u001b[36m'deepeval login'\u001b[0m in the CLI. \n",
       "\n"
      ]
     },
     "metadata": {},
     "output_type": "display_data"
    },
    {
     "data": {
      "text/html": [
       "<pre style=\"white-space:pre;overflow-x:auto;line-height:normal;font-family:Menlo,'DejaVu Sans Mono',consolas,'Courier New',monospace\">\n",
       "<span style=\"color: #05f58d; text-decoration-color: #05f58d\">✓</span> Tests finished 🎉! Run <span style=\"color: #008000; text-decoration-color: #008000; font-weight: bold\">'deepeval login'</span> to save and analyze evaluation results on Confident AI.\n",
       " \n",
       "✨👀 Looking for a place for your LLM test data to live 🏡❤️ ? Use <span style=\"color: #6a00ff; text-decoration-color: #6a00ff\">Confident AI</span> to get &amp; share testing reports, \n",
       "experiment with models/prompts, and catch regressions for your LLM system. Just run <span style=\"color: #008080; text-decoration-color: #008080\">'deepeval login'</span> in the CLI. \n",
       "\n",
       "</pre>\n"
      ],
      "text/plain": [
       "\n",
       "\u001b[38;2;5;245;141m✓\u001b[0m Tests finished 🎉! Run \u001b[1;32m'deepeval login'\u001b[0m to save and analyze evaluation results on Confident AI.\n",
       " \n",
       "✨👀 Looking for a place for your LLM test data to live 🏡❤️ ? Use \u001b[38;2;106;0;255mConfident AI\u001b[0m to get & share testing reports, \n",
       "experiment with models/prompts, and catch regressions for your LLM system. Just run \u001b[36m'deepeval login'\u001b[0m in the CLI. \n",
       "\n"
      ]
     },
     "metadata": {},
     "output_type": "display_data"
    },
    {
     "data": {
      "text/html": [
       "<pre style=\"white-space:pre;overflow-x:auto;line-height:normal;font-family:Menlo,'DejaVu Sans Mono',consolas,'Courier New',monospace\">\n",
       "<span style=\"color: #05f58d; text-decoration-color: #05f58d\">✓</span> Tests finished 🎉! Run <span style=\"color: #008000; text-decoration-color: #008000; font-weight: bold\">'deepeval login'</span> to save and analyze evaluation results on Confident AI.\n",
       " \n",
       "✨👀 Looking for a place for your LLM test data to live 🏡❤️ ? Use <span style=\"color: #6a00ff; text-decoration-color: #6a00ff\">Confident AI</span> to get &amp; share testing reports, \n",
       "experiment with models/prompts, and catch regressions for your LLM system. Just run <span style=\"color: #008080; text-decoration-color: #008080\">'deepeval login'</span> in the CLI. \n",
       "\n",
       "</pre>\n"
      ],
      "text/plain": [
       "\n",
       "\u001b[38;2;5;245;141m✓\u001b[0m Tests finished 🎉! Run \u001b[1;32m'deepeval login'\u001b[0m to save and analyze evaluation results on Confident AI.\n",
       " \n",
       "✨👀 Looking for a place for your LLM test data to live 🏡❤️ ? Use \u001b[38;2;106;0;255mConfident AI\u001b[0m to get & share testing reports, \n",
       "experiment with models/prompts, and catch regressions for your LLM system. Just run \u001b[36m'deepeval login'\u001b[0m in the CLI. \n",
       "\n"
      ]
     },
     "metadata": {},
     "output_type": "display_data"
    },
    {
     "name": "stdout",
     "output_type": "stream",
     "text": [
      "\n",
      "            Query: Ce obligație are angajatorul înainte de încheierea contractului individual de muncă?\n",
      "            Expected: Anterior încheierii sau modificării contractului individual de muncă, angajatorul are obligația de a informa persoana selectată în vederea angajării cu privire la clauzele esențiale pe care intenționează să le înscrie în contract sau să le modifice.\n",
      "            Actual: Întrebarea utilizatorului este: Ce obligație are angajatorul înainte de încheierea contractului individual de muncă? \n",
      "\n",
      "Răspunsul trebuie să fie clar, politicos și ușor de înțeles. Rămâi strict la informațiile din context. \n",
      "            Relevancy Score: [{'metric': 'Answer Relevancy', 'success': False, 'score': 0.0, 'reason': \"The score is 0.00 because the output contains multiple irrelevant statements that do not address the employer's obligations before signing an individual employment contract. Instead, the output focuses on aspects like restating the question, discussing response quality, tone, clarity, and context adherence, which are unrelated to the input query.\"}]\n",
      "            Recall Score: [{'metric': 'Contextual Recall', 'success': True, 'score': 1.0, 'reason': 'The score is 1.00 because the expected output is perfectly aligned with the retrieval context, as the sentence is directly quoted from the 2nd node in the retrieval context. Great job on achieving a perfect match!'}]\n",
      "            Faithfulness Score: [{'metric': 'Faithfulness', 'success': False, 'score': 0.0, 'reason': \"The score is 0.00 because the actual output contradicts the retrieval context by suggesting that the employer's obligation to inform the selected person about the essential clauses of the employment contract is fulfilled before signing, whereas the context clearly states it is fulfilled at the moment of signing.\"}]\n",
      "            Understanding Score: [{'metric': 'Understanding (GEval)', 'success': False, 'score': 0.1823498826074165, 'reason': \"The actual output does not provide a clear answer to the user's question about the employer's obligations, failing to inform the user about what they can or must do.\"}]\n",
      "            Toxicity Score: [{'metric': 'Toxicity (GEval)', 'success': True, 'score': 1.0, 'reason': 'The response is clear, polite, and adheres to the context without any offensive language or inappropriate content.'}]\n",
      "            \n",
      "Finished tests for model: rollama2-7b-instruct\n",
      "\n",
      "==================================================\n",
      "\n",
      "\n",
      "Running tests for query: Care este vârsta legală minimă pentru încheierea unei căsătorii în România?\n",
      "Using model: rollama3-8b-instruct\n"
     ]
    },
    {
     "data": {
      "text/html": [
       "<pre style=\"white-space:pre;overflow-x:auto;line-height:normal;font-family:Menlo,'DejaVu Sans Mono',consolas,'Courier New',monospace\">\n",
       "<span style=\"color: #05f58d; text-decoration-color: #05f58d\">✓</span> Tests finished 🎉! Run <span style=\"color: #008000; text-decoration-color: #008000; font-weight: bold\">'deepeval login'</span> to save and analyze evaluation results on Confident AI.\n",
       " \n",
       "✨👀 Looking for a place for your LLM test data to live 🏡❤️ ? Use <span style=\"color: #6a00ff; text-decoration-color: #6a00ff\">Confident AI</span> to get &amp; share testing reports, \n",
       "experiment with models/prompts, and catch regressions for your LLM system. Just run <span style=\"color: #008080; text-decoration-color: #008080\">'deepeval login'</span> in the CLI. \n",
       "\n",
       "</pre>\n"
      ],
      "text/plain": [
       "\n",
       "\u001b[38;2;5;245;141m✓\u001b[0m Tests finished 🎉! Run \u001b[1;32m'deepeval login'\u001b[0m to save and analyze evaluation results on Confident AI.\n",
       " \n",
       "✨👀 Looking for a place for your LLM test data to live 🏡❤️ ? Use \u001b[38;2;106;0;255mConfident AI\u001b[0m to get & share testing reports, \n",
       "experiment with models/prompts, and catch regressions for your LLM system. Just run \u001b[36m'deepeval login'\u001b[0m in the CLI. \n",
       "\n"
      ]
     },
     "metadata": {},
     "output_type": "display_data"
    },
    {
     "data": {
      "text/html": [
       "<pre style=\"white-space:pre;overflow-x:auto;line-height:normal;font-family:Menlo,'DejaVu Sans Mono',consolas,'Courier New',monospace\">\n",
       "<span style=\"color: #05f58d; text-decoration-color: #05f58d\">✓</span> Tests finished 🎉! Run <span style=\"color: #008000; text-decoration-color: #008000; font-weight: bold\">'deepeval login'</span> to save and analyze evaluation results on Confident AI.\n",
       " \n",
       "✨👀 Looking for a place for your LLM test data to live 🏡❤️ ? Use <span style=\"color: #6a00ff; text-decoration-color: #6a00ff\">Confident AI</span> to get &amp; share testing reports, \n",
       "experiment with models/prompts, and catch regressions for your LLM system. Just run <span style=\"color: #008080; text-decoration-color: #008080\">'deepeval login'</span> in the CLI. \n",
       "\n",
       "</pre>\n"
      ],
      "text/plain": [
       "\n",
       "\u001b[38;2;5;245;141m✓\u001b[0m Tests finished 🎉! Run \u001b[1;32m'deepeval login'\u001b[0m to save and analyze evaluation results on Confident AI.\n",
       " \n",
       "✨👀 Looking for a place for your LLM test data to live 🏡❤️ ? Use \u001b[38;2;106;0;255mConfident AI\u001b[0m to get & share testing reports, \n",
       "experiment with models/prompts, and catch regressions for your LLM system. Just run \u001b[36m'deepeval login'\u001b[0m in the CLI. \n",
       "\n"
      ]
     },
     "metadata": {},
     "output_type": "display_data"
    },
    {
     "data": {
      "text/html": [
       "<pre style=\"white-space:pre;overflow-x:auto;line-height:normal;font-family:Menlo,'DejaVu Sans Mono',consolas,'Courier New',monospace\">\n",
       "<span style=\"color: #05f58d; text-decoration-color: #05f58d\">✓</span> Tests finished 🎉! Run <span style=\"color: #008000; text-decoration-color: #008000; font-weight: bold\">'deepeval login'</span> to save and analyze evaluation results on Confident AI.\n",
       " \n",
       "✨👀 Looking for a place for your LLM test data to live 🏡❤️ ? Use <span style=\"color: #6a00ff; text-decoration-color: #6a00ff\">Confident AI</span> to get &amp; share testing reports, \n",
       "experiment with models/prompts, and catch regressions for your LLM system. Just run <span style=\"color: #008080; text-decoration-color: #008080\">'deepeval login'</span> in the CLI. \n",
       "\n",
       "</pre>\n"
      ],
      "text/plain": [
       "\n",
       "\u001b[38;2;5;245;141m✓\u001b[0m Tests finished 🎉! Run \u001b[1;32m'deepeval login'\u001b[0m to save and analyze evaluation results on Confident AI.\n",
       " \n",
       "✨👀 Looking for a place for your LLM test data to live 🏡❤️ ? Use \u001b[38;2;106;0;255mConfident AI\u001b[0m to get & share testing reports, \n",
       "experiment with models/prompts, and catch regressions for your LLM system. Just run \u001b[36m'deepeval login'\u001b[0m in the CLI. \n",
       "\n"
      ]
     },
     "metadata": {},
     "output_type": "display_data"
    },
    {
     "data": {
      "text/html": [
       "<pre style=\"white-space:pre;overflow-x:auto;line-height:normal;font-family:Menlo,'DejaVu Sans Mono',consolas,'Courier New',monospace\">\n",
       "<span style=\"color: #05f58d; text-decoration-color: #05f58d\">✓</span> Tests finished 🎉! Run <span style=\"color: #008000; text-decoration-color: #008000; font-weight: bold\">'deepeval login'</span> to save and analyze evaluation results on Confident AI.\n",
       " \n",
       "✨👀 Looking for a place for your LLM test data to live 🏡❤️ ? Use <span style=\"color: #6a00ff; text-decoration-color: #6a00ff\">Confident AI</span> to get &amp; share testing reports, \n",
       "experiment with models/prompts, and catch regressions for your LLM system. Just run <span style=\"color: #008080; text-decoration-color: #008080\">'deepeval login'</span> in the CLI. \n",
       "\n",
       "</pre>\n"
      ],
      "text/plain": [
       "\n",
       "\u001b[38;2;5;245;141m✓\u001b[0m Tests finished 🎉! Run \u001b[1;32m'deepeval login'\u001b[0m to save and analyze evaluation results on Confident AI.\n",
       " \n",
       "✨👀 Looking for a place for your LLM test data to live 🏡❤️ ? Use \u001b[38;2;106;0;255mConfident AI\u001b[0m to get & share testing reports, \n",
       "experiment with models/prompts, and catch regressions for your LLM system. Just run \u001b[36m'deepeval login'\u001b[0m in the CLI. \n",
       "\n"
      ]
     },
     "metadata": {},
     "output_type": "display_data"
    },
    {
     "data": {
      "text/html": [
       "<pre style=\"white-space:pre;overflow-x:auto;line-height:normal;font-family:Menlo,'DejaVu Sans Mono',consolas,'Courier New',monospace\">\n",
       "<span style=\"color: #05f58d; text-decoration-color: #05f58d\">✓</span> Tests finished 🎉! Run <span style=\"color: #008000; text-decoration-color: #008000; font-weight: bold\">'deepeval login'</span> to save and analyze evaluation results on Confident AI.\n",
       " \n",
       "✨👀 Looking for a place for your LLM test data to live 🏡❤️ ? Use <span style=\"color: #6a00ff; text-decoration-color: #6a00ff\">Confident AI</span> to get &amp; share testing reports, \n",
       "experiment with models/prompts, and catch regressions for your LLM system. Just run <span style=\"color: #008080; text-decoration-color: #008080\">'deepeval login'</span> in the CLI. \n",
       "\n",
       "</pre>\n"
      ],
      "text/plain": [
       "\n",
       "\u001b[38;2;5;245;141m✓\u001b[0m Tests finished 🎉! Run \u001b[1;32m'deepeval login'\u001b[0m to save and analyze evaluation results on Confident AI.\n",
       " \n",
       "✨👀 Looking for a place for your LLM test data to live 🏡❤️ ? Use \u001b[38;2;106;0;255mConfident AI\u001b[0m to get & share testing reports, \n",
       "experiment with models/prompts, and catch regressions for your LLM system. Just run \u001b[36m'deepeval login'\u001b[0m in the CLI. \n",
       "\n"
      ]
     },
     "metadata": {},
     "output_type": "display_data"
    },
    {
     "name": "stdout",
     "output_type": "stream",
     "text": [
      "\n",
      "            Query: Care este vârsta legală minimă pentru încheierea unei căsătorii în România?\n",
      "            Expected: În România, vârsta legală pentru căsătorie este de 18 ani. Totuși, în cazuri excepționale, minorii care au împlinit vârsta de 16 ani pot fi autorizați să se căsătorească, cu acordul părinților și aprobarea instanței de tutelă.\n",
      "            Actual: În România, vârsta legală minimă pentru încheierea unei căsătorii este de 18 ani. Când un minor cu vârsta de 16 ani dorește să se căsătorească, poate face acest lucru dacă sunt prezentate motive temeinice și obțin consimțământul părinților sau tutorelui lor.\n",
      "            Relevancy Score: [{'metric': 'Answer Relevancy', 'success': True, 'score': 1.0, 'reason': 'The score is 1.00 because the response is perfectly relevant and directly answers the question about the legal minimum age for marriage in Romania, without any irrelevant information.'}]\n",
      "            Recall Score: [{'metric': 'Contextual Recall', 'success': True, 'score': 1.0, 'reason': 'The score is 1.00 because every sentence in the expected output is perfectly aligned with the information provided by the nodes in the retrieval context. This demonstrates a flawless match, ensuring complete accuracy and reliability in the data retrieval process. Great job!'}]\n",
      "            Faithfulness Score: [{'metric': 'Faithfulness', 'success': False, 'score': 0.5, 'reason': 'The score is 0.50 because the actual output contradicts the retrieval context by implying that the minimum legal age for marriage in Romania is lower than 18, despite the context clearly stating that it is 18 years old.'}]\n",
      "            Understanding Score: [{'metric': 'Understanding (GEval)', 'success': True, 'score': 0.7776634489319286, 'reason': \"The response clearly states the minimum legal age for marriage in Romania and explains the conditions under which a minor can marry, making it accessible. However, it lacks mention of the court's approval, which is part of the expected output.\"}]\n",
      "            Toxicity Score: [{'metric': 'Toxicity (GEval)', 'success': True, 'score': 1.0, 'reason': 'The response is factual and does not contain any offensive or inappropriate language.'}]\n",
      "            \n",
      "Using model: rollama2-7b-instruct\n"
     ]
    },
    {
     "data": {
      "text/html": [
       "<pre style=\"white-space:pre;overflow-x:auto;line-height:normal;font-family:Menlo,'DejaVu Sans Mono',consolas,'Courier New',monospace\">\n",
       "<span style=\"color: #05f58d; text-decoration-color: #05f58d\">✓</span> Tests finished 🎉! Run <span style=\"color: #008000; text-decoration-color: #008000; font-weight: bold\">'deepeval login'</span> to save and analyze evaluation results on Confident AI.\n",
       " \n",
       "✨👀 Looking for a place for your LLM test data to live 🏡❤️ ? Use <span style=\"color: #6a00ff; text-decoration-color: #6a00ff\">Confident AI</span> to get &amp; share testing reports, \n",
       "experiment with models/prompts, and catch regressions for your LLM system. Just run <span style=\"color: #008080; text-decoration-color: #008080\">'deepeval login'</span> in the CLI. \n",
       "\n",
       "</pre>\n"
      ],
      "text/plain": [
       "\n",
       "\u001b[38;2;5;245;141m✓\u001b[0m Tests finished 🎉! Run \u001b[1;32m'deepeval login'\u001b[0m to save and analyze evaluation results on Confident AI.\n",
       " \n",
       "✨👀 Looking for a place for your LLM test data to live 🏡❤️ ? Use \u001b[38;2;106;0;255mConfident AI\u001b[0m to get & share testing reports, \n",
       "experiment with models/prompts, and catch regressions for your LLM system. Just run \u001b[36m'deepeval login'\u001b[0m in the CLI. \n",
       "\n"
      ]
     },
     "metadata": {},
     "output_type": "display_data"
    },
    {
     "data": {
      "text/html": [
       "<pre style=\"white-space:pre;overflow-x:auto;line-height:normal;font-family:Menlo,'DejaVu Sans Mono',consolas,'Courier New',monospace\">\n",
       "<span style=\"color: #05f58d; text-decoration-color: #05f58d\">✓</span> Tests finished 🎉! Run <span style=\"color: #008000; text-decoration-color: #008000; font-weight: bold\">'deepeval login'</span> to save and analyze evaluation results on Confident AI.\n",
       " \n",
       "✨👀 Looking for a place for your LLM test data to live 🏡❤️ ? Use <span style=\"color: #6a00ff; text-decoration-color: #6a00ff\">Confident AI</span> to get &amp; share testing reports, \n",
       "experiment with models/prompts, and catch regressions for your LLM system. Just run <span style=\"color: #008080; text-decoration-color: #008080\">'deepeval login'</span> in the CLI. \n",
       "\n",
       "</pre>\n"
      ],
      "text/plain": [
       "\n",
       "\u001b[38;2;5;245;141m✓\u001b[0m Tests finished 🎉! Run \u001b[1;32m'deepeval login'\u001b[0m to save and analyze evaluation results on Confident AI.\n",
       " \n",
       "✨👀 Looking for a place for your LLM test data to live 🏡❤️ ? Use \u001b[38;2;106;0;255mConfident AI\u001b[0m to get & share testing reports, \n",
       "experiment with models/prompts, and catch regressions for your LLM system. Just run \u001b[36m'deepeval login'\u001b[0m in the CLI. \n",
       "\n"
      ]
     },
     "metadata": {},
     "output_type": "display_data"
    },
    {
     "data": {
      "text/html": [
       "<pre style=\"white-space:pre;overflow-x:auto;line-height:normal;font-family:Menlo,'DejaVu Sans Mono',consolas,'Courier New',monospace\">\n",
       "<span style=\"color: #05f58d; text-decoration-color: #05f58d\">✓</span> Tests finished 🎉! Run <span style=\"color: #008000; text-decoration-color: #008000; font-weight: bold\">'deepeval login'</span> to save and analyze evaluation results on Confident AI.\n",
       " \n",
       "✨👀 Looking for a place for your LLM test data to live 🏡❤️ ? Use <span style=\"color: #6a00ff; text-decoration-color: #6a00ff\">Confident AI</span> to get &amp; share testing reports, \n",
       "experiment with models/prompts, and catch regressions for your LLM system. Just run <span style=\"color: #008080; text-decoration-color: #008080\">'deepeval login'</span> in the CLI. \n",
       "\n",
       "</pre>\n"
      ],
      "text/plain": [
       "\n",
       "\u001b[38;2;5;245;141m✓\u001b[0m Tests finished 🎉! Run \u001b[1;32m'deepeval login'\u001b[0m to save and analyze evaluation results on Confident AI.\n",
       " \n",
       "✨👀 Looking for a place for your LLM test data to live 🏡❤️ ? Use \u001b[38;2;106;0;255mConfident AI\u001b[0m to get & share testing reports, \n",
       "experiment with models/prompts, and catch regressions for your LLM system. Just run \u001b[36m'deepeval login'\u001b[0m in the CLI. \n",
       "\n"
      ]
     },
     "metadata": {},
     "output_type": "display_data"
    },
    {
     "data": {
      "text/html": [
       "<pre style=\"white-space:pre;overflow-x:auto;line-height:normal;font-family:Menlo,'DejaVu Sans Mono',consolas,'Courier New',monospace\">\n",
       "<span style=\"color: #05f58d; text-decoration-color: #05f58d\">✓</span> Tests finished 🎉! Run <span style=\"color: #008000; text-decoration-color: #008000; font-weight: bold\">'deepeval login'</span> to save and analyze evaluation results on Confident AI.\n",
       " \n",
       "✨👀 Looking for a place for your LLM test data to live 🏡❤️ ? Use <span style=\"color: #6a00ff; text-decoration-color: #6a00ff\">Confident AI</span> to get &amp; share testing reports, \n",
       "experiment with models/prompts, and catch regressions for your LLM system. Just run <span style=\"color: #008080; text-decoration-color: #008080\">'deepeval login'</span> in the CLI. \n",
       "\n",
       "</pre>\n"
      ],
      "text/plain": [
       "\n",
       "\u001b[38;2;5;245;141m✓\u001b[0m Tests finished 🎉! Run \u001b[1;32m'deepeval login'\u001b[0m to save and analyze evaluation results on Confident AI.\n",
       " \n",
       "✨👀 Looking for a place for your LLM test data to live 🏡❤️ ? Use \u001b[38;2;106;0;255mConfident AI\u001b[0m to get & share testing reports, \n",
       "experiment with models/prompts, and catch regressions for your LLM system. Just run \u001b[36m'deepeval login'\u001b[0m in the CLI. \n",
       "\n"
      ]
     },
     "metadata": {},
     "output_type": "display_data"
    },
    {
     "data": {
      "text/html": [
       "<pre style=\"white-space:pre;overflow-x:auto;line-height:normal;font-family:Menlo,'DejaVu Sans Mono',consolas,'Courier New',monospace\">\n",
       "<span style=\"color: #05f58d; text-decoration-color: #05f58d\">✓</span> Tests finished 🎉! Run <span style=\"color: #008000; text-decoration-color: #008000; font-weight: bold\">'deepeval login'</span> to save and analyze evaluation results on Confident AI.\n",
       " \n",
       "✨👀 Looking for a place for your LLM test data to live 🏡❤️ ? Use <span style=\"color: #6a00ff; text-decoration-color: #6a00ff\">Confident AI</span> to get &amp; share testing reports, \n",
       "experiment with models/prompts, and catch regressions for your LLM system. Just run <span style=\"color: #008080; text-decoration-color: #008080\">'deepeval login'</span> in the CLI. \n",
       "\n",
       "</pre>\n"
      ],
      "text/plain": [
       "\n",
       "\u001b[38;2;5;245;141m✓\u001b[0m Tests finished 🎉! Run \u001b[1;32m'deepeval login'\u001b[0m to save and analyze evaluation results on Confident AI.\n",
       " \n",
       "✨👀 Looking for a place for your LLM test data to live 🏡❤️ ? Use \u001b[38;2;106;0;255mConfident AI\u001b[0m to get & share testing reports, \n",
       "experiment with models/prompts, and catch regressions for your LLM system. Just run \u001b[36m'deepeval login'\u001b[0m in the CLI. \n",
       "\n"
      ]
     },
     "metadata": {},
     "output_type": "display_data"
    },
    {
     "name": "stdout",
     "output_type": "stream",
     "text": [
      "\n",
      "            Query: Care este vârsta legală minimă pentru încheierea unei căsătorii în România?\n",
      "            Expected: În România, vârsta legală pentru căsătorie este de 18 ani. Totuși, în cazuri excepționale, minorii care au împlinit vârsta de 16 ani pot fi autorizați să se căsătorească, cu acordul părinților și aprobarea instanței de tutelă.\n",
      "            Actual: Vârsta legală minimă pentru încheierea căsătoriei în România este de 18 ani, cu excepția minorilor care au împlinit vârsta de 16 ani și se poate încheia dacă ambii soți au împlinit această vârstă sau unul din ei a născut sau s-a gândit să rămână gravidă. Pentru motive temeinice, minorul care are 16 ani se poate căsători în temeiul unui aviz medical, cu încuviințarea părinților săi sau, după caz, a tutorelui, și cu autorizarea instanței de tutelă din circumscripția minorului. Dacă unul dintre părinți refuză să încuviințeze căsătoria, instanța de tutelă hotărăște asupra acestei divergențe având în vedere interesul superior al copilului. \n",
      "            Relevancy Score: [{'metric': 'Answer Relevancy', 'success': True, 'score': 0.8888888888888888, 'reason': 'The score is 0.89 because the response accurately addresses the legal minimum age for marriage in Romania, but includes a minor incorrect detail about the age requirements, which slightly affects the overall relevancy.'}]\n",
      "            Recall Score: [{'metric': 'Contextual Recall', 'success': True, 'score': 1.0, 'reason': 'The score is 1.00 because every sentence in the expected output is perfectly aligned with the information from the nodes in the retrieval context, ensuring complete accuracy and relevance. Great job!'}]\n",
      "            Faithfulness Score: [{'metric': 'Faithfulness', 'success': False, 'score': 0.5, 'reason': 'The score is 0.50 because the actual output incorrectly states that the minimum legal age for marriage in Romania is 18 years, while the retrieval context allows for marriage at 16 under specific conditions. Additionally, it misrepresents the requirement that both spouses must be at least 16, contradicting the context that permits marriage if one partner is pregnant or has given birth.'}]\n",
      "            Understanding Score: [{'metric': 'Understanding (GEval)', 'success': True, 'score': 0.6386645398980497, 'reason': 'While the actual output provides the legal age and exceptions, it is overly complex and may confuse someone without legal knowledge, making it less accessible than the expected output.'}]\n",
      "            Toxicity Score: [{'metric': 'Toxicity (GEval)', 'success': True, 'score': 1.0, 'reason': 'The response provides factual information about the legal age for marriage in Romania without any offensive or inappropriate language.'}]\n",
      "            \n",
      "Finished tests for model: rollama2-7b-instruct\n",
      "\n",
      "==================================================\n",
      "\n",
      "\n",
      "Running tests for query: În ce condiții poate fi încheiat un contract de vânzare-cumpărare și care sunt excepțiile de la forma scrisă?\n",
      "Using model: rollama3-8b-instruct\n"
     ]
    },
    {
     "data": {
      "text/html": [
       "<pre style=\"white-space:pre;overflow-x:auto;line-height:normal;font-family:Menlo,'DejaVu Sans Mono',consolas,'Courier New',monospace\">\n",
       "<span style=\"color: #05f58d; text-decoration-color: #05f58d\">✓</span> Tests finished 🎉! Run <span style=\"color: #008000; text-decoration-color: #008000; font-weight: bold\">'deepeval login'</span> to save and analyze evaluation results on Confident AI.\n",
       " \n",
       "✨👀 Looking for a place for your LLM test data to live 🏡❤️ ? Use <span style=\"color: #6a00ff; text-decoration-color: #6a00ff\">Confident AI</span> to get &amp; share testing reports, \n",
       "experiment with models/prompts, and catch regressions for your LLM system. Just run <span style=\"color: #008080; text-decoration-color: #008080\">'deepeval login'</span> in the CLI. \n",
       "\n",
       "</pre>\n"
      ],
      "text/plain": [
       "\n",
       "\u001b[38;2;5;245;141m✓\u001b[0m Tests finished 🎉! Run \u001b[1;32m'deepeval login'\u001b[0m to save and analyze evaluation results on Confident AI.\n",
       " \n",
       "✨👀 Looking for a place for your LLM test data to live 🏡❤️ ? Use \u001b[38;2;106;0;255mConfident AI\u001b[0m to get & share testing reports, \n",
       "experiment with models/prompts, and catch regressions for your LLM system. Just run \u001b[36m'deepeval login'\u001b[0m in the CLI. \n",
       "\n"
      ]
     },
     "metadata": {},
     "output_type": "display_data"
    },
    {
     "data": {
      "text/html": [
       "<pre style=\"white-space:pre;overflow-x:auto;line-height:normal;font-family:Menlo,'DejaVu Sans Mono',consolas,'Courier New',monospace\">\n",
       "<span style=\"color: #05f58d; text-decoration-color: #05f58d\">✓</span> Tests finished 🎉! Run <span style=\"color: #008000; text-decoration-color: #008000; font-weight: bold\">'deepeval login'</span> to save and analyze evaluation results on Confident AI.\n",
       " \n",
       "✨👀 Looking for a place for your LLM test data to live 🏡❤️ ? Use <span style=\"color: #6a00ff; text-decoration-color: #6a00ff\">Confident AI</span> to get &amp; share testing reports, \n",
       "experiment with models/prompts, and catch regressions for your LLM system. Just run <span style=\"color: #008080; text-decoration-color: #008080\">'deepeval login'</span> in the CLI. \n",
       "\n",
       "</pre>\n"
      ],
      "text/plain": [
       "\n",
       "\u001b[38;2;5;245;141m✓\u001b[0m Tests finished 🎉! Run \u001b[1;32m'deepeval login'\u001b[0m to save and analyze evaluation results on Confident AI.\n",
       " \n",
       "✨👀 Looking for a place for your LLM test data to live 🏡❤️ ? Use \u001b[38;2;106;0;255mConfident AI\u001b[0m to get & share testing reports, \n",
       "experiment with models/prompts, and catch regressions for your LLM system. Just run \u001b[36m'deepeval login'\u001b[0m in the CLI. \n",
       "\n"
      ]
     },
     "metadata": {},
     "output_type": "display_data"
    },
    {
     "data": {
      "text/html": [
       "<pre style=\"white-space:pre;overflow-x:auto;line-height:normal;font-family:Menlo,'DejaVu Sans Mono',consolas,'Courier New',monospace\">\n",
       "<span style=\"color: #05f58d; text-decoration-color: #05f58d\">✓</span> Tests finished 🎉! Run <span style=\"color: #008000; text-decoration-color: #008000; font-weight: bold\">'deepeval login'</span> to save and analyze evaluation results on Confident AI.\n",
       " \n",
       "✨👀 Looking for a place for your LLM test data to live 🏡❤️ ? Use <span style=\"color: #6a00ff; text-decoration-color: #6a00ff\">Confident AI</span> to get &amp; share testing reports, \n",
       "experiment with models/prompts, and catch regressions for your LLM system. Just run <span style=\"color: #008080; text-decoration-color: #008080\">'deepeval login'</span> in the CLI. \n",
       "\n",
       "</pre>\n"
      ],
      "text/plain": [
       "\n",
       "\u001b[38;2;5;245;141m✓\u001b[0m Tests finished 🎉! Run \u001b[1;32m'deepeval login'\u001b[0m to save and analyze evaluation results on Confident AI.\n",
       " \n",
       "✨👀 Looking for a place for your LLM test data to live 🏡❤️ ? Use \u001b[38;2;106;0;255mConfident AI\u001b[0m to get & share testing reports, \n",
       "experiment with models/prompts, and catch regressions for your LLM system. Just run \u001b[36m'deepeval login'\u001b[0m in the CLI. \n",
       "\n"
      ]
     },
     "metadata": {},
     "output_type": "display_data"
    },
    {
     "data": {
      "text/html": [
       "<pre style=\"white-space:pre;overflow-x:auto;line-height:normal;font-family:Menlo,'DejaVu Sans Mono',consolas,'Courier New',monospace\">\n",
       "<span style=\"color: #05f58d; text-decoration-color: #05f58d\">✓</span> Tests finished 🎉! Run <span style=\"color: #008000; text-decoration-color: #008000; font-weight: bold\">'deepeval login'</span> to save and analyze evaluation results on Confident AI.\n",
       " \n",
       "✨👀 Looking for a place for your LLM test data to live 🏡❤️ ? Use <span style=\"color: #6a00ff; text-decoration-color: #6a00ff\">Confident AI</span> to get &amp; share testing reports, \n",
       "experiment with models/prompts, and catch regressions for your LLM system. Just run <span style=\"color: #008080; text-decoration-color: #008080\">'deepeval login'</span> in the CLI. \n",
       "\n",
       "</pre>\n"
      ],
      "text/plain": [
       "\n",
       "\u001b[38;2;5;245;141m✓\u001b[0m Tests finished 🎉! Run \u001b[1;32m'deepeval login'\u001b[0m to save and analyze evaluation results on Confident AI.\n",
       " \n",
       "✨👀 Looking for a place for your LLM test data to live 🏡❤️ ? Use \u001b[38;2;106;0;255mConfident AI\u001b[0m to get & share testing reports, \n",
       "experiment with models/prompts, and catch regressions for your LLM system. Just run \u001b[36m'deepeval login'\u001b[0m in the CLI. \n",
       "\n"
      ]
     },
     "metadata": {},
     "output_type": "display_data"
    },
    {
     "data": {
      "text/html": [
       "<pre style=\"white-space:pre;overflow-x:auto;line-height:normal;font-family:Menlo,'DejaVu Sans Mono',consolas,'Courier New',monospace\">\n",
       "<span style=\"color: #05f58d; text-decoration-color: #05f58d\">✓</span> Tests finished 🎉! Run <span style=\"color: #008000; text-decoration-color: #008000; font-weight: bold\">'deepeval login'</span> to save and analyze evaluation results on Confident AI.\n",
       " \n",
       "✨👀 Looking for a place for your LLM test data to live 🏡❤️ ? Use <span style=\"color: #6a00ff; text-decoration-color: #6a00ff\">Confident AI</span> to get &amp; share testing reports, \n",
       "experiment with models/prompts, and catch regressions for your LLM system. Just run <span style=\"color: #008080; text-decoration-color: #008080\">'deepeval login'</span> in the CLI. \n",
       "\n",
       "</pre>\n"
      ],
      "text/plain": [
       "\n",
       "\u001b[38;2;5;245;141m✓\u001b[0m Tests finished 🎉! Run \u001b[1;32m'deepeval login'\u001b[0m to save and analyze evaluation results on Confident AI.\n",
       " \n",
       "✨👀 Looking for a place for your LLM test data to live 🏡❤️ ? Use \u001b[38;2;106;0;255mConfident AI\u001b[0m to get & share testing reports, \n",
       "experiment with models/prompts, and catch regressions for your LLM system. Just run \u001b[36m'deepeval login'\u001b[0m in the CLI. \n",
       "\n"
      ]
     },
     "metadata": {},
     "output_type": "display_data"
    },
    {
     "name": "stdout",
     "output_type": "stream",
     "text": [
      "\n",
      "            Query: În ce condiții poate fi încheiat un contract de vânzare-cumpărare și care sunt excepțiile de la forma scrisă?\n",
      "            Expected: Contractul de vânzare-cumpărare se încheie prin acordul părților asupra lucrului și prețului. Contractul trebuie să fie în formă scrisă pentru bunurile imobile, pentru bunurile mobile cu valoarea peste o anumită sumă stabilită prin lege și pentru bunurile viitoare. Forma scrisă nu este obligatorie pentru bunurile mobile de valoare mică, pentru vânzările în cadrul activităților comerciale curente cu plată pe loc, sau când legea prevede expres alte forme de încheierie.\n",
      "            Actual: În conformitate cu textele disponibile, un contract de vânzare-cumpărare poate fi încheiat atât în formă scrisă, cât și verbal, iar forma scrisă este necesară doar ca dovadă a acordului.\n",
      "            Relevancy Score: [{'metric': 'Answer Relevancy', 'success': True, 'score': 1.0, 'reason': 'The score is 1.00 because the response perfectly addresses the input question without any irrelevant statements, providing clear and concise information about the conditions for concluding a sales contract and exceptions to the written form. Great job!'}]\n",
      "            Recall Score: [{'metric': 'Contextual Recall', 'success': False, 'score': 0.3333333333333333, 'reason': 'The score is 0.33 because only the requirement for a written form for certain goods (sentence 2) aligns with the 1st node in the retrieval context. However, the agreement on the object and price (sentence 1) and exceptions for small value goods and commercial activities (sentence 4) are not supported by any nodes in the retrieval context.'}]\n",
      "            Faithfulness Score: [{'metric': 'Faithfulness', 'success': False, 'score': 0.0, 'reason': 'The score is 0.00 because the actual output incorrectly asserts that a contract must be in written form, contradicting the retrieval context which allows for verbal agreements in sale-purchase contracts. Additionally, it misrepresents the necessity of written proof, suggesting it is required for the contract itself rather than just for evidence of the agreement.'}]\n",
      "            Understanding Score: [{'metric': 'Understanding (GEval)', 'success': False, 'score': 0.3926991056674413, 'reason': 'The actual output provides some information about the contract but lacks clarity and detail on specific conditions and exceptions, making it less accessible for someone without legal knowledge.'}]\n",
      "            Toxicity Score: [{'metric': 'Toxicity (GEval)', 'success': True, 'score': 1.0, 'reason': 'The response is neutral and informative, containing no offensive or inappropriate language.'}]\n",
      "            \n",
      "Using model: rollama2-7b-instruct\n"
     ]
    },
    {
     "data": {
      "text/html": [
       "<pre style=\"white-space:pre;overflow-x:auto;line-height:normal;font-family:Menlo,'DejaVu Sans Mono',consolas,'Courier New',monospace\">\n",
       "<span style=\"color: #05f58d; text-decoration-color: #05f58d\">✓</span> Tests finished 🎉! Run <span style=\"color: #008000; text-decoration-color: #008000; font-weight: bold\">'deepeval login'</span> to save and analyze evaluation results on Confident AI.\n",
       " \n",
       "✨👀 Looking for a place for your LLM test data to live 🏡❤️ ? Use <span style=\"color: #6a00ff; text-decoration-color: #6a00ff\">Confident AI</span> to get &amp; share testing reports, \n",
       "experiment with models/prompts, and catch regressions for your LLM system. Just run <span style=\"color: #008080; text-decoration-color: #008080\">'deepeval login'</span> in the CLI. \n",
       "\n",
       "</pre>\n"
      ],
      "text/plain": [
       "\n",
       "\u001b[38;2;5;245;141m✓\u001b[0m Tests finished 🎉! Run \u001b[1;32m'deepeval login'\u001b[0m to save and analyze evaluation results on Confident AI.\n",
       " \n",
       "✨👀 Looking for a place for your LLM test data to live 🏡❤️ ? Use \u001b[38;2;106;0;255mConfident AI\u001b[0m to get & share testing reports, \n",
       "experiment with models/prompts, and catch regressions for your LLM system. Just run \u001b[36m'deepeval login'\u001b[0m in the CLI. \n",
       "\n"
      ]
     },
     "metadata": {},
     "output_type": "display_data"
    },
    {
     "data": {
      "text/html": [
       "<pre style=\"white-space:pre;overflow-x:auto;line-height:normal;font-family:Menlo,'DejaVu Sans Mono',consolas,'Courier New',monospace\">\n",
       "<span style=\"color: #05f58d; text-decoration-color: #05f58d\">✓</span> Tests finished 🎉! Run <span style=\"color: #008000; text-decoration-color: #008000; font-weight: bold\">'deepeval login'</span> to save and analyze evaluation results on Confident AI.\n",
       " \n",
       "✨👀 Looking for a place for your LLM test data to live 🏡❤️ ? Use <span style=\"color: #6a00ff; text-decoration-color: #6a00ff\">Confident AI</span> to get &amp; share testing reports, \n",
       "experiment with models/prompts, and catch regressions for your LLM system. Just run <span style=\"color: #008080; text-decoration-color: #008080\">'deepeval login'</span> in the CLI. \n",
       "\n",
       "</pre>\n"
      ],
      "text/plain": [
       "\n",
       "\u001b[38;2;5;245;141m✓\u001b[0m Tests finished 🎉! Run \u001b[1;32m'deepeval login'\u001b[0m to save and analyze evaluation results on Confident AI.\n",
       " \n",
       "✨👀 Looking for a place for your LLM test data to live 🏡❤️ ? Use \u001b[38;2;106;0;255mConfident AI\u001b[0m to get & share testing reports, \n",
       "experiment with models/prompts, and catch regressions for your LLM system. Just run \u001b[36m'deepeval login'\u001b[0m in the CLI. \n",
       "\n"
      ]
     },
     "metadata": {},
     "output_type": "display_data"
    },
    {
     "data": {
      "text/html": [
       "<pre style=\"white-space:pre;overflow-x:auto;line-height:normal;font-family:Menlo,'DejaVu Sans Mono',consolas,'Courier New',monospace\">\n",
       "<span style=\"color: #05f58d; text-decoration-color: #05f58d\">✓</span> Tests finished 🎉! Run <span style=\"color: #008000; text-decoration-color: #008000; font-weight: bold\">'deepeval login'</span> to save and analyze evaluation results on Confident AI.\n",
       " \n",
       "✨👀 Looking for a place for your LLM test data to live 🏡❤️ ? Use <span style=\"color: #6a00ff; text-decoration-color: #6a00ff\">Confident AI</span> to get &amp; share testing reports, \n",
       "experiment with models/prompts, and catch regressions for your LLM system. Just run <span style=\"color: #008080; text-decoration-color: #008080\">'deepeval login'</span> in the CLI. \n",
       "\n",
       "</pre>\n"
      ],
      "text/plain": [
       "\n",
       "\u001b[38;2;5;245;141m✓\u001b[0m Tests finished 🎉! Run \u001b[1;32m'deepeval login'\u001b[0m to save and analyze evaluation results on Confident AI.\n",
       " \n",
       "✨👀 Looking for a place for your LLM test data to live 🏡❤️ ? Use \u001b[38;2;106;0;255mConfident AI\u001b[0m to get & share testing reports, \n",
       "experiment with models/prompts, and catch regressions for your LLM system. Just run \u001b[36m'deepeval login'\u001b[0m in the CLI. \n",
       "\n"
      ]
     },
     "metadata": {},
     "output_type": "display_data"
    },
    {
     "data": {
      "text/html": [
       "<pre style=\"white-space:pre;overflow-x:auto;line-height:normal;font-family:Menlo,'DejaVu Sans Mono',consolas,'Courier New',monospace\">\n",
       "<span style=\"color: #05f58d; text-decoration-color: #05f58d\">✓</span> Tests finished 🎉! Run <span style=\"color: #008000; text-decoration-color: #008000; font-weight: bold\">'deepeval login'</span> to save and analyze evaluation results on Confident AI.\n",
       " \n",
       "✨👀 Looking for a place for your LLM test data to live 🏡❤️ ? Use <span style=\"color: #6a00ff; text-decoration-color: #6a00ff\">Confident AI</span> to get &amp; share testing reports, \n",
       "experiment with models/prompts, and catch regressions for your LLM system. Just run <span style=\"color: #008080; text-decoration-color: #008080\">'deepeval login'</span> in the CLI. \n",
       "\n",
       "</pre>\n"
      ],
      "text/plain": [
       "\n",
       "\u001b[38;2;5;245;141m✓\u001b[0m Tests finished 🎉! Run \u001b[1;32m'deepeval login'\u001b[0m to save and analyze evaluation results on Confident AI.\n",
       " \n",
       "✨👀 Looking for a place for your LLM test data to live 🏡❤️ ? Use \u001b[38;2;106;0;255mConfident AI\u001b[0m to get & share testing reports, \n",
       "experiment with models/prompts, and catch regressions for your LLM system. Just run \u001b[36m'deepeval login'\u001b[0m in the CLI. \n",
       "\n"
      ]
     },
     "metadata": {},
     "output_type": "display_data"
    },
    {
     "data": {
      "text/html": [
       "<pre style=\"white-space:pre;overflow-x:auto;line-height:normal;font-family:Menlo,'DejaVu Sans Mono',consolas,'Courier New',monospace\">\n",
       "<span style=\"color: #05f58d; text-decoration-color: #05f58d\">✓</span> Tests finished 🎉! Run <span style=\"color: #008000; text-decoration-color: #008000; font-weight: bold\">'deepeval login'</span> to save and analyze evaluation results on Confident AI.\n",
       " \n",
       "✨👀 Looking for a place for your LLM test data to live 🏡❤️ ? Use <span style=\"color: #6a00ff; text-decoration-color: #6a00ff\">Confident AI</span> to get &amp; share testing reports, \n",
       "experiment with models/prompts, and catch regressions for your LLM system. Just run <span style=\"color: #008080; text-decoration-color: #008080\">'deepeval login'</span> in the CLI. \n",
       "\n",
       "</pre>\n"
      ],
      "text/plain": [
       "\n",
       "\u001b[38;2;5;245;141m✓\u001b[0m Tests finished 🎉! Run \u001b[1;32m'deepeval login'\u001b[0m to save and analyze evaluation results on Confident AI.\n",
       " \n",
       "✨👀 Looking for a place for your LLM test data to live 🏡❤️ ? Use \u001b[38;2;106;0;255mConfident AI\u001b[0m to get & share testing reports, \n",
       "experiment with models/prompts, and catch regressions for your LLM system. Just run \u001b[36m'deepeval login'\u001b[0m in the CLI. \n",
       "\n"
      ]
     },
     "metadata": {},
     "output_type": "display_data"
    },
    {
     "name": "stdout",
     "output_type": "stream",
     "text": [
      "\n",
      "            Query: În ce condiții poate fi încheiat un contract de vânzare-cumpărare și care sunt excepțiile de la forma scrisă?\n",
      "            Expected: Contractul de vânzare-cumpărare se încheie prin acordul părților asupra lucrului și prețului. Contractul trebuie să fie în formă scrisă pentru bunurile imobile, pentru bunurile mobile cu valoarea peste o anumită sumă stabilită prin lege și pentru bunurile viitoare. Forma scrisă nu este obligatorie pentru bunurile mobile de valoare mică, pentru vânzările în cadrul activităților comerciale curente cu plată pe loc, sau când legea prevede expres alte forme de încheierie.\n",
      "            Actual: În ce condiții poate fi încheiat un contract de vânzare-cumpărare și care sunt excepțiile de la forma scrisă?\n",
      "\n",
      "Răspuns: Un contract de vânzare-cumpărare poate fi încheiat atât verbal, cât și în formă scrisă. Cu toate acestea, există unele condiții speciale pentru care se aplică forma scrisă. Contractul trebuie să fie redactat de către un notar public sau să conțină elementele esențiale ale contractului și datele cu privire la părți. Forma scrisă este necesară în cazul în care prețul vânzării nu poate fi determinat (de exemplu, obiecte neidentificate), iar contractul prevede că părțile sunt de acord ca orice litigiu să fie soluționat prin arbitraj. Exemplele de astfel de excepții includ contractele privind bunurile mobiliare, datoriile născute din raporturile juridice și contractul de consignație (când un comerciant își încredințează mărfurile unui comisionar pentru a le vinde).\n",
      "            Relevancy Score: [{'metric': 'Answer Relevancy', 'success': True, 'score': 1.0, 'reason': 'The score is 1.00 because the response perfectly addresses the input question without any irrelevant statements, providing clear and concise information about the conditions and exceptions for a sales contract.'}]\n",
      "            Recall Score: [{'metric': 'Contextual Recall', 'success': False, 'score': 0.3333333333333333, 'reason': 'The score is 0.33 because only the requirement for a written form for certain goods (sentence 2) aligns with the 1st node in the retrieval context. However, the agreement on object and price (sentence 1) and exceptions for small value goods (sentence 4) are not supported by any nodes in the retrieval context.'}]\n",
      "            Faithfulness Score: [{'metric': 'Faithfulness', 'success': False, 'score': 0.6666666666666666, 'reason': 'The score is 0.67 because the actual output incorrectly implies that a sale-purchase contract can be concluded verbally, which is not supported by the retrieval context. Additionally, it fails to address the exceptions to the written form for certain contracts, which are also not mentioned in the retrieval context.'}]\n",
      "            Understanding Score: [{'metric': 'Understanding (GEval)', 'success': False, 'score': 0.4917897303602988, 'reason': 'The response provides some clarity on the conditions for a sales contract but lacks a clear distinction of what the user is allowed or required to do, making it less accessible for someone without legal knowledge.'}]\n",
      "            Toxicity Score: [{'metric': 'Toxicity (GEval)', 'success': True, 'score': 1.0, 'reason': 'The response is informative and does not contain any offensive or inappropriate language.'}]\n",
      "            \n",
      "Finished tests for model: rollama2-7b-instruct\n",
      "\n",
      "==================================================\n",
      "\n",
      "\n",
      "Running tests for query: Care sunt drepturile și obligațiile părților în cazul unei concedieri individuale pentru motive care nu țin de persoana salariatului?\n",
      "Using model: rollama3-8b-instruct\n"
     ]
    },
    {
     "data": {
      "text/html": [
       "<pre style=\"white-space:pre;overflow-x:auto;line-height:normal;font-family:Menlo,'DejaVu Sans Mono',consolas,'Courier New',monospace\">\n",
       "<span style=\"color: #05f58d; text-decoration-color: #05f58d\">✓</span> Tests finished 🎉! Run <span style=\"color: #008000; text-decoration-color: #008000; font-weight: bold\">'deepeval login'</span> to save and analyze evaluation results on Confident AI.\n",
       " \n",
       "✨👀 Looking for a place for your LLM test data to live 🏡❤️ ? Use <span style=\"color: #6a00ff; text-decoration-color: #6a00ff\">Confident AI</span> to get &amp; share testing reports, \n",
       "experiment with models/prompts, and catch regressions for your LLM system. Just run <span style=\"color: #008080; text-decoration-color: #008080\">'deepeval login'</span> in the CLI. \n",
       "\n",
       "</pre>\n"
      ],
      "text/plain": [
       "\n",
       "\u001b[38;2;5;245;141m✓\u001b[0m Tests finished 🎉! Run \u001b[1;32m'deepeval login'\u001b[0m to save and analyze evaluation results on Confident AI.\n",
       " \n",
       "✨👀 Looking for a place for your LLM test data to live 🏡❤️ ? Use \u001b[38;2;106;0;255mConfident AI\u001b[0m to get & share testing reports, \n",
       "experiment with models/prompts, and catch regressions for your LLM system. Just run \u001b[36m'deepeval login'\u001b[0m in the CLI. \n",
       "\n"
      ]
     },
     "metadata": {},
     "output_type": "display_data"
    },
    {
     "data": {
      "text/html": [
       "<pre style=\"white-space:pre;overflow-x:auto;line-height:normal;font-family:Menlo,'DejaVu Sans Mono',consolas,'Courier New',monospace\">\n",
       "<span style=\"color: #05f58d; text-decoration-color: #05f58d\">✓</span> Tests finished 🎉! Run <span style=\"color: #008000; text-decoration-color: #008000; font-weight: bold\">'deepeval login'</span> to save and analyze evaluation results on Confident AI.\n",
       " \n",
       "✨👀 Looking for a place for your LLM test data to live 🏡❤️ ? Use <span style=\"color: #6a00ff; text-decoration-color: #6a00ff\">Confident AI</span> to get &amp; share testing reports, \n",
       "experiment with models/prompts, and catch regressions for your LLM system. Just run <span style=\"color: #008080; text-decoration-color: #008080\">'deepeval login'</span> in the CLI. \n",
       "\n",
       "</pre>\n"
      ],
      "text/plain": [
       "\n",
       "\u001b[38;2;5;245;141m✓\u001b[0m Tests finished 🎉! Run \u001b[1;32m'deepeval login'\u001b[0m to save and analyze evaluation results on Confident AI.\n",
       " \n",
       "✨👀 Looking for a place for your LLM test data to live 🏡❤️ ? Use \u001b[38;2;106;0;255mConfident AI\u001b[0m to get & share testing reports, \n",
       "experiment with models/prompts, and catch regressions for your LLM system. Just run \u001b[36m'deepeval login'\u001b[0m in the CLI. \n",
       "\n"
      ]
     },
     "metadata": {},
     "output_type": "display_data"
    },
    {
     "data": {
      "text/html": [
       "<pre style=\"white-space:pre;overflow-x:auto;line-height:normal;font-family:Menlo,'DejaVu Sans Mono',consolas,'Courier New',monospace\">\n",
       "<span style=\"color: #05f58d; text-decoration-color: #05f58d\">✓</span> Tests finished 🎉! Run <span style=\"color: #008000; text-decoration-color: #008000; font-weight: bold\">'deepeval login'</span> to save and analyze evaluation results on Confident AI.\n",
       " \n",
       "✨👀 Looking for a place for your LLM test data to live 🏡❤️ ? Use <span style=\"color: #6a00ff; text-decoration-color: #6a00ff\">Confident AI</span> to get &amp; share testing reports, \n",
       "experiment with models/prompts, and catch regressions for your LLM system. Just run <span style=\"color: #008080; text-decoration-color: #008080\">'deepeval login'</span> in the CLI. \n",
       "\n",
       "</pre>\n"
      ],
      "text/plain": [
       "\n",
       "\u001b[38;2;5;245;141m✓\u001b[0m Tests finished 🎉! Run \u001b[1;32m'deepeval login'\u001b[0m to save and analyze evaluation results on Confident AI.\n",
       " \n",
       "✨👀 Looking for a place for your LLM test data to live 🏡❤️ ? Use \u001b[38;2;106;0;255mConfident AI\u001b[0m to get & share testing reports, \n",
       "experiment with models/prompts, and catch regressions for your LLM system. Just run \u001b[36m'deepeval login'\u001b[0m in the CLI. \n",
       "\n"
      ]
     },
     "metadata": {},
     "output_type": "display_data"
    },
    {
     "data": {
      "text/html": [
       "<pre style=\"white-space:pre;overflow-x:auto;line-height:normal;font-family:Menlo,'DejaVu Sans Mono',consolas,'Courier New',monospace\">\n",
       "<span style=\"color: #05f58d; text-decoration-color: #05f58d\">✓</span> Tests finished 🎉! Run <span style=\"color: #008000; text-decoration-color: #008000; font-weight: bold\">'deepeval login'</span> to save and analyze evaluation results on Confident AI.\n",
       " \n",
       "✨👀 Looking for a place for your LLM test data to live 🏡❤️ ? Use <span style=\"color: #6a00ff; text-decoration-color: #6a00ff\">Confident AI</span> to get &amp; share testing reports, \n",
       "experiment with models/prompts, and catch regressions for your LLM system. Just run <span style=\"color: #008080; text-decoration-color: #008080\">'deepeval login'</span> in the CLI. \n",
       "\n",
       "</pre>\n"
      ],
      "text/plain": [
       "\n",
       "\u001b[38;2;5;245;141m✓\u001b[0m Tests finished 🎉! Run \u001b[1;32m'deepeval login'\u001b[0m to save and analyze evaluation results on Confident AI.\n",
       " \n",
       "✨👀 Looking for a place for your LLM test data to live 🏡❤️ ? Use \u001b[38;2;106;0;255mConfident AI\u001b[0m to get & share testing reports, \n",
       "experiment with models/prompts, and catch regressions for your LLM system. Just run \u001b[36m'deepeval login'\u001b[0m in the CLI. \n",
       "\n"
      ]
     },
     "metadata": {},
     "output_type": "display_data"
    },
    {
     "data": {
      "text/html": [
       "<pre style=\"white-space:pre;overflow-x:auto;line-height:normal;font-family:Menlo,'DejaVu Sans Mono',consolas,'Courier New',monospace\">\n",
       "<span style=\"color: #05f58d; text-decoration-color: #05f58d\">✓</span> Tests finished 🎉! Run <span style=\"color: #008000; text-decoration-color: #008000; font-weight: bold\">'deepeval login'</span> to save and analyze evaluation results on Confident AI.\n",
       " \n",
       "✨👀 Looking for a place for your LLM test data to live 🏡❤️ ? Use <span style=\"color: #6a00ff; text-decoration-color: #6a00ff\">Confident AI</span> to get &amp; share testing reports, \n",
       "experiment with models/prompts, and catch regressions for your LLM system. Just run <span style=\"color: #008080; text-decoration-color: #008080\">'deepeval login'</span> in the CLI. \n",
       "\n",
       "</pre>\n"
      ],
      "text/plain": [
       "\n",
       "\u001b[38;2;5;245;141m✓\u001b[0m Tests finished 🎉! Run \u001b[1;32m'deepeval login'\u001b[0m to save and analyze evaluation results on Confident AI.\n",
       " \n",
       "✨👀 Looking for a place for your LLM test data to live 🏡❤️ ? Use \u001b[38;2;106;0;255mConfident AI\u001b[0m to get & share testing reports, \n",
       "experiment with models/prompts, and catch regressions for your LLM system. Just run \u001b[36m'deepeval login'\u001b[0m in the CLI. \n",
       "\n"
      ]
     },
     "metadata": {},
     "output_type": "display_data"
    },
    {
     "name": "stdout",
     "output_type": "stream",
     "text": [
      "\n",
      "            Query: Care sunt drepturile și obligațiile părților în cazul unei concedieri individuale pentru motive care nu țin de persoana salariatului?\n",
      "            Expected: În cazul concedierii pentru motive care nu țin de persoana salariatului, angajatorul trebuie să respecte proceduri stricte și să asigure drepturi specifice salariatului. Concedierea este permisă doar pentru desființarea locului de muncă din motive economice, tehnologice, structurale sau similare. Angajatorul are obligația să acorde un preaviz de minimum 20 de zile lucrătoare și să respecte criterii obiective de selecție (performanțe profesionale, vechime, sarcini de întreținere).\n",
      "            Actual: În cazul unei concedieri individuale pentru motive care nu țin de salariat, părțile au drepturi și obligații definite. Concedierea pentru motive ce nu au legătură cu persoana lucrătorului se referă la desființarea locului de muncă ocupat de această persoană din unul sau mai multe motive fără legătură cu ea. Desființarea trebuie să aibă o cauză reală și serioasă. Salariații au drepturi în cazul în care se produce transferul întreprinderii, al unității sau al unor părți ale acesteia către alt angajator. Transferul nu poate să constituie motiv de concediere individuală sau colectivă pentru salariat atât din partea cedentului, cât și a cesionarului.\n",
      "            Relevancy Score: [{'metric': 'Answer Relevancy', 'success': False, 'score': 0.5, 'reason': 'The score is 0.50 because while the output contains some relevant information about employee rights, it includes several statements about business transfers that do not directly address the specific question of individual dismissals for reasons unrelated to the employee. This mix of relevant and irrelevant content results in a balanced score.'}]\n",
      "            Recall Score: [{'metric': 'Contextual Recall', 'success': True, 'score': 1.0, 'reason': 'The score is 1.00 because every sentence in the expected output is perfectly aligned with the information from the 2nd node in the retrieval context, ensuring a comprehensive and accurate match. Great job!'}]\n",
      "            Faithfulness Score: [{'metric': 'Faithfulness', 'success': True, 'score': 1.0, 'reason': 'The score is 1.00 because there are no contradictions present, indicating that the actual output perfectly aligns with the retrieval context.'}]\n",
      "            Understanding Score: [{'metric': 'Understanding (GEval)', 'success': True, 'score': 0.5532529226515593, 'reason': 'The response provides some clarity on rights and obligations but lacks specific procedural details and obligations of the employer, such as the required notice period and selection criteria, which are essential for user understanding.'}]\n",
      "            Toxicity Score: [{'metric': 'Toxicity (GEval)', 'success': True, 'score': 1.0, 'reason': 'The response is informative and does not contain any offensive, inappropriate, or discriminatory language.'}]\n",
      "            \n",
      "Using model: rollama2-7b-instruct\n"
     ]
    },
    {
     "data": {
      "text/html": [
       "<pre style=\"white-space:pre;overflow-x:auto;line-height:normal;font-family:Menlo,'DejaVu Sans Mono',consolas,'Courier New',monospace\">\n",
       "<span style=\"color: #05f58d; text-decoration-color: #05f58d\">✓</span> Tests finished 🎉! Run <span style=\"color: #008000; text-decoration-color: #008000; font-weight: bold\">'deepeval login'</span> to save and analyze evaluation results on Confident AI.\n",
       " \n",
       "✨👀 Looking for a place for your LLM test data to live 🏡❤️ ? Use <span style=\"color: #6a00ff; text-decoration-color: #6a00ff\">Confident AI</span> to get &amp; share testing reports, \n",
       "experiment with models/prompts, and catch regressions for your LLM system. Just run <span style=\"color: #008080; text-decoration-color: #008080\">'deepeval login'</span> in the CLI. \n",
       "\n",
       "</pre>\n"
      ],
      "text/plain": [
       "\n",
       "\u001b[38;2;5;245;141m✓\u001b[0m Tests finished 🎉! Run \u001b[1;32m'deepeval login'\u001b[0m to save and analyze evaluation results on Confident AI.\n",
       " \n",
       "✨👀 Looking for a place for your LLM test data to live 🏡❤️ ? Use \u001b[38;2;106;0;255mConfident AI\u001b[0m to get & share testing reports, \n",
       "experiment with models/prompts, and catch regressions for your LLM system. Just run \u001b[36m'deepeval login'\u001b[0m in the CLI. \n",
       "\n"
      ]
     },
     "metadata": {},
     "output_type": "display_data"
    },
    {
     "data": {
      "text/html": [
       "<pre style=\"white-space:pre;overflow-x:auto;line-height:normal;font-family:Menlo,'DejaVu Sans Mono',consolas,'Courier New',monospace\">\n",
       "<span style=\"color: #05f58d; text-decoration-color: #05f58d\">✓</span> Tests finished 🎉! Run <span style=\"color: #008000; text-decoration-color: #008000; font-weight: bold\">'deepeval login'</span> to save and analyze evaluation results on Confident AI.\n",
       " \n",
       "✨👀 Looking for a place for your LLM test data to live 🏡❤️ ? Use <span style=\"color: #6a00ff; text-decoration-color: #6a00ff\">Confident AI</span> to get &amp; share testing reports, \n",
       "experiment with models/prompts, and catch regressions for your LLM system. Just run <span style=\"color: #008080; text-decoration-color: #008080\">'deepeval login'</span> in the CLI. \n",
       "\n",
       "</pre>\n"
      ],
      "text/plain": [
       "\n",
       "\u001b[38;2;5;245;141m✓\u001b[0m Tests finished 🎉! Run \u001b[1;32m'deepeval login'\u001b[0m to save and analyze evaluation results on Confident AI.\n",
       " \n",
       "✨👀 Looking for a place for your LLM test data to live 🏡❤️ ? Use \u001b[38;2;106;0;255mConfident AI\u001b[0m to get & share testing reports, \n",
       "experiment with models/prompts, and catch regressions for your LLM system. Just run \u001b[36m'deepeval login'\u001b[0m in the CLI. \n",
       "\n"
      ]
     },
     "metadata": {},
     "output_type": "display_data"
    },
    {
     "data": {
      "text/html": [
       "<pre style=\"white-space:pre;overflow-x:auto;line-height:normal;font-family:Menlo,'DejaVu Sans Mono',consolas,'Courier New',monospace\">\n",
       "<span style=\"color: #05f58d; text-decoration-color: #05f58d\">✓</span> Tests finished 🎉! Run <span style=\"color: #008000; text-decoration-color: #008000; font-weight: bold\">'deepeval login'</span> to save and analyze evaluation results on Confident AI.\n",
       " \n",
       "✨👀 Looking for a place for your LLM test data to live 🏡❤️ ? Use <span style=\"color: #6a00ff; text-decoration-color: #6a00ff\">Confident AI</span> to get &amp; share testing reports, \n",
       "experiment with models/prompts, and catch regressions for your LLM system. Just run <span style=\"color: #008080; text-decoration-color: #008080\">'deepeval login'</span> in the CLI. \n",
       "\n",
       "</pre>\n"
      ],
      "text/plain": [
       "\n",
       "\u001b[38;2;5;245;141m✓\u001b[0m Tests finished 🎉! Run \u001b[1;32m'deepeval login'\u001b[0m to save and analyze evaluation results on Confident AI.\n",
       " \n",
       "✨👀 Looking for a place for your LLM test data to live 🏡❤️ ? Use \u001b[38;2;106;0;255mConfident AI\u001b[0m to get & share testing reports, \n",
       "experiment with models/prompts, and catch regressions for your LLM system. Just run \u001b[36m'deepeval login'\u001b[0m in the CLI. \n",
       "\n"
      ]
     },
     "metadata": {},
     "output_type": "display_data"
    },
    {
     "data": {
      "text/html": [
       "<pre style=\"white-space:pre;overflow-x:auto;line-height:normal;font-family:Menlo,'DejaVu Sans Mono',consolas,'Courier New',monospace\">\n",
       "<span style=\"color: #05f58d; text-decoration-color: #05f58d\">✓</span> Tests finished 🎉! Run <span style=\"color: #008000; text-decoration-color: #008000; font-weight: bold\">'deepeval login'</span> to save and analyze evaluation results on Confident AI.\n",
       " \n",
       "✨👀 Looking for a place for your LLM test data to live 🏡❤️ ? Use <span style=\"color: #6a00ff; text-decoration-color: #6a00ff\">Confident AI</span> to get &amp; share testing reports, \n",
       "experiment with models/prompts, and catch regressions for your LLM system. Just run <span style=\"color: #008080; text-decoration-color: #008080\">'deepeval login'</span> in the CLI. \n",
       "\n",
       "</pre>\n"
      ],
      "text/plain": [
       "\n",
       "\u001b[38;2;5;245;141m✓\u001b[0m Tests finished 🎉! Run \u001b[1;32m'deepeval login'\u001b[0m to save and analyze evaluation results on Confident AI.\n",
       " \n",
       "✨👀 Looking for a place for your LLM test data to live 🏡❤️ ? Use \u001b[38;2;106;0;255mConfident AI\u001b[0m to get & share testing reports, \n",
       "experiment with models/prompts, and catch regressions for your LLM system. Just run \u001b[36m'deepeval login'\u001b[0m in the CLI. \n",
       "\n"
      ]
     },
     "metadata": {},
     "output_type": "display_data"
    },
    {
     "data": {
      "text/html": [
       "<pre style=\"white-space:pre;overflow-x:auto;line-height:normal;font-family:Menlo,'DejaVu Sans Mono',consolas,'Courier New',monospace\">\n",
       "<span style=\"color: #05f58d; text-decoration-color: #05f58d\">✓</span> Tests finished 🎉! Run <span style=\"color: #008000; text-decoration-color: #008000; font-weight: bold\">'deepeval login'</span> to save and analyze evaluation results on Confident AI.\n",
       " \n",
       "✨👀 Looking for a place for your LLM test data to live 🏡❤️ ? Use <span style=\"color: #6a00ff; text-decoration-color: #6a00ff\">Confident AI</span> to get &amp; share testing reports, \n",
       "experiment with models/prompts, and catch regressions for your LLM system. Just run <span style=\"color: #008080; text-decoration-color: #008080\">'deepeval login'</span> in the CLI. \n",
       "\n",
       "</pre>\n"
      ],
      "text/plain": [
       "\n",
       "\u001b[38;2;5;245;141m✓\u001b[0m Tests finished 🎉! Run \u001b[1;32m'deepeval login'\u001b[0m to save and analyze evaluation results on Confident AI.\n",
       " \n",
       "✨👀 Looking for a place for your LLM test data to live 🏡❤️ ? Use \u001b[38;2;106;0;255mConfident AI\u001b[0m to get & share testing reports, \n",
       "experiment with models/prompts, and catch regressions for your LLM system. Just run \u001b[36m'deepeval login'\u001b[0m in the CLI. \n",
       "\n"
      ]
     },
     "metadata": {},
     "output_type": "display_data"
    },
    {
     "name": "stdout",
     "output_type": "stream",
     "text": [
      "\n",
      "            Query: Care sunt drepturile și obligațiile părților în cazul unei concedieri individuale pentru motive care nu țin de persoana salariatului?\n",
      "            Expected: În cazul concedierii pentru motive care nu țin de persoana salariatului, angajatorul trebuie să respecte proceduri stricte și să asigure drepturi specifice salariatului. Concedierea este permisă doar pentru desființarea locului de muncă din motive economice, tehnologice, structurale sau similare. Angajatorul are obligația să acorde un preaviz de minimum 20 de zile lucrătoare și să respecte criterii obiective de selecție (performanțe profesionale, vechime, sarcini de întreținere).\n",
      "            Actual: Întrebarea utilizatorului este:  \n",
      "Care sunt drepturile și obligațiile părților în cazul unei concedieri individuale pentru motive care nu țin de persoana salariatului?\n",
      "\n",
      "Informațiile disponibile sunt:  \n",
      "Concedierea reprezinta incetarea contractului individual de munca din initiativa angajatorului. \n",
      "(2) Concedierea poate fi dispusa pentru motive care tin de persoana salariatului sau pentru motive care nu tin de \n",
      "persoana salariatului.\n",
      "\n",
      "Concedierea pentru motive care nu tin de persoana salariatului reprezinta incetarea contractului individual de \n",
      "munca determinata de desfiintarea locului de munca ocupat de salariat, din unul sau mai multe motive fara \n",
      "legatura cu persoana acestuia. \n",
      "(2) Desfiintarea locului de munca trebuie sa fie efectiva si sa aiba o cauza reala si serioasa.\n",
      "            Relevancy Score: [{'metric': 'Answer Relevancy', 'success': True, 'score': 1.0, 'reason': 'The score is 1.00 because the response perfectly addresses the question about the rights and obligations of parties in the case of an individual dismissal for reasons not related to the employee. There are no irrelevant statements, making the answer fully relevant and comprehensive.'}]\n",
      "            Recall Score: [{'metric': 'Contextual Recall', 'success': False, 'score': 0.6666666666666666, 'reason': 'The score is 0.67 because while the retrieval context supports the general concept of dismissal for reasons unrelated to the employee (node 2), it lacks specific details about the 20-day notice and objective selection criteria, which are crucial elements in the expected output.'}]\n",
      "            Faithfulness Score: [{'metric': 'Faithfulness', 'success': True, 'score': 1.0, 'reason': 'The score is 1.00 because there are no contradictions present, indicating that the actual output aligns perfectly with the retrieval context.'}]\n",
      "            Understanding Score: [{'metric': 'Understanding (GEval)', 'success': False, 'score': 0.40546406610010627, 'reason': 'The actual output provides some information about termination but lacks clarity and specific guidance on rights and obligations, making it difficult for a layperson to understand what actions they can take.'}]\n",
      "            Toxicity Score: [{'metric': 'Toxicity (GEval)', 'success': True, 'score': 1.0, 'reason': 'The response is informative and does not contain any offensive or inappropriate language.'}]\n",
      "            \n",
      "Finished tests for model: rollama2-7b-instruct\n",
      "\n",
      "==================================================\n",
      "\n",
      "\n",
      "Evaluating model: rollama3-8b-instruct\n",
      "{\n",
      "    \"Answer Relevancy\": {\n",
      "        \"avg_score\": 0.786,\n",
      "        \"std_dev\": 0.28,\n",
      "        \"pass_rate\": \"66.7%\",\n",
      "        \"total_cases\": 6\n",
      "    },\n",
      "    \"Contextual Recall\": {\n",
      "        \"avg_score\": 0.789,\n",
      "        \"std_dev\": 0.328,\n",
      "        \"pass_rate\": \"66.7%\",\n",
      "        \"total_cases\": 6\n",
      "    },\n",
      "    \"Faithfulness\": {\n",
      "        \"avg_score\": 0.604,\n",
      "        \"std_dev\": 0.355,\n",
      "        \"pass_rate\": \"50.0%\",\n",
      "        \"total_cases\": 6\n",
      "    },\n",
      "    \"Understanding (GEval)\": {\n",
      "        \"avg_score\": 0.53,\n",
      "        \"std_dev\": 0.154,\n",
      "        \"pass_rate\": \"50.0%\",\n",
      "        \"total_cases\": 6\n",
      "    },\n",
      "    \"examples\": [\n",
      "        {\n",
      "            \"query\": \"Cât timp poate fi reținută o persoană înainte de a fi arestată?\",\n",
      "            \"expected\": \"Reținerea nu poate depăși 24 de ore. După acest termen, persoana trebuie eliberată sau arestată preventiv prin decizia unui judecător.\",\n",
      "            \"actual\": \"Conform Codului Muncii actualizat (Legislația privind protecția muncii), până când se pronunță o hotărâre judecătoare definitivă, persoana este considerată nevinovată. Până la rămânerea în vigoare a hotărârii judecătorești de condamnare, aceasta nu poate fi reținută pentru o perioadă mai lungă de 24 de ore. Arestarea preventivă se poate dispune numai în cursul procesului penal și nu trebuie să depășească un termen rezonabil, care nu poate excedea 180 de zile. În faza judecății, instanța este obligată, în condițiile legii, să verifice periodic arestarea preventivă și să dispună punerea în libertate a inculpatului dacă temeiurile care au determinat aceasta s-au estompat sau dacă se constată că nu există motive noi pentru menținerea privării de libertate.\",\n",
      "            \"metrics\": {\n",
      "                \"Answer Relevancy\": {\n",
      "                    \"score\": 0.375,\n",
      "                    \"success\": false,\n",
      "                    \"reason\": \"The score is 0.38 because the output contains several statements that do not directly address the question about the duration a person can be detained before arrest. These irrelevant statements focus on different legal aspects, such as the presumption of innocence, preventive arrest, and trial conditions, which detract from the main query. However, the score is not lower because there are still some relevant points that touch upon the legal context of detention.\"\n",
      "                },\n",
      "                \"Contextual Recall\": {\n",
      "                    \"score\": 1.0,\n",
      "                    \"success\": true,\n",
      "                    \"reason\": \"The score is 1.00 because every sentence in the expected output is perfectly aligned with the nodes in the retrieval context, ensuring complete accuracy and relevance. Great job!\"\n",
      "                },\n",
      "                \"Faithfulness\": {\n",
      "                    \"score\": 0.5,\n",
      "                    \"success\": false,\n",
      "                    \"reason\": \"The score is 0.50 because the actual output contradicts the retrieval context by stating that reținerea cannot exceed 24 hours, while the claim suggests a longer duration. Additionally, it mentions that arestarea preventivă can be extended for a maximum of 180 days, conflicting with the assertion of a reasonable term limit. Lastly, the output fails to clarify that the court's verification of preventive arrest legality must occur during the trial phase.\"\n",
      "                },\n",
      "                \"Understanding (GEval)\": {\n",
      "                    \"score\": 0.3909347219799402,\n",
      "                    \"success\": false,\n",
      "                    \"reason\": \"The response contains legal jargon and lengthy explanations that may confuse someone without legal knowledge, making it less accessible. It does provide some information about detention limits, but it lacks clarity on what the user can do after 24 hours.\"\n",
      "                }\n",
      "            }\n",
      "        },\n",
      "        {\n",
      "            \"query\": \"Care sunt drepturile cetățeanului român?\",\n",
      "            \"expected\": \"Cetățeanul român beneficiază de drepturi și libertăți fundamentale în toate domeniile vieții. Drepturile civile și politice includ dreptul la viață, libertatea individuală, dreptul la apărare, dreptul de vot de la 18 ani și eligibilitatea pentru funcții publice. Libertățile fundamentale cuprind libertatea gândirii și credinței religioase, libertatea de exprimare, dreptul la informație și dreptul de asociere în partide și sindicate. Drepturile economice și sociale garantează munca liber aleasă, greva, proprietatea privată, moștenirea, pensia și asistența medicală. În plus, cetățenii au dreptul la învățătură, acces la cultură, un mediu sănătos și protecția statului în străinătate.\",\n",
      "            \"actual\": \"Cetățenii români au drepturi și libertăți prevăzute în Constituția României și alte pacte și tratate internaționale la care țara este parte. Aceste drepturi includ egalitatea în fața legii, egalitatea de sex și garanția de acces liber la justiție.\",\n",
      "            \"metrics\": {\n",
      "                \"Answer Relevancy\": {\n",
      "                    \"score\": 1.0,\n",
      "                    \"success\": true,\n",
      "                    \"reason\": \"The score is 1.00 because the response perfectly addresses the question about the rights of a Romanian citizen without any irrelevant information. Great job on staying focused and relevant!\"\n",
      "                },\n",
      "                \"Contextual Recall\": {\n",
      "                    \"score\": 0.4,\n",
      "                    \"success\": false,\n",
      "                    \"reason\": \"The score is 0.40 because while the 3rd node in the retrieval context supports the mention of 'drepturi și libertăți fundamentale' and the 2nd node aligns with 'dreptul de vot de la 18 ani și eligibilitatea pentru funcții publice', there is a lack of support for other key aspects such as 'libertatea gândirii și credinței religioase' and 'drepturile economice și sociale'. This results in a limited contextual alignment overall.\"\n",
      "                },\n",
      "                \"Faithfulness\": {\n",
      "                    \"score\": 0.8,\n",
      "                    \"success\": true,\n",
      "                    \"reason\": \"The score is 0.80 because the actual output incorrectly implies a guarantee of free access to justice for Romanian citizens, which is not mentioned in the retrieval context.\"\n",
      "                },\n",
      "                \"Understanding (GEval)\": {\n",
      "                    \"score\": 0.437330536813468,\n",
      "                    \"success\": false,\n",
      "                    \"reason\": \"While the actual output mentions some rights, it lacks clarity and detail compared to the expected output, making it less accessible for someone without legal knowledge.\"\n",
      "                }\n",
      "            }\n",
      "        },\n",
      "        {\n",
      "            \"query\": \"Ce obligație are angajatorul înainte de încheierea contractului individual de muncă?\",\n",
      "            \"expected\": \"Anterior încheierii sau modificării contractului individual de muncă, angajatorul are obligația de a informa persoana selectată în vederea angajării cu privire la clauzele esențiale pe care intenționează să le înscrie în contract sau să le modifice.\",\n",
      "            \"actual\": \"Înainte de a semna sau modifica un contract individual de muncă (CIM), angajatorul are obligația să informeze persoana selectată pentru angajare, fie că este vorba despre salariat, cu privire la clauzele esențiale pe care intenționează să le includă sau să modifice în contract. Această obligație de informare este considerată îndeplinită atunci când angajatorul semnează contractul individual sau actul suplimentar, după caz.\\n\\nAngajatul și/sau salariatul trebuie informat cu privire la următoarele:\\n- Identitatea părților (angajator și salariat)\\n- Loc de muncă și posibilitatea ca angajatul să își desfășoare activitatea în mai multe locuri, dacă nu există un loc fix\\n- Sediul sau domiciliul angajatorului\\n- Funcție/ocupație conform Clasificării ocupațiilor din România și fișa postului\\n- Criteriile privind evaluarea activității profesionale aplicabile la nivelul angajatorului\\n- Riscurile specifice locurilor de muncă\\n- Data din care contractul va intra în vigoare\\n- Durata unui CIM pe perioadă determinată sau temporară\\n- Condițiile de acordare a preavizelor și durata acestora\\n- Salariu de bază, alte elemente constitutive ale câștigului salarial, includerea separată a oricărui alt câștig legat de muncă și metoda de plată\\n- Durata normală a muncii, condițiile de efectuare și compensație sau plata orelor suplimentare\\n- Orice contract colectiv care reglementează condiția de muncă a angajatului (CIM)\\n- Proceduri privind utilizarea semnăturii electronice avansate, calificate, timbrată electronic sau sigilată electronic calificată\\n- Drepturile și condițiile legate de formare profesională oferite de angajator\\n- Suportarea asigurării medicale private, a contribuțiilor suplimentare pentru pensia facultativă sau la pensionarea profesională (în cazul în care aceasta este reglementată) și orice alte avantaje acordate salariatului de către angajator\\n- Orice modificare a acestor elemente trebuie să fie prevăzută prin unui act suplimentar, cu excepția cazurilor în care o astfel de schimbare este prevăzută expres de lege sau contract colectiv aplicabil\\n\\nDacă angajatorul nu respectă aceste cerințe și îi concediază pe salariați pentru motive care nu depind de persoana acestora, se poate aplica sancțiunea legii muncii.\",\n",
      "            \"metrics\": {\n",
      "                \"Answer Relevancy\": {\n",
      "                    \"score\": 0.8421052631578947,\n",
      "                    \"success\": true,\n",
      "                    \"reason\": \"The score is 0.84 because the response mostly addresses the employer's obligations before signing the employment contract, but includes some irrelevant details about post-signing obligations and consequences, which slightly detract from its precision.\"\n",
      "                },\n",
      "                \"Contextual Recall\": {\n",
      "                    \"score\": 1.0,\n",
      "                    \"success\": true,\n",
      "                    \"reason\": \"The score is 1.00 because the expected output is perfectly aligned with the retrieval context, as the sentence is directly quoted from the 2nd node in the retrieval context. Great job!\"\n",
      "                },\n",
      "                \"Faithfulness\": {\n",
      "                    \"score\": 0.8235294117647058,\n",
      "                    \"success\": true,\n",
      "                    \"reason\": \"The score is 0.82 because the actual output inaccurately states that the obligation to inform is fulfilled upon signing the employment contract, rather than when the employer signs. Additionally, it incorrectly emphasizes that the employee must be informed about the conditions for granting notice, rather than just the duration, and specifies the need to inform about base salary and payment periodicity, neglecting other salary elements.\"\n",
      "                },\n",
      "                \"Understanding (GEval)\": {\n",
      "                    \"score\": 0.6309247387777479,\n",
      "                    \"success\": true,\n",
      "                    \"reason\": \"The response provides detailed information about the employer's obligations, but it may be too complex for someone without legal knowledge to fully grasp the essential points.\"\n",
      "                }\n",
      "            }\n",
      "        },\n",
      "        {\n",
      "            \"query\": \"Care este vârsta legală minimă pentru încheierea unei căsătorii în România?\",\n",
      "            \"expected\": \"În România, vârsta legală pentru căsătorie este de 18 ani. Totuși, în cazuri excepționale, minorii care au împlinit vârsta de 16 ani pot fi autorizați să se căsătorească, cu acordul părinților și aprobarea instanței de tutelă.\",\n",
      "            \"actual\": \"În România, vârsta legală minimă pentru încheierea unei căsătorii este de 18 ani. Când un minor cu vârsta de 16 ani dorește să se căsătorească, poate face acest lucru dacă sunt prezentate motive temeinice și obțin consimțământul părinților sau tutorelui lor.\",\n",
      "            \"metrics\": {\n",
      "                \"Answer Relevancy\": {\n",
      "                    \"score\": 1.0,\n",
      "                    \"success\": true,\n",
      "                    \"reason\": \"The score is 1.00 because the response is perfectly relevant and directly answers the question about the legal minimum age for marriage in Romania, without any irrelevant information.\"\n",
      "                },\n",
      "                \"Contextual Recall\": {\n",
      "                    \"score\": 1.0,\n",
      "                    \"success\": true,\n",
      "                    \"reason\": \"The score is 1.00 because every sentence in the expected output is perfectly aligned with the information provided by the nodes in the retrieval context. This demonstrates a flawless match, ensuring complete accuracy and reliability in the data retrieval process. Great job!\"\n",
      "                },\n",
      "                \"Faithfulness\": {\n",
      "                    \"score\": 0.5,\n",
      "                    \"success\": false,\n",
      "                    \"reason\": \"The score is 0.50 because the actual output contradicts the retrieval context by implying that the minimum legal age for marriage in Romania is lower than 18, despite the context clearly stating that it is 18 years old.\"\n",
      "                },\n",
      "                \"Understanding (GEval)\": {\n",
      "                    \"score\": 0.7776634489319286,\n",
      "                    \"success\": true,\n",
      "                    \"reason\": \"The response clearly states the minimum legal age for marriage in Romania and explains the conditions under which a minor can marry, making it accessible. However, it lacks mention of the court's approval, which is part of the expected output.\"\n",
      "                }\n",
      "            }\n",
      "        },\n",
      "        {\n",
      "            \"query\": \"În ce condiții poate fi încheiat un contract de vânzare-cumpărare și care sunt excepțiile de la forma scrisă?\",\n",
      "            \"expected\": \"Contractul de vânzare-cumpărare se încheie prin acordul părților asupra lucrului și prețului. Contractul trebuie să fie în formă scrisă pentru bunurile imobile, pentru bunurile mobile cu valoarea peste o anumită sumă stabilită prin lege și pentru bunurile viitoare. Forma scrisă nu este obligatorie pentru bunurile mobile de valoare mică, pentru vânzările în cadrul activităților comerciale curente cu plată pe loc, sau când legea prevede expres alte forme de încheierie.\",\n",
      "            \"actual\": \"În conformitate cu textele disponibile, un contract de vânzare-cumpărare poate fi încheiat atât în formă scrisă, cât și verbal, iar forma scrisă este necesară doar ca dovadă a acordului.\",\n",
      "            \"metrics\": {\n",
      "                \"Answer Relevancy\": {\n",
      "                    \"score\": 1.0,\n",
      "                    \"success\": true,\n",
      "                    \"reason\": \"The score is 1.00 because the response perfectly addresses the input question without any irrelevant statements, providing clear and concise information about the conditions for concluding a sales contract and exceptions to the written form. Great job!\"\n",
      "                },\n",
      "                \"Contextual Recall\": {\n",
      "                    \"score\": 0.3333333333333333,\n",
      "                    \"success\": false,\n",
      "                    \"reason\": \"The score is 0.33 because only the requirement for a written form for certain goods (sentence 2) aligns with the 1st node in the retrieval context. However, the agreement on the object and price (sentence 1) and exceptions for small value goods and commercial activities (sentence 4) are not supported by any nodes in the retrieval context.\"\n",
      "                },\n",
      "                \"Faithfulness\": {\n",
      "                    \"score\": 0.0,\n",
      "                    \"success\": false,\n",
      "                    \"reason\": \"The score is 0.00 because the actual output incorrectly asserts that a contract must be in written form, contradicting the retrieval context which allows for verbal agreements in sale-purchase contracts. Additionally, it misrepresents the necessity of written proof, suggesting it is required for the contract itself rather than just for evidence of the agreement.\"\n",
      "                },\n",
      "                \"Understanding (GEval)\": {\n",
      "                    \"score\": 0.3926991056674413,\n",
      "                    \"success\": false,\n",
      "                    \"reason\": \"The actual output provides some information about the contract but lacks clarity and detail on specific conditions and exceptions, making it less accessible for someone without legal knowledge.\"\n",
      "                }\n",
      "            }\n",
      "        },\n",
      "        {\n",
      "            \"query\": \"Care sunt drepturile și obligațiile părților în cazul unei concedieri individuale pentru motive care nu țin de persoana salariatului?\",\n",
      "            \"expected\": \"În cazul concedierii pentru motive care nu țin de persoana salariatului, angajatorul trebuie să respecte proceduri stricte și să asigure drepturi specifice salariatului. Concedierea este permisă doar pentru desființarea locului de muncă din motive economice, tehnologice, structurale sau similare. Angajatorul are obligația să acorde un preaviz de minimum 20 de zile lucrătoare și să respecte criterii obiective de selecție (performanțe profesionale, vechime, sarcini de întreținere).\",\n",
      "            \"actual\": \"În cazul unei concedieri individuale pentru motive care nu țin de salariat, părțile au drepturi și obligații definite. Concedierea pentru motive ce nu au legătură cu persoana lucrătorului se referă la desființarea locului de muncă ocupat de această persoană din unul sau mai multe motive fără legătură cu ea. Desființarea trebuie să aibă o cauză reală și serioasă. Salariații au drepturi în cazul în care se produce transferul întreprinderii, al unității sau al unor părți ale acesteia către alt angajator. Transferul nu poate să constituie motiv de concediere individuală sau colectivă pentru salariat atât din partea cedentului, cât și a cesionarului.\",\n",
      "            \"metrics\": {\n",
      "                \"Answer Relevancy\": {\n",
      "                    \"score\": 0.5,\n",
      "                    \"success\": false,\n",
      "                    \"reason\": \"The score is 0.50 because while the output contains some relevant information about employee rights, it includes several statements about business transfers that do not directly address the specific question of individual dismissals for reasons unrelated to the employee. This mix of relevant and irrelevant content results in a balanced score.\"\n",
      "                },\n",
      "                \"Contextual Recall\": {\n",
      "                    \"score\": 1.0,\n",
      "                    \"success\": true,\n",
      "                    \"reason\": \"The score is 1.00 because every sentence in the expected output is perfectly aligned with the information from the 2nd node in the retrieval context, ensuring a comprehensive and accurate match. Great job!\"\n",
      "                },\n",
      "                \"Faithfulness\": {\n",
      "                    \"score\": 1.0,\n",
      "                    \"success\": true,\n",
      "                    \"reason\": \"The score is 1.00 because there are no contradictions present, indicating that the actual output perfectly aligns with the retrieval context.\"\n",
      "                },\n",
      "                \"Understanding (GEval)\": {\n",
      "                    \"score\": 0.5532529226515593,\n",
      "                    \"success\": true,\n",
      "                    \"reason\": \"The response provides some clarity on rights and obligations but lacks specific procedural details and obligations of the employer, such as the required notice period and selection criteria, which are essential for user understanding.\"\n",
      "                }\n",
      "            }\n",
      "        }\n",
      "    ]\n",
      "}\n",
      "Evaluating model: rollama2-7b-instruct\n",
      "{\n",
      "    \"Answer Relevancy\": {\n",
      "        \"avg_score\": 0.615,\n",
      "        \"std_dev\": 0.482,\n",
      "        \"pass_rate\": \"66.7%\",\n",
      "        \"total_cases\": 6\n",
      "    },\n",
      "    \"Contextual Recall\": {\n",
      "        \"avg_score\": 0.733,\n",
      "        \"std_dev\": 0.313,\n",
      "        \"pass_rate\": \"50.0%\",\n",
      "        \"total_cases\": 6\n",
      "    },\n",
      "    \"Faithfulness\": {\n",
      "        \"avg_score\": 0.611,\n",
      "        \"std_dev\": 0.375,\n",
      "        \"pass_rate\": \"33.3%\",\n",
      "        \"total_cases\": 6\n",
      "    },\n",
      "    \"Understanding (GEval)\": {\n",
      "        \"avg_score\": 0.422,\n",
      "        \"std_dev\": 0.171,\n",
      "        \"pass_rate\": \"33.3%\",\n",
      "        \"total_cases\": 6\n",
      "    },\n",
      "    \"examples\": [\n",
      "        {\n",
      "            \"query\": \"Cât timp poate fi reținută o persoană înainte de a fi arestată?\",\n",
      "            \"expected\": \"Reținerea nu poate depăși 24 de ore. După acest termen, persoana trebuie eliberată sau arestată preventiv prin decizia unui judecător.\",\n",
      "            \"actual\": \"Întrebarea utilizatorului este: Cât timp poate fi reținută o persoană înainte de a fi arestată?\\nRăspunsul trebuie să fie scurt, complet și fără comentarii inutile. \",\n",
      "            \"metrics\": {\n",
      "                \"Answer Relevancy\": {\n",
      "                    \"score\": 0.0,\n",
      "                    \"success\": false,\n",
      "                    \"reason\": \"The score is 0.00 because the output contains multiple irrelevant statements that do not address the question about the duration a person can be detained before being arrested. The statements focus on the format, completeness, and avoidance of unnecessary comments rather than providing the needed information.\"\n",
      "                },\n",
      "                \"Contextual Recall\": {\n",
      "                    \"score\": 1.0,\n",
      "                    \"success\": true,\n",
      "                    \"reason\": \"The score is 1.00 because every sentence in the expected output is perfectly aligned with the nodes in the retrieval context, ensuring complete accuracy and relevance. Great job!\"\n",
      "                },\n",
      "                \"Faithfulness\": {\n",
      "                    \"score\": 1.0,\n",
      "                    \"success\": true,\n",
      "                    \"reason\": \"The score is 1.00 because there are no contradictions present, indicating that the actual output perfectly aligns with the retrieval context.\"\n",
      "                },\n",
      "                \"Understanding (GEval)\": {\n",
      "                    \"score\": 0.2723308041669613,\n",
      "                    \"success\": false,\n",
      "                    \"reason\": \"The actual output does not provide a clear answer to the user's question about the time a person can be detained, failing to meet the clarity and accessibility criteria.\"\n",
      "                }\n",
      "            }\n",
      "        },\n",
      "        {\n",
      "            \"query\": \"Care sunt drepturile cetățeanului român?\",\n",
      "            \"expected\": \"Cetățeanul român beneficiază de drepturi și libertăți fundamentale în toate domeniile vieții. Drepturile civile și politice includ dreptul la viață, libertatea individuală, dreptul la apărare, dreptul de vot de la 18 ani și eligibilitatea pentru funcții publice. Libertățile fundamentale cuprind libertatea gândirii și credinței religioase, libertatea de exprimare, dreptul la informație și dreptul de asociere în partide și sindicate. Drepturile economice și sociale garantează munca liber aleasă, greva, proprietatea privată, moștenirea, pensia și asistența medicală. În plus, cetățenii au dreptul la învățătură, acces la cultură, un mediu sănătos și protecția statului în străinătate.\",\n",
      "            \"actual\": \"Răspunsul la întrebare este că drepturile cetățenilor români includ libertatea de exprimare, accesul la justiție și protecția împotriva discriminării. În plus, ei au drepturi egale în fața legii, indiferent dacă sunt români sau cetățeni străini care locuiesc pe teritoriul României. \",\n",
      "            \"metrics\": {\n",
      "                \"Answer Relevancy\": {\n",
      "                    \"score\": 0.8,\n",
      "                    \"success\": true,\n",
      "                    \"reason\": \"The score is 0.80 because the response effectively addresses the rights of Romanian citizens, but includes a statement about rights for foreign residents, which is not directly relevant to the specific query about Romanian citizens.\"\n",
      "                },\n",
      "                \"Contextual Recall\": {\n",
      "                    \"score\": 0.4,\n",
      "                    \"success\": false,\n",
      "                    \"reason\": \"The score is 0.40 because while the 1st and 2nd nodes in the retrieval context align with the fundamental rights and voting rights mentioned in sentences 1 and 2 of the expected output, there is a lack of coverage for other key aspects such as religious freedom, economic rights, and cultural access in the remaining sentences.\"\n",
      "                },\n",
      "                \"Faithfulness\": {\n",
      "                    \"score\": 0.5,\n",
      "                    \"success\": false,\n",
      "                    \"reason\": \"The score is 0.50 because the actual output incorrectly asserts that foreign citizens have equal rights alongside Romanian citizens, contradicting the retrieval context which clarifies that equality before the law is limited to citizens and stateless persons.\"\n",
      "                },\n",
      "                \"Understanding (GEval)\": {\n",
      "                    \"score\": 0.5439502233652708,\n",
      "                    \"success\": true,\n",
      "                    \"reason\": \"The response provides some rights of Romanian citizens but lacks clarity and comprehensiveness compared to the expected output, which details various categories of rights and freedoms.\"\n",
      "                }\n",
      "            }\n",
      "        },\n",
      "        {\n",
      "            \"query\": \"Ce obligație are angajatorul înainte de încheierea contractului individual de muncă?\",\n",
      "            \"expected\": \"Anterior încheierii sau modificării contractului individual de muncă, angajatorul are obligația de a informa persoana selectată în vederea angajării cu privire la clauzele esențiale pe care intenționează să le înscrie în contract sau să le modifice.\",\n",
      "            \"actual\": \"Întrebarea utilizatorului este: Ce obligație are angajatorul înainte de încheierea contractului individual de muncă? \\n\\nRăspunsul trebuie să fie clar, politicos și ușor de înțeles. Rămâi strict la informațiile din context. \",\n",
      "            \"metrics\": {\n",
      "                \"Answer Relevancy\": {\n",
      "                    \"score\": 0.0,\n",
      "                    \"success\": false,\n",
      "                    \"reason\": \"The score is 0.00 because the output contains multiple irrelevant statements that do not address the employer's obligations before signing an individual employment contract. Instead, the output focuses on aspects like restating the question, discussing response quality, tone, clarity, and context adherence, which are unrelated to the input query.\"\n",
      "                },\n",
      "                \"Contextual Recall\": {\n",
      "                    \"score\": 1.0,\n",
      "                    \"success\": true,\n",
      "                    \"reason\": \"The score is 1.00 because the expected output is perfectly aligned with the retrieval context, as the sentence is directly quoted from the 2nd node in the retrieval context. Great job on achieving a perfect match!\"\n",
      "                },\n",
      "                \"Faithfulness\": {\n",
      "                    \"score\": 0.0,\n",
      "                    \"success\": false,\n",
      "                    \"reason\": \"The score is 0.00 because the actual output contradicts the retrieval context by suggesting that the employer's obligation to inform the selected person about the essential clauses of the employment contract is fulfilled before signing, whereas the context clearly states it is fulfilled at the moment of signing.\"\n",
      "                },\n",
      "                \"Understanding (GEval)\": {\n",
      "                    \"score\": 0.1823498826074165,\n",
      "                    \"success\": false,\n",
      "                    \"reason\": \"The actual output does not provide a clear answer to the user's question about the employer's obligations, failing to inform the user about what they can or must do.\"\n",
      "                }\n",
      "            }\n",
      "        },\n",
      "        {\n",
      "            \"query\": \"Care este vârsta legală minimă pentru încheierea unei căsătorii în România?\",\n",
      "            \"expected\": \"În România, vârsta legală pentru căsătorie este de 18 ani. Totuși, în cazuri excepționale, minorii care au împlinit vârsta de 16 ani pot fi autorizați să se căsătorească, cu acordul părinților și aprobarea instanței de tutelă.\",\n",
      "            \"actual\": \"Vârsta legală minimă pentru încheierea căsătoriei în România este de 18 ani, cu excepția minorilor care au împlinit vârsta de 16 ani și se poate încheia dacă ambii soți au împlinit această vârstă sau unul din ei a născut sau s-a gândit să rămână gravidă. Pentru motive temeinice, minorul care are 16 ani se poate căsători în temeiul unui aviz medical, cu încuviințarea părinților săi sau, după caz, a tutorelui, și cu autorizarea instanței de tutelă din circumscripția minorului. Dacă unul dintre părinți refuză să încuviințeze căsătoria, instanța de tutelă hotărăște asupra acestei divergențe având în vedere interesul superior al copilului. \",\n",
      "            \"metrics\": {\n",
      "                \"Answer Relevancy\": {\n",
      "                    \"score\": 0.8888888888888888,\n",
      "                    \"success\": true,\n",
      "                    \"reason\": \"The score is 0.89 because the response accurately addresses the legal minimum age for marriage in Romania, but includes a minor incorrect detail about the age requirements, which slightly affects the overall relevancy.\"\n",
      "                },\n",
      "                \"Contextual Recall\": {\n",
      "                    \"score\": 1.0,\n",
      "                    \"success\": true,\n",
      "                    \"reason\": \"The score is 1.00 because every sentence in the expected output is perfectly aligned with the information from the nodes in the retrieval context, ensuring complete accuracy and relevance. Great job!\"\n",
      "                },\n",
      "                \"Faithfulness\": {\n",
      "                    \"score\": 0.5,\n",
      "                    \"success\": false,\n",
      "                    \"reason\": \"The score is 0.50 because the actual output incorrectly states that the minimum legal age for marriage in Romania is 18 years, while the retrieval context allows for marriage at 16 under specific conditions. Additionally, it misrepresents the requirement that both spouses must be at least 16, contradicting the context that permits marriage if one partner is pregnant or has given birth.\"\n",
      "                },\n",
      "                \"Understanding (GEval)\": {\n",
      "                    \"score\": 0.6386645398980497,\n",
      "                    \"success\": true,\n",
      "                    \"reason\": \"While the actual output provides the legal age and exceptions, it is overly complex and may confuse someone without legal knowledge, making it less accessible than the expected output.\"\n",
      "                }\n",
      "            }\n",
      "        },\n",
      "        {\n",
      "            \"query\": \"În ce condiții poate fi încheiat un contract de vânzare-cumpărare și care sunt excepțiile de la forma scrisă?\",\n",
      "            \"expected\": \"Contractul de vânzare-cumpărare se încheie prin acordul părților asupra lucrului și prețului. Contractul trebuie să fie în formă scrisă pentru bunurile imobile, pentru bunurile mobile cu valoarea peste o anumită sumă stabilită prin lege și pentru bunurile viitoare. Forma scrisă nu este obligatorie pentru bunurile mobile de valoare mică, pentru vânzările în cadrul activităților comerciale curente cu plată pe loc, sau când legea prevede expres alte forme de încheierie.\",\n",
      "            \"actual\": \"În ce condiții poate fi încheiat un contract de vânzare-cumpărare și care sunt excepțiile de la forma scrisă?\\n\\nRăspuns: Un contract de vânzare-cumpărare poate fi încheiat atât verbal, cât și în formă scrisă. Cu toate acestea, există unele condiții speciale pentru care se aplică forma scrisă. Contractul trebuie să fie redactat de către un notar public sau să conțină elementele esențiale ale contractului și datele cu privire la părți. Forma scrisă este necesară în cazul în care prețul vânzării nu poate fi determinat (de exemplu, obiecte neidentificate), iar contractul prevede că părțile sunt de acord ca orice litigiu să fie soluționat prin arbitraj. Exemplele de astfel de excepții includ contractele privind bunurile mobiliare, datoriile născute din raporturile juridice și contractul de consignație (când un comerciant își încredințează mărfurile unui comisionar pentru a le vinde).\",\n",
      "            \"metrics\": {\n",
      "                \"Answer Relevancy\": {\n",
      "                    \"score\": 1.0,\n",
      "                    \"success\": true,\n",
      "                    \"reason\": \"The score is 1.00 because the response perfectly addresses the input question without any irrelevant statements, providing clear and concise information about the conditions and exceptions for a sales contract.\"\n",
      "                },\n",
      "                \"Contextual Recall\": {\n",
      "                    \"score\": 0.3333333333333333,\n",
      "                    \"success\": false,\n",
      "                    \"reason\": \"The score is 0.33 because only the requirement for a written form for certain goods (sentence 2) aligns with the 1st node in the retrieval context. However, the agreement on object and price (sentence 1) and exceptions for small value goods (sentence 4) are not supported by any nodes in the retrieval context.\"\n",
      "                },\n",
      "                \"Faithfulness\": {\n",
      "                    \"score\": 0.6666666666666666,\n",
      "                    \"success\": false,\n",
      "                    \"reason\": \"The score is 0.67 because the actual output incorrectly implies that a sale-purchase contract can be concluded verbally, which is not supported by the retrieval context. Additionally, it fails to address the exceptions to the written form for certain contracts, which are also not mentioned in the retrieval context.\"\n",
      "                },\n",
      "                \"Understanding (GEval)\": {\n",
      "                    \"score\": 0.4917897303602988,\n",
      "                    \"success\": false,\n",
      "                    \"reason\": \"The response provides some clarity on the conditions for a sales contract but lacks a clear distinction of what the user is allowed or required to do, making it less accessible for someone without legal knowledge.\"\n",
      "                }\n",
      "            }\n",
      "        },\n",
      "        {\n",
      "            \"query\": \"Care sunt drepturile și obligațiile părților în cazul unei concedieri individuale pentru motive care nu țin de persoana salariatului?\",\n",
      "            \"expected\": \"În cazul concedierii pentru motive care nu țin de persoana salariatului, angajatorul trebuie să respecte proceduri stricte și să asigure drepturi specifice salariatului. Concedierea este permisă doar pentru desființarea locului de muncă din motive economice, tehnologice, structurale sau similare. Angajatorul are obligația să acorde un preaviz de minimum 20 de zile lucrătoare și să respecte criterii obiective de selecție (performanțe profesionale, vechime, sarcini de întreținere).\",\n",
      "            \"actual\": \"Întrebarea utilizatorului este:  \\nCare sunt drepturile și obligațiile părților în cazul unei concedieri individuale pentru motive care nu țin de persoana salariatului?\\n\\nInformațiile disponibile sunt:  \\nConcedierea reprezinta incetarea contractului individual de munca din initiativa angajatorului. \\n(2) Concedierea poate fi dispusa pentru motive care tin de persoana salariatului sau pentru motive care nu tin de \\npersoana salariatului.\\n\\nConcedierea pentru motive care nu tin de persoana salariatului reprezinta incetarea contractului individual de \\nmunca determinata de desfiintarea locului de munca ocupat de salariat, din unul sau mai multe motive fara \\nlegatura cu persoana acestuia. \\n(2) Desfiintarea locului de munca trebuie sa fie efectiva si sa aiba o cauza reala si serioasa.\",\n",
      "            \"metrics\": {\n",
      "                \"Answer Relevancy\": {\n",
      "                    \"score\": 1.0,\n",
      "                    \"success\": true,\n",
      "                    \"reason\": \"The score is 1.00 because the response perfectly addresses the question about the rights and obligations of parties in the case of an individual dismissal for reasons not related to the employee. There are no irrelevant statements, making the answer fully relevant and comprehensive.\"\n",
      "                },\n",
      "                \"Contextual Recall\": {\n",
      "                    \"score\": 0.6666666666666666,\n",
      "                    \"success\": false,\n",
      "                    \"reason\": \"The score is 0.67 because while the retrieval context supports the general concept of dismissal for reasons unrelated to the employee (node 2), it lacks specific details about the 20-day notice and objective selection criteria, which are crucial elements in the expected output.\"\n",
      "                },\n",
      "                \"Faithfulness\": {\n",
      "                    \"score\": 1.0,\n",
      "                    \"success\": true,\n",
      "                    \"reason\": \"The score is 1.00 because there are no contradictions present, indicating that the actual output aligns perfectly with the retrieval context.\"\n",
      "                },\n",
      "                \"Understanding (GEval)\": {\n",
      "                    \"score\": 0.40546406610010627,\n",
      "                    \"success\": false,\n",
      "                    \"reason\": \"The actual output provides some information about termination but lacks clarity and specific guidance on rights and obligations, making it difficult for a layperson to understand what actions they can take.\"\n",
      "                }\n",
      "            }\n",
      "        }\n",
      "    ]\n",
      "}\n"
     ]
    }
   ],
   "source": [
    "prompt_v6 = \"\"\" \n",
    "Ești un ghid juridic virtual. Scopul tău este să explici legea în limba română într-un mod clar, concis și accesibil oricărui cetățean, fără a folosi termeni tehnici sau limbaj complicat.\n",
    "\n",
    "Respectă cu strictețe următoarele reguli:\n",
    " - Scrie propoziții scurte, clare și ușor de înțeles. Evită frazele lungi și ambigue.\n",
    " - Nu folosi termeni juridici specializați. Dacă apar în context, explică-i simplu.\n",
    " - **Folosește doar informațiile din context. Nu adăuga cunoștințe proprii, presupuneri sau generalizări.**\n",
    " - **Verifică fiecare afirmație: este clar susținută de context? Dacă nu, nu o include.**\n",
    " - Dacă informația necesară nu se găsește în context, scrie exact: **„Nu am putut genera un răspuns.”**\n",
    " - Nu cita articole de lege, nu menționa surse și nu include numere de articole.\n",
    " - Răspunsul trebuie să fie scurt, complet și fără comentarii inutile.\n",
    " - Păstrează un ton politicos, neutru și prietenos. Nu oferi sfaturi legale personalizate.\n",
    "\n",
    "IMPORTANT: Nu încerca să umpli goluri cu logică sau experiență anterioară. Fii fidel documentelor din context.  \n",
    "\n",
    "---\n",
    "\n",
    "Uite două exemple de întrebări și răspunsuri pentru a înțelege ce se așteaptă:\n",
    "\n",
    "Exemplu bun:  \n",
    "Întrebare: Ce protecție oferă statul român cetățenilor săi aflați în afara țării?  \n",
    "Răspuns: Cetățenii români aflați în străinătate beneficiază de protecția statului român. Ei trebuie să-și respecte obligațiile, cu excepția celor care nu pot fi îndeplinite din cauza absenței din țară.\n",
    "\n",
    "Exemplu greșit:  \n",
    "Întrebare: Ce drepturi are un chiriaș?  \n",
    "Răspuns: În general, chiriașii au dreptul la o locuință decentă, iar proprietarul nu are voie să-i deranjeze. Dacă ceva nu merge bine, e suficient ca chiriașul să notifice proprietarul pentru a pleca.  \n",
    "(Motive: răspunsul este vag, incomplet și conține informații care nu sunt în contextul oferit.)\n",
    "---\n",
    "\n",
    "Întrebarea utilizatorului este:  \n",
    "{question}\n",
    "\n",
    "Informațiile disponibile sunt:  \n",
    "{context}\n",
    "\n",
    "Scrie răspunsul în limba română. Acesta trebuie să fie clar, politicos și ușor de înțeles. Rămâi strict la informațiile din context.\n",
    "\"\"\"\n",
    "\n",
    "model_results = start_testing(models_list, tests_list, prompt_v6)\n",
    "\n",
    "for model_name, model_result_list in model_results.items():\n",
    "    print(f\"Evaluating model: {model_name}\")\n",
    "    results_summary = analyze_model_results(model_result_list)\n",
    "    print(json.dumps(results_summary, indent=4, ensure_ascii=False))"
   ]
  },
  {
   "cell_type": "code",
   "execution_count": 17,
   "id": "3a47d787",
   "metadata": {},
   "outputs": [
    {
     "name": "stdout",
     "output_type": "stream",
     "text": [
      "Running tests for query: Cât timp poate fi reținută o persoană înainte de a fi arestată?\n",
      "Using model: rollama3-8b-instruct\n"
     ]
    },
    {
     "data": {
      "text/html": [
       "<pre style=\"white-space:pre;overflow-x:auto;line-height:normal;font-family:Menlo,'DejaVu Sans Mono',consolas,'Courier New',monospace\">\n",
       "<span style=\"color: #05f58d; text-decoration-color: #05f58d\">✓</span> Tests finished 🎉! Run <span style=\"color: #008000; text-decoration-color: #008000; font-weight: bold\">'deepeval login'</span> to save and analyze evaluation results on Confident AI.\n",
       " \n",
       "✨👀 Looking for a place for your LLM test data to live 🏡❤️ ? Use <span style=\"color: #6a00ff; text-decoration-color: #6a00ff\">Confident AI</span> to get &amp; share testing reports, \n",
       "experiment with models/prompts, and catch regressions for your LLM system. Just run <span style=\"color: #008080; text-decoration-color: #008080\">'deepeval login'</span> in the CLI. \n",
       "\n",
       "</pre>\n"
      ],
      "text/plain": [
       "\n",
       "\u001b[38;2;5;245;141m✓\u001b[0m Tests finished 🎉! Run \u001b[1;32m'deepeval login'\u001b[0m to save and analyze evaluation results on Confident AI.\n",
       " \n",
       "✨👀 Looking for a place for your LLM test data to live 🏡❤️ ? Use \u001b[38;2;106;0;255mConfident AI\u001b[0m to get & share testing reports, \n",
       "experiment with models/prompts, and catch regressions for your LLM system. Just run \u001b[36m'deepeval login'\u001b[0m in the CLI. \n",
       "\n"
      ]
     },
     "metadata": {},
     "output_type": "display_data"
    },
    {
     "data": {
      "text/html": [
       "<pre style=\"white-space:pre;overflow-x:auto;line-height:normal;font-family:Menlo,'DejaVu Sans Mono',consolas,'Courier New',monospace\">\n",
       "<span style=\"color: #05f58d; text-decoration-color: #05f58d\">✓</span> Tests finished 🎉! Run <span style=\"color: #008000; text-decoration-color: #008000; font-weight: bold\">'deepeval login'</span> to save and analyze evaluation results on Confident AI.\n",
       " \n",
       "✨👀 Looking for a place for your LLM test data to live 🏡❤️ ? Use <span style=\"color: #6a00ff; text-decoration-color: #6a00ff\">Confident AI</span> to get &amp; share testing reports, \n",
       "experiment with models/prompts, and catch regressions for your LLM system. Just run <span style=\"color: #008080; text-decoration-color: #008080\">'deepeval login'</span> in the CLI. \n",
       "\n",
       "</pre>\n"
      ],
      "text/plain": [
       "\n",
       "\u001b[38;2;5;245;141m✓\u001b[0m Tests finished 🎉! Run \u001b[1;32m'deepeval login'\u001b[0m to save and analyze evaluation results on Confident AI.\n",
       " \n",
       "✨👀 Looking for a place for your LLM test data to live 🏡❤️ ? Use \u001b[38;2;106;0;255mConfident AI\u001b[0m to get & share testing reports, \n",
       "experiment with models/prompts, and catch regressions for your LLM system. Just run \u001b[36m'deepeval login'\u001b[0m in the CLI. \n",
       "\n"
      ]
     },
     "metadata": {},
     "output_type": "display_data"
    },
    {
     "data": {
      "text/html": [
       "<pre style=\"white-space:pre;overflow-x:auto;line-height:normal;font-family:Menlo,'DejaVu Sans Mono',consolas,'Courier New',monospace\">\n",
       "<span style=\"color: #05f58d; text-decoration-color: #05f58d\">✓</span> Tests finished 🎉! Run <span style=\"color: #008000; text-decoration-color: #008000; font-weight: bold\">'deepeval login'</span> to save and analyze evaluation results on Confident AI.\n",
       " \n",
       "✨👀 Looking for a place for your LLM test data to live 🏡❤️ ? Use <span style=\"color: #6a00ff; text-decoration-color: #6a00ff\">Confident AI</span> to get &amp; share testing reports, \n",
       "experiment with models/prompts, and catch regressions for your LLM system. Just run <span style=\"color: #008080; text-decoration-color: #008080\">'deepeval login'</span> in the CLI. \n",
       "\n",
       "</pre>\n"
      ],
      "text/plain": [
       "\n",
       "\u001b[38;2;5;245;141m✓\u001b[0m Tests finished 🎉! Run \u001b[1;32m'deepeval login'\u001b[0m to save and analyze evaluation results on Confident AI.\n",
       " \n",
       "✨👀 Looking for a place for your LLM test data to live 🏡❤️ ? Use \u001b[38;2;106;0;255mConfident AI\u001b[0m to get & share testing reports, \n",
       "experiment with models/prompts, and catch regressions for your LLM system. Just run \u001b[36m'deepeval login'\u001b[0m in the CLI. \n",
       "\n"
      ]
     },
     "metadata": {},
     "output_type": "display_data"
    },
    {
     "data": {
      "text/html": [
       "<pre style=\"white-space:pre;overflow-x:auto;line-height:normal;font-family:Menlo,'DejaVu Sans Mono',consolas,'Courier New',monospace\">\n",
       "<span style=\"color: #05f58d; text-decoration-color: #05f58d\">✓</span> Tests finished 🎉! Run <span style=\"color: #008000; text-decoration-color: #008000; font-weight: bold\">'deepeval login'</span> to save and analyze evaluation results on Confident AI.\n",
       " \n",
       "✨👀 Looking for a place for your LLM test data to live 🏡❤️ ? Use <span style=\"color: #6a00ff; text-decoration-color: #6a00ff\">Confident AI</span> to get &amp; share testing reports, \n",
       "experiment with models/prompts, and catch regressions for your LLM system. Just run <span style=\"color: #008080; text-decoration-color: #008080\">'deepeval login'</span> in the CLI. \n",
       "\n",
       "</pre>\n"
      ],
      "text/plain": [
       "\n",
       "\u001b[38;2;5;245;141m✓\u001b[0m Tests finished 🎉! Run \u001b[1;32m'deepeval login'\u001b[0m to save and analyze evaluation results on Confident AI.\n",
       " \n",
       "✨👀 Looking for a place for your LLM test data to live 🏡❤️ ? Use \u001b[38;2;106;0;255mConfident AI\u001b[0m to get & share testing reports, \n",
       "experiment with models/prompts, and catch regressions for your LLM system. Just run \u001b[36m'deepeval login'\u001b[0m in the CLI. \n",
       "\n"
      ]
     },
     "metadata": {},
     "output_type": "display_data"
    },
    {
     "data": {
      "text/html": [
       "<pre style=\"white-space:pre;overflow-x:auto;line-height:normal;font-family:Menlo,'DejaVu Sans Mono',consolas,'Courier New',monospace\">\n",
       "<span style=\"color: #05f58d; text-decoration-color: #05f58d\">✓</span> Tests finished 🎉! Run <span style=\"color: #008000; text-decoration-color: #008000; font-weight: bold\">'deepeval login'</span> to save and analyze evaluation results on Confident AI.\n",
       " \n",
       "✨👀 Looking for a place for your LLM test data to live 🏡❤️ ? Use <span style=\"color: #6a00ff; text-decoration-color: #6a00ff\">Confident AI</span> to get &amp; share testing reports, \n",
       "experiment with models/prompts, and catch regressions for your LLM system. Just run <span style=\"color: #008080; text-decoration-color: #008080\">'deepeval login'</span> in the CLI. \n",
       "\n",
       "</pre>\n"
      ],
      "text/plain": [
       "\n",
       "\u001b[38;2;5;245;141m✓\u001b[0m Tests finished 🎉! Run \u001b[1;32m'deepeval login'\u001b[0m to save and analyze evaluation results on Confident AI.\n",
       " \n",
       "✨👀 Looking for a place for your LLM test data to live 🏡❤️ ? Use \u001b[38;2;106;0;255mConfident AI\u001b[0m to get & share testing reports, \n",
       "experiment with models/prompts, and catch regressions for your LLM system. Just run \u001b[36m'deepeval login'\u001b[0m in the CLI. \n",
       "\n"
      ]
     },
     "metadata": {},
     "output_type": "display_data"
    },
    {
     "name": "stdout",
     "output_type": "stream",
     "text": [
      "\n",
      "            Query: Cât timp poate fi reținută o persoană înainte de a fi arestată?\n",
      "            Expected: Reținerea nu poate depăși 24 de ore. După acest termen, persoana trebuie eliberată sau arestată preventiv prin decizia unui judecător.\n",
      "            Actual: O persoană poate fi reținută timp de maximum 24 de ore înainte de a putea fi arestată. Reținerea trebuie să respecte procedura legală și nu se prelungește peste perioada permisă. Dacă aceasta are loc, trebuie să existe un motiv pentru care persoana este considerată o amenințare pentru bunurile sale sau siguranța publică.\n",
      "            Relevancy Score: [{'metric': 'Answer Relevancy', 'success': True, 'score': 1.0, 'reason': 'The score is 1.00 because the response is perfectly relevant and directly addresses the question about the duration a person can be detained before being arrested. Great job on providing a clear and concise answer!'}]\n",
      "            Recall Score: [{'metric': 'Contextual Recall', 'success': True, 'score': 1.0, 'reason': 'The score is 1.00 because every sentence in the expected output is perfectly aligned with the nodes in the retrieval context, ensuring complete accuracy and relevance. Great job!'}]\n",
      "            Faithfulness Score: [{'metric': 'Faithfulness', 'success': False, 'score': 0.6666666666666666, 'reason': 'The score is 0.67 because the actual output implies a necessity for a reason to classify reținut as a threat, which contradicts the retrieval context that allows reținerea under legal procedures without such a requirement.'}]\n",
      "            Understanding Score: [{'metric': 'Understanding (GEval)', 'success': True, 'score': 0.6386692441902526, 'reason': 'While the actual output provides some clarity on the maximum retention time and legal procedures, it lacks the concise and direct nature of the expected output, which may hinder understanding for someone without legal knowledge.'}]\n",
      "            Toxicity Score: [{'metric': 'Toxicity (GEval)', 'success': True, 'score': 0.9999999999999998, 'reason': 'The response is informative and does not contain any offensive or inappropriate language.'}]\n",
      "            \n",
      "Using model: rollama2-7b-instruct\n"
     ]
    },
    {
     "data": {
      "text/html": [
       "<pre style=\"white-space:pre;overflow-x:auto;line-height:normal;font-family:Menlo,'DejaVu Sans Mono',consolas,'Courier New',monospace\">\n",
       "<span style=\"color: #05f58d; text-decoration-color: #05f58d\">✓</span> Tests finished 🎉! Run <span style=\"color: #008000; text-decoration-color: #008000; font-weight: bold\">'deepeval login'</span> to save and analyze evaluation results on Confident AI.\n",
       " \n",
       "✨👀 Looking for a place for your LLM test data to live 🏡❤️ ? Use <span style=\"color: #6a00ff; text-decoration-color: #6a00ff\">Confident AI</span> to get &amp; share testing reports, \n",
       "experiment with models/prompts, and catch regressions for your LLM system. Just run <span style=\"color: #008080; text-decoration-color: #008080\">'deepeval login'</span> in the CLI. \n",
       "\n",
       "</pre>\n"
      ],
      "text/plain": [
       "\n",
       "\u001b[38;2;5;245;141m✓\u001b[0m Tests finished 🎉! Run \u001b[1;32m'deepeval login'\u001b[0m to save and analyze evaluation results on Confident AI.\n",
       " \n",
       "✨👀 Looking for a place for your LLM test data to live 🏡❤️ ? Use \u001b[38;2;106;0;255mConfident AI\u001b[0m to get & share testing reports, \n",
       "experiment with models/prompts, and catch regressions for your LLM system. Just run \u001b[36m'deepeval login'\u001b[0m in the CLI. \n",
       "\n"
      ]
     },
     "metadata": {},
     "output_type": "display_data"
    },
    {
     "data": {
      "text/html": [
       "<pre style=\"white-space:pre;overflow-x:auto;line-height:normal;font-family:Menlo,'DejaVu Sans Mono',consolas,'Courier New',monospace\">\n",
       "<span style=\"color: #05f58d; text-decoration-color: #05f58d\">✓</span> Tests finished 🎉! Run <span style=\"color: #008000; text-decoration-color: #008000; font-weight: bold\">'deepeval login'</span> to save and analyze evaluation results on Confident AI.\n",
       " \n",
       "✨👀 Looking for a place for your LLM test data to live 🏡❤️ ? Use <span style=\"color: #6a00ff; text-decoration-color: #6a00ff\">Confident AI</span> to get &amp; share testing reports, \n",
       "experiment with models/prompts, and catch regressions for your LLM system. Just run <span style=\"color: #008080; text-decoration-color: #008080\">'deepeval login'</span> in the CLI. \n",
       "\n",
       "</pre>\n"
      ],
      "text/plain": [
       "\n",
       "\u001b[38;2;5;245;141m✓\u001b[0m Tests finished 🎉! Run \u001b[1;32m'deepeval login'\u001b[0m to save and analyze evaluation results on Confident AI.\n",
       " \n",
       "✨👀 Looking for a place for your LLM test data to live 🏡❤️ ? Use \u001b[38;2;106;0;255mConfident AI\u001b[0m to get & share testing reports, \n",
       "experiment with models/prompts, and catch regressions for your LLM system. Just run \u001b[36m'deepeval login'\u001b[0m in the CLI. \n",
       "\n"
      ]
     },
     "metadata": {},
     "output_type": "display_data"
    },
    {
     "data": {
      "text/html": [
       "<pre style=\"white-space:pre;overflow-x:auto;line-height:normal;font-family:Menlo,'DejaVu Sans Mono',consolas,'Courier New',monospace\">\n",
       "<span style=\"color: #05f58d; text-decoration-color: #05f58d\">✓</span> Tests finished 🎉! Run <span style=\"color: #008000; text-decoration-color: #008000; font-weight: bold\">'deepeval login'</span> to save and analyze evaluation results on Confident AI.\n",
       " \n",
       "✨👀 Looking for a place for your LLM test data to live 🏡❤️ ? Use <span style=\"color: #6a00ff; text-decoration-color: #6a00ff\">Confident AI</span> to get &amp; share testing reports, \n",
       "experiment with models/prompts, and catch regressions for your LLM system. Just run <span style=\"color: #008080; text-decoration-color: #008080\">'deepeval login'</span> in the CLI. \n",
       "\n",
       "</pre>\n"
      ],
      "text/plain": [
       "\n",
       "\u001b[38;2;5;245;141m✓\u001b[0m Tests finished 🎉! Run \u001b[1;32m'deepeval login'\u001b[0m to save and analyze evaluation results on Confident AI.\n",
       " \n",
       "✨👀 Looking for a place for your LLM test data to live 🏡❤️ ? Use \u001b[38;2;106;0;255mConfident AI\u001b[0m to get & share testing reports, \n",
       "experiment with models/prompts, and catch regressions for your LLM system. Just run \u001b[36m'deepeval login'\u001b[0m in the CLI. \n",
       "\n"
      ]
     },
     "metadata": {},
     "output_type": "display_data"
    },
    {
     "data": {
      "text/html": [
       "<pre style=\"white-space:pre;overflow-x:auto;line-height:normal;font-family:Menlo,'DejaVu Sans Mono',consolas,'Courier New',monospace\">\n",
       "<span style=\"color: #05f58d; text-decoration-color: #05f58d\">✓</span> Tests finished 🎉! Run <span style=\"color: #008000; text-decoration-color: #008000; font-weight: bold\">'deepeval login'</span> to save and analyze evaluation results on Confident AI.\n",
       " \n",
       "✨👀 Looking for a place for your LLM test data to live 🏡❤️ ? Use <span style=\"color: #6a00ff; text-decoration-color: #6a00ff\">Confident AI</span> to get &amp; share testing reports, \n",
       "experiment with models/prompts, and catch regressions for your LLM system. Just run <span style=\"color: #008080; text-decoration-color: #008080\">'deepeval login'</span> in the CLI. \n",
       "\n",
       "</pre>\n"
      ],
      "text/plain": [
       "\n",
       "\u001b[38;2;5;245;141m✓\u001b[0m Tests finished 🎉! Run \u001b[1;32m'deepeval login'\u001b[0m to save and analyze evaluation results on Confident AI.\n",
       " \n",
       "✨👀 Looking for a place for your LLM test data to live 🏡❤️ ? Use \u001b[38;2;106;0;255mConfident AI\u001b[0m to get & share testing reports, \n",
       "experiment with models/prompts, and catch regressions for your LLM system. Just run \u001b[36m'deepeval login'\u001b[0m in the CLI. \n",
       "\n"
      ]
     },
     "metadata": {},
     "output_type": "display_data"
    },
    {
     "data": {
      "text/html": [
       "<pre style=\"white-space:pre;overflow-x:auto;line-height:normal;font-family:Menlo,'DejaVu Sans Mono',consolas,'Courier New',monospace\">\n",
       "<span style=\"color: #05f58d; text-decoration-color: #05f58d\">✓</span> Tests finished 🎉! Run <span style=\"color: #008000; text-decoration-color: #008000; font-weight: bold\">'deepeval login'</span> to save and analyze evaluation results on Confident AI.\n",
       " \n",
       "✨👀 Looking for a place for your LLM test data to live 🏡❤️ ? Use <span style=\"color: #6a00ff; text-decoration-color: #6a00ff\">Confident AI</span> to get &amp; share testing reports, \n",
       "experiment with models/prompts, and catch regressions for your LLM system. Just run <span style=\"color: #008080; text-decoration-color: #008080\">'deepeval login'</span> in the CLI. \n",
       "\n",
       "</pre>\n"
      ],
      "text/plain": [
       "\n",
       "\u001b[38;2;5;245;141m✓\u001b[0m Tests finished 🎉! Run \u001b[1;32m'deepeval login'\u001b[0m to save and analyze evaluation results on Confident AI.\n",
       " \n",
       "✨👀 Looking for a place for your LLM test data to live 🏡❤️ ? Use \u001b[38;2;106;0;255mConfident AI\u001b[0m to get & share testing reports, \n",
       "experiment with models/prompts, and catch regressions for your LLM system. Just run \u001b[36m'deepeval login'\u001b[0m in the CLI. \n",
       "\n"
      ]
     },
     "metadata": {},
     "output_type": "display_data"
    },
    {
     "name": "stdout",
     "output_type": "stream",
     "text": [
      "\n",
      "            Query: Cât timp poate fi reținută o persoană înainte de a fi arestată?\n",
      "            Expected: Reținerea nu poate depăși 24 de ore. După acest termen, persoana trebuie eliberată sau arestată preventiv prin decizia unui judecător.\n",
      "            Actual: Până la rămânerea definitivă a hotărârii judecătoreşti de condamnare, persoana este considerată nevinovată. Nici o pedeapsă nu poate fi stabilită sau aplicată decât în condițiile și în temeiul legii.\n",
      "(2) De la prevederile alineatului (1) se poate deroga prin lege pentru următoarele situații:\n",
      "a) executarea unui mandat de arestare sau a unei hotărâri judecătorești;\n",
      "b) înlăturarea unei primejdii privind viaţa, integritatea fizică sau bunurile unei persoane;\n",
      "c) apărarea securităţii naţionale sau a ordinii publice;\n",
      "d) prevenirea răspândirii unei epidemii. \n",
      "            Relevancy Score: [{'metric': 'Answer Relevancy', 'success': False, 'score': 0.6666666666666666, 'reason': 'The score is 0.67 because the response partially addresses the question about the duration a person can be detained before arrest. However, it includes irrelevant statements about the presumption of innocence and the application of penalties, which do not directly answer the query.'}]\n",
      "            Recall Score: [{'metric': 'Contextual Recall', 'success': True, 'score': 1.0, 'reason': 'The score is 1.00 because every sentence in the expected output is perfectly aligned with the nodes in the retrieval context, ensuring complete accuracy and relevance. Great job!'}]\n",
      "            Faithfulness Score: [{'metric': 'Faithfulness', 'success': False, 'score': 0.3333333333333333, 'reason': 'The score is 0.33 because the actual output contradicts the retrieval context by suggesting that exceptions to individual rights can be made for various reasons, such as executing an arrest warrant, removing threats, national security, or public health, while the context firmly states that individual liberty and personal safety are inviolable.'}]\n",
      "            Understanding Score: [{'metric': 'Understanding (GEval)', 'success': False, 'score': 0.222270012850746, 'reason': 'The actual output provides legal context but does not clearly state the maximum time a person can be detained, which is essential for user understanding.'}]\n",
      "            Toxicity Score: [{'metric': 'Toxicity (GEval)', 'success': True, 'score': 1.0, 'reason': 'The response is informative and does not contain any offensive, inappropriate, or discriminatory language.'}]\n",
      "            \n",
      "Finished tests for model: rollama2-7b-instruct\n",
      "\n",
      "==================================================\n",
      "\n",
      "\n",
      "Running tests for query: Care sunt drepturile cetățeanului român?\n",
      "Using model: rollama3-8b-instruct\n"
     ]
    },
    {
     "data": {
      "text/html": [
       "<pre style=\"white-space:pre;overflow-x:auto;line-height:normal;font-family:Menlo,'DejaVu Sans Mono',consolas,'Courier New',monospace\">\n",
       "<span style=\"color: #05f58d; text-decoration-color: #05f58d\">✓</span> Tests finished 🎉! Run <span style=\"color: #008000; text-decoration-color: #008000; font-weight: bold\">'deepeval login'</span> to save and analyze evaluation results on Confident AI.\n",
       " \n",
       "✨👀 Looking for a place for your LLM test data to live 🏡❤️ ? Use <span style=\"color: #6a00ff; text-decoration-color: #6a00ff\">Confident AI</span> to get &amp; share testing reports, \n",
       "experiment with models/prompts, and catch regressions for your LLM system. Just run <span style=\"color: #008080; text-decoration-color: #008080\">'deepeval login'</span> in the CLI. \n",
       "\n",
       "</pre>\n"
      ],
      "text/plain": [
       "\n",
       "\u001b[38;2;5;245;141m✓\u001b[0m Tests finished 🎉! Run \u001b[1;32m'deepeval login'\u001b[0m to save and analyze evaluation results on Confident AI.\n",
       " \n",
       "✨👀 Looking for a place for your LLM test data to live 🏡❤️ ? Use \u001b[38;2;106;0;255mConfident AI\u001b[0m to get & share testing reports, \n",
       "experiment with models/prompts, and catch regressions for your LLM system. Just run \u001b[36m'deepeval login'\u001b[0m in the CLI. \n",
       "\n"
      ]
     },
     "metadata": {},
     "output_type": "display_data"
    },
    {
     "data": {
      "text/html": [
       "<pre style=\"white-space:pre;overflow-x:auto;line-height:normal;font-family:Menlo,'DejaVu Sans Mono',consolas,'Courier New',monospace\">\n",
       "<span style=\"color: #05f58d; text-decoration-color: #05f58d\">✓</span> Tests finished 🎉! Run <span style=\"color: #008000; text-decoration-color: #008000; font-weight: bold\">'deepeval login'</span> to save and analyze evaluation results on Confident AI.\n",
       " \n",
       "✨👀 Looking for a place for your LLM test data to live 🏡❤️ ? Use <span style=\"color: #6a00ff; text-decoration-color: #6a00ff\">Confident AI</span> to get &amp; share testing reports, \n",
       "experiment with models/prompts, and catch regressions for your LLM system. Just run <span style=\"color: #008080; text-decoration-color: #008080\">'deepeval login'</span> in the CLI. \n",
       "\n",
       "</pre>\n"
      ],
      "text/plain": [
       "\n",
       "\u001b[38;2;5;245;141m✓\u001b[0m Tests finished 🎉! Run \u001b[1;32m'deepeval login'\u001b[0m to save and analyze evaluation results on Confident AI.\n",
       " \n",
       "✨👀 Looking for a place for your LLM test data to live 🏡❤️ ? Use \u001b[38;2;106;0;255mConfident AI\u001b[0m to get & share testing reports, \n",
       "experiment with models/prompts, and catch regressions for your LLM system. Just run \u001b[36m'deepeval login'\u001b[0m in the CLI. \n",
       "\n"
      ]
     },
     "metadata": {},
     "output_type": "display_data"
    },
    {
     "data": {
      "text/html": [
       "<pre style=\"white-space:pre;overflow-x:auto;line-height:normal;font-family:Menlo,'DejaVu Sans Mono',consolas,'Courier New',monospace\">\n",
       "<span style=\"color: #05f58d; text-decoration-color: #05f58d\">✓</span> Tests finished 🎉! Run <span style=\"color: #008000; text-decoration-color: #008000; font-weight: bold\">'deepeval login'</span> to save and analyze evaluation results on Confident AI.\n",
       " \n",
       "✨👀 Looking for a place for your LLM test data to live 🏡❤️ ? Use <span style=\"color: #6a00ff; text-decoration-color: #6a00ff\">Confident AI</span> to get &amp; share testing reports, \n",
       "experiment with models/prompts, and catch regressions for your LLM system. Just run <span style=\"color: #008080; text-decoration-color: #008080\">'deepeval login'</span> in the CLI. \n",
       "\n",
       "</pre>\n"
      ],
      "text/plain": [
       "\n",
       "\u001b[38;2;5;245;141m✓\u001b[0m Tests finished 🎉! Run \u001b[1;32m'deepeval login'\u001b[0m to save and analyze evaluation results on Confident AI.\n",
       " \n",
       "✨👀 Looking for a place for your LLM test data to live 🏡❤️ ? Use \u001b[38;2;106;0;255mConfident AI\u001b[0m to get & share testing reports, \n",
       "experiment with models/prompts, and catch regressions for your LLM system. Just run \u001b[36m'deepeval login'\u001b[0m in the CLI. \n",
       "\n"
      ]
     },
     "metadata": {},
     "output_type": "display_data"
    },
    {
     "data": {
      "text/html": [
       "<pre style=\"white-space:pre;overflow-x:auto;line-height:normal;font-family:Menlo,'DejaVu Sans Mono',consolas,'Courier New',monospace\">\n",
       "<span style=\"color: #05f58d; text-decoration-color: #05f58d\">✓</span> Tests finished 🎉! Run <span style=\"color: #008000; text-decoration-color: #008000; font-weight: bold\">'deepeval login'</span> to save and analyze evaluation results on Confident AI.\n",
       " \n",
       "✨👀 Looking for a place for your LLM test data to live 🏡❤️ ? Use <span style=\"color: #6a00ff; text-decoration-color: #6a00ff\">Confident AI</span> to get &amp; share testing reports, \n",
       "experiment with models/prompts, and catch regressions for your LLM system. Just run <span style=\"color: #008080; text-decoration-color: #008080\">'deepeval login'</span> in the CLI. \n",
       "\n",
       "</pre>\n"
      ],
      "text/plain": [
       "\n",
       "\u001b[38;2;5;245;141m✓\u001b[0m Tests finished 🎉! Run \u001b[1;32m'deepeval login'\u001b[0m to save and analyze evaluation results on Confident AI.\n",
       " \n",
       "✨👀 Looking for a place for your LLM test data to live 🏡❤️ ? Use \u001b[38;2;106;0;255mConfident AI\u001b[0m to get & share testing reports, \n",
       "experiment with models/prompts, and catch regressions for your LLM system. Just run \u001b[36m'deepeval login'\u001b[0m in the CLI. \n",
       "\n"
      ]
     },
     "metadata": {},
     "output_type": "display_data"
    },
    {
     "data": {
      "text/html": [
       "<pre style=\"white-space:pre;overflow-x:auto;line-height:normal;font-family:Menlo,'DejaVu Sans Mono',consolas,'Courier New',monospace\">\n",
       "<span style=\"color: #05f58d; text-decoration-color: #05f58d\">✓</span> Tests finished 🎉! Run <span style=\"color: #008000; text-decoration-color: #008000; font-weight: bold\">'deepeval login'</span> to save and analyze evaluation results on Confident AI.\n",
       " \n",
       "✨👀 Looking for a place for your LLM test data to live 🏡❤️ ? Use <span style=\"color: #6a00ff; text-decoration-color: #6a00ff\">Confident AI</span> to get &amp; share testing reports, \n",
       "experiment with models/prompts, and catch regressions for your LLM system. Just run <span style=\"color: #008080; text-decoration-color: #008080\">'deepeval login'</span> in the CLI. \n",
       "\n",
       "</pre>\n"
      ],
      "text/plain": [
       "\n",
       "\u001b[38;2;5;245;141m✓\u001b[0m Tests finished 🎉! Run \u001b[1;32m'deepeval login'\u001b[0m to save and analyze evaluation results on Confident AI.\n",
       " \n",
       "✨👀 Looking for a place for your LLM test data to live 🏡❤️ ? Use \u001b[38;2;106;0;255mConfident AI\u001b[0m to get & share testing reports, \n",
       "experiment with models/prompts, and catch regressions for your LLM system. Just run \u001b[36m'deepeval login'\u001b[0m in the CLI. \n",
       "\n"
      ]
     },
     "metadata": {},
     "output_type": "display_data"
    },
    {
     "name": "stdout",
     "output_type": "stream",
     "text": [
      "\n",
      "            Query: Care sunt drepturile cetățeanului român?\n",
      "            Expected: Cetățeanul român beneficiază de drepturi și libertăți fundamentale în toate domeniile vieții. Drepturile civile și politice includ dreptul la viață, libertatea individuală, dreptul la apărare, dreptul de vot de la 18 ani și eligibilitatea pentru funcții publice. Libertățile fundamentale cuprind libertatea gândirii și credinței religioase, libertatea de exprimare, dreptul la informație și dreptul de asociere în partide și sindicate. Drepturile economice și sociale garantează munca liber aleasă, greva, proprietatea privată, moștenirea, pensia și asistența medicală. În plus, cetățenii au dreptul la învățătură, acces la cultură, un mediu sănătos și protecția statului în străinătate.\n",
      "            Actual: Ca cetățean român, aveți drepturile fundamentale prevăzute în Constituția României, în Declarația Universală a Drepturilor Omului și în tratatele internaționale la care România este parte. Aceste drepturi includ: \n",
      "- Egalitate în fața legii\n",
      "- Nimeni nu se află mai presus de lege\n",
      "- Dreptul de a participa la alegerile publice\n",
      "- Garantarea egalității dintre femei și bărbați pentru ocupația funcțiilor și demnităților publice.\n",
      "\n",
      "Pentru o concluzie simplificată: Ca cetățean român, aveți drepturile prevăzute în Constituție.\n",
      "            Relevancy Score: [{'metric': 'Answer Relevancy', 'success': True, 'score': 1.0, 'reason': 'The score is 1.00 because the response perfectly addresses the question about the rights of a Romanian citizen without any irrelevant information. Great job on staying focused and relevant!'}]\n",
      "            Recall Score: [{'metric': 'Contextual Recall', 'success': False, 'score': 0.4, 'reason': 'The score is 0.40 because while the 1st and 2nd nodes in the retrieval context align with the initial sentences regarding fundamental rights and voting rights, the remaining sentences about religious freedom, economic and social rights, and cultural access lack direct support from the nodes.'}]\n",
      "            Faithfulness Score: [{'metric': 'Faithfulness', 'success': True, 'score': 1.0, 'reason': 'The score is 1.00 because there are no contradictions present, indicating that the actual output perfectly aligns with the retrieval context.'}]\n",
      "            Understanding Score: [{'metric': 'Understanding (GEval)', 'success': True, 'score': 0.5270828323711249, 'reason': 'The response outlines some rights of Romanian citizens but lacks clarity and comprehensiveness compared to the expected output, which details various rights across different domains.'}]\n",
      "            Toxicity Score: [{'metric': 'Toxicity (GEval)', 'success': True, 'score': 1.0, 'reason': 'The response is respectful, informative, and does not contain any offensive or inappropriate language.'}]\n",
      "            \n",
      "Using model: rollama2-7b-instruct\n"
     ]
    },
    {
     "data": {
      "text/html": [
       "<pre style=\"white-space:pre;overflow-x:auto;line-height:normal;font-family:Menlo,'DejaVu Sans Mono',consolas,'Courier New',monospace\">\n",
       "<span style=\"color: #05f58d; text-decoration-color: #05f58d\">✓</span> Tests finished 🎉! Run <span style=\"color: #008000; text-decoration-color: #008000; font-weight: bold\">'deepeval login'</span> to save and analyze evaluation results on Confident AI.\n",
       " \n",
       "✨👀 Looking for a place for your LLM test data to live 🏡❤️ ? Use <span style=\"color: #6a00ff; text-decoration-color: #6a00ff\">Confident AI</span> to get &amp; share testing reports, \n",
       "experiment with models/prompts, and catch regressions for your LLM system. Just run <span style=\"color: #008080; text-decoration-color: #008080\">'deepeval login'</span> in the CLI. \n",
       "\n",
       "</pre>\n"
      ],
      "text/plain": [
       "\n",
       "\u001b[38;2;5;245;141m✓\u001b[0m Tests finished 🎉! Run \u001b[1;32m'deepeval login'\u001b[0m to save and analyze evaluation results on Confident AI.\n",
       " \n",
       "✨👀 Looking for a place for your LLM test data to live 🏡❤️ ? Use \u001b[38;2;106;0;255mConfident AI\u001b[0m to get & share testing reports, \n",
       "experiment with models/prompts, and catch regressions for your LLM system. Just run \u001b[36m'deepeval login'\u001b[0m in the CLI. \n",
       "\n"
      ]
     },
     "metadata": {},
     "output_type": "display_data"
    },
    {
     "data": {
      "text/html": [
       "<pre style=\"white-space:pre;overflow-x:auto;line-height:normal;font-family:Menlo,'DejaVu Sans Mono',consolas,'Courier New',monospace\">\n",
       "<span style=\"color: #05f58d; text-decoration-color: #05f58d\">✓</span> Tests finished 🎉! Run <span style=\"color: #008000; text-decoration-color: #008000; font-weight: bold\">'deepeval login'</span> to save and analyze evaluation results on Confident AI.\n",
       " \n",
       "✨👀 Looking for a place for your LLM test data to live 🏡❤️ ? Use <span style=\"color: #6a00ff; text-decoration-color: #6a00ff\">Confident AI</span> to get &amp; share testing reports, \n",
       "experiment with models/prompts, and catch regressions for your LLM system. Just run <span style=\"color: #008080; text-decoration-color: #008080\">'deepeval login'</span> in the CLI. \n",
       "\n",
       "</pre>\n"
      ],
      "text/plain": [
       "\n",
       "\u001b[38;2;5;245;141m✓\u001b[0m Tests finished 🎉! Run \u001b[1;32m'deepeval login'\u001b[0m to save and analyze evaluation results on Confident AI.\n",
       " \n",
       "✨👀 Looking for a place for your LLM test data to live 🏡❤️ ? Use \u001b[38;2;106;0;255mConfident AI\u001b[0m to get & share testing reports, \n",
       "experiment with models/prompts, and catch regressions for your LLM system. Just run \u001b[36m'deepeval login'\u001b[0m in the CLI. \n",
       "\n"
      ]
     },
     "metadata": {},
     "output_type": "display_data"
    },
    {
     "data": {
      "text/html": [
       "<pre style=\"white-space:pre;overflow-x:auto;line-height:normal;font-family:Menlo,'DejaVu Sans Mono',consolas,'Courier New',monospace\">\n",
       "<span style=\"color: #05f58d; text-decoration-color: #05f58d\">✓</span> Tests finished 🎉! Run <span style=\"color: #008000; text-decoration-color: #008000; font-weight: bold\">'deepeval login'</span> to save and analyze evaluation results on Confident AI.\n",
       " \n",
       "✨👀 Looking for a place for your LLM test data to live 🏡❤️ ? Use <span style=\"color: #6a00ff; text-decoration-color: #6a00ff\">Confident AI</span> to get &amp; share testing reports, \n",
       "experiment with models/prompts, and catch regressions for your LLM system. Just run <span style=\"color: #008080; text-decoration-color: #008080\">'deepeval login'</span> in the CLI. \n",
       "\n",
       "</pre>\n"
      ],
      "text/plain": [
       "\n",
       "\u001b[38;2;5;245;141m✓\u001b[0m Tests finished 🎉! Run \u001b[1;32m'deepeval login'\u001b[0m to save and analyze evaluation results on Confident AI.\n",
       " \n",
       "✨👀 Looking for a place for your LLM test data to live 🏡❤️ ? Use \u001b[38;2;106;0;255mConfident AI\u001b[0m to get & share testing reports, \n",
       "experiment with models/prompts, and catch regressions for your LLM system. Just run \u001b[36m'deepeval login'\u001b[0m in the CLI. \n",
       "\n"
      ]
     },
     "metadata": {},
     "output_type": "display_data"
    },
    {
     "data": {
      "text/html": [
       "<pre style=\"white-space:pre;overflow-x:auto;line-height:normal;font-family:Menlo,'DejaVu Sans Mono',consolas,'Courier New',monospace\">\n",
       "<span style=\"color: #05f58d; text-decoration-color: #05f58d\">✓</span> Tests finished 🎉! Run <span style=\"color: #008000; text-decoration-color: #008000; font-weight: bold\">'deepeval login'</span> to save and analyze evaluation results on Confident AI.\n",
       " \n",
       "✨👀 Looking for a place for your LLM test data to live 🏡❤️ ? Use <span style=\"color: #6a00ff; text-decoration-color: #6a00ff\">Confident AI</span> to get &amp; share testing reports, \n",
       "experiment with models/prompts, and catch regressions for your LLM system. Just run <span style=\"color: #008080; text-decoration-color: #008080\">'deepeval login'</span> in the CLI. \n",
       "\n",
       "</pre>\n"
      ],
      "text/plain": [
       "\n",
       "\u001b[38;2;5;245;141m✓\u001b[0m Tests finished 🎉! Run \u001b[1;32m'deepeval login'\u001b[0m to save and analyze evaluation results on Confident AI.\n",
       " \n",
       "✨👀 Looking for a place for your LLM test data to live 🏡❤️ ? Use \u001b[38;2;106;0;255mConfident AI\u001b[0m to get & share testing reports, \n",
       "experiment with models/prompts, and catch regressions for your LLM system. Just run \u001b[36m'deepeval login'\u001b[0m in the CLI. \n",
       "\n"
      ]
     },
     "metadata": {},
     "output_type": "display_data"
    },
    {
     "data": {
      "text/html": [
       "<pre style=\"white-space:pre;overflow-x:auto;line-height:normal;font-family:Menlo,'DejaVu Sans Mono',consolas,'Courier New',monospace\">\n",
       "<span style=\"color: #05f58d; text-decoration-color: #05f58d\">✓</span> Tests finished 🎉! Run <span style=\"color: #008000; text-decoration-color: #008000; font-weight: bold\">'deepeval login'</span> to save and analyze evaluation results on Confident AI.\n",
       " \n",
       "✨👀 Looking for a place for your LLM test data to live 🏡❤️ ? Use <span style=\"color: #6a00ff; text-decoration-color: #6a00ff\">Confident AI</span> to get &amp; share testing reports, \n",
       "experiment with models/prompts, and catch regressions for your LLM system. Just run <span style=\"color: #008080; text-decoration-color: #008080\">'deepeval login'</span> in the CLI. \n",
       "\n",
       "</pre>\n"
      ],
      "text/plain": [
       "\n",
       "\u001b[38;2;5;245;141m✓\u001b[0m Tests finished 🎉! Run \u001b[1;32m'deepeval login'\u001b[0m to save and analyze evaluation results on Confident AI.\n",
       " \n",
       "✨👀 Looking for a place for your LLM test data to live 🏡❤️ ? Use \u001b[38;2;106;0;255mConfident AI\u001b[0m to get & share testing reports, \n",
       "experiment with models/prompts, and catch regressions for your LLM system. Just run \u001b[36m'deepeval login'\u001b[0m in the CLI. \n",
       "\n"
      ]
     },
     "metadata": {},
     "output_type": "display_data"
    },
    {
     "name": "stdout",
     "output_type": "stream",
     "text": [
      "\n",
      "            Query: Care sunt drepturile cetățeanului român?\n",
      "            Expected: Cetățeanul român beneficiază de drepturi și libertăți fundamentale în toate domeniile vieții. Drepturile civile și politice includ dreptul la viață, libertatea individuală, dreptul la apărare, dreptul de vot de la 18 ani și eligibilitatea pentru funcții publice. Libertățile fundamentale cuprind libertatea gândirii și credinței religioase, libertatea de exprimare, dreptul la informație și dreptul de asociere în partide și sindicate. Drepturile economice și sociale garantează munca liber aleasă, greva, proprietatea privată, moștenirea, pensia și asistența medicală. În plus, cetățenii au dreptul la învățătură, acces la cultură, un mediu sănătos și protecția statului în străinătate.\n",
      "            Actual: Cetățenii români au dreptul la un trai decent și nu pot fi deranjați fără consimțământul lor. Dacă ceva nu merge bine, e suficient ca chiriașul să notifice proprietarul pentru a pleca.\n",
      "            Relevancy Score: [{'metric': 'Answer Relevancy', 'success': False, 'score': 0.5, 'reason': \"The score is 0.50 because while the output does address some aspects of Romanian citizens' rights, it includes irrelevant information about tenant rights, which is not directly related to the question about general citizen rights. This mix of relevant and irrelevant content results in a balanced score.\"}]\n",
      "            Recall Score: [{'metric': 'Contextual Recall', 'success': False, 'score': 0.4, 'reason': 'The score is 0.40 because while the 1st and 2nd nodes in the retrieval context align with the initial sentences regarding constitutional rights and voting, the context lacks specific references to other fundamental freedoms, economic and social rights, and additional citizen rights mentioned in the expected output.'}]\n",
      "            Faithfulness Score: [{'metric': 'Faithfulness', 'success': True, 'score': 1.0, 'reason': 'The score is 1.00 because there are no contradictions present, indicating that the actual output perfectly aligns with the retrieval context.'}]\n",
      "            Understanding Score: [{'metric': 'Understanding (GEval)', 'success': False, 'score': 0.2320821300824607, 'reason': 'The actual output provides a vague description of rights but lacks clarity and comprehensiveness compared to the expected output, which details specific rights and freedoms of Romanian citizens.'}]\n",
      "            Toxicity Score: [{'metric': 'Toxicity (GEval)', 'success': True, 'score': 1.0, 'reason': \"The response is respectful and provides relevant information about citizens' rights without any offensive language or implications.\"}]\n",
      "            \n",
      "Finished tests for model: rollama2-7b-instruct\n",
      "\n",
      "==================================================\n",
      "\n",
      "\n",
      "Running tests for query: Ce obligație are angajatorul înainte de încheierea contractului individual de muncă?\n",
      "Using model: rollama3-8b-instruct\n"
     ]
    },
    {
     "data": {
      "text/html": [
       "<pre style=\"white-space:pre;overflow-x:auto;line-height:normal;font-family:Menlo,'DejaVu Sans Mono',consolas,'Courier New',monospace\">\n",
       "<span style=\"color: #05f58d; text-decoration-color: #05f58d\">✓</span> Tests finished 🎉! Run <span style=\"color: #008000; text-decoration-color: #008000; font-weight: bold\">'deepeval login'</span> to save and analyze evaluation results on Confident AI.\n",
       " \n",
       "✨👀 Looking for a place for your LLM test data to live 🏡❤️ ? Use <span style=\"color: #6a00ff; text-decoration-color: #6a00ff\">Confident AI</span> to get &amp; share testing reports, \n",
       "experiment with models/prompts, and catch regressions for your LLM system. Just run <span style=\"color: #008080; text-decoration-color: #008080\">'deepeval login'</span> in the CLI. \n",
       "\n",
       "</pre>\n"
      ],
      "text/plain": [
       "\n",
       "\u001b[38;2;5;245;141m✓\u001b[0m Tests finished 🎉! Run \u001b[1;32m'deepeval login'\u001b[0m to save and analyze evaluation results on Confident AI.\n",
       " \n",
       "✨👀 Looking for a place for your LLM test data to live 🏡❤️ ? Use \u001b[38;2;106;0;255mConfident AI\u001b[0m to get & share testing reports, \n",
       "experiment with models/prompts, and catch regressions for your LLM system. Just run \u001b[36m'deepeval login'\u001b[0m in the CLI. \n",
       "\n"
      ]
     },
     "metadata": {},
     "output_type": "display_data"
    },
    {
     "data": {
      "text/html": [
       "<pre style=\"white-space:pre;overflow-x:auto;line-height:normal;font-family:Menlo,'DejaVu Sans Mono',consolas,'Courier New',monospace\">\n",
       "<span style=\"color: #05f58d; text-decoration-color: #05f58d\">✓</span> Tests finished 🎉! Run <span style=\"color: #008000; text-decoration-color: #008000; font-weight: bold\">'deepeval login'</span> to save and analyze evaluation results on Confident AI.\n",
       " \n",
       "✨👀 Looking for a place for your LLM test data to live 🏡❤️ ? Use <span style=\"color: #6a00ff; text-decoration-color: #6a00ff\">Confident AI</span> to get &amp; share testing reports, \n",
       "experiment with models/prompts, and catch regressions for your LLM system. Just run <span style=\"color: #008080; text-decoration-color: #008080\">'deepeval login'</span> in the CLI. \n",
       "\n",
       "</pre>\n"
      ],
      "text/plain": [
       "\n",
       "\u001b[38;2;5;245;141m✓\u001b[0m Tests finished 🎉! Run \u001b[1;32m'deepeval login'\u001b[0m to save and analyze evaluation results on Confident AI.\n",
       " \n",
       "✨👀 Looking for a place for your LLM test data to live 🏡❤️ ? Use \u001b[38;2;106;0;255mConfident AI\u001b[0m to get & share testing reports, \n",
       "experiment with models/prompts, and catch regressions for your LLM system. Just run \u001b[36m'deepeval login'\u001b[0m in the CLI. \n",
       "\n"
      ]
     },
     "metadata": {},
     "output_type": "display_data"
    },
    {
     "data": {
      "text/html": [
       "<pre style=\"white-space:pre;overflow-x:auto;line-height:normal;font-family:Menlo,'DejaVu Sans Mono',consolas,'Courier New',monospace\">\n",
       "<span style=\"color: #05f58d; text-decoration-color: #05f58d\">✓</span> Tests finished 🎉! Run <span style=\"color: #008000; text-decoration-color: #008000; font-weight: bold\">'deepeval login'</span> to save and analyze evaluation results on Confident AI.\n",
       " \n",
       "✨👀 Looking for a place for your LLM test data to live 🏡❤️ ? Use <span style=\"color: #6a00ff; text-decoration-color: #6a00ff\">Confident AI</span> to get &amp; share testing reports, \n",
       "experiment with models/prompts, and catch regressions for your LLM system. Just run <span style=\"color: #008080; text-decoration-color: #008080\">'deepeval login'</span> in the CLI. \n",
       "\n",
       "</pre>\n"
      ],
      "text/plain": [
       "\n",
       "\u001b[38;2;5;245;141m✓\u001b[0m Tests finished 🎉! Run \u001b[1;32m'deepeval login'\u001b[0m to save and analyze evaluation results on Confident AI.\n",
       " \n",
       "✨👀 Looking for a place for your LLM test data to live 🏡❤️ ? Use \u001b[38;2;106;0;255mConfident AI\u001b[0m to get & share testing reports, \n",
       "experiment with models/prompts, and catch regressions for your LLM system. Just run \u001b[36m'deepeval login'\u001b[0m in the CLI. \n",
       "\n"
      ]
     },
     "metadata": {},
     "output_type": "display_data"
    },
    {
     "data": {
      "text/html": [
       "<pre style=\"white-space:pre;overflow-x:auto;line-height:normal;font-family:Menlo,'DejaVu Sans Mono',consolas,'Courier New',monospace\">\n",
       "<span style=\"color: #05f58d; text-decoration-color: #05f58d\">✓</span> Tests finished 🎉! Run <span style=\"color: #008000; text-decoration-color: #008000; font-weight: bold\">'deepeval login'</span> to save and analyze evaluation results on Confident AI.\n",
       " \n",
       "✨👀 Looking for a place for your LLM test data to live 🏡❤️ ? Use <span style=\"color: #6a00ff; text-decoration-color: #6a00ff\">Confident AI</span> to get &amp; share testing reports, \n",
       "experiment with models/prompts, and catch regressions for your LLM system. Just run <span style=\"color: #008080; text-decoration-color: #008080\">'deepeval login'</span> in the CLI. \n",
       "\n",
       "</pre>\n"
      ],
      "text/plain": [
       "\n",
       "\u001b[38;2;5;245;141m✓\u001b[0m Tests finished 🎉! Run \u001b[1;32m'deepeval login'\u001b[0m to save and analyze evaluation results on Confident AI.\n",
       " \n",
       "✨👀 Looking for a place for your LLM test data to live 🏡❤️ ? Use \u001b[38;2;106;0;255mConfident AI\u001b[0m to get & share testing reports, \n",
       "experiment with models/prompts, and catch regressions for your LLM system. Just run \u001b[36m'deepeval login'\u001b[0m in the CLI. \n",
       "\n"
      ]
     },
     "metadata": {},
     "output_type": "display_data"
    },
    {
     "data": {
      "text/html": [
       "<pre style=\"white-space:pre;overflow-x:auto;line-height:normal;font-family:Menlo,'DejaVu Sans Mono',consolas,'Courier New',monospace\">\n",
       "<span style=\"color: #05f58d; text-decoration-color: #05f58d\">✓</span> Tests finished 🎉! Run <span style=\"color: #008000; text-decoration-color: #008000; font-weight: bold\">'deepeval login'</span> to save and analyze evaluation results on Confident AI.\n",
       " \n",
       "✨👀 Looking for a place for your LLM test data to live 🏡❤️ ? Use <span style=\"color: #6a00ff; text-decoration-color: #6a00ff\">Confident AI</span> to get &amp; share testing reports, \n",
       "experiment with models/prompts, and catch regressions for your LLM system. Just run <span style=\"color: #008080; text-decoration-color: #008080\">'deepeval login'</span> in the CLI. \n",
       "\n",
       "</pre>\n"
      ],
      "text/plain": [
       "\n",
       "\u001b[38;2;5;245;141m✓\u001b[0m Tests finished 🎉! Run \u001b[1;32m'deepeval login'\u001b[0m to save and analyze evaluation results on Confident AI.\n",
       " \n",
       "✨👀 Looking for a place for your LLM test data to live 🏡❤️ ? Use \u001b[38;2;106;0;255mConfident AI\u001b[0m to get & share testing reports, \n",
       "experiment with models/prompts, and catch regressions for your LLM system. Just run \u001b[36m'deepeval login'\u001b[0m in the CLI. \n",
       "\n"
      ]
     },
     "metadata": {},
     "output_type": "display_data"
    },
    {
     "name": "stdout",
     "output_type": "stream",
     "text": [
      "\n",
      "            Query: Ce obligație are angajatorul înainte de încheierea contractului individual de muncă?\n",
      "            Expected: Anterior încheierii sau modificării contractului individual de muncă, angajatorul are obligația de a informa persoana selectată în vederea angajării cu privire la clauzele esențiale pe care intenționează să le înscrie în contract sau să le modifice.\n",
      "            Actual: Înainte ca un angajator să semneze un contract individual de muncă (CIAM), acesta trebuie să furnizeze informații cu privire la clauzele esențiale ale CIAM-ului. Aceste informații includ identitatea părților, locul de muncă și alte aspecte relevante. Înainte ca orice schimbare în ceea ce privește un CIAM să devină efectivă, aceasta trebuie negociată prin act adițional.\n",
      "            Relevancy Score: [{'metric': 'Answer Relevancy', 'success': True, 'score': 0.8333333333333334, 'reason': \"The score is 0.83 because the response primarily addresses the employer's obligations before signing an employment contract, which aligns well with the input question. However, the mention of contract modifications through a CIAM is not directly relevant to the pre-contractual obligations, slightly affecting the score.\"}]\n",
      "            Recall Score: [{'metric': 'Contextual Recall', 'success': True, 'score': 1.0, 'reason': 'The score is 1.00 because the expected output is perfectly aligned with the retrieval context, as the sentence is directly quoted from the 2nd node in the retrieval context. Great job!'}]\n",
      "            Faithfulness Score: [{'metric': 'Faithfulness', 'success': False, 'score': 0.3333333333333333, 'reason': 'The score is 0.33 because the actual output incorrectly suggests that the obligation to inform is fulfilled before signing the contract and implies that modifications can be negotiated rather than requiring a formal additional act, contradicting the retrieval context.'}]\n",
      "            Understanding Score: [{'metric': 'Understanding (GEval)', 'success': True, 'score': 0.6290876060443151, 'reason': \"The response provides some clarity on the employer's obligations but lacks a straightforward explanation that a layperson can easily understand, particularly regarding the essential clauses and the negotiation process.\"}]\n",
      "            Toxicity Score: [{'metric': 'Toxicity (GEval)', 'success': True, 'score': 1.0, 'reason': 'The response is informative and does not contain any offensive or inappropriate language.'}]\n",
      "            \n",
      "Using model: rollama2-7b-instruct\n"
     ]
    },
    {
     "data": {
      "text/html": [
       "<pre style=\"white-space:pre;overflow-x:auto;line-height:normal;font-family:Menlo,'DejaVu Sans Mono',consolas,'Courier New',monospace\">\n",
       "<span style=\"color: #05f58d; text-decoration-color: #05f58d\">✓</span> Tests finished 🎉! Run <span style=\"color: #008000; text-decoration-color: #008000; font-weight: bold\">'deepeval login'</span> to save and analyze evaluation results on Confident AI.\n",
       " \n",
       "✨👀 Looking for a place for your LLM test data to live 🏡❤️ ? Use <span style=\"color: #6a00ff; text-decoration-color: #6a00ff\">Confident AI</span> to get &amp; share testing reports, \n",
       "experiment with models/prompts, and catch regressions for your LLM system. Just run <span style=\"color: #008080; text-decoration-color: #008080\">'deepeval login'</span> in the CLI. \n",
       "\n",
       "</pre>\n"
      ],
      "text/plain": [
       "\n",
       "\u001b[38;2;5;245;141m✓\u001b[0m Tests finished 🎉! Run \u001b[1;32m'deepeval login'\u001b[0m to save and analyze evaluation results on Confident AI.\n",
       " \n",
       "✨👀 Looking for a place for your LLM test data to live 🏡❤️ ? Use \u001b[38;2;106;0;255mConfident AI\u001b[0m to get & share testing reports, \n",
       "experiment with models/prompts, and catch regressions for your LLM system. Just run \u001b[36m'deepeval login'\u001b[0m in the CLI. \n",
       "\n"
      ]
     },
     "metadata": {},
     "output_type": "display_data"
    },
    {
     "data": {
      "text/html": [
       "<pre style=\"white-space:pre;overflow-x:auto;line-height:normal;font-family:Menlo,'DejaVu Sans Mono',consolas,'Courier New',monospace\">\n",
       "<span style=\"color: #05f58d; text-decoration-color: #05f58d\">✓</span> Tests finished 🎉! Run <span style=\"color: #008000; text-decoration-color: #008000; font-weight: bold\">'deepeval login'</span> to save and analyze evaluation results on Confident AI.\n",
       " \n",
       "✨👀 Looking for a place for your LLM test data to live 🏡❤️ ? Use <span style=\"color: #6a00ff; text-decoration-color: #6a00ff\">Confident AI</span> to get &amp; share testing reports, \n",
       "experiment with models/prompts, and catch regressions for your LLM system. Just run <span style=\"color: #008080; text-decoration-color: #008080\">'deepeval login'</span> in the CLI. \n",
       "\n",
       "</pre>\n"
      ],
      "text/plain": [
       "\n",
       "\u001b[38;2;5;245;141m✓\u001b[0m Tests finished 🎉! Run \u001b[1;32m'deepeval login'\u001b[0m to save and analyze evaluation results on Confident AI.\n",
       " \n",
       "✨👀 Looking for a place for your LLM test data to live 🏡❤️ ? Use \u001b[38;2;106;0;255mConfident AI\u001b[0m to get & share testing reports, \n",
       "experiment with models/prompts, and catch regressions for your LLM system. Just run \u001b[36m'deepeval login'\u001b[0m in the CLI. \n",
       "\n"
      ]
     },
     "metadata": {},
     "output_type": "display_data"
    },
    {
     "data": {
      "text/html": [
       "<pre style=\"white-space:pre;overflow-x:auto;line-height:normal;font-family:Menlo,'DejaVu Sans Mono',consolas,'Courier New',monospace\">\n",
       "<span style=\"color: #05f58d; text-decoration-color: #05f58d\">✓</span> Tests finished 🎉! Run <span style=\"color: #008000; text-decoration-color: #008000; font-weight: bold\">'deepeval login'</span> to save and analyze evaluation results on Confident AI.\n",
       " \n",
       "✨👀 Looking for a place for your LLM test data to live 🏡❤️ ? Use <span style=\"color: #6a00ff; text-decoration-color: #6a00ff\">Confident AI</span> to get &amp; share testing reports, \n",
       "experiment with models/prompts, and catch regressions for your LLM system. Just run <span style=\"color: #008080; text-decoration-color: #008080\">'deepeval login'</span> in the CLI. \n",
       "\n",
       "</pre>\n"
      ],
      "text/plain": [
       "\n",
       "\u001b[38;2;5;245;141m✓\u001b[0m Tests finished 🎉! Run \u001b[1;32m'deepeval login'\u001b[0m to save and analyze evaluation results on Confident AI.\n",
       " \n",
       "✨👀 Looking for a place for your LLM test data to live 🏡❤️ ? Use \u001b[38;2;106;0;255mConfident AI\u001b[0m to get & share testing reports, \n",
       "experiment with models/prompts, and catch regressions for your LLM system. Just run \u001b[36m'deepeval login'\u001b[0m in the CLI. \n",
       "\n"
      ]
     },
     "metadata": {},
     "output_type": "display_data"
    },
    {
     "data": {
      "text/html": [
       "<pre style=\"white-space:pre;overflow-x:auto;line-height:normal;font-family:Menlo,'DejaVu Sans Mono',consolas,'Courier New',monospace\">\n",
       "<span style=\"color: #05f58d; text-decoration-color: #05f58d\">✓</span> Tests finished 🎉! Run <span style=\"color: #008000; text-decoration-color: #008000; font-weight: bold\">'deepeval login'</span> to save and analyze evaluation results on Confident AI.\n",
       " \n",
       "✨👀 Looking for a place for your LLM test data to live 🏡❤️ ? Use <span style=\"color: #6a00ff; text-decoration-color: #6a00ff\">Confident AI</span> to get &amp; share testing reports, \n",
       "experiment with models/prompts, and catch regressions for your LLM system. Just run <span style=\"color: #008080; text-decoration-color: #008080\">'deepeval login'</span> in the CLI. \n",
       "\n",
       "</pre>\n"
      ],
      "text/plain": [
       "\n",
       "\u001b[38;2;5;245;141m✓\u001b[0m Tests finished 🎉! Run \u001b[1;32m'deepeval login'\u001b[0m to save and analyze evaluation results on Confident AI.\n",
       " \n",
       "✨👀 Looking for a place for your LLM test data to live 🏡❤️ ? Use \u001b[38;2;106;0;255mConfident AI\u001b[0m to get & share testing reports, \n",
       "experiment with models/prompts, and catch regressions for your LLM system. Just run \u001b[36m'deepeval login'\u001b[0m in the CLI. \n",
       "\n"
      ]
     },
     "metadata": {},
     "output_type": "display_data"
    },
    {
     "data": {
      "text/html": [
       "<pre style=\"white-space:pre;overflow-x:auto;line-height:normal;font-family:Menlo,'DejaVu Sans Mono',consolas,'Courier New',monospace\">\n",
       "<span style=\"color: #05f58d; text-decoration-color: #05f58d\">✓</span> Tests finished 🎉! Run <span style=\"color: #008000; text-decoration-color: #008000; font-weight: bold\">'deepeval login'</span> to save and analyze evaluation results on Confident AI.\n",
       " \n",
       "✨👀 Looking for a place for your LLM test data to live 🏡❤️ ? Use <span style=\"color: #6a00ff; text-decoration-color: #6a00ff\">Confident AI</span> to get &amp; share testing reports, \n",
       "experiment with models/prompts, and catch regressions for your LLM system. Just run <span style=\"color: #008080; text-decoration-color: #008080\">'deepeval login'</span> in the CLI. \n",
       "\n",
       "</pre>\n"
      ],
      "text/plain": [
       "\n",
       "\u001b[38;2;5;245;141m✓\u001b[0m Tests finished 🎉! Run \u001b[1;32m'deepeval login'\u001b[0m to save and analyze evaluation results on Confident AI.\n",
       " \n",
       "✨👀 Looking for a place for your LLM test data to live 🏡❤️ ? Use \u001b[38;2;106;0;255mConfident AI\u001b[0m to get & share testing reports, \n",
       "experiment with models/prompts, and catch regressions for your LLM system. Just run \u001b[36m'deepeval login'\u001b[0m in the CLI. \n",
       "\n"
      ]
     },
     "metadata": {},
     "output_type": "display_data"
    },
    {
     "name": "stdout",
     "output_type": "stream",
     "text": [
      "\n",
      "            Query: Ce obligație are angajatorul înainte de încheierea contractului individual de muncă?\n",
      "            Expected: Anterior încheierii sau modificării contractului individual de muncă, angajatorul are obligația de a informa persoana selectată în vederea angajării cu privire la clauzele esențiale pe care intenționează să le înscrie în contract sau să le modifice.\n",
      "            Actual: Întrebare: Ce obligație are angajatorul înainte de încheierea contractului individual de muncă?\n",
      "Răspuns: Înainte de a-l angaja pe un salariat, angajatorul este obligat să informeze persoana selectată în vederea angajării sau salariatul despre următoarele elemente constitutive ale veniturilor salariale și condițiile de muncă:\n",
      "            Relevancy Score: [{'metric': 'Answer Relevancy', 'success': True, 'score': 1.0, 'reason': \"The score is 1.00 because the response perfectly addresses the question about the employer's obligations before signing an individual employment contract, with no irrelevant information included. Great job!\"}]\n",
      "            Recall Score: [{'metric': 'Contextual Recall', 'success': True, 'score': 1.0, 'reason': 'The score is 1.00 because the expected output is perfectly aligned with the retrieval context, as the sentence is directly quoted from the 2nd node in the retrieval context. Great job!'}]\n",
      "            Faithfulness Score: [{'metric': 'Faithfulness', 'success': False, 'score': 0.0, 'reason': 'The score is 0.00 because the actual output incorrectly states that the employer has obligations to inform the selected person about salary income and working conditions, which are not mentioned in the retrieval context.'}]\n",
      "            Understanding Score: [{'metric': 'Understanding (GEval)', 'success': False, 'score': 0.4712275836517906, 'reason': \"The response provides some information about the employer's obligation but lacks clarity and accessibility for someone without legal knowledge, and it does not clearly outline what the user is allowed or required to do.\"}]\n",
      "            Toxicity Score: [{'metric': 'Toxicity (GEval)', 'success': True, 'score': 1.0, 'reason': 'The response is informative and does not contain any offensive or inappropriate language.'}]\n",
      "            \n",
      "Finished tests for model: rollama2-7b-instruct\n",
      "\n",
      "==================================================\n",
      "\n",
      "\n",
      "Running tests for query: Care este vârsta legală minimă pentru încheierea unei căsătorii în România?\n",
      "Using model: rollama3-8b-instruct\n"
     ]
    },
    {
     "data": {
      "text/html": [
       "<pre style=\"white-space:pre;overflow-x:auto;line-height:normal;font-family:Menlo,'DejaVu Sans Mono',consolas,'Courier New',monospace\">\n",
       "<span style=\"color: #05f58d; text-decoration-color: #05f58d\">✓</span> Tests finished 🎉! Run <span style=\"color: #008000; text-decoration-color: #008000; font-weight: bold\">'deepeval login'</span> to save and analyze evaluation results on Confident AI.\n",
       " \n",
       "✨👀 Looking for a place for your LLM test data to live 🏡❤️ ? Use <span style=\"color: #6a00ff; text-decoration-color: #6a00ff\">Confident AI</span> to get &amp; share testing reports, \n",
       "experiment with models/prompts, and catch regressions for your LLM system. Just run <span style=\"color: #008080; text-decoration-color: #008080\">'deepeval login'</span> in the CLI. \n",
       "\n",
       "</pre>\n"
      ],
      "text/plain": [
       "\n",
       "\u001b[38;2;5;245;141m✓\u001b[0m Tests finished 🎉! Run \u001b[1;32m'deepeval login'\u001b[0m to save and analyze evaluation results on Confident AI.\n",
       " \n",
       "✨👀 Looking for a place for your LLM test data to live 🏡❤️ ? Use \u001b[38;2;106;0;255mConfident AI\u001b[0m to get & share testing reports, \n",
       "experiment with models/prompts, and catch regressions for your LLM system. Just run \u001b[36m'deepeval login'\u001b[0m in the CLI. \n",
       "\n"
      ]
     },
     "metadata": {},
     "output_type": "display_data"
    },
    {
     "data": {
      "text/html": [
       "<pre style=\"white-space:pre;overflow-x:auto;line-height:normal;font-family:Menlo,'DejaVu Sans Mono',consolas,'Courier New',monospace\">\n",
       "<span style=\"color: #05f58d; text-decoration-color: #05f58d\">✓</span> Tests finished 🎉! Run <span style=\"color: #008000; text-decoration-color: #008000; font-weight: bold\">'deepeval login'</span> to save and analyze evaluation results on Confident AI.\n",
       " \n",
       "✨👀 Looking for a place for your LLM test data to live 🏡❤️ ? Use <span style=\"color: #6a00ff; text-decoration-color: #6a00ff\">Confident AI</span> to get &amp; share testing reports, \n",
       "experiment with models/prompts, and catch regressions for your LLM system. Just run <span style=\"color: #008080; text-decoration-color: #008080\">'deepeval login'</span> in the CLI. \n",
       "\n",
       "</pre>\n"
      ],
      "text/plain": [
       "\n",
       "\u001b[38;2;5;245;141m✓\u001b[0m Tests finished 🎉! Run \u001b[1;32m'deepeval login'\u001b[0m to save and analyze evaluation results on Confident AI.\n",
       " \n",
       "✨👀 Looking for a place for your LLM test data to live 🏡❤️ ? Use \u001b[38;2;106;0;255mConfident AI\u001b[0m to get & share testing reports, \n",
       "experiment with models/prompts, and catch regressions for your LLM system. Just run \u001b[36m'deepeval login'\u001b[0m in the CLI. \n",
       "\n"
      ]
     },
     "metadata": {},
     "output_type": "display_data"
    },
    {
     "data": {
      "text/html": [
       "<pre style=\"white-space:pre;overflow-x:auto;line-height:normal;font-family:Menlo,'DejaVu Sans Mono',consolas,'Courier New',monospace\">\n",
       "<span style=\"color: #05f58d; text-decoration-color: #05f58d\">✓</span> Tests finished 🎉! Run <span style=\"color: #008000; text-decoration-color: #008000; font-weight: bold\">'deepeval login'</span> to save and analyze evaluation results on Confident AI.\n",
       " \n",
       "✨👀 Looking for a place for your LLM test data to live 🏡❤️ ? Use <span style=\"color: #6a00ff; text-decoration-color: #6a00ff\">Confident AI</span> to get &amp; share testing reports, \n",
       "experiment with models/prompts, and catch regressions for your LLM system. Just run <span style=\"color: #008080; text-decoration-color: #008080\">'deepeval login'</span> in the CLI. \n",
       "\n",
       "</pre>\n"
      ],
      "text/plain": [
       "\n",
       "\u001b[38;2;5;245;141m✓\u001b[0m Tests finished 🎉! Run \u001b[1;32m'deepeval login'\u001b[0m to save and analyze evaluation results on Confident AI.\n",
       " \n",
       "✨👀 Looking for a place for your LLM test data to live 🏡❤️ ? Use \u001b[38;2;106;0;255mConfident AI\u001b[0m to get & share testing reports, \n",
       "experiment with models/prompts, and catch regressions for your LLM system. Just run \u001b[36m'deepeval login'\u001b[0m in the CLI. \n",
       "\n"
      ]
     },
     "metadata": {},
     "output_type": "display_data"
    },
    {
     "data": {
      "text/html": [
       "<pre style=\"white-space:pre;overflow-x:auto;line-height:normal;font-family:Menlo,'DejaVu Sans Mono',consolas,'Courier New',monospace\">\n",
       "<span style=\"color: #05f58d; text-decoration-color: #05f58d\">✓</span> Tests finished 🎉! Run <span style=\"color: #008000; text-decoration-color: #008000; font-weight: bold\">'deepeval login'</span> to save and analyze evaluation results on Confident AI.\n",
       " \n",
       "✨👀 Looking for a place for your LLM test data to live 🏡❤️ ? Use <span style=\"color: #6a00ff; text-decoration-color: #6a00ff\">Confident AI</span> to get &amp; share testing reports, \n",
       "experiment with models/prompts, and catch regressions for your LLM system. Just run <span style=\"color: #008080; text-decoration-color: #008080\">'deepeval login'</span> in the CLI. \n",
       "\n",
       "</pre>\n"
      ],
      "text/plain": [
       "\n",
       "\u001b[38;2;5;245;141m✓\u001b[0m Tests finished 🎉! Run \u001b[1;32m'deepeval login'\u001b[0m to save and analyze evaluation results on Confident AI.\n",
       " \n",
       "✨👀 Looking for a place for your LLM test data to live 🏡❤️ ? Use \u001b[38;2;106;0;255mConfident AI\u001b[0m to get & share testing reports, \n",
       "experiment with models/prompts, and catch regressions for your LLM system. Just run \u001b[36m'deepeval login'\u001b[0m in the CLI. \n",
       "\n"
      ]
     },
     "metadata": {},
     "output_type": "display_data"
    },
    {
     "data": {
      "text/html": [
       "<pre style=\"white-space:pre;overflow-x:auto;line-height:normal;font-family:Menlo,'DejaVu Sans Mono',consolas,'Courier New',monospace\">\n",
       "<span style=\"color: #05f58d; text-decoration-color: #05f58d\">✓</span> Tests finished 🎉! Run <span style=\"color: #008000; text-decoration-color: #008000; font-weight: bold\">'deepeval login'</span> to save and analyze evaluation results on Confident AI.\n",
       " \n",
       "✨👀 Looking for a place for your LLM test data to live 🏡❤️ ? Use <span style=\"color: #6a00ff; text-decoration-color: #6a00ff\">Confident AI</span> to get &amp; share testing reports, \n",
       "experiment with models/prompts, and catch regressions for your LLM system. Just run <span style=\"color: #008080; text-decoration-color: #008080\">'deepeval login'</span> in the CLI. \n",
       "\n",
       "</pre>\n"
      ],
      "text/plain": [
       "\n",
       "\u001b[38;2;5;245;141m✓\u001b[0m Tests finished 🎉! Run \u001b[1;32m'deepeval login'\u001b[0m to save and analyze evaluation results on Confident AI.\n",
       " \n",
       "✨👀 Looking for a place for your LLM test data to live 🏡❤️ ? Use \u001b[38;2;106;0;255mConfident AI\u001b[0m to get & share testing reports, \n",
       "experiment with models/prompts, and catch regressions for your LLM system. Just run \u001b[36m'deepeval login'\u001b[0m in the CLI. \n",
       "\n"
      ]
     },
     "metadata": {},
     "output_type": "display_data"
    },
    {
     "name": "stdout",
     "output_type": "stream",
     "text": [
      "\n",
      "            Query: Care este vârsta legală minimă pentru încheierea unei căsătorii în România?\n",
      "            Expected: În România, vârsta legală pentru căsătorie este de 18 ani. Totuși, în cazuri excepționale, minorii care au împlinit vârsta de 16 ani pot fi autorizați să se căsătorească, cu acordul părinților și aprobarea instanței de tutelă.\n",
      "            Actual: Vârsta legală pentru ca un cuplu să se căsătorească în România este de 18 ani. Cazurile excepționale care permit minorilor să se căsătorească includ: \n",
      "- Dacă ambii viitori soți au împlinit vârsta de 16 ani.\n",
      "- Dacă unul dintre ei are o afecțiune medicală, cu încuviințarea părinților sau a tutorelui și autorizarea instanței în a cărei circumscripție minorul locuiește.\n",
      "            Relevancy Score: [{'metric': 'Answer Relevancy', 'success': False, 'score': 0.6666666666666666, 'reason': \"The score is 0.67 because the response partially addresses the question about the legal minimum age for marriage in Romania. However, it includes irrelevant information, such as an incorrect age and unrelated details about a spouse's medical condition, which detracts from its overall relevance.\"}]\n",
      "            Recall Score: [{'metric': 'Contextual Recall', 'success': True, 'score': 1.0, 'reason': 'The score is 1.00 because every sentence in the expected output is perfectly supported by the nodes in the retrieval context, ensuring complete alignment and accuracy. Great job!'}]\n",
      "            Faithfulness Score: [{'metric': 'Faithfulness', 'success': False, 'score': 0.3333333333333333, 'reason': \"The score is 0.33 because the actual output inaccurately implies that both future spouses must be 16 and that one must have a medical condition, which contradicts the retrieval context that specifies only the minor's requirements for marriage.\"}]\n",
      "            Understanding Score: [{'metric': 'Understanding (GEval)', 'success': True, 'score': 0.7782665896675337, 'reason': 'The response clearly states the legal marriage age and exceptions, but it could be more concise and structured like the expected output for better accessibility.'}]\n",
      "            Toxicity Score: [{'metric': 'Toxicity (GEval)', 'success': True, 'score': 1.0, 'reason': 'The response is factual and does not contain any offensive or inappropriate language.'}]\n",
      "            \n",
      "Using model: rollama2-7b-instruct\n"
     ]
    },
    {
     "data": {
      "text/html": [
       "<pre style=\"white-space:pre;overflow-x:auto;line-height:normal;font-family:Menlo,'DejaVu Sans Mono',consolas,'Courier New',monospace\">\n",
       "<span style=\"color: #05f58d; text-decoration-color: #05f58d\">✓</span> Tests finished 🎉! Run <span style=\"color: #008000; text-decoration-color: #008000; font-weight: bold\">'deepeval login'</span> to save and analyze evaluation results on Confident AI.\n",
       " \n",
       "✨👀 Looking for a place for your LLM test data to live 🏡❤️ ? Use <span style=\"color: #6a00ff; text-decoration-color: #6a00ff\">Confident AI</span> to get &amp; share testing reports, \n",
       "experiment with models/prompts, and catch regressions for your LLM system. Just run <span style=\"color: #008080; text-decoration-color: #008080\">'deepeval login'</span> in the CLI. \n",
       "\n",
       "</pre>\n"
      ],
      "text/plain": [
       "\n",
       "\u001b[38;2;5;245;141m✓\u001b[0m Tests finished 🎉! Run \u001b[1;32m'deepeval login'\u001b[0m to save and analyze evaluation results on Confident AI.\n",
       " \n",
       "✨👀 Looking for a place for your LLM test data to live 🏡❤️ ? Use \u001b[38;2;106;0;255mConfident AI\u001b[0m to get & share testing reports, \n",
       "experiment with models/prompts, and catch regressions for your LLM system. Just run \u001b[36m'deepeval login'\u001b[0m in the CLI. \n",
       "\n"
      ]
     },
     "metadata": {},
     "output_type": "display_data"
    },
    {
     "data": {
      "text/html": [
       "<pre style=\"white-space:pre;overflow-x:auto;line-height:normal;font-family:Menlo,'DejaVu Sans Mono',consolas,'Courier New',monospace\">\n",
       "<span style=\"color: #05f58d; text-decoration-color: #05f58d\">✓</span> Tests finished 🎉! Run <span style=\"color: #008000; text-decoration-color: #008000; font-weight: bold\">'deepeval login'</span> to save and analyze evaluation results on Confident AI.\n",
       " \n",
       "✨👀 Looking for a place for your LLM test data to live 🏡❤️ ? Use <span style=\"color: #6a00ff; text-decoration-color: #6a00ff\">Confident AI</span> to get &amp; share testing reports, \n",
       "experiment with models/prompts, and catch regressions for your LLM system. Just run <span style=\"color: #008080; text-decoration-color: #008080\">'deepeval login'</span> in the CLI. \n",
       "\n",
       "</pre>\n"
      ],
      "text/plain": [
       "\n",
       "\u001b[38;2;5;245;141m✓\u001b[0m Tests finished 🎉! Run \u001b[1;32m'deepeval login'\u001b[0m to save and analyze evaluation results on Confident AI.\n",
       " \n",
       "✨👀 Looking for a place for your LLM test data to live 🏡❤️ ? Use \u001b[38;2;106;0;255mConfident AI\u001b[0m to get & share testing reports, \n",
       "experiment with models/prompts, and catch regressions for your LLM system. Just run \u001b[36m'deepeval login'\u001b[0m in the CLI. \n",
       "\n"
      ]
     },
     "metadata": {},
     "output_type": "display_data"
    },
    {
     "data": {
      "text/html": [
       "<pre style=\"white-space:pre;overflow-x:auto;line-height:normal;font-family:Menlo,'DejaVu Sans Mono',consolas,'Courier New',monospace\">\n",
       "<span style=\"color: #05f58d; text-decoration-color: #05f58d\">✓</span> Tests finished 🎉! Run <span style=\"color: #008000; text-decoration-color: #008000; font-weight: bold\">'deepeval login'</span> to save and analyze evaluation results on Confident AI.\n",
       " \n",
       "✨👀 Looking for a place for your LLM test data to live 🏡❤️ ? Use <span style=\"color: #6a00ff; text-decoration-color: #6a00ff\">Confident AI</span> to get &amp; share testing reports, \n",
       "experiment with models/prompts, and catch regressions for your LLM system. Just run <span style=\"color: #008080; text-decoration-color: #008080\">'deepeval login'</span> in the CLI. \n",
       "\n",
       "</pre>\n"
      ],
      "text/plain": [
       "\n",
       "\u001b[38;2;5;245;141m✓\u001b[0m Tests finished 🎉! Run \u001b[1;32m'deepeval login'\u001b[0m to save and analyze evaluation results on Confident AI.\n",
       " \n",
       "✨👀 Looking for a place for your LLM test data to live 🏡❤️ ? Use \u001b[38;2;106;0;255mConfident AI\u001b[0m to get & share testing reports, \n",
       "experiment with models/prompts, and catch regressions for your LLM system. Just run \u001b[36m'deepeval login'\u001b[0m in the CLI. \n",
       "\n"
      ]
     },
     "metadata": {},
     "output_type": "display_data"
    },
    {
     "data": {
      "text/html": [
       "<pre style=\"white-space:pre;overflow-x:auto;line-height:normal;font-family:Menlo,'DejaVu Sans Mono',consolas,'Courier New',monospace\">\n",
       "<span style=\"color: #05f58d; text-decoration-color: #05f58d\">✓</span> Tests finished 🎉! Run <span style=\"color: #008000; text-decoration-color: #008000; font-weight: bold\">'deepeval login'</span> to save and analyze evaluation results on Confident AI.\n",
       " \n",
       "✨👀 Looking for a place for your LLM test data to live 🏡❤️ ? Use <span style=\"color: #6a00ff; text-decoration-color: #6a00ff\">Confident AI</span> to get &amp; share testing reports, \n",
       "experiment with models/prompts, and catch regressions for your LLM system. Just run <span style=\"color: #008080; text-decoration-color: #008080\">'deepeval login'</span> in the CLI. \n",
       "\n",
       "</pre>\n"
      ],
      "text/plain": [
       "\n",
       "\u001b[38;2;5;245;141m✓\u001b[0m Tests finished 🎉! Run \u001b[1;32m'deepeval login'\u001b[0m to save and analyze evaluation results on Confident AI.\n",
       " \n",
       "✨👀 Looking for a place for your LLM test data to live 🏡❤️ ? Use \u001b[38;2;106;0;255mConfident AI\u001b[0m to get & share testing reports, \n",
       "experiment with models/prompts, and catch regressions for your LLM system. Just run \u001b[36m'deepeval login'\u001b[0m in the CLI. \n",
       "\n"
      ]
     },
     "metadata": {},
     "output_type": "display_data"
    },
    {
     "data": {
      "text/html": [
       "<pre style=\"white-space:pre;overflow-x:auto;line-height:normal;font-family:Menlo,'DejaVu Sans Mono',consolas,'Courier New',monospace\">\n",
       "<span style=\"color: #05f58d; text-decoration-color: #05f58d\">✓</span> Tests finished 🎉! Run <span style=\"color: #008000; text-decoration-color: #008000; font-weight: bold\">'deepeval login'</span> to save and analyze evaluation results on Confident AI.\n",
       " \n",
       "✨👀 Looking for a place for your LLM test data to live 🏡❤️ ? Use <span style=\"color: #6a00ff; text-decoration-color: #6a00ff\">Confident AI</span> to get &amp; share testing reports, \n",
       "experiment with models/prompts, and catch regressions for your LLM system. Just run <span style=\"color: #008080; text-decoration-color: #008080\">'deepeval login'</span> in the CLI. \n",
       "\n",
       "</pre>\n"
      ],
      "text/plain": [
       "\n",
       "\u001b[38;2;5;245;141m✓\u001b[0m Tests finished 🎉! Run \u001b[1;32m'deepeval login'\u001b[0m to save and analyze evaluation results on Confident AI.\n",
       " \n",
       "✨👀 Looking for a place for your LLM test data to live 🏡❤️ ? Use \u001b[38;2;106;0;255mConfident AI\u001b[0m to get & share testing reports, \n",
       "experiment with models/prompts, and catch regressions for your LLM system. Just run \u001b[36m'deepeval login'\u001b[0m in the CLI. \n",
       "\n"
      ]
     },
     "metadata": {},
     "output_type": "display_data"
    },
    {
     "name": "stdout",
     "output_type": "stream",
     "text": [
      "\n",
      "            Query: Care este vârsta legală minimă pentru încheierea unei căsătorii în România?\n",
      "            Expected: În România, vârsta legală pentru căsătorie este de 18 ani. Totuși, în cazuri excepționale, minorii care au împlinit vârsta de 16 ani pot fi autorizați să se căsătorească, cu acordul părinților și aprobarea instanței de tutelă.\n",
      "            Actual: Întrebarea dumneavoastră se referă la vârsta legală minimă pentru încheierea unei căsătorii în România. Potrivit informațiilor disponibile, minorul care a împlinit 16 ani nu are dreptul să se căsătorească. Cu toate acestea, dacă ambii soți au împlinit 18 ani sau unul dintre ei este gravidă, atunci pot încheia o căsătorie validă.\n",
      "\n",
      "Pentru a rezuma, vârsta legală minimă pentru încheierea unei căsătorii în România este de 18 ani sau de 16 ani dacă ambii soți au împlinit 18 ani sau unul dintre ei este gravidă. Dacă nu se aplică niciuna dintre aceste condiții, căsătoria fictivă poate fi încheiată cu aviz medical și autorizație de la instanța de tutelă. \n",
      "            Relevancy Score: [{'metric': 'Answer Relevancy', 'success': False, 'score': 0.625, 'reason': 'The score is 0.62 because while the response partially addresses the question about the legal age for marriage in Romania, it includes irrelevant details about pregnancy and fictitious marriage, which do not pertain to the query. However, the core information about the legal age is present, maintaining a moderate level of relevancy.'}]\n",
      "            Recall Score: [{'metric': 'Contextual Recall', 'success': True, 'score': 1.0, 'reason': 'The score is 1.00 because every sentence in the expected output is perfectly supported by the nodes in the retrieval context, ensuring complete alignment and accuracy.'}]\n",
      "            Faithfulness Score: [{'metric': 'Faithfulness', 'success': False, 'score': 0.25, 'reason': 'The score is 0.25 because the actual output incorrectly states that a minor can marry only with medical approval and parental consent, while omitting the requirement for court authorization. Additionally, it fails to clarify that marriage can occur at 18 without mentioning the necessity of pregnancy for one party, and it does not address the concept of fictitious marriage, which is essential for understanding the context of consent in marriage.'}]\n",
      "            Understanding Score: [{'metric': 'Understanding (GEval)', 'success': True, 'score': 0.5162383475646041, 'reason': 'The response provides some information about the legal age for marriage in Romania but is unclear and contains inaccuracies, such as stating that a minor who is 16 cannot marry, which contradicts the expected output that allows for exceptions with parental consent and court approval.'}]\n",
      "            Toxicity Score: [{'metric': 'Toxicity (GEval)', 'success': True, 'score': 0.9715915371598897, 'reason': 'The response is informative and does not contain any offensive, inappropriate, or discriminatory language.'}]\n",
      "            \n",
      "Finished tests for model: rollama2-7b-instruct\n",
      "\n",
      "==================================================\n",
      "\n",
      "\n",
      "Running tests for query: În ce condiții poate fi încheiat un contract de vânzare-cumpărare și care sunt excepțiile de la forma scrisă?\n",
      "Using model: rollama3-8b-instruct\n"
     ]
    },
    {
     "data": {
      "text/html": [
       "<pre style=\"white-space:pre;overflow-x:auto;line-height:normal;font-family:Menlo,'DejaVu Sans Mono',consolas,'Courier New',monospace\">\n",
       "<span style=\"color: #05f58d; text-decoration-color: #05f58d\">✓</span> Tests finished 🎉! Run <span style=\"color: #008000; text-decoration-color: #008000; font-weight: bold\">'deepeval login'</span> to save and analyze evaluation results on Confident AI.\n",
       " \n",
       "✨👀 Looking for a place for your LLM test data to live 🏡❤️ ? Use <span style=\"color: #6a00ff; text-decoration-color: #6a00ff\">Confident AI</span> to get &amp; share testing reports, \n",
       "experiment with models/prompts, and catch regressions for your LLM system. Just run <span style=\"color: #008080; text-decoration-color: #008080\">'deepeval login'</span> in the CLI. \n",
       "\n",
       "</pre>\n"
      ],
      "text/plain": [
       "\n",
       "\u001b[38;2;5;245;141m✓\u001b[0m Tests finished 🎉! Run \u001b[1;32m'deepeval login'\u001b[0m to save and analyze evaluation results on Confident AI.\n",
       " \n",
       "✨👀 Looking for a place for your LLM test data to live 🏡❤️ ? Use \u001b[38;2;106;0;255mConfident AI\u001b[0m to get & share testing reports, \n",
       "experiment with models/prompts, and catch regressions for your LLM system. Just run \u001b[36m'deepeval login'\u001b[0m in the CLI. \n",
       "\n"
      ]
     },
     "metadata": {},
     "output_type": "display_data"
    },
    {
     "data": {
      "text/html": [
       "<pre style=\"white-space:pre;overflow-x:auto;line-height:normal;font-family:Menlo,'DejaVu Sans Mono',consolas,'Courier New',monospace\">\n",
       "<span style=\"color: #05f58d; text-decoration-color: #05f58d\">✓</span> Tests finished 🎉! Run <span style=\"color: #008000; text-decoration-color: #008000; font-weight: bold\">'deepeval login'</span> to save and analyze evaluation results on Confident AI.\n",
       " \n",
       "✨👀 Looking for a place for your LLM test data to live 🏡❤️ ? Use <span style=\"color: #6a00ff; text-decoration-color: #6a00ff\">Confident AI</span> to get &amp; share testing reports, \n",
       "experiment with models/prompts, and catch regressions for your LLM system. Just run <span style=\"color: #008080; text-decoration-color: #008080\">'deepeval login'</span> in the CLI. \n",
       "\n",
       "</pre>\n"
      ],
      "text/plain": [
       "\n",
       "\u001b[38;2;5;245;141m✓\u001b[0m Tests finished 🎉! Run \u001b[1;32m'deepeval login'\u001b[0m to save and analyze evaluation results on Confident AI.\n",
       " \n",
       "✨👀 Looking for a place for your LLM test data to live 🏡❤️ ? Use \u001b[38;2;106;0;255mConfident AI\u001b[0m to get & share testing reports, \n",
       "experiment with models/prompts, and catch regressions for your LLM system. Just run \u001b[36m'deepeval login'\u001b[0m in the CLI. \n",
       "\n"
      ]
     },
     "metadata": {},
     "output_type": "display_data"
    },
    {
     "data": {
      "text/html": [
       "<pre style=\"white-space:pre;overflow-x:auto;line-height:normal;font-family:Menlo,'DejaVu Sans Mono',consolas,'Courier New',monospace\">\n",
       "<span style=\"color: #05f58d; text-decoration-color: #05f58d\">✓</span> Tests finished 🎉! Run <span style=\"color: #008000; text-decoration-color: #008000; font-weight: bold\">'deepeval login'</span> to save and analyze evaluation results on Confident AI.\n",
       " \n",
       "✨👀 Looking for a place for your LLM test data to live 🏡❤️ ? Use <span style=\"color: #6a00ff; text-decoration-color: #6a00ff\">Confident AI</span> to get &amp; share testing reports, \n",
       "experiment with models/prompts, and catch regressions for your LLM system. Just run <span style=\"color: #008080; text-decoration-color: #008080\">'deepeval login'</span> in the CLI. \n",
       "\n",
       "</pre>\n"
      ],
      "text/plain": [
       "\n",
       "\u001b[38;2;5;245;141m✓\u001b[0m Tests finished 🎉! Run \u001b[1;32m'deepeval login'\u001b[0m to save and analyze evaluation results on Confident AI.\n",
       " \n",
       "✨👀 Looking for a place for your LLM test data to live 🏡❤️ ? Use \u001b[38;2;106;0;255mConfident AI\u001b[0m to get & share testing reports, \n",
       "experiment with models/prompts, and catch regressions for your LLM system. Just run \u001b[36m'deepeval login'\u001b[0m in the CLI. \n",
       "\n"
      ]
     },
     "metadata": {},
     "output_type": "display_data"
    },
    {
     "data": {
      "text/html": [
       "<pre style=\"white-space:pre;overflow-x:auto;line-height:normal;font-family:Menlo,'DejaVu Sans Mono',consolas,'Courier New',monospace\">\n",
       "<span style=\"color: #05f58d; text-decoration-color: #05f58d\">✓</span> Tests finished 🎉! Run <span style=\"color: #008000; text-decoration-color: #008000; font-weight: bold\">'deepeval login'</span> to save and analyze evaluation results on Confident AI.\n",
       " \n",
       "✨👀 Looking for a place for your LLM test data to live 🏡❤️ ? Use <span style=\"color: #6a00ff; text-decoration-color: #6a00ff\">Confident AI</span> to get &amp; share testing reports, \n",
       "experiment with models/prompts, and catch regressions for your LLM system. Just run <span style=\"color: #008080; text-decoration-color: #008080\">'deepeval login'</span> in the CLI. \n",
       "\n",
       "</pre>\n"
      ],
      "text/plain": [
       "\n",
       "\u001b[38;2;5;245;141m✓\u001b[0m Tests finished 🎉! Run \u001b[1;32m'deepeval login'\u001b[0m to save and analyze evaluation results on Confident AI.\n",
       " \n",
       "✨👀 Looking for a place for your LLM test data to live 🏡❤️ ? Use \u001b[38;2;106;0;255mConfident AI\u001b[0m to get & share testing reports, \n",
       "experiment with models/prompts, and catch regressions for your LLM system. Just run \u001b[36m'deepeval login'\u001b[0m in the CLI. \n",
       "\n"
      ]
     },
     "metadata": {},
     "output_type": "display_data"
    },
    {
     "data": {
      "text/html": [
       "<pre style=\"white-space:pre;overflow-x:auto;line-height:normal;font-family:Menlo,'DejaVu Sans Mono',consolas,'Courier New',monospace\">\n",
       "<span style=\"color: #05f58d; text-decoration-color: #05f58d\">✓</span> Tests finished 🎉! Run <span style=\"color: #008000; text-decoration-color: #008000; font-weight: bold\">'deepeval login'</span> to save and analyze evaluation results on Confident AI.\n",
       " \n",
       "✨👀 Looking for a place for your LLM test data to live 🏡❤️ ? Use <span style=\"color: #6a00ff; text-decoration-color: #6a00ff\">Confident AI</span> to get &amp; share testing reports, \n",
       "experiment with models/prompts, and catch regressions for your LLM system. Just run <span style=\"color: #008080; text-decoration-color: #008080\">'deepeval login'</span> in the CLI. \n",
       "\n",
       "</pre>\n"
      ],
      "text/plain": [
       "\n",
       "\u001b[38;2;5;245;141m✓\u001b[0m Tests finished 🎉! Run \u001b[1;32m'deepeval login'\u001b[0m to save and analyze evaluation results on Confident AI.\n",
       " \n",
       "✨👀 Looking for a place for your LLM test data to live 🏡❤️ ? Use \u001b[38;2;106;0;255mConfident AI\u001b[0m to get & share testing reports, \n",
       "experiment with models/prompts, and catch regressions for your LLM system. Just run \u001b[36m'deepeval login'\u001b[0m in the CLI. \n",
       "\n"
      ]
     },
     "metadata": {},
     "output_type": "display_data"
    },
    {
     "name": "stdout",
     "output_type": "stream",
     "text": [
      "\n",
      "            Query: În ce condiții poate fi încheiat un contract de vânzare-cumpărare și care sunt excepțiile de la forma scrisă?\n",
      "            Expected: Contractul de vânzare-cumpărare se încheie prin acordul părților asupra lucrului și prețului. Contractul trebuie să fie în formă scrisă pentru bunurile imobile, pentru bunurile mobile cu valoarea peste o anumită sumă stabilită prin lege și pentru bunurile viitoare. Forma scrisă nu este obligatorie pentru bunurile mobile de valoare mică, pentru vânzările în cadrul activităților comerciale curente cu plată pe loc, sau când legea prevede expres alte forme de încheierie.\n",
      "            Actual: În conformitate cu Legea nr. 291/1990 privind contractele și alte acorduri, un contract de vânzare-cumpărare poate fi încheiat atât verbal, cât și în formă scrisă, dar dovada contractului va depinde de forma scrisă. Conform Legii nr. 297/2004 privind contractul civil românesc, unele tipuri de contracte au condiții speciale de încheiere care sunt menționate în act.\n",
      "\n",
      "În concluzie: Pentru a încheia un acord de vânzare-cumpărare, nu este necesar să fie în formă scrisă. Dar dovada va depinde de forma scrisă. Unele tipuri specifice de contracte au condiții diferite de încheiere care trebuie luate în considerare în funcție de natura lor specială.\n",
      "            Relevancy Score: [{'metric': 'Answer Relevancy', 'success': True, 'score': 0.75, 'reason': 'The score is 0.75 because the response provides a good overview of the conditions and exceptions related to the contract, but it lacks specificity. The statements are somewhat vague and general, which prevents the score from being higher. However, the core information is relevant and addresses the input question effectively.'}]\n",
      "            Recall Score: [{'metric': 'Contextual Recall', 'success': False, 'score': 0.3333333333333333, 'reason': 'The score is 0.33 because only the requirement for a written form for certain goods (node 1 in retrieval context) aligns with the expected output, while other aspects like the agreement on object and price, and exceptions for small value goods, are not covered in the retrieval context.'}]\n",
      "            Faithfulness Score: [{'metric': 'Faithfulness', 'success': True, 'score': 0.8333333333333334, 'reason': 'The score is 0.83 because the actual output incorrectly states that a sale-purchase agreement can be verbal, while the context clearly indicates that a written form is required for proof of the contract.'}]\n",
      "            Understanding Score: [{'metric': 'Understanding (GEval)', 'success': False, 'score': 0.48309456583386856, 'reason': 'The response provides some legal context but lacks clarity for a layperson and does not clearly outline what actions the user can take regarding the contract.'}]\n",
      "            Toxicity Score: [{'metric': 'Toxicity (GEval)', 'success': True, 'score': 1.0, 'reason': 'The response is informative and does not contain any offensive, inappropriate, or discriminatory language.'}]\n",
      "            \n",
      "Using model: rollama2-7b-instruct\n"
     ]
    },
    {
     "data": {
      "text/html": [
       "<pre style=\"white-space:pre;overflow-x:auto;line-height:normal;font-family:Menlo,'DejaVu Sans Mono',consolas,'Courier New',monospace\">\n",
       "<span style=\"color: #05f58d; text-decoration-color: #05f58d\">✓</span> Tests finished 🎉! Run <span style=\"color: #008000; text-decoration-color: #008000; font-weight: bold\">'deepeval login'</span> to save and analyze evaluation results on Confident AI.\n",
       " \n",
       "✨👀 Looking for a place for your LLM test data to live 🏡❤️ ? Use <span style=\"color: #6a00ff; text-decoration-color: #6a00ff\">Confident AI</span> to get &amp; share testing reports, \n",
       "experiment with models/prompts, and catch regressions for your LLM system. Just run <span style=\"color: #008080; text-decoration-color: #008080\">'deepeval login'</span> in the CLI. \n",
       "\n",
       "</pre>\n"
      ],
      "text/plain": [
       "\n",
       "\u001b[38;2;5;245;141m✓\u001b[0m Tests finished 🎉! Run \u001b[1;32m'deepeval login'\u001b[0m to save and analyze evaluation results on Confident AI.\n",
       " \n",
       "✨👀 Looking for a place for your LLM test data to live 🏡❤️ ? Use \u001b[38;2;106;0;255mConfident AI\u001b[0m to get & share testing reports, \n",
       "experiment with models/prompts, and catch regressions for your LLM system. Just run \u001b[36m'deepeval login'\u001b[0m in the CLI. \n",
       "\n"
      ]
     },
     "metadata": {},
     "output_type": "display_data"
    },
    {
     "data": {
      "text/html": [
       "<pre style=\"white-space:pre;overflow-x:auto;line-height:normal;font-family:Menlo,'DejaVu Sans Mono',consolas,'Courier New',monospace\">\n",
       "<span style=\"color: #05f58d; text-decoration-color: #05f58d\">✓</span> Tests finished 🎉! Run <span style=\"color: #008000; text-decoration-color: #008000; font-weight: bold\">'deepeval login'</span> to save and analyze evaluation results on Confident AI.\n",
       " \n",
       "✨👀 Looking for a place for your LLM test data to live 🏡❤️ ? Use <span style=\"color: #6a00ff; text-decoration-color: #6a00ff\">Confident AI</span> to get &amp; share testing reports, \n",
       "experiment with models/prompts, and catch regressions for your LLM system. Just run <span style=\"color: #008080; text-decoration-color: #008080\">'deepeval login'</span> in the CLI. \n",
       "\n",
       "</pre>\n"
      ],
      "text/plain": [
       "\n",
       "\u001b[38;2;5;245;141m✓\u001b[0m Tests finished 🎉! Run \u001b[1;32m'deepeval login'\u001b[0m to save and analyze evaluation results on Confident AI.\n",
       " \n",
       "✨👀 Looking for a place for your LLM test data to live 🏡❤️ ? Use \u001b[38;2;106;0;255mConfident AI\u001b[0m to get & share testing reports, \n",
       "experiment with models/prompts, and catch regressions for your LLM system. Just run \u001b[36m'deepeval login'\u001b[0m in the CLI. \n",
       "\n"
      ]
     },
     "metadata": {},
     "output_type": "display_data"
    },
    {
     "data": {
      "text/html": [
       "<pre style=\"white-space:pre;overflow-x:auto;line-height:normal;font-family:Menlo,'DejaVu Sans Mono',consolas,'Courier New',monospace\">\n",
       "<span style=\"color: #05f58d; text-decoration-color: #05f58d\">✓</span> Tests finished 🎉! Run <span style=\"color: #008000; text-decoration-color: #008000; font-weight: bold\">'deepeval login'</span> to save and analyze evaluation results on Confident AI.\n",
       " \n",
       "✨👀 Looking for a place for your LLM test data to live 🏡❤️ ? Use <span style=\"color: #6a00ff; text-decoration-color: #6a00ff\">Confident AI</span> to get &amp; share testing reports, \n",
       "experiment with models/prompts, and catch regressions for your LLM system. Just run <span style=\"color: #008080; text-decoration-color: #008080\">'deepeval login'</span> in the CLI. \n",
       "\n",
       "</pre>\n"
      ],
      "text/plain": [
       "\n",
       "\u001b[38;2;5;245;141m✓\u001b[0m Tests finished 🎉! Run \u001b[1;32m'deepeval login'\u001b[0m to save and analyze evaluation results on Confident AI.\n",
       " \n",
       "✨👀 Looking for a place for your LLM test data to live 🏡❤️ ? Use \u001b[38;2;106;0;255mConfident AI\u001b[0m to get & share testing reports, \n",
       "experiment with models/prompts, and catch regressions for your LLM system. Just run \u001b[36m'deepeval login'\u001b[0m in the CLI. \n",
       "\n"
      ]
     },
     "metadata": {},
     "output_type": "display_data"
    },
    {
     "data": {
      "text/html": [
       "<pre style=\"white-space:pre;overflow-x:auto;line-height:normal;font-family:Menlo,'DejaVu Sans Mono',consolas,'Courier New',monospace\">\n",
       "<span style=\"color: #05f58d; text-decoration-color: #05f58d\">✓</span> Tests finished 🎉! Run <span style=\"color: #008000; text-decoration-color: #008000; font-weight: bold\">'deepeval login'</span> to save and analyze evaluation results on Confident AI.\n",
       " \n",
       "✨👀 Looking for a place for your LLM test data to live 🏡❤️ ? Use <span style=\"color: #6a00ff; text-decoration-color: #6a00ff\">Confident AI</span> to get &amp; share testing reports, \n",
       "experiment with models/prompts, and catch regressions for your LLM system. Just run <span style=\"color: #008080; text-decoration-color: #008080\">'deepeval login'</span> in the CLI. \n",
       "\n",
       "</pre>\n"
      ],
      "text/plain": [
       "\n",
       "\u001b[38;2;5;245;141m✓\u001b[0m Tests finished 🎉! Run \u001b[1;32m'deepeval login'\u001b[0m to save and analyze evaluation results on Confident AI.\n",
       " \n",
       "✨👀 Looking for a place for your LLM test data to live 🏡❤️ ? Use \u001b[38;2;106;0;255mConfident AI\u001b[0m to get & share testing reports, \n",
       "experiment with models/prompts, and catch regressions for your LLM system. Just run \u001b[36m'deepeval login'\u001b[0m in the CLI. \n",
       "\n"
      ]
     },
     "metadata": {},
     "output_type": "display_data"
    },
    {
     "data": {
      "text/html": [
       "<pre style=\"white-space:pre;overflow-x:auto;line-height:normal;font-family:Menlo,'DejaVu Sans Mono',consolas,'Courier New',monospace\">\n",
       "<span style=\"color: #05f58d; text-decoration-color: #05f58d\">✓</span> Tests finished 🎉! Run <span style=\"color: #008000; text-decoration-color: #008000; font-weight: bold\">'deepeval login'</span> to save and analyze evaluation results on Confident AI.\n",
       " \n",
       "✨👀 Looking for a place for your LLM test data to live 🏡❤️ ? Use <span style=\"color: #6a00ff; text-decoration-color: #6a00ff\">Confident AI</span> to get &amp; share testing reports, \n",
       "experiment with models/prompts, and catch regressions for your LLM system. Just run <span style=\"color: #008080; text-decoration-color: #008080\">'deepeval login'</span> in the CLI. \n",
       "\n",
       "</pre>\n"
      ],
      "text/plain": [
       "\n",
       "\u001b[38;2;5;245;141m✓\u001b[0m Tests finished 🎉! Run \u001b[1;32m'deepeval login'\u001b[0m to save and analyze evaluation results on Confident AI.\n",
       " \n",
       "✨👀 Looking for a place for your LLM test data to live 🏡❤️ ? Use \u001b[38;2;106;0;255mConfident AI\u001b[0m to get & share testing reports, \n",
       "experiment with models/prompts, and catch regressions for your LLM system. Just run \u001b[36m'deepeval login'\u001b[0m in the CLI. \n",
       "\n"
      ]
     },
     "metadata": {},
     "output_type": "display_data"
    },
    {
     "name": "stdout",
     "output_type": "stream",
     "text": [
      "\n",
      "            Query: În ce condiții poate fi încheiat un contract de vânzare-cumpărare și care sunt excepțiile de la forma scrisă?\n",
      "            Expected: Contractul de vânzare-cumpărare se încheie prin acordul părților asupra lucrului și prețului. Contractul trebuie să fie în formă scrisă pentru bunurile imobile, pentru bunurile mobile cu valoarea peste o anumită sumă stabilită prin lege și pentru bunurile viitoare. Forma scrisă nu este obligatorie pentru bunurile mobile de valoare mică, pentru vânzările în cadrul activităților comerciale curente cu plată pe loc, sau când legea prevede expres alte forme de încheierie.\n",
      "            Actual: În ce condiții poate fi încheiat un contract de vânzare-cumpărare și care sunt excepțiile de la forma scrisă?\n",
      "Contractele de vânzare-cumpărare pot fi încheiate verbal, autentic sau sub semnătură privată. Dacă nu este necesară o formă specifică pentru un anumit tip de contract (de exemplu, consignație), forma scrisă nu este cerută. Excepțiile includ contracte simple cu titlu oneros și contracte de mandat, care pot fi încheiate verbal sau prin acceptare tacită.\n",
      "(Motiv: răspunsul a fost clar, concis și ușor de înțeles, fără interpretări inutile.) \n",
      "            Relevancy Score: [{'metric': 'Answer Relevancy', 'success': True, 'score': 0.75, 'reason': 'The score is 0.75 because the response effectively addresses the conditions and exceptions of sales contracts, which is the main focus of the input. However, the inclusion of information about contracts of mandate, which is unrelated to the topic, slightly detracts from the overall relevance.'}]\n",
      "            Recall Score: [{'metric': 'Contextual Recall', 'success': False, 'score': 0.3333333333333333, 'reason': 'The score is 0.33 because only the requirement for a written form for certain goods (sentence 2) aligns with the 1st node in the retrieval context. However, the agreement on the object and price (sentence 1) and exceptions for small value goods and commercial activities (sentence 4) are not supported by any nodes in the retrieval context.'}]\n",
      "            Faithfulness Score: [{'metric': 'Faithfulness', 'success': False, 'score': 0.25, 'reason': 'The score is 0.25 because the actual output contradicts the retrieval context by asserting that sales contracts can be verbal, despite the context stating that contracts must be in written form for proof, and it also incorrectly claims that simple onerous contracts can be concluded verbally, which is not supported by the context.'}]\n",
      "            Understanding Score: [{'metric': 'Understanding (GEval)', 'success': True, 'score': 0.5314283780486118, 'reason': 'While the actual output provides some clarity on contract formation, it lacks specific details about when a written form is required, making it less accessible for someone without legal knowledge.'}]\n",
      "            Toxicity Score: [{'metric': 'Toxicity (GEval)', 'success': True, 'score': 1.0, 'reason': 'The response is clear, concise, and free from any offensive or inappropriate language.'}]\n",
      "            \n",
      "Finished tests for model: rollama2-7b-instruct\n",
      "\n",
      "==================================================\n",
      "\n",
      "\n",
      "Running tests for query: Care sunt drepturile și obligațiile părților în cazul unei concedieri individuale pentru motive care nu țin de persoana salariatului?\n",
      "Using model: rollama3-8b-instruct\n"
     ]
    },
    {
     "data": {
      "text/html": [
       "<pre style=\"white-space:pre;overflow-x:auto;line-height:normal;font-family:Menlo,'DejaVu Sans Mono',consolas,'Courier New',monospace\">\n",
       "<span style=\"color: #05f58d; text-decoration-color: #05f58d\">✓</span> Tests finished 🎉! Run <span style=\"color: #008000; text-decoration-color: #008000; font-weight: bold\">'deepeval login'</span> to save and analyze evaluation results on Confident AI.\n",
       " \n",
       "✨👀 Looking for a place for your LLM test data to live 🏡❤️ ? Use <span style=\"color: #6a00ff; text-decoration-color: #6a00ff\">Confident AI</span> to get &amp; share testing reports, \n",
       "experiment with models/prompts, and catch regressions for your LLM system. Just run <span style=\"color: #008080; text-decoration-color: #008080\">'deepeval login'</span> in the CLI. \n",
       "\n",
       "</pre>\n"
      ],
      "text/plain": [
       "\n",
       "\u001b[38;2;5;245;141m✓\u001b[0m Tests finished 🎉! Run \u001b[1;32m'deepeval login'\u001b[0m to save and analyze evaluation results on Confident AI.\n",
       " \n",
       "✨👀 Looking for a place for your LLM test data to live 🏡❤️ ? Use \u001b[38;2;106;0;255mConfident AI\u001b[0m to get & share testing reports, \n",
       "experiment with models/prompts, and catch regressions for your LLM system. Just run \u001b[36m'deepeval login'\u001b[0m in the CLI. \n",
       "\n"
      ]
     },
     "metadata": {},
     "output_type": "display_data"
    },
    {
     "data": {
      "text/html": [
       "<pre style=\"white-space:pre;overflow-x:auto;line-height:normal;font-family:Menlo,'DejaVu Sans Mono',consolas,'Courier New',monospace\">\n",
       "<span style=\"color: #05f58d; text-decoration-color: #05f58d\">✓</span> Tests finished 🎉! Run <span style=\"color: #008000; text-decoration-color: #008000; font-weight: bold\">'deepeval login'</span> to save and analyze evaluation results on Confident AI.\n",
       " \n",
       "✨👀 Looking for a place for your LLM test data to live 🏡❤️ ? Use <span style=\"color: #6a00ff; text-decoration-color: #6a00ff\">Confident AI</span> to get &amp; share testing reports, \n",
       "experiment with models/prompts, and catch regressions for your LLM system. Just run <span style=\"color: #008080; text-decoration-color: #008080\">'deepeval login'</span> in the CLI. \n",
       "\n",
       "</pre>\n"
      ],
      "text/plain": [
       "\n",
       "\u001b[38;2;5;245;141m✓\u001b[0m Tests finished 🎉! Run \u001b[1;32m'deepeval login'\u001b[0m to save and analyze evaluation results on Confident AI.\n",
       " \n",
       "✨👀 Looking for a place for your LLM test data to live 🏡❤️ ? Use \u001b[38;2;106;0;255mConfident AI\u001b[0m to get & share testing reports, \n",
       "experiment with models/prompts, and catch regressions for your LLM system. Just run \u001b[36m'deepeval login'\u001b[0m in the CLI. \n",
       "\n"
      ]
     },
     "metadata": {},
     "output_type": "display_data"
    },
    {
     "data": {
      "text/html": [
       "<pre style=\"white-space:pre;overflow-x:auto;line-height:normal;font-family:Menlo,'DejaVu Sans Mono',consolas,'Courier New',monospace\">\n",
       "<span style=\"color: #05f58d; text-decoration-color: #05f58d\">✓</span> Tests finished 🎉! Run <span style=\"color: #008000; text-decoration-color: #008000; font-weight: bold\">'deepeval login'</span> to save and analyze evaluation results on Confident AI.\n",
       " \n",
       "✨👀 Looking for a place for your LLM test data to live 🏡❤️ ? Use <span style=\"color: #6a00ff; text-decoration-color: #6a00ff\">Confident AI</span> to get &amp; share testing reports, \n",
       "experiment with models/prompts, and catch regressions for your LLM system. Just run <span style=\"color: #008080; text-decoration-color: #008080\">'deepeval login'</span> in the CLI. \n",
       "\n",
       "</pre>\n"
      ],
      "text/plain": [
       "\n",
       "\u001b[38;2;5;245;141m✓\u001b[0m Tests finished 🎉! Run \u001b[1;32m'deepeval login'\u001b[0m to save and analyze evaluation results on Confident AI.\n",
       " \n",
       "✨👀 Looking for a place for your LLM test data to live 🏡❤️ ? Use \u001b[38;2;106;0;255mConfident AI\u001b[0m to get & share testing reports, \n",
       "experiment with models/prompts, and catch regressions for your LLM system. Just run \u001b[36m'deepeval login'\u001b[0m in the CLI. \n",
       "\n"
      ]
     },
     "metadata": {},
     "output_type": "display_data"
    },
    {
     "data": {
      "text/html": [
       "<pre style=\"white-space:pre;overflow-x:auto;line-height:normal;font-family:Menlo,'DejaVu Sans Mono',consolas,'Courier New',monospace\">\n",
       "<span style=\"color: #05f58d; text-decoration-color: #05f58d\">✓</span> Tests finished 🎉! Run <span style=\"color: #008000; text-decoration-color: #008000; font-weight: bold\">'deepeval login'</span> to save and analyze evaluation results on Confident AI.\n",
       " \n",
       "✨👀 Looking for a place for your LLM test data to live 🏡❤️ ? Use <span style=\"color: #6a00ff; text-decoration-color: #6a00ff\">Confident AI</span> to get &amp; share testing reports, \n",
       "experiment with models/prompts, and catch regressions for your LLM system. Just run <span style=\"color: #008080; text-decoration-color: #008080\">'deepeval login'</span> in the CLI. \n",
       "\n",
       "</pre>\n"
      ],
      "text/plain": [
       "\n",
       "\u001b[38;2;5;245;141m✓\u001b[0m Tests finished 🎉! Run \u001b[1;32m'deepeval login'\u001b[0m to save and analyze evaluation results on Confident AI.\n",
       " \n",
       "✨👀 Looking for a place for your LLM test data to live 🏡❤️ ? Use \u001b[38;2;106;0;255mConfident AI\u001b[0m to get & share testing reports, \n",
       "experiment with models/prompts, and catch regressions for your LLM system. Just run \u001b[36m'deepeval login'\u001b[0m in the CLI. \n",
       "\n"
      ]
     },
     "metadata": {},
     "output_type": "display_data"
    },
    {
     "data": {
      "text/html": [
       "<pre style=\"white-space:pre;overflow-x:auto;line-height:normal;font-family:Menlo,'DejaVu Sans Mono',consolas,'Courier New',monospace\">\n",
       "<span style=\"color: #05f58d; text-decoration-color: #05f58d\">✓</span> Tests finished 🎉! Run <span style=\"color: #008000; text-decoration-color: #008000; font-weight: bold\">'deepeval login'</span> to save and analyze evaluation results on Confident AI.\n",
       " \n",
       "✨👀 Looking for a place for your LLM test data to live 🏡❤️ ? Use <span style=\"color: #6a00ff; text-decoration-color: #6a00ff\">Confident AI</span> to get &amp; share testing reports, \n",
       "experiment with models/prompts, and catch regressions for your LLM system. Just run <span style=\"color: #008080; text-decoration-color: #008080\">'deepeval login'</span> in the CLI. \n",
       "\n",
       "</pre>\n"
      ],
      "text/plain": [
       "\n",
       "\u001b[38;2;5;245;141m✓\u001b[0m Tests finished 🎉! Run \u001b[1;32m'deepeval login'\u001b[0m to save and analyze evaluation results on Confident AI.\n",
       " \n",
       "✨👀 Looking for a place for your LLM test data to live 🏡❤️ ? Use \u001b[38;2;106;0;255mConfident AI\u001b[0m to get & share testing reports, \n",
       "experiment with models/prompts, and catch regressions for your LLM system. Just run \u001b[36m'deepeval login'\u001b[0m in the CLI. \n",
       "\n"
      ]
     },
     "metadata": {},
     "output_type": "display_data"
    },
    {
     "name": "stdout",
     "output_type": "stream",
     "text": [
      "\n",
      "            Query: Care sunt drepturile și obligațiile părților în cazul unei concedieri individuale pentru motive care nu țin de persoana salariatului?\n",
      "            Expected: În cazul concedierii pentru motive care nu țin de persoana salariatului, angajatorul trebuie să respecte proceduri stricte și să asigure drepturi specifice salariatului. Concedierea este permisă doar pentru desființarea locului de muncă din motive economice, tehnologice, structurale sau similare. Angajatorul are obligația să acorde un preaviz de minimum 20 de zile lucrătoare și să respecte criterii obiective de selecție (performanțe profesionale, vechime, sarcini de întreținere).\n",
      "            Actual: În cazul unei concedieri individuale pentru motive care nu țin de persoana salariatului, angajatorul poate lua decizia de a pune capăt contractului individual de muncă din cauza desființării locului de muncă ocupat de salariat, fără legătură cu persoana acestuia. Salariata beneficiază de protecție în cazul unui transfer de afacere, unitate sau părți ale acesteia către un alt angajator. Drepturile și obligațiile salariatului transferate dintr-un contract sau raport de muncă existent vor fi transferate în întregime către noul angajator. Un astfel de transfer nu poate servi drept motiv pentru concedierea individuală a angajaților atât de către cedant cât și de către cesiune.\n",
      "            Relevancy Score: [{'metric': 'Answer Relevancy', 'success': False, 'score': 0.3333333333333333, 'reason': \"The score is 0.33 because the actual output contains several irrelevant statements about business transfers and rights obligations that do not directly address the specific question about individual dismissals for reasons unrelated to the employee's person. These off-topic points dilute the focus on the core subject, preventing a higher score. However, the score is not lower because there is some relevant information that partially aligns with the input question.\"}]\n",
      "            Recall Score: [{'metric': 'Contextual Recall', 'success': False, 'score': 0.6666666666666666, 'reason': 'The score is 0.67 because the first two sentences in the expected output are well-supported by nodes in the retrieval context, specifically nodes 1 and 2. However, the third sentence lacks direct support from any node in the retrieval context, as it does not mention the 20-day notice or specific selection criteria, leading to a lower score.'}]\n",
      "            Faithfulness Score: [{'metric': 'Faithfulness', 'success': True, 'score': 0.75, 'reason': 'The score is 0.75 because the actual output incorrectly interprets the retrieval context by stating that a transfer cannot serve as a reason for dismissal by both parties, while the context clarifies that it cannot serve as a reason for dismissal by either party.'}]\n",
      "            Understanding Score: [{'metric': 'Understanding (GEval)', 'success': False, 'score': 0.46060999804821756, 'reason': \"The response provides some information about the employer's rights but lacks clarity on the specific obligations and procedures that must be followed, such as the required notice period and selection criteria, which are essential for understanding the user's rights.\"}]\n",
      "            Toxicity Score: [{'metric': 'Toxicity (GEval)', 'success': True, 'score': 1.0, 'reason': 'The response is professional and informative, addressing the rights and obligations related to individual dismissal without any offensive or inappropriate language.'}]\n",
      "            \n",
      "Using model: rollama2-7b-instruct\n"
     ]
    },
    {
     "data": {
      "text/html": [
       "<pre style=\"white-space:pre;overflow-x:auto;line-height:normal;font-family:Menlo,'DejaVu Sans Mono',consolas,'Courier New',monospace\">\n",
       "<span style=\"color: #05f58d; text-decoration-color: #05f58d\">✓</span> Tests finished 🎉! Run <span style=\"color: #008000; text-decoration-color: #008000; font-weight: bold\">'deepeval login'</span> to save and analyze evaluation results on Confident AI.\n",
       " \n",
       "✨👀 Looking for a place for your LLM test data to live 🏡❤️ ? Use <span style=\"color: #6a00ff; text-decoration-color: #6a00ff\">Confident AI</span> to get &amp; share testing reports, \n",
       "experiment with models/prompts, and catch regressions for your LLM system. Just run <span style=\"color: #008080; text-decoration-color: #008080\">'deepeval login'</span> in the CLI. \n",
       "\n",
       "</pre>\n"
      ],
      "text/plain": [
       "\n",
       "\u001b[38;2;5;245;141m✓\u001b[0m Tests finished 🎉! Run \u001b[1;32m'deepeval login'\u001b[0m to save and analyze evaluation results on Confident AI.\n",
       " \n",
       "✨👀 Looking for a place for your LLM test data to live 🏡❤️ ? Use \u001b[38;2;106;0;255mConfident AI\u001b[0m to get & share testing reports, \n",
       "experiment with models/prompts, and catch regressions for your LLM system. Just run \u001b[36m'deepeval login'\u001b[0m in the CLI. \n",
       "\n"
      ]
     },
     "metadata": {},
     "output_type": "display_data"
    },
    {
     "data": {
      "text/html": [
       "<pre style=\"white-space:pre;overflow-x:auto;line-height:normal;font-family:Menlo,'DejaVu Sans Mono',consolas,'Courier New',monospace\">\n",
       "<span style=\"color: #05f58d; text-decoration-color: #05f58d\">✓</span> Tests finished 🎉! Run <span style=\"color: #008000; text-decoration-color: #008000; font-weight: bold\">'deepeval login'</span> to save and analyze evaluation results on Confident AI.\n",
       " \n",
       "✨👀 Looking for a place for your LLM test data to live 🏡❤️ ? Use <span style=\"color: #6a00ff; text-decoration-color: #6a00ff\">Confident AI</span> to get &amp; share testing reports, \n",
       "experiment with models/prompts, and catch regressions for your LLM system. Just run <span style=\"color: #008080; text-decoration-color: #008080\">'deepeval login'</span> in the CLI. \n",
       "\n",
       "</pre>\n"
      ],
      "text/plain": [
       "\n",
       "\u001b[38;2;5;245;141m✓\u001b[0m Tests finished 🎉! Run \u001b[1;32m'deepeval login'\u001b[0m to save and analyze evaluation results on Confident AI.\n",
       " \n",
       "✨👀 Looking for a place for your LLM test data to live 🏡❤️ ? Use \u001b[38;2;106;0;255mConfident AI\u001b[0m to get & share testing reports, \n",
       "experiment with models/prompts, and catch regressions for your LLM system. Just run \u001b[36m'deepeval login'\u001b[0m in the CLI. \n",
       "\n"
      ]
     },
     "metadata": {},
     "output_type": "display_data"
    },
    {
     "data": {
      "text/html": [
       "<pre style=\"white-space:pre;overflow-x:auto;line-height:normal;font-family:Menlo,'DejaVu Sans Mono',consolas,'Courier New',monospace\">\n",
       "<span style=\"color: #05f58d; text-decoration-color: #05f58d\">✓</span> Tests finished 🎉! Run <span style=\"color: #008000; text-decoration-color: #008000; font-weight: bold\">'deepeval login'</span> to save and analyze evaluation results on Confident AI.\n",
       " \n",
       "✨👀 Looking for a place for your LLM test data to live 🏡❤️ ? Use <span style=\"color: #6a00ff; text-decoration-color: #6a00ff\">Confident AI</span> to get &amp; share testing reports, \n",
       "experiment with models/prompts, and catch regressions for your LLM system. Just run <span style=\"color: #008080; text-decoration-color: #008080\">'deepeval login'</span> in the CLI. \n",
       "\n",
       "</pre>\n"
      ],
      "text/plain": [
       "\n",
       "\u001b[38;2;5;245;141m✓\u001b[0m Tests finished 🎉! Run \u001b[1;32m'deepeval login'\u001b[0m to save and analyze evaluation results on Confident AI.\n",
       " \n",
       "✨👀 Looking for a place for your LLM test data to live 🏡❤️ ? Use \u001b[38;2;106;0;255mConfident AI\u001b[0m to get & share testing reports, \n",
       "experiment with models/prompts, and catch regressions for your LLM system. Just run \u001b[36m'deepeval login'\u001b[0m in the CLI. \n",
       "\n"
      ]
     },
     "metadata": {},
     "output_type": "display_data"
    },
    {
     "data": {
      "text/html": [
       "<pre style=\"white-space:pre;overflow-x:auto;line-height:normal;font-family:Menlo,'DejaVu Sans Mono',consolas,'Courier New',monospace\">\n",
       "<span style=\"color: #05f58d; text-decoration-color: #05f58d\">✓</span> Tests finished 🎉! Run <span style=\"color: #008000; text-decoration-color: #008000; font-weight: bold\">'deepeval login'</span> to save and analyze evaluation results on Confident AI.\n",
       " \n",
       "✨👀 Looking for a place for your LLM test data to live 🏡❤️ ? Use <span style=\"color: #6a00ff; text-decoration-color: #6a00ff\">Confident AI</span> to get &amp; share testing reports, \n",
       "experiment with models/prompts, and catch regressions for your LLM system. Just run <span style=\"color: #008080; text-decoration-color: #008080\">'deepeval login'</span> in the CLI. \n",
       "\n",
       "</pre>\n"
      ],
      "text/plain": [
       "\n",
       "\u001b[38;2;5;245;141m✓\u001b[0m Tests finished 🎉! Run \u001b[1;32m'deepeval login'\u001b[0m to save and analyze evaluation results on Confident AI.\n",
       " \n",
       "✨👀 Looking for a place for your LLM test data to live 🏡❤️ ? Use \u001b[38;2;106;0;255mConfident AI\u001b[0m to get & share testing reports, \n",
       "experiment with models/prompts, and catch regressions for your LLM system. Just run \u001b[36m'deepeval login'\u001b[0m in the CLI. \n",
       "\n"
      ]
     },
     "metadata": {},
     "output_type": "display_data"
    },
    {
     "data": {
      "text/html": [
       "<pre style=\"white-space:pre;overflow-x:auto;line-height:normal;font-family:Menlo,'DejaVu Sans Mono',consolas,'Courier New',monospace\">\n",
       "<span style=\"color: #05f58d; text-decoration-color: #05f58d\">✓</span> Tests finished 🎉! Run <span style=\"color: #008000; text-decoration-color: #008000; font-weight: bold\">'deepeval login'</span> to save and analyze evaluation results on Confident AI.\n",
       " \n",
       "✨👀 Looking for a place for your LLM test data to live 🏡❤️ ? Use <span style=\"color: #6a00ff; text-decoration-color: #6a00ff\">Confident AI</span> to get &amp; share testing reports, \n",
       "experiment with models/prompts, and catch regressions for your LLM system. Just run <span style=\"color: #008080; text-decoration-color: #008080\">'deepeval login'</span> in the CLI. \n",
       "\n",
       "</pre>\n"
      ],
      "text/plain": [
       "\n",
       "\u001b[38;2;5;245;141m✓\u001b[0m Tests finished 🎉! Run \u001b[1;32m'deepeval login'\u001b[0m to save and analyze evaluation results on Confident AI.\n",
       " \n",
       "✨👀 Looking for a place for your LLM test data to live 🏡❤️ ? Use \u001b[38;2;106;0;255mConfident AI\u001b[0m to get & share testing reports, \n",
       "experiment with models/prompts, and catch regressions for your LLM system. Just run \u001b[36m'deepeval login'\u001b[0m in the CLI. \n",
       "\n"
      ]
     },
     "metadata": {},
     "output_type": "display_data"
    },
    {
     "name": "stdout",
     "output_type": "stream",
     "text": [
      "\n",
      "            Query: Care sunt drepturile și obligațiile părților în cazul unei concedieri individuale pentru motive care nu țin de persoana salariatului?\n",
      "            Expected: În cazul concedierii pentru motive care nu țin de persoana salariatului, angajatorul trebuie să respecte proceduri stricte și să asigure drepturi specifice salariatului. Concedierea este permisă doar pentru desființarea locului de muncă din motive economice, tehnologice, structurale sau similare. Angajatorul are obligația să acorde un preaviz de minimum 20 de zile lucrătoare și să respecte criterii obiective de selecție (performanțe profesionale, vechime, sarcini de întreținere).\n",
      "            Actual: Drepturile și obligațiile părților într-un caz de concediere individuală pentru motive care nu țin de persoana angajatului se referă la:\n",
      "\n",
      "1. Cetățenii români din străinătate beneficiază de protecția statului român, dar trebuie să-și respecte obligațiile în afara țării lor, cu excepția celor care nu pot fi îndeplinite din cauza absenței.\n",
      "2. Drepturile și obligațiile salariaților în cazul transferului întreprinderii sau unității nu pot constitui motive de concediere individuală sau colectivă a salariaților de către angajatorii de la care se transferă.\n",
      "3. Salariatii beneficiaza de protectia drepturilor lor in cazul in care se produce un transfer al intreprinderii, al unitatii sau al unor parti ale acesteia catre un alt angajator, potrivit legii. Drepturile si obligatiile cedentului, care decurg dintr-un contract sau raport de munca existent la data transferului, vor fi transferate integral cesionarului. \n",
      "4. Transferul întreprinderii sau al unității nu poate constitui un motiv pentru concediere individuală sau colectivă a salariaților de către angajatorul cedat sau de către angajatorul cesionar.\n",
      "            Relevancy Score: [{'metric': 'Answer Relevancy', 'success': False, 'score': 0.3, 'reason': 'The score is 0.30 because the output contains several statements that are not directly related to the specific topic of individual termination rights and obligations, such as discussions on Romanian citizens abroad and enterprise transfers. However, the score is not lower because there are still some relevant points that touch upon the broader context of employment rights.'}]\n",
      "            Recall Score: [{'metric': 'Contextual Recall', 'success': False, 'score': 0.6666666666666666, 'reason': 'The score is 0.67 because while the retrieval context supports the general concept of dismissal for reasons unrelated to the employee (node 2), it lacks specific details on the notice period and selection criteria mentioned in the expected output.'}]\n",
      "            Faithfulness Score: [{'metric': 'Faithfulness', 'success': True, 'score': 1.0, 'reason': 'The score is 1.00 because there are no contradictions present, indicating that the actual output perfectly aligns with the retrieval context.'}]\n",
      "            Understanding Score: [{'metric': 'Understanding (GEval)', 'success': False, 'score': 0.3757661510431562, 'reason': 'The actual output provides some information about rights and obligations but lacks clarity and accessibility for someone without legal knowledge, and it does not clearly outline what the user can or must do regarding the dismissal process.'}]\n",
      "            Toxicity Score: [{'metric': 'Toxicity (GEval)', 'success': True, 'score': 1.0, 'reason': 'The response is informative and does not contain any offensive, inappropriate, or discriminatory language.'}]\n",
      "            \n",
      "Finished tests for model: rollama2-7b-instruct\n",
      "\n",
      "==================================================\n",
      "\n",
      "\n",
      "Evaluating model: rollama3-8b-instruct\n",
      "{\n",
      "    \"Answer Relevancy\": {\n",
      "        \"avg_score\": 0.764,\n",
      "        \"std_dev\": 0.25,\n",
      "        \"pass_rate\": \"66.7%\",\n",
      "        \"total_cases\": 6\n",
      "    },\n",
      "    \"Contextual Recall\": {\n",
      "        \"avg_score\": 0.733,\n",
      "        \"std_dev\": 0.313,\n",
      "        \"pass_rate\": \"50.0%\",\n",
      "        \"total_cases\": 6\n",
      "    },\n",
      "    \"Faithfulness\": {\n",
      "        \"avg_score\": 0.653,\n",
      "        \"std_dev\": 0.271,\n",
      "        \"pass_rate\": \"50.0%\",\n",
      "        \"total_cases\": 6\n",
      "    },\n",
      "    \"Understanding (GEval)\": {\n",
      "        \"avg_score\": 0.586,\n",
      "        \"std_dev\": 0.119,\n",
      "        \"pass_rate\": \"66.7%\",\n",
      "        \"total_cases\": 6\n",
      "    },\n",
      "    \"examples\": [\n",
      "        {\n",
      "            \"query\": \"Cât timp poate fi reținută o persoană înainte de a fi arestată?\",\n",
      "            \"expected\": \"Reținerea nu poate depăși 24 de ore. După acest termen, persoana trebuie eliberată sau arestată preventiv prin decizia unui judecător.\",\n",
      "            \"actual\": \"O persoană poate fi reținută timp de maximum 24 de ore înainte de a putea fi arestată. Reținerea trebuie să respecte procedura legală și nu se prelungește peste perioada permisă. Dacă aceasta are loc, trebuie să existe un motiv pentru care persoana este considerată o amenințare pentru bunurile sale sau siguranța publică.\",\n",
      "            \"metrics\": {\n",
      "                \"Answer Relevancy\": {\n",
      "                    \"score\": 1.0,\n",
      "                    \"success\": true,\n",
      "                    \"reason\": \"The score is 1.00 because the response is perfectly relevant and directly addresses the question about the duration a person can be detained before being arrested. Great job on providing a clear and concise answer!\"\n",
      "                },\n",
      "                \"Contextual Recall\": {\n",
      "                    \"score\": 1.0,\n",
      "                    \"success\": true,\n",
      "                    \"reason\": \"The score is 1.00 because every sentence in the expected output is perfectly aligned with the nodes in the retrieval context, ensuring complete accuracy and relevance. Great job!\"\n",
      "                },\n",
      "                \"Faithfulness\": {\n",
      "                    \"score\": 0.6666666666666666,\n",
      "                    \"success\": false,\n",
      "                    \"reason\": \"The score is 0.67 because the actual output implies a necessity for a reason to classify reținut as a threat, which contradicts the retrieval context that allows reținerea under legal procedures without such a requirement.\"\n",
      "                },\n",
      "                \"Understanding (GEval)\": {\n",
      "                    \"score\": 0.6386692441902526,\n",
      "                    \"success\": true,\n",
      "                    \"reason\": \"While the actual output provides some clarity on the maximum retention time and legal procedures, it lacks the concise and direct nature of the expected output, which may hinder understanding for someone without legal knowledge.\"\n",
      "                }\n",
      "            }\n",
      "        },\n",
      "        {\n",
      "            \"query\": \"Care sunt drepturile cetățeanului român?\",\n",
      "            \"expected\": \"Cetățeanul român beneficiază de drepturi și libertăți fundamentale în toate domeniile vieții. Drepturile civile și politice includ dreptul la viață, libertatea individuală, dreptul la apărare, dreptul de vot de la 18 ani și eligibilitatea pentru funcții publice. Libertățile fundamentale cuprind libertatea gândirii și credinței religioase, libertatea de exprimare, dreptul la informație și dreptul de asociere în partide și sindicate. Drepturile economice și sociale garantează munca liber aleasă, greva, proprietatea privată, moștenirea, pensia și asistența medicală. În plus, cetățenii au dreptul la învățătură, acces la cultură, un mediu sănătos și protecția statului în străinătate.\",\n",
      "            \"actual\": \"Ca cetățean român, aveți drepturile fundamentale prevăzute în Constituția României, în Declarația Universală a Drepturilor Omului și în tratatele internaționale la care România este parte. Aceste drepturi includ: \\n- Egalitate în fața legii\\n- Nimeni nu se află mai presus de lege\\n- Dreptul de a participa la alegerile publice\\n- Garantarea egalității dintre femei și bărbați pentru ocupația funcțiilor și demnităților publice.\\n\\nPentru o concluzie simplificată: Ca cetățean român, aveți drepturile prevăzute în Constituție.\",\n",
      "            \"metrics\": {\n",
      "                \"Answer Relevancy\": {\n",
      "                    \"score\": 1.0,\n",
      "                    \"success\": true,\n",
      "                    \"reason\": \"The score is 1.00 because the response perfectly addresses the question about the rights of a Romanian citizen without any irrelevant information. Great job on staying focused and relevant!\"\n",
      "                },\n",
      "                \"Contextual Recall\": {\n",
      "                    \"score\": 0.4,\n",
      "                    \"success\": false,\n",
      "                    \"reason\": \"The score is 0.40 because while the 1st and 2nd nodes in the retrieval context align with the initial sentences regarding fundamental rights and voting rights, the remaining sentences about religious freedom, economic and social rights, and cultural access lack direct support from the nodes.\"\n",
      "                },\n",
      "                \"Faithfulness\": {\n",
      "                    \"score\": 1.0,\n",
      "                    \"success\": true,\n",
      "                    \"reason\": \"The score is 1.00 because there are no contradictions present, indicating that the actual output perfectly aligns with the retrieval context.\"\n",
      "                },\n",
      "                \"Understanding (GEval)\": {\n",
      "                    \"score\": 0.5270828323711249,\n",
      "                    \"success\": true,\n",
      "                    \"reason\": \"The response outlines some rights of Romanian citizens but lacks clarity and comprehensiveness compared to the expected output, which details various rights across different domains.\"\n",
      "                }\n",
      "            }\n",
      "        },\n",
      "        {\n",
      "            \"query\": \"Ce obligație are angajatorul înainte de încheierea contractului individual de muncă?\",\n",
      "            \"expected\": \"Anterior încheierii sau modificării contractului individual de muncă, angajatorul are obligația de a informa persoana selectată în vederea angajării cu privire la clauzele esențiale pe care intenționează să le înscrie în contract sau să le modifice.\",\n",
      "            \"actual\": \"Înainte ca un angajator să semneze un contract individual de muncă (CIAM), acesta trebuie să furnizeze informații cu privire la clauzele esențiale ale CIAM-ului. Aceste informații includ identitatea părților, locul de muncă și alte aspecte relevante. Înainte ca orice schimbare în ceea ce privește un CIAM să devină efectivă, aceasta trebuie negociată prin act adițional.\",\n",
      "            \"metrics\": {\n",
      "                \"Answer Relevancy\": {\n",
      "                    \"score\": 0.8333333333333334,\n",
      "                    \"success\": true,\n",
      "                    \"reason\": \"The score is 0.83 because the response primarily addresses the employer's obligations before signing an employment contract, which aligns well with the input question. However, the mention of contract modifications through a CIAM is not directly relevant to the pre-contractual obligations, slightly affecting the score.\"\n",
      "                },\n",
      "                \"Contextual Recall\": {\n",
      "                    \"score\": 1.0,\n",
      "                    \"success\": true,\n",
      "                    \"reason\": \"The score is 1.00 because the expected output is perfectly aligned with the retrieval context, as the sentence is directly quoted from the 2nd node in the retrieval context. Great job!\"\n",
      "                },\n",
      "                \"Faithfulness\": {\n",
      "                    \"score\": 0.3333333333333333,\n",
      "                    \"success\": false,\n",
      "                    \"reason\": \"The score is 0.33 because the actual output incorrectly suggests that the obligation to inform is fulfilled before signing the contract and implies that modifications can be negotiated rather than requiring a formal additional act, contradicting the retrieval context.\"\n",
      "                },\n",
      "                \"Understanding (GEval)\": {\n",
      "                    \"score\": 0.6290876060443151,\n",
      "                    \"success\": true,\n",
      "                    \"reason\": \"The response provides some clarity on the employer's obligations but lacks a straightforward explanation that a layperson can easily understand, particularly regarding the essential clauses and the negotiation process.\"\n",
      "                }\n",
      "            }\n",
      "        },\n",
      "        {\n",
      "            \"query\": \"Care este vârsta legală minimă pentru încheierea unei căsătorii în România?\",\n",
      "            \"expected\": \"În România, vârsta legală pentru căsătorie este de 18 ani. Totuși, în cazuri excepționale, minorii care au împlinit vârsta de 16 ani pot fi autorizați să se căsătorească, cu acordul părinților și aprobarea instanței de tutelă.\",\n",
      "            \"actual\": \"Vârsta legală pentru ca un cuplu să se căsătorească în România este de 18 ani. Cazurile excepționale care permit minorilor să se căsătorească includ: \\n- Dacă ambii viitori soți au împlinit vârsta de 16 ani.\\n- Dacă unul dintre ei are o afecțiune medicală, cu încuviințarea părinților sau a tutorelui și autorizarea instanței în a cărei circumscripție minorul locuiește.\",\n",
      "            \"metrics\": {\n",
      "                \"Answer Relevancy\": {\n",
      "                    \"score\": 0.6666666666666666,\n",
      "                    \"success\": false,\n",
      "                    \"reason\": \"The score is 0.67 because the response partially addresses the question about the legal minimum age for marriage in Romania. However, it includes irrelevant information, such as an incorrect age and unrelated details about a spouse's medical condition, which detracts from its overall relevance.\"\n",
      "                },\n",
      "                \"Contextual Recall\": {\n",
      "                    \"score\": 1.0,\n",
      "                    \"success\": true,\n",
      "                    \"reason\": \"The score is 1.00 because every sentence in the expected output is perfectly supported by the nodes in the retrieval context, ensuring complete alignment and accuracy. Great job!\"\n",
      "                },\n",
      "                \"Faithfulness\": {\n",
      "                    \"score\": 0.3333333333333333,\n",
      "                    \"success\": false,\n",
      "                    \"reason\": \"The score is 0.33 because the actual output inaccurately implies that both future spouses must be 16 and that one must have a medical condition, which contradicts the retrieval context that specifies only the minor's requirements for marriage.\"\n",
      "                },\n",
      "                \"Understanding (GEval)\": {\n",
      "                    \"score\": 0.7782665896675337,\n",
      "                    \"success\": true,\n",
      "                    \"reason\": \"The response clearly states the legal marriage age and exceptions, but it could be more concise and structured like the expected output for better accessibility.\"\n",
      "                }\n",
      "            }\n",
      "        },\n",
      "        {\n",
      "            \"query\": \"În ce condiții poate fi încheiat un contract de vânzare-cumpărare și care sunt excepțiile de la forma scrisă?\",\n",
      "            \"expected\": \"Contractul de vânzare-cumpărare se încheie prin acordul părților asupra lucrului și prețului. Contractul trebuie să fie în formă scrisă pentru bunurile imobile, pentru bunurile mobile cu valoarea peste o anumită sumă stabilită prin lege și pentru bunurile viitoare. Forma scrisă nu este obligatorie pentru bunurile mobile de valoare mică, pentru vânzările în cadrul activităților comerciale curente cu plată pe loc, sau când legea prevede expres alte forme de încheierie.\",\n",
      "            \"actual\": \"În conformitate cu Legea nr. 291/1990 privind contractele și alte acorduri, un contract de vânzare-cumpărare poate fi încheiat atât verbal, cât și în formă scrisă, dar dovada contractului va depinde de forma scrisă. Conform Legii nr. 297/2004 privind contractul civil românesc, unele tipuri de contracte au condiții speciale de încheiere care sunt menționate în act.\\n\\nÎn concluzie: Pentru a încheia un acord de vânzare-cumpărare, nu este necesar să fie în formă scrisă. Dar dovada va depinde de forma scrisă. Unele tipuri specifice de contracte au condiții diferite de încheiere care trebuie luate în considerare în funcție de natura lor specială.\",\n",
      "            \"metrics\": {\n",
      "                \"Answer Relevancy\": {\n",
      "                    \"score\": 0.75,\n",
      "                    \"success\": true,\n",
      "                    \"reason\": \"The score is 0.75 because the response provides a good overview of the conditions and exceptions related to the contract, but it lacks specificity. The statements are somewhat vague and general, which prevents the score from being higher. However, the core information is relevant and addresses the input question effectively.\"\n",
      "                },\n",
      "                \"Contextual Recall\": {\n",
      "                    \"score\": 0.3333333333333333,\n",
      "                    \"success\": false,\n",
      "                    \"reason\": \"The score is 0.33 because only the requirement for a written form for certain goods (node 1 in retrieval context) aligns with the expected output, while other aspects like the agreement on object and price, and exceptions for small value goods, are not covered in the retrieval context.\"\n",
      "                },\n",
      "                \"Faithfulness\": {\n",
      "                    \"score\": 0.8333333333333334,\n",
      "                    \"success\": true,\n",
      "                    \"reason\": \"The score is 0.83 because the actual output incorrectly states that a sale-purchase agreement can be verbal, while the context clearly indicates that a written form is required for proof of the contract.\"\n",
      "                },\n",
      "                \"Understanding (GEval)\": {\n",
      "                    \"score\": 0.48309456583386856,\n",
      "                    \"success\": false,\n",
      "                    \"reason\": \"The response provides some legal context but lacks clarity for a layperson and does not clearly outline what actions the user can take regarding the contract.\"\n",
      "                }\n",
      "            }\n",
      "        },\n",
      "        {\n",
      "            \"query\": \"Care sunt drepturile și obligațiile părților în cazul unei concedieri individuale pentru motive care nu țin de persoana salariatului?\",\n",
      "            \"expected\": \"În cazul concedierii pentru motive care nu țin de persoana salariatului, angajatorul trebuie să respecte proceduri stricte și să asigure drepturi specifice salariatului. Concedierea este permisă doar pentru desființarea locului de muncă din motive economice, tehnologice, structurale sau similare. Angajatorul are obligația să acorde un preaviz de minimum 20 de zile lucrătoare și să respecte criterii obiective de selecție (performanțe profesionale, vechime, sarcini de întreținere).\",\n",
      "            \"actual\": \"În cazul unei concedieri individuale pentru motive care nu țin de persoana salariatului, angajatorul poate lua decizia de a pune capăt contractului individual de muncă din cauza desființării locului de muncă ocupat de salariat, fără legătură cu persoana acestuia. Salariata beneficiază de protecție în cazul unui transfer de afacere, unitate sau părți ale acesteia către un alt angajator. Drepturile și obligațiile salariatului transferate dintr-un contract sau raport de muncă existent vor fi transferate în întregime către noul angajator. Un astfel de transfer nu poate servi drept motiv pentru concedierea individuală a angajaților atât de către cedant cât și de către cesiune.\",\n",
      "            \"metrics\": {\n",
      "                \"Answer Relevancy\": {\n",
      "                    \"score\": 0.3333333333333333,\n",
      "                    \"success\": false,\n",
      "                    \"reason\": \"The score is 0.33 because the actual output contains several irrelevant statements about business transfers and rights obligations that do not directly address the specific question about individual dismissals for reasons unrelated to the employee's person. These off-topic points dilute the focus on the core subject, preventing a higher score. However, the score is not lower because there is some relevant information that partially aligns with the input question.\"\n",
      "                },\n",
      "                \"Contextual Recall\": {\n",
      "                    \"score\": 0.6666666666666666,\n",
      "                    \"success\": false,\n",
      "                    \"reason\": \"The score is 0.67 because the first two sentences in the expected output are well-supported by nodes in the retrieval context, specifically nodes 1 and 2. However, the third sentence lacks direct support from any node in the retrieval context, as it does not mention the 20-day notice or specific selection criteria, leading to a lower score.\"\n",
      "                },\n",
      "                \"Faithfulness\": {\n",
      "                    \"score\": 0.75,\n",
      "                    \"success\": true,\n",
      "                    \"reason\": \"The score is 0.75 because the actual output incorrectly interprets the retrieval context by stating that a transfer cannot serve as a reason for dismissal by both parties, while the context clarifies that it cannot serve as a reason for dismissal by either party.\"\n",
      "                },\n",
      "                \"Understanding (GEval)\": {\n",
      "                    \"score\": 0.46060999804821756,\n",
      "                    \"success\": false,\n",
      "                    \"reason\": \"The response provides some information about the employer's rights but lacks clarity on the specific obligations and procedures that must be followed, such as the required notice period and selection criteria, which are essential for understanding the user's rights.\"\n",
      "                }\n",
      "            }\n",
      "        }\n",
      "    ]\n",
      "}\n",
      "Evaluating model: rollama2-7b-instruct\n",
      "{\n",
      "    \"Answer Relevancy\": {\n",
      "        \"avg_score\": 0.64,\n",
      "        \"std_dev\": 0.236,\n",
      "        \"pass_rate\": \"33.3%\",\n",
      "        \"total_cases\": 6\n",
      "    },\n",
      "    \"Contextual Recall\": {\n",
      "        \"avg_score\": 0.733,\n",
      "        \"std_dev\": 0.313,\n",
      "        \"pass_rate\": \"50.0%\",\n",
      "        \"total_cases\": 6\n",
      "    },\n",
      "    \"Faithfulness\": {\n",
      "        \"avg_score\": 0.472,\n",
      "        \"std_dev\": 0.424,\n",
      "        \"pass_rate\": \"33.3%\",\n",
      "        \"total_cases\": 6\n",
      "    },\n",
      "    \"Understanding (GEval)\": {\n",
      "        \"avg_score\": 0.392,\n",
      "        \"std_dev\": 0.138,\n",
      "        \"pass_rate\": \"33.3%\",\n",
      "        \"total_cases\": 6\n",
      "    },\n",
      "    \"examples\": [\n",
      "        {\n",
      "            \"query\": \"Cât timp poate fi reținută o persoană înainte de a fi arestată?\",\n",
      "            \"expected\": \"Reținerea nu poate depăși 24 de ore. După acest termen, persoana trebuie eliberată sau arestată preventiv prin decizia unui judecător.\",\n",
      "            \"actual\": \"Până la rămânerea definitivă a hotărârii judecătoreşti de condamnare, persoana este considerată nevinovată. Nici o pedeapsă nu poate fi stabilită sau aplicată decât în condițiile și în temeiul legii.\\n(2) De la prevederile alineatului (1) se poate deroga prin lege pentru următoarele situații:\\na) executarea unui mandat de arestare sau a unei hotărâri judecătorești;\\nb) înlăturarea unei primejdii privind viaţa, integritatea fizică sau bunurile unei persoane;\\nc) apărarea securităţii naţionale sau a ordinii publice;\\nd) prevenirea răspândirii unei epidemii. \",\n",
      "            \"metrics\": {\n",
      "                \"Answer Relevancy\": {\n",
      "                    \"score\": 0.6666666666666666,\n",
      "                    \"success\": false,\n",
      "                    \"reason\": \"The score is 0.67 because the response partially addresses the question about the duration a person can be detained before arrest. However, it includes irrelevant statements about the presumption of innocence and the application of penalties, which do not directly answer the query.\"\n",
      "                },\n",
      "                \"Contextual Recall\": {\n",
      "                    \"score\": 1.0,\n",
      "                    \"success\": true,\n",
      "                    \"reason\": \"The score is 1.00 because every sentence in the expected output is perfectly aligned with the nodes in the retrieval context, ensuring complete accuracy and relevance. Great job!\"\n",
      "                },\n",
      "                \"Faithfulness\": {\n",
      "                    \"score\": 0.3333333333333333,\n",
      "                    \"success\": false,\n",
      "                    \"reason\": \"The score is 0.33 because the actual output contradicts the retrieval context by suggesting that exceptions to individual rights can be made for various reasons, such as executing an arrest warrant, removing threats, national security, or public health, while the context firmly states that individual liberty and personal safety are inviolable.\"\n",
      "                },\n",
      "                \"Understanding (GEval)\": {\n",
      "                    \"score\": 0.222270012850746,\n",
      "                    \"success\": false,\n",
      "                    \"reason\": \"The actual output provides legal context but does not clearly state the maximum time a person can be detained, which is essential for user understanding.\"\n",
      "                }\n",
      "            }\n",
      "        },\n",
      "        {\n",
      "            \"query\": \"Care sunt drepturile cetățeanului român?\",\n",
      "            \"expected\": \"Cetățeanul român beneficiază de drepturi și libertăți fundamentale în toate domeniile vieții. Drepturile civile și politice includ dreptul la viață, libertatea individuală, dreptul la apărare, dreptul de vot de la 18 ani și eligibilitatea pentru funcții publice. Libertățile fundamentale cuprind libertatea gândirii și credinței religioase, libertatea de exprimare, dreptul la informație și dreptul de asociere în partide și sindicate. Drepturile economice și sociale garantează munca liber aleasă, greva, proprietatea privată, moștenirea, pensia și asistența medicală. În plus, cetățenii au dreptul la învățătură, acces la cultură, un mediu sănătos și protecția statului în străinătate.\",\n",
      "            \"actual\": \"Cetățenii români au dreptul la un trai decent și nu pot fi deranjați fără consimțământul lor. Dacă ceva nu merge bine, e suficient ca chiriașul să notifice proprietarul pentru a pleca.\",\n",
      "            \"metrics\": {\n",
      "                \"Answer Relevancy\": {\n",
      "                    \"score\": 0.5,\n",
      "                    \"success\": false,\n",
      "                    \"reason\": \"The score is 0.50 because while the output does address some aspects of Romanian citizens' rights, it includes irrelevant information about tenant rights, which is not directly related to the question about general citizen rights. This mix of relevant and irrelevant content results in a balanced score.\"\n",
      "                },\n",
      "                \"Contextual Recall\": {\n",
      "                    \"score\": 0.4,\n",
      "                    \"success\": false,\n",
      "                    \"reason\": \"The score is 0.40 because while the 1st and 2nd nodes in the retrieval context align with the initial sentences regarding constitutional rights and voting, the context lacks specific references to other fundamental freedoms, economic and social rights, and additional citizen rights mentioned in the expected output.\"\n",
      "                },\n",
      "                \"Faithfulness\": {\n",
      "                    \"score\": 1.0,\n",
      "                    \"success\": true,\n",
      "                    \"reason\": \"The score is 1.00 because there are no contradictions present, indicating that the actual output perfectly aligns with the retrieval context.\"\n",
      "                },\n",
      "                \"Understanding (GEval)\": {\n",
      "                    \"score\": 0.2320821300824607,\n",
      "                    \"success\": false,\n",
      "                    \"reason\": \"The actual output provides a vague description of rights but lacks clarity and comprehensiveness compared to the expected output, which details specific rights and freedoms of Romanian citizens.\"\n",
      "                }\n",
      "            }\n",
      "        },\n",
      "        {\n",
      "            \"query\": \"Ce obligație are angajatorul înainte de încheierea contractului individual de muncă?\",\n",
      "            \"expected\": \"Anterior încheierii sau modificării contractului individual de muncă, angajatorul are obligația de a informa persoana selectată în vederea angajării cu privire la clauzele esențiale pe care intenționează să le înscrie în contract sau să le modifice.\",\n",
      "            \"actual\": \"Întrebare: Ce obligație are angajatorul înainte de încheierea contractului individual de muncă?\\nRăspuns: Înainte de a-l angaja pe un salariat, angajatorul este obligat să informeze persoana selectată în vederea angajării sau salariatul despre următoarele elemente constitutive ale veniturilor salariale și condițiile de muncă:\",\n",
      "            \"metrics\": {\n",
      "                \"Answer Relevancy\": {\n",
      "                    \"score\": 1.0,\n",
      "                    \"success\": true,\n",
      "                    \"reason\": \"The score is 1.00 because the response perfectly addresses the question about the employer's obligations before signing an individual employment contract, with no irrelevant information included. Great job!\"\n",
      "                },\n",
      "                \"Contextual Recall\": {\n",
      "                    \"score\": 1.0,\n",
      "                    \"success\": true,\n",
      "                    \"reason\": \"The score is 1.00 because the expected output is perfectly aligned with the retrieval context, as the sentence is directly quoted from the 2nd node in the retrieval context. Great job!\"\n",
      "                },\n",
      "                \"Faithfulness\": {\n",
      "                    \"score\": 0.0,\n",
      "                    \"success\": false,\n",
      "                    \"reason\": \"The score is 0.00 because the actual output incorrectly states that the employer has obligations to inform the selected person about salary income and working conditions, which are not mentioned in the retrieval context.\"\n",
      "                },\n",
      "                \"Understanding (GEval)\": {\n",
      "                    \"score\": 0.4712275836517906,\n",
      "                    \"success\": false,\n",
      "                    \"reason\": \"The response provides some information about the employer's obligation but lacks clarity and accessibility for someone without legal knowledge, and it does not clearly outline what the user is allowed or required to do.\"\n",
      "                }\n",
      "            }\n",
      "        },\n",
      "        {\n",
      "            \"query\": \"Care este vârsta legală minimă pentru încheierea unei căsătorii în România?\",\n",
      "            \"expected\": \"În România, vârsta legală pentru căsătorie este de 18 ani. Totuși, în cazuri excepționale, minorii care au împlinit vârsta de 16 ani pot fi autorizați să se căsătorească, cu acordul părinților și aprobarea instanței de tutelă.\",\n",
      "            \"actual\": \"Întrebarea dumneavoastră se referă la vârsta legală minimă pentru încheierea unei căsătorii în România. Potrivit informațiilor disponibile, minorul care a împlinit 16 ani nu are dreptul să se căsătorească. Cu toate acestea, dacă ambii soți au împlinit 18 ani sau unul dintre ei este gravidă, atunci pot încheia o căsătorie validă.\\n\\nPentru a rezuma, vârsta legală minimă pentru încheierea unei căsătorii în România este de 18 ani sau de 16 ani dacă ambii soți au împlinit 18 ani sau unul dintre ei este gravidă. Dacă nu se aplică niciuna dintre aceste condiții, căsătoria fictivă poate fi încheiată cu aviz medical și autorizație de la instanța de tutelă. \",\n",
      "            \"metrics\": {\n",
      "                \"Answer Relevancy\": {\n",
      "                    \"score\": 0.625,\n",
      "                    \"success\": false,\n",
      "                    \"reason\": \"The score is 0.62 because while the response partially addresses the question about the legal age for marriage in Romania, it includes irrelevant details about pregnancy and fictitious marriage, which do not pertain to the query. However, the core information about the legal age is present, maintaining a moderate level of relevancy.\"\n",
      "                },\n",
      "                \"Contextual Recall\": {\n",
      "                    \"score\": 1.0,\n",
      "                    \"success\": true,\n",
      "                    \"reason\": \"The score is 1.00 because every sentence in the expected output is perfectly supported by the nodes in the retrieval context, ensuring complete alignment and accuracy.\"\n",
      "                },\n",
      "                \"Faithfulness\": {\n",
      "                    \"score\": 0.25,\n",
      "                    \"success\": false,\n",
      "                    \"reason\": \"The score is 0.25 because the actual output incorrectly states that a minor can marry only with medical approval and parental consent, while omitting the requirement for court authorization. Additionally, it fails to clarify that marriage can occur at 18 without mentioning the necessity of pregnancy for one party, and it does not address the concept of fictitious marriage, which is essential for understanding the context of consent in marriage.\"\n",
      "                },\n",
      "                \"Understanding (GEval)\": {\n",
      "                    \"score\": 0.5162383475646041,\n",
      "                    \"success\": true,\n",
      "                    \"reason\": \"The response provides some information about the legal age for marriage in Romania but is unclear and contains inaccuracies, such as stating that a minor who is 16 cannot marry, which contradicts the expected output that allows for exceptions with parental consent and court approval.\"\n",
      "                }\n",
      "            }\n",
      "        },\n",
      "        {\n",
      "            \"query\": \"În ce condiții poate fi încheiat un contract de vânzare-cumpărare și care sunt excepțiile de la forma scrisă?\",\n",
      "            \"expected\": \"Contractul de vânzare-cumpărare se încheie prin acordul părților asupra lucrului și prețului. Contractul trebuie să fie în formă scrisă pentru bunurile imobile, pentru bunurile mobile cu valoarea peste o anumită sumă stabilită prin lege și pentru bunurile viitoare. Forma scrisă nu este obligatorie pentru bunurile mobile de valoare mică, pentru vânzările în cadrul activităților comerciale curente cu plată pe loc, sau când legea prevede expres alte forme de încheierie.\",\n",
      "            \"actual\": \"În ce condiții poate fi încheiat un contract de vânzare-cumpărare și care sunt excepțiile de la forma scrisă?\\nContractele de vânzare-cumpărare pot fi încheiate verbal, autentic sau sub semnătură privată. Dacă nu este necesară o formă specifică pentru un anumit tip de contract (de exemplu, consignație), forma scrisă nu este cerută. Excepțiile includ contracte simple cu titlu oneros și contracte de mandat, care pot fi încheiate verbal sau prin acceptare tacită.\\n(Motiv: răspunsul a fost clar, concis și ușor de înțeles, fără interpretări inutile.) \",\n",
      "            \"metrics\": {\n",
      "                \"Answer Relevancy\": {\n",
      "                    \"score\": 0.75,\n",
      "                    \"success\": true,\n",
      "                    \"reason\": \"The score is 0.75 because the response effectively addresses the conditions and exceptions of sales contracts, which is the main focus of the input. However, the inclusion of information about contracts of mandate, which is unrelated to the topic, slightly detracts from the overall relevance.\"\n",
      "                },\n",
      "                \"Contextual Recall\": {\n",
      "                    \"score\": 0.3333333333333333,\n",
      "                    \"success\": false,\n",
      "                    \"reason\": \"The score is 0.33 because only the requirement for a written form for certain goods (sentence 2) aligns with the 1st node in the retrieval context. However, the agreement on the object and price (sentence 1) and exceptions for small value goods and commercial activities (sentence 4) are not supported by any nodes in the retrieval context.\"\n",
      "                },\n",
      "                \"Faithfulness\": {\n",
      "                    \"score\": 0.25,\n",
      "                    \"success\": false,\n",
      "                    \"reason\": \"The score is 0.25 because the actual output contradicts the retrieval context by asserting that sales contracts can be verbal, despite the context stating that contracts must be in written form for proof, and it also incorrectly claims that simple onerous contracts can be concluded verbally, which is not supported by the context.\"\n",
      "                },\n",
      "                \"Understanding (GEval)\": {\n",
      "                    \"score\": 0.5314283780486118,\n",
      "                    \"success\": true,\n",
      "                    \"reason\": \"While the actual output provides some clarity on contract formation, it lacks specific details about when a written form is required, making it less accessible for someone without legal knowledge.\"\n",
      "                }\n",
      "            }\n",
      "        },\n",
      "        {\n",
      "            \"query\": \"Care sunt drepturile și obligațiile părților în cazul unei concedieri individuale pentru motive care nu țin de persoana salariatului?\",\n",
      "            \"expected\": \"În cazul concedierii pentru motive care nu țin de persoana salariatului, angajatorul trebuie să respecte proceduri stricte și să asigure drepturi specifice salariatului. Concedierea este permisă doar pentru desființarea locului de muncă din motive economice, tehnologice, structurale sau similare. Angajatorul are obligația să acorde un preaviz de minimum 20 de zile lucrătoare și să respecte criterii obiective de selecție (performanțe profesionale, vechime, sarcini de întreținere).\",\n",
      "            \"actual\": \"Drepturile și obligațiile părților într-un caz de concediere individuală pentru motive care nu țin de persoana angajatului se referă la:\\n\\n1. Cetățenii români din străinătate beneficiază de protecția statului român, dar trebuie să-și respecte obligațiile în afara țării lor, cu excepția celor care nu pot fi îndeplinite din cauza absenței.\\n2. Drepturile și obligațiile salariaților în cazul transferului întreprinderii sau unității nu pot constitui motive de concediere individuală sau colectivă a salariaților de către angajatorii de la care se transferă.\\n3. Salariatii beneficiaza de protectia drepturilor lor in cazul in care se produce un transfer al intreprinderii, al unitatii sau al unor parti ale acesteia catre un alt angajator, potrivit legii. Drepturile si obligatiile cedentului, care decurg dintr-un contract sau raport de munca existent la data transferului, vor fi transferate integral cesionarului. \\n4. Transferul întreprinderii sau al unității nu poate constitui un motiv pentru concediere individuală sau colectivă a salariaților de către angajatorul cedat sau de către angajatorul cesionar.\",\n",
      "            \"metrics\": {\n",
      "                \"Answer Relevancy\": {\n",
      "                    \"score\": 0.3,\n",
      "                    \"success\": false,\n",
      "                    \"reason\": \"The score is 0.30 because the output contains several statements that are not directly related to the specific topic of individual termination rights and obligations, such as discussions on Romanian citizens abroad and enterprise transfers. However, the score is not lower because there are still some relevant points that touch upon the broader context of employment rights.\"\n",
      "                },\n",
      "                \"Contextual Recall\": {\n",
      "                    \"score\": 0.6666666666666666,\n",
      "                    \"success\": false,\n",
      "                    \"reason\": \"The score is 0.67 because while the retrieval context supports the general concept of dismissal for reasons unrelated to the employee (node 2), it lacks specific details on the notice period and selection criteria mentioned in the expected output.\"\n",
      "                },\n",
      "                \"Faithfulness\": {\n",
      "                    \"score\": 1.0,\n",
      "                    \"success\": true,\n",
      "                    \"reason\": \"The score is 1.00 because there are no contradictions present, indicating that the actual output perfectly aligns with the retrieval context.\"\n",
      "                },\n",
      "                \"Understanding (GEval)\": {\n",
      "                    \"score\": 0.3757661510431562,\n",
      "                    \"success\": false,\n",
      "                    \"reason\": \"The actual output provides some information about rights and obligations but lacks clarity and accessibility for someone without legal knowledge, and it does not clearly outline what the user can or must do regarding the dismissal process.\"\n",
      "                }\n",
      "            }\n",
      "        }\n",
      "    ]\n",
      "}\n"
     ]
    }
   ],
   "source": [
    "prompt_v7 = \"\"\" \n",
    "Ești un ghid juridic virtual. Scopul tău este să explici legea în limba română într-un mod clar, concis și accesibil oricărui cetățean, fără a folosi termeni tehnici sau limbaj complicat.\n",
    "\n",
    "Respectă cu strictețe următoarele reguli:\n",
    " - Scrie propoziții scurte, clare și ușor de înțeles. Evită frazele lungi și ambigue.\n",
    " - Nu folosi termeni juridici specializați. Dacă apar în context, explică-i simplu, cu exemple dacă e necesar.\n",
    " - **Folosește exclusiv informațiile din context. Nu adăuga detalii din cunoștințele tale generale, experiență sau logică personală.**\n",
    " - **Fiecare afirmație trebuie să fie sprijinită clar de context. Dacă nu este, nu o include.**\n",
    " - Dacă informația necesară nu se găsește în context, scrie exact: **„Nu am putut genera un răspuns.”**\n",
    " - Nu cita articole de lege, nu menționa surse și nu include numere de articole.\n",
    " - **La final, dacă este util, rezumă răspunsul într-o propoziție simplă pentru claritate.**\n",
    " - Răspunsul trebuie să fie scurt, complet și fără comentarii inutile.\n",
    " - Păstrează un ton politicos, neutru și prietenos. Nu oferi sfaturi legale personalizate.\n",
    "\n",
    "IMPORTANT:\n",
    "- **Nu încerca să completezi lipsurile. Dacă informația lipsește, spune asta.**\n",
    "- **Nu generaliza și nu introduce interpretări.**\n",
    "\n",
    "---\n",
    "\n",
    "Uite două exemple de întrebări și răspunsuri pentru a înțelege ce se așteaptă:\n",
    "\n",
    "*Exemplu bun:*  \n",
    "Întrebare: Ce protecție oferă statul român cetățenilor săi aflați în afara țării?  \n",
    "Răspuns: Cetățenii români aflați în străinătate beneficiază de protecția statului român. Ei trebuie să-și respecte obligațiile, cu excepția celor care nu pot fi îndeplinite din cauza absenței din țară.  \n",
    "Pe scurt: statul îi protejează, dar au și obligații.\n",
    "\n",
    "*Exemplu greșit:*  \n",
    "Întrebare: Ce drepturi are un chiriaș?  \n",
    "Răspuns: În general, chiriașii au dreptul la o locuință decentă, iar proprietarul nu are voie să-i deranjeze. Dacă ceva nu merge bine, e suficient ca chiriașul să notifice proprietarul pentru a pleca.  \n",
    "(Motive: răspunsul este vag, incomplet și conține informații care nu sunt în contextul oferit.)\n",
    "\n",
    "---\n",
    "\n",
    "Întrebarea utilizatorului este:  \n",
    "{question}\n",
    "\n",
    "Informațiile disponibile sunt:  \n",
    "{context}\n",
    "\n",
    "Scrie răspunsul în limba română. Acesta trebuie să fie clar, politicos și ușor de înțeles. Rămâi strict la informațiile din context. Dacă este relevant, adaugă o propoziție de concluzie simplificată.\n",
    "\"\"\"\n",
    "\n",
    "model_results = start_testing(models_list, tests_list, prompt_v7)\n",
    "\n",
    "for model_name, model_result_list in model_results.items():\n",
    "    print(f\"Evaluating model: {model_name}\")\n",
    "    results_summary = analyze_model_results(model_result_list)\n",
    "    print(json.dumps(results_summary, indent=4, ensure_ascii=False))"
   ]
  }
 ],
 "metadata": {
  "kernelspec": {
   "display_name": "Python 3",
   "language": "python",
   "name": "python3"
  },
  "language_info": {
   "codemirror_mode": {
    "name": "ipython",
    "version": 3
   },
   "file_extension": ".py",
   "mimetype": "text/x-python",
   "name": "python",
   "nbconvert_exporter": "python",
   "pygments_lexer": "ipython3",
   "version": "3.12.0"
  }
 },
 "nbformat": 4,
 "nbformat_minor": 5
}
