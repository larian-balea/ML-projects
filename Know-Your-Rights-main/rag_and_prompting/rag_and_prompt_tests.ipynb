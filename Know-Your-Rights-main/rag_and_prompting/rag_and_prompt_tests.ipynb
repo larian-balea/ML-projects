{
 "cells": [
  {
   "cell_type": "code",
   "execution_count": 1,
   "id": "a07d4f41",
   "metadata": {},
   "outputs": [],
   "source": [
    "from langchain_chroma import Chroma\n",
    "from langchain_openai.embeddings import OpenAIEmbeddings\n",
    "from langchain_openai import OpenAI\n",
    "from langchain_openai import ChatOpenAI\n",
    "import json\n",
    "import os\n",
    "from dotenv import load_dotenv\n",
    "\n",
    "load_dotenv()\n",
    "OPENAI_API_KEY = os.getenv(\"OPENAI_API_KEY\")\n",
    "\n",
    "persist_directory = \"/Users/mariaborca/Documents/AI_2023-2024/Semestrul 4/Machine Learning/Know-Your-Rights/chroma_db_articles\"\n",
    "vector_store = Chroma(\n",
    "    collection_name=\"know_your_rights\",\n",
    "    embedding_function=OpenAIEmbeddings(api_key=OPENAI_API_KEY),\n",
    "    persist_directory=persist_directory\n",
    ")\n",
    "\n",
    "def retrive_relevant_documents(query: str, vector_store: Chroma, k: int = 5):\n",
    "    results = vector_store.similarity_search_with_score(query, k=k)\n",
    "    results.sort(key=lambda x: x[1], reverse=False)\n",
    "    return results\n",
    "\n",
    "def get_openai_llm(model: str = \"gpt-4o-mini\"):\n",
    "    return OpenAI(\n",
    "        model=model,\n",
    "        temperature=0,\n",
    "        max_tokens=1000,\n",
    "        api_key=OPENAI_API_KEY)\n",
    "\n",
    "def get_local_model(model: str = \"phi-4\"):\n",
    "    base_url = \"http://localhost:1234/v1\"\n",
    "    api_key = \"lm-studio\"\n",
    "\n",
    "    return ChatOpenAI(\n",
    "        base_url=base_url,\n",
    "        api_key=api_key,\n",
    "        temperature=0.9,\n",
    "        model=model\n",
    "    )\n",
    "\n",
    "def get_response(query, llm, template=None, context=None):\n",
    "    if template is None:\n",
    "        template = \"\"\"\n",
    "        Folosește **doar informațiile din contextul de mai jos** pentru a răspunde la întrebare. \n",
    "        Dacă răspunsul nu este prezent în context, răspunde cu „Nu știu”.\n",
    "\n",
    "        Context:\n",
    "        {context}\n",
    "\n",
    "        Întrebare:\n",
    "        {question}\n",
    "\n",
    "        Răspuns:\n",
    "\n",
    "        \"\"\"\n",
    "        \n",
    "    prompt = template.format(context=context, question=query)\n",
    "    response = llm.invoke(prompt)\n",
    "    return response.content if type(response)!=str else llm.invoke(prompt)\n",
    "\n",
    "def load_test_cases(file_path):\n",
    "    with open(file_path, 'r') as file:\n",
    "        test_cases = json.load(file)\n",
    "    return test_cases"
   ]
  },
  {
   "cell_type": "code",
   "execution_count": 11,
   "id": "7d153093",
   "metadata": {},
   "outputs": [],
   "source": [
    "from deepeval import evaluate\n",
    "from deepeval.metrics import GEval, AnswerRelevancyMetric, ContextualRecallMetric, FaithfulnessMetric\n",
    "from deepeval.test_case import LLMTestCase, LLMTestCaseParams\n",
    "from deepeval.evaluate.configs import DisplayConfig\n",
    "\n",
    "import io\n",
    "import contextlib\n",
    "\n",
    "def extract_metric_info(evaluation_result):\n",
    "    results = []\n",
    "    for test_result in evaluation_result.test_results:\n",
    "        for metric_data in test_result.metrics_data:\n",
    "            results.append({\n",
    "                \"metric\": metric_data.name,\n",
    "                \"success\": metric_data.success,\n",
    "                \"score\": metric_data.score,\n",
    "                \"reason\": metric_data.reason\n",
    "            })\n",
    "    return results\n",
    "\n",
    "silent_display_config = DisplayConfig(\n",
    "    print_results=False,\n",
    "    show_indicator=False\n",
    ")\n",
    "\n",
    "def test_answer_relevancy(user_query, actual_answer):\n",
    "    metric = AnswerRelevancyMetric(\n",
    "        threshold=0.7,\n",
    "        include_reason=True,\n",
    "        verbose_mode=False,\n",
    "    )\n",
    "\n",
    "    test_case = LLMTestCase(\n",
    "        input=user_query,\n",
    "        actual_output=actual_answer)\n",
    "    \n",
    "    return evaluate(\n",
    "        test_cases=[test_case],\n",
    "        metrics=[metric],\n",
    "        display_config=silent_display_config\n",
    "    )\n",
    "\n",
    "def test_contextual_recall(user_query, expected_answer, actual_answer, retrival_context):\n",
    "    metric = ContextualRecallMetric(\n",
    "        threshold=0.7,\n",
    "        include_reason=True,\n",
    "        verbose_mode=False\n",
    "    )\n",
    "    test_case = LLMTestCase(\n",
    "        input=user_query,\n",
    "        expected_output=expected_answer,\n",
    "        actual_output=actual_answer,\n",
    "        retrieval_context=retrival_context\n",
    "    )\n",
    "\n",
    "    return evaluate(\n",
    "        test_cases=[test_case],\n",
    "        metrics=[metric],\n",
    "        display_config=silent_display_config\n",
    "    )\n",
    "\n",
    "def test_faithfulness(user_query, actual_answer, retrival_context):\n",
    "    metric = FaithfulnessMetric(\n",
    "        threshold=0.7,\n",
    "        verbose_mode=False,\n",
    "        model=\"gpt-4o-mini\",\n",
    "    )\n",
    "    test_case = LLMTestCase(\n",
    "        input=user_query,\n",
    "        actual_output=actual_answer,\n",
    "        retrieval_context=retrival_context\n",
    "    )\n",
    "    return evaluate(\n",
    "        test_cases=[test_case],\n",
    "        metrics=[metric],\n",
    "        display_config=silent_display_config\n",
    "    )\n",
    "\n",
    "def test_understanding(user_query, expected_answer, actual_answer):\n",
    "    metric = GEval(\n",
    "        name=\"Understanding\",\n",
    "        evaluation_steps=(\n",
    "            [\"Răspunsul este formulat într-un mod clar și accesibil pentru o persoană fără cunoștințe juridice? \",\n",
    "            \"Poate utilizatorul să înțeleagă ce are voie să facă sau ce trebuie să facă, pe baza acestui răspuns?\"]\n",
    "        ),\n",
    "        threshold=0.7,\n",
    "        evaluation_params=[LLMTestCaseParams.INPUT, LLMTestCaseParams.ACTUAL_OUTPUT, LLMTestCaseParams.EXPECTED_OUTPUT],\n",
    "        verbose_mode=False,\n",
    "        model=\"gpt-4o-mini\",\n",
    "    )\n",
    "    test_case = LLMTestCase(\n",
    "        input=user_query,\n",
    "        expected_output=expected_answer,\n",
    "        actual_output=actual_answer\n",
    "    )\n",
    "    return evaluate(\n",
    "        test_cases=[test_case],\n",
    "        metrics=[metric],\n",
    "        display_config=silent_display_config\n",
    "    )\n",
    "\n",
    "def run_evaluation(test_cases, vector_store, llm, prompt):\n",
    "    results = []\n",
    "    for test_case in test_cases:\n",
    "        user_query = test_case['question']\n",
    "        expected_answer = test_case['expected_answer']\n",
    "\n",
    "        retrival_context = retrive_relevant_documents(user_query, vector_store, k=3)\n",
    "        retrival_context = [doc.page_content for doc, _ in retrival_context]\n",
    "        context = \"\\n\\n\".join(retrival_context)\n",
    "        \n",
    "        # Run RAG to get the actual answer\n",
    "        actual_answer = get_response(user_query, llm, prompt, context)\n",
    "\n",
    "        # Evaluate the answers\n",
    "        relevancy_result = test_answer_relevancy(user_query, actual_answer)\n",
    "        recall_result = test_contextual_recall(user_query, expected_answer, actual_answer, retrival_context)\n",
    "        faithfulness_result = test_faithfulness(user_query, actual_answer, retrival_context)\n",
    "        understanding_result = test_understanding(user_query, expected_answer, actual_answer)\n",
    "\n",
    "        relevancy_result = extract_metric_info(relevancy_result)\n",
    "        recall_result = extract_metric_info(recall_result)\n",
    "        faithfulness_result = extract_metric_info(faithfulness_result)\n",
    "        understanding_result = extract_metric_info(understanding_result)\n",
    "\n",
    "        print(f\"\"\"\n",
    "            Query: {user_query}\n",
    "            Expected: {expected_answer}\n",
    "            Actual: {actual_answer}\n",
    "            Relevancy Score: {relevancy_result}\n",
    "            Recall Score: {recall_result}\n",
    "            Faithfulness Score: {faithfulness_result}\n",
    "            Understanding Score: {understanding_result}\n",
    "            \"\"\")\n",
    "       \n",
    "\n",
    "        results.append({\n",
    "            'user_query': user_query,\n",
    "            'expected_answer': expected_answer,\n",
    "            'actual_answer': actual_answer,\n",
    "            'relevancy': relevancy_result,\n",
    "            'recall': recall_result,\n",
    "            'faithfulness': faithfulness_result,\n",
    "            'understanding': understanding_result,\n",
    "        })\n",
    "    \n",
    "    return results\n",
    "\n",
    "def start_testing(models_list, test_cases, prompt):\n",
    "    results_for_models = {model : [] for model in models_list}\n",
    "    for test in test_cases:\n",
    "        print(f\"Running tests for query: {test['question']}\")\n",
    "        for model in models_list:\n",
    "            print(f\"Using model: {model}\")\n",
    "            llm = get_local_model(model=model)\n",
    "            results = run_evaluation([test], vector_store, llm, prompt)\n",
    "            results_for_models[model].append(results)\n",
    "        print(f\"Finished tests for model: {model}\\n\")\n",
    "        print(\"=\" * 50)\n",
    "        print(\"\\n\")\n",
    "    return results_for_models\n",
    "\n",
    "\n",
    "    "
   ]
  },
  {
   "cell_type": "code",
   "execution_count": null,
   "id": "247d44a7",
   "metadata": {},
   "outputs": [
    {
     "name": "stdout",
     "output_type": "stream",
     "text": [
      "Running tests for query: Cât timp poate fi reținută o persoană înainte de a fi arestată?\n",
      "Using model: mistral-7b-instruct-v0.1\n"
     ]
    },
    {
     "data": {
      "text/html": [
       "<pre style=\"white-space:pre;overflow-x:auto;line-height:normal;font-family:Menlo,'DejaVu Sans Mono',consolas,'Courier New',monospace\">\n",
       "<span style=\"color: #05f58d; text-decoration-color: #05f58d\">✓</span> Tests finished 🎉! Run <span style=\"color: #008000; text-decoration-color: #008000; font-weight: bold\">'deepeval login'</span> to save and analyze evaluation results on Confident AI.\n",
       " \n",
       "✨👀 Looking for a place for your LLM test data to live 🏡❤️ ? Use <span style=\"color: #6a00ff; text-decoration-color: #6a00ff\">Confident AI</span> to get &amp; share testing reports, \n",
       "experiment with models/prompts, and catch regressions for your LLM system. Just run <span style=\"color: #008080; text-decoration-color: #008080\">'deepeval login'</span> in the CLI. \n",
       "\n",
       "</pre>\n"
      ],
      "text/plain": [
       "\n",
       "\u001b[38;2;5;245;141m✓\u001b[0m Tests finished 🎉! Run \u001b[1;32m'deepeval login'\u001b[0m to save and analyze evaluation results on Confident AI.\n",
       " \n",
       "✨👀 Looking for a place for your LLM test data to live 🏡❤️ ? Use \u001b[38;2;106;0;255mConfident AI\u001b[0m to get & share testing reports, \n",
       "experiment with models/prompts, and catch regressions for your LLM system. Just run \u001b[36m'deepeval login'\u001b[0m in the CLI. \n",
       "\n"
      ]
     },
     "metadata": {},
     "output_type": "display_data"
    },
    {
     "data": {
      "text/html": [
       "<pre style=\"white-space:pre;overflow-x:auto;line-height:normal;font-family:Menlo,'DejaVu Sans Mono',consolas,'Courier New',monospace\">\n",
       "<span style=\"color: #05f58d; text-decoration-color: #05f58d\">✓</span> Tests finished 🎉! Run <span style=\"color: #008000; text-decoration-color: #008000; font-weight: bold\">'deepeval login'</span> to save and analyze evaluation results on Confident AI.\n",
       " \n",
       "✨👀 Looking for a place for your LLM test data to live 🏡❤️ ? Use <span style=\"color: #6a00ff; text-decoration-color: #6a00ff\">Confident AI</span> to get &amp; share testing reports, \n",
       "experiment with models/prompts, and catch regressions for your LLM system. Just run <span style=\"color: #008080; text-decoration-color: #008080\">'deepeval login'</span> in the CLI. \n",
       "\n",
       "</pre>\n"
      ],
      "text/plain": [
       "\n",
       "\u001b[38;2;5;245;141m✓\u001b[0m Tests finished 🎉! Run \u001b[1;32m'deepeval login'\u001b[0m to save and analyze evaluation results on Confident AI.\n",
       " \n",
       "✨👀 Looking for a place for your LLM test data to live 🏡❤️ ? Use \u001b[38;2;106;0;255mConfident AI\u001b[0m to get & share testing reports, \n",
       "experiment with models/prompts, and catch regressions for your LLM system. Just run \u001b[36m'deepeval login'\u001b[0m in the CLI. \n",
       "\n"
      ]
     },
     "metadata": {},
     "output_type": "display_data"
    },
    {
     "data": {
      "text/html": [
       "<pre style=\"white-space:pre;overflow-x:auto;line-height:normal;font-family:Menlo,'DejaVu Sans Mono',consolas,'Courier New',monospace\">\n",
       "<span style=\"color: #05f58d; text-decoration-color: #05f58d\">✓</span> Tests finished 🎉! Run <span style=\"color: #008000; text-decoration-color: #008000; font-weight: bold\">'deepeval login'</span> to save and analyze evaluation results on Confident AI.\n",
       " \n",
       "✨👀 Looking for a place for your LLM test data to live 🏡❤️ ? Use <span style=\"color: #6a00ff; text-decoration-color: #6a00ff\">Confident AI</span> to get &amp; share testing reports, \n",
       "experiment with models/prompts, and catch regressions for your LLM system. Just run <span style=\"color: #008080; text-decoration-color: #008080\">'deepeval login'</span> in the CLI. \n",
       "\n",
       "</pre>\n"
      ],
      "text/plain": [
       "\n",
       "\u001b[38;2;5;245;141m✓\u001b[0m Tests finished 🎉! Run \u001b[1;32m'deepeval login'\u001b[0m to save and analyze evaluation results on Confident AI.\n",
       " \n",
       "✨👀 Looking for a place for your LLM test data to live 🏡❤️ ? Use \u001b[38;2;106;0;255mConfident AI\u001b[0m to get & share testing reports, \n",
       "experiment with models/prompts, and catch regressions for your LLM system. Just run \u001b[36m'deepeval login'\u001b[0m in the CLI. \n",
       "\n"
      ]
     },
     "metadata": {},
     "output_type": "display_data"
    },
    {
     "data": {
      "text/html": [
       "<pre style=\"white-space:pre;overflow-x:auto;line-height:normal;font-family:Menlo,'DejaVu Sans Mono',consolas,'Courier New',monospace\">\n",
       "<span style=\"color: #05f58d; text-decoration-color: #05f58d\">✓</span> Tests finished 🎉! Run <span style=\"color: #008000; text-decoration-color: #008000; font-weight: bold\">'deepeval login'</span> to save and analyze evaluation results on Confident AI.\n",
       " \n",
       "✨👀 Looking for a place for your LLM test data to live 🏡❤️ ? Use <span style=\"color: #6a00ff; text-decoration-color: #6a00ff\">Confident AI</span> to get &amp; share testing reports, \n",
       "experiment with models/prompts, and catch regressions for your LLM system. Just run <span style=\"color: #008080; text-decoration-color: #008080\">'deepeval login'</span> in the CLI. \n",
       "\n",
       "</pre>\n"
      ],
      "text/plain": [
       "\n",
       "\u001b[38;2;5;245;141m✓\u001b[0m Tests finished 🎉! Run \u001b[1;32m'deepeval login'\u001b[0m to save and analyze evaluation results on Confident AI.\n",
       " \n",
       "✨👀 Looking for a place for your LLM test data to live 🏡❤️ ? Use \u001b[38;2;106;0;255mConfident AI\u001b[0m to get & share testing reports, \n",
       "experiment with models/prompts, and catch regressions for your LLM system. Just run \u001b[36m'deepeval login'\u001b[0m in the CLI. \n",
       "\n"
      ]
     },
     "metadata": {},
     "output_type": "display_data"
    },
    {
     "name": "stdout",
     "output_type": "stream",
     "text": [
      "\n",
      "            Query: Cât timp poate fi reținută o persoană înainte de a fi arestată?\n",
      "            Expected: Reținerea nu poate depăși 24 de ore. După acest termen, persoana trebuie eliberată sau arestată preventiv prin decizia unui judecător.\n",
      "            Actual: \n",
      "Conform articolului X din Codul Muncii, reținerea unui persoană nu poate depăși 24 de ore înainte de arestarea. Dacă arestarea preventivă se dispune de judecător numai în cursul procesului penal, în acest caz, arestarea preventivă poate fi deplasată în cadrul unuii perioade maximă de 30 de zile, dar nu poate depăsa un timp rezonabil, care nu poate depăși un termen de 180 de zile. Dacă în acest caz nu se aduce drepturile individuale și civile ale persoanei, persoana poate fi arestată sau reținută încă de douăzeci de ore înainte de alegerea judecată. Dacă se aduc drepturile individuale și civile ale persoanei, atunci aceste trebuie să fie respectate.\n",
      "\n",
      "În timpul urmăririi penale, arestarea preventivă poate fi deplasată pentru cel mult 30 de zile. În acest caz, judecată este obligată să verifice periodic legalitatea și temeinicia arestării preventive și să dispune, de îndată, punerea în libertate a inculpatului dacă temeiurile care au determinat arestarea preventivă au încetat sau dacă judecată constată că nu există teimeiuri noi care să justifice menținerea privării de libertate.\n",
      "\n",
      "În cazul persoanelor arestate pentru infecții contagioase, se poate deroga prin lege pentru următoarele situații: executarea unui mandat de arestare sau a unei hotărâri judecătorești.\n",
      "            Relevancy Score: [{'metric': 'Answer Relevancy', 'success': False, 'score': 0.16666666666666666, 'reason': 'The score is 0.17 because the output primarily focuses on aspects of preventive arrest and related conditions, which are not directly relevant to the question about the initial detention period before arrest. While the output contains some related legal context, it fails to address the specific query, leading to a low relevancy score.'}]\n",
      "            Recall Score: [{'metric': 'Contextual Recall', 'success': True, 'score': 1.0, 'reason': 'The score is 1.00 because every sentence in the expected output is perfectly aligned with the nodes in the retrieval context, ensuring complete accuracy and relevance. Great job!'}]\n",
      "            Faithfulness Score: [{'metric': 'Faithfulness', 'success': True, 'score': 0.8, 'reason': \"The score is 0.80 because the actual output inaccurately claims that preventive arrest can be extended for 30 days, contradicting the retrieval context which specifies it can only be 'deplasată' for that duration. Additionally, it misrepresents the legal basis for detention, suggesting it can occur without individual rights, which is not aligned with the retrieval context.\"}]\n",
      "            Understanding Score: [{'metric': 'Understanding (GEval)', 'success': False, 'score': 0.31670438938802126, 'reason': 'The response contains excessive legal jargon and complex explanations that may confuse a layperson, making it difficult to understand the key point that detention cannot exceed 24 hours.'}]\n",
      "            \n",
      "Using model: rollama3-8b-instruct\n"
     ]
    },
    {
     "data": {
      "text/html": [
       "<pre style=\"white-space:pre;overflow-x:auto;line-height:normal;font-family:Menlo,'DejaVu Sans Mono',consolas,'Courier New',monospace\">\n",
       "<span style=\"color: #05f58d; text-decoration-color: #05f58d\">✓</span> Tests finished 🎉! Run <span style=\"color: #008000; text-decoration-color: #008000; font-weight: bold\">'deepeval login'</span> to save and analyze evaluation results on Confident AI.\n",
       " \n",
       "✨👀 Looking for a place for your LLM test data to live 🏡❤️ ? Use <span style=\"color: #6a00ff; text-decoration-color: #6a00ff\">Confident AI</span> to get &amp; share testing reports, \n",
       "experiment with models/prompts, and catch regressions for your LLM system. Just run <span style=\"color: #008080; text-decoration-color: #008080\">'deepeval login'</span> in the CLI. \n",
       "\n",
       "</pre>\n"
      ],
      "text/plain": [
       "\n",
       "\u001b[38;2;5;245;141m✓\u001b[0m Tests finished 🎉! Run \u001b[1;32m'deepeval login'\u001b[0m to save and analyze evaluation results on Confident AI.\n",
       " \n",
       "✨👀 Looking for a place for your LLM test data to live 🏡❤️ ? Use \u001b[38;2;106;0;255mConfident AI\u001b[0m to get & share testing reports, \n",
       "experiment with models/prompts, and catch regressions for your LLM system. Just run \u001b[36m'deepeval login'\u001b[0m in the CLI. \n",
       "\n"
      ]
     },
     "metadata": {},
     "output_type": "display_data"
    },
    {
     "data": {
      "text/html": [
       "<pre style=\"white-space:pre;overflow-x:auto;line-height:normal;font-family:Menlo,'DejaVu Sans Mono',consolas,'Courier New',monospace\">\n",
       "<span style=\"color: #05f58d; text-decoration-color: #05f58d\">✓</span> Tests finished 🎉! Run <span style=\"color: #008000; text-decoration-color: #008000; font-weight: bold\">'deepeval login'</span> to save and analyze evaluation results on Confident AI.\n",
       " \n",
       "✨👀 Looking for a place for your LLM test data to live 🏡❤️ ? Use <span style=\"color: #6a00ff; text-decoration-color: #6a00ff\">Confident AI</span> to get &amp; share testing reports, \n",
       "experiment with models/prompts, and catch regressions for your LLM system. Just run <span style=\"color: #008080; text-decoration-color: #008080\">'deepeval login'</span> in the CLI. \n",
       "\n",
       "</pre>\n"
      ],
      "text/plain": [
       "\n",
       "\u001b[38;2;5;245;141m✓\u001b[0m Tests finished 🎉! Run \u001b[1;32m'deepeval login'\u001b[0m to save and analyze evaluation results on Confident AI.\n",
       " \n",
       "✨👀 Looking for a place for your LLM test data to live 🏡❤️ ? Use \u001b[38;2;106;0;255mConfident AI\u001b[0m to get & share testing reports, \n",
       "experiment with models/prompts, and catch regressions for your LLM system. Just run \u001b[36m'deepeval login'\u001b[0m in the CLI. \n",
       "\n"
      ]
     },
     "metadata": {},
     "output_type": "display_data"
    },
    {
     "data": {
      "text/html": [
       "<pre style=\"white-space:pre;overflow-x:auto;line-height:normal;font-family:Menlo,'DejaVu Sans Mono',consolas,'Courier New',monospace\">\n",
       "<span style=\"color: #05f58d; text-decoration-color: #05f58d\">✓</span> Tests finished 🎉! Run <span style=\"color: #008000; text-decoration-color: #008000; font-weight: bold\">'deepeval login'</span> to save and analyze evaluation results on Confident AI.\n",
       " \n",
       "✨👀 Looking for a place for your LLM test data to live 🏡❤️ ? Use <span style=\"color: #6a00ff; text-decoration-color: #6a00ff\">Confident AI</span> to get &amp; share testing reports, \n",
       "experiment with models/prompts, and catch regressions for your LLM system. Just run <span style=\"color: #008080; text-decoration-color: #008080\">'deepeval login'</span> in the CLI. \n",
       "\n",
       "</pre>\n"
      ],
      "text/plain": [
       "\n",
       "\u001b[38;2;5;245;141m✓\u001b[0m Tests finished 🎉! Run \u001b[1;32m'deepeval login'\u001b[0m to save and analyze evaluation results on Confident AI.\n",
       " \n",
       "✨👀 Looking for a place for your LLM test data to live 🏡❤️ ? Use \u001b[38;2;106;0;255mConfident AI\u001b[0m to get & share testing reports, \n",
       "experiment with models/prompts, and catch regressions for your LLM system. Just run \u001b[36m'deepeval login'\u001b[0m in the CLI. \n",
       "\n"
      ]
     },
     "metadata": {},
     "output_type": "display_data"
    },
    {
     "data": {
      "text/html": [
       "<pre style=\"white-space:pre;overflow-x:auto;line-height:normal;font-family:Menlo,'DejaVu Sans Mono',consolas,'Courier New',monospace\">\n",
       "<span style=\"color: #05f58d; text-decoration-color: #05f58d\">✓</span> Tests finished 🎉! Run <span style=\"color: #008000; text-decoration-color: #008000; font-weight: bold\">'deepeval login'</span> to save and analyze evaluation results on Confident AI.\n",
       " \n",
       "✨👀 Looking for a place for your LLM test data to live 🏡❤️ ? Use <span style=\"color: #6a00ff; text-decoration-color: #6a00ff\">Confident AI</span> to get &amp; share testing reports, \n",
       "experiment with models/prompts, and catch regressions for your LLM system. Just run <span style=\"color: #008080; text-decoration-color: #008080\">'deepeval login'</span> in the CLI. \n",
       "\n",
       "</pre>\n"
      ],
      "text/plain": [
       "\n",
       "\u001b[38;2;5;245;141m✓\u001b[0m Tests finished 🎉! Run \u001b[1;32m'deepeval login'\u001b[0m to save and analyze evaluation results on Confident AI.\n",
       " \n",
       "✨👀 Looking for a place for your LLM test data to live 🏡❤️ ? Use \u001b[38;2;106;0;255mConfident AI\u001b[0m to get & share testing reports, \n",
       "experiment with models/prompts, and catch regressions for your LLM system. Just run \u001b[36m'deepeval login'\u001b[0m in the CLI. \n",
       "\n"
      ]
     },
     "metadata": {},
     "output_type": "display_data"
    },
    {
     "name": "stdout",
     "output_type": "stream",
     "text": [
      "\n",
      "            Query: Cât timp poate fi reținută o persoană înainte de a fi arestată?\n",
      "            Expected: Reținerea nu poate depăși 24 de ore. După acest termen, persoana trebuie eliberată sau arestată preventiv prin decizia unui judecător.\n",
      "            Actual: Conform prevederilor Constituției României, o persoană poate fi reținută până la 24 de ore. O arestare preventivă este permisă numai dacă este aprobată de un judecător și în timpul procedurii penale. Arestarea preventivă nu poate depăși 30 de zile, dar această perioadă se poate prelungi cu cel mult 30 de zile, fără ca durata totală să depășească un termen rezonabil de 180 de zile.\n",
      "            Relevancy Score: [{'metric': 'Answer Relevancy', 'success': False, 'score': 0.5, 'reason': 'The score is 0.50 because while the output provides information related to detention, it focuses on preventive arrest durations rather than directly addressing the initial detention period before arrest. This misalignment with the input question prevents a higher score.'}]\n",
      "            Recall Score: [{'metric': 'Contextual Recall', 'success': True, 'score': 1.0, 'reason': 'The score is 1.00 because every sentence in the expected output is perfectly aligned with the nodes in the retrieval context, ensuring complete accuracy and relevance. Great job!'}]\n",
      "            Faithfulness Score: [{'metric': 'Faithfulness', 'success': False, 'score': 0.6, 'reason': 'The score is 0.60 because the actual output incorrectly states that preventive arrest can last a maximum of 30 days, while the context allows for extensions up to 180 days, leading to contradictions regarding the duration limits.'}]\n",
      "            Understanding Score: [{'metric': 'Understanding (GEval)', 'success': False, 'score': 0.5520039897741024, 'reason': 'While the actual output provides legal information, it is not as clear and accessible as the expected output, which succinctly states the maximum detention time and the requirement for judicial approval.'}]\n",
      "            \n",
      "Using model: rollama2-7b-instruct\n"
     ]
    },
    {
     "data": {
      "text/html": [
       "<pre style=\"white-space:pre;overflow-x:auto;line-height:normal;font-family:Menlo,'DejaVu Sans Mono',consolas,'Courier New',monospace\">\n",
       "<span style=\"color: #05f58d; text-decoration-color: #05f58d\">✓</span> Tests finished 🎉! Run <span style=\"color: #008000; text-decoration-color: #008000; font-weight: bold\">'deepeval login'</span> to save and analyze evaluation results on Confident AI.\n",
       " \n",
       "✨👀 Looking for a place for your LLM test data to live 🏡❤️ ? Use <span style=\"color: #6a00ff; text-decoration-color: #6a00ff\">Confident AI</span> to get &amp; share testing reports, \n",
       "experiment with models/prompts, and catch regressions for your LLM system. Just run <span style=\"color: #008080; text-decoration-color: #008080\">'deepeval login'</span> in the CLI. \n",
       "\n",
       "</pre>\n"
      ],
      "text/plain": [
       "\n",
       "\u001b[38;2;5;245;141m✓\u001b[0m Tests finished 🎉! Run \u001b[1;32m'deepeval login'\u001b[0m to save and analyze evaluation results on Confident AI.\n",
       " \n",
       "✨👀 Looking for a place for your LLM test data to live 🏡❤️ ? Use \u001b[38;2;106;0;255mConfident AI\u001b[0m to get & share testing reports, \n",
       "experiment with models/prompts, and catch regressions for your LLM system. Just run \u001b[36m'deepeval login'\u001b[0m in the CLI. \n",
       "\n"
      ]
     },
     "metadata": {},
     "output_type": "display_data"
    },
    {
     "data": {
      "text/html": [
       "<pre style=\"white-space:pre;overflow-x:auto;line-height:normal;font-family:Menlo,'DejaVu Sans Mono',consolas,'Courier New',monospace\">\n",
       "<span style=\"color: #05f58d; text-decoration-color: #05f58d\">✓</span> Tests finished 🎉! Run <span style=\"color: #008000; text-decoration-color: #008000; font-weight: bold\">'deepeval login'</span> to save and analyze evaluation results on Confident AI.\n",
       " \n",
       "✨👀 Looking for a place for your LLM test data to live 🏡❤️ ? Use <span style=\"color: #6a00ff; text-decoration-color: #6a00ff\">Confident AI</span> to get &amp; share testing reports, \n",
       "experiment with models/prompts, and catch regressions for your LLM system. Just run <span style=\"color: #008080; text-decoration-color: #008080\">'deepeval login'</span> in the CLI. \n",
       "\n",
       "</pre>\n"
      ],
      "text/plain": [
       "\n",
       "\u001b[38;2;5;245;141m✓\u001b[0m Tests finished 🎉! Run \u001b[1;32m'deepeval login'\u001b[0m to save and analyze evaluation results on Confident AI.\n",
       " \n",
       "✨👀 Looking for a place for your LLM test data to live 🏡❤️ ? Use \u001b[38;2;106;0;255mConfident AI\u001b[0m to get & share testing reports, \n",
       "experiment with models/prompts, and catch regressions for your LLM system. Just run \u001b[36m'deepeval login'\u001b[0m in the CLI. \n",
       "\n"
      ]
     },
     "metadata": {},
     "output_type": "display_data"
    },
    {
     "data": {
      "text/html": [
       "<pre style=\"white-space:pre;overflow-x:auto;line-height:normal;font-family:Menlo,'DejaVu Sans Mono',consolas,'Courier New',monospace\">\n",
       "<span style=\"color: #05f58d; text-decoration-color: #05f58d\">✓</span> Tests finished 🎉! Run <span style=\"color: #008000; text-decoration-color: #008000; font-weight: bold\">'deepeval login'</span> to save and analyze evaluation results on Confident AI.\n",
       " \n",
       "✨👀 Looking for a place for your LLM test data to live 🏡❤️ ? Use <span style=\"color: #6a00ff; text-decoration-color: #6a00ff\">Confident AI</span> to get &amp; share testing reports, \n",
       "experiment with models/prompts, and catch regressions for your LLM system. Just run <span style=\"color: #008080; text-decoration-color: #008080\">'deepeval login'</span> in the CLI. \n",
       "\n",
       "</pre>\n"
      ],
      "text/plain": [
       "\n",
       "\u001b[38;2;5;245;141m✓\u001b[0m Tests finished 🎉! Run \u001b[1;32m'deepeval login'\u001b[0m to save and analyze evaluation results on Confident AI.\n",
       " \n",
       "✨👀 Looking for a place for your LLM test data to live 🏡❤️ ? Use \u001b[38;2;106;0;255mConfident AI\u001b[0m to get & share testing reports, \n",
       "experiment with models/prompts, and catch regressions for your LLM system. Just run \u001b[36m'deepeval login'\u001b[0m in the CLI. \n",
       "\n"
      ]
     },
     "metadata": {},
     "output_type": "display_data"
    },
    {
     "data": {
      "text/html": [
       "<pre style=\"white-space:pre;overflow-x:auto;line-height:normal;font-family:Menlo,'DejaVu Sans Mono',consolas,'Courier New',monospace\">\n",
       "<span style=\"color: #05f58d; text-decoration-color: #05f58d\">✓</span> Tests finished 🎉! Run <span style=\"color: #008000; text-decoration-color: #008000; font-weight: bold\">'deepeval login'</span> to save and analyze evaluation results on Confident AI.\n",
       " \n",
       "✨👀 Looking for a place for your LLM test data to live 🏡❤️ ? Use <span style=\"color: #6a00ff; text-decoration-color: #6a00ff\">Confident AI</span> to get &amp; share testing reports, \n",
       "experiment with models/prompts, and catch regressions for your LLM system. Just run <span style=\"color: #008080; text-decoration-color: #008080\">'deepeval login'</span> in the CLI. \n",
       "\n",
       "</pre>\n"
      ],
      "text/plain": [
       "\n",
       "\u001b[38;2;5;245;141m✓\u001b[0m Tests finished 🎉! Run \u001b[1;32m'deepeval login'\u001b[0m to save and analyze evaluation results on Confident AI.\n",
       " \n",
       "✨👀 Looking for a place for your LLM test data to live 🏡❤️ ? Use \u001b[38;2;106;0;255mConfident AI\u001b[0m to get & share testing reports, \n",
       "experiment with models/prompts, and catch regressions for your LLM system. Just run \u001b[36m'deepeval login'\u001b[0m in the CLI. \n",
       "\n"
      ]
     },
     "metadata": {},
     "output_type": "display_data"
    },
    {
     "name": "stdout",
     "output_type": "stream",
     "text": [
      "\n",
      "            Query: Cât timp poate fi reținută o persoană înainte de a fi arestată?\n",
      "            Expected: Reținerea nu poate depăși 24 de ore. După acest termen, persoana trebuie eliberată sau arestată preventiv prin decizia unui judecător.\n",
      "            Actual: \n",
      "O persoană poate fi ținută timp de cel mult 24 de ore, iar dacă există motive suplimentare care să justifice arestarea preventivă, aceasta poate fi prelungită cu o perioadă de până la 30 de zile. Aceste măsuri sunt luate în cazurile prevăzute de lege, precum și în alte situații, cum ar fi prevenirea unei primejdii care ar putea reprezenta o amenințare gravă la adresa vieții sau integrității fizice a unei persoane, sau atunci când este vorba despre apărarea securității naționale sau a ordinii publice.\n",
      "            Relevancy Score: [{'metric': 'Answer Relevancy', 'success': False, 'score': 0.3333333333333333, 'reason': 'The score is 0.33 because the output contains several statements that diverge from the main question about the duration of detention before arrest. While some parts may touch on related topics, the majority of the content addresses different aspects such as preventive arrest, threats, and security measures, which do not directly answer the input question. This lack of focus on the specific query prevents a higher score.'}]\n",
      "            Recall Score: [{'metric': 'Contextual Recall', 'success': True, 'score': 1.0, 'reason': 'The score is 1.00 because every sentence in the expected output is perfectly aligned with the nodes in the retrieval context, ensuring complete accuracy and relevance. Great job!'}]\n",
      "            Faithfulness Score: [{'metric': 'Faithfulness', 'success': True, 'score': 0.8, 'reason': 'The score is 0.80 because the actual output inaccurately claims that preventive arrest can be extended for up to 30 days without clarifying that this extension is contingent upon specific legal conditions, which is a critical detail missing from the output.'}]\n",
      "            Understanding Score: [{'metric': 'Understanding (GEval)', 'success': False, 'score': 0.5285395641427025, 'reason': 'While the actual output provides some information about detention duration, it is not as clear and concise as the expected output, making it less accessible for someone without legal knowledge.'}]\n",
      "            \n",
      "Finished tests for model: rollama2-7b-instruct\n",
      "\n",
      "==================================================\n",
      "\n",
      "\n",
      "Running tests for query: Care sunt drepturile cetățeanului român?\n",
      "Using model: mistral-7b-instruct-v0.1\n"
     ]
    },
    {
     "data": {
      "text/html": [
       "<pre style=\"white-space:pre;overflow-x:auto;line-height:normal;font-family:Menlo,'DejaVu Sans Mono',consolas,'Courier New',monospace\">\n",
       "<span style=\"color: #05f58d; text-decoration-color: #05f58d\">✓</span> Tests finished 🎉! Run <span style=\"color: #008000; text-decoration-color: #008000; font-weight: bold\">'deepeval login'</span> to save and analyze evaluation results on Confident AI.\n",
       " \n",
       "✨👀 Looking for a place for your LLM test data to live 🏡❤️ ? Use <span style=\"color: #6a00ff; text-decoration-color: #6a00ff\">Confident AI</span> to get &amp; share testing reports, \n",
       "experiment with models/prompts, and catch regressions for your LLM system. Just run <span style=\"color: #008080; text-decoration-color: #008080\">'deepeval login'</span> in the CLI. \n",
       "\n",
       "</pre>\n"
      ],
      "text/plain": [
       "\n",
       "\u001b[38;2;5;245;141m✓\u001b[0m Tests finished 🎉! Run \u001b[1;32m'deepeval login'\u001b[0m to save and analyze evaluation results on Confident AI.\n",
       " \n",
       "✨👀 Looking for a place for your LLM test data to live 🏡❤️ ? Use \u001b[38;2;106;0;255mConfident AI\u001b[0m to get & share testing reports, \n",
       "experiment with models/prompts, and catch regressions for your LLM system. Just run \u001b[36m'deepeval login'\u001b[0m in the CLI. \n",
       "\n"
      ]
     },
     "metadata": {},
     "output_type": "display_data"
    },
    {
     "data": {
      "text/html": [
       "<pre style=\"white-space:pre;overflow-x:auto;line-height:normal;font-family:Menlo,'DejaVu Sans Mono',consolas,'Courier New',monospace\">\n",
       "<span style=\"color: #05f58d; text-decoration-color: #05f58d\">✓</span> Tests finished 🎉! Run <span style=\"color: #008000; text-decoration-color: #008000; font-weight: bold\">'deepeval login'</span> to save and analyze evaluation results on Confident AI.\n",
       " \n",
       "✨👀 Looking for a place for your LLM test data to live 🏡❤️ ? Use <span style=\"color: #6a00ff; text-decoration-color: #6a00ff\">Confident AI</span> to get &amp; share testing reports, \n",
       "experiment with models/prompts, and catch regressions for your LLM system. Just run <span style=\"color: #008080; text-decoration-color: #008080\">'deepeval login'</span> in the CLI. \n",
       "\n",
       "</pre>\n"
      ],
      "text/plain": [
       "\n",
       "\u001b[38;2;5;245;141m✓\u001b[0m Tests finished 🎉! Run \u001b[1;32m'deepeval login'\u001b[0m to save and analyze evaluation results on Confident AI.\n",
       " \n",
       "✨👀 Looking for a place for your LLM test data to live 🏡❤️ ? Use \u001b[38;2;106;0;255mConfident AI\u001b[0m to get & share testing reports, \n",
       "experiment with models/prompts, and catch regressions for your LLM system. Just run \u001b[36m'deepeval login'\u001b[0m in the CLI. \n",
       "\n"
      ]
     },
     "metadata": {},
     "output_type": "display_data"
    },
    {
     "data": {
      "text/html": [
       "<pre style=\"white-space:pre;overflow-x:auto;line-height:normal;font-family:Menlo,'DejaVu Sans Mono',consolas,'Courier New',monospace\">\n",
       "<span style=\"color: #05f58d; text-decoration-color: #05f58d\">✓</span> Tests finished 🎉! Run <span style=\"color: #008000; text-decoration-color: #008000; font-weight: bold\">'deepeval login'</span> to save and analyze evaluation results on Confident AI.\n",
       " \n",
       "✨👀 Looking for a place for your LLM test data to live 🏡❤️ ? Use <span style=\"color: #6a00ff; text-decoration-color: #6a00ff\">Confident AI</span> to get &amp; share testing reports, \n",
       "experiment with models/prompts, and catch regressions for your LLM system. Just run <span style=\"color: #008080; text-decoration-color: #008080\">'deepeval login'</span> in the CLI. \n",
       "\n",
       "</pre>\n"
      ],
      "text/plain": [
       "\n",
       "\u001b[38;2;5;245;141m✓\u001b[0m Tests finished 🎉! Run \u001b[1;32m'deepeval login'\u001b[0m to save and analyze evaluation results on Confident AI.\n",
       " \n",
       "✨👀 Looking for a place for your LLM test data to live 🏡❤️ ? Use \u001b[38;2;106;0;255mConfident AI\u001b[0m to get & share testing reports, \n",
       "experiment with models/prompts, and catch regressions for your LLM system. Just run \u001b[36m'deepeval login'\u001b[0m in the CLI. \n",
       "\n"
      ]
     },
     "metadata": {},
     "output_type": "display_data"
    },
    {
     "data": {
      "text/html": [
       "<pre style=\"white-space:pre;overflow-x:auto;line-height:normal;font-family:Menlo,'DejaVu Sans Mono',consolas,'Courier New',monospace\">\n",
       "<span style=\"color: #05f58d; text-decoration-color: #05f58d\">✓</span> Tests finished 🎉! Run <span style=\"color: #008000; text-decoration-color: #008000; font-weight: bold\">'deepeval login'</span> to save and analyze evaluation results on Confident AI.\n",
       " \n",
       "✨👀 Looking for a place for your LLM test data to live 🏡❤️ ? Use <span style=\"color: #6a00ff; text-decoration-color: #6a00ff\">Confident AI</span> to get &amp; share testing reports, \n",
       "experiment with models/prompts, and catch regressions for your LLM system. Just run <span style=\"color: #008080; text-decoration-color: #008080\">'deepeval login'</span> in the CLI. \n",
       "\n",
       "</pre>\n"
      ],
      "text/plain": [
       "\n",
       "\u001b[38;2;5;245;141m✓\u001b[0m Tests finished 🎉! Run \u001b[1;32m'deepeval login'\u001b[0m to save and analyze evaluation results on Confident AI.\n",
       " \n",
       "✨👀 Looking for a place for your LLM test data to live 🏡❤️ ? Use \u001b[38;2;106;0;255mConfident AI\u001b[0m to get & share testing reports, \n",
       "experiment with models/prompts, and catch regressions for your LLM system. Just run \u001b[36m'deepeval login'\u001b[0m in the CLI. \n",
       "\n"
      ]
     },
     "metadata": {},
     "output_type": "display_data"
    },
    {
     "name": "stdout",
     "output_type": "stream",
     "text": [
      "\n",
      "            Query: Care sunt drepturile cetățeanului român?\n",
      "            Expected: Cetățeanul român beneficiază de drepturi și libertăți fundamentale în toate domeniile vieții. Drepturile civile și politice includ dreptul la viață, libertatea individuală, dreptul la apărare, dreptul de vot de la 18 ani și eligibilitatea pentru funcții publice. Libertățile fundamentale cuprind libertatea gândirii și credinței religioase, libertatea de exprimare, dreptul la informație și dreptul de asociere în partide și sindicate. Drepturile economice și sociale garantează munca liber aleasă, greva, proprietatea privată, moștenirea, pensia și asistența medicală. În plus, cetățenii au dreptul la învățătură, acces la cultură, un mediu sănătos și protecția statului în străinătate.\n",
      "            Actual: \n",
      "Drepturile cetățenului român se referă la o serie de protecții și privilegii care i le permit să trăiască cu ușorie și să-și exercite toate funcțiile civice, sociale şi economice. Conform Constituției României, cetățenii români sunt egali în fața legii şi a autorităților publice, fără privilegii şi fără discriminări. Astfel, au dreptul să-și exercite drepturile și libertățile constituționale cu bună-credință, fără să încalce drepturile și libertățile celorlalți.\n",
      "\n",
      "În condiții ale legii, cetățenii români pot ocupa funcții publice, civile sau militare. Statul garantează egalitatea de șanse între femei şi bărbații pentru ocuparea acestor funcții şi demnități. De asemenea, cetățenii români în străinătate au dreptul să-și exercite drepturile şi libertăți constitutionale conform legilor ale statului care îi găzduiește.\n",
      "\n",
      "În acest context, Constituția României prevede că dispozițiunile constituționale privind drepturile şi libertățile cetățenilor vor fi interpretate și aplicate în concordanță cu Declarația Universală a Drepturilor Omului. Astfel, drepturile omului au o preponderentă importanță pentru statul român, iar românii au drepturile și privilegii garantate de legi internaționale, într-o ordine de prioritate ce prioritare în fața altor lege interne, în cazuri de conflicte.\n",
      "\n",
      "În concluzie, cetățenii români au drepturile și libertăți constitutionale care i permit să trăiască cu ușorie şi să-și exercite toate funcțiile civice, sociale şi economice. Acestea sunt garantate de lege, astfel într-o ordine de prioritate, pe care trebuie să fie respectate în fața altor legi interne.\n",
      "            Relevancy Score: [{'metric': 'Answer Relevancy', 'success': True, 'score': 1.0, 'reason': 'The score is 1.00 because the response perfectly addresses the question about the rights of Romanian citizens without any irrelevant information. Great job on staying focused and relevant!'}]\n",
      "            Recall Score: [{'metric': 'Contextual Recall', 'success': False, 'score': 0.3333333333333333, 'reason': \"The score is 0.33 because only a few elements of the expected output align with the nodes in the retrieval context. Specifically, the 1st node in the retrieval context supports the mention of 'drepturi și libertăți fundamentale' in the first sentence, and the 2nd node aligns with 'eligibilitatea pentru funcții publice' in the second sentence. However, there is a lack of support for other key concepts such as 'libertatea gândirii și credinței religioase', 'dreptul la informație', and 'drepturile economice și sociale', which are not covered by any nodes in the retrieval context.\"}]\n",
      "            Faithfulness Score: [{'metric': 'Faithfulness', 'success': True, 'score': 0.8181818181818182, 'reason': 'The score is 0.82 because the actual output incorrectly suggests that Romanian citizens have privileges and rights guaranteed by international laws, which contradicts the retrieval context that emphasizes equality before the law and the conditional priority of international regulations.'}]\n",
      "            Understanding Score: [{'metric': 'Understanding (GEval)', 'success': False, 'score': 0.47362491218236746, 'reason': \"The actual output provides a general overview of citizens' rights but lacks clarity and specific examples, making it less accessible for someone without legal knowledge compared to the expected output.\"}]\n",
      "            \n",
      "Using model: rollama3-8b-instruct\n"
     ]
    },
    {
     "data": {
      "text/html": [
       "<pre style=\"white-space:pre;overflow-x:auto;line-height:normal;font-family:Menlo,'DejaVu Sans Mono',consolas,'Courier New',monospace\">\n",
       "<span style=\"color: #05f58d; text-decoration-color: #05f58d\">✓</span> Tests finished 🎉! Run <span style=\"color: #008000; text-decoration-color: #008000; font-weight: bold\">'deepeval login'</span> to save and analyze evaluation results on Confident AI.\n",
       " \n",
       "✨👀 Looking for a place for your LLM test data to live 🏡❤️ ? Use <span style=\"color: #6a00ff; text-decoration-color: #6a00ff\">Confident AI</span> to get &amp; share testing reports, \n",
       "experiment with models/prompts, and catch regressions for your LLM system. Just run <span style=\"color: #008080; text-decoration-color: #008080\">'deepeval login'</span> in the CLI. \n",
       "\n",
       "</pre>\n"
      ],
      "text/plain": [
       "\n",
       "\u001b[38;2;5;245;141m✓\u001b[0m Tests finished 🎉! Run \u001b[1;32m'deepeval login'\u001b[0m to save and analyze evaluation results on Confident AI.\n",
       " \n",
       "✨👀 Looking for a place for your LLM test data to live 🏡❤️ ? Use \u001b[38;2;106;0;255mConfident AI\u001b[0m to get & share testing reports, \n",
       "experiment with models/prompts, and catch regressions for your LLM system. Just run \u001b[36m'deepeval login'\u001b[0m in the CLI. \n",
       "\n"
      ]
     },
     "metadata": {},
     "output_type": "display_data"
    },
    {
     "data": {
      "text/html": [
       "<pre style=\"white-space:pre;overflow-x:auto;line-height:normal;font-family:Menlo,'DejaVu Sans Mono',consolas,'Courier New',monospace\">\n",
       "<span style=\"color: #05f58d; text-decoration-color: #05f58d\">✓</span> Tests finished 🎉! Run <span style=\"color: #008000; text-decoration-color: #008000; font-weight: bold\">'deepeval login'</span> to save and analyze evaluation results on Confident AI.\n",
       " \n",
       "✨👀 Looking for a place for your LLM test data to live 🏡❤️ ? Use <span style=\"color: #6a00ff; text-decoration-color: #6a00ff\">Confident AI</span> to get &amp; share testing reports, \n",
       "experiment with models/prompts, and catch regressions for your LLM system. Just run <span style=\"color: #008080; text-decoration-color: #008080\">'deepeval login'</span> in the CLI. \n",
       "\n",
       "</pre>\n"
      ],
      "text/plain": [
       "\n",
       "\u001b[38;2;5;245;141m✓\u001b[0m Tests finished 🎉! Run \u001b[1;32m'deepeval login'\u001b[0m to save and analyze evaluation results on Confident AI.\n",
       " \n",
       "✨👀 Looking for a place for your LLM test data to live 🏡❤️ ? Use \u001b[38;2;106;0;255mConfident AI\u001b[0m to get & share testing reports, \n",
       "experiment with models/prompts, and catch regressions for your LLM system. Just run \u001b[36m'deepeval login'\u001b[0m in the CLI. \n",
       "\n"
      ]
     },
     "metadata": {},
     "output_type": "display_data"
    },
    {
     "data": {
      "text/html": [
       "<pre style=\"white-space:pre;overflow-x:auto;line-height:normal;font-family:Menlo,'DejaVu Sans Mono',consolas,'Courier New',monospace\">\n",
       "<span style=\"color: #05f58d; text-decoration-color: #05f58d\">✓</span> Tests finished 🎉! Run <span style=\"color: #008000; text-decoration-color: #008000; font-weight: bold\">'deepeval login'</span> to save and analyze evaluation results on Confident AI.\n",
       " \n",
       "✨👀 Looking for a place for your LLM test data to live 🏡❤️ ? Use <span style=\"color: #6a00ff; text-decoration-color: #6a00ff\">Confident AI</span> to get &amp; share testing reports, \n",
       "experiment with models/prompts, and catch regressions for your LLM system. Just run <span style=\"color: #008080; text-decoration-color: #008080\">'deepeval login'</span> in the CLI. \n",
       "\n",
       "</pre>\n"
      ],
      "text/plain": [
       "\n",
       "\u001b[38;2;5;245;141m✓\u001b[0m Tests finished 🎉! Run \u001b[1;32m'deepeval login'\u001b[0m to save and analyze evaluation results on Confident AI.\n",
       " \n",
       "✨👀 Looking for a place for your LLM test data to live 🏡❤️ ? Use \u001b[38;2;106;0;255mConfident AI\u001b[0m to get & share testing reports, \n",
       "experiment with models/prompts, and catch regressions for your LLM system. Just run \u001b[36m'deepeval login'\u001b[0m in the CLI. \n",
       "\n"
      ]
     },
     "metadata": {},
     "output_type": "display_data"
    },
    {
     "data": {
      "text/html": [
       "<pre style=\"white-space:pre;overflow-x:auto;line-height:normal;font-family:Menlo,'DejaVu Sans Mono',consolas,'Courier New',monospace\">\n",
       "<span style=\"color: #05f58d; text-decoration-color: #05f58d\">✓</span> Tests finished 🎉! Run <span style=\"color: #008000; text-decoration-color: #008000; font-weight: bold\">'deepeval login'</span> to save and analyze evaluation results on Confident AI.\n",
       " \n",
       "✨👀 Looking for a place for your LLM test data to live 🏡❤️ ? Use <span style=\"color: #6a00ff; text-decoration-color: #6a00ff\">Confident AI</span> to get &amp; share testing reports, \n",
       "experiment with models/prompts, and catch regressions for your LLM system. Just run <span style=\"color: #008080; text-decoration-color: #008080\">'deepeval login'</span> in the CLI. \n",
       "\n",
       "</pre>\n"
      ],
      "text/plain": [
       "\n",
       "\u001b[38;2;5;245;141m✓\u001b[0m Tests finished 🎉! Run \u001b[1;32m'deepeval login'\u001b[0m to save and analyze evaluation results on Confident AI.\n",
       " \n",
       "✨👀 Looking for a place for your LLM test data to live 🏡❤️ ? Use \u001b[38;2;106;0;255mConfident AI\u001b[0m to get & share testing reports, \n",
       "experiment with models/prompts, and catch regressions for your LLM system. Just run \u001b[36m'deepeval login'\u001b[0m in the CLI. \n",
       "\n"
      ]
     },
     "metadata": {},
     "output_type": "display_data"
    },
    {
     "name": "stdout",
     "output_type": "stream",
     "text": [
      "\n",
      "            Query: Care sunt drepturile cetățeanului român?\n",
      "            Expected: Cetățeanul român beneficiază de drepturi și libertăți fundamentale în toate domeniile vieții. Drepturile civile și politice includ dreptul la viață, libertatea individuală, dreptul la apărare, dreptul de vot de la 18 ani și eligibilitatea pentru funcții publice. Libertățile fundamentale cuprind libertatea gândirii și credinței religioase, libertatea de exprimare, dreptul la informație și dreptul de asociere în partide și sindicate. Drepturile economice și sociale garantează munca liber aleasă, greva, proprietatea privată, moștenirea, pensia și asistența medicală. În plus, cetățenii au dreptul la învățătură, acces la cultură, un mediu sănătos și protecția statului în străinătate.\n",
      "            Actual: Conform Constituției României, cetățenii beneficiază de următoarele drepturi:\n",
      "\n",
      "- Egalitatea în fața legii și a autorităților publice fără privilegii și discriminări\n",
      "- În condițiile aderării României la Uniunea Europeană, cetățenii Uniunii care îndeplinesc cerințele legale au dreptul de a alege și de a fi aleși în autoritățile locale.\n",
      "- Accesul liber la justiție\n",
      "- Egalitate în funcții publice și demnități, civil sau militar, fără privilegii sau discriminare. Statul român garantează egalitatea de șanse între bărbați și femei pentru aceste sarcini.\n",
      "- Acces la protecție juridică în timp ce se află în străinătate\n",
      "- Dreptul de a avea cetățenie românească, cu condiția îndeplinirii unor cerințe specifice\n",
      "- Cetățenii din Uniunea Europeană au dreptul la protecție juridică în România dacă trăiesc sau se află în țară.\n",
      "- Acces la servicii medicale și sociale, inclusiv asistență medicală preventivă\n",
      "- Drepturi de proprietate intelectuală (drepturi de autor) pentru cetățeni români din străinătate\n",
      "- Acces la educație egală în școli și colegii\n",
      "- Accesul cetățenilor din Uniunea Europeană la drepturile statelor membre, cum ar fi accesul liber la locuințe, servicii medicale, protecția juridică etc.\n",
      "            Relevancy Score: [{'metric': 'Answer Relevancy', 'success': True, 'score': 1.0, 'reason': 'The score is 1.00 because the response perfectly addresses the question about the rights of a Romanian citizen without any irrelevant information. Great job on staying focused and relevant!'}]\n",
      "            Recall Score: [{'metric': 'Contextual Recall', 'success': False, 'score': 0.6, 'reason': \"The score is 0.60 because while nodes in the retrieval context support several key aspects of the expected output, such as 'drepturi și libertăți fundamentale' (node 1), 'eligibilitatea pentru funcții publice' (node 2), and 'drepturile economice și sociale' (node 3), they lack specific references to 'libertatea gândirii și credinței religioase', 'dreptul la informație', and other rights mentioned in the expected output.\"}]\n",
      "            Faithfulness Score: [{'metric': 'Faithfulness', 'success': True, 'score': 1.0, 'reason': 'The score is 1.00 because there are no contradictions present, indicating that the actual output perfectly aligns with the retrieval context.'}]\n",
      "            Understanding Score: [{'metric': 'Understanding (GEval)', 'success': False, 'score': 0.5305704035303733, 'reason': 'While the actual output lists several rights of Romanian citizens, it lacks clarity and accessibility for someone without legal knowledge, making it difficult for users to understand their rights and obligations.'}]\n",
      "            \n",
      "Using model: rollama2-7b-instruct\n"
     ]
    },
    {
     "data": {
      "text/html": [
       "<pre style=\"white-space:pre;overflow-x:auto;line-height:normal;font-family:Menlo,'DejaVu Sans Mono',consolas,'Courier New',monospace\">\n",
       "<span style=\"color: #05f58d; text-decoration-color: #05f58d\">✓</span> Tests finished 🎉! Run <span style=\"color: #008000; text-decoration-color: #008000; font-weight: bold\">'deepeval login'</span> to save and analyze evaluation results on Confident AI.\n",
       " \n",
       "✨👀 Looking for a place for your LLM test data to live 🏡❤️ ? Use <span style=\"color: #6a00ff; text-decoration-color: #6a00ff\">Confident AI</span> to get &amp; share testing reports, \n",
       "experiment with models/prompts, and catch regressions for your LLM system. Just run <span style=\"color: #008080; text-decoration-color: #008080\">'deepeval login'</span> in the CLI. \n",
       "\n",
       "</pre>\n"
      ],
      "text/plain": [
       "\n",
       "\u001b[38;2;5;245;141m✓\u001b[0m Tests finished 🎉! Run \u001b[1;32m'deepeval login'\u001b[0m to save and analyze evaluation results on Confident AI.\n",
       " \n",
       "✨👀 Looking for a place for your LLM test data to live 🏡❤️ ? Use \u001b[38;2;106;0;255mConfident AI\u001b[0m to get & share testing reports, \n",
       "experiment with models/prompts, and catch regressions for your LLM system. Just run \u001b[36m'deepeval login'\u001b[0m in the CLI. \n",
       "\n"
      ]
     },
     "metadata": {},
     "output_type": "display_data"
    },
    {
     "data": {
      "text/html": [
       "<pre style=\"white-space:pre;overflow-x:auto;line-height:normal;font-family:Menlo,'DejaVu Sans Mono',consolas,'Courier New',monospace\">\n",
       "<span style=\"color: #05f58d; text-decoration-color: #05f58d\">✓</span> Tests finished 🎉! Run <span style=\"color: #008000; text-decoration-color: #008000; font-weight: bold\">'deepeval login'</span> to save and analyze evaluation results on Confident AI.\n",
       " \n",
       "✨👀 Looking for a place for your LLM test data to live 🏡❤️ ? Use <span style=\"color: #6a00ff; text-decoration-color: #6a00ff\">Confident AI</span> to get &amp; share testing reports, \n",
       "experiment with models/prompts, and catch regressions for your LLM system. Just run <span style=\"color: #008080; text-decoration-color: #008080\">'deepeval login'</span> in the CLI. \n",
       "\n",
       "</pre>\n"
      ],
      "text/plain": [
       "\n",
       "\u001b[38;2;5;245;141m✓\u001b[0m Tests finished 🎉! Run \u001b[1;32m'deepeval login'\u001b[0m to save and analyze evaluation results on Confident AI.\n",
       " \n",
       "✨👀 Looking for a place for your LLM test data to live 🏡❤️ ? Use \u001b[38;2;106;0;255mConfident AI\u001b[0m to get & share testing reports, \n",
       "experiment with models/prompts, and catch regressions for your LLM system. Just run \u001b[36m'deepeval login'\u001b[0m in the CLI. \n",
       "\n"
      ]
     },
     "metadata": {},
     "output_type": "display_data"
    },
    {
     "data": {
      "text/html": [
       "<pre style=\"white-space:pre;overflow-x:auto;line-height:normal;font-family:Menlo,'DejaVu Sans Mono',consolas,'Courier New',monospace\">\n",
       "<span style=\"color: #05f58d; text-decoration-color: #05f58d\">✓</span> Tests finished 🎉! Run <span style=\"color: #008000; text-decoration-color: #008000; font-weight: bold\">'deepeval login'</span> to save and analyze evaluation results on Confident AI.\n",
       " \n",
       "✨👀 Looking for a place for your LLM test data to live 🏡❤️ ? Use <span style=\"color: #6a00ff; text-decoration-color: #6a00ff\">Confident AI</span> to get &amp; share testing reports, \n",
       "experiment with models/prompts, and catch regressions for your LLM system. Just run <span style=\"color: #008080; text-decoration-color: #008080\">'deepeval login'</span> in the CLI. \n",
       "\n",
       "</pre>\n"
      ],
      "text/plain": [
       "\n",
       "\u001b[38;2;5;245;141m✓\u001b[0m Tests finished 🎉! Run \u001b[1;32m'deepeval login'\u001b[0m to save and analyze evaluation results on Confident AI.\n",
       " \n",
       "✨👀 Looking for a place for your LLM test data to live 🏡❤️ ? Use \u001b[38;2;106;0;255mConfident AI\u001b[0m to get & share testing reports, \n",
       "experiment with models/prompts, and catch regressions for your LLM system. Just run \u001b[36m'deepeval login'\u001b[0m in the CLI. \n",
       "\n"
      ]
     },
     "metadata": {},
     "output_type": "display_data"
    },
    {
     "data": {
      "text/html": [
       "<pre style=\"white-space:pre;overflow-x:auto;line-height:normal;font-family:Menlo,'DejaVu Sans Mono',consolas,'Courier New',monospace\">\n",
       "<span style=\"color: #05f58d; text-decoration-color: #05f58d\">✓</span> Tests finished 🎉! Run <span style=\"color: #008000; text-decoration-color: #008000; font-weight: bold\">'deepeval login'</span> to save and analyze evaluation results on Confident AI.\n",
       " \n",
       "✨👀 Looking for a place for your LLM test data to live 🏡❤️ ? Use <span style=\"color: #6a00ff; text-decoration-color: #6a00ff\">Confident AI</span> to get &amp; share testing reports, \n",
       "experiment with models/prompts, and catch regressions for your LLM system. Just run <span style=\"color: #008080; text-decoration-color: #008080\">'deepeval login'</span> in the CLI. \n",
       "\n",
       "</pre>\n"
      ],
      "text/plain": [
       "\n",
       "\u001b[38;2;5;245;141m✓\u001b[0m Tests finished 🎉! Run \u001b[1;32m'deepeval login'\u001b[0m to save and analyze evaluation results on Confident AI.\n",
       " \n",
       "✨👀 Looking for a place for your LLM test data to live 🏡❤️ ? Use \u001b[38;2;106;0;255mConfident AI\u001b[0m to get & share testing reports, \n",
       "experiment with models/prompts, and catch regressions for your LLM system. Just run \u001b[36m'deepeval login'\u001b[0m in the CLI. \n",
       "\n"
      ]
     },
     "metadata": {},
     "output_type": "display_data"
    },
    {
     "name": "stdout",
     "output_type": "stream",
     "text": [
      "\n",
      "            Query: Care sunt drepturile cetățeanului român?\n",
      "            Expected: Cetățeanul român beneficiază de drepturi și libertăți fundamentale în toate domeniile vieții. Drepturile civile și politice includ dreptul la viață, libertatea individuală, dreptul la apărare, dreptul de vot de la 18 ani și eligibilitatea pentru funcții publice. Libertățile fundamentale cuprind libertatea gândirii și credinței religioase, libertatea de exprimare, dreptul la informație și dreptul de asociere în partide și sindicate. Drepturile economice și sociale garantează munca liber aleasă, greva, proprietatea privată, moștenirea, pensia și asistența medicală. În plus, cetățenii au dreptul la învățătură, acces la cultură, un mediu sănătos și protecția statului în străinătate.\n",
      "            Actual: \n",
      "În calitate de cetățean român, aveți mai multe drepturi și libertăți garantate prin Constituția României. Acestea includ:\n",
      "\n",
      "1. Egalitatea în fața legii: Aveți același statut juridic ca orice alt cetățean al țării, fără privilegii speciale sau discriminare.\n",
      "2. Libertatea de exprimare și a presei: Puteți să vă exprimați liber gândurile, credințele și opiniile, atât în mod public, cât și prin intermediul mass-mediei.\n",
      "3. Dreptul la informare: aveți dreptul de acces la informații guvernamentale care vă privesc direct și potențial.\n",
      "4. Protecția împotriva discriminării și a tratamentului incorect: nu puteți fi discriminați sau supuse unui tratament inechitabil pe baza rasei, sexului, vârstei, orientării sexuale, religiei, originii naționale sau a altor criterii similare.\n",
      "5. Accesul liber la justiție: Puteți accesa cu ușurință sistemul judiciar al țării pentru a vă rezolva problemele juridice, fie că este vorba de un proces civil sau penal.\n",
      "6. Drepturi de proprietate privată: Aveți dreptul la proprietatea asupra bunurilor dvs. și puteți face schimburi de proprietăți cu alte persoane în mod legal.\n",
      "7. Viață privată: aveți un drept la viața ta personală și nu puteți fi supus intruziunii nejustificate sau încălcarea vieții private.\n",
      "8. Dreptul de a vă asocia în sindicate: Puteți adera la un sindicat și vă puteți exercita drepturile de membru, inclusiv să vă protejați interesele lucrând împreună pentru acestea.\n",
      "9. Dreptul la muncă: aveți dreptul de a căuta un loc de muncă și de a fi angajat în condiții echitabile, fără discriminare. Aveți dreptul să vă exercitați drepturile legate de ocuparea forței de muncă, inclusiv prin negociere colectivă sau individuală cu angajatorul dvs.\n",
      "10. Protecția împotriva exploatării: aveți drepturi de a nu fi exploatați într-un mod care ar putea afecta bunăstarea dumneavoastră, inclusiv să nu vă supuneți la muncă forțată sau la orice altă formă de muncă în condiții grele.\n",
      "11. Drepturi politice: aveți dreptul de a participa la alegerile locale și naționale pentru a lua parte la procesul democratic de luare a deciziilor care vă afectează direct. \n",
      "            Relevancy Score: [{'metric': 'Answer Relevancy', 'success': True, 'score': 1.0, 'reason': 'The score is 1.00 because the response perfectly addresses the question about the rights of a Romanian citizen without any irrelevant information. Great job on staying focused and relevant!'}]\n",
      "            Recall Score: [{'metric': 'Contextual Recall', 'success': False, 'score': 0.4, 'reason': 'The score is 0.40 because while the 1st and 2nd nodes in the retrieval context align with the expected output regarding constitutional rights and voting rights, there is a lack of specific references to other fundamental freedoms, economic and social rights, and additional citizen rights in the retrieval context.'}]\n",
      "            Faithfulness Score: [{'metric': 'Faithfulness', 'success': False, 'score': 0.4166666666666667, 'reason': 'The score is 0.42 because the actual output includes several rights and freedoms that are not explicitly mentioned in the retrieval context, such as freedom of expression, right to information, property rights, privacy rights, union association, employment rights, and protection against exploitation, leading to a significant misalignment.'}]\n",
      "            Understanding Score: [{'metric': 'Understanding (GEval)', 'success': False, 'score': 0.6794631016933343, 'reason': 'The actual output provides a clear list of rights for Romanian citizens, making it accessible, but it lacks some specific rights mentioned in the expected output, such as the right to education and a healthy environment.'}]\n",
      "            \n",
      "Finished tests for model: rollama2-7b-instruct\n",
      "\n",
      "==================================================\n",
      "\n",
      "\n",
      "Running tests for query: Ce obligație are angajatorul înainte de încheierea contractului individual de muncă?\n",
      "Using model: mistral-7b-instruct-v0.1\n"
     ]
    },
    {
     "data": {
      "text/html": [
       "<pre style=\"white-space:pre;overflow-x:auto;line-height:normal;font-family:Menlo,'DejaVu Sans Mono',consolas,'Courier New',monospace\">\n",
       "<span style=\"color: #05f58d; text-decoration-color: #05f58d\">✓</span> Tests finished 🎉! Run <span style=\"color: #008000; text-decoration-color: #008000; font-weight: bold\">'deepeval login'</span> to save and analyze evaluation results on Confident AI.\n",
       " \n",
       "✨👀 Looking for a place for your LLM test data to live 🏡❤️ ? Use <span style=\"color: #6a00ff; text-decoration-color: #6a00ff\">Confident AI</span> to get &amp; share testing reports, \n",
       "experiment with models/prompts, and catch regressions for your LLM system. Just run <span style=\"color: #008080; text-decoration-color: #008080\">'deepeval login'</span> in the CLI. \n",
       "\n",
       "</pre>\n"
      ],
      "text/plain": [
       "\n",
       "\u001b[38;2;5;245;141m✓\u001b[0m Tests finished 🎉! Run \u001b[1;32m'deepeval login'\u001b[0m to save and analyze evaluation results on Confident AI.\n",
       " \n",
       "✨👀 Looking for a place for your LLM test data to live 🏡❤️ ? Use \u001b[38;2;106;0;255mConfident AI\u001b[0m to get & share testing reports, \n",
       "experiment with models/prompts, and catch regressions for your LLM system. Just run \u001b[36m'deepeval login'\u001b[0m in the CLI. \n",
       "\n"
      ]
     },
     "metadata": {},
     "output_type": "display_data"
    },
    {
     "data": {
      "text/html": [
       "<pre style=\"white-space:pre;overflow-x:auto;line-height:normal;font-family:Menlo,'DejaVu Sans Mono',consolas,'Courier New',monospace\">\n",
       "<span style=\"color: #05f58d; text-decoration-color: #05f58d\">✓</span> Tests finished 🎉! Run <span style=\"color: #008000; text-decoration-color: #008000; font-weight: bold\">'deepeval login'</span> to save and analyze evaluation results on Confident AI.\n",
       " \n",
       "✨👀 Looking for a place for your LLM test data to live 🏡❤️ ? Use <span style=\"color: #6a00ff; text-decoration-color: #6a00ff\">Confident AI</span> to get &amp; share testing reports, \n",
       "experiment with models/prompts, and catch regressions for your LLM system. Just run <span style=\"color: #008080; text-decoration-color: #008080\">'deepeval login'</span> in the CLI. \n",
       "\n",
       "</pre>\n"
      ],
      "text/plain": [
       "\n",
       "\u001b[38;2;5;245;141m✓\u001b[0m Tests finished 🎉! Run \u001b[1;32m'deepeval login'\u001b[0m to save and analyze evaluation results on Confident AI.\n",
       " \n",
       "✨👀 Looking for a place for your LLM test data to live 🏡❤️ ? Use \u001b[38;2;106;0;255mConfident AI\u001b[0m to get & share testing reports, \n",
       "experiment with models/prompts, and catch regressions for your LLM system. Just run \u001b[36m'deepeval login'\u001b[0m in the CLI. \n",
       "\n"
      ]
     },
     "metadata": {},
     "output_type": "display_data"
    },
    {
     "data": {
      "text/html": [
       "<pre style=\"white-space:pre;overflow-x:auto;line-height:normal;font-family:Menlo,'DejaVu Sans Mono',consolas,'Courier New',monospace\">\n",
       "<span style=\"color: #05f58d; text-decoration-color: #05f58d\">✓</span> Tests finished 🎉! Run <span style=\"color: #008000; text-decoration-color: #008000; font-weight: bold\">'deepeval login'</span> to save and analyze evaluation results on Confident AI.\n",
       " \n",
       "✨👀 Looking for a place for your LLM test data to live 🏡❤️ ? Use <span style=\"color: #6a00ff; text-decoration-color: #6a00ff\">Confident AI</span> to get &amp; share testing reports, \n",
       "experiment with models/prompts, and catch regressions for your LLM system. Just run <span style=\"color: #008080; text-decoration-color: #008080\">'deepeval login'</span> in the CLI. \n",
       "\n",
       "</pre>\n"
      ],
      "text/plain": [
       "\n",
       "\u001b[38;2;5;245;141m✓\u001b[0m Tests finished 🎉! Run \u001b[1;32m'deepeval login'\u001b[0m to save and analyze evaluation results on Confident AI.\n",
       " \n",
       "✨👀 Looking for a place for your LLM test data to live 🏡❤️ ? Use \u001b[38;2;106;0;255mConfident AI\u001b[0m to get & share testing reports, \n",
       "experiment with models/prompts, and catch regressions for your LLM system. Just run \u001b[36m'deepeval login'\u001b[0m in the CLI. \n",
       "\n"
      ]
     },
     "metadata": {},
     "output_type": "display_data"
    },
    {
     "data": {
      "text/html": [
       "<pre style=\"white-space:pre;overflow-x:auto;line-height:normal;font-family:Menlo,'DejaVu Sans Mono',consolas,'Courier New',monospace\">\n",
       "<span style=\"color: #05f58d; text-decoration-color: #05f58d\">✓</span> Tests finished 🎉! Run <span style=\"color: #008000; text-decoration-color: #008000; font-weight: bold\">'deepeval login'</span> to save and analyze evaluation results on Confident AI.\n",
       " \n",
       "✨👀 Looking for a place for your LLM test data to live 🏡❤️ ? Use <span style=\"color: #6a00ff; text-decoration-color: #6a00ff\">Confident AI</span> to get &amp; share testing reports, \n",
       "experiment with models/prompts, and catch regressions for your LLM system. Just run <span style=\"color: #008080; text-decoration-color: #008080\">'deepeval login'</span> in the CLI. \n",
       "\n",
       "</pre>\n"
      ],
      "text/plain": [
       "\n",
       "\u001b[38;2;5;245;141m✓\u001b[0m Tests finished 🎉! Run \u001b[1;32m'deepeval login'\u001b[0m to save and analyze evaluation results on Confident AI.\n",
       " \n",
       "✨👀 Looking for a place for your LLM test data to live 🏡❤️ ? Use \u001b[38;2;106;0;255mConfident AI\u001b[0m to get & share testing reports, \n",
       "experiment with models/prompts, and catch regressions for your LLM system. Just run \u001b[36m'deepeval login'\u001b[0m in the CLI. \n",
       "\n"
      ]
     },
     "metadata": {},
     "output_type": "display_data"
    },
    {
     "name": "stdout",
     "output_type": "stream",
     "text": [
      "\n",
      "            Query: Ce obligație are angajatorul înainte de încheierea contractului individual de muncă?\n",
      "            Expected: Anterior încheierii sau modificării contractului individual de muncă, angajatorul are obligația de a informa persoana selectată în vederea angajării cu privire la clauzele esențiale pe care intenționează să le înscrie în contract sau să le modifice.\n",
      "            Actual: \n",
      "Angajatorul are obligație de a informa  persoana selectată în vederea angajarii sau salariatului cu privire la clauzele esentiale pe care intensionează să le includă în contract sau să le modifice înainte de încheierea contractului individual de muncă.\n",
      "\n",
      "Conform articolului 17 din Codul Muncii, persoana selectată în vederea angajarii sau salariatului trebuie să fie informată cu privire la următoarele elemente: a) identitatea partilor, b) locul de muncă sau, în lipsă unui loc de muncă fix, posibilitatea ca salariatul să isi desfasoare activitatea în locuri de muncă diferite, dacă deplasarea intre acestea este asigurată sau decontată de către angajator, după caz; c) sediul sau, după caz, domiciliul angajatorului; d) functia/ocupatia conform specificării Clasificării ocupațiilor din România sau altor acte normative, precum și fisa postului, cu specificarea atributiilor postului; e) criteriile de evaluare a activitatii profesionale a salariatului aplicabile la nivelul angajatorului; f) riscurile specifice postului; g) data de la care contractul urmează să isi produce efectele; h) în cazul unui contract de muncă pe durata determinată sau al unui contract de muncă temporară, durata acestora; i) durata concediului de odihna la care salariatul are dreptul; j) condiții de acordare a preavizului de către partile contractante și durata acestuia; k) salariul de baza, alte elemente constitutive ale veniturilor salariale, evidentiate separat, periodicitatea platii salariului la care salariatul are dreptul și metoda de plată; l) durata normală a muncii, exprimată în ore/zi sau ore/saptamana, condiții de efectuare și compensare sau de plată a orelor suplimentare, precum și modalitatea de organizare a muncii în schimburi; m) indicarea contractului colectiv de muncă ce reglementează condițiile de muncă ale salariatului; n) durata si conditiile perioadei de proba, dacă există.\n",
      "\n",
      "Dacă nu poate oferi un răspuns sigur în limba română sau nu poate informa persoana selectată în vederea angajarii sau salariatului, nu putea fi considerat responsabil pentru neîndeplinirea obligației de informare.\n",
      "\n",
      "În plus, persoana selectată în vederea angajarii sau salariatului poate fi asistată de către un consultant extern specializat în legislatura muncii sau un reprezentant al sindicatului al carui membru, conform propriei optiuni, cu respectarea prevederilor legale. În timpul executării contractului individual de muncă, dacă o modificare a unuia dintre elementele prevazute în articolul 17 din Codul Muncii impune încheierea unui act adicional la contract, anterior producerii modificarii, cu excepția situațiilor în care o asemenea modificare este prevăzută în mod expres de lege sau în contractul colectiv de muncă aplicabil.\n",
      "            Relevancy Score: [{'metric': 'Answer Relevancy', 'success': True, 'score': 0.9615384615384616, 'reason': \"The score is 0.96 because the response is highly relevant to the input, effectively addressing the employer's obligation before signing a work contract. The minor mention of language proficiency slightly detracts from the focus, preventing a perfect score, but overall, the answer remains highly pertinent and informative.\"}]\n",
      "            Recall Score: [{'metric': 'Contextual Recall', 'success': True, 'score': 1.0, 'reason': 'The score is 1.00 because the expected output is perfectly aligned with the information from the 2nd node in the retrieval context, ensuring complete accuracy and relevance. Great job!'}]\n",
      "            Faithfulness Score: [{'metric': 'Faithfulness', 'success': False, 'score': 0.5555555555555556, 'reason': 'The score is 0.56 because multiple claims in the actual output assert that the selected person must be informed about various employment details, such as essential clauses, job description, evaluation criteria, contract duration, notice conditions, salary elements, working hours, and probation period, none of which are explicitly mentioned in the retrieval context.'}]\n",
      "            Understanding Score: [{'metric': 'Understanding (GEval)', 'success': False, 'score': 0.5356738886693392, 'reason': \"While the actual output provides detailed information about the employer's obligations, it is overly complex and may not be easily understood by someone without legal knowledge, which affects clarity and accessibility.\"}]\n",
      "            \n",
      "Using model: rollama3-8b-instruct\n"
     ]
    },
    {
     "data": {
      "text/html": [
       "<pre style=\"white-space:pre;overflow-x:auto;line-height:normal;font-family:Menlo,'DejaVu Sans Mono',consolas,'Courier New',monospace\">\n",
       "<span style=\"color: #05f58d; text-decoration-color: #05f58d\">✓</span> Tests finished 🎉! Run <span style=\"color: #008000; text-decoration-color: #008000; font-weight: bold\">'deepeval login'</span> to save and analyze evaluation results on Confident AI.\n",
       " \n",
       "✨👀 Looking for a place for your LLM test data to live 🏡❤️ ? Use <span style=\"color: #6a00ff; text-decoration-color: #6a00ff\">Confident AI</span> to get &amp; share testing reports, \n",
       "experiment with models/prompts, and catch regressions for your LLM system. Just run <span style=\"color: #008080; text-decoration-color: #008080\">'deepeval login'</span> in the CLI. \n",
       "\n",
       "</pre>\n"
      ],
      "text/plain": [
       "\n",
       "\u001b[38;2;5;245;141m✓\u001b[0m Tests finished 🎉! Run \u001b[1;32m'deepeval login'\u001b[0m to save and analyze evaluation results on Confident AI.\n",
       " \n",
       "✨👀 Looking for a place for your LLM test data to live 🏡❤️ ? Use \u001b[38;2;106;0;255mConfident AI\u001b[0m to get & share testing reports, \n",
       "experiment with models/prompts, and catch regressions for your LLM system. Just run \u001b[36m'deepeval login'\u001b[0m in the CLI. \n",
       "\n"
      ]
     },
     "metadata": {},
     "output_type": "display_data"
    },
    {
     "data": {
      "text/html": [
       "<pre style=\"white-space:pre;overflow-x:auto;line-height:normal;font-family:Menlo,'DejaVu Sans Mono',consolas,'Courier New',monospace\">\n",
       "<span style=\"color: #05f58d; text-decoration-color: #05f58d\">✓</span> Tests finished 🎉! Run <span style=\"color: #008000; text-decoration-color: #008000; font-weight: bold\">'deepeval login'</span> to save and analyze evaluation results on Confident AI.\n",
       " \n",
       "✨👀 Looking for a place for your LLM test data to live 🏡❤️ ? Use <span style=\"color: #6a00ff; text-decoration-color: #6a00ff\">Confident AI</span> to get &amp; share testing reports, \n",
       "experiment with models/prompts, and catch regressions for your LLM system. Just run <span style=\"color: #008080; text-decoration-color: #008080\">'deepeval login'</span> in the CLI. \n",
       "\n",
       "</pre>\n"
      ],
      "text/plain": [
       "\n",
       "\u001b[38;2;5;245;141m✓\u001b[0m Tests finished 🎉! Run \u001b[1;32m'deepeval login'\u001b[0m to save and analyze evaluation results on Confident AI.\n",
       " \n",
       "✨👀 Looking for a place for your LLM test data to live 🏡❤️ ? Use \u001b[38;2;106;0;255mConfident AI\u001b[0m to get & share testing reports, \n",
       "experiment with models/prompts, and catch regressions for your LLM system. Just run \u001b[36m'deepeval login'\u001b[0m in the CLI. \n",
       "\n"
      ]
     },
     "metadata": {},
     "output_type": "display_data"
    },
    {
     "data": {
      "text/html": [
       "<pre style=\"white-space:pre;overflow-x:auto;line-height:normal;font-family:Menlo,'DejaVu Sans Mono',consolas,'Courier New',monospace\">\n",
       "<span style=\"color: #05f58d; text-decoration-color: #05f58d\">✓</span> Tests finished 🎉! Run <span style=\"color: #008000; text-decoration-color: #008000; font-weight: bold\">'deepeval login'</span> to save and analyze evaluation results on Confident AI.\n",
       " \n",
       "✨👀 Looking for a place for your LLM test data to live 🏡❤️ ? Use <span style=\"color: #6a00ff; text-decoration-color: #6a00ff\">Confident AI</span> to get &amp; share testing reports, \n",
       "experiment with models/prompts, and catch regressions for your LLM system. Just run <span style=\"color: #008080; text-decoration-color: #008080\">'deepeval login'</span> in the CLI. \n",
       "\n",
       "</pre>\n"
      ],
      "text/plain": [
       "\n",
       "\u001b[38;2;5;245;141m✓\u001b[0m Tests finished 🎉! Run \u001b[1;32m'deepeval login'\u001b[0m to save and analyze evaluation results on Confident AI.\n",
       " \n",
       "✨👀 Looking for a place for your LLM test data to live 🏡❤️ ? Use \u001b[38;2;106;0;255mConfident AI\u001b[0m to get & share testing reports, \n",
       "experiment with models/prompts, and catch regressions for your LLM system. Just run \u001b[36m'deepeval login'\u001b[0m in the CLI. \n",
       "\n"
      ]
     },
     "metadata": {},
     "output_type": "display_data"
    },
    {
     "data": {
      "text/html": [
       "<pre style=\"white-space:pre;overflow-x:auto;line-height:normal;font-family:Menlo,'DejaVu Sans Mono',consolas,'Courier New',monospace\">\n",
       "<span style=\"color: #05f58d; text-decoration-color: #05f58d\">✓</span> Tests finished 🎉! Run <span style=\"color: #008000; text-decoration-color: #008000; font-weight: bold\">'deepeval login'</span> to save and analyze evaluation results on Confident AI.\n",
       " \n",
       "✨👀 Looking for a place for your LLM test data to live 🏡❤️ ? Use <span style=\"color: #6a00ff; text-decoration-color: #6a00ff\">Confident AI</span> to get &amp; share testing reports, \n",
       "experiment with models/prompts, and catch regressions for your LLM system. Just run <span style=\"color: #008080; text-decoration-color: #008080\">'deepeval login'</span> in the CLI. \n",
       "\n",
       "</pre>\n"
      ],
      "text/plain": [
       "\n",
       "\u001b[38;2;5;245;141m✓\u001b[0m Tests finished 🎉! Run \u001b[1;32m'deepeval login'\u001b[0m to save and analyze evaluation results on Confident AI.\n",
       " \n",
       "✨👀 Looking for a place for your LLM test data to live 🏡❤️ ? Use \u001b[38;2;106;0;255mConfident AI\u001b[0m to get & share testing reports, \n",
       "experiment with models/prompts, and catch regressions for your LLM system. Just run \u001b[36m'deepeval login'\u001b[0m in the CLI. \n",
       "\n"
      ]
     },
     "metadata": {},
     "output_type": "display_data"
    },
    {
     "name": "stdout",
     "output_type": "stream",
     "text": [
      "\n",
      "            Query: Ce obligație are angajatorul înainte de încheierea contractului individual de muncă?\n",
      "            Expected: Anterior încheierii sau modificării contractului individual de muncă, angajatorul are obligația de a informa persoana selectată în vederea angajării cu privire la clauzele esențiale pe care intenționează să le înscrie în contract sau să le modifice.\n",
      "            Actual: Înainte de încheierea unui contract individual de muncă, angajatorii au obligația de a informa persoana selectată în vederea angajării sau pe salariat cu privire la clauzele esențiale pe care intenționează să le includă sau să le modifice în contract. Această informare trebuie furnizată prin intermediul uneia dintre părți, fie persoana selectată pentru angajare, fie salariata însăși, și se consideră că aceasta a fost efectuată la semnarea contractului individual de muncă sau a actului adițional. Această informații trebuie să includă: identitatea părților, locul de muncă sau, dacă nu există un loc de muncă fix, posibilitatea ca salariatul să-și desfășoare activitatea în mai multe locuri și dacă mutarea dintre acestea este asigurată de angajator; sediul (sau domiciliul) angajatorului; funcție/ocupație conform specificațiilor Clasificării Ocupațiilor din România sau ale altor acte normative, împreună cu lista postului; criterii de evaluare a activității profesionale aplicabile angajatorului; riscuri specifice postului; data la care contractul urmează să-și producă efectele; durata unui contract pe perioadă determinată sau a unui contract temporar; durata concediului de odihnă al cărui salariat are dreptul; condiții de concediere pentru părți și durata acestuia; salariul de bază, alte componente constitutive ale veniturilor salariale (cu evidența periodicității plății); ora normală de muncă, metodele de compensare a orelor suplimentare sau plata lor; mențiune privitoare la un contract colectiv de muncă care reglementează condițiile de muncă ale salariatului; durata și condițiile perioadei de probă, dacă există; proceduri privind utilizarea semnăturii electronice avansate sau calificate sau marca temporala electronică calificată și sigiliul electronic calificat al angajatorului; sprijinirea angajatorilor în formarea profesională a salariaților, asigurările medicale private, contribuțiile suplimentare la pensiile facultative sau la cele profesionale și alte avantaje financiare acordate de angajatori; modificări ale unora dintre aceste elemente în timpul executării contractului individual de muncă impunând efectuarea unui act adițional, cu excepția cazurilor în care o astfel de modificare este prevăzută expres de lege sau contract colectiv; consultanți externi specializați în legislația privind munca și asistența sindicală la negocierea, încheierea sau modificarea contractului individual de muncă și asistența în caz de conflicte individuale de muncă; informarea contractuală a părților privitoare la aceste elemente și confidențialitatea acestora; Modelul-cadru al contractului individual de muncă prevăzut prin ordin al Ministrului Muncii și Solidarității Sociale; drepturile salariaților în legătură cu încetarea contractelor individuale de muncă temporare pentru motive care nu țin de persoana acestora, precum și reglementările privind încetarea contractelor individuale de muncă pe perioadă determinată; obligațiile angajatorului de a respecta dreptul la permisul de munca temporar inainte de termenul prevazut intr-un contract individual de munca temporara.\n",
      "            Relevancy Score: [{'metric': 'Answer Relevancy', 'success': False, 'score': 0.5714285714285714, 'reason': 'The score is 0.57 because while the output contains some relevant information about employer obligations before signing a contract, it is overshadowed by numerous irrelevant statements that do not directly address the question. These statements dilute the focus on the specific obligations, preventing a higher score. However, the presence of some pertinent details ensures the score is not lower.'}]\n",
      "            Recall Score: [{'metric': 'Contextual Recall', 'success': True, 'score': 1.0, 'reason': 'The score is 1.00 because the expected output is perfectly aligned with the retrieval context, as the sentence is directly quoted from the 2nd node in the retrieval context. Great job!'}]\n",
      "            Faithfulness Score: [{'metric': 'Faithfulness', 'success': False, 'score': 0.25, 'reason': \"The score is 0.25 because the actual output inaccurately states that the employer's obligation to inform is fulfilled at the signing of the contract, while the retrieval context emphasizes the need for clarity on essential clauses and does not support this timing of obligation fulfillment.\"}]\n",
      "            Understanding Score: [{'metric': 'Understanding (GEval)', 'success': False, 'score': 0.4471714389940886, 'reason': \"The actual output provides detailed information about the employer's obligations, but it is overly complex and not easily understandable for someone without legal knowledge, making it difficult for the user to grasp what they are allowed or required to do.\"}]\n",
      "            \n",
      "Using model: rollama2-7b-instruct\n"
     ]
    },
    {
     "data": {
      "text/html": [
       "<pre style=\"white-space:pre;overflow-x:auto;line-height:normal;font-family:Menlo,'DejaVu Sans Mono',consolas,'Courier New',monospace\">\n",
       "<span style=\"color: #05f58d; text-decoration-color: #05f58d\">✓</span> Tests finished 🎉! Run <span style=\"color: #008000; text-decoration-color: #008000; font-weight: bold\">'deepeval login'</span> to save and analyze evaluation results on Confident AI.\n",
       " \n",
       "✨👀 Looking for a place for your LLM test data to live 🏡❤️ ? Use <span style=\"color: #6a00ff; text-decoration-color: #6a00ff\">Confident AI</span> to get &amp; share testing reports, \n",
       "experiment with models/prompts, and catch regressions for your LLM system. Just run <span style=\"color: #008080; text-decoration-color: #008080\">'deepeval login'</span> in the CLI. \n",
       "\n",
       "</pre>\n"
      ],
      "text/plain": [
       "\n",
       "\u001b[38;2;5;245;141m✓\u001b[0m Tests finished 🎉! Run \u001b[1;32m'deepeval login'\u001b[0m to save and analyze evaluation results on Confident AI.\n",
       " \n",
       "✨👀 Looking for a place for your LLM test data to live 🏡❤️ ? Use \u001b[38;2;106;0;255mConfident AI\u001b[0m to get & share testing reports, \n",
       "experiment with models/prompts, and catch regressions for your LLM system. Just run \u001b[36m'deepeval login'\u001b[0m in the CLI. \n",
       "\n"
      ]
     },
     "metadata": {},
     "output_type": "display_data"
    },
    {
     "data": {
      "text/html": [
       "<pre style=\"white-space:pre;overflow-x:auto;line-height:normal;font-family:Menlo,'DejaVu Sans Mono',consolas,'Courier New',monospace\">\n",
       "<span style=\"color: #05f58d; text-decoration-color: #05f58d\">✓</span> Tests finished 🎉! Run <span style=\"color: #008000; text-decoration-color: #008000; font-weight: bold\">'deepeval login'</span> to save and analyze evaluation results on Confident AI.\n",
       " \n",
       "✨👀 Looking for a place for your LLM test data to live 🏡❤️ ? Use <span style=\"color: #6a00ff; text-decoration-color: #6a00ff\">Confident AI</span> to get &amp; share testing reports, \n",
       "experiment with models/prompts, and catch regressions for your LLM system. Just run <span style=\"color: #008080; text-decoration-color: #008080\">'deepeval login'</span> in the CLI. \n",
       "\n",
       "</pre>\n"
      ],
      "text/plain": [
       "\n",
       "\u001b[38;2;5;245;141m✓\u001b[0m Tests finished 🎉! Run \u001b[1;32m'deepeval login'\u001b[0m to save and analyze evaluation results on Confident AI.\n",
       " \n",
       "✨👀 Looking for a place for your LLM test data to live 🏡❤️ ? Use \u001b[38;2;106;0;255mConfident AI\u001b[0m to get & share testing reports, \n",
       "experiment with models/prompts, and catch regressions for your LLM system. Just run \u001b[36m'deepeval login'\u001b[0m in the CLI. \n",
       "\n"
      ]
     },
     "metadata": {},
     "output_type": "display_data"
    },
    {
     "data": {
      "text/html": [
       "<pre style=\"white-space:pre;overflow-x:auto;line-height:normal;font-family:Menlo,'DejaVu Sans Mono',consolas,'Courier New',monospace\">\n",
       "<span style=\"color: #05f58d; text-decoration-color: #05f58d\">✓</span> Tests finished 🎉! Run <span style=\"color: #008000; text-decoration-color: #008000; font-weight: bold\">'deepeval login'</span> to save and analyze evaluation results on Confident AI.\n",
       " \n",
       "✨👀 Looking for a place for your LLM test data to live 🏡❤️ ? Use <span style=\"color: #6a00ff; text-decoration-color: #6a00ff\">Confident AI</span> to get &amp; share testing reports, \n",
       "experiment with models/prompts, and catch regressions for your LLM system. Just run <span style=\"color: #008080; text-decoration-color: #008080\">'deepeval login'</span> in the CLI. \n",
       "\n",
       "</pre>\n"
      ],
      "text/plain": [
       "\n",
       "\u001b[38;2;5;245;141m✓\u001b[0m Tests finished 🎉! Run \u001b[1;32m'deepeval login'\u001b[0m to save and analyze evaluation results on Confident AI.\n",
       " \n",
       "✨👀 Looking for a place for your LLM test data to live 🏡❤️ ? Use \u001b[38;2;106;0;255mConfident AI\u001b[0m to get & share testing reports, \n",
       "experiment with models/prompts, and catch regressions for your LLM system. Just run \u001b[36m'deepeval login'\u001b[0m in the CLI. \n",
       "\n"
      ]
     },
     "metadata": {},
     "output_type": "display_data"
    },
    {
     "data": {
      "text/html": [
       "<pre style=\"white-space:pre;overflow-x:auto;line-height:normal;font-family:Menlo,'DejaVu Sans Mono',consolas,'Courier New',monospace\">\n",
       "<span style=\"color: #05f58d; text-decoration-color: #05f58d\">✓</span> Tests finished 🎉! Run <span style=\"color: #008000; text-decoration-color: #008000; font-weight: bold\">'deepeval login'</span> to save and analyze evaluation results on Confident AI.\n",
       " \n",
       "✨👀 Looking for a place for your LLM test data to live 🏡❤️ ? Use <span style=\"color: #6a00ff; text-decoration-color: #6a00ff\">Confident AI</span> to get &amp; share testing reports, \n",
       "experiment with models/prompts, and catch regressions for your LLM system. Just run <span style=\"color: #008080; text-decoration-color: #008080\">'deepeval login'</span> in the CLI. \n",
       "\n",
       "</pre>\n"
      ],
      "text/plain": [
       "\n",
       "\u001b[38;2;5;245;141m✓\u001b[0m Tests finished 🎉! Run \u001b[1;32m'deepeval login'\u001b[0m to save and analyze evaluation results on Confident AI.\n",
       " \n",
       "✨👀 Looking for a place for your LLM test data to live 🏡❤️ ? Use \u001b[38;2;106;0;255mConfident AI\u001b[0m to get & share testing reports, \n",
       "experiment with models/prompts, and catch regressions for your LLM system. Just run \u001b[36m'deepeval login'\u001b[0m in the CLI. \n",
       "\n"
      ]
     },
     "metadata": {},
     "output_type": "display_data"
    },
    {
     "name": "stdout",
     "output_type": "stream",
     "text": [
      "\n",
      "            Query: Ce obligație are angajatorul înainte de încheierea contractului individual de muncă?\n",
      "            Expected: Anterior încheierii sau modificării contractului individual de muncă, angajatorul are obligația de a informa persoana selectată în vederea angajării cu privire la clauzele esențiale pe care intenționează să le înscrie în contract sau să le modifice.\n",
      "            Actual: \n",
      "Angajatorul are obligatia de a informa persoana selectata in vederea angajarii sau salariatul despre cel putin urmatoarele elemente: \n",
      "a) identitatea partilor; \n",
      "b) locul de munca sau, in lipsa unui loc de munca fix, posibilitatea ca salariatul sa isi desfasoare activitatea in \n",
      "locuri de munca diferite, precum si daca deplasarea intre acestea este asigurata sau decontata de catre angajator, \n",
      "dupa caz; \n",
      "c) durata concediului de odihna la care salariatul are dreptul; \n",
      "d) conditiile de acordare a preavizului de catre partile contractante si durata acestuia; \n",
      "e) salariul de baza, alte elemente constitutive ale veniturilor salariale, evidentiate separat, periodicitatea platii \n",
      "            Relevancy Score: [{'metric': 'Answer Relevancy', 'success': True, 'score': 1.0, 'reason': \"The score is 1.00 because the response perfectly addresses the question about the employer's obligations before signing an individual employment contract, with no irrelevant information included. Great job!\"}]\n",
      "            Recall Score: [{'metric': 'Contextual Recall', 'success': True, 'score': 1.0, 'reason': 'The score is 1.00 because the expected output is perfectly aligned with the information from the 2nd node in the retrieval context, ensuring complete accuracy and relevance. Great job!'}]\n",
      "            Faithfulness Score: [{'metric': 'Faithfulness', 'success': False, 'score': 0.0, 'reason': \"The score is 0.00 because the actual output introduces a claim regarding the employer's obligation to inform the employee about travel reimbursements, which is not addressed in the retrieval context.\"}]\n",
      "            Understanding Score: [{'metric': 'Understanding (GEval)', 'success': False, 'score': 0.48739376310079796, 'reason': \"While the actual output provides detailed information about the employer's obligations, it lacks clarity and accessibility for someone without legal knowledge, making it harder for the user to understand what they are allowed or required to do.\"}]\n",
      "            \n",
      "Finished tests for model: rollama2-7b-instruct\n",
      "\n",
      "==================================================\n",
      "\n",
      "\n",
      "Running tests for query: Care este vârsta legală minimă pentru încheierea unei căsătorii în România?\n",
      "Using model: mistral-7b-instruct-v0.1\n"
     ]
    },
    {
     "data": {
      "text/html": [
       "<pre style=\"white-space:pre;overflow-x:auto;line-height:normal;font-family:Menlo,'DejaVu Sans Mono',consolas,'Courier New',monospace\">\n",
       "<span style=\"color: #05f58d; text-decoration-color: #05f58d\">✓</span> Tests finished 🎉! Run <span style=\"color: #008000; text-decoration-color: #008000; font-weight: bold\">'deepeval login'</span> to save and analyze evaluation results on Confident AI.\n",
       " \n",
       "✨👀 Looking for a place for your LLM test data to live 🏡❤️ ? Use <span style=\"color: #6a00ff; text-decoration-color: #6a00ff\">Confident AI</span> to get &amp; share testing reports, \n",
       "experiment with models/prompts, and catch regressions for your LLM system. Just run <span style=\"color: #008080; text-decoration-color: #008080\">'deepeval login'</span> in the CLI. \n",
       "\n",
       "</pre>\n"
      ],
      "text/plain": [
       "\n",
       "\u001b[38;2;5;245;141m✓\u001b[0m Tests finished 🎉! Run \u001b[1;32m'deepeval login'\u001b[0m to save and analyze evaluation results on Confident AI.\n",
       " \n",
       "✨👀 Looking for a place for your LLM test data to live 🏡❤️ ? Use \u001b[38;2;106;0;255mConfident AI\u001b[0m to get & share testing reports, \n",
       "experiment with models/prompts, and catch regressions for your LLM system. Just run \u001b[36m'deepeval login'\u001b[0m in the CLI. \n",
       "\n"
      ]
     },
     "metadata": {},
     "output_type": "display_data"
    },
    {
     "data": {
      "text/html": [
       "<pre style=\"white-space:pre;overflow-x:auto;line-height:normal;font-family:Menlo,'DejaVu Sans Mono',consolas,'Courier New',monospace\">\n",
       "<span style=\"color: #05f58d; text-decoration-color: #05f58d\">✓</span> Tests finished 🎉! Run <span style=\"color: #008000; text-decoration-color: #008000; font-weight: bold\">'deepeval login'</span> to save and analyze evaluation results on Confident AI.\n",
       " \n",
       "✨👀 Looking for a place for your LLM test data to live 🏡❤️ ? Use <span style=\"color: #6a00ff; text-decoration-color: #6a00ff\">Confident AI</span> to get &amp; share testing reports, \n",
       "experiment with models/prompts, and catch regressions for your LLM system. Just run <span style=\"color: #008080; text-decoration-color: #008080\">'deepeval login'</span> in the CLI. \n",
       "\n",
       "</pre>\n"
      ],
      "text/plain": [
       "\n",
       "\u001b[38;2;5;245;141m✓\u001b[0m Tests finished 🎉! Run \u001b[1;32m'deepeval login'\u001b[0m to save and analyze evaluation results on Confident AI.\n",
       " \n",
       "✨👀 Looking for a place for your LLM test data to live 🏡❤️ ? Use \u001b[38;2;106;0;255mConfident AI\u001b[0m to get & share testing reports, \n",
       "experiment with models/prompts, and catch regressions for your LLM system. Just run \u001b[36m'deepeval login'\u001b[0m in the CLI. \n",
       "\n"
      ]
     },
     "metadata": {},
     "output_type": "display_data"
    },
    {
     "data": {
      "text/html": [
       "<pre style=\"white-space:pre;overflow-x:auto;line-height:normal;font-family:Menlo,'DejaVu Sans Mono',consolas,'Courier New',monospace\">\n",
       "<span style=\"color: #05f58d; text-decoration-color: #05f58d\">✓</span> Tests finished 🎉! Run <span style=\"color: #008000; text-decoration-color: #008000; font-weight: bold\">'deepeval login'</span> to save and analyze evaluation results on Confident AI.\n",
       " \n",
       "✨👀 Looking for a place for your LLM test data to live 🏡❤️ ? Use <span style=\"color: #6a00ff; text-decoration-color: #6a00ff\">Confident AI</span> to get &amp; share testing reports, \n",
       "experiment with models/prompts, and catch regressions for your LLM system. Just run <span style=\"color: #008080; text-decoration-color: #008080\">'deepeval login'</span> in the CLI. \n",
       "\n",
       "</pre>\n"
      ],
      "text/plain": [
       "\n",
       "\u001b[38;2;5;245;141m✓\u001b[0m Tests finished 🎉! Run \u001b[1;32m'deepeval login'\u001b[0m to save and analyze evaluation results on Confident AI.\n",
       " \n",
       "✨👀 Looking for a place for your LLM test data to live 🏡❤️ ? Use \u001b[38;2;106;0;255mConfident AI\u001b[0m to get & share testing reports, \n",
       "experiment with models/prompts, and catch regressions for your LLM system. Just run \u001b[36m'deepeval login'\u001b[0m in the CLI. \n",
       "\n"
      ]
     },
     "metadata": {},
     "output_type": "display_data"
    },
    {
     "data": {
      "text/html": [
       "<pre style=\"white-space:pre;overflow-x:auto;line-height:normal;font-family:Menlo,'DejaVu Sans Mono',consolas,'Courier New',monospace\">\n",
       "<span style=\"color: #05f58d; text-decoration-color: #05f58d\">✓</span> Tests finished 🎉! Run <span style=\"color: #008000; text-decoration-color: #008000; font-weight: bold\">'deepeval login'</span> to save and analyze evaluation results on Confident AI.\n",
       " \n",
       "✨👀 Looking for a place for your LLM test data to live 🏡❤️ ? Use <span style=\"color: #6a00ff; text-decoration-color: #6a00ff\">Confident AI</span> to get &amp; share testing reports, \n",
       "experiment with models/prompts, and catch regressions for your LLM system. Just run <span style=\"color: #008080; text-decoration-color: #008080\">'deepeval login'</span> in the CLI. \n",
       "\n",
       "</pre>\n"
      ],
      "text/plain": [
       "\n",
       "\u001b[38;2;5;245;141m✓\u001b[0m Tests finished 🎉! Run \u001b[1;32m'deepeval login'\u001b[0m to save and analyze evaluation results on Confident AI.\n",
       " \n",
       "✨👀 Looking for a place for your LLM test data to live 🏡❤️ ? Use \u001b[38;2;106;0;255mConfident AI\u001b[0m to get & share testing reports, \n",
       "experiment with models/prompts, and catch regressions for your LLM system. Just run \u001b[36m'deepeval login'\u001b[0m in the CLI. \n",
       "\n"
      ]
     },
     "metadata": {},
     "output_type": "display_data"
    },
    {
     "name": "stdout",
     "output_type": "stream",
     "text": [
      "\n",
      "            Query: Care este vârsta legală minimă pentru încheierea unei căsătorii în România?\n",
      "            Expected: Căsătoria se poate încheia dacă viitorii soți au împlinit vârsta de 18 ani.\n",
      "            Actual: \n",
      "În România, vârsta legală minimă pentru încheierea unei căsătorii este 18 ani. Conform Codului Civil Român, care prevede reglementarea căsătoriei în România, un minor de 16 ani poate să se căsătorească dacă a împlinit vârsta de 18 ani sau dacă soția l-a însărcinat. În cazul căsătoriei fictive, minorul care a împlinit vârsta de 16 ani poate să se căsătorească în temeiul unui aviz medical, cu încuviințarea părinților său sau tutorelui, dacă există, și cu autorizarea instanței de tutelă din așași circumscripția minorului. De asemenea, dacă unul dintre părinți este decedat sau se află în imposibilitate de a-și manifesta voință, încuviințarea celuilalt părinte este suficientă. În condiții art.398, este suficientă încuviințarea părintelui care exercită autoritatea părintească.\n",
      "\n",
      "În cazul bigamiei, căsătoria se poate încheia între bărbat și femeie prin consimțământul personal şi liber al acestora, dacă nu există nici părinți, nici tutore care să poată încuviința câsătoria. Vârsta matrimonială, conform legei române, este de 18 ani.\n",
      "            Relevancy Score: [{'metric': 'Answer Relevancy', 'success': False, 'score': 0.6666666666666666, 'reason': 'The score is 0.67 because the response partially addresses the question about the minimum legal age for marriage in Romania. However, it includes irrelevant details about parental consent, parental authority, and bigamy, which do not directly answer the query. These extraneous details prevent the score from being higher, but the core information provided still maintains a moderate level of relevance.'}]\n",
      "            Recall Score: [{'metric': 'Contextual Recall', 'success': True, 'score': 1.0, 'reason': 'The score is 1.00 because the expected output perfectly matches the information from the 2nd node in the retrieval context, demonstrating a flawless alignment.'}]\n",
      "            Faithfulness Score: [{'metric': 'Faithfulness', 'success': False, 'score': 0.5, 'reason': 'The score is 0.50 because the actual output incorrectly states that the minimum legal age for marriage in Romania is 18 years, contradicting the retrieval context that allows marriage at 16 under certain conditions. Additionally, it misrepresents that a 16-year-old can marry only after reaching 18, which is not accurate according to the retrieval context. Furthermore, the claim suggests that marriage can occur without parental or guardian consent, which is also contrary to the retrieval context that emphasizes the necessity of consent.'}]\n",
      "            Understanding Score: [{'metric': 'Understanding (GEval)', 'success': False, 'score': 0.4069887712503045, 'reason': 'While the actual output provides the minimum legal age of marriage, it includes excessive legal details that may confuse a layperson, making it less accessible and clear.'}]\n",
      "            \n",
      "Using model: rollama3-8b-instruct\n"
     ]
    },
    {
     "data": {
      "text/html": [
       "<pre style=\"white-space:pre;overflow-x:auto;line-height:normal;font-family:Menlo,'DejaVu Sans Mono',consolas,'Courier New',monospace\">\n",
       "<span style=\"color: #05f58d; text-decoration-color: #05f58d\">✓</span> Tests finished 🎉! Run <span style=\"color: #008000; text-decoration-color: #008000; font-weight: bold\">'deepeval login'</span> to save and analyze evaluation results on Confident AI.\n",
       " \n",
       "✨👀 Looking for a place for your LLM test data to live 🏡❤️ ? Use <span style=\"color: #6a00ff; text-decoration-color: #6a00ff\">Confident AI</span> to get &amp; share testing reports, \n",
       "experiment with models/prompts, and catch regressions for your LLM system. Just run <span style=\"color: #008080; text-decoration-color: #008080\">'deepeval login'</span> in the CLI. \n",
       "\n",
       "</pre>\n"
      ],
      "text/plain": [
       "\n",
       "\u001b[38;2;5;245;141m✓\u001b[0m Tests finished 🎉! Run \u001b[1;32m'deepeval login'\u001b[0m to save and analyze evaluation results on Confident AI.\n",
       " \n",
       "✨👀 Looking for a place for your LLM test data to live 🏡❤️ ? Use \u001b[38;2;106;0;255mConfident AI\u001b[0m to get & share testing reports, \n",
       "experiment with models/prompts, and catch regressions for your LLM system. Just run \u001b[36m'deepeval login'\u001b[0m in the CLI. \n",
       "\n"
      ]
     },
     "metadata": {},
     "output_type": "display_data"
    },
    {
     "data": {
      "text/html": [
       "<pre style=\"white-space:pre;overflow-x:auto;line-height:normal;font-family:Menlo,'DejaVu Sans Mono',consolas,'Courier New',monospace\">\n",
       "<span style=\"color: #05f58d; text-decoration-color: #05f58d\">✓</span> Tests finished 🎉! Run <span style=\"color: #008000; text-decoration-color: #008000; font-weight: bold\">'deepeval login'</span> to save and analyze evaluation results on Confident AI.\n",
       " \n",
       "✨👀 Looking for a place for your LLM test data to live 🏡❤️ ? Use <span style=\"color: #6a00ff; text-decoration-color: #6a00ff\">Confident AI</span> to get &amp; share testing reports, \n",
       "experiment with models/prompts, and catch regressions for your LLM system. Just run <span style=\"color: #008080; text-decoration-color: #008080\">'deepeval login'</span> in the CLI. \n",
       "\n",
       "</pre>\n"
      ],
      "text/plain": [
       "\n",
       "\u001b[38;2;5;245;141m✓\u001b[0m Tests finished 🎉! Run \u001b[1;32m'deepeval login'\u001b[0m to save and analyze evaluation results on Confident AI.\n",
       " \n",
       "✨👀 Looking for a place for your LLM test data to live 🏡❤️ ? Use \u001b[38;2;106;0;255mConfident AI\u001b[0m to get & share testing reports, \n",
       "experiment with models/prompts, and catch regressions for your LLM system. Just run \u001b[36m'deepeval login'\u001b[0m in the CLI. \n",
       "\n"
      ]
     },
     "metadata": {},
     "output_type": "display_data"
    },
    {
     "data": {
      "text/html": [
       "<pre style=\"white-space:pre;overflow-x:auto;line-height:normal;font-family:Menlo,'DejaVu Sans Mono',consolas,'Courier New',monospace\">\n",
       "<span style=\"color: #05f58d; text-decoration-color: #05f58d\">✓</span> Tests finished 🎉! Run <span style=\"color: #008000; text-decoration-color: #008000; font-weight: bold\">'deepeval login'</span> to save and analyze evaluation results on Confident AI.\n",
       " \n",
       "✨👀 Looking for a place for your LLM test data to live 🏡❤️ ? Use <span style=\"color: #6a00ff; text-decoration-color: #6a00ff\">Confident AI</span> to get &amp; share testing reports, \n",
       "experiment with models/prompts, and catch regressions for your LLM system. Just run <span style=\"color: #008080; text-decoration-color: #008080\">'deepeval login'</span> in the CLI. \n",
       "\n",
       "</pre>\n"
      ],
      "text/plain": [
       "\n",
       "\u001b[38;2;5;245;141m✓\u001b[0m Tests finished 🎉! Run \u001b[1;32m'deepeval login'\u001b[0m to save and analyze evaluation results on Confident AI.\n",
       " \n",
       "✨👀 Looking for a place for your LLM test data to live 🏡❤️ ? Use \u001b[38;2;106;0;255mConfident AI\u001b[0m to get & share testing reports, \n",
       "experiment with models/prompts, and catch regressions for your LLM system. Just run \u001b[36m'deepeval login'\u001b[0m in the CLI. \n",
       "\n"
      ]
     },
     "metadata": {},
     "output_type": "display_data"
    },
    {
     "data": {
      "text/html": [
       "<pre style=\"white-space:pre;overflow-x:auto;line-height:normal;font-family:Menlo,'DejaVu Sans Mono',consolas,'Courier New',monospace\">\n",
       "<span style=\"color: #05f58d; text-decoration-color: #05f58d\">✓</span> Tests finished 🎉! Run <span style=\"color: #008000; text-decoration-color: #008000; font-weight: bold\">'deepeval login'</span> to save and analyze evaluation results on Confident AI.\n",
       " \n",
       "✨👀 Looking for a place for your LLM test data to live 🏡❤️ ? Use <span style=\"color: #6a00ff; text-decoration-color: #6a00ff\">Confident AI</span> to get &amp; share testing reports, \n",
       "experiment with models/prompts, and catch regressions for your LLM system. Just run <span style=\"color: #008080; text-decoration-color: #008080\">'deepeval login'</span> in the CLI. \n",
       "\n",
       "</pre>\n"
      ],
      "text/plain": [
       "\n",
       "\u001b[38;2;5;245;141m✓\u001b[0m Tests finished 🎉! Run \u001b[1;32m'deepeval login'\u001b[0m to save and analyze evaluation results on Confident AI.\n",
       " \n",
       "✨👀 Looking for a place for your LLM test data to live 🏡❤️ ? Use \u001b[38;2;106;0;255mConfident AI\u001b[0m to get & share testing reports, \n",
       "experiment with models/prompts, and catch regressions for your LLM system. Just run \u001b[36m'deepeval login'\u001b[0m in the CLI. \n",
       "\n"
      ]
     },
     "metadata": {},
     "output_type": "display_data"
    },
    {
     "name": "stdout",
     "output_type": "stream",
     "text": [
      "\n",
      "            Query: Care este vârsta legală minimă pentru încheierea unei căsătorii în România?\n",
      "            Expected: Căsătoria se poate încheia dacă viitorii soți au împlinit vârsta de 18 ani.\n",
      "            Actual: Potrivit articolului 54 din Codul familiei, vârsta legală minimă pentru încheierea unei căsătorii în România este de 18 ani. Cu toate acestea, cu condițiile prevăzute la art. 55 (1), minorul care are peste 16 ani poate căsători dacă ambii soți au împlinit vârsta de 18 ani sau dacă soția a născut ori este în stare de sarcină.\n",
      "            Relevancy Score: [{'metric': 'Answer Relevancy', 'success': True, 'score': 0.8, 'reason': 'The score is 0.80 because the response mostly addresses the question about the legal minimum age for marriage in Romania. However, it includes an incorrect statement about both spouses needing to be 18, which slightly detracts from its accuracy. Despite this, the core information remains relevant and useful.'}]\n",
      "            Recall Score: [{'metric': 'Contextual Recall', 'success': True, 'score': 1.0, 'reason': 'The score is 1.00 because the expected output perfectly matches the information from the 2nd node in the retrieval context, showcasing a flawless alignment.'}]\n",
      "            Faithfulness Score: [{'metric': 'Faithfulness', 'success': False, 'score': 0.5, 'reason': 'The score is 0.50 because the actual output claims the minimum legal age for marriage in Romania is 18 years, yet it fails to reference that this is specifically outlined in article 54 of the Family Code, leading to a lack of completeness in the information provided.'}]\n",
      "            Understanding Score: [{'metric': 'Understanding (GEval)', 'success': False, 'score': 0.5553032386045735, 'reason': 'While the actual output provides the legal age and conditions for marriage, it is somewhat complex and may not be easily understood by someone without legal knowledge. The expected output simplifies the information but lacks the necessary details about exceptions.'}]\n",
      "            \n",
      "Using model: rollama2-7b-instruct\n"
     ]
    },
    {
     "data": {
      "text/html": [
       "<pre style=\"white-space:pre;overflow-x:auto;line-height:normal;font-family:Menlo,'DejaVu Sans Mono',consolas,'Courier New',monospace\">\n",
       "<span style=\"color: #05f58d; text-decoration-color: #05f58d\">✓</span> Tests finished 🎉! Run <span style=\"color: #008000; text-decoration-color: #008000; font-weight: bold\">'deepeval login'</span> to save and analyze evaluation results on Confident AI.\n",
       " \n",
       "✨👀 Looking for a place for your LLM test data to live 🏡❤️ ? Use <span style=\"color: #6a00ff; text-decoration-color: #6a00ff\">Confident AI</span> to get &amp; share testing reports, \n",
       "experiment with models/prompts, and catch regressions for your LLM system. Just run <span style=\"color: #008080; text-decoration-color: #008080\">'deepeval login'</span> in the CLI. \n",
       "\n",
       "</pre>\n"
      ],
      "text/plain": [
       "\n",
       "\u001b[38;2;5;245;141m✓\u001b[0m Tests finished 🎉! Run \u001b[1;32m'deepeval login'\u001b[0m to save and analyze evaluation results on Confident AI.\n",
       " \n",
       "✨👀 Looking for a place for your LLM test data to live 🏡❤️ ? Use \u001b[38;2;106;0;255mConfident AI\u001b[0m to get & share testing reports, \n",
       "experiment with models/prompts, and catch regressions for your LLM system. Just run \u001b[36m'deepeval login'\u001b[0m in the CLI. \n",
       "\n"
      ]
     },
     "metadata": {},
     "output_type": "display_data"
    },
    {
     "data": {
      "text/html": [
       "<pre style=\"white-space:pre;overflow-x:auto;line-height:normal;font-family:Menlo,'DejaVu Sans Mono',consolas,'Courier New',monospace\">\n",
       "<span style=\"color: #05f58d; text-decoration-color: #05f58d\">✓</span> Tests finished 🎉! Run <span style=\"color: #008000; text-decoration-color: #008000; font-weight: bold\">'deepeval login'</span> to save and analyze evaluation results on Confident AI.\n",
       " \n",
       "✨👀 Looking for a place for your LLM test data to live 🏡❤️ ? Use <span style=\"color: #6a00ff; text-decoration-color: #6a00ff\">Confident AI</span> to get &amp; share testing reports, \n",
       "experiment with models/prompts, and catch regressions for your LLM system. Just run <span style=\"color: #008080; text-decoration-color: #008080\">'deepeval login'</span> in the CLI. \n",
       "\n",
       "</pre>\n"
      ],
      "text/plain": [
       "\n",
       "\u001b[38;2;5;245;141m✓\u001b[0m Tests finished 🎉! Run \u001b[1;32m'deepeval login'\u001b[0m to save and analyze evaluation results on Confident AI.\n",
       " \n",
       "✨👀 Looking for a place for your LLM test data to live 🏡❤️ ? Use \u001b[38;2;106;0;255mConfident AI\u001b[0m to get & share testing reports, \n",
       "experiment with models/prompts, and catch regressions for your LLM system. Just run \u001b[36m'deepeval login'\u001b[0m in the CLI. \n",
       "\n"
      ]
     },
     "metadata": {},
     "output_type": "display_data"
    },
    {
     "data": {
      "text/html": [
       "<pre style=\"white-space:pre;overflow-x:auto;line-height:normal;font-family:Menlo,'DejaVu Sans Mono',consolas,'Courier New',monospace\">\n",
       "<span style=\"color: #05f58d; text-decoration-color: #05f58d\">✓</span> Tests finished 🎉! Run <span style=\"color: #008000; text-decoration-color: #008000; font-weight: bold\">'deepeval login'</span> to save and analyze evaluation results on Confident AI.\n",
       " \n",
       "✨👀 Looking for a place for your LLM test data to live 🏡❤️ ? Use <span style=\"color: #6a00ff; text-decoration-color: #6a00ff\">Confident AI</span> to get &amp; share testing reports, \n",
       "experiment with models/prompts, and catch regressions for your LLM system. Just run <span style=\"color: #008080; text-decoration-color: #008080\">'deepeval login'</span> in the CLI. \n",
       "\n",
       "</pre>\n"
      ],
      "text/plain": [
       "\n",
       "\u001b[38;2;5;245;141m✓\u001b[0m Tests finished 🎉! Run \u001b[1;32m'deepeval login'\u001b[0m to save and analyze evaluation results on Confident AI.\n",
       " \n",
       "✨👀 Looking for a place for your LLM test data to live 🏡❤️ ? Use \u001b[38;2;106;0;255mConfident AI\u001b[0m to get & share testing reports, \n",
       "experiment with models/prompts, and catch regressions for your LLM system. Just run \u001b[36m'deepeval login'\u001b[0m in the CLI. \n",
       "\n"
      ]
     },
     "metadata": {},
     "output_type": "display_data"
    },
    {
     "data": {
      "text/html": [
       "<pre style=\"white-space:pre;overflow-x:auto;line-height:normal;font-family:Menlo,'DejaVu Sans Mono',consolas,'Courier New',monospace\">\n",
       "<span style=\"color: #05f58d; text-decoration-color: #05f58d\">✓</span> Tests finished 🎉! Run <span style=\"color: #008000; text-decoration-color: #008000; font-weight: bold\">'deepeval login'</span> to save and analyze evaluation results on Confident AI.\n",
       " \n",
       "✨👀 Looking for a place for your LLM test data to live 🏡❤️ ? Use <span style=\"color: #6a00ff; text-decoration-color: #6a00ff\">Confident AI</span> to get &amp; share testing reports, \n",
       "experiment with models/prompts, and catch regressions for your LLM system. Just run <span style=\"color: #008080; text-decoration-color: #008080\">'deepeval login'</span> in the CLI. \n",
       "\n",
       "</pre>\n"
      ],
      "text/plain": [
       "\n",
       "\u001b[38;2;5;245;141m✓\u001b[0m Tests finished 🎉! Run \u001b[1;32m'deepeval login'\u001b[0m to save and analyze evaluation results on Confident AI.\n",
       " \n",
       "✨👀 Looking for a place for your LLM test data to live 🏡❤️ ? Use \u001b[38;2;106;0;255mConfident AI\u001b[0m to get & share testing reports, \n",
       "experiment with models/prompts, and catch regressions for your LLM system. Just run \u001b[36m'deepeval login'\u001b[0m in the CLI. \n",
       "\n"
      ]
     },
     "metadata": {},
     "output_type": "display_data"
    },
    {
     "name": "stdout",
     "output_type": "stream",
     "text": [
      "\n",
      "            Query: Care este vârsta legală minimă pentru încheierea unei căsătorii în România?\n",
      "            Expected: Căsătoria se poate încheia dacă viitorii soți au împlinit vârsta de 18 ani.\n",
      "            Actual: \n",
      "Vârsta legală minimă pentru căsătoriile efectuate în România este de 18 ani. Cu toate acestea, o minoră care a împlinit vârsta de 16 ani poate fi căsătorită dacă are încuviințarea părinților săi sau, după caz, a tutorelui și cu autorizarea instanței de tutelă. Dacă unul dintre părinți refuză, instanța de tutelă poate decide căsătoria minorului pe baza interesului superior al copilului. În plus, vârsta matrimonială nu există în România, astfel că orice persoană fizică cu capacitate de exercitare a drepturilor civile poate fi căsătorită prin consimțământ personal și liber.\n",
      "\n",
      "Această interpretare se bazează pe informații extrase din documentele juridice oficiale, cum ar fi Constituția României, Codul Muncii și alte acte normative relevante.\n",
      "            Relevancy Score: [{'metric': 'Answer Relevancy', 'success': False, 'score': 0.5714285714285714, 'reason': 'The score is 0.57 because while the output partially addresses the question about the legal marriage age in Romania, it includes several irrelevant statements that detract from its focus. These include incorrect information about the legal framework, unrelated details about information sources, and a list of documents not pertinent to the question. Despite these distractions, the core question is somewhat addressed, which is why the score is not lower.'}]\n",
      "            Recall Score: [{'metric': 'Contextual Recall', 'success': True, 'score': 1.0, 'reason': 'The score is 1.00 because the expected output perfectly matches the information from the 2nd node in the retrieval context, showcasing a flawless alignment.'}]\n",
      "            Faithfulness Score: [{'metric': 'Faithfulness', 'success': False, 'score': 0.6666666666666666, 'reason': 'The score is 0.67 because the actual output incorrectly states that the legal minimum age for marriage in Romania is 18 years and claims there is no marriage age, contradicting the retrieval context that allows marriage at 16 under certain conditions.'}]\n",
      "            Understanding Score: [{'metric': 'Understanding (GEval)', 'success': False, 'score': 0.5361145822703495, 'reason': 'While the actual output provides detailed legal information, it may be too complex for someone without legal knowledge, making it less accessible than the expected output.'}]\n",
      "            \n",
      "Finished tests for model: rollama2-7b-instruct\n",
      "\n",
      "==================================================\n",
      "\n",
      "\n",
      "Running tests for query: În ce condiții poate fi încheiat un contract de vânzare-cumpărare și care sunt excepțiile de la forma scrisă?\n",
      "Using model: mistral-7b-instruct-v0.1\n"
     ]
    },
    {
     "data": {
      "text/html": [
       "<pre style=\"white-space:pre;overflow-x:auto;line-height:normal;font-family:Menlo,'DejaVu Sans Mono',consolas,'Courier New',monospace\">\n",
       "<span style=\"color: #05f58d; text-decoration-color: #05f58d\">✓</span> Tests finished 🎉! Run <span style=\"color: #008000; text-decoration-color: #008000; font-weight: bold\">'deepeval login'</span> to save and analyze evaluation results on Confident AI.\n",
       " \n",
       "✨👀 Looking for a place for your LLM test data to live 🏡❤️ ? Use <span style=\"color: #6a00ff; text-decoration-color: #6a00ff\">Confident AI</span> to get &amp; share testing reports, \n",
       "experiment with models/prompts, and catch regressions for your LLM system. Just run <span style=\"color: #008080; text-decoration-color: #008080\">'deepeval login'</span> in the CLI. \n",
       "\n",
       "</pre>\n"
      ],
      "text/plain": [
       "\n",
       "\u001b[38;2;5;245;141m✓\u001b[0m Tests finished 🎉! Run \u001b[1;32m'deepeval login'\u001b[0m to save and analyze evaluation results on Confident AI.\n",
       " \n",
       "✨👀 Looking for a place for your LLM test data to live 🏡❤️ ? Use \u001b[38;2;106;0;255mConfident AI\u001b[0m to get & share testing reports, \n",
       "experiment with models/prompts, and catch regressions for your LLM system. Just run \u001b[36m'deepeval login'\u001b[0m in the CLI. \n",
       "\n"
      ]
     },
     "metadata": {},
     "output_type": "display_data"
    },
    {
     "data": {
      "text/html": [
       "<pre style=\"white-space:pre;overflow-x:auto;line-height:normal;font-family:Menlo,'DejaVu Sans Mono',consolas,'Courier New',monospace\">\n",
       "<span style=\"color: #05f58d; text-decoration-color: #05f58d\">✓</span> Tests finished 🎉! Run <span style=\"color: #008000; text-decoration-color: #008000; font-weight: bold\">'deepeval login'</span> to save and analyze evaluation results on Confident AI.\n",
       " \n",
       "✨👀 Looking for a place for your LLM test data to live 🏡❤️ ? Use <span style=\"color: #6a00ff; text-decoration-color: #6a00ff\">Confident AI</span> to get &amp; share testing reports, \n",
       "experiment with models/prompts, and catch regressions for your LLM system. Just run <span style=\"color: #008080; text-decoration-color: #008080\">'deepeval login'</span> in the CLI. \n",
       "\n",
       "</pre>\n"
      ],
      "text/plain": [
       "\n",
       "\u001b[38;2;5;245;141m✓\u001b[0m Tests finished 🎉! Run \u001b[1;32m'deepeval login'\u001b[0m to save and analyze evaluation results on Confident AI.\n",
       " \n",
       "✨👀 Looking for a place for your LLM test data to live 🏡❤️ ? Use \u001b[38;2;106;0;255mConfident AI\u001b[0m to get & share testing reports, \n",
       "experiment with models/prompts, and catch regressions for your LLM system. Just run \u001b[36m'deepeval login'\u001b[0m in the CLI. \n",
       "\n"
      ]
     },
     "metadata": {},
     "output_type": "display_data"
    },
    {
     "data": {
      "text/html": [
       "<pre style=\"white-space:pre;overflow-x:auto;line-height:normal;font-family:Menlo,'DejaVu Sans Mono',consolas,'Courier New',monospace\">\n",
       "<span style=\"color: #05f58d; text-decoration-color: #05f58d\">✓</span> Tests finished 🎉! Run <span style=\"color: #008000; text-decoration-color: #008000; font-weight: bold\">'deepeval login'</span> to save and analyze evaluation results on Confident AI.\n",
       " \n",
       "✨👀 Looking for a place for your LLM test data to live 🏡❤️ ? Use <span style=\"color: #6a00ff; text-decoration-color: #6a00ff\">Confident AI</span> to get &amp; share testing reports, \n",
       "experiment with models/prompts, and catch regressions for your LLM system. Just run <span style=\"color: #008080; text-decoration-color: #008080\">'deepeval login'</span> in the CLI. \n",
       "\n",
       "</pre>\n"
      ],
      "text/plain": [
       "\n",
       "\u001b[38;2;5;245;141m✓\u001b[0m Tests finished 🎉! Run \u001b[1;32m'deepeval login'\u001b[0m to save and analyze evaluation results on Confident AI.\n",
       " \n",
       "✨👀 Looking for a place for your LLM test data to live 🏡❤️ ? Use \u001b[38;2;106;0;255mConfident AI\u001b[0m to get & share testing reports, \n",
       "experiment with models/prompts, and catch regressions for your LLM system. Just run \u001b[36m'deepeval login'\u001b[0m in the CLI. \n",
       "\n"
      ]
     },
     "metadata": {},
     "output_type": "display_data"
    },
    {
     "data": {
      "text/html": [
       "<pre style=\"white-space:pre;overflow-x:auto;line-height:normal;font-family:Menlo,'DejaVu Sans Mono',consolas,'Courier New',monospace\">\n",
       "<span style=\"color: #05f58d; text-decoration-color: #05f58d\">✓</span> Tests finished 🎉! Run <span style=\"color: #008000; text-decoration-color: #008000; font-weight: bold\">'deepeval login'</span> to save and analyze evaluation results on Confident AI.\n",
       " \n",
       "✨👀 Looking for a place for your LLM test data to live 🏡❤️ ? Use <span style=\"color: #6a00ff; text-decoration-color: #6a00ff\">Confident AI</span> to get &amp; share testing reports, \n",
       "experiment with models/prompts, and catch regressions for your LLM system. Just run <span style=\"color: #008080; text-decoration-color: #008080\">'deepeval login'</span> in the CLI. \n",
       "\n",
       "</pre>\n"
      ],
      "text/plain": [
       "\n",
       "\u001b[38;2;5;245;141m✓\u001b[0m Tests finished 🎉! Run \u001b[1;32m'deepeval login'\u001b[0m to save and analyze evaluation results on Confident AI.\n",
       " \n",
       "✨👀 Looking for a place for your LLM test data to live 🏡❤️ ? Use \u001b[38;2;106;0;255mConfident AI\u001b[0m to get & share testing reports, \n",
       "experiment with models/prompts, and catch regressions for your LLM system. Just run \u001b[36m'deepeval login'\u001b[0m in the CLI. \n",
       "\n"
      ]
     },
     "metadata": {},
     "output_type": "display_data"
    },
    {
     "name": "stdout",
     "output_type": "stream",
     "text": [
      "\n",
      "            Query: În ce condiții poate fi încheiat un contract de vânzare-cumpărare și care sunt excepțiile de la forma scrisă?\n",
      "            Expected: Contractul de vânzare-cumpărare se încheie prin acordul părților asupra lucrului și prețului. Contractul trebuie să fie în formă scrisă pentru bunurile imobile, pentru bunurile mobile cu valoarea peste o anumită sumă stabilită prin lege și pentru bunurile viitoare. Forma scrisă nu este obligatorie pentru bunurile mobile de valoare mică, pentru vânzările în cadrul activităților comerciale curente cu plată pe loc, sau când legea prevede expres alte forme de încheierie.\n",
      "            Actual: \n",
      "Întrebarea utilizatorului este: În ce condiții poate fi încheiat un contract de vânzare-cumpărare și care sunt excepțiile de la forma scrisă?\n",
      "\n",
      "Explicarea: Într-un contract de vânzare-cumpărare, sunt posibile câteva condiții în care poate fi încheiat un contract pe viața orală. În general, conform Articolului 1497 din Codul Civil Român, pentru a fi considerat un contract valid, este necesar ca toți partenii să fie înțelescătoare și să-l încheie în scris (excepții se pot face pe viața orală). În acest caz, contractele de vânzare-cumpărare sunt unele dintre excepțiile care poate fi încheiate pe viața orală. De exemplu, conform Articolului 1506 din Codul Civil Român, un contract de vânzare-cumpărare poate fi încheiat pe viața orală, dacă partenerii sunt persoane fizice și au locul de domiciliu la distanță de mai mult de 200 km.\n",
      "\n",
      "În cazul contractului de societate, conform Articolului 1515 din Codul Civil Român, acest trebuie să fie încheiat în scris, și poate fi realizat printr-o societate cu personalitate juridică sau prin urmarea unei societății cu personalitate juridică. În cazul contractului de societate înființează o societate cu personalitate juridică trebuie să fie scris și să includă asociații, aporturile, forma juridică, obiectul, denumirea și sediul societății. Durata societății trebuie să fie specifiată în contract.\n",
      "\n",
      "În cazul contractului de consignație, conform Articolului 1531 din Codul Civil Român, acest trebuie să se încheie în scris, și poate fi realizat prin urmare a unei societăți cu personalitate juridică sau prin urmarea unei societății cu personalitate juridică. În cazul contractului de consignație, acest trebuie să fie încheiat în scris, dacă prin lege nu se prevede altfel, formă scrisă este necesară numai pentru dovada contractului. Prețul vânzării poate fi considerat scris dacă ar fi realizat prin urmarea unei societăți cu personalitate juridică sau prin urmarea unei societății cu personalitate juridică.\n",
      "\n",
      "În cazul contractului de mandat, conform Articolului 1536 din Codul Civil Român, acest poate fi încheiat în scris sau verbală, acceptarea mandatului putând rezulta prin executarea sa de către mandatar. Mandatul dat pentru încheierea unui act juridic supus, potrivit legii, unei anumite forme trebuie să respecte aceea formă, sub sancțiune aplicabilă actului însuși. Prevederea nu se aplică atunci când forma este necesară doar pentru opozabilitatea actului față de terți, dacă prin lege nu se prevede altfel. Cazul special de acceptare tacită poate fi încheiat pe viața orală, conform Articolului 1537 din Codul Civil Român.\n",
      "\n",
      "În cazul contractului de societate prin urmare a unei societăți cu personalitate juridică, conform Articolului 1516 din Codul Civil Român, acest trebuie să fie încheiat în scris și să includă asociații, aporturile, forma juridică, obiectul, denumirea și sediul societății. Durata societății trebuie să fie specifiată în contract. În cazul societății cu personalitate juridică prin urmare de asociație, acestă trebuie să se încheie în scris și să includă asociați, aporturile, forma juridică, obiectul, denumirea și sediul societății. Durata societății trebuie să fie specifiată în contract. În cazul societății cu personalitate juridică prin urmare de societate cu personalitate juridică, acestă trebuie să se încheie în scris și să includă asociațiile, aporturile, forma juridică, obiectul, denumirea și sediul societății. Durata societății trebuie să fie specifiată în contract.\n",
      "\n",
      "În cazul contractului de mandat, conform Articolului 1536 din Codul Civil Român, acest poate fi încheiat în scris sau verbală, acceptarea mandatului putând rezulta prin executarea sa de către mandatar. Mandatul dat pentru încheierea unui act juridic supus, potrivit legii, unei anumite forme trebuie să respecte aceea formă, sub sancțiune aplicabilă actului însuși. Prevederea nu se aplică atunci când forma este necesară doar pentru opozabilitatea actului față de terți, dacă prin lege nu se prevede altfel. Cazul special de acceptare tacită poate fi încheiat pe viața orală.\n",
      "            Relevancy Score: [{'metric': 'Answer Relevancy', 'success': False, 'score': 0.3, 'reason': 'The score is 0.30 because the output predominantly discusses contracts unrelated to sales contracts, such as mandates, which do not address the input question about sales contracts and exceptions to their written form. However, the score is not lower because there might be some tangentially related information that could be applicable to understanding contract principles.'}]\n",
      "            Recall Score: [{'metric': 'Contextual Recall', 'success': False, 'score': 0.3333333333333333, 'reason': 'The score is 0.33 because only the requirement for a written form for certain goods (node 1 in retrieval context) aligns with the expected output, while the agreement on object and price, and exceptions for small value goods and commercial activities, are not supported by the retrieval context.'}]\n",
      "            Faithfulness Score: [{'metric': 'Faithfulness', 'success': False, 'score': 0.6923076923076923, 'reason': 'The score is 0.69 because the actual output contradicts the retrieval context by asserting that sale-purchase and consignment contracts can be concluded orally, while the context emphasizes the requirement for written contracts and does not reference relevant articles of the Romanian Civil Code.'}]\n",
      "            Understanding Score: [{'metric': 'Understanding (GEval)', 'success': False, 'score': 0.36849234868858327, 'reason': 'The response provides some legal references but is overly complex and not easily understandable for someone without legal knowledge. It does not clearly outline what the user can or must do regarding the sale-purchase contract.'}]\n",
      "            \n",
      "Using model: rollama3-8b-instruct\n"
     ]
    },
    {
     "data": {
      "text/html": [
       "<pre style=\"white-space:pre;overflow-x:auto;line-height:normal;font-family:Menlo,'DejaVu Sans Mono',consolas,'Courier New',monospace\">\n",
       "<span style=\"color: #05f58d; text-decoration-color: #05f58d\">✓</span> Tests finished 🎉! Run <span style=\"color: #008000; text-decoration-color: #008000; font-weight: bold\">'deepeval login'</span> to save and analyze evaluation results on Confident AI.\n",
       " \n",
       "✨👀 Looking for a place for your LLM test data to live 🏡❤️ ? Use <span style=\"color: #6a00ff; text-decoration-color: #6a00ff\">Confident AI</span> to get &amp; share testing reports, \n",
       "experiment with models/prompts, and catch regressions for your LLM system. Just run <span style=\"color: #008080; text-decoration-color: #008080\">'deepeval login'</span> in the CLI. \n",
       "\n",
       "</pre>\n"
      ],
      "text/plain": [
       "\n",
       "\u001b[38;2;5;245;141m✓\u001b[0m Tests finished 🎉! Run \u001b[1;32m'deepeval login'\u001b[0m to save and analyze evaluation results on Confident AI.\n",
       " \n",
       "✨👀 Looking for a place for your LLM test data to live 🏡❤️ ? Use \u001b[38;2;106;0;255mConfident AI\u001b[0m to get & share testing reports, \n",
       "experiment with models/prompts, and catch regressions for your LLM system. Just run \u001b[36m'deepeval login'\u001b[0m in the CLI. \n",
       "\n"
      ]
     },
     "metadata": {},
     "output_type": "display_data"
    },
    {
     "data": {
      "text/html": [
       "<pre style=\"white-space:pre;overflow-x:auto;line-height:normal;font-family:Menlo,'DejaVu Sans Mono',consolas,'Courier New',monospace\">\n",
       "<span style=\"color: #05f58d; text-decoration-color: #05f58d\">✓</span> Tests finished 🎉! Run <span style=\"color: #008000; text-decoration-color: #008000; font-weight: bold\">'deepeval login'</span> to save and analyze evaluation results on Confident AI.\n",
       " \n",
       "✨👀 Looking for a place for your LLM test data to live 🏡❤️ ? Use <span style=\"color: #6a00ff; text-decoration-color: #6a00ff\">Confident AI</span> to get &amp; share testing reports, \n",
       "experiment with models/prompts, and catch regressions for your LLM system. Just run <span style=\"color: #008080; text-decoration-color: #008080\">'deepeval login'</span> in the CLI. \n",
       "\n",
       "</pre>\n"
      ],
      "text/plain": [
       "\n",
       "\u001b[38;2;5;245;141m✓\u001b[0m Tests finished 🎉! Run \u001b[1;32m'deepeval login'\u001b[0m to save and analyze evaluation results on Confident AI.\n",
       " \n",
       "✨👀 Looking for a place for your LLM test data to live 🏡❤️ ? Use \u001b[38;2;106;0;255mConfident AI\u001b[0m to get & share testing reports, \n",
       "experiment with models/prompts, and catch regressions for your LLM system. Just run \u001b[36m'deepeval login'\u001b[0m in the CLI. \n",
       "\n"
      ]
     },
     "metadata": {},
     "output_type": "display_data"
    },
    {
     "data": {
      "text/html": [
       "<pre style=\"white-space:pre;overflow-x:auto;line-height:normal;font-family:Menlo,'DejaVu Sans Mono',consolas,'Courier New',monospace\">\n",
       "<span style=\"color: #05f58d; text-decoration-color: #05f58d\">✓</span> Tests finished 🎉! Run <span style=\"color: #008000; text-decoration-color: #008000; font-weight: bold\">'deepeval login'</span> to save and analyze evaluation results on Confident AI.\n",
       " \n",
       "✨👀 Looking for a place for your LLM test data to live 🏡❤️ ? Use <span style=\"color: #6a00ff; text-decoration-color: #6a00ff\">Confident AI</span> to get &amp; share testing reports, \n",
       "experiment with models/prompts, and catch regressions for your LLM system. Just run <span style=\"color: #008080; text-decoration-color: #008080\">'deepeval login'</span> in the CLI. \n",
       "\n",
       "</pre>\n"
      ],
      "text/plain": [
       "\n",
       "\u001b[38;2;5;245;141m✓\u001b[0m Tests finished 🎉! Run \u001b[1;32m'deepeval login'\u001b[0m to save and analyze evaluation results on Confident AI.\n",
       " \n",
       "✨👀 Looking for a place for your LLM test data to live 🏡❤️ ? Use \u001b[38;2;106;0;255mConfident AI\u001b[0m to get & share testing reports, \n",
       "experiment with models/prompts, and catch regressions for your LLM system. Just run \u001b[36m'deepeval login'\u001b[0m in the CLI. \n",
       "\n"
      ]
     },
     "metadata": {},
     "output_type": "display_data"
    },
    {
     "data": {
      "text/html": [
       "<pre style=\"white-space:pre;overflow-x:auto;line-height:normal;font-family:Menlo,'DejaVu Sans Mono',consolas,'Courier New',monospace\">\n",
       "<span style=\"color: #05f58d; text-decoration-color: #05f58d\">✓</span> Tests finished 🎉! Run <span style=\"color: #008000; text-decoration-color: #008000; font-weight: bold\">'deepeval login'</span> to save and analyze evaluation results on Confident AI.\n",
       " \n",
       "✨👀 Looking for a place for your LLM test data to live 🏡❤️ ? Use <span style=\"color: #6a00ff; text-decoration-color: #6a00ff\">Confident AI</span> to get &amp; share testing reports, \n",
       "experiment with models/prompts, and catch regressions for your LLM system. Just run <span style=\"color: #008080; text-decoration-color: #008080\">'deepeval login'</span> in the CLI. \n",
       "\n",
       "</pre>\n"
      ],
      "text/plain": [
       "\n",
       "\u001b[38;2;5;245;141m✓\u001b[0m Tests finished 🎉! Run \u001b[1;32m'deepeval login'\u001b[0m to save and analyze evaluation results on Confident AI.\n",
       " \n",
       "✨👀 Looking for a place for your LLM test data to live 🏡❤️ ? Use \u001b[38;2;106;0;255mConfident AI\u001b[0m to get & share testing reports, \n",
       "experiment with models/prompts, and catch regressions for your LLM system. Just run \u001b[36m'deepeval login'\u001b[0m in the CLI. \n",
       "\n"
      ]
     },
     "metadata": {},
     "output_type": "display_data"
    },
    {
     "name": "stdout",
     "output_type": "stream",
     "text": [
      "\n",
      "            Query: În ce condiții poate fi încheiat un contract de vânzare-cumpărare și care sunt excepțiile de la forma scrisă?\n",
      "            Expected: Contractul de vânzare-cumpărare se încheie prin acordul părților asupra lucrului și prețului. Contractul trebuie să fie în formă scrisă pentru bunurile imobile, pentru bunurile mobile cu valoarea peste o anumită sumă stabilită prin lege și pentru bunurile viitoare. Forma scrisă nu este obligatorie pentru bunurile mobile de valoare mică, pentru vânzările în cadrul activităților comerciale curente cu plată pe loc, sau când legea prevede expres alte forme de încheierie.\n",
      "            Actual: În conformitate cu Constituția României și Codul civil al României, un contract de vânzare-cumpărare poate fi încheiat verbal, cu condiția să fie acceptat ulterior. Excepțiile care se aplică acestei reguli sunt cazurile în care forma scrisă este necesară pentru dovada contractului sau actul este supus unei forme specifice prevăzute de lege.\n",
      "            Relevancy Score: [{'metric': 'Answer Relevancy', 'success': True, 'score': 1.0, 'reason': 'The score is 1.00 because the response perfectly addresses the question about the conditions for concluding a sales contract and exceptions to the written form, without any irrelevant information. Great job!'}]\n",
      "            Recall Score: [{'metric': 'Contextual Recall', 'success': False, 'score': 0.3333333333333333, 'reason': 'The score is 0.33 because only the requirement for a written form for certain goods (sentence 2) aligns with the 1st node in the retrieval context. However, the agreement on the object and price (sentence 1) and exceptions for small value goods and commercial activities (sentence 4) are not supported by any nodes in the retrieval context.'}]\n",
      "            Faithfulness Score: [{'metric': 'Faithfulness', 'success': True, 'score': 0.8, 'reason': 'The score is 0.80 because the actual output contradicts the retrieval context by implying that a verbal contract for sale-purchase is valid, despite the context stating that a contract must be in written form.'}]\n",
      "            Understanding Score: [{'metric': 'Understanding (GEval)', 'success': False, 'score': 0.487912783385839, 'reason': 'The actual output provides some legal context but lacks clarity and accessibility for a layperson, making it difficult to understand the conditions and exceptions for a sales contract.'}]\n",
      "            \n",
      "Using model: rollama2-7b-instruct\n"
     ]
    },
    {
     "data": {
      "text/html": [
       "<pre style=\"white-space:pre;overflow-x:auto;line-height:normal;font-family:Menlo,'DejaVu Sans Mono',consolas,'Courier New',monospace\">\n",
       "<span style=\"color: #05f58d; text-decoration-color: #05f58d\">✓</span> Tests finished 🎉! Run <span style=\"color: #008000; text-decoration-color: #008000; font-weight: bold\">'deepeval login'</span> to save and analyze evaluation results on Confident AI.\n",
       " \n",
       "✨👀 Looking for a place for your LLM test data to live 🏡❤️ ? Use <span style=\"color: #6a00ff; text-decoration-color: #6a00ff\">Confident AI</span> to get &amp; share testing reports, \n",
       "experiment with models/prompts, and catch regressions for your LLM system. Just run <span style=\"color: #008080; text-decoration-color: #008080\">'deepeval login'</span> in the CLI. \n",
       "\n",
       "</pre>\n"
      ],
      "text/plain": [
       "\n",
       "\u001b[38;2;5;245;141m✓\u001b[0m Tests finished 🎉! Run \u001b[1;32m'deepeval login'\u001b[0m to save and analyze evaluation results on Confident AI.\n",
       " \n",
       "✨👀 Looking for a place for your LLM test data to live 🏡❤️ ? Use \u001b[38;2;106;0;255mConfident AI\u001b[0m to get & share testing reports, \n",
       "experiment with models/prompts, and catch regressions for your LLM system. Just run \u001b[36m'deepeval login'\u001b[0m in the CLI. \n",
       "\n"
      ]
     },
     "metadata": {},
     "output_type": "display_data"
    },
    {
     "data": {
      "text/html": [
       "<pre style=\"white-space:pre;overflow-x:auto;line-height:normal;font-family:Menlo,'DejaVu Sans Mono',consolas,'Courier New',monospace\">\n",
       "<span style=\"color: #05f58d; text-decoration-color: #05f58d\">✓</span> Tests finished 🎉! Run <span style=\"color: #008000; text-decoration-color: #008000; font-weight: bold\">'deepeval login'</span> to save and analyze evaluation results on Confident AI.\n",
       " \n",
       "✨👀 Looking for a place for your LLM test data to live 🏡❤️ ? Use <span style=\"color: #6a00ff; text-decoration-color: #6a00ff\">Confident AI</span> to get &amp; share testing reports, \n",
       "experiment with models/prompts, and catch regressions for your LLM system. Just run <span style=\"color: #008080; text-decoration-color: #008080\">'deepeval login'</span> in the CLI. \n",
       "\n",
       "</pre>\n"
      ],
      "text/plain": [
       "\n",
       "\u001b[38;2;5;245;141m✓\u001b[0m Tests finished 🎉! Run \u001b[1;32m'deepeval login'\u001b[0m to save and analyze evaluation results on Confident AI.\n",
       " \n",
       "✨👀 Looking for a place for your LLM test data to live 🏡❤️ ? Use \u001b[38;2;106;0;255mConfident AI\u001b[0m to get & share testing reports, \n",
       "experiment with models/prompts, and catch regressions for your LLM system. Just run \u001b[36m'deepeval login'\u001b[0m in the CLI. \n",
       "\n"
      ]
     },
     "metadata": {},
     "output_type": "display_data"
    },
    {
     "data": {
      "text/html": [
       "<pre style=\"white-space:pre;overflow-x:auto;line-height:normal;font-family:Menlo,'DejaVu Sans Mono',consolas,'Courier New',monospace\">\n",
       "<span style=\"color: #05f58d; text-decoration-color: #05f58d\">✓</span> Tests finished 🎉! Run <span style=\"color: #008000; text-decoration-color: #008000; font-weight: bold\">'deepeval login'</span> to save and analyze evaluation results on Confident AI.\n",
       " \n",
       "✨👀 Looking for a place for your LLM test data to live 🏡❤️ ? Use <span style=\"color: #6a00ff; text-decoration-color: #6a00ff\">Confident AI</span> to get &amp; share testing reports, \n",
       "experiment with models/prompts, and catch regressions for your LLM system. Just run <span style=\"color: #008080; text-decoration-color: #008080\">'deepeval login'</span> in the CLI. \n",
       "\n",
       "</pre>\n"
      ],
      "text/plain": [
       "\n",
       "\u001b[38;2;5;245;141m✓\u001b[0m Tests finished 🎉! Run \u001b[1;32m'deepeval login'\u001b[0m to save and analyze evaluation results on Confident AI.\n",
       " \n",
       "✨👀 Looking for a place for your LLM test data to live 🏡❤️ ? Use \u001b[38;2;106;0;255mConfident AI\u001b[0m to get & share testing reports, \n",
       "experiment with models/prompts, and catch regressions for your LLM system. Just run \u001b[36m'deepeval login'\u001b[0m in the CLI. \n",
       "\n"
      ]
     },
     "metadata": {},
     "output_type": "display_data"
    },
    {
     "data": {
      "text/html": [
       "<pre style=\"white-space:pre;overflow-x:auto;line-height:normal;font-family:Menlo,'DejaVu Sans Mono',consolas,'Courier New',monospace\">\n",
       "<span style=\"color: #05f58d; text-decoration-color: #05f58d\">✓</span> Tests finished 🎉! Run <span style=\"color: #008000; text-decoration-color: #008000; font-weight: bold\">'deepeval login'</span> to save and analyze evaluation results on Confident AI.\n",
       " \n",
       "✨👀 Looking for a place for your LLM test data to live 🏡❤️ ? Use <span style=\"color: #6a00ff; text-decoration-color: #6a00ff\">Confident AI</span> to get &amp; share testing reports, \n",
       "experiment with models/prompts, and catch regressions for your LLM system. Just run <span style=\"color: #008080; text-decoration-color: #008080\">'deepeval login'</span> in the CLI. \n",
       "\n",
       "</pre>\n"
      ],
      "text/plain": [
       "\n",
       "\u001b[38;2;5;245;141m✓\u001b[0m Tests finished 🎉! Run \u001b[1;32m'deepeval login'\u001b[0m to save and analyze evaluation results on Confident AI.\n",
       " \n",
       "✨👀 Looking for a place for your LLM test data to live 🏡❤️ ? Use \u001b[38;2;106;0;255mConfident AI\u001b[0m to get & share testing reports, \n",
       "experiment with models/prompts, and catch regressions for your LLM system. Just run \u001b[36m'deepeval login'\u001b[0m in the CLI. \n",
       "\n"
      ]
     },
     "metadata": {},
     "output_type": "display_data"
    },
    {
     "name": "stdout",
     "output_type": "stream",
     "text": [
      "\n",
      "            Query: În ce condiții poate fi încheiat un contract de vânzare-cumpărare și care sunt excepțiile de la forma scrisă?\n",
      "            Expected: Contractul de vânzare-cumpărare se încheie prin acordul părților asupra lucrului și prețului. Contractul trebuie să fie în formă scrisă pentru bunurile imobile, pentru bunurile mobile cu valoarea peste o anumită sumă stabilită prin lege și pentru bunurile viitoare. Forma scrisă nu este obligatorie pentru bunurile mobile de valoare mică, pentru vânzările în cadrul activităților comerciale curente cu plată pe loc, sau când legea prevede expres alte forme de încheierie.\n",
      "            Actual: \n",
      "În ce condiții poate fi încheiat un contract de vânzare-cumpărare și care sunt excepțiile de la forma scrisă? \n",
      "\n",
      "Un contract de vânzare-cumpărare poate fi încheiat atât în formă scrisă, cât și oral. Contractul verbal se referă la o afacere între un agent imobiliar și un client care nu este prezent fizic, dar oferă acordul verbal al clientului prin telefon sau e-mail. \n",
      "\n",
      "Excepțiile de la forma scrisă a contractului de vânzare-cumpărare sunt prevăzute de articolul 1258 din Codul civil, care prevede că „dacă prin lege nu se prevede altfel, o promisiune verbală sau un act necesar pentru încheierea contractului și caracterul de urgență al acestuia permit unui vânzător să rezilieze unilateral contractul”. \n",
      "\n",
      "De exemplu, dacă există o neînțelegere între client și agentul imobiliar în ceea ce privește prețul sau locația, agentul poate rezilia contractul. În acest caz, ambele părți trebuie să fie de acord cu anularea. \n",
      "\n",
      "Contractele pentru proprietăți care necesită permise din partea autorităților locale pot fi încheiate și verbal; totuși, este esențial ca agentul imobiliar să obțină o permisiune scrisă de la client înainte de a aplica pentru aceste permise. \n",
      "            Relevancy Score: [{'metric': 'Answer Relevancy', 'success': False, 'score': 0.6666666666666666, 'reason': 'The score is 0.67 because the output partially addresses the input by discussing contract-related topics. However, it includes irrelevant statements about misunderstandings, contract cancellations, and permits, which do not directly relate to the conditions or exceptions of a sales contract.'}]\n",
      "            Recall Score: [{'metric': 'Contextual Recall', 'success': False, 'score': 0.5, 'reason': 'The score is 0.50 because while the 1st node in the retrieval context supports the need for a written form for certain goods, it does not cover the agreement of parties on the object and price or the exceptions for small-value goods and commercial activities.'}]\n",
      "            Faithfulness Score: [{'metric': 'Faithfulness', 'success': True, 'score': 0.7777777777777778, 'reason': \"The score is 0.78 because the actual output contradicts the retrieval context by asserting that a sale-purchase contract can be concluded orally, despite the context stating it must be in written form. Additionally, it claims that contracts requiring permits can be concluded verbally, which goes against the context's specification that such contracts must adhere to a certain form.\"}]\n",
      "            Understanding Score: [{'metric': 'Understanding (GEval)', 'success': False, 'score': 0.36797485309359484, 'reason': 'The response provides some information about the conditions for concluding a sales contract and exceptions, but it lacks clarity and accessibility for someone without legal knowledge, making it difficult to understand what actions are permitted.'}]\n",
      "            \n",
      "Finished tests for model: rollama2-7b-instruct\n",
      "\n",
      "==================================================\n",
      "\n",
      "\n",
      "Running tests for query: Care sunt drepturile și obligațiile părților în cazul unei concedieri individuale pentru motive care nu țin de persoana salariatului?\n",
      "Using model: mistral-7b-instruct-v0.1\n"
     ]
    },
    {
     "data": {
      "text/html": [
       "<pre style=\"white-space:pre;overflow-x:auto;line-height:normal;font-family:Menlo,'DejaVu Sans Mono',consolas,'Courier New',monospace\">\n",
       "<span style=\"color: #05f58d; text-decoration-color: #05f58d\">✓</span> Tests finished 🎉! Run <span style=\"color: #008000; text-decoration-color: #008000; font-weight: bold\">'deepeval login'</span> to save and analyze evaluation results on Confident AI.\n",
       " \n",
       "✨👀 Looking for a place for your LLM test data to live 🏡❤️ ? Use <span style=\"color: #6a00ff; text-decoration-color: #6a00ff\">Confident AI</span> to get &amp; share testing reports, \n",
       "experiment with models/prompts, and catch regressions for your LLM system. Just run <span style=\"color: #008080; text-decoration-color: #008080\">'deepeval login'</span> in the CLI. \n",
       "\n",
       "</pre>\n"
      ],
      "text/plain": [
       "\n",
       "\u001b[38;2;5;245;141m✓\u001b[0m Tests finished 🎉! Run \u001b[1;32m'deepeval login'\u001b[0m to save and analyze evaluation results on Confident AI.\n",
       " \n",
       "✨👀 Looking for a place for your LLM test data to live 🏡❤️ ? Use \u001b[38;2;106;0;255mConfident AI\u001b[0m to get & share testing reports, \n",
       "experiment with models/prompts, and catch regressions for your LLM system. Just run \u001b[36m'deepeval login'\u001b[0m in the CLI. \n",
       "\n"
      ]
     },
     "metadata": {},
     "output_type": "display_data"
    },
    {
     "data": {
      "text/html": [
       "<pre style=\"white-space:pre;overflow-x:auto;line-height:normal;font-family:Menlo,'DejaVu Sans Mono',consolas,'Courier New',monospace\">\n",
       "<span style=\"color: #05f58d; text-decoration-color: #05f58d\">✓</span> Tests finished 🎉! Run <span style=\"color: #008000; text-decoration-color: #008000; font-weight: bold\">'deepeval login'</span> to save and analyze evaluation results on Confident AI.\n",
       " \n",
       "✨👀 Looking for a place for your LLM test data to live 🏡❤️ ? Use <span style=\"color: #6a00ff; text-decoration-color: #6a00ff\">Confident AI</span> to get &amp; share testing reports, \n",
       "experiment with models/prompts, and catch regressions for your LLM system. Just run <span style=\"color: #008080; text-decoration-color: #008080\">'deepeval login'</span> in the CLI. \n",
       "\n",
       "</pre>\n"
      ],
      "text/plain": [
       "\n",
       "\u001b[38;2;5;245;141m✓\u001b[0m Tests finished 🎉! Run \u001b[1;32m'deepeval login'\u001b[0m to save and analyze evaluation results on Confident AI.\n",
       " \n",
       "✨👀 Looking for a place for your LLM test data to live 🏡❤️ ? Use \u001b[38;2;106;0;255mConfident AI\u001b[0m to get & share testing reports, \n",
       "experiment with models/prompts, and catch regressions for your LLM system. Just run \u001b[36m'deepeval login'\u001b[0m in the CLI. \n",
       "\n"
      ]
     },
     "metadata": {},
     "output_type": "display_data"
    },
    {
     "data": {
      "text/html": [
       "<pre style=\"white-space:pre;overflow-x:auto;line-height:normal;font-family:Menlo,'DejaVu Sans Mono',consolas,'Courier New',monospace\">\n",
       "<span style=\"color: #05f58d; text-decoration-color: #05f58d\">✓</span> Tests finished 🎉! Run <span style=\"color: #008000; text-decoration-color: #008000; font-weight: bold\">'deepeval login'</span> to save and analyze evaluation results on Confident AI.\n",
       " \n",
       "✨👀 Looking for a place for your LLM test data to live 🏡❤️ ? Use <span style=\"color: #6a00ff; text-decoration-color: #6a00ff\">Confident AI</span> to get &amp; share testing reports, \n",
       "experiment with models/prompts, and catch regressions for your LLM system. Just run <span style=\"color: #008080; text-decoration-color: #008080\">'deepeval login'</span> in the CLI. \n",
       "\n",
       "</pre>\n"
      ],
      "text/plain": [
       "\n",
       "\u001b[38;2;5;245;141m✓\u001b[0m Tests finished 🎉! Run \u001b[1;32m'deepeval login'\u001b[0m to save and analyze evaluation results on Confident AI.\n",
       " \n",
       "✨👀 Looking for a place for your LLM test data to live 🏡❤️ ? Use \u001b[38;2;106;0;255mConfident AI\u001b[0m to get & share testing reports, \n",
       "experiment with models/prompts, and catch regressions for your LLM system. Just run \u001b[36m'deepeval login'\u001b[0m in the CLI. \n",
       "\n"
      ]
     },
     "metadata": {},
     "output_type": "display_data"
    },
    {
     "data": {
      "text/html": [
       "<pre style=\"white-space:pre;overflow-x:auto;line-height:normal;font-family:Menlo,'DejaVu Sans Mono',consolas,'Courier New',monospace\">\n",
       "<span style=\"color: #05f58d; text-decoration-color: #05f58d\">✓</span> Tests finished 🎉! Run <span style=\"color: #008000; text-decoration-color: #008000; font-weight: bold\">'deepeval login'</span> to save and analyze evaluation results on Confident AI.\n",
       " \n",
       "✨👀 Looking for a place for your LLM test data to live 🏡❤️ ? Use <span style=\"color: #6a00ff; text-decoration-color: #6a00ff\">Confident AI</span> to get &amp; share testing reports, \n",
       "experiment with models/prompts, and catch regressions for your LLM system. Just run <span style=\"color: #008080; text-decoration-color: #008080\">'deepeval login'</span> in the CLI. \n",
       "\n",
       "</pre>\n"
      ],
      "text/plain": [
       "\n",
       "\u001b[38;2;5;245;141m✓\u001b[0m Tests finished 🎉! Run \u001b[1;32m'deepeval login'\u001b[0m to save and analyze evaluation results on Confident AI.\n",
       " \n",
       "✨👀 Looking for a place for your LLM test data to live 🏡❤️ ? Use \u001b[38;2;106;0;255mConfident AI\u001b[0m to get & share testing reports, \n",
       "experiment with models/prompts, and catch regressions for your LLM system. Just run \u001b[36m'deepeval login'\u001b[0m in the CLI. \n",
       "\n"
      ]
     },
     "metadata": {},
     "output_type": "display_data"
    },
    {
     "name": "stdout",
     "output_type": "stream",
     "text": [
      "\n",
      "            Query: Care sunt drepturile și obligațiile părților în cazul unei concedieri individuale pentru motive care nu țin de persoana salariatului?\n",
      "            Expected: În cazul concedierii pentru motive care nu țin de persoana salariatului, angajatorul trebuie să respecte proceduri stricte și să asigure drepturi specifice salariatului. Concedierea este permisă doar pentru desființarea locului de muncă din motive economice, tehnologice, structurale sau similare. Angajatorul are obligația să acorde un preaviz de minimum 20 de zile lucrătoare și să respecte criterii obiective de selecție (performanțe profesionale, vechime, sarcini de întreținere).\n",
      "            Actual: \n",
      "Într-un caz individual, salariatul are drepturi și obligații identice cu cele ale unuii persoane aflate în situație similară. Excepție se face dacă concederile potrivite legei sunt dispuse pentru motive care nu au legătura cu persoana salariatului, cum ar fi de exemplu o transfer al intreprinderii sau al unității sau a unor parte ale acesteia la o altă entitate. În acest caz, legea garantează că salariatul beneficiază de protecția drepturilor sale. Dacă contractul individual de muncă a fost dispus pentru motive care nu au legătura cu persoana salariatului, începutele transferului intreprinderii, al unității sau al unor parte ale acesteia la o altă entitate, se consideră concederile potrivite legei. În acest caz, conform articolului 89 al Codului Muncii, salariatul beneficiază de protecția drepturilor sale și poate fi transferat integral la entitatea care a preluat interprinderia, unitatea sau partea acesteia. Dacă transferul intreprinderii, al unității sau al unor parte ale acesteia nu este un motiv de concedere potrivit legei, nu poate fi dispus pentru salariatul individual. În cazul unei conveniențe a salariului, cum ar fi o reducere de locuri de muncă sau o scurtare a orarilor lucrați, există un protocol în care trebuie să fie respectate reguli legale pentru preluarea contractului individual de muncă. În acest caz, conform articolului 47 al Codului Muncii, salariatul poate solicita o scurtare a orarilor lucrați sau o reducere a locurilor de muncă, dar numai dacă îndeplinește cerințele legale și acestea nu trebuie să fie o conveniență de salariu.\n",
      "\n",
      "În cazul unei concederi individuale pentru motive care nu au legătura cu persoana salariatului, salariatul beneficiază de protecția drepturilor sale conform articolului 89 al Codului Muncii. În acest caz, începutele transferului intreprinderii, al unității sau al unei parte ale acesteia la o altă entitate poate fi un motiv de concedere potrivit legei dacă se realizează cu motive care nu au legătura cu persoana salariatului. Dacă transferul intreprinderii, al unității sau al unei parte ale acesteia poate constitui o conveniență de salariu, trebuie să fie respectate reguli legale pentru preluarea contractului individual de muncă.\n",
      "            Relevancy Score: [{'metric': 'Answer Relevancy', 'success': True, 'score': 0.8, 'reason': 'The score is 0.80 because the response effectively addresses the main topic of individual dismissal rights and obligations, providing relevant information. However, it includes some unrelated details about contract transfer protocols and working hour adjustments, which slightly detract from the focus, preventing a higher score.'}]\n",
      "            Recall Score: [{'metric': 'Contextual Recall', 'success': False, 'score': 0.6666666666666666, 'reason': \"The score is 0.67 because while the retrieval context supports the general conditions for dismissal not related to the employee's person (node 2), it lacks specific details about the 20-day notice and objective selection criteria, which are crucial elements in the expected output.\"}]\n",
      "            Faithfulness Score: [{'metric': 'Faithfulness', 'success': True, 'score': 0.7, 'reason': \"The score is 0.70 because the actual output contradicts the retrieval context by stating that a transfer of the enterprise is a valid reason for dismissal, while the context clearly states it is not related to the employee's performance and does not constitute a lawful dismissal.\"}]\n",
      "            Understanding Score: [{'metric': 'Understanding (GEval)', 'success': False, 'score': 0.43965013651463314, 'reason': 'The response provides some legal context but lacks clarity and accessibility for someone without legal knowledge. It does not clearly outline what the employer must do, such as the requirement for a notice period or objective selection criteria.'}]\n",
      "            \n",
      "Using model: rollama3-8b-instruct\n"
     ]
    },
    {
     "data": {
      "text/html": [
       "<pre style=\"white-space:pre;overflow-x:auto;line-height:normal;font-family:Menlo,'DejaVu Sans Mono',consolas,'Courier New',monospace\">\n",
       "<span style=\"color: #05f58d; text-decoration-color: #05f58d\">✓</span> Tests finished 🎉! Run <span style=\"color: #008000; text-decoration-color: #008000; font-weight: bold\">'deepeval login'</span> to save and analyze evaluation results on Confident AI.\n",
       " \n",
       "✨👀 Looking for a place for your LLM test data to live 🏡❤️ ? Use <span style=\"color: #6a00ff; text-decoration-color: #6a00ff\">Confident AI</span> to get &amp; share testing reports, \n",
       "experiment with models/prompts, and catch regressions for your LLM system. Just run <span style=\"color: #008080; text-decoration-color: #008080\">'deepeval login'</span> in the CLI. \n",
       "\n",
       "</pre>\n"
      ],
      "text/plain": [
       "\n",
       "\u001b[38;2;5;245;141m✓\u001b[0m Tests finished 🎉! Run \u001b[1;32m'deepeval login'\u001b[0m to save and analyze evaluation results on Confident AI.\n",
       " \n",
       "✨👀 Looking for a place for your LLM test data to live 🏡❤️ ? Use \u001b[38;2;106;0;255mConfident AI\u001b[0m to get & share testing reports, \n",
       "experiment with models/prompts, and catch regressions for your LLM system. Just run \u001b[36m'deepeval login'\u001b[0m in the CLI. \n",
       "\n"
      ]
     },
     "metadata": {},
     "output_type": "display_data"
    },
    {
     "data": {
      "text/html": [
       "<pre style=\"white-space:pre;overflow-x:auto;line-height:normal;font-family:Menlo,'DejaVu Sans Mono',consolas,'Courier New',monospace\">\n",
       "<span style=\"color: #05f58d; text-decoration-color: #05f58d\">✓</span> Tests finished 🎉! Run <span style=\"color: #008000; text-decoration-color: #008000; font-weight: bold\">'deepeval login'</span> to save and analyze evaluation results on Confident AI.\n",
       " \n",
       "✨👀 Looking for a place for your LLM test data to live 🏡❤️ ? Use <span style=\"color: #6a00ff; text-decoration-color: #6a00ff\">Confident AI</span> to get &amp; share testing reports, \n",
       "experiment with models/prompts, and catch regressions for your LLM system. Just run <span style=\"color: #008080; text-decoration-color: #008080\">'deepeval login'</span> in the CLI. \n",
       "\n",
       "</pre>\n"
      ],
      "text/plain": [
       "\n",
       "\u001b[38;2;5;245;141m✓\u001b[0m Tests finished 🎉! Run \u001b[1;32m'deepeval login'\u001b[0m to save and analyze evaluation results on Confident AI.\n",
       " \n",
       "✨👀 Looking for a place for your LLM test data to live 🏡❤️ ? Use \u001b[38;2;106;0;255mConfident AI\u001b[0m to get & share testing reports, \n",
       "experiment with models/prompts, and catch regressions for your LLM system. Just run \u001b[36m'deepeval login'\u001b[0m in the CLI. \n",
       "\n"
      ]
     },
     "metadata": {},
     "output_type": "display_data"
    },
    {
     "data": {
      "text/html": [
       "<pre style=\"white-space:pre;overflow-x:auto;line-height:normal;font-family:Menlo,'DejaVu Sans Mono',consolas,'Courier New',monospace\">\n",
       "<span style=\"color: #05f58d; text-decoration-color: #05f58d\">✓</span> Tests finished 🎉! Run <span style=\"color: #008000; text-decoration-color: #008000; font-weight: bold\">'deepeval login'</span> to save and analyze evaluation results on Confident AI.\n",
       " \n",
       "✨👀 Looking for a place for your LLM test data to live 🏡❤️ ? Use <span style=\"color: #6a00ff; text-decoration-color: #6a00ff\">Confident AI</span> to get &amp; share testing reports, \n",
       "experiment with models/prompts, and catch regressions for your LLM system. Just run <span style=\"color: #008080; text-decoration-color: #008080\">'deepeval login'</span> in the CLI. \n",
       "\n",
       "</pre>\n"
      ],
      "text/plain": [
       "\n",
       "\u001b[38;2;5;245;141m✓\u001b[0m Tests finished 🎉! Run \u001b[1;32m'deepeval login'\u001b[0m to save and analyze evaluation results on Confident AI.\n",
       " \n",
       "✨👀 Looking for a place for your LLM test data to live 🏡❤️ ? Use \u001b[38;2;106;0;255mConfident AI\u001b[0m to get & share testing reports, \n",
       "experiment with models/prompts, and catch regressions for your LLM system. Just run \u001b[36m'deepeval login'\u001b[0m in the CLI. \n",
       "\n"
      ]
     },
     "metadata": {},
     "output_type": "display_data"
    },
    {
     "data": {
      "text/html": [
       "<pre style=\"white-space:pre;overflow-x:auto;line-height:normal;font-family:Menlo,'DejaVu Sans Mono',consolas,'Courier New',monospace\">\n",
       "<span style=\"color: #05f58d; text-decoration-color: #05f58d\">✓</span> Tests finished 🎉! Run <span style=\"color: #008000; text-decoration-color: #008000; font-weight: bold\">'deepeval login'</span> to save and analyze evaluation results on Confident AI.\n",
       " \n",
       "✨👀 Looking for a place for your LLM test data to live 🏡❤️ ? Use <span style=\"color: #6a00ff; text-decoration-color: #6a00ff\">Confident AI</span> to get &amp; share testing reports, \n",
       "experiment with models/prompts, and catch regressions for your LLM system. Just run <span style=\"color: #008080; text-decoration-color: #008080\">'deepeval login'</span> in the CLI. \n",
       "\n",
       "</pre>\n"
      ],
      "text/plain": [
       "\n",
       "\u001b[38;2;5;245;141m✓\u001b[0m Tests finished 🎉! Run \u001b[1;32m'deepeval login'\u001b[0m to save and analyze evaluation results on Confident AI.\n",
       " \n",
       "✨👀 Looking for a place for your LLM test data to live 🏡❤️ ? Use \u001b[38;2;106;0;255mConfident AI\u001b[0m to get & share testing reports, \n",
       "experiment with models/prompts, and catch regressions for your LLM system. Just run \u001b[36m'deepeval login'\u001b[0m in the CLI. \n",
       "\n"
      ]
     },
     "metadata": {},
     "output_type": "display_data"
    },
    {
     "name": "stdout",
     "output_type": "stream",
     "text": [
      "\n",
      "            Query: Care sunt drepturile și obligațiile părților în cazul unei concedieri individuale pentru motive care nu țin de persoana salariatului?\n",
      "            Expected: În cazul concedierii pentru motive care nu țin de persoana salariatului, angajatorul trebuie să respecte proceduri stricte și să asigure drepturi specifice salariatului. Concedierea este permisă doar pentru desființarea locului de muncă din motive economice, tehnologice, structurale sau similare. Angajatorul are obligația să acorde un preaviz de minimum 20 de zile lucrătoare și să respecte criterii obiective de selecție (performanțe profesionale, vechime, sarcini de întreținere).\n",
      "            Actual: În cazul unei concedieri individuale pentru motive care nu se referă la persoana lucrătorului, angajatorul trebuie să respecte drepturile acestuia. Concedierea poate fi făcută numai din cauze reale și serioase legate de desființarea unității sau a unor părți ale acesteia la care lucra angajatul. Angajatorul nu poate să motiveze concedierile colective sau individuale folosind transferul unei întreprinderi, al unei unități sau al unora dintre părțile sale către un alt angajator. Drepturile și obligațiile lucrătorului, care au apărut dintr-un contract de muncă sau raport existent la data transferului, vor fi în întregime transferate noului angajator.\n",
      "            Relevancy Score: [{'metric': 'Answer Relevancy', 'success': True, 'score': 1.0, 'reason': 'The score is 1.00 because the response perfectly addresses the question about the rights and obligations of parties in the case of an individual dismissal for reasons not related to the employee. There are no irrelevant statements, making the answer fully relevant and comprehensive.'}]\n",
      "            Recall Score: [{'metric': 'Contextual Recall', 'success': False, 'score': 0.6666666666666666, 'reason': 'The score is 0.67 because while the retrieval context nodes support the general concept of dismissal for reasons unrelated to the employee, they lack specific details about the 20-day notice and objective selection criteria, which are crucial parts of the expected output.'}]\n",
      "            Faithfulness Score: [{'metric': 'Faithfulness', 'success': True, 'score': 0.75, 'reason': 'The score is 0.75 because the actual output correctly states that the rights and obligations of the worker will be fully transferred to the new employer, aligning with the retrieval context. However, there may be nuances or additional details in the retrieval context that are not fully captured in the actual output, leading to a slight decrease in faithfulness.'}]\n",
      "            Understanding Score: [{'metric': 'Understanding (GEval)', 'success': False, 'score': 0.5596158543509604, 'reason': \"The response provides some clarity on the employer's obligations during dismissal but lacks specific details about the procedures and rights that the employee must be informed of, such as the notice period and selection criteria.\"}]\n",
      "            \n",
      "Using model: rollama2-7b-instruct\n"
     ]
    },
    {
     "data": {
      "text/html": [
       "<pre style=\"white-space:pre;overflow-x:auto;line-height:normal;font-family:Menlo,'DejaVu Sans Mono',consolas,'Courier New',monospace\">\n",
       "<span style=\"color: #05f58d; text-decoration-color: #05f58d\">✓</span> Tests finished 🎉! Run <span style=\"color: #008000; text-decoration-color: #008000; font-weight: bold\">'deepeval login'</span> to save and analyze evaluation results on Confident AI.\n",
       " \n",
       "✨👀 Looking for a place for your LLM test data to live 🏡❤️ ? Use <span style=\"color: #6a00ff; text-decoration-color: #6a00ff\">Confident AI</span> to get &amp; share testing reports, \n",
       "experiment with models/prompts, and catch regressions for your LLM system. Just run <span style=\"color: #008080; text-decoration-color: #008080\">'deepeval login'</span> in the CLI. \n",
       "\n",
       "</pre>\n"
      ],
      "text/plain": [
       "\n",
       "\u001b[38;2;5;245;141m✓\u001b[0m Tests finished 🎉! Run \u001b[1;32m'deepeval login'\u001b[0m to save and analyze evaluation results on Confident AI.\n",
       " \n",
       "✨👀 Looking for a place for your LLM test data to live 🏡❤️ ? Use \u001b[38;2;106;0;255mConfident AI\u001b[0m to get & share testing reports, \n",
       "experiment with models/prompts, and catch regressions for your LLM system. Just run \u001b[36m'deepeval login'\u001b[0m in the CLI. \n",
       "\n"
      ]
     },
     "metadata": {},
     "output_type": "display_data"
    },
    {
     "data": {
      "text/html": [
       "<pre style=\"white-space:pre;overflow-x:auto;line-height:normal;font-family:Menlo,'DejaVu Sans Mono',consolas,'Courier New',monospace\">\n",
       "<span style=\"color: #05f58d; text-decoration-color: #05f58d\">✓</span> Tests finished 🎉! Run <span style=\"color: #008000; text-decoration-color: #008000; font-weight: bold\">'deepeval login'</span> to save and analyze evaluation results on Confident AI.\n",
       " \n",
       "✨👀 Looking for a place for your LLM test data to live 🏡❤️ ? Use <span style=\"color: #6a00ff; text-decoration-color: #6a00ff\">Confident AI</span> to get &amp; share testing reports, \n",
       "experiment with models/prompts, and catch regressions for your LLM system. Just run <span style=\"color: #008080; text-decoration-color: #008080\">'deepeval login'</span> in the CLI. \n",
       "\n",
       "</pre>\n"
      ],
      "text/plain": [
       "\n",
       "\u001b[38;2;5;245;141m✓\u001b[0m Tests finished 🎉! Run \u001b[1;32m'deepeval login'\u001b[0m to save and analyze evaluation results on Confident AI.\n",
       " \n",
       "✨👀 Looking for a place for your LLM test data to live 🏡❤️ ? Use \u001b[38;2;106;0;255mConfident AI\u001b[0m to get & share testing reports, \n",
       "experiment with models/prompts, and catch regressions for your LLM system. Just run \u001b[36m'deepeval login'\u001b[0m in the CLI. \n",
       "\n"
      ]
     },
     "metadata": {},
     "output_type": "display_data"
    },
    {
     "data": {
      "text/html": [
       "<pre style=\"white-space:pre;overflow-x:auto;line-height:normal;font-family:Menlo,'DejaVu Sans Mono',consolas,'Courier New',monospace\">\n",
       "<span style=\"color: #05f58d; text-decoration-color: #05f58d\">✓</span> Tests finished 🎉! Run <span style=\"color: #008000; text-decoration-color: #008000; font-weight: bold\">'deepeval login'</span> to save and analyze evaluation results on Confident AI.\n",
       " \n",
       "✨👀 Looking for a place for your LLM test data to live 🏡❤️ ? Use <span style=\"color: #6a00ff; text-decoration-color: #6a00ff\">Confident AI</span> to get &amp; share testing reports, \n",
       "experiment with models/prompts, and catch regressions for your LLM system. Just run <span style=\"color: #008080; text-decoration-color: #008080\">'deepeval login'</span> in the CLI. \n",
       "\n",
       "</pre>\n"
      ],
      "text/plain": [
       "\n",
       "\u001b[38;2;5;245;141m✓\u001b[0m Tests finished 🎉! Run \u001b[1;32m'deepeval login'\u001b[0m to save and analyze evaluation results on Confident AI.\n",
       " \n",
       "✨👀 Looking for a place for your LLM test data to live 🏡❤️ ? Use \u001b[38;2;106;0;255mConfident AI\u001b[0m to get & share testing reports, \n",
       "experiment with models/prompts, and catch regressions for your LLM system. Just run \u001b[36m'deepeval login'\u001b[0m in the CLI. \n",
       "\n"
      ]
     },
     "metadata": {},
     "output_type": "display_data"
    },
    {
     "data": {
      "text/html": [
       "<pre style=\"white-space:pre;overflow-x:auto;line-height:normal;font-family:Menlo,'DejaVu Sans Mono',consolas,'Courier New',monospace\">\n",
       "<span style=\"color: #05f58d; text-decoration-color: #05f58d\">✓</span> Tests finished 🎉! Run <span style=\"color: #008000; text-decoration-color: #008000; font-weight: bold\">'deepeval login'</span> to save and analyze evaluation results on Confident AI.\n",
       " \n",
       "✨👀 Looking for a place for your LLM test data to live 🏡❤️ ? Use <span style=\"color: #6a00ff; text-decoration-color: #6a00ff\">Confident AI</span> to get &amp; share testing reports, \n",
       "experiment with models/prompts, and catch regressions for your LLM system. Just run <span style=\"color: #008080; text-decoration-color: #008080\">'deepeval login'</span> in the CLI. \n",
       "\n",
       "</pre>\n"
      ],
      "text/plain": [
       "\n",
       "\u001b[38;2;5;245;141m✓\u001b[0m Tests finished 🎉! Run \u001b[1;32m'deepeval login'\u001b[0m to save and analyze evaluation results on Confident AI.\n",
       " \n",
       "✨👀 Looking for a place for your LLM test data to live 🏡❤️ ? Use \u001b[38;2;106;0;255mConfident AI\u001b[0m to get & share testing reports, \n",
       "experiment with models/prompts, and catch regressions for your LLM system. Just run \u001b[36m'deepeval login'\u001b[0m in the CLI. \n",
       "\n"
      ]
     },
     "metadata": {},
     "output_type": "display_data"
    },
    {
     "name": "stdout",
     "output_type": "stream",
     "text": [
      "\n",
      "            Query: Care sunt drepturile și obligațiile părților în cazul unei concedieri individuale pentru motive care nu țin de persoana salariatului?\n",
      "            Expected: În cazul concedierii pentru motive care nu țin de persoana salariatului, angajatorul trebuie să respecte proceduri stricte și să asigure drepturi specifice salariatului. Concedierea este permisă doar pentru desființarea locului de muncă din motive economice, tehnologice, structurale sau similare. Angajatorul are obligația să acorde un preaviz de minimum 20 de zile lucrătoare și să respecte criterii obiective de selecție (performanțe profesionale, vechime, sarcini de întreținere).\n",
      "            Actual: \n",
      "În cazul unei concedieri individuale pentru motive care nu țin de persoana salariatului, drepturile și obligațiile părților sunt după cum urmează:\n",
      "\n",
      "1. Salariatul are dreptul la protecție adecvată împotriva concedierii nelegitime (motive care nu țin de persoana sa).\n",
      "2. Angajatorul trebuie să demonstreze că desființarea postului este efectivă și are o cauză reală și serioasă.\n",
      "3. Salariatului i se transferă drepturile existente într-un contract sau raport de muncă la momentul transferului (de exemplu, salarii restante, zile de concediu neefectuate).\n",
      "4. Angajatorul are obligația de a proteja informațiile privind salariații și datele lor personale în timpul procesului de desființare a postului. \n",
      "            Relevancy Score: [{'metric': 'Answer Relevancy', 'success': True, 'score': 0.75, 'reason': \"The score is 0.75 because the response mostly addresses the rights and obligations of parties in the context of individual dismissals not related to the employee's conduct. However, the mention of contract transfer rights is not directly relevant to the specific question, slightly lowering the score.\"}]\n",
      "            Recall Score: [{'metric': 'Contextual Recall', 'success': False, 'score': 0.6666666666666666, 'reason': 'The score is 0.67 because while the retrieval context supports the general concept of dismissal for reasons unrelated to the employee, as seen in node 2, it lacks specific details on the notice period and selection criteria mentioned in the expected output.'}]\n",
      "            Faithfulness Score: [{'metric': 'Faithfulness', 'success': True, 'score': 0.75, 'reason': 'The score is 0.75 because the actual output introduces the idea that the employer has an obligation to protect employee information during job termination, which is not supported by the retrieval context.'}]\n",
      "            Understanding Score: [{'metric': 'Understanding (GEval)', 'success': False, 'score': 0.5915842955099124, 'reason': 'The response outlines some rights and obligations but lacks clarity on the specific procedures and criteria for dismissal, which are essential for user understanding.'}]\n",
      "            \n",
      "Finished tests for model: rollama2-7b-instruct\n",
      "\n",
      "==================================================\n",
      "\n",
      "\n"
     ]
    }
   ],
   "source": [
    "models_list = [\"mistral-7b-instruct-v0.1\", \"rollama3-8b-instruct\", \"rollama2-7b-instruct\"]\n",
    "\n",
    "prompt = \"\"\"\n",
    "Ești un asistent juridic virtual, specializat în explicarea drepturilor cetățenilor într-un limbaj simplu și accesibil. Răspunzi în limba română, folosind informațiile din documente juridice oficiale precum Constituția României, Codul Muncii sau alte acte normative relevante.\n",
    "\n",
    "Când răspunzi, urmează aceste reguli:\n",
    " - Explică termenii juridici într-un mod clar, ca și cum ai vorbi cu cineva fără pregătire juridică.\n",
    " - Fii concis, dar oferă informații corecte și complete.\n",
    " - Dacă este cazul, poți cita articole de lege (ex: „Conform articolului X din Codul Muncii...”).\n",
    " - Nu inventa informații. Dacă întrebarea nu are un răspuns clar în documentele juridice disponibile, spune că nu poți oferi un răspuns sigur.\n",
    " - Nu oferi sfaturi legale personalizate; explică doar cadrul legal general.\n",
    "\n",
    "Întrebarea utilizatorului este: {question}\n",
    "\n",
    "Folosește următoarele informații extrase din documentele juridice:\n",
    "{context}\n",
    "\n",
    "Răspunsul tău trebuie să fie în limba română, clar, politicos și ușor de înțeles.\n",
    "\"\"\"\n",
    "\n",
    "start_testing(models_list, tests_list, prompt)"
   ]
  },
  {
   "cell_type": "markdown",
   "id": "425b65b9",
   "metadata": {},
   "source": [
    "### **Summary of Romanian Prompt Testing for Three Models**\n",
    "\n",
    "I tested three language models — **Rollama3-8b**, **Rollama2-7b**, and **Mistral** — on six legal questions in Romanian. Each model’s responses were evaluated based on four key aspects: **relevance** (if the answer matches the question), **recall** (if it uses the correct information), **faithfulness** (if it’s factually accurate), and **understanding** (if it’s easy to read).\n",
    "\n",
    "#### ✅ Rollama3-8b\n",
    "\n",
    "* This model had the **best results overall**.\n",
    "* **4 out of 6 answers** passed at least two evaluation tests.\n",
    "* The answers were **grammatically correct** and mostly accurate.\n",
    "* However, some responses were **too long and complicated**, which made them harder to understand.\n",
    "\n",
    "#### ⚠️ Rollama2-7b\n",
    "\n",
    "* Performance was **average**.\n",
    "* It gave **3 strong answers** out of 6.\n",
    "* The language was sometimes **easier to read** than Rollama3, but there were **grammar mistakes** and **some incorrect or missing legal facts**.\n",
    "* Still, it could be a decent alternative depending on the use case.\n",
    "\n",
    "#### ❌ Mistral\n",
    "\n",
    "* This model had the **worst performance**.\n",
    "* Although **4 answers passed** two tests, **one answer failed all tests**.\n",
    "* The grammar was **poor**, and many sentences were **confusing or incorrect**.\n",
    "* The output often included **nonsense words**, **contradictions**, or **legal errors**.\n",
    "\n",
    "I **expected Mistral to perform poorly** since it wasn’t trained on Romanian data. Because of this and its low quality, I’ve decided to **drop Mistral** from my testing process. This will also help make the prompt testing process **faster and more focused**."
   ]
  },
  {
   "cell_type": "markdown",
   "id": "f6cd0592",
   "metadata": {},
   "source": [
    "### **Summary of Prompt Changes and Their Purpose**\n",
    "\n",
    "You updated your prompt to improve the quality and reliability of answers in Romanian, especially when testing models like Rollama and Mistral. Below are the main changes you made and why:\n",
    "\n",
    "---\n",
    "\n",
    "#### 1. **Changed role from “asistent juridic” to “ghid juridic”**\n",
    "\n",
    "* **Before**: “Ești un asistent juridic virtual...”\n",
    "* **Now**: “Ești un ghid juridic virtual...”\n",
    "* **Reason**: \"Ghid\" sounds more accessible and avoids confusion with professional legal advisors. It better reflects the goal of explaining the law in simple terms.\n",
    "\n",
    "---\n",
    "\n",
    "#### 2. **Removed the option to cite legal articles**\n",
    "\n",
    "* **Before**: “Dacă este cazul, poți cita articole de lege...”\n",
    "* **Now**: “Nu cita articole de lege și nu inventa numere de articole.”\n",
    "* **Reason**: Many models (especially Mistral) hallucinate article numbers. Removing this prevents factual errors and misleading answers.\n",
    "\n",
    "---\n",
    "\n",
    "#### 3. **Clear fallback when information is missing**\n",
    "\n",
    "* **Before**: “...spune că nu poți oferi un răspuns sigur.”\n",
    "* **Now**: “...răspunde cu: „Nu am putut genera un răspuns.””\n",
    "* **Reason**: You wanted a **consistent and predictable fallback** when the context is unclear or insufficient, instead of vague answers.\n",
    "\n",
    "---\n",
    "\n",
    "#### 4. **Added guidance for short, clear phrasing**\n",
    "\n",
    "* **New rule**: “Scrie răspunsul în propoziții scurte și clare. Poți folosi listă cu puncte, dacă este nevoie.”\n",
    "* **Reason**: Some responses from the models were long and hard to understand. This rule improves clarity and readability.\n",
    "\n",
    "---\n",
    "\n",
    "### ✅ **Overall Goal of the Changes**\n",
    "\n",
    "These updates help the model:\n",
    "\n",
    "* stay grounded in the provided context,\n",
    "* avoid hallucinations,\n",
    "* use simple, readable language,\n",
    "* and fail gracefully when unsure.\n",
    "\n",
    "This makes the testing process **more reliable** and results easier to evaluate.\n"
   ]
  },
  {
   "cell_type": "code",
   "execution_count": 18,
   "id": "8dfd8068",
   "metadata": {},
   "outputs": [
    {
     "name": "stdout",
     "output_type": "stream",
     "text": [
      "Running tests for query: Cât timp poate fi reținută o persoană înainte de a fi arestată?\n",
      "Using model: rollama3-8b-instruct\n"
     ]
    },
    {
     "data": {
      "text/html": [
       "<pre style=\"white-space:pre;overflow-x:auto;line-height:normal;font-family:Menlo,'DejaVu Sans Mono',consolas,'Courier New',monospace\">\n",
       "<span style=\"color: #05f58d; text-decoration-color: #05f58d\">✓</span> Tests finished 🎉! Run <span style=\"color: #008000; text-decoration-color: #008000; font-weight: bold\">'deepeval login'</span> to save and analyze evaluation results on Confident AI.\n",
       " \n",
       "✨👀 Looking for a place for your LLM test data to live 🏡❤️ ? Use <span style=\"color: #6a00ff; text-decoration-color: #6a00ff\">Confident AI</span> to get &amp; share testing reports, \n",
       "experiment with models/prompts, and catch regressions for your LLM system. Just run <span style=\"color: #008080; text-decoration-color: #008080\">'deepeval login'</span> in the CLI. \n",
       "\n",
       "</pre>\n"
      ],
      "text/plain": [
       "\n",
       "\u001b[38;2;5;245;141m✓\u001b[0m Tests finished 🎉! Run \u001b[1;32m'deepeval login'\u001b[0m to save and analyze evaluation results on Confident AI.\n",
       " \n",
       "✨👀 Looking for a place for your LLM test data to live 🏡❤️ ? Use \u001b[38;2;106;0;255mConfident AI\u001b[0m to get & share testing reports, \n",
       "experiment with models/prompts, and catch regressions for your LLM system. Just run \u001b[36m'deepeval login'\u001b[0m in the CLI. \n",
       "\n"
      ]
     },
     "metadata": {},
     "output_type": "display_data"
    },
    {
     "data": {
      "text/html": [
       "<pre style=\"white-space:pre;overflow-x:auto;line-height:normal;font-family:Menlo,'DejaVu Sans Mono',consolas,'Courier New',monospace\">\n",
       "<span style=\"color: #05f58d; text-decoration-color: #05f58d\">✓</span> Tests finished 🎉! Run <span style=\"color: #008000; text-decoration-color: #008000; font-weight: bold\">'deepeval login'</span> to save and analyze evaluation results on Confident AI.\n",
       " \n",
       "✨👀 Looking for a place for your LLM test data to live 🏡❤️ ? Use <span style=\"color: #6a00ff; text-decoration-color: #6a00ff\">Confident AI</span> to get &amp; share testing reports, \n",
       "experiment with models/prompts, and catch regressions for your LLM system. Just run <span style=\"color: #008080; text-decoration-color: #008080\">'deepeval login'</span> in the CLI. \n",
       "\n",
       "</pre>\n"
      ],
      "text/plain": [
       "\n",
       "\u001b[38;2;5;245;141m✓\u001b[0m Tests finished 🎉! Run \u001b[1;32m'deepeval login'\u001b[0m to save and analyze evaluation results on Confident AI.\n",
       " \n",
       "✨👀 Looking for a place for your LLM test data to live 🏡❤️ ? Use \u001b[38;2;106;0;255mConfident AI\u001b[0m to get & share testing reports, \n",
       "experiment with models/prompts, and catch regressions for your LLM system. Just run \u001b[36m'deepeval login'\u001b[0m in the CLI. \n",
       "\n"
      ]
     },
     "metadata": {},
     "output_type": "display_data"
    },
    {
     "data": {
      "text/html": [
       "<pre style=\"white-space:pre;overflow-x:auto;line-height:normal;font-family:Menlo,'DejaVu Sans Mono',consolas,'Courier New',monospace\">\n",
       "<span style=\"color: #05f58d; text-decoration-color: #05f58d\">✓</span> Tests finished 🎉! Run <span style=\"color: #008000; text-decoration-color: #008000; font-weight: bold\">'deepeval login'</span> to save and analyze evaluation results on Confident AI.\n",
       " \n",
       "✨👀 Looking for a place for your LLM test data to live 🏡❤️ ? Use <span style=\"color: #6a00ff; text-decoration-color: #6a00ff\">Confident AI</span> to get &amp; share testing reports, \n",
       "experiment with models/prompts, and catch regressions for your LLM system. Just run <span style=\"color: #008080; text-decoration-color: #008080\">'deepeval login'</span> in the CLI. \n",
       "\n",
       "</pre>\n"
      ],
      "text/plain": [
       "\n",
       "\u001b[38;2;5;245;141m✓\u001b[0m Tests finished 🎉! Run \u001b[1;32m'deepeval login'\u001b[0m to save and analyze evaluation results on Confident AI.\n",
       " \n",
       "✨👀 Looking for a place for your LLM test data to live 🏡❤️ ? Use \u001b[38;2;106;0;255mConfident AI\u001b[0m to get & share testing reports, \n",
       "experiment with models/prompts, and catch regressions for your LLM system. Just run \u001b[36m'deepeval login'\u001b[0m in the CLI. \n",
       "\n"
      ]
     },
     "metadata": {},
     "output_type": "display_data"
    },
    {
     "data": {
      "text/html": [
       "<pre style=\"white-space:pre;overflow-x:auto;line-height:normal;font-family:Menlo,'DejaVu Sans Mono',consolas,'Courier New',monospace\">\n",
       "<span style=\"color: #05f58d; text-decoration-color: #05f58d\">✓</span> Tests finished 🎉! Run <span style=\"color: #008000; text-decoration-color: #008000; font-weight: bold\">'deepeval login'</span> to save and analyze evaluation results on Confident AI.\n",
       " \n",
       "✨👀 Looking for a place for your LLM test data to live 🏡❤️ ? Use <span style=\"color: #6a00ff; text-decoration-color: #6a00ff\">Confident AI</span> to get &amp; share testing reports, \n",
       "experiment with models/prompts, and catch regressions for your LLM system. Just run <span style=\"color: #008080; text-decoration-color: #008080\">'deepeval login'</span> in the CLI. \n",
       "\n",
       "</pre>\n"
      ],
      "text/plain": [
       "\n",
       "\u001b[38;2;5;245;141m✓\u001b[0m Tests finished 🎉! Run \u001b[1;32m'deepeval login'\u001b[0m to save and analyze evaluation results on Confident AI.\n",
       " \n",
       "✨👀 Looking for a place for your LLM test data to live 🏡❤️ ? Use \u001b[38;2;106;0;255mConfident AI\u001b[0m to get & share testing reports, \n",
       "experiment with models/prompts, and catch regressions for your LLM system. Just run \u001b[36m'deepeval login'\u001b[0m in the CLI. \n",
       "\n"
      ]
     },
     "metadata": {},
     "output_type": "display_data"
    },
    {
     "name": "stdout",
     "output_type": "stream",
     "text": [
      "\n",
      "            Query: Cât timp poate fi reținută o persoană înainte de a fi arestată?\n",
      "            Expected: Reținerea nu poate depăși 24 de ore. După acest termen, persoana trebuie eliberată sau arestată preventiv prin decizia unui judecător.\n",
      "            Actual: Potrivit Constituției României, un individ poate fi reținut timp de 24 de ore. În cursul urmăririi penale, arestarea preventivă se poate dispune pentru cel mult 30 de zile și poate fi prelungită cu maximum 30 de zile fără ca durata totală să depășească un termen rezonabil. Acesta nu poate depăși 180 de zile.\n",
      "            Relevancy Score: [{'metric': 'Answer Relevancy', 'success': False, 'score': 0.2, 'reason': 'The score is 0.20 because the output primarily discusses aspects of preventive arrest, which is not directly related to the initial detention period before arrest. While the topic of arrest is relevant, the focus on preventive arrest extensions and durations detracts from addressing the specific question about the initial detention period.'}]\n",
      "            Recall Score: [{'metric': 'Contextual Recall', 'success': True, 'score': 1.0, 'reason': 'The score is 1.00 because every sentence in the expected output is perfectly aligned with the nodes in the retrieval context, ensuring complete accuracy and relevance. Great job!'}]\n",
      "            Faithfulness Score: [{'metric': 'Faithfulness', 'success': True, 'score': 1.0, 'reason': 'The score is 1.00 because there are no contradictions present, indicating that the actual output perfectly aligns with the retrieval context.'}]\n",
      "            Understanding Score: [{'metric': 'Understanding (GEval)', 'success': False, 'score': 0.4566621125405243, 'reason': 'While the actual output provides some legal information, it is not clear and accessible for someone without legal knowledge, and it does not clearly state what the user must do after 24 hours.'}]\n",
      "            \n",
      "Using model: rollama2-7b-instruct\n"
     ]
    },
    {
     "data": {
      "text/html": [
       "<pre style=\"white-space:pre;overflow-x:auto;line-height:normal;font-family:Menlo,'DejaVu Sans Mono',consolas,'Courier New',monospace\">\n",
       "<span style=\"color: #05f58d; text-decoration-color: #05f58d\">✓</span> Tests finished 🎉! Run <span style=\"color: #008000; text-decoration-color: #008000; font-weight: bold\">'deepeval login'</span> to save and analyze evaluation results on Confident AI.\n",
       " \n",
       "✨👀 Looking for a place for your LLM test data to live 🏡❤️ ? Use <span style=\"color: #6a00ff; text-decoration-color: #6a00ff\">Confident AI</span> to get &amp; share testing reports, \n",
       "experiment with models/prompts, and catch regressions for your LLM system. Just run <span style=\"color: #008080; text-decoration-color: #008080\">'deepeval login'</span> in the CLI. \n",
       "\n",
       "</pre>\n"
      ],
      "text/plain": [
       "\n",
       "\u001b[38;2;5;245;141m✓\u001b[0m Tests finished 🎉! Run \u001b[1;32m'deepeval login'\u001b[0m to save and analyze evaluation results on Confident AI.\n",
       " \n",
       "✨👀 Looking for a place for your LLM test data to live 🏡❤️ ? Use \u001b[38;2;106;0;255mConfident AI\u001b[0m to get & share testing reports, \n",
       "experiment with models/prompts, and catch regressions for your LLM system. Just run \u001b[36m'deepeval login'\u001b[0m in the CLI. \n",
       "\n"
      ]
     },
     "metadata": {},
     "output_type": "display_data"
    },
    {
     "data": {
      "text/html": [
       "<pre style=\"white-space:pre;overflow-x:auto;line-height:normal;font-family:Menlo,'DejaVu Sans Mono',consolas,'Courier New',monospace\">\n",
       "<span style=\"color: #05f58d; text-decoration-color: #05f58d\">✓</span> Tests finished 🎉! Run <span style=\"color: #008000; text-decoration-color: #008000; font-weight: bold\">'deepeval login'</span> to save and analyze evaluation results on Confident AI.\n",
       " \n",
       "✨👀 Looking for a place for your LLM test data to live 🏡❤️ ? Use <span style=\"color: #6a00ff; text-decoration-color: #6a00ff\">Confident AI</span> to get &amp; share testing reports, \n",
       "experiment with models/prompts, and catch regressions for your LLM system. Just run <span style=\"color: #008080; text-decoration-color: #008080\">'deepeval login'</span> in the CLI. \n",
       "\n",
       "</pre>\n"
      ],
      "text/plain": [
       "\n",
       "\u001b[38;2;5;245;141m✓\u001b[0m Tests finished 🎉! Run \u001b[1;32m'deepeval login'\u001b[0m to save and analyze evaluation results on Confident AI.\n",
       " \n",
       "✨👀 Looking for a place for your LLM test data to live 🏡❤️ ? Use \u001b[38;2;106;0;255mConfident AI\u001b[0m to get & share testing reports, \n",
       "experiment with models/prompts, and catch regressions for your LLM system. Just run \u001b[36m'deepeval login'\u001b[0m in the CLI. \n",
       "\n"
      ]
     },
     "metadata": {},
     "output_type": "display_data"
    },
    {
     "data": {
      "text/html": [
       "<pre style=\"white-space:pre;overflow-x:auto;line-height:normal;font-family:Menlo,'DejaVu Sans Mono',consolas,'Courier New',monospace\">\n",
       "<span style=\"color: #05f58d; text-decoration-color: #05f58d\">✓</span> Tests finished 🎉! Run <span style=\"color: #008000; text-decoration-color: #008000; font-weight: bold\">'deepeval login'</span> to save and analyze evaluation results on Confident AI.\n",
       " \n",
       "✨👀 Looking for a place for your LLM test data to live 🏡❤️ ? Use <span style=\"color: #6a00ff; text-decoration-color: #6a00ff\">Confident AI</span> to get &amp; share testing reports, \n",
       "experiment with models/prompts, and catch regressions for your LLM system. Just run <span style=\"color: #008080; text-decoration-color: #008080\">'deepeval login'</span> in the CLI. \n",
       "\n",
       "</pre>\n"
      ],
      "text/plain": [
       "\n",
       "\u001b[38;2;5;245;141m✓\u001b[0m Tests finished 🎉! Run \u001b[1;32m'deepeval login'\u001b[0m to save and analyze evaluation results on Confident AI.\n",
       " \n",
       "✨👀 Looking for a place for your LLM test data to live 🏡❤️ ? Use \u001b[38;2;106;0;255mConfident AI\u001b[0m to get & share testing reports, \n",
       "experiment with models/prompts, and catch regressions for your LLM system. Just run \u001b[36m'deepeval login'\u001b[0m in the CLI. \n",
       "\n"
      ]
     },
     "metadata": {},
     "output_type": "display_data"
    },
    {
     "data": {
      "text/html": [
       "<pre style=\"white-space:pre;overflow-x:auto;line-height:normal;font-family:Menlo,'DejaVu Sans Mono',consolas,'Courier New',monospace\">\n",
       "<span style=\"color: #05f58d; text-decoration-color: #05f58d\">✓</span> Tests finished 🎉! Run <span style=\"color: #008000; text-decoration-color: #008000; font-weight: bold\">'deepeval login'</span> to save and analyze evaluation results on Confident AI.\n",
       " \n",
       "✨👀 Looking for a place for your LLM test data to live 🏡❤️ ? Use <span style=\"color: #6a00ff; text-decoration-color: #6a00ff\">Confident AI</span> to get &amp; share testing reports, \n",
       "experiment with models/prompts, and catch regressions for your LLM system. Just run <span style=\"color: #008080; text-decoration-color: #008080\">'deepeval login'</span> in the CLI. \n",
       "\n",
       "</pre>\n"
      ],
      "text/plain": [
       "\n",
       "\u001b[38;2;5;245;141m✓\u001b[0m Tests finished 🎉! Run \u001b[1;32m'deepeval login'\u001b[0m to save and analyze evaluation results on Confident AI.\n",
       " \n",
       "✨👀 Looking for a place for your LLM test data to live 🏡❤️ ? Use \u001b[38;2;106;0;255mConfident AI\u001b[0m to get & share testing reports, \n",
       "experiment with models/prompts, and catch regressions for your LLM system. Just run \u001b[36m'deepeval login'\u001b[0m in the CLI. \n",
       "\n"
      ]
     },
     "metadata": {},
     "output_type": "display_data"
    },
    {
     "name": "stdout",
     "output_type": "stream",
     "text": [
      "\n",
      "            Query: Cât timp poate fi reținută o persoană înainte de a fi arestată?\n",
      "            Expected: Reținerea nu poate depăși 24 de ore. După acest termen, persoana trebuie eliberată sau arestată preventiv prin decizia unui judecător.\n",
      "            Actual: Întrebarea utilizatorului este: Cât timp poate fi reținută o persoană înainte de a fi arestată?\n",
      "\n",
      "Răspunsul tău trebuie să fie în limba română, clar, politicos și ușor de înțeles. \n",
      "            Relevancy Score: [{'metric': 'Answer Relevancy', 'success': False, 'score': 0.2, 'reason': 'The score is 0.20 because the response included several irrelevant aspects such as language, clarity, politeness, and ease of understanding, which do not directly address the question about the duration a person can be detained before arrest. However, the score is not lower because the response may have contained some elements that were tangentially related to the topic.'}]\n",
      "            Recall Score: [{'metric': 'Contextual Recall', 'success': True, 'score': 1.0, 'reason': 'The score is 1.00 because every sentence in the expected output is perfectly aligned with the nodes in the retrieval context, ensuring complete accuracy and relevance. Great job!'}]\n",
      "            Faithfulness Score: [{'metric': 'Faithfulness', 'success': True, 'score': 1.0, 'reason': 'The score is 1.00 because there are no contradictions present, indicating that the actual output perfectly aligns with the retrieval context.'}]\n",
      "            Understanding Score: [{'metric': 'Understanding (GEval)', 'success': False, 'score': 0.21872363755232463, 'reason': \"The actual output does not provide a clear answer to the user's question about the duration of detention, failing to inform what the user is allowed or required to do.\"}]\n",
      "            \n",
      "Finished tests for model: rollama2-7b-instruct\n",
      "\n",
      "==================================================\n",
      "\n",
      "\n",
      "Running tests for query: Care sunt drepturile cetățeanului român?\n",
      "Using model: rollama3-8b-instruct\n"
     ]
    },
    {
     "data": {
      "text/html": [
       "<pre style=\"white-space:pre;overflow-x:auto;line-height:normal;font-family:Menlo,'DejaVu Sans Mono',consolas,'Courier New',monospace\">\n",
       "<span style=\"color: #05f58d; text-decoration-color: #05f58d\">✓</span> Tests finished 🎉! Run <span style=\"color: #008000; text-decoration-color: #008000; font-weight: bold\">'deepeval login'</span> to save and analyze evaluation results on Confident AI.\n",
       " \n",
       "✨👀 Looking for a place for your LLM test data to live 🏡❤️ ? Use <span style=\"color: #6a00ff; text-decoration-color: #6a00ff\">Confident AI</span> to get &amp; share testing reports, \n",
       "experiment with models/prompts, and catch regressions for your LLM system. Just run <span style=\"color: #008080; text-decoration-color: #008080\">'deepeval login'</span> in the CLI. \n",
       "\n",
       "</pre>\n"
      ],
      "text/plain": [
       "\n",
       "\u001b[38;2;5;245;141m✓\u001b[0m Tests finished 🎉! Run \u001b[1;32m'deepeval login'\u001b[0m to save and analyze evaluation results on Confident AI.\n",
       " \n",
       "✨👀 Looking for a place for your LLM test data to live 🏡❤️ ? Use \u001b[38;2;106;0;255mConfident AI\u001b[0m to get & share testing reports, \n",
       "experiment with models/prompts, and catch regressions for your LLM system. Just run \u001b[36m'deepeval login'\u001b[0m in the CLI. \n",
       "\n"
      ]
     },
     "metadata": {},
     "output_type": "display_data"
    },
    {
     "data": {
      "text/html": [
       "<pre style=\"white-space:pre;overflow-x:auto;line-height:normal;font-family:Menlo,'DejaVu Sans Mono',consolas,'Courier New',monospace\">\n",
       "<span style=\"color: #05f58d; text-decoration-color: #05f58d\">✓</span> Tests finished 🎉! Run <span style=\"color: #008000; text-decoration-color: #008000; font-weight: bold\">'deepeval login'</span> to save and analyze evaluation results on Confident AI.\n",
       " \n",
       "✨👀 Looking for a place for your LLM test data to live 🏡❤️ ? Use <span style=\"color: #6a00ff; text-decoration-color: #6a00ff\">Confident AI</span> to get &amp; share testing reports, \n",
       "experiment with models/prompts, and catch regressions for your LLM system. Just run <span style=\"color: #008080; text-decoration-color: #008080\">'deepeval login'</span> in the CLI. \n",
       "\n",
       "</pre>\n"
      ],
      "text/plain": [
       "\n",
       "\u001b[38;2;5;245;141m✓\u001b[0m Tests finished 🎉! Run \u001b[1;32m'deepeval login'\u001b[0m to save and analyze evaluation results on Confident AI.\n",
       " \n",
       "✨👀 Looking for a place for your LLM test data to live 🏡❤️ ? Use \u001b[38;2;106;0;255mConfident AI\u001b[0m to get & share testing reports, \n",
       "experiment with models/prompts, and catch regressions for your LLM system. Just run \u001b[36m'deepeval login'\u001b[0m in the CLI. \n",
       "\n"
      ]
     },
     "metadata": {},
     "output_type": "display_data"
    },
    {
     "data": {
      "text/html": [
       "<pre style=\"white-space:pre;overflow-x:auto;line-height:normal;font-family:Menlo,'DejaVu Sans Mono',consolas,'Courier New',monospace\">\n",
       "<span style=\"color: #05f58d; text-decoration-color: #05f58d\">✓</span> Tests finished 🎉! Run <span style=\"color: #008000; text-decoration-color: #008000; font-weight: bold\">'deepeval login'</span> to save and analyze evaluation results on Confident AI.\n",
       " \n",
       "✨👀 Looking for a place for your LLM test data to live 🏡❤️ ? Use <span style=\"color: #6a00ff; text-decoration-color: #6a00ff\">Confident AI</span> to get &amp; share testing reports, \n",
       "experiment with models/prompts, and catch regressions for your LLM system. Just run <span style=\"color: #008080; text-decoration-color: #008080\">'deepeval login'</span> in the CLI. \n",
       "\n",
       "</pre>\n"
      ],
      "text/plain": [
       "\n",
       "\u001b[38;2;5;245;141m✓\u001b[0m Tests finished 🎉! Run \u001b[1;32m'deepeval login'\u001b[0m to save and analyze evaluation results on Confident AI.\n",
       " \n",
       "✨👀 Looking for a place for your LLM test data to live 🏡❤️ ? Use \u001b[38;2;106;0;255mConfident AI\u001b[0m to get & share testing reports, \n",
       "experiment with models/prompts, and catch regressions for your LLM system. Just run \u001b[36m'deepeval login'\u001b[0m in the CLI. \n",
       "\n"
      ]
     },
     "metadata": {},
     "output_type": "display_data"
    },
    {
     "data": {
      "text/html": [
       "<pre style=\"white-space:pre;overflow-x:auto;line-height:normal;font-family:Menlo,'DejaVu Sans Mono',consolas,'Courier New',monospace\">\n",
       "<span style=\"color: #05f58d; text-decoration-color: #05f58d\">✓</span> Tests finished 🎉! Run <span style=\"color: #008000; text-decoration-color: #008000; font-weight: bold\">'deepeval login'</span> to save and analyze evaluation results on Confident AI.\n",
       " \n",
       "✨👀 Looking for a place for your LLM test data to live 🏡❤️ ? Use <span style=\"color: #6a00ff; text-decoration-color: #6a00ff\">Confident AI</span> to get &amp; share testing reports, \n",
       "experiment with models/prompts, and catch regressions for your LLM system. Just run <span style=\"color: #008080; text-decoration-color: #008080\">'deepeval login'</span> in the CLI. \n",
       "\n",
       "</pre>\n"
      ],
      "text/plain": [
       "\n",
       "\u001b[38;2;5;245;141m✓\u001b[0m Tests finished 🎉! Run \u001b[1;32m'deepeval login'\u001b[0m to save and analyze evaluation results on Confident AI.\n",
       " \n",
       "✨👀 Looking for a place for your LLM test data to live 🏡❤️ ? Use \u001b[38;2;106;0;255mConfident AI\u001b[0m to get & share testing reports, \n",
       "experiment with models/prompts, and catch regressions for your LLM system. Just run \u001b[36m'deepeval login'\u001b[0m in the CLI. \n",
       "\n"
      ]
     },
     "metadata": {},
     "output_type": "display_data"
    },
    {
     "name": "stdout",
     "output_type": "stream",
     "text": [
      "\n",
      "            Query: Care sunt drepturile cetățeanului român?\n",
      "            Expected: Cetățeanul român beneficiază de drepturi și libertăți fundamentale în toate domeniile vieții. Drepturile civile și politice includ dreptul la viață, libertatea individuală, dreptul la apărare, dreptul de vot de la 18 ani și eligibilitatea pentru funcții publice. Libertățile fundamentale cuprind libertatea gândirii și credinței religioase, libertatea de exprimare, dreptul la informație și dreptul de asociere în partide și sindicate. Drepturile economice și sociale garantează munca liber aleasă, greva, proprietatea privată, moștenirea, pensia și asistența medicală. În plus, cetățenii au dreptul la învățătură, acces la cultură, un mediu sănătos și protecția statului în străinătate.\n",
      "            Actual: Cetățenii români au următoarele drepturi:\n",
      "\n",
      "- Sunt egali în fața legii și a autorităților publice, fără privilegii sau discriminări. \n",
      "- Nimeni nu este mai presus de lege.\n",
      "- Funcțiile și demnitățile publice, civile sau militare pot fi ocupate numai de persoanele care au cetățenia română și domiciliul în țară. Statul garantează egalitatea de șanse între femei și bărbați pentru ocuparea acestor funcții și demnități.\n",
      "- Cetățenii Uniunii Europene care îndeplinesc cerințele legale au dreptul de a alege și de a fi aleși în autoritățile administrative publice locale. \n",
      "- Dispozițiile constituționale privind drepturile și libertățile cetățenilor vor fi interpretate și aplicate în concordanță cu Declarația Universală a Drepturilor Omului, pactele internaționale și celelalte tratate la care România este parte.\n",
      "- Dacă există neconcordanțe între pactele și tratatele privind drepturile fundamentale ale omului, la care România este parte, și legile interne, au prioritate dispozițiile internaționale, cu excepția cazului în care Constituția sau legile interne conțin dispoziții mai favorabile. \n",
      "- În lipsa unui proces echitabil, nu există nicio autoritate juridică în România.\n",
      "- Fiecare persoană are dreptul de a accesa justiția și are o durată maximă de 30 de minute pentru prezentarea cazului lor. \n",
      "- Cetățenii pot aduce la cunoștința autorităților publice orice abuz sau act negativ efectuat împotriva drepturilor și libertăților constituționale.\n",
      "            Relevancy Score: [{'metric': 'Answer Relevancy', 'success': True, 'score': 0.7, 'reason': \"The score is 0.70 because the output provides relevant information about the rights of Romanian citizens, but includes some irrelevant details about EU citizens and general legal principles, which slightly detract from the focus on Romanian citizens' rights.\"}]\n",
      "            Recall Score: [{'metric': 'Contextual Recall', 'success': False, 'score': 0.4, 'reason': 'The score is 0.40 because while the 1st and 2nd nodes in the retrieval context align with sentences about fundamental rights and voting, many other aspects such as religious freedom, economic rights, and cultural access are not covered by the nodes, leading to a lower contextual recall.'}]\n",
      "            Faithfulness Score: [{'metric': 'Faithfulness', 'success': False, 'score': 0.6, 'reason': 'The score is 0.60 because the actual output inaccurately states that public functions are exclusively for Romanian citizens and residents, contradicting the retrieval context which allows for broader eligibility. Additionally, it misrepresents the interpretation of constitutional provisions, suggesting alignment with international treaties rather than the Universal Declaration of Human Rights. Furthermore, it overlooks the exception regarding the precedence of international provisions when more favorable internal laws exist. Lastly, the claim about a 30-minute access to justice is not supported by the retrieval context.'}]\n",
      "            Understanding Score: [{'metric': 'Understanding (GEval)', 'success': False, 'score': 0.5086257033270349, 'reason': 'While the actual output lists several rights of Romanian citizens, it lacks clarity and accessibility for someone without legal knowledge, making it difficult for users to understand their rights and obligations.'}]\n",
      "            \n",
      "Using model: rollama2-7b-instruct\n"
     ]
    },
    {
     "data": {
      "text/html": [
       "<pre style=\"white-space:pre;overflow-x:auto;line-height:normal;font-family:Menlo,'DejaVu Sans Mono',consolas,'Courier New',monospace\">\n",
       "<span style=\"color: #05f58d; text-decoration-color: #05f58d\">✓</span> Tests finished 🎉! Run <span style=\"color: #008000; text-decoration-color: #008000; font-weight: bold\">'deepeval login'</span> to save and analyze evaluation results on Confident AI.\n",
       " \n",
       "✨👀 Looking for a place for your LLM test data to live 🏡❤️ ? Use <span style=\"color: #6a00ff; text-decoration-color: #6a00ff\">Confident AI</span> to get &amp; share testing reports, \n",
       "experiment with models/prompts, and catch regressions for your LLM system. Just run <span style=\"color: #008080; text-decoration-color: #008080\">'deepeval login'</span> in the CLI. \n",
       "\n",
       "</pre>\n"
      ],
      "text/plain": [
       "\n",
       "\u001b[38;2;5;245;141m✓\u001b[0m Tests finished 🎉! Run \u001b[1;32m'deepeval login'\u001b[0m to save and analyze evaluation results on Confident AI.\n",
       " \n",
       "✨👀 Looking for a place for your LLM test data to live 🏡❤️ ? Use \u001b[38;2;106;0;255mConfident AI\u001b[0m to get & share testing reports, \n",
       "experiment with models/prompts, and catch regressions for your LLM system. Just run \u001b[36m'deepeval login'\u001b[0m in the CLI. \n",
       "\n"
      ]
     },
     "metadata": {},
     "output_type": "display_data"
    },
    {
     "data": {
      "text/html": [
       "<pre style=\"white-space:pre;overflow-x:auto;line-height:normal;font-family:Menlo,'DejaVu Sans Mono',consolas,'Courier New',monospace\">\n",
       "<span style=\"color: #05f58d; text-decoration-color: #05f58d\">✓</span> Tests finished 🎉! Run <span style=\"color: #008000; text-decoration-color: #008000; font-weight: bold\">'deepeval login'</span> to save and analyze evaluation results on Confident AI.\n",
       " \n",
       "✨👀 Looking for a place for your LLM test data to live 🏡❤️ ? Use <span style=\"color: #6a00ff; text-decoration-color: #6a00ff\">Confident AI</span> to get &amp; share testing reports, \n",
       "experiment with models/prompts, and catch regressions for your LLM system. Just run <span style=\"color: #008080; text-decoration-color: #008080\">'deepeval login'</span> in the CLI. \n",
       "\n",
       "</pre>\n"
      ],
      "text/plain": [
       "\n",
       "\u001b[38;2;5;245;141m✓\u001b[0m Tests finished 🎉! Run \u001b[1;32m'deepeval login'\u001b[0m to save and analyze evaluation results on Confident AI.\n",
       " \n",
       "✨👀 Looking for a place for your LLM test data to live 🏡❤️ ? Use \u001b[38;2;106;0;255mConfident AI\u001b[0m to get & share testing reports, \n",
       "experiment with models/prompts, and catch regressions for your LLM system. Just run \u001b[36m'deepeval login'\u001b[0m in the CLI. \n",
       "\n"
      ]
     },
     "metadata": {},
     "output_type": "display_data"
    },
    {
     "data": {
      "text/html": [
       "<pre style=\"white-space:pre;overflow-x:auto;line-height:normal;font-family:Menlo,'DejaVu Sans Mono',consolas,'Courier New',monospace\">\n",
       "<span style=\"color: #05f58d; text-decoration-color: #05f58d\">✓</span> Tests finished 🎉! Run <span style=\"color: #008000; text-decoration-color: #008000; font-weight: bold\">'deepeval login'</span> to save and analyze evaluation results on Confident AI.\n",
       " \n",
       "✨👀 Looking for a place for your LLM test data to live 🏡❤️ ? Use <span style=\"color: #6a00ff; text-decoration-color: #6a00ff\">Confident AI</span> to get &amp; share testing reports, \n",
       "experiment with models/prompts, and catch regressions for your LLM system. Just run <span style=\"color: #008080; text-decoration-color: #008080\">'deepeval login'</span> in the CLI. \n",
       "\n",
       "</pre>\n"
      ],
      "text/plain": [
       "\n",
       "\u001b[38;2;5;245;141m✓\u001b[0m Tests finished 🎉! Run \u001b[1;32m'deepeval login'\u001b[0m to save and analyze evaluation results on Confident AI.\n",
       " \n",
       "✨👀 Looking for a place for your LLM test data to live 🏡❤️ ? Use \u001b[38;2;106;0;255mConfident AI\u001b[0m to get & share testing reports, \n",
       "experiment with models/prompts, and catch regressions for your LLM system. Just run \u001b[36m'deepeval login'\u001b[0m in the CLI. \n",
       "\n"
      ]
     },
     "metadata": {},
     "output_type": "display_data"
    },
    {
     "data": {
      "text/html": [
       "<pre style=\"white-space:pre;overflow-x:auto;line-height:normal;font-family:Menlo,'DejaVu Sans Mono',consolas,'Courier New',monospace\">\n",
       "<span style=\"color: #05f58d; text-decoration-color: #05f58d\">✓</span> Tests finished 🎉! Run <span style=\"color: #008000; text-decoration-color: #008000; font-weight: bold\">'deepeval login'</span> to save and analyze evaluation results on Confident AI.\n",
       " \n",
       "✨👀 Looking for a place for your LLM test data to live 🏡❤️ ? Use <span style=\"color: #6a00ff; text-decoration-color: #6a00ff\">Confident AI</span> to get &amp; share testing reports, \n",
       "experiment with models/prompts, and catch regressions for your LLM system. Just run <span style=\"color: #008080; text-decoration-color: #008080\">'deepeval login'</span> in the CLI. \n",
       "\n",
       "</pre>\n"
      ],
      "text/plain": [
       "\n",
       "\u001b[38;2;5;245;141m✓\u001b[0m Tests finished 🎉! Run \u001b[1;32m'deepeval login'\u001b[0m to save and analyze evaluation results on Confident AI.\n",
       " \n",
       "✨👀 Looking for a place for your LLM test data to live 🏡❤️ ? Use \u001b[38;2;106;0;255mConfident AI\u001b[0m to get & share testing reports, \n",
       "experiment with models/prompts, and catch regressions for your LLM system. Just run \u001b[36m'deepeval login'\u001b[0m in the CLI. \n",
       "\n"
      ]
     },
     "metadata": {},
     "output_type": "display_data"
    },
    {
     "name": "stdout",
     "output_type": "stream",
     "text": [
      "\n",
      "            Query: Care sunt drepturile cetățeanului român?\n",
      "            Expected: Cetățeanul român beneficiază de drepturi și libertăți fundamentale în toate domeniile vieții. Drepturile civile și politice includ dreptul la viață, libertatea individuală, dreptul la apărare, dreptul de vot de la 18 ani și eligibilitatea pentru funcții publice. Libertățile fundamentale cuprind libertatea gândirii și credinței religioase, libertatea de exprimare, dreptul la informație și dreptul de asociere în partide și sindicate. Drepturile economice și sociale garantează munca liber aleasă, greva, proprietatea privată, moștenirea, pensia și asistența medicală. În plus, cetățenii au dreptul la învățătură, acces la cultură, un mediu sănătos și protecția statului în străinătate.\n",
      "            Actual: \n",
      "În calitate de cetățean român, aveți anumite drepturi și libertăți protejate prin Constituția României. Acestea includ libertatea de exprimare, libertatea de asociere, accesul la informații publice și protecție în fața discriminării și a abuzurilor. În plus, aveți dreptul de a vă adresa instanței pentru apărarea drepturilor și libertăților dvs., precum și accesul la justiție egală. \n",
      "            Relevancy Score: [{'metric': 'Answer Relevancy', 'success': True, 'score': 1.0, 'reason': 'The score is 1.00 because the response perfectly addresses the question about the rights of a Romanian citizen without any irrelevant information. Great job on staying focused and relevant!'}]\n",
      "            Recall Score: [{'metric': 'Contextual Recall', 'success': False, 'score': 0.4, 'reason': 'The score is 0.40 because while the 1st and 2nd nodes in the retrieval context align with sentences about constitutional rights and voting, many other aspects such as religious freedom, economic rights, and cultural access are not covered by the nodes, leading to a lower contextual recall.'}]\n",
      "            Faithfulness Score: [{'metric': 'Faithfulness', 'success': True, 'score': 1.0, 'reason': 'The score is 1.00 because there are no contradictions present, indicating that the actual output perfectly aligns with the retrieval context.'}]\n",
      "            Understanding Score: [{'metric': 'Understanding (GEval)', 'success': False, 'score': 0.59646674113003, 'reason': 'The response outlines some rights of Romanian citizens clearly, but it lacks the comprehensive detail found in the expected output, which includes a broader range of rights and freedoms.'}]\n",
      "            \n",
      "Finished tests for model: rollama2-7b-instruct\n",
      "\n",
      "==================================================\n",
      "\n",
      "\n",
      "Running tests for query: Ce obligație are angajatorul înainte de încheierea contractului individual de muncă?\n",
      "Using model: rollama3-8b-instruct\n"
     ]
    },
    {
     "data": {
      "text/html": [
       "<pre style=\"white-space:pre;overflow-x:auto;line-height:normal;font-family:Menlo,'DejaVu Sans Mono',consolas,'Courier New',monospace\">\n",
       "<span style=\"color: #05f58d; text-decoration-color: #05f58d\">✓</span> Tests finished 🎉! Run <span style=\"color: #008000; text-decoration-color: #008000; font-weight: bold\">'deepeval login'</span> to save and analyze evaluation results on Confident AI.\n",
       " \n",
       "✨👀 Looking for a place for your LLM test data to live 🏡❤️ ? Use <span style=\"color: #6a00ff; text-decoration-color: #6a00ff\">Confident AI</span> to get &amp; share testing reports, \n",
       "experiment with models/prompts, and catch regressions for your LLM system. Just run <span style=\"color: #008080; text-decoration-color: #008080\">'deepeval login'</span> in the CLI. \n",
       "\n",
       "</pre>\n"
      ],
      "text/plain": [
       "\n",
       "\u001b[38;2;5;245;141m✓\u001b[0m Tests finished 🎉! Run \u001b[1;32m'deepeval login'\u001b[0m to save and analyze evaluation results on Confident AI.\n",
       " \n",
       "✨👀 Looking for a place for your LLM test data to live 🏡❤️ ? Use \u001b[38;2;106;0;255mConfident AI\u001b[0m to get & share testing reports, \n",
       "experiment with models/prompts, and catch regressions for your LLM system. Just run \u001b[36m'deepeval login'\u001b[0m in the CLI. \n",
       "\n"
      ]
     },
     "metadata": {},
     "output_type": "display_data"
    },
    {
     "data": {
      "text/html": [
       "<pre style=\"white-space:pre;overflow-x:auto;line-height:normal;font-family:Menlo,'DejaVu Sans Mono',consolas,'Courier New',monospace\">\n",
       "<span style=\"color: #05f58d; text-decoration-color: #05f58d\">✓</span> Tests finished 🎉! Run <span style=\"color: #008000; text-decoration-color: #008000; font-weight: bold\">'deepeval login'</span> to save and analyze evaluation results on Confident AI.\n",
       " \n",
       "✨👀 Looking for a place for your LLM test data to live 🏡❤️ ? Use <span style=\"color: #6a00ff; text-decoration-color: #6a00ff\">Confident AI</span> to get &amp; share testing reports, \n",
       "experiment with models/prompts, and catch regressions for your LLM system. Just run <span style=\"color: #008080; text-decoration-color: #008080\">'deepeval login'</span> in the CLI. \n",
       "\n",
       "</pre>\n"
      ],
      "text/plain": [
       "\n",
       "\u001b[38;2;5;245;141m✓\u001b[0m Tests finished 🎉! Run \u001b[1;32m'deepeval login'\u001b[0m to save and analyze evaluation results on Confident AI.\n",
       " \n",
       "✨👀 Looking for a place for your LLM test data to live 🏡❤️ ? Use \u001b[38;2;106;0;255mConfident AI\u001b[0m to get & share testing reports, \n",
       "experiment with models/prompts, and catch regressions for your LLM system. Just run \u001b[36m'deepeval login'\u001b[0m in the CLI. \n",
       "\n"
      ]
     },
     "metadata": {},
     "output_type": "display_data"
    },
    {
     "data": {
      "text/html": [
       "<pre style=\"white-space:pre;overflow-x:auto;line-height:normal;font-family:Menlo,'DejaVu Sans Mono',consolas,'Courier New',monospace\">\n",
       "<span style=\"color: #05f58d; text-decoration-color: #05f58d\">✓</span> Tests finished 🎉! Run <span style=\"color: #008000; text-decoration-color: #008000; font-weight: bold\">'deepeval login'</span> to save and analyze evaluation results on Confident AI.\n",
       " \n",
       "✨👀 Looking for a place for your LLM test data to live 🏡❤️ ? Use <span style=\"color: #6a00ff; text-decoration-color: #6a00ff\">Confident AI</span> to get &amp; share testing reports, \n",
       "experiment with models/prompts, and catch regressions for your LLM system. Just run <span style=\"color: #008080; text-decoration-color: #008080\">'deepeval login'</span> in the CLI. \n",
       "\n",
       "</pre>\n"
      ],
      "text/plain": [
       "\n",
       "\u001b[38;2;5;245;141m✓\u001b[0m Tests finished 🎉! Run \u001b[1;32m'deepeval login'\u001b[0m to save and analyze evaluation results on Confident AI.\n",
       " \n",
       "✨👀 Looking for a place for your LLM test data to live 🏡❤️ ? Use \u001b[38;2;106;0;255mConfident AI\u001b[0m to get & share testing reports, \n",
       "experiment with models/prompts, and catch regressions for your LLM system. Just run \u001b[36m'deepeval login'\u001b[0m in the CLI. \n",
       "\n"
      ]
     },
     "metadata": {},
     "output_type": "display_data"
    },
    {
     "data": {
      "text/html": [
       "<pre style=\"white-space:pre;overflow-x:auto;line-height:normal;font-family:Menlo,'DejaVu Sans Mono',consolas,'Courier New',monospace\">\n",
       "<span style=\"color: #05f58d; text-decoration-color: #05f58d\">✓</span> Tests finished 🎉! Run <span style=\"color: #008000; text-decoration-color: #008000; font-weight: bold\">'deepeval login'</span> to save and analyze evaluation results on Confident AI.\n",
       " \n",
       "✨👀 Looking for a place for your LLM test data to live 🏡❤️ ? Use <span style=\"color: #6a00ff; text-decoration-color: #6a00ff\">Confident AI</span> to get &amp; share testing reports, \n",
       "experiment with models/prompts, and catch regressions for your LLM system. Just run <span style=\"color: #008080; text-decoration-color: #008080\">'deepeval login'</span> in the CLI. \n",
       "\n",
       "</pre>\n"
      ],
      "text/plain": [
       "\n",
       "\u001b[38;2;5;245;141m✓\u001b[0m Tests finished 🎉! Run \u001b[1;32m'deepeval login'\u001b[0m to save and analyze evaluation results on Confident AI.\n",
       " \n",
       "✨👀 Looking for a place for your LLM test data to live 🏡❤️ ? Use \u001b[38;2;106;0;255mConfident AI\u001b[0m to get & share testing reports, \n",
       "experiment with models/prompts, and catch regressions for your LLM system. Just run \u001b[36m'deepeval login'\u001b[0m in the CLI. \n",
       "\n"
      ]
     },
     "metadata": {},
     "output_type": "display_data"
    },
    {
     "name": "stdout",
     "output_type": "stream",
     "text": [
      "\n",
      "            Query: Ce obligație are angajatorul înainte de încheierea contractului individual de muncă?\n",
      "            Expected: Anterior încheierii sau modificării contractului individual de muncă, angajatorul are obligația de a informa persoana selectată în vederea angajării cu privire la clauzele esențiale pe care intenționează să le înscrie în contract sau să le modifice.\n",
      "            Actual: Înainte de încheierea unui contract individual de muncă (CIM), angajatorii au obligația de a informa persoana selectată pentru angajare sau salariatul cu privire la clauzele esențiale pe care intenționează să le includă în CIM sau să le modifice. Acestea includ, printre altele: \n",
      "- Identitatea părților\n",
      "- Sediul/sediu social și domiciliul angajatorului\n",
      "- Funcția/ocupația salariatului (conform Clasificării Ocupațiilor din România)\n",
      "- Atribuțiile postului \n",
      "- Criterii de evaluare a muncii profesionale\n",
      "- Riscuri specifice postului\n",
      "- Data la care CIMul își produce efectele \n",
      "- Durata unei perioade de probă, dacă există\n",
      "- Modalități de utilizare a semnăturii electronice și marcaje temporale în cadrul CMI\n",
      "- Condiții privind formarea profesională oferite angajatorului \n",
      "- Suportul asigurărilor medicale private, pensiilor facultative sau pensiilor ocupaționale\n",
      "\n",
      "Aceste informații ar trebui incluse în cadrul contractului individual de muncă. Modificările acestor clauze obligatorii sunt necesare dacă acestea nu sunt menționate expres în lege sau în acordurile colective aplicabile.\n",
      "            Relevancy Score: [{'metric': 'Answer Relevancy', 'success': True, 'score': 0.8, 'reason': \"The score is 0.80 because the response primarily addresses the employer's obligations before finalizing an employment contract. However, it includes some irrelevant details about benefits and contract modifications that are not directly related to the core question, preventing a higher score. Despite this, the main points are well-covered, maintaining a strong relevance.\"}]\n",
      "            Recall Score: [{'metric': 'Contextual Recall', 'success': True, 'score': 1.0, 'reason': 'The score is 1.00 because the expected output is perfectly aligned with the retrieval context, as the sentence is directly quoted from the 2nd node in the retrieval context. Great job!'}]\n",
      "            Faithfulness Score: [{'metric': 'Faithfulness', 'success': False, 'score': 0.46153846153846156, 'reason': 'The score is 0.46 because the actual output fails to accurately reflect the comprehensive details of essential clauses that should be communicated by the employer, such as job responsibilities, evaluation criteria, probation duration, electronic signature methods, and professional training conditions. Additionally, it misrepresents the requirements for modifying contract elements, leading to significant discrepancies with the retrieval context.'}]\n",
      "            Understanding Score: [{'metric': 'Understanding (GEval)', 'success': False, 'score': 0.6310839500328517, 'reason': \"While the actual output provides detailed information about the employer's obligations, it is overly complex for someone without legal knowledge, making it less accessible. The expected output is clearer and more concise.\"}]\n",
      "            \n",
      "Using model: rollama2-7b-instruct\n"
     ]
    },
    {
     "data": {
      "text/html": [
       "<pre style=\"white-space:pre;overflow-x:auto;line-height:normal;font-family:Menlo,'DejaVu Sans Mono',consolas,'Courier New',monospace\">\n",
       "<span style=\"color: #05f58d; text-decoration-color: #05f58d\">✓</span> Tests finished 🎉! Run <span style=\"color: #008000; text-decoration-color: #008000; font-weight: bold\">'deepeval login'</span> to save and analyze evaluation results on Confident AI.\n",
       " \n",
       "✨👀 Looking for a place for your LLM test data to live 🏡❤️ ? Use <span style=\"color: #6a00ff; text-decoration-color: #6a00ff\">Confident AI</span> to get &amp; share testing reports, \n",
       "experiment with models/prompts, and catch regressions for your LLM system. Just run <span style=\"color: #008080; text-decoration-color: #008080\">'deepeval login'</span> in the CLI. \n",
       "\n",
       "</pre>\n"
      ],
      "text/plain": [
       "\n",
       "\u001b[38;2;5;245;141m✓\u001b[0m Tests finished 🎉! Run \u001b[1;32m'deepeval login'\u001b[0m to save and analyze evaluation results on Confident AI.\n",
       " \n",
       "✨👀 Looking for a place for your LLM test data to live 🏡❤️ ? Use \u001b[38;2;106;0;255mConfident AI\u001b[0m to get & share testing reports, \n",
       "experiment with models/prompts, and catch regressions for your LLM system. Just run \u001b[36m'deepeval login'\u001b[0m in the CLI. \n",
       "\n"
      ]
     },
     "metadata": {},
     "output_type": "display_data"
    },
    {
     "data": {
      "text/html": [
       "<pre style=\"white-space:pre;overflow-x:auto;line-height:normal;font-family:Menlo,'DejaVu Sans Mono',consolas,'Courier New',monospace\">\n",
       "<span style=\"color: #05f58d; text-decoration-color: #05f58d\">✓</span> Tests finished 🎉! Run <span style=\"color: #008000; text-decoration-color: #008000; font-weight: bold\">'deepeval login'</span> to save and analyze evaluation results on Confident AI.\n",
       " \n",
       "✨👀 Looking for a place for your LLM test data to live 🏡❤️ ? Use <span style=\"color: #6a00ff; text-decoration-color: #6a00ff\">Confident AI</span> to get &amp; share testing reports, \n",
       "experiment with models/prompts, and catch regressions for your LLM system. Just run <span style=\"color: #008080; text-decoration-color: #008080\">'deepeval login'</span> in the CLI. \n",
       "\n",
       "</pre>\n"
      ],
      "text/plain": [
       "\n",
       "\u001b[38;2;5;245;141m✓\u001b[0m Tests finished 🎉! Run \u001b[1;32m'deepeval login'\u001b[0m to save and analyze evaluation results on Confident AI.\n",
       " \n",
       "✨👀 Looking for a place for your LLM test data to live 🏡❤️ ? Use \u001b[38;2;106;0;255mConfident AI\u001b[0m to get & share testing reports, \n",
       "experiment with models/prompts, and catch regressions for your LLM system. Just run \u001b[36m'deepeval login'\u001b[0m in the CLI. \n",
       "\n"
      ]
     },
     "metadata": {},
     "output_type": "display_data"
    },
    {
     "data": {
      "text/html": [
       "<pre style=\"white-space:pre;overflow-x:auto;line-height:normal;font-family:Menlo,'DejaVu Sans Mono',consolas,'Courier New',monospace\">\n",
       "<span style=\"color: #05f58d; text-decoration-color: #05f58d\">✓</span> Tests finished 🎉! Run <span style=\"color: #008000; text-decoration-color: #008000; font-weight: bold\">'deepeval login'</span> to save and analyze evaluation results on Confident AI.\n",
       " \n",
       "✨👀 Looking for a place for your LLM test data to live 🏡❤️ ? Use <span style=\"color: #6a00ff; text-decoration-color: #6a00ff\">Confident AI</span> to get &amp; share testing reports, \n",
       "experiment with models/prompts, and catch regressions for your LLM system. Just run <span style=\"color: #008080; text-decoration-color: #008080\">'deepeval login'</span> in the CLI. \n",
       "\n",
       "</pre>\n"
      ],
      "text/plain": [
       "\n",
       "\u001b[38;2;5;245;141m✓\u001b[0m Tests finished 🎉! Run \u001b[1;32m'deepeval login'\u001b[0m to save and analyze evaluation results on Confident AI.\n",
       " \n",
       "✨👀 Looking for a place for your LLM test data to live 🏡❤️ ? Use \u001b[38;2;106;0;255mConfident AI\u001b[0m to get & share testing reports, \n",
       "experiment with models/prompts, and catch regressions for your LLM system. Just run \u001b[36m'deepeval login'\u001b[0m in the CLI. \n",
       "\n"
      ]
     },
     "metadata": {},
     "output_type": "display_data"
    },
    {
     "data": {
      "text/html": [
       "<pre style=\"white-space:pre;overflow-x:auto;line-height:normal;font-family:Menlo,'DejaVu Sans Mono',consolas,'Courier New',monospace\">\n",
       "<span style=\"color: #05f58d; text-decoration-color: #05f58d\">✓</span> Tests finished 🎉! Run <span style=\"color: #008000; text-decoration-color: #008000; font-weight: bold\">'deepeval login'</span> to save and analyze evaluation results on Confident AI.\n",
       " \n",
       "✨👀 Looking for a place for your LLM test data to live 🏡❤️ ? Use <span style=\"color: #6a00ff; text-decoration-color: #6a00ff\">Confident AI</span> to get &amp; share testing reports, \n",
       "experiment with models/prompts, and catch regressions for your LLM system. Just run <span style=\"color: #008080; text-decoration-color: #008080\">'deepeval login'</span> in the CLI. \n",
       "\n",
       "</pre>\n"
      ],
      "text/plain": [
       "\n",
       "\u001b[38;2;5;245;141m✓\u001b[0m Tests finished 🎉! Run \u001b[1;32m'deepeval login'\u001b[0m to save and analyze evaluation results on Confident AI.\n",
       " \n",
       "✨👀 Looking for a place for your LLM test data to live 🏡❤️ ? Use \u001b[38;2;106;0;255mConfident AI\u001b[0m to get & share testing reports, \n",
       "experiment with models/prompts, and catch regressions for your LLM system. Just run \u001b[36m'deepeval login'\u001b[0m in the CLI. \n",
       "\n"
      ]
     },
     "metadata": {},
     "output_type": "display_data"
    },
    {
     "name": "stdout",
     "output_type": "stream",
     "text": [
      "\n",
      "            Query: Ce obligație are angajatorul înainte de încheierea contractului individual de muncă?\n",
      "            Expected: Anterior încheierii sau modificării contractului individual de muncă, angajatorul are obligația de a informa persoana selectată în vederea angajării cu privire la clauzele esențiale pe care intenționează să le înscrie în contract sau să le modifice.\n",
      "            Actual: Înainte de semnarea unui contract individual de muncă sau a unui act adițional, angajatorul are obligația de a-l informa pe salariat cu privire la cel puțin următoarele elemente:\n",
      "1) identitatea părților;\n",
      "2) sediul sau, după caz, domiciliul angajatorului;\n",
      "3) funcția/ocupația conform specificației Clasificării ocupațiilor din România sau altor acte normative, cu specificarea atributiilor postului;\n",
      "4) riscurile specifice postului;\n",
      "5) durata contractului individual de muncă (dacă este un contract de muncă temporară), exprimat în ore/zi și /sau ore/săptămână, cu specificarea orelor suplimentare, dacă este cazul;\n",
      "6) dreptul și condițiile privind formarea profesională oferită de angajator. \n",
      "            Relevancy Score: [{'metric': 'Answer Relevancy', 'success': True, 'score': 1.0, 'reason': \"The score is 1.00 because the response perfectly addresses the question about the employer's obligations before signing an individual employment contract, with no irrelevant information included. Great job on staying focused and relevant!\"}]\n",
      "            Recall Score: [{'metric': 'Contextual Recall', 'success': True, 'score': 1.0, 'reason': 'The score is 1.00 because the expected output is perfectly aligned with the retrieval context, as the sentence is directly quoted from the 2nd node in the retrieval context. Great job!'}]\n",
      "            Faithfulness Score: [{'metric': 'Faithfulness', 'success': False, 'score': 0.0, 'reason': \"The score is 0.00 because the actual output fails to clarify that the employer's obligations, such as informing the employee about the identity of the parties, address, function, risks, duration, and training rights, must all occur before signing the contract, leading to significant discrepancies with the retrieval context.\"}]\n",
      "            Understanding Score: [{'metric': 'Understanding (GEval)', 'success': False, 'score': 0.503870645579355, 'reason': \"The actual output provides detailed information about the employer's obligations, but it may be too technical for someone without legal knowledge, making it less accessible.\"}]\n",
      "            \n",
      "Finished tests for model: rollama2-7b-instruct\n",
      "\n",
      "==================================================\n",
      "\n",
      "\n",
      "Running tests for query: Care este vârsta legală minimă pentru încheierea unei căsătorii în România?\n",
      "Using model: rollama3-8b-instruct\n"
     ]
    },
    {
     "data": {
      "text/html": [
       "<pre style=\"white-space:pre;overflow-x:auto;line-height:normal;font-family:Menlo,'DejaVu Sans Mono',consolas,'Courier New',monospace\">\n",
       "<span style=\"color: #05f58d; text-decoration-color: #05f58d\">✓</span> Tests finished 🎉! Run <span style=\"color: #008000; text-decoration-color: #008000; font-weight: bold\">'deepeval login'</span> to save and analyze evaluation results on Confident AI.\n",
       " \n",
       "✨👀 Looking for a place for your LLM test data to live 🏡❤️ ? Use <span style=\"color: #6a00ff; text-decoration-color: #6a00ff\">Confident AI</span> to get &amp; share testing reports, \n",
       "experiment with models/prompts, and catch regressions for your LLM system. Just run <span style=\"color: #008080; text-decoration-color: #008080\">'deepeval login'</span> in the CLI. \n",
       "\n",
       "</pre>\n"
      ],
      "text/plain": [
       "\n",
       "\u001b[38;2;5;245;141m✓\u001b[0m Tests finished 🎉! Run \u001b[1;32m'deepeval login'\u001b[0m to save and analyze evaluation results on Confident AI.\n",
       " \n",
       "✨👀 Looking for a place for your LLM test data to live 🏡❤️ ? Use \u001b[38;2;106;0;255mConfident AI\u001b[0m to get & share testing reports, \n",
       "experiment with models/prompts, and catch regressions for your LLM system. Just run \u001b[36m'deepeval login'\u001b[0m in the CLI. \n",
       "\n"
      ]
     },
     "metadata": {},
     "output_type": "display_data"
    },
    {
     "data": {
      "text/html": [
       "<pre style=\"white-space:pre;overflow-x:auto;line-height:normal;font-family:Menlo,'DejaVu Sans Mono',consolas,'Courier New',monospace\">\n",
       "<span style=\"color: #05f58d; text-decoration-color: #05f58d\">✓</span> Tests finished 🎉! Run <span style=\"color: #008000; text-decoration-color: #008000; font-weight: bold\">'deepeval login'</span> to save and analyze evaluation results on Confident AI.\n",
       " \n",
       "✨👀 Looking for a place for your LLM test data to live 🏡❤️ ? Use <span style=\"color: #6a00ff; text-decoration-color: #6a00ff\">Confident AI</span> to get &amp; share testing reports, \n",
       "experiment with models/prompts, and catch regressions for your LLM system. Just run <span style=\"color: #008080; text-decoration-color: #008080\">'deepeval login'</span> in the CLI. \n",
       "\n",
       "</pre>\n"
      ],
      "text/plain": [
       "\n",
       "\u001b[38;2;5;245;141m✓\u001b[0m Tests finished 🎉! Run \u001b[1;32m'deepeval login'\u001b[0m to save and analyze evaluation results on Confident AI.\n",
       " \n",
       "✨👀 Looking for a place for your LLM test data to live 🏡❤️ ? Use \u001b[38;2;106;0;255mConfident AI\u001b[0m to get & share testing reports, \n",
       "experiment with models/prompts, and catch regressions for your LLM system. Just run \u001b[36m'deepeval login'\u001b[0m in the CLI. \n",
       "\n"
      ]
     },
     "metadata": {},
     "output_type": "display_data"
    },
    {
     "data": {
      "text/html": [
       "<pre style=\"white-space:pre;overflow-x:auto;line-height:normal;font-family:Menlo,'DejaVu Sans Mono',consolas,'Courier New',monospace\">\n",
       "<span style=\"color: #05f58d; text-decoration-color: #05f58d\">✓</span> Tests finished 🎉! Run <span style=\"color: #008000; text-decoration-color: #008000; font-weight: bold\">'deepeval login'</span> to save and analyze evaluation results on Confident AI.\n",
       " \n",
       "✨👀 Looking for a place for your LLM test data to live 🏡❤️ ? Use <span style=\"color: #6a00ff; text-decoration-color: #6a00ff\">Confident AI</span> to get &amp; share testing reports, \n",
       "experiment with models/prompts, and catch regressions for your LLM system. Just run <span style=\"color: #008080; text-decoration-color: #008080\">'deepeval login'</span> in the CLI. \n",
       "\n",
       "</pre>\n"
      ],
      "text/plain": [
       "\n",
       "\u001b[38;2;5;245;141m✓\u001b[0m Tests finished 🎉! Run \u001b[1;32m'deepeval login'\u001b[0m to save and analyze evaluation results on Confident AI.\n",
       " \n",
       "✨👀 Looking for a place for your LLM test data to live 🏡❤️ ? Use \u001b[38;2;106;0;255mConfident AI\u001b[0m to get & share testing reports, \n",
       "experiment with models/prompts, and catch regressions for your LLM system. Just run \u001b[36m'deepeval login'\u001b[0m in the CLI. \n",
       "\n"
      ]
     },
     "metadata": {},
     "output_type": "display_data"
    },
    {
     "data": {
      "text/html": [
       "<pre style=\"white-space:pre;overflow-x:auto;line-height:normal;font-family:Menlo,'DejaVu Sans Mono',consolas,'Courier New',monospace\">\n",
       "<span style=\"color: #05f58d; text-decoration-color: #05f58d\">✓</span> Tests finished 🎉! Run <span style=\"color: #008000; text-decoration-color: #008000; font-weight: bold\">'deepeval login'</span> to save and analyze evaluation results on Confident AI.\n",
       " \n",
       "✨👀 Looking for a place for your LLM test data to live 🏡❤️ ? Use <span style=\"color: #6a00ff; text-decoration-color: #6a00ff\">Confident AI</span> to get &amp; share testing reports, \n",
       "experiment with models/prompts, and catch regressions for your LLM system. Just run <span style=\"color: #008080; text-decoration-color: #008080\">'deepeval login'</span> in the CLI. \n",
       "\n",
       "</pre>\n"
      ],
      "text/plain": [
       "\n",
       "\u001b[38;2;5;245;141m✓\u001b[0m Tests finished 🎉! Run \u001b[1;32m'deepeval login'\u001b[0m to save and analyze evaluation results on Confident AI.\n",
       " \n",
       "✨👀 Looking for a place for your LLM test data to live 🏡❤️ ? Use \u001b[38;2;106;0;255mConfident AI\u001b[0m to get & share testing reports, \n",
       "experiment with models/prompts, and catch regressions for your LLM system. Just run \u001b[36m'deepeval login'\u001b[0m in the CLI. \n",
       "\n"
      ]
     },
     "metadata": {},
     "output_type": "display_data"
    },
    {
     "name": "stdout",
     "output_type": "stream",
     "text": [
      "\n",
      "            Query: Care este vârsta legală minimă pentru încheierea unei căsătorii în România?\n",
      "            Expected: Căsătoria se poate încheia dacă viitorii soți au împlinit vârsta de 18 ani.\n",
      "            Actual: Vârsta legală minimă pentru încheierea unei căsătorii în România este de 16 ani, în cazul în care ambii viitoare soți au împlinit vârsta acestui vârstă. Cu toate acestea, nulitatea poate fi acoperită dacă până la hotărârea definitivă a instanței, ambele soții îndeplinesc vârsta de 18 ani sau dacă o soție este gravidă.\n",
      "            Relevancy Score: [{'metric': 'Answer Relevancy', 'success': True, 'score': 1.0, 'reason': 'The score is 1.00 because the response perfectly addresses the question about the legal minimum age for marriage in Romania without any irrelevant information. Great job!'}]\n",
      "            Recall Score: [{'metric': 'Contextual Recall', 'success': True, 'score': 1.0, 'reason': 'The score is 1.00 because the expected output perfectly matches the information from the 2nd node in the retrieval context, showcasing a flawless alignment.'}]\n",
      "            Faithfulness Score: [{'metric': 'Faithfulness', 'success': False, 'score': 0.3333333333333333, 'reason': 'The score is 0.33 because the actual output incorrectly states that individuals aged 16 can marry, contradicting the retrieval context that prohibits marriage for minors under 16. Additionally, it inaccurately claims that pregnancy can nullify a marriage, which is not supported by the retrieval context.'}]\n",
      "            Understanding Score: [{'metric': 'Understanding (GEval)', 'success': False, 'score': 0.3893680370548625, 'reason': 'The actual output provides the minimum age of 16 but complicates the answer with legal nuances, making it less clear for someone without legal knowledge compared to the expected output.'}]\n",
      "            \n",
      "Using model: rollama2-7b-instruct\n"
     ]
    },
    {
     "data": {
      "text/html": [
       "<pre style=\"white-space:pre;overflow-x:auto;line-height:normal;font-family:Menlo,'DejaVu Sans Mono',consolas,'Courier New',monospace\">\n",
       "<span style=\"color: #05f58d; text-decoration-color: #05f58d\">✓</span> Tests finished 🎉! Run <span style=\"color: #008000; text-decoration-color: #008000; font-weight: bold\">'deepeval login'</span> to save and analyze evaluation results on Confident AI.\n",
       " \n",
       "✨👀 Looking for a place for your LLM test data to live 🏡❤️ ? Use <span style=\"color: #6a00ff; text-decoration-color: #6a00ff\">Confident AI</span> to get &amp; share testing reports, \n",
       "experiment with models/prompts, and catch regressions for your LLM system. Just run <span style=\"color: #008080; text-decoration-color: #008080\">'deepeval login'</span> in the CLI. \n",
       "\n",
       "</pre>\n"
      ],
      "text/plain": [
       "\n",
       "\u001b[38;2;5;245;141m✓\u001b[0m Tests finished 🎉! Run \u001b[1;32m'deepeval login'\u001b[0m to save and analyze evaluation results on Confident AI.\n",
       " \n",
       "✨👀 Looking for a place for your LLM test data to live 🏡❤️ ? Use \u001b[38;2;106;0;255mConfident AI\u001b[0m to get & share testing reports, \n",
       "experiment with models/prompts, and catch regressions for your LLM system. Just run \u001b[36m'deepeval login'\u001b[0m in the CLI. \n",
       "\n"
      ]
     },
     "metadata": {},
     "output_type": "display_data"
    },
    {
     "ename": "KeyboardInterrupt",
     "evalue": "",
     "output_type": "error",
     "traceback": [
      "\u001b[0;31m---------------------------------------------------------------------------\u001b[0m",
      "\u001b[0;31mKeyboardInterrupt\u001b[0m                         Traceback (most recent call last)",
      "Cell \u001b[0;32mIn[18], line 22\u001b[0m\n\u001b[1;32m      1\u001b[0m models_list \u001b[38;5;241m=\u001b[39m [\u001b[38;5;124m\"\u001b[39m\u001b[38;5;124mrollama3-8b-instruct\u001b[39m\u001b[38;5;124m\"\u001b[39m, \u001b[38;5;124m\"\u001b[39m\u001b[38;5;124mrollama2-7b-instruct\u001b[39m\u001b[38;5;124m\"\u001b[39m]\n\u001b[1;32m      3\u001b[0m prompt_v2 \u001b[38;5;241m=\u001b[39m \u001b[38;5;124m\"\"\"\u001b[39m\n\u001b[1;32m      4\u001b[0m \u001b[38;5;124mEști un ghid juridic virtual, care ajută cetățenii să înțeleagă legea pe înțelesul tuturor. \u001b[39m\n\u001b[1;32m      5\u001b[0m \n\u001b[0;32m   (...)\u001b[0m\n\u001b[1;32m     19\u001b[0m \u001b[38;5;124mRăspunsul tău trebuie să fie în limba română, clar, politicos și ușor de înțeles.\u001b[39m\n\u001b[1;32m     20\u001b[0m \u001b[38;5;124m\"\"\"\u001b[39m\n\u001b[0;32m---> 22\u001b[0m model_results \u001b[38;5;241m=\u001b[39m \u001b[43mstart_testing\u001b[49m\u001b[43m(\u001b[49m\u001b[43mmodels_list\u001b[49m\u001b[43m,\u001b[49m\u001b[43m \u001b[49m\u001b[43mtests_list\u001b[49m\u001b[43m,\u001b[49m\u001b[43m \u001b[49m\u001b[43mprompt_v2\u001b[49m\u001b[43m)\u001b[49m\n",
      "Cell \u001b[0;32mIn[11], line 156\u001b[0m, in \u001b[0;36mstart_testing\u001b[0;34m(models_list, test_cases, prompt)\u001b[0m\n\u001b[1;32m    154\u001b[0m     \u001b[38;5;28mprint\u001b[39m(\u001b[38;5;124mf\u001b[39m\u001b[38;5;124m\"\u001b[39m\u001b[38;5;124mUsing model: \u001b[39m\u001b[38;5;132;01m{\u001b[39;00mmodel\u001b[38;5;132;01m}\u001b[39;00m\u001b[38;5;124m\"\u001b[39m)\n\u001b[1;32m    155\u001b[0m     llm \u001b[38;5;241m=\u001b[39m get_local_model(model\u001b[38;5;241m=\u001b[39mmodel)\n\u001b[0;32m--> 156\u001b[0m     results \u001b[38;5;241m=\u001b[39m \u001b[43mrun_evaluation\u001b[49m\u001b[43m(\u001b[49m\u001b[43m[\u001b[49m\u001b[43mtest\u001b[49m\u001b[43m]\u001b[49m\u001b[43m,\u001b[49m\u001b[43m \u001b[49m\u001b[43mvector_store\u001b[49m\u001b[43m,\u001b[49m\u001b[43m \u001b[49m\u001b[43mllm\u001b[49m\u001b[43m,\u001b[49m\u001b[43m \u001b[49m\u001b[43mprompt\u001b[49m\u001b[43m)\u001b[49m\n\u001b[1;32m    157\u001b[0m     results_for_models[model]\u001b[38;5;241m.\u001b[39mappend(results)\n\u001b[1;32m    158\u001b[0m \u001b[38;5;28mprint\u001b[39m(\u001b[38;5;124mf\u001b[39m\u001b[38;5;124m\"\u001b[39m\u001b[38;5;124mFinished tests for model: \u001b[39m\u001b[38;5;132;01m{\u001b[39;00mmodel\u001b[38;5;132;01m}\u001b[39;00m\u001b[38;5;130;01m\\n\u001b[39;00m\u001b[38;5;124m\"\u001b[39m)\n",
      "Cell \u001b[0;32mIn[11], line 117\u001b[0m, in \u001b[0;36mrun_evaluation\u001b[0;34m(test_cases, vector_store, llm, prompt)\u001b[0m\n\u001b[1;32m    115\u001b[0m \u001b[38;5;66;03m# Evaluate the answers\u001b[39;00m\n\u001b[1;32m    116\u001b[0m relevancy_result \u001b[38;5;241m=\u001b[39m test_answer_relevancy(user_query, actual_answer)\n\u001b[0;32m--> 117\u001b[0m recall_result \u001b[38;5;241m=\u001b[39m \u001b[43mtest_contextual_recall\u001b[49m\u001b[43m(\u001b[49m\u001b[43muser_query\u001b[49m\u001b[43m,\u001b[49m\u001b[43m \u001b[49m\u001b[43mexpected_answer\u001b[49m\u001b[43m,\u001b[49m\u001b[43m \u001b[49m\u001b[43mactual_answer\u001b[49m\u001b[43m,\u001b[49m\u001b[43m \u001b[49m\u001b[43mretrival_context\u001b[49m\u001b[43m)\u001b[49m\n\u001b[1;32m    118\u001b[0m faithfulness_result \u001b[38;5;241m=\u001b[39m test_faithfulness(user_query, actual_answer, retrival_context)\n\u001b[1;32m    119\u001b[0m understanding_result \u001b[38;5;241m=\u001b[39m test_understanding(user_query, expected_answer, actual_answer)\n",
      "Cell \u001b[0;32mIn[11], line 56\u001b[0m, in \u001b[0;36mtest_contextual_recall\u001b[0;34m(user_query, expected_answer, actual_answer, retrival_context)\u001b[0m\n\u001b[1;32m     44\u001b[0m metric \u001b[38;5;241m=\u001b[39m ContextualRecallMetric(\n\u001b[1;32m     45\u001b[0m     threshold\u001b[38;5;241m=\u001b[39m\u001b[38;5;241m0.7\u001b[39m,\n\u001b[1;32m     46\u001b[0m     include_reason\u001b[38;5;241m=\u001b[39m\u001b[38;5;28;01mTrue\u001b[39;00m,\n\u001b[1;32m     47\u001b[0m     verbose_mode\u001b[38;5;241m=\u001b[39m\u001b[38;5;28;01mFalse\u001b[39;00m\n\u001b[1;32m     48\u001b[0m )\n\u001b[1;32m     49\u001b[0m test_case \u001b[38;5;241m=\u001b[39m LLMTestCase(\n\u001b[1;32m     50\u001b[0m     \u001b[38;5;28minput\u001b[39m\u001b[38;5;241m=\u001b[39muser_query,\n\u001b[1;32m     51\u001b[0m     expected_output\u001b[38;5;241m=\u001b[39mexpected_answer,\n\u001b[1;32m     52\u001b[0m     actual_output\u001b[38;5;241m=\u001b[39mactual_answer,\n\u001b[1;32m     53\u001b[0m     retrieval_context\u001b[38;5;241m=\u001b[39mretrival_context\n\u001b[1;32m     54\u001b[0m )\n\u001b[0;32m---> 56\u001b[0m \u001b[38;5;28;01mreturn\u001b[39;00m \u001b[43mevaluate\u001b[49m\u001b[43m(\u001b[49m\n\u001b[1;32m     57\u001b[0m \u001b[43m    \u001b[49m\u001b[43mtest_cases\u001b[49m\u001b[38;5;241;43m=\u001b[39;49m\u001b[43m[\u001b[49m\u001b[43mtest_case\u001b[49m\u001b[43m]\u001b[49m\u001b[43m,\u001b[49m\n\u001b[1;32m     58\u001b[0m \u001b[43m    \u001b[49m\u001b[43mmetrics\u001b[49m\u001b[38;5;241;43m=\u001b[39;49m\u001b[43m[\u001b[49m\u001b[43mmetric\u001b[49m\u001b[43m]\u001b[49m\u001b[43m,\u001b[49m\n\u001b[1;32m     59\u001b[0m \u001b[43m    \u001b[49m\u001b[43mdisplay_config\u001b[49m\u001b[38;5;241;43m=\u001b[39;49m\u001b[43msilent_display_config\u001b[49m\n\u001b[1;32m     60\u001b[0m \u001b[43m\u001b[49m\u001b[43m)\u001b[49m\n",
      "File \u001b[0;32m~/.pyenv/versions/3.12.0/lib/python3.12/site-packages/deepeval/evaluate/evaluate.py:274\u001b[0m, in \u001b[0;36mevaluate\u001b[0;34m(test_cases, metrics, hyperparameters, goldens, observed_callback, identifier, async_config, display_config, cache_config, error_config)\u001b[0m\n\u001b[1;32m    272\u001b[0m \u001b[38;5;28;01mif\u001b[39;00m async_config\u001b[38;5;241m.\u001b[39mrun_async:\n\u001b[1;32m    273\u001b[0m     loop \u001b[38;5;241m=\u001b[39m get_or_create_event_loop()\n\u001b[0;32m--> 274\u001b[0m     test_results \u001b[38;5;241m=\u001b[39m \u001b[43mloop\u001b[49m\u001b[38;5;241;43m.\u001b[39;49m\u001b[43mrun_until_complete\u001b[49m\u001b[43m(\u001b[49m\n\u001b[1;32m    275\u001b[0m \u001b[43m        \u001b[49m\u001b[43ma_execute_test_cases\u001b[49m\u001b[43m(\u001b[49m\n\u001b[1;32m    276\u001b[0m \u001b[43m            \u001b[49m\u001b[43mtest_cases\u001b[49m\u001b[43m,\u001b[49m\n\u001b[1;32m    277\u001b[0m \u001b[43m            \u001b[49m\u001b[43mmetrics\u001b[49m\u001b[43m,\u001b[49m\n\u001b[1;32m    278\u001b[0m \u001b[43m            \u001b[49m\u001b[43midentifier\u001b[49m\u001b[38;5;241;43m=\u001b[39;49m\u001b[43midentifier\u001b[49m\u001b[43m,\u001b[49m\n\u001b[1;32m    279\u001b[0m \u001b[43m            \u001b[49m\u001b[43mignore_errors\u001b[49m\u001b[38;5;241;43m=\u001b[39;49m\u001b[43merror_config\u001b[49m\u001b[38;5;241;43m.\u001b[39;49m\u001b[43mignore_errors\u001b[49m\u001b[43m,\u001b[49m\n\u001b[1;32m    280\u001b[0m \u001b[43m            \u001b[49m\u001b[43mskip_on_missing_params\u001b[49m\u001b[38;5;241;43m=\u001b[39;49m\u001b[43merror_config\u001b[49m\u001b[38;5;241;43m.\u001b[39;49m\u001b[43mskip_on_missing_params\u001b[49m\u001b[43m,\u001b[49m\n\u001b[1;32m    281\u001b[0m \u001b[43m            \u001b[49m\u001b[43muse_cache\u001b[49m\u001b[38;5;241;43m=\u001b[39;49m\u001b[43mcache_config\u001b[49m\u001b[38;5;241;43m.\u001b[39;49m\u001b[43muse_cache\u001b[49m\u001b[43m,\u001b[49m\n\u001b[1;32m    282\u001b[0m \u001b[43m            \u001b[49m\u001b[43msave_to_disk\u001b[49m\u001b[38;5;241;43m=\u001b[39;49m\u001b[43mcache_config\u001b[49m\u001b[38;5;241;43m.\u001b[39;49m\u001b[43mwrite_cache\u001b[49m\u001b[43m,\u001b[49m\n\u001b[1;32m    283\u001b[0m \u001b[43m            \u001b[49m\u001b[43mverbose_mode\u001b[49m\u001b[38;5;241;43m=\u001b[39;49m\u001b[43mdisplay_config\u001b[49m\u001b[38;5;241;43m.\u001b[39;49m\u001b[43mverbose_mode\u001b[49m\u001b[43m,\u001b[49m\n\u001b[1;32m    284\u001b[0m \u001b[43m            \u001b[49m\u001b[43mshow_indicator\u001b[49m\u001b[38;5;241;43m=\u001b[39;49m\u001b[43mdisplay_config\u001b[49m\u001b[38;5;241;43m.\u001b[39;49m\u001b[43mshow_indicator\u001b[49m\u001b[43m,\u001b[49m\n\u001b[1;32m    285\u001b[0m \u001b[43m            \u001b[49m\u001b[43mthrottle_value\u001b[49m\u001b[38;5;241;43m=\u001b[39;49m\u001b[43masync_config\u001b[49m\u001b[38;5;241;43m.\u001b[39;49m\u001b[43mthrottle_value\u001b[49m\u001b[43m,\u001b[49m\n\u001b[1;32m    286\u001b[0m \u001b[43m            \u001b[49m\u001b[43mmax_concurrent\u001b[49m\u001b[38;5;241;43m=\u001b[39;49m\u001b[43masync_config\u001b[49m\u001b[38;5;241;43m.\u001b[39;49m\u001b[43mmax_concurrent\u001b[49m\u001b[43m,\u001b[49m\n\u001b[1;32m    287\u001b[0m \u001b[43m        \u001b[49m\u001b[43m)\u001b[49m\n\u001b[1;32m    288\u001b[0m \u001b[43m    \u001b[49m\u001b[43m)\u001b[49m\n\u001b[1;32m    289\u001b[0m \u001b[38;5;28;01melse\u001b[39;00m:\n\u001b[1;32m    290\u001b[0m     test_results \u001b[38;5;241m=\u001b[39m execute_test_cases(\n\u001b[1;32m    291\u001b[0m         test_cases,\n\u001b[1;32m    292\u001b[0m         metrics,\n\u001b[0;32m   (...)\u001b[0m\n\u001b[1;32m    299\u001b[0m         verbose_mode\u001b[38;5;241m=\u001b[39mdisplay_config\u001b[38;5;241m.\u001b[39mverbose_mode,\n\u001b[1;32m    300\u001b[0m     )\n",
      "File \u001b[0;32m~/.pyenv/versions/3.12.0/lib/python3.12/site-packages/nest_asyncio.py:92\u001b[0m, in \u001b[0;36m_patch_loop.<locals>.run_until_complete\u001b[0;34m(self, future)\u001b[0m\n\u001b[1;32m     90\u001b[0m     f\u001b[38;5;241m.\u001b[39m_log_destroy_pending \u001b[38;5;241m=\u001b[39m \u001b[38;5;28;01mFalse\u001b[39;00m\n\u001b[1;32m     91\u001b[0m \u001b[38;5;28;01mwhile\u001b[39;00m \u001b[38;5;129;01mnot\u001b[39;00m f\u001b[38;5;241m.\u001b[39mdone():\n\u001b[0;32m---> 92\u001b[0m     \u001b[38;5;28;43mself\u001b[39;49m\u001b[38;5;241;43m.\u001b[39;49m\u001b[43m_run_once\u001b[49m\u001b[43m(\u001b[49m\u001b[43m)\u001b[49m\n\u001b[1;32m     93\u001b[0m     \u001b[38;5;28;01mif\u001b[39;00m \u001b[38;5;28mself\u001b[39m\u001b[38;5;241m.\u001b[39m_stopping:\n\u001b[1;32m     94\u001b[0m         \u001b[38;5;28;01mbreak\u001b[39;00m\n",
      "File \u001b[0;32m~/.pyenv/versions/3.12.0/lib/python3.12/site-packages/nest_asyncio.py:115\u001b[0m, in \u001b[0;36m_patch_loop.<locals>._run_once\u001b[0;34m(self)\u001b[0m\n\u001b[1;32m    108\u001b[0m     heappop(scheduled)\n\u001b[1;32m    110\u001b[0m timeout \u001b[38;5;241m=\u001b[39m (\n\u001b[1;32m    111\u001b[0m     \u001b[38;5;241m0\u001b[39m \u001b[38;5;28;01mif\u001b[39;00m ready \u001b[38;5;129;01mor\u001b[39;00m \u001b[38;5;28mself\u001b[39m\u001b[38;5;241m.\u001b[39m_stopping\n\u001b[1;32m    112\u001b[0m     \u001b[38;5;28;01melse\u001b[39;00m \u001b[38;5;28mmin\u001b[39m(\u001b[38;5;28mmax\u001b[39m(\n\u001b[1;32m    113\u001b[0m         scheduled[\u001b[38;5;241m0\u001b[39m]\u001b[38;5;241m.\u001b[39m_when \u001b[38;5;241m-\u001b[39m \u001b[38;5;28mself\u001b[39m\u001b[38;5;241m.\u001b[39mtime(), \u001b[38;5;241m0\u001b[39m), \u001b[38;5;241m86400\u001b[39m) \u001b[38;5;28;01mif\u001b[39;00m scheduled\n\u001b[1;32m    114\u001b[0m     \u001b[38;5;28;01melse\u001b[39;00m \u001b[38;5;28;01mNone\u001b[39;00m)\n\u001b[0;32m--> 115\u001b[0m event_list \u001b[38;5;241m=\u001b[39m \u001b[38;5;28;43mself\u001b[39;49m\u001b[38;5;241;43m.\u001b[39;49m\u001b[43m_selector\u001b[49m\u001b[38;5;241;43m.\u001b[39;49m\u001b[43mselect\u001b[49m\u001b[43m(\u001b[49m\u001b[43mtimeout\u001b[49m\u001b[43m)\u001b[49m\n\u001b[1;32m    116\u001b[0m \u001b[38;5;28mself\u001b[39m\u001b[38;5;241m.\u001b[39m_process_events(event_list)\n\u001b[1;32m    118\u001b[0m end_time \u001b[38;5;241m=\u001b[39m \u001b[38;5;28mself\u001b[39m\u001b[38;5;241m.\u001b[39mtime() \u001b[38;5;241m+\u001b[39m \u001b[38;5;28mself\u001b[39m\u001b[38;5;241m.\u001b[39m_clock_resolution\n",
      "File \u001b[0;32m~/.pyenv/versions/3.12.0/lib/python3.12/selectors.py:561\u001b[0m, in \u001b[0;36mKqueueSelector.select\u001b[0;34m(self, timeout)\u001b[0m\n\u001b[1;32m    559\u001b[0m ready \u001b[38;5;241m=\u001b[39m []\n\u001b[1;32m    560\u001b[0m \u001b[38;5;28;01mtry\u001b[39;00m:\n\u001b[0;32m--> 561\u001b[0m     kev_list \u001b[38;5;241m=\u001b[39m \u001b[38;5;28;43mself\u001b[39;49m\u001b[38;5;241;43m.\u001b[39;49m\u001b[43m_selector\u001b[49m\u001b[38;5;241;43m.\u001b[39;49m\u001b[43mcontrol\u001b[49m\u001b[43m(\u001b[49m\u001b[38;5;28;43;01mNone\u001b[39;49;00m\u001b[43m,\u001b[49m\u001b[43m \u001b[49m\u001b[43mmax_ev\u001b[49m\u001b[43m,\u001b[49m\u001b[43m \u001b[49m\u001b[43mtimeout\u001b[49m\u001b[43m)\u001b[49m\n\u001b[1;32m    562\u001b[0m \u001b[38;5;28;01mexcept\u001b[39;00m \u001b[38;5;167;01mInterruptedError\u001b[39;00m:\n\u001b[1;32m    563\u001b[0m     \u001b[38;5;28;01mreturn\u001b[39;00m ready\n",
      "\u001b[0;31mKeyboardInterrupt\u001b[0m: "
     ]
    },
    {
     "name": "stderr",
     "output_type": "stream",
     "text": [
      "Error updating test run to disk: \u001b[1m[\u001b[0mErrno \u001b[1;36m2\u001b[0m\u001b[1m]\u001b[0m No such file or directory: \n",
      "\u001b[32m'.deepeval/.temp_test_run_data.json'\u001b[0m\n"
     ]
    }
   ],
   "source": [
    "models_list = [\"rollama3-8b-instruct\", \"rollama2-7b-instruct\"]\n",
    "\n",
    "prompt_v2 = \"\"\"\n",
    "Ești un ghid juridic virtual, care ajută cetățenii să înțeleagă legea pe înțelesul tuturor. \n",
    "\n",
    "Când răspunzi, urmează aceste reguli:\n",
    " - Explică termenii juridici într-un mod clar, ca și cum ai vorbi cu cineva fără pregătire juridică.\n",
    " - Fii concis, dar oferă informații corecte și complete.\n",
    " - Nu cita articole de lege și nu inventa numere de articole.\n",
    " - Scrie răspunsul în propoziții scurte și clare. Poți folosi listă cu puncte, dacă este nevoie.\n",
    " - Nu inventa informații. Dacă informația nu se regăsește clar în contextul oferit, răspunde cu: **„Nu am putut genera un răspuns.”**\n",
    " - Nu oferi sfaturi legale personalizate; explică doar cadrul legal general.\n",
    "\n",
    "Întrebarea utilizatorului este: {question}\n",
    "\n",
    "Folosește următoarele informații extrase din documentele juridice:\n",
    "{context}\n",
    "\n",
    "Răspunsul tău trebuie să fie în limba română, clar, politicos și ușor de înțeles.\n",
    "\"\"\"\n",
    "\n",
    "model_results = start_testing(models_list, tests_list, prompt_v2)\n"
   ]
  },
  {
   "cell_type": "code",
   "execution_count": 16,
   "id": "8f4a024e",
   "metadata": {},
   "outputs": [],
   "source": [
    "from statistics import mean, stdev\n",
    "from collections import defaultdict\n",
    "\n",
    "def analyze_model_results(model_results):\n",
    "    \"\"\"\n",
    "    Input: model_results - list (or list of lists) of dictionaries with keys:\n",
    "        'user_query', 'expected_answer', 'actual_answer', 'relevancy', 'recall', 'faithfulness', 'understanding'\n",
    "\n",
    "    Output:\n",
    "        - average score per metric\n",
    "        - pass rate per metric\n",
    "        - a unified list of examples (one per test case, includes all metrics)\n",
    "    \"\"\"\n",
    "\n",
    "    # Flatten if it's a list of lists\n",
    "    if any(isinstance(item, list) for item in model_results):\n",
    "        flat_results = [entry for sublist in model_results for entry in sublist]\n",
    "    else:\n",
    "        flat_results = model_results\n",
    "\n",
    "    metric_data = defaultdict(lambda: {\n",
    "        \"scores\": [],\n",
    "        \"successes\": 0,\n",
    "        \"total\": 0\n",
    "    })\n",
    "\n",
    "    unified_examples = []\n",
    "\n",
    "    for result in flat_results:\n",
    "        test_example = {\n",
    "            \"query\": result[\"user_query\"],\n",
    "            \"expected\": result[\"expected_answer\"],\n",
    "            \"actual\": result[\"actual_answer\"],\n",
    "            \"metrics\": {}\n",
    "        }\n",
    "\n",
    "        for metric_name in [\"relevancy\", \"recall\", \"faithfulness\", \"understanding\"]:\n",
    "            metric_entries = result.get(metric_name, [])\n",
    "            for entry in metric_entries:\n",
    "                name = entry[\"metric\"]\n",
    "                score = entry[\"score\"]\n",
    "                success = entry[\"success\"]\n",
    "                reason = entry.get(\"reason\", \"\")\n",
    "\n",
    "                # Track overall stats\n",
    "                metric_data[name][\"scores\"].append(score)\n",
    "                metric_data[name][\"total\"] += 1\n",
    "                if success:\n",
    "                    metric_data[name][\"successes\"] += 1\n",
    "\n",
    "                # Store this metric result under the test case\n",
    "                test_example[\"metrics\"][name] = {\n",
    "                    \"score\": score,\n",
    "                    \"success\": success,\n",
    "                    \"reason\": reason\n",
    "                }\n",
    "\n",
    "        unified_examples.append(test_example)\n",
    "\n",
    "    summary = {}\n",
    "    for metric, data in metric_data.items():\n",
    "        scores = data[\"scores\"]\n",
    "        summary[metric] = {\n",
    "            \"avg_score\": round(mean(scores), 3) if scores else None,\n",
    "            \"std_dev\": round(stdev(scores), 3) if len(scores) > 1 else 0.0,\n",
    "            \"pass_rate\": f\"{round((data['successes'] / data['total']) * 100, 1)}%\" if data[\"total\"] > 0 else \"N/A\",\n",
    "            \"total_cases\": data[\"total\"]\n",
    "        }\n",
    "\n",
    "    # Add unified examples only once\n",
    "    summary[\"examples\"] = unified_examples\n",
    "\n",
    "    return summary\n"
   ]
  },
  {
   "cell_type": "code",
   "execution_count": 17,
   "id": "df246ae4",
   "metadata": {},
   "outputs": [
    {
     "name": "stdout",
     "output_type": "stream",
     "text": [
      "Evaluating model: rollama3-8b-instruct\n",
      "{\n",
      "    \"Answer Relevancy\": {\n",
      "        \"avg_score\": 0.715,\n",
      "        \"std_dev\": 0.358,\n",
      "        \"pass_rate\": \"50.0%\",\n",
      "        \"total_cases\": 6\n",
      "    },\n",
      "    \"Contextual Recall\": {\n",
      "        \"avg_score\": 0.733,\n",
      "        \"std_dev\": 0.313,\n",
      "        \"pass_rate\": \"50.0%\",\n",
      "        \"total_cases\": 6\n",
      "    },\n",
      "    \"Faithfulness\": {\n",
      "        \"avg_score\": 0.578,\n",
      "        \"std_dev\": 0.357,\n",
      "        \"pass_rate\": \"33.3%\",\n",
      "        \"total_cases\": 6\n",
      "    },\n",
      "    \"Understanding (GEval)\": {\n",
      "        \"avg_score\": 0.5,\n",
      "        \"std_dev\": 0.16,\n",
      "        \"pass_rate\": \"16.7%\",\n",
      "        \"total_cases\": 6\n",
      "    },\n",
      "    \"examples\": [\n",
      "        {\n",
      "            \"query\": \"Cât timp poate fi reținută o persoană înainte de a fi arestată?\",\n",
      "            \"expected\": \"Reținerea nu poate depăși 24 de ore. După acest termen, persoana trebuie eliberată sau arestată preventiv prin decizia unui judecător.\",\n",
      "            \"actual\": \"Potrivit Legii privind acțiunile și măsurile penale (Legea nr. 281/2005), reținerea poate dura maximum 24 de ore. Cu toate acestea, atunci când există motive de arestare preventivă, aceasta poate fi instituită pentru cel mult 30 de zile și se poate prelungi cu 30 de zile suplimentare, nu mai mult decât 180 de zile. Arestarea preventivă trebuie să fie revizuită la intervale regulate, în special o dată la maximum 60 de zile, pentru a se asigura legalitatea acesteia și punerea în libertate dacă motivele care au determinat arestarea s-au estompat.\",\n",
      "            \"metrics\": {\n",
      "                \"Answer Relevancy\": {\n",
      "                    \"score\": 0.125,\n",
      "                    \"success\": false,\n",
      "                    \"reason\": \"The score is 0.12 because the actual output primarily discusses aspects of preventive arrest, which is not directly related to the initial detention period before arrest. The focus on preventive arrest topics, such as its extension, duration, review process, and legality, detracts from addressing the specific question about the initial detention period, leading to a low relevancy score.\"\n",
      "                },\n",
      "                \"Contextual Recall\": {\n",
      "                    \"score\": 1.0,\n",
      "                    \"success\": true,\n",
      "                    \"reason\": \"The score is 1.00 because every sentence in the expected output is perfectly aligned with the nodes in the retrieval context, ensuring complete accuracy and relevance. Great job!\"\n",
      "                },\n",
      "                \"Faithfulness\": {\n",
      "                    \"score\": 0.8,\n",
      "                    \"success\": true,\n",
      "                    \"reason\": \"The score is 0.80 because the actual output incorrectly states that reținerea can last a maximum of 24 hours, which contradicts the retrieval context that does not reference Legii nr. 281/2005, leading to a discrepancy in the information provided.\"\n",
      "                },\n",
      "                \"Understanding (GEval)\": {\n",
      "                    \"score\": 0.4694295943164436,\n",
      "                    \"success\": false,\n",
      "                    \"reason\": \"While the actual output provides detailed legal information, it is not clear and accessible for someone without legal knowledge, making it harder to understand what actions can be taken regarding detention.\"\n",
      "                }\n",
      "            }\n",
      "        },\n",
      "        {\n",
      "            \"query\": \"Care sunt drepturile cetățeanului român?\",\n",
      "            \"expected\": \"Cetățeanul român beneficiază de drepturi și libertăți fundamentale în toate domeniile vieții. Drepturile civile și politice includ dreptul la viață, libertatea individuală, dreptul la apărare, dreptul de vot de la 18 ani și eligibilitatea pentru funcții publice. Libertățile fundamentale cuprind libertatea gândirii și credinței religioase, libertatea de exprimare, dreptul la informație și dreptul de asociere în partide și sindicate. Drepturile economice și sociale garantează munca liber aleasă, greva, proprietatea privată, moștenirea, pensia și asistența medicală. În plus, cetățenii au dreptul la învățătură, acces la cultură, un mediu sănătos și protecția statului în străinătate.\",\n",
      "            \"actual\": \"Drepturile cetățenilor din România sunt protejate de Constituția României. Conform articolului 19 alineatul (1) din Constituție, cetățenii au dreptul la egalitatea în fața legii și a autorităților publice, fără privilegii și discriminare, nimeni nu fiind mai presus de lege. Aceasta înseamnă că fiecare persoană are același statut juridic în cadrul țării, indiferent de originea lor sau de poziția lor socială.\",\n",
      "            \"metrics\": {\n",
      "                \"Answer Relevancy\": {\n",
      "                    \"score\": 1.0,\n",
      "                    \"success\": true,\n",
      "                    \"reason\": \"The score is 1.00 because the response perfectly addresses the question about the rights of a Romanian citizen without any irrelevant information. Great job on staying focused and relevant!\"\n",
      "                },\n",
      "                \"Contextual Recall\": {\n",
      "                    \"score\": 0.4,\n",
      "                    \"success\": false,\n",
      "                    \"reason\": \"The score is 0.40 because while the 3rd node in the retrieval context supports the mention of 'drepturi și libertăți fundamentale' and the 2nd node aligns with 'dreptul de vot de la 18 ani și eligibilitatea pentru funcții publice', there is a lack of explicit references to 'libertatea gândirii și credinței religioase', 'libertatea de exprimare', and other rights in the retrieval context. This results in a limited alignment with the expected output.\"\n",
      "                },\n",
      "                \"Faithfulness\": {\n",
      "                    \"score\": 1.0,\n",
      "                    \"success\": true,\n",
      "                    \"reason\": \"The score is 1.00 because there are no contradictions present, indicating that the actual output perfectly aligns with the retrieval context.\"\n",
      "                },\n",
      "                \"Understanding (GEval)\": {\n",
      "                    \"score\": 0.4246947177728674,\n",
      "                    \"success\": false,\n",
      "                    \"reason\": \"The response mentions the protection of rights under the Constitution but lacks clarity and detail on specific rights, making it less accessible for someone without legal knowledge.\"\n",
      "                }\n",
      "            }\n",
      "        },\n",
      "        {\n",
      "            \"query\": \"Ce obligație are angajatorul înainte de încheierea contractului individual de muncă?\",\n",
      "            \"expected\": \"Anterior încheierii sau modificării contractului individual de muncă, angajatorul are obligația de a informa persoana selectată în vederea angajării cu privire la clauzele esențiale pe care intenționează să le înscrie în contract sau să le modifice.\",\n",
      "            \"actual\": \"Înainte de a încheia un contract individual de muncă, angajatorul are obligația de a informa persoana selectată în vederea angajării sau salariatul cu privire la clauzele esențiale pe care intenționează să le inscrie în contract sau să le modifice.\",\n",
      "            \"metrics\": {\n",
      "                \"Answer Relevancy\": {\n",
      "                    \"score\": 1.0,\n",
      "                    \"success\": true,\n",
      "                    \"reason\": \"The score is 1.00 because the response perfectly addresses the question about the employer's obligations before signing an individual employment contract, with no irrelevant statements present. Great job!\"\n",
      "                },\n",
      "                \"Contextual Recall\": {\n",
      "                    \"score\": 1.0,\n",
      "                    \"success\": true,\n",
      "                    \"reason\": \"The score is 1.00 because the expected output is perfectly aligned with the retrieval context, as the sentence is directly quoted from the 2nd node in the retrieval context. Great job!\"\n",
      "                },\n",
      "                \"Faithfulness\": {\n",
      "                    \"score\": 0.0,\n",
      "                    \"success\": false,\n",
      "                    \"reason\": \"The score is 0.00 because the actual output incorrectly states that the employer must inform the selected person about clauses they intend to include, while the retrieval context clearly specifies that the employer must inform them about the essential clauses of the employment contract.\"\n",
      "                },\n",
      "                \"Understanding (GEval)\": {\n",
      "                    \"score\": 0.8038097778000532,\n",
      "                    \"success\": true,\n",
      "                    \"reason\": \"The response is clear and accessible, explaining the employer's obligation, but it slightly differs from the expected output in phrasing.\"\n",
      "                }\n",
      "            }\n",
      "        },\n",
      "        {\n",
      "            \"query\": \"Care este vârsta legală minimă pentru încheierea unei căsătorii în România?\",\n",
      "            \"expected\": \"Căsătoria se poate încheia dacă viitorii soți au împlinit vârsta de 18 ani.\",\n",
      "            \"actual\": \"Vârsta legală minimă pentru încheierea unei căsătorii în România este de 16 ani. Pentru ca o căsătorie să fie considerată valabilă, cel puțin unul dintre soți trebuie să aibă această vârstă și până când sentința judecătorească definitivă nu este pronunțată.\",\n",
      "            \"metrics\": {\n",
      "                \"Answer Relevancy\": {\n",
      "                    \"score\": 0.6666666666666666,\n",
      "                    \"success\": false,\n",
      "                    \"reason\": \"The score is 0.67 because the response partially addresses the question about the legal minimum age for marriage in Romania. However, the inclusion of a statement about judicial sentences related to marriage validity, which is not directly relevant to the age requirement, prevents the score from being higher. Despite this, the core information needed was still partially conveyed.\"\n",
      "                },\n",
      "                \"Contextual Recall\": {\n",
      "                    \"score\": 1.0,\n",
      "                    \"success\": true,\n",
      "                    \"reason\": \"The score is 1.00 because the expected output perfectly matches the information from the 2nd node in the retrieval context, showcasing a flawless alignment.\"\n",
      "                },\n",
      "                \"Faithfulness\": {\n",
      "                    \"score\": 0.3333333333333333,\n",
      "                    \"success\": false,\n",
      "                    \"reason\": \"The score is 0.33 because the actual output contradicts the retrieval context by incorrectly suggesting that minors can marry, despite the context stating that the minimum legal age is 18, and it fails to acknowledge that marriages require both spouses to be over 18 for validation before a court decision.\"\n",
      "                },\n",
      "                \"Understanding (GEval)\": {\n",
      "                    \"score\": 0.3506015515354003,\n",
      "                    \"success\": false,\n",
      "                    \"reason\": \"The actual output provides the minimum age of 16 years, which is incorrect as the expected output states it should be 18 years. While the response is clear, it does not convey the correct legal requirement.\"\n",
      "                }\n",
      "            }\n",
      "        },\n",
      "        {\n",
      "            \"query\": \"În ce condiții poate fi încheiat un contract de vânzare-cumpărare și care sunt excepțiile de la forma scrisă?\",\n",
      "            \"expected\": \"Contractul de vânzare-cumpărare se încheie prin acordul părților asupra lucrului și prețului. Contractul trebuie să fie în formă scrisă pentru bunurile imobile, pentru bunurile mobile cu valoarea peste o anumită sumă stabilită prin lege și pentru bunurile viitoare. Forma scrisă nu este obligatorie pentru bunurile mobile de valoare mică, pentru vânzările în cadrul activităților comerciale curente cu plată pe loc, sau când legea prevede expres alte forme de încheierie.\",\n",
      "            \"actual\": \"Un contract de vânzări-cumpărături poate fi încheiat verbal, dar este esențial să respectați forma scrisă dacă este prevăzută de lege. Forma scrisă nu este necesară numai pentru dovada contractului. \\n\\nContractul trebuie încheiat în formă scrisă dacă prin lege se prevede altfel.\\n\\nÎn ceea ce privește contractele cu forma specială, acestea trebuie să fie încheiate în mod obligatoriu în formă scrisă și să conțină condițiile specifice necesare conform actului juridic. Aceasta include aspecte precum societatea, participații, natura legală, obiectul, denumirea și sediul acestora.\",\n",
      "            \"metrics\": {\n",
      "                \"Answer Relevancy\": {\n",
      "                    \"score\": 1.0,\n",
      "                    \"success\": true,\n",
      "                    \"reason\": \"The score is 1.00 because the response perfectly addresses the input question without any irrelevant statements, providing clear and concise information about the conditions for concluding a sales contract and exceptions to the written form requirement. Great job!\"\n",
      "                },\n",
      "                \"Contextual Recall\": {\n",
      "                    \"score\": 0.3333333333333333,\n",
      "                    \"success\": false,\n",
      "                    \"reason\": \"The score is 0.33 because only the requirement for a written form for certain goods (sentence 2) aligns with the 1st node in the retrieval context. However, the agreement on object and price (sentence 1) and exceptions for small value goods and commercial activities (sentence 4) are not supported by any nodes in the retrieval context.\"\n",
      "                },\n",
      "                \"Faithfulness\": {\n",
      "                    \"score\": 0.6666666666666666,\n",
      "                    \"success\": false,\n",
      "                    \"reason\": \"The score is 0.67 because the actual output inaccurately states that written form is not necessary for contract proof, contradicting the context that emphasizes its necessity unless legally exempt. Additionally, while it correctly mentions that contracts with special forms must be in writing, it fails to acknowledge the stricter requirement for contracts of society, which must be in writing to avoid absolute nullity.\"\n",
      "                },\n",
      "                \"Understanding (GEval)\": {\n",
      "                    \"score\": 0.5306513358565773,\n",
      "                    \"success\": false,\n",
      "                    \"reason\": \"The response provides some clarity on contract formation but lacks specific examples and clear distinctions regarding when written form is necessary, making it less accessible for someone without legal knowledge.\"\n",
      "                }\n",
      "            }\n",
      "        },\n",
      "        {\n",
      "            \"query\": \"Care sunt drepturile și obligațiile părților în cazul unei concedieri individuale pentru motive care nu țin de persoana salariatului?\",\n",
      "            \"expected\": \"În cazul concedierii pentru motive care nu țin de persoana salariatului, angajatorul trebuie să respecte proceduri stricte și să asigure drepturi specifice salariatului. Concedierea este permisă doar pentru desființarea locului de muncă din motive economice, tehnologice, structurale sau similare. Angajatorul are obligația să acorde un preaviz de minimum 20 de zile lucrătoare și să respecte criterii obiective de selecție (performanțe profesionale, vechime, sarcini de întreținere).\",\n",
      "            \"actual\": \"Când un angajator își încheie un contract individual de muncă (un angajat) din motive care nu țin de persoana angajatului, acesta este denumit „concediere”. Concedierile sunt motivate fie de un motiv legat de persoana salariatului, fie de un motiv care nu este legat de persoana salariatului. Acest tip specific de concedieri se bazează pe desființarea locului de muncă ocupat de angajat din cauza unor motive nelegate de acesta, într-o întreprindere sau o unitate care a trecut la un alt angajator. Salariata beneficiază în continuare de drepturile sale și obligațiile contractului existente la data transferului, iar aceste drepturi sunt transmise noului angajator. Transferul unei întreprinderi, al unei unități sau al unor părți ale acestuia nu poate fi o justificare pentru concedierea individuală sau colectivă a salariatului atât de către cedent cât și de către cesionar.\",\n",
      "            \"metrics\": {\n",
      "                \"Answer Relevancy\": {\n",
      "                    \"score\": 0.5,\n",
      "                    \"success\": false,\n",
      "                    \"reason\": \"The score is 0.50 because while the output touches on related topics like rights and obligations during transfers and justifications for dismissal, it doesn't directly address the specific rights and obligations in the context of an individual dismissal for reasons unrelated to the employee's performance. The presence of these tangentially related statements prevents a higher score, but the overall relevance to employment law keeps it from being lower.\"\n",
      "                },\n",
      "                \"Contextual Recall\": {\n",
      "                    \"score\": 0.6666666666666666,\n",
      "                    \"success\": false,\n",
      "                    \"reason\": \"The score is 0.67 because while the 2nd node in the retrieval context aligns well with the first two sentences of the expected output, mentioning 'concedierea pentru motive care nu tin de persoana salariatului' and 'desfiintarea locului de munca', it lacks information on 'preaviz de minimum 20 de zile lucrătoare' and 'criterii obiective de selecție', which are crucial for a complete match.\"\n",
      "                },\n",
      "                \"Faithfulness\": {\n",
      "                    \"score\": 0.6666666666666666,\n",
      "                    \"success\": false,\n",
      "                    \"reason\": \"The score is 0.67 because the actual output incorrectly implies that dismissals can occur due to unrelated reasons during a transfer, contradicting the context that states such transfers do not justify dismissals. Additionally, it misrepresents the continuity of rights and obligations, suggesting they remain with the employee rather than transferring to the new employer as stated in the context.\"\n",
      "                },\n",
      "                \"Understanding (GEval)\": {\n",
      "                    \"score\": 0.42206074890355794,\n",
      "                    \"success\": false,\n",
      "                    \"reason\": \"The response provides some information about termination but lacks clarity on the specific rights and obligations of the employee and employer, making it less accessible for someone without legal knowledge.\"\n",
      "                }\n",
      "            }\n",
      "        }\n",
      "    ]\n",
      "}\n",
      "Evaluating model: rollama2-7b-instruct\n",
      "{\n",
      "    \"Answer Relevancy\": {\n",
      "        \"avg_score\": 0.799,\n",
      "        \"std_dev\": 0.235,\n",
      "        \"pass_rate\": \"66.7%\",\n",
      "        \"total_cases\": 6\n",
      "    },\n",
      "    \"Contextual Recall\": {\n",
      "        \"avg_score\": 0.733,\n",
      "        \"std_dev\": 0.313,\n",
      "        \"pass_rate\": \"50.0%\",\n",
      "        \"total_cases\": 6\n",
      "    },\n",
      "    \"Faithfulness\": {\n",
      "        \"avg_score\": 0.765,\n",
      "        \"std_dev\": 0.213,\n",
      "        \"pass_rate\": \"50.0%\",\n",
      "        \"total_cases\": 6\n",
      "    },\n",
      "    \"Understanding (GEval)\": {\n",
      "        \"avg_score\": 0.487,\n",
      "        \"std_dev\": 0.114,\n",
      "        \"pass_rate\": \"0.0%\",\n",
      "        \"total_cases\": 6\n",
      "    },\n",
      "    \"examples\": [\n",
      "        {\n",
      "            \"query\": \"Cât timp poate fi reținută o persoană înainte de a fi arestată?\",\n",
      "            \"expected\": \"Reținerea nu poate depăși 24 de ore. După acest termen, persoana trebuie eliberată sau arestată preventiv prin decizia unui judecător.\",\n",
      "            \"actual\": \"În România, o persoană poate fi reținută pentru cel mult 24 de ore, iar arestarea preventivă (închisoare) se poate dispune doar pentru până la 180 de zile în cazul faptelor grave. Dacă motivele privind reținerea sau arestarea dispar sau dacă sunt îndeplinite alte condiții, persoana trebuie pusă imediat în libertate.\",\n",
      "            \"metrics\": {\n",
      "                \"Answer Relevancy\": {\n",
      "                    \"score\": 0.75,\n",
      "                    \"success\": true,\n",
      "                    \"reason\": \"The score is 0.75 because the response mostly addresses the question about the retention period before arrest. However, it includes a statement about preventive arrest duration, which is not directly relevant to the initial retention period, slightly lowering the score.\"\n",
      "                },\n",
      "                \"Contextual Recall\": {\n",
      "                    \"score\": 1.0,\n",
      "                    \"success\": true,\n",
      "                    \"reason\": \"The score is 1.00 because every sentence in the expected output is perfectly aligned with the nodes in the retrieval context, ensuring complete accuracy and relevance. Great job!\"\n",
      "                },\n",
      "                \"Faithfulness\": {\n",
      "                    \"score\": 0.6666666666666666,\n",
      "                    \"success\": false,\n",
      "                    \"reason\": \"The score is 0.67 because the actual output incorrectly states that preventive arrest can be extended for a total of 180 days in serious cases, contradicting the retrieval context which specifies that it cannot be ordered for 180 days in such cases.\"\n",
      "                },\n",
      "                \"Understanding (GEval)\": {\n",
      "                    \"score\": 0.6381560913722247,\n",
      "                    \"success\": false,\n",
      "                    \"reason\": \"While the actual output provides relevant information about detention and preventive arrest, it is somewhat complex and may not be easily understood by someone without legal knowledge. The expected output is clearer and more concise.\"\n",
      "                }\n",
      "            }\n",
      "        },\n",
      "        {\n",
      "            \"query\": \"Care sunt drepturile cetățeanului român?\",\n",
      "            \"expected\": \"Cetățeanul român beneficiază de drepturi și libertăți fundamentale în toate domeniile vieții. Drepturile civile și politice includ dreptul la viață, libertatea individuală, dreptul la apărare, dreptul de vot de la 18 ani și eligibilitatea pentru funcții publice. Libertățile fundamentale cuprind libertatea gândirii și credinței religioase, libertatea de exprimare, dreptul la informație și dreptul de asociere în partide și sindicate. Drepturile economice și sociale garantează munca liber aleasă, greva, proprietatea privată, moștenirea, pensia și asistența medicală. În plus, cetățenii au dreptul la învățătură, acces la cultură, un mediu sănătos și protecția statului în străinătate.\",\n",
      "            \"actual\": \"\\nDrepturile cetățenilor români sunt prevăzute în principal de Constituția României, precum și de alte acte legislative și decizii judiciare. Unele dintre drepturile esențiale ale acestora includ:\\n1. Egalitatea în fața legii - toți cetățenii au dreptul la un tratament egal în fața legii fără discriminare.\\n2. Accesul liber la justiție - cetățenii români pot beneficia de o cale judiciară eficientă și rapidă pentru soluționarea reclamațiilor lor cu privire la încălcarea drepturilor sau a legislației.\\n3. Protecția proprietății - cetățenii români au protecție legală împotriva confiscării, naționalizării sau exproprierii abuzive de bunuri personale.\\n4. Libertatea de gândire, opinie și exprimare - cetățenii români pot exprima liber opinii fără teama cenzurării de către guvern sau autorități publice. Aceștia pot adresa critici sau sugestii autorităților în mod pașnic și nu pot fi pedepsiți pentru opiniile lor exprimate.\\n5. Libertatea religioasă - cetățenii români au libertatea de a-și practica religia fără teamă sau discriminare din partea guvernului sau a autorităților publice.\\n6. Dreptul la viață, sănătate și bunăstare - cetățenii români au dreptul de a trăi, de a se bucura de o sănătate optimă și de a duce o viață satisfăcătoare.\\n7. Dreptul la educație gratuită și obligatorie - cetățenii români au dreptul la învățământ universal, gratuit și obligatoriu până la absolvirea studiilor obligatorii de învățământ secundar.\\n8. Dreptul de a se adresa organizațiilor internaționale - cetățenii români pot solicita asistență din partea organismelor și organizațiilor internaționale pentru protejarea drepturilor lor în fața guvernului sau autorităților publice.\\n9. Protecția împotriva exploatării - cetățenii români au protecție juridică împotriva muncii forțate, a traficului de persoane și a oricărei alte forme de exploatare inumană sau abuz.\\n10. Libertatea informației - cetățenii români pot avea acces la informații și comunicări fără restricții, exceptând cazurile în care se respectă legislația privind viața privată a persoanelor sau dreptul de proprietate.\\n11. Dreptul la un proces echitabil - cetățenii români au dreptul la o judecată corectă și imparțială în toate cazurile, inclusiv cele referitoare la abordarea preocupărilor lor privind acuzațiile penale.\\n12. Drepturi familiale - cetățenii români au dreptul de a stabili relații matrimoniale și de familie în mod liber și fără discriminare, precum și la protecție socială pentru membrii lor de familie și alte persoane care depind de aceștia.\\n13. Libertatea individuală - cetățenii români au dreptul de a nu fi supuși unor tratamente sau măsuri de discriminare din partea guvernului sau a autorităților publice.\\n14. Dreptul la informații și documente - cetățenii români pot avea acces la informații legate de bunurile lor și la documentele emise de guvern sau de alte organizații publice fără a fi obligați să plătească taxe excesive.\\n15. Dreptul la opoziție - cetățenii români pot exercita dreptul de a se opune oricărei practici sau acțiuni considerate nelegitime sau abuzive din partea guvernului sau a organizațiilor publice, precum și dreptul de a solicita remedierea oricăror prejudicii cauzate prin încălcarea drepturilor lor.\\n\\nAceste drepturi sunt protejate de Constituția României, care acordă cetățenilor un grad ridicat de autonomie și capacitate de a participa la procesele politice și sociale, inclusiv prin alegerea reprezentanților în autoritățile publice. Deși drepturile individuale ale fiecărui cetățean român pot fi limitate sau restricționate în anumite situații, aceste limitări trebuie să se bazeze pe principiul proporționalității și pe o analiză atentă a justificării lor. \",\n",
      "            \"metrics\": {\n",
      "                \"Answer Relevancy\": {\n",
      "                    \"score\": 1.0,\n",
      "                    \"success\": true,\n",
      "                    \"reason\": \"The score is 1.00 because the response perfectly addresses the question about the rights of a Romanian citizen without any irrelevant information. Great job on staying focused and relevant!\"\n",
      "                },\n",
      "                \"Contextual Recall\": {\n",
      "                    \"score\": 0.4,\n",
      "                    \"success\": false,\n",
      "                    \"reason\": \"The score is 0.40 because while the 1st and 2nd nodes in the retrieval context align with the fundamental rights and voting rights mentioned in sentences 1 and 2 of the expected output, the context lacks specific references to other rights such as freedom of thought, economic and social rights, and cultural access, which are detailed in sentences 3 to 5.\"\n",
      "                },\n",
      "                \"Faithfulness\": {\n",
      "                    \"score\": 1.0,\n",
      "                    \"success\": true,\n",
      "                    \"reason\": \"The score is 1.00 because there are no contradictions present, indicating that the actual output perfectly aligns with the retrieval context.\"\n",
      "                },\n",
      "                \"Understanding (GEval)\": {\n",
      "                    \"score\": 0.6096869073568978,\n",
      "                    \"success\": false,\n",
      "                    \"reason\": \"The response provides a detailed list of rights, but it may be too complex for someone without legal knowledge to fully grasp. While it outlines what citizens can do, the clarity and accessibility could be improved.\"\n",
      "                }\n",
      "            }\n",
      "        },\n",
      "        {\n",
      "            \"query\": \"Ce obligație are angajatorul înainte de încheierea contractului individual de muncă?\",\n",
      "            \"expected\": \"Anterior încheierii sau modificării contractului individual de muncă, angajatorul are obligația de a informa persoana selectată în vederea angajării cu privire la clauzele esențiale pe care intenționează să le înscrie în contract sau să le modifice.\",\n",
      "            \"actual\": \"Înainte de semnarea unui contract individual de muncă sau a modificării acestuia, angajatorul are obligația de a informa persoana selectată în vederea angajării sau salariatul cu privire la următoarele elemente:\\n- identitatea părților;\\n- locul de muncă sau, în lipsa unui loc de muncă fix, posibilitatea ca salariatul să își desfășoare activitatea în diferite locuri de muncă și dacă deplasarea între acestea este asigurată sau decontată de către angajator;\\n- sediul sau domiciliul angajatorului;\\n- funcția/ocupatia conform specificației Clasificarii ocupatiilor din Romania sau altor acte normative, precum și fisa postului, cu specificarea atributiilor postului;\\n- durata contractului individual de muncă care urmează să producă efecte, precum și condițiile de acordare a preavizului de către părțile contractante și durata sa;\\n- salariul de bază, alte elemente constitutive ale veniturilor salariale, periodicitatea plății salariului la care salariatul are dreptul și metoda de calculare a orelor suplimentare;\\n- durata și condițiile perioadei de probă, dacă există;\\n- dreptul și condițiile privind formarea profesională oferită de angajator; \\n- suportul din partea angajatorului a asigurării medicale private, a contribuțiilor suplimentare la pensia facultativă sau la pensia ocupatională a salariatului, în condiții legale, precum și acordarea, din inițiativa angajatorului, a oricăror alte drepturi, atunci când acestea constituie avantaje în bani acordate sau plătite de către angajator salariatului ca urmare a activității profesionale a acestuia;\\n- procedurile privind utilizarea semnăturii electronice avansate sau a semnăturii electronice calificate insotite de marca temporala electronica calificata sau marca temporala electronica calificata a angajatorului. \",\n",
      "            \"metrics\": {\n",
      "                \"Answer Relevancy\": {\n",
      "                    \"score\": 1.0,\n",
      "                    \"success\": true,\n",
      "                    \"reason\": \"The score is 1.00 because the response perfectly addresses the question about the employer's obligations before signing an individual employment contract, with no irrelevant information included. Great job on staying focused and relevant!\"\n",
      "                },\n",
      "                \"Contextual Recall\": {\n",
      "                    \"score\": 1.0,\n",
      "                    \"success\": true,\n",
      "                    \"reason\": \"The score is 1.00 because the expected output is perfectly aligned with the retrieval context, as the sentence is directly quoted from the 2nd node in the retrieval context. Great job!\"\n",
      "                },\n",
      "                \"Faithfulness\": {\n",
      "                    \"score\": 0.8,\n",
      "                    \"success\": true,\n",
      "                    \"reason\": \"The score is 0.80 because the actual output includes claims about employer obligations regarding travel reimbursement, job function specification, and job description requirements that are not supported by the retrieval context.\"\n",
      "                },\n",
      "                \"Understanding (GEval)\": {\n",
      "                    \"score\": 0.37578265590417603,\n",
      "                    \"success\": false,\n",
      "                    \"reason\": \"While the actual output provides detailed information about the employer's obligations, it is overly complex and may not be easily understood by someone without legal knowledge, failing to clearly convey what the user is allowed or required to do.\"\n",
      "                }\n",
      "            }\n",
      "        },\n",
      "        {\n",
      "            \"query\": \"Care este vârsta legală minimă pentru încheierea unei căsătorii în România?\",\n",
      "            \"expected\": \"Căsătoria se poate încheia dacă viitorii soți au împlinit vârsta de 18 ani.\",\n",
      "            \"actual\": \"\\nVârsta legală minimă pentru încheierea unei căsătorii în România este de 18 ani. Cu toate acestea, un minor care a împlinit vârsta de 16 ani poate intra în căsătorie dacă are aviz medical și cu consimțământul părinților săi sau, după caz, al tutorelui. În plus, dacă unul dintre părinți refuză să încuviințeze căsătoria, instanța de tutelă decide și asupra acestei divergențe, având în vedere interesul superior al copilului. \",\n",
      "            \"metrics\": {\n",
      "                \"Answer Relevancy\": {\n",
      "                    \"score\": 1.0,\n",
      "                    \"success\": true,\n",
      "                    \"reason\": \"The score is 1.00 because the response is perfectly relevant and directly answers the question about the legal minimum age for marriage in Romania, with no irrelevant information included. Great job!\"\n",
      "                },\n",
      "                \"Contextual Recall\": {\n",
      "                    \"score\": 1.0,\n",
      "                    \"success\": true,\n",
      "                    \"reason\": \"The score is 1.00 because the expected output perfectly matches the information from the 2nd node in the retrieval context, showcasing a flawless alignment.\"\n",
      "                },\n",
      "                \"Faithfulness\": {\n",
      "                    \"score\": 0.6666666666666666,\n",
      "                    \"success\": false,\n",
      "                    \"reason\": \"The score is 0.67 because the actual output incorrectly states that the minimum legal age for marriage in Romania is 18 years, while it fails to clarify that minors aged 16 can marry under specific conditions, leading to a contradiction.\"\n",
      "                },\n",
      "                \"Understanding (GEval)\": {\n",
      "                    \"score\": 0.4855222168486364,\n",
      "                    \"success\": false,\n",
      "                    \"reason\": \"While the actual output provides the legal age for marriage, it includes additional details that may confuse a layperson, making it less clear and accessible compared to the expected output.\"\n",
      "                }\n",
      "            }\n",
      "        },\n",
      "        {\n",
      "            \"query\": \"În ce condiții poate fi încheiat un contract de vânzare-cumpărare și care sunt excepțiile de la forma scrisă?\",\n",
      "            \"expected\": \"Contractul de vânzare-cumpărare se încheie prin acordul părților asupra lucrului și prețului. Contractul trebuie să fie în formă scrisă pentru bunurile imobile, pentru bunurile mobile cu valoarea peste o anumită sumă stabilită prin lege și pentru bunurile viitoare. Forma scrisă nu este obligatorie pentru bunurile mobile de valoare mică, pentru vânzările în cadrul activităților comerciale curente cu plată pe loc, sau când legea prevede expres alte forme de încheierie.\",\n",
      "            \"actual\": \"În ce condiții poate fi încheiat un contract de vânzare-cumpărare și care sunt excepțiile de la forma scrisă?\\n\\nContractele de vânzare-cumpărare pot fi încheiate în formă scrisă sau verbal. Pentru ca un contract să fie valabil, trebuie să respecte anumite condiții:\\n1) Contractul de consignație se încheie în formă scrisă, cu excepția cazului în care legea prevede altfel.\\n2) Societatea poate fi înființată printr-un contract scris care să prevadă aporturile, forma juridică și obiectul societății.\\n3) Mandatul se poate încheia în formă scrisă sau verbală, cu excepția cazului în care legea prevede altfel. Contractele de mandat trebuie să respecte anumite reguli:\\n   a) Actele juridice supuse unei forme specifice trebuie să îndeplinească această formă sub sancțiunea aplicabilă actului în sine, cu excepția cazului în care legea prevede altfel.\\n   b) Mandatul dat pentru a contracta o anumită formă trebuie respectat (cu excepția acceptării tacite). În temeiul legii nu se aplică în ceea ce privește opozabilitatea față de terți, cu excepția cazului în care legea prevede altfel.\\n4) Contractele de vânzare-cumpărare pot fi încheiate prin acceptare tacită, dar numai în anumite condiții și sub rezerva unor proceduri specifice.\\n5) Excepțiile de la cerința formei scrise sunt prevăzute de lege sau pot rezulta din împrejurările contractului. \",\n",
      "            \"metrics\": {\n",
      "                \"Answer Relevancy\": {\n",
      "                    \"score\": 0.5454545454545454,\n",
      "                    \"success\": false,\n",
      "                    \"reason\": \"The score is 0.55 because while the output contains some relevant information about sale-purchase contracts, it is diluted by multiple irrelevant statements focusing on unrelated topics such as company formation and mandate contracts. These off-topic elements prevent the score from being higher, but the presence of some pertinent details maintains it above a lower threshold.\"\n",
      "                },\n",
      "                \"Contextual Recall\": {\n",
      "                    \"score\": 0.3333333333333333,\n",
      "                    \"success\": false,\n",
      "                    \"reason\": \"The score is 0.33 because only the requirement for a written form for certain goods (sentence 2) aligns with the 1st node in the retrieval context. However, the agreement on the object and price (sentence 1) and exceptions for small value goods and commercial activities (sentence 4) are not supported by any nodes in the retrieval context.\"\n",
      "                },\n",
      "                \"Faithfulness\": {\n",
      "                    \"score\": 0.45454545454545453,\n",
      "                    \"success\": false,\n",
      "                    \"reason\": \"The score is 0.45 because the actual output contradicts multiple points in the retrieval context, including the requirement for contracts to be in written form without exceptions, and the lack of mention of verbal agreements or tacit acceptance as valid alternatives.\"\n",
      "                },\n",
      "                \"Understanding (GEval)\": {\n",
      "                    \"score\": 0.3811729762549905,\n",
      "                    \"success\": false,\n",
      "                    \"reason\": \"The actual output provides some information about contracts but lacks clarity and accessibility for someone without legal knowledge, making it difficult to understand what actions are permissible.\"\n",
      "                }\n",
      "            }\n",
      "        },\n",
      "        {\n",
      "            \"query\": \"Care sunt drepturile și obligațiile părților în cazul unei concedieri individuale pentru motive care nu țin de persoana salariatului?\",\n",
      "            \"expected\": \"În cazul concedierii pentru motive care nu țin de persoana salariatului, angajatorul trebuie să respecte proceduri stricte și să asigure drepturi specifice salariatului. Concedierea este permisă doar pentru desființarea locului de muncă din motive economice, tehnologice, structurale sau similare. Angajatorul are obligația să acorde un preaviz de minimum 20 de zile lucrătoare și să respecte criterii obiective de selecție (performanțe profesionale, vechime, sarcini de întreținere).\",\n",
      "            \"actual\": \"\\nÎn cazul unei concedieri individuale pentru motive care nu țin de persoana salariatului, drepturile și obligațiile părților sunt după cum urmează:\\n1. Angajatorul poate concedia un angajat în orice moment din cauza unei desființări efective și a unei motivații reale și serioase, care nu se referă la persoana salariatului.\\n2. Drepturile și obligațiile salariatului, cum ar fi protecția drepturilor la transferul întreprinderii, trebuie transferate noului angajator (cesionar). Acest lucru înseamnă că noul angajator devine răspunzător pentru respectarea acelorași drepturi și obligații ca și fostul angajator. \",\n",
      "            \"metrics\": {\n",
      "                \"Answer Relevancy\": {\n",
      "                    \"score\": 0.5,\n",
      "                    \"success\": false,\n",
      "                    \"reason\": \"The score is 0.50 because while the output contains some relevant information about employment rights, it includes several statements about business transfers, which are not directly related to individual dismissals. This mix of relevant and irrelevant content results in a balanced score.\"\n",
      "                },\n",
      "                \"Contextual Recall\": {\n",
      "                    \"score\": 0.6666666666666666,\n",
      "                    \"success\": false,\n",
      "                    \"reason\": \"The score is 0.67 because while the retrieval context nodes support the general concept of dismissal for reasons unrelated to the employee (node 2), they lack specific details about the 20-day notice and objective selection criteria, which are crucial elements in the expected output.\"\n",
      "                },\n",
      "                \"Faithfulness\": {\n",
      "                    \"score\": 1.0,\n",
      "                    \"success\": true,\n",
      "                    \"reason\": \"The score is 1.00 because there are no contradictions present, indicating that the actual output perfectly aligns with the retrieval context.\"\n",
      "                },\n",
      "                \"Understanding (GEval)\": {\n",
      "                    \"score\": 0.42887433480360054,\n",
      "                    \"success\": false,\n",
      "                    \"reason\": \"The response provides some information about the rights and obligations of the parties but lacks clarity on the specific procedures and requirements that the employer must follow, such as the need for a notice period and objective selection criteria.\"\n",
      "                }\n",
      "            }\n",
      "        }\n",
      "    ]\n",
      "}\n"
     ]
    }
   ],
   "source": [
    "for model_name, model_result_list in model_results.items():\n",
    "    print(f\"Evaluating model: {model_name}\")\n",
    "    results_summary = analyze_model_results(model_result_list)\n",
    "    print(json.dumps(results_summary, indent=4, ensure_ascii=False))\n",
    "\n",
    "# print(model_results[\"rollama3-8b-instruct\"])\n"
   ]
  },
  {
   "cell_type": "markdown",
   "id": "0108be49",
   "metadata": {},
   "source": [
    "### 🔍 **Summary of Results: Rollama3-8b vs Rollama2-7b (with New Prompt)**\n",
    "\n",
    "#### ✅ **Rollama3-8b**\n",
    "\n",
    "* **Scores**: 50% relevance, 50% recall, 33% faithfulness, 17% understanding\n",
    "* **Grammar**: Generally correct, but the style is overly legal and hard to follow.\n",
    "* **Issues**: Answers are often too formal, with long sentences and complex structures. Sometimes includes off-topic info.\n",
    "\n",
    "#### ✅ **Rollama2-7b**\n",
    "\n",
    "* **Scores**: 67% relevance, 50% recall, 50% faithfulness, **0% understanding**\n",
    "* **Grammar**: Acceptable, but sentences are long and unclear.\n",
    "* **Issues**: Provides lots of details, but they’re hard to process. No answers were considered easy to understand.\n",
    "\n",
    "---\n",
    "\n",
    "### ⚖️ **Conclusion**\n",
    "\n",
    "* **Rollama2-7b** gave more accurate and relevant answers overall.\n",
    "* **Rollama3-8b** was better grammatically, but less faithful and harder to understand.\n",
    "* Neither model fully achieved the goal of clear, simple legal explanations.\n",
    "\n",
    "---\n"
   ]
  },
  {
   "cell_type": "code",
   "execution_count": null,
   "id": "13b2ec6e",
   "metadata": {},
   "outputs": [],
   "source": [
    "prompt_v3 = \"\"\" \n",
    "Ești un ghid juridic virtual care explică legea în mod clar și accesibil pentru orice cetățean, fără termeni complicați sau ambigui.\n",
    "\n",
    "Când răspunzi, respectă aceste reguli:\n",
    " - Folosește propoziții clare, scurte și bine structurate (nu mai mult de 2 fraze per idee).\n",
    " - Explică termenii juridici pe înțelesul oricui, fără a presupune cunoștințe legale.\n",
    " - Nu menționa articole de lege și nu inventa surse legale.\n",
    " - Nu adăuga informații care nu apar în contextul oferit.\n",
    " - Dacă contextul nu oferă un răspuns clar, scrie simplu: **„Nu am putut genera un răspuns.”**\n",
    " - Evită limbajul prea tehnic sau abstract. Fii prietenos, dar neutru.\n",
    "\n",
    "Întrebarea utilizatorului este:  \n",
    "{question}\n",
    "\n",
    "Informațiile disponibile sunt:  \n",
    "{context}\n",
    "\n",
    "Scrie răspunsul în limba română. Acesta trebuie să fie clar, politicos și ușor de înțeles.\n",
    "\"\"\"\n",
    "model_results = start_testing(models_list, tests_list, prompt_v3)\n"
   ]
  }
 ],
 "metadata": {
  "kernelspec": {
   "display_name": "Python 3",
   "language": "python",
   "name": "python3"
  },
  "language_info": {
   "codemirror_mode": {
    "name": "ipython",
    "version": 3
   },
   "file_extension": ".py",
   "mimetype": "text/x-python",
   "name": "python",
   "nbconvert_exporter": "python",
   "pygments_lexer": "ipython3",
   "version": "3.12.0"
  }
 },
 "nbformat": 4,
 "nbformat_minor": 5
}
