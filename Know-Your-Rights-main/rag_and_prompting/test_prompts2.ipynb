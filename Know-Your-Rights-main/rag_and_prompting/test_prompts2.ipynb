{
 "cells": [
  {
   "cell_type": "code",
   "execution_count": 1,
   "id": "66971f6d",
   "metadata": {},
   "outputs": [],
   "source": [
    "from langchain_chroma import Chroma\n",
    "from langchain_openai.embeddings import OpenAIEmbeddings\n",
    "from langchain_openai import OpenAI\n",
    "from langchain_openai import ChatOpenAI\n",
    "import json\n",
    "import os\n",
    "from dotenv import load_dotenv\n",
    "\n",
    "load_dotenv()\n",
    "OPENAI_API_KEY = os.getenv(\"OPENAI_API_KEY\")\n",
    "\n",
    "persist_directory = \"/Users/mariaborca/Documents/AI_2023-2024/Semestrul 4/Machine Learning/Know-Your-Rights/chromaDB\"\n",
    "vector_store = Chroma(\n",
    "    collection_name=\"know_your_rights\",\n",
    "    embedding_function=OpenAIEmbeddings(api_key=OPENAI_API_KEY),\n",
    "    persist_directory=persist_directory\n",
    ")\n",
    "\n",
    "def retrive_relevant_documents(query: str, vector_store: Chroma, k: int = 5):\n",
    "    results = vector_store.similarity_search_with_score(query, k=k)\n",
    "    results.sort(key=lambda x: x[1], reverse=False)\n",
    "    return results\n",
    "\n",
    "def get_openai_llm(model: str = \"gpt-4o-mini\"):\n",
    "    return OpenAI(\n",
    "        model=model,\n",
    "        temperature=0,\n",
    "        max_tokens=1000,\n",
    "        api_key=OPENAI_API_KEY)\n",
    "\n",
    "def get_local_model(model: str = \"phi-4\"):\n",
    "    base_url = \"http://localhost:1234/v1\"\n",
    "    api_key = \"lm-studio\"\n",
    "\n",
    "    return ChatOpenAI(\n",
    "        base_url=base_url,\n",
    "        api_key=api_key,\n",
    "        temperature=0.9,\n",
    "        model=model\n",
    "    )\n",
    "\n",
    "def get_response(query, llm, template=None, context=None):\n",
    "    if template is None:\n",
    "        template = \"\"\"\n",
    "        Folosește **doar informațiile din contextul de mai jos** pentru a răspunde la întrebare. \n",
    "        Dacă răspunsul nu este prezent în context, răspunde cu „Nu știu”.\n",
    "\n",
    "        Context:\n",
    "        {context}\n",
    "\n",
    "        Întrebare:\n",
    "        {question}\n",
    "\n",
    "        Răspuns:\n",
    "\n",
    "        \"\"\"\n",
    "        \n",
    "    prompt = template.format(context=context, question=query)\n",
    "    response = llm.invoke(prompt)\n",
    "    return response.content if type(response)!=str else llm.invoke(prompt)\n",
    "\n",
    "def load_test_cases(file_path):\n",
    "    with open(file_path, 'r') as file:\n",
    "        test_cases = json.load(file)\n",
    "    return test_cases"
   ]
  },
  {
   "cell_type": "code",
   "execution_count": 2,
   "id": "eb4a7bcb",
   "metadata": {},
   "outputs": [],
   "source": [
    "from deepeval import evaluate\n",
    "from deepeval.metrics import GEval, AnswerRelevancyMetric, ContextualRecallMetric, FaithfulnessMetric\n",
    "from deepeval.test_case import LLMTestCase, LLMTestCaseParams\n",
    "from deepeval.evaluate.configs import DisplayConfig\n",
    "\n",
    "import io\n",
    "import contextlib\n",
    "\n",
    "def extract_metric_info(evaluation_result):\n",
    "    results = []\n",
    "    for test_result in evaluation_result.test_results:\n",
    "        for metric_data in test_result.metrics_data:\n",
    "            results.append({\n",
    "                \"metric\": metric_data.name,\n",
    "                \"success\": metric_data.success,\n",
    "                \"score\": metric_data.score,\n",
    "                \"reason\": metric_data.reason\n",
    "            })\n",
    "    return results\n",
    "\n",
    "silent_display_config = DisplayConfig(\n",
    "    print_results=False,\n",
    "    show_indicator=False\n",
    ")\n",
    "\n",
    "def test_answer_relevancy(user_query, actual_answer, expected_output):\n",
    "    metric = AnswerRelevancyMetric(\n",
    "        threshold=0.7,\n",
    "        include_reason=True,\n",
    "        verbose_mode=False,\n",
    "    )\n",
    "\n",
    "    test_case = LLMTestCase(\n",
    "        input=user_query,\n",
    "        actual_output=actual_answer,\n",
    "        expected_output=expected_output\n",
    "        )\n",
    "    \n",
    "    return evaluate(\n",
    "        test_cases=[test_case],\n",
    "        metrics=[metric],\n",
    "        display_config=silent_display_config\n",
    "    )\n",
    "\n",
    "def test_contextual_recall(user_query, expected_answer, actual_answer, retrival_context):\n",
    "    metric = ContextualRecallMetric(\n",
    "        threshold=0.7,\n",
    "        include_reason=True,\n",
    "        verbose_mode=False\n",
    "    )\n",
    "    test_case = LLMTestCase(\n",
    "        input=user_query,\n",
    "        expected_output=expected_answer,\n",
    "        actual_output=actual_answer,\n",
    "        retrieval_context=retrival_context\n",
    "    )\n",
    "\n",
    "    return evaluate(\n",
    "        test_cases=[test_case],\n",
    "        metrics=[metric],\n",
    "        display_config=silent_display_config\n",
    "    )\n",
    "\n",
    "def test_faithfulness(user_query, actual_answer, retrival_context, expected_output):\n",
    "    metric = FaithfulnessMetric(\n",
    "        threshold=0.7,\n",
    "        verbose_mode=False,\n",
    "        model=\"gpt-4o-mini\",\n",
    "    )\n",
    "    test_case = LLMTestCase(\n",
    "        input=user_query,\n",
    "        actual_output=actual_answer,\n",
    "        retrieval_context=retrival_context,\n",
    "        expected_output=expected_output\n",
    "    )\n",
    "    return evaluate(\n",
    "        test_cases=[test_case],\n",
    "        metrics=[metric],\n",
    "        display_config=silent_display_config\n",
    "    )\n",
    "\n",
    "def test_understanding(user_query, expected_answer, actual_answer):\n",
    "    metric = GEval(\n",
    "        name=\"Understanding\",\n",
    "        evaluation_steps=(\n",
    "            [\"Răspunsul este formulat într-un mod clar și accesibil pentru o persoană fără cunoștințe juridice? \",\n",
    "            \"Poate utilizatorul să înțeleagă ce are voie să facă sau ce trebuie să facă, pe baza acestui răspuns?\"]\n",
    "        ),\n",
    "        threshold=0.5,\n",
    "        evaluation_params=[LLMTestCaseParams.INPUT, LLMTestCaseParams.ACTUAL_OUTPUT, LLMTestCaseParams.EXPECTED_OUTPUT],\n",
    "        verbose_mode=False,\n",
    "        model=\"gpt-4o-mini\",\n",
    "    )\n",
    "    test_case = LLMTestCase(\n",
    "        input=user_query,\n",
    "        expected_output=expected_answer,\n",
    "        actual_output=actual_answer\n",
    "    )\n",
    "    return evaluate(\n",
    "        test_cases=[test_case],\n",
    "        metrics=[metric],\n",
    "        display_config=silent_display_config\n",
    "    )\n",
    "\n",
    "def test_toxicity(user_query, actual_answer):\n",
    "    metric = GEval(\n",
    "        name=\"Toxicity\",\n",
    "        evaluation_steps=(\n",
    "            [\"Răspunsul conține un limbaj jignitor, rasist, sexist sau altfel inadecvat? \",\n",
    "            \"Răspunsul este formulat într-un mod care ar putea fi considerat ofensator sau inadecvat?\"]\n",
    "        ),\n",
    "        threshold=0.7,\n",
    "        evaluation_params=[LLMTestCaseParams.INPUT, LLMTestCaseParams.ACTUAL_OUTPUT],\n",
    "        verbose_mode=False,\n",
    "        model=\"gpt-4o-mini\",\n",
    "    )\n",
    "    test_case = LLMTestCase(\n",
    "        input=user_query,\n",
    "        actual_output=actual_answer\n",
    "    )\n",
    "    return evaluate(\n",
    "        test_cases=[test_case],\n",
    "        metrics=[metric],\n",
    "        display_config=silent_display_config\n",
    "    )\n",
    "\n",
    "def run_evaluation(test_cases, vector_store, llm, prompt):\n",
    "    results = []\n",
    "    for test_case in test_cases:\n",
    "        user_query = test_case['question']\n",
    "        expected_answer = test_case['expected_answer']\n",
    "\n",
    "        retrival_context = retrive_relevant_documents(user_query, vector_store, k=3)\n",
    "        retrival_context = [doc.page_content for doc, _ in retrival_context]\n",
    "        context = \"\\n\\n\".join(retrival_context)\n",
    "        \n",
    "        # Run RAG to get the actual answer\n",
    "        actual_answer = get_response(user_query, llm, prompt, context)\n",
    "\n",
    "        # Evaluate the answers\n",
    "        relevancy_result = test_answer_relevancy(user_query, actual_answer, expected_answer)\n",
    "        recall_result = test_contextual_recall(user_query, expected_answer, actual_answer, retrival_context)\n",
    "        faithfulness_result = test_faithfulness(user_query, actual_answer, retrival_context, expected_answer)\n",
    "        understanding_result = test_understanding(user_query, expected_answer, actual_answer)\n",
    "        toxicity_result = test_toxicity(user_query, actual_answer)\n",
    "\n",
    "        relevancy_result = extract_metric_info(relevancy_result)\n",
    "        recall_result = extract_metric_info(recall_result)\n",
    "        faithfulness_result = extract_metric_info(faithfulness_result)\n",
    "        understanding_result = extract_metric_info(understanding_result)\n",
    "        toxicity_result = extract_metric_info(toxicity_result)\n",
    "\n",
    "        print(f\"\"\"\n",
    "            Query: {user_query}\n",
    "            Expected: {expected_answer}\n",
    "            Actual: {actual_answer}\n",
    "            Relevancy Score: {relevancy_result}\n",
    "            Recall Score: {recall_result}\n",
    "            Faithfulness Score: {faithfulness_result}\n",
    "            Understanding Score: {understanding_result}\n",
    "            Toxicity Score: {toxicity_result}\n",
    "            \"\"\")\n",
    "       \n",
    "\n",
    "        results.append({\n",
    "            'user_query': user_query,\n",
    "            'expected_answer': expected_answer,\n",
    "            'actual_answer': actual_answer,\n",
    "            'relevancy': relevancy_result,\n",
    "            'recall': recall_result,\n",
    "            'faithfulness': faithfulness_result,\n",
    "            'understanding': understanding_result,\n",
    "            'toxicity': toxicity_result\n",
    "        })\n",
    "    \n",
    "    return results\n",
    "\n",
    "def start_testing(models_list, test_cases, prompt):\n",
    "    results_for_models = {model : [] for model in models_list}\n",
    "    for test in test_cases:\n",
    "        print(f\"Running tests for query: {test['question']}\")\n",
    "        for model in models_list:\n",
    "            print(f\"Using model: {model}\")\n",
    "            llm = get_local_model(model=model)\n",
    "            results = run_evaluation([test], vector_store, llm, prompt)\n",
    "            results_for_models[model].append(results)\n",
    "        print(f\"Finished tests for model: {model}\\n\")\n",
    "        print(\"=\" * 50)\n",
    "        print(\"\\n\")\n",
    "    return results_for_models\n",
    "\n",
    "\n",
    "from statistics import mean, stdev\n",
    "from collections import defaultdict\n",
    "\n",
    "def analyze_model_results(model_results):\n",
    "    \"\"\"\n",
    "    Input: model_results - list (or list of lists) of dictionaries with keys:\n",
    "        'user_query', 'expected_answer', 'actual_answer', 'relevancy', 'recall', 'faithfulness', 'understanding'\n",
    "\n",
    "    Output:\n",
    "        - average score per metric\n",
    "        - pass rate per metric\n",
    "        - a unified list of examples (one per test case, includes all metrics)\n",
    "    \"\"\"\n",
    "\n",
    "    # Flatten if it's a list of lists\n",
    "    if any(isinstance(item, list) for item in model_results):\n",
    "        flat_results = [entry for sublist in model_results for entry in sublist]\n",
    "    else:\n",
    "        flat_results = model_results\n",
    "\n",
    "    metric_data = defaultdict(lambda: {\n",
    "        \"scores\": [],\n",
    "        \"successes\": 0,\n",
    "        \"total\": 0\n",
    "    })\n",
    "\n",
    "    unified_examples = []\n",
    "\n",
    "    for result in flat_results:\n",
    "        test_example = {\n",
    "            \"query\": result[\"user_query\"],\n",
    "            \"expected\": result[\"expected_answer\"],\n",
    "            \"actual\": result[\"actual_answer\"],\n",
    "            \"metrics\": {}\n",
    "        }\n",
    "\n",
    "        for metric_name in [\"relevancy\", \"recall\", \"faithfulness\", \"understanding\"]:\n",
    "            metric_entries = result.get(metric_name, [])\n",
    "            for entry in metric_entries:\n",
    "                name = entry[\"metric\"]\n",
    "                score = entry[\"score\"]\n",
    "                success = entry[\"success\"]\n",
    "                reason = entry.get(\"reason\", \"\")\n",
    "\n",
    "                # Track overall stats\n",
    "                metric_data[name][\"scores\"].append(score)\n",
    "                metric_data[name][\"total\"] += 1\n",
    "                if success:\n",
    "                    metric_data[name][\"successes\"] += 1\n",
    "\n",
    "                # Store this metric result under the test case\n",
    "                test_example[\"metrics\"][name] = {\n",
    "                    \"score\": score,\n",
    "                    \"success\": success,\n",
    "                    \"reason\": reason\n",
    "                }\n",
    "\n",
    "        unified_examples.append(test_example)\n",
    "\n",
    "    summary = {}\n",
    "    for metric, data in metric_data.items():\n",
    "        scores = data[\"scores\"]\n",
    "        summary[metric] = {\n",
    "            \"avg_score\": round(mean(scores), 3) if scores else None,\n",
    "            \"std_dev\": round(stdev(scores), 3) if len(scores) > 1 else 0.0,\n",
    "            \"pass_rate\": f\"{round((data['successes'] / data['total']) * 100, 1)}%\" if data[\"total\"] > 0 else \"N/A\",\n",
    "            \"total_cases\": data[\"total\"]\n",
    "        }\n",
    "\n",
    "    # Add unified examples only once\n",
    "    summary[\"examples\"] = unified_examples\n",
    "\n",
    "    return summary\n",
    "\n",
    "tests_list = load_test_cases(\"test_examples.json\")\n"
   ]
  },
  {
   "cell_type": "code",
   "execution_count": 4,
   "id": "cc56982e",
   "metadata": {},
   "outputs": [
    {
     "name": "stdout",
     "output_type": "stream",
     "text": [
      "Running tests for query: Cât timp poate fi reținută o persoană înainte de a fi arestată?\n",
      "Using model: rollama3-8b-instruct\n"
     ]
    },
    {
     "data": {
      "text/html": [
       "<pre style=\"white-space:pre;overflow-x:auto;line-height:normal;font-family:Menlo,'DejaVu Sans Mono',consolas,'Courier New',monospace\">\n",
       "<span style=\"color: #05f58d; text-decoration-color: #05f58d\">✓</span> Tests finished 🎉! Run <span style=\"color: #008000; text-decoration-color: #008000; font-weight: bold\">'deepeval login'</span> to save and analyze evaluation results on Confident AI.\n",
       " \n",
       "✨👀 Looking for a place for your LLM test data to live 🏡❤️ ? Use <span style=\"color: #6a00ff; text-decoration-color: #6a00ff\">Confident AI</span> to get &amp; share testing reports, \n",
       "experiment with models/prompts, and catch regressions for your LLM system. Just run <span style=\"color: #008080; text-decoration-color: #008080\">'deepeval login'</span> in the CLI. \n",
       "\n",
       "</pre>\n"
      ],
      "text/plain": [
       "\n",
       "\u001b[38;2;5;245;141m✓\u001b[0m Tests finished 🎉! Run \u001b[1;32m'deepeval login'\u001b[0m to save and analyze evaluation results on Confident AI.\n",
       " \n",
       "✨👀 Looking for a place for your LLM test data to live 🏡❤️ ? Use \u001b[38;2;106;0;255mConfident AI\u001b[0m to get & share testing reports, \n",
       "experiment with models/prompts, and catch regressions for your LLM system. Just run \u001b[36m'deepeval login'\u001b[0m in the CLI. \n",
       "\n"
      ]
     },
     "metadata": {},
     "output_type": "display_data"
    },
    {
     "data": {
      "text/html": [
       "<pre style=\"white-space:pre;overflow-x:auto;line-height:normal;font-family:Menlo,'DejaVu Sans Mono',consolas,'Courier New',monospace\">\n",
       "<span style=\"color: #05f58d; text-decoration-color: #05f58d\">✓</span> Tests finished 🎉! Run <span style=\"color: #008000; text-decoration-color: #008000; font-weight: bold\">'deepeval login'</span> to save and analyze evaluation results on Confident AI.\n",
       " \n",
       "✨👀 Looking for a place for your LLM test data to live 🏡❤️ ? Use <span style=\"color: #6a00ff; text-decoration-color: #6a00ff\">Confident AI</span> to get &amp; share testing reports, \n",
       "experiment with models/prompts, and catch regressions for your LLM system. Just run <span style=\"color: #008080; text-decoration-color: #008080\">'deepeval login'</span> in the CLI. \n",
       "\n",
       "</pre>\n"
      ],
      "text/plain": [
       "\n",
       "\u001b[38;2;5;245;141m✓\u001b[0m Tests finished 🎉! Run \u001b[1;32m'deepeval login'\u001b[0m to save and analyze evaluation results on Confident AI.\n",
       " \n",
       "✨👀 Looking for a place for your LLM test data to live 🏡❤️ ? Use \u001b[38;2;106;0;255mConfident AI\u001b[0m to get & share testing reports, \n",
       "experiment with models/prompts, and catch regressions for your LLM system. Just run \u001b[36m'deepeval login'\u001b[0m in the CLI. \n",
       "\n"
      ]
     },
     "metadata": {},
     "output_type": "display_data"
    },
    {
     "data": {
      "text/html": [
       "<pre style=\"white-space:pre;overflow-x:auto;line-height:normal;font-family:Menlo,'DejaVu Sans Mono',consolas,'Courier New',monospace\">\n",
       "<span style=\"color: #05f58d; text-decoration-color: #05f58d\">✓</span> Tests finished 🎉! Run <span style=\"color: #008000; text-decoration-color: #008000; font-weight: bold\">'deepeval login'</span> to save and analyze evaluation results on Confident AI.\n",
       " \n",
       "✨👀 Looking for a place for your LLM test data to live 🏡❤️ ? Use <span style=\"color: #6a00ff; text-decoration-color: #6a00ff\">Confident AI</span> to get &amp; share testing reports, \n",
       "experiment with models/prompts, and catch regressions for your LLM system. Just run <span style=\"color: #008080; text-decoration-color: #008080\">'deepeval login'</span> in the CLI. \n",
       "\n",
       "</pre>\n"
      ],
      "text/plain": [
       "\n",
       "\u001b[38;2;5;245;141m✓\u001b[0m Tests finished 🎉! Run \u001b[1;32m'deepeval login'\u001b[0m to save and analyze evaluation results on Confident AI.\n",
       " \n",
       "✨👀 Looking for a place for your LLM test data to live 🏡❤️ ? Use \u001b[38;2;106;0;255mConfident AI\u001b[0m to get & share testing reports, \n",
       "experiment with models/prompts, and catch regressions for your LLM system. Just run \u001b[36m'deepeval login'\u001b[0m in the CLI. \n",
       "\n"
      ]
     },
     "metadata": {},
     "output_type": "display_data"
    },
    {
     "data": {
      "text/html": [
       "<pre style=\"white-space:pre;overflow-x:auto;line-height:normal;font-family:Menlo,'DejaVu Sans Mono',consolas,'Courier New',monospace\">\n",
       "<span style=\"color: #05f58d; text-decoration-color: #05f58d\">✓</span> Tests finished 🎉! Run <span style=\"color: #008000; text-decoration-color: #008000; font-weight: bold\">'deepeval login'</span> to save and analyze evaluation results on Confident AI.\n",
       " \n",
       "✨👀 Looking for a place for your LLM test data to live 🏡❤️ ? Use <span style=\"color: #6a00ff; text-decoration-color: #6a00ff\">Confident AI</span> to get &amp; share testing reports, \n",
       "experiment with models/prompts, and catch regressions for your LLM system. Just run <span style=\"color: #008080; text-decoration-color: #008080\">'deepeval login'</span> in the CLI. \n",
       "\n",
       "</pre>\n"
      ],
      "text/plain": [
       "\n",
       "\u001b[38;2;5;245;141m✓\u001b[0m Tests finished 🎉! Run \u001b[1;32m'deepeval login'\u001b[0m to save and analyze evaluation results on Confident AI.\n",
       " \n",
       "✨👀 Looking for a place for your LLM test data to live 🏡❤️ ? Use \u001b[38;2;106;0;255mConfident AI\u001b[0m to get & share testing reports, \n",
       "experiment with models/prompts, and catch regressions for your LLM system. Just run \u001b[36m'deepeval login'\u001b[0m in the CLI. \n",
       "\n"
      ]
     },
     "metadata": {},
     "output_type": "display_data"
    },
    {
     "data": {
      "text/html": [
       "<pre style=\"white-space:pre;overflow-x:auto;line-height:normal;font-family:Menlo,'DejaVu Sans Mono',consolas,'Courier New',monospace\">\n",
       "<span style=\"color: #05f58d; text-decoration-color: #05f58d\">✓</span> Tests finished 🎉! Run <span style=\"color: #008000; text-decoration-color: #008000; font-weight: bold\">'deepeval login'</span> to save and analyze evaluation results on Confident AI.\n",
       " \n",
       "✨👀 Looking for a place for your LLM test data to live 🏡❤️ ? Use <span style=\"color: #6a00ff; text-decoration-color: #6a00ff\">Confident AI</span> to get &amp; share testing reports, \n",
       "experiment with models/prompts, and catch regressions for your LLM system. Just run <span style=\"color: #008080; text-decoration-color: #008080\">'deepeval login'</span> in the CLI. \n",
       "\n",
       "</pre>\n"
      ],
      "text/plain": [
       "\n",
       "\u001b[38;2;5;245;141m✓\u001b[0m Tests finished 🎉! Run \u001b[1;32m'deepeval login'\u001b[0m to save and analyze evaluation results on Confident AI.\n",
       " \n",
       "✨👀 Looking for a place for your LLM test data to live 🏡❤️ ? Use \u001b[38;2;106;0;255mConfident AI\u001b[0m to get & share testing reports, \n",
       "experiment with models/prompts, and catch regressions for your LLM system. Just run \u001b[36m'deepeval login'\u001b[0m in the CLI. \n",
       "\n"
      ]
     },
     "metadata": {},
     "output_type": "display_data"
    },
    {
     "name": "stdout",
     "output_type": "stream",
     "text": [
      "\n",
      "            Query: Cât timp poate fi reținută o persoană înainte de a fi arestată?\n",
      "            Expected: Reținerea nu poate depăși 24 de ore. După acest termen, persoana trebuie eliberată sau arestată preventiv prin decizia unui judecător.\n",
      "            Actual: Drepturile unui cetățean care este arestat preventiv sunt prevăzute de lege. Acestea pot fi reținute timp de maximum 30 de zile și se poate prelungi cu până la alte 30 de zile, fără ca durata totală să depășească un termen rezonabil, care nu poate depăși 180 de zile. O instanță va verifica periodic legalitatea și temeinicia arestării preventive, iar învinuirea se aduce în cele din urmă celui reținut sau arestat. În cazul în care motivele pentru aceasta nu mai există sau dacă instanța constată că nu există noi motive de a menține privarea de libertate, persoana va fi eliberată imediat.\n",
      "            Relevancy Score: [{'metric': 'Answer Relevancy', 'success': False, 'score': 0.1, 'reason': 'The score is 0.10 because the output primarily contains statements that do not directly address the question about the duration a person can be detained before arrest. Instead, it focuses on various aspects of arrest and detention that are unrelated to the specific inquiry, such as rights, extensions, and conditions for release. This lack of direct relevance significantly lowers the score.'}]\n",
      "            Recall Score: [{'metric': 'Contextual Recall', 'success': False, 'score': 0.5, 'reason': \"The score is 0.50 because the sentence 'Reținerea nu poate depăși 24 de ore.' is well-supported by the 3rd node in the retrieval context, ensuring partial alignment. However, the subsequent sentence lacks direct support from any node in the retrieval context, leading to a moderate score.\"}]\n",
      "            Faithfulness Score: [{'metric': 'Faithfulness', 'success': False, 'score': 0.5714285714285714, 'reason': 'The score is 0.57 because the actual output incorrectly states that the detention period can be extended by 30 days, while the context specifies it can only be extended for a maximum of 30 days. Additionally, it misrepresents the process of informing the accused about the charges, stating it can happen without a lawyer present, which contradicts the context. Lastly, it fails to clarify that the court must release the accused if the grounds for arrest have ceased, but not necessarily immediately, which is a critical detail missing from the output.'}]\n",
      "            Understanding Score: [{'metric': 'Understanding (GEval)', 'success': False, 'score': 0.2749622926583497, 'reason': 'The response provides legal information about detention duration but does not clearly state that a person must be released or formally arrested within 24 hours, as indicated in the expected output.'}]\n",
      "            Toxicity Score: [{'metric': 'Toxicity (GEval)', 'success': True, 'score': 0.9999999999999998, 'reason': 'The response is informative and does not contain any offensive or inappropriate language.'}]\n",
      "            \n",
      "Using model: rollama2-7b-instruct\n"
     ]
    },
    {
     "data": {
      "text/html": [
       "<pre style=\"white-space:pre;overflow-x:auto;line-height:normal;font-family:Menlo,'DejaVu Sans Mono',consolas,'Courier New',monospace\">\n",
       "<span style=\"color: #05f58d; text-decoration-color: #05f58d\">✓</span> Tests finished 🎉! Run <span style=\"color: #008000; text-decoration-color: #008000; font-weight: bold\">'deepeval login'</span> to save and analyze evaluation results on Confident AI.\n",
       " \n",
       "✨👀 Looking for a place for your LLM test data to live 🏡❤️ ? Use <span style=\"color: #6a00ff; text-decoration-color: #6a00ff\">Confident AI</span> to get &amp; share testing reports, \n",
       "experiment with models/prompts, and catch regressions for your LLM system. Just run <span style=\"color: #008080; text-decoration-color: #008080\">'deepeval login'</span> in the CLI. \n",
       "\n",
       "</pre>\n"
      ],
      "text/plain": [
       "\n",
       "\u001b[38;2;5;245;141m✓\u001b[0m Tests finished 🎉! Run \u001b[1;32m'deepeval login'\u001b[0m to save and analyze evaluation results on Confident AI.\n",
       " \n",
       "✨👀 Looking for a place for your LLM test data to live 🏡❤️ ? Use \u001b[38;2;106;0;255mConfident AI\u001b[0m to get & share testing reports, \n",
       "experiment with models/prompts, and catch regressions for your LLM system. Just run \u001b[36m'deepeval login'\u001b[0m in the CLI. \n",
       "\n"
      ]
     },
     "metadata": {},
     "output_type": "display_data"
    },
    {
     "data": {
      "text/html": [
       "<pre style=\"white-space:pre;overflow-x:auto;line-height:normal;font-family:Menlo,'DejaVu Sans Mono',consolas,'Courier New',monospace\">\n",
       "<span style=\"color: #05f58d; text-decoration-color: #05f58d\">✓</span> Tests finished 🎉! Run <span style=\"color: #008000; text-decoration-color: #008000; font-weight: bold\">'deepeval login'</span> to save and analyze evaluation results on Confident AI.\n",
       " \n",
       "✨👀 Looking for a place for your LLM test data to live 🏡❤️ ? Use <span style=\"color: #6a00ff; text-decoration-color: #6a00ff\">Confident AI</span> to get &amp; share testing reports, \n",
       "experiment with models/prompts, and catch regressions for your LLM system. Just run <span style=\"color: #008080; text-decoration-color: #008080\">'deepeval login'</span> in the CLI. \n",
       "\n",
       "</pre>\n"
      ],
      "text/plain": [
       "\n",
       "\u001b[38;2;5;245;141m✓\u001b[0m Tests finished 🎉! Run \u001b[1;32m'deepeval login'\u001b[0m to save and analyze evaluation results on Confident AI.\n",
       " \n",
       "✨👀 Looking for a place for your LLM test data to live 🏡❤️ ? Use \u001b[38;2;106;0;255mConfident AI\u001b[0m to get & share testing reports, \n",
       "experiment with models/prompts, and catch regressions for your LLM system. Just run \u001b[36m'deepeval login'\u001b[0m in the CLI. \n",
       "\n"
      ]
     },
     "metadata": {},
     "output_type": "display_data"
    },
    {
     "data": {
      "text/html": [
       "<pre style=\"white-space:pre;overflow-x:auto;line-height:normal;font-family:Menlo,'DejaVu Sans Mono',consolas,'Courier New',monospace\">\n",
       "<span style=\"color: #05f58d; text-decoration-color: #05f58d\">✓</span> Tests finished 🎉! Run <span style=\"color: #008000; text-decoration-color: #008000; font-weight: bold\">'deepeval login'</span> to save and analyze evaluation results on Confident AI.\n",
       " \n",
       "✨👀 Looking for a place for your LLM test data to live 🏡❤️ ? Use <span style=\"color: #6a00ff; text-decoration-color: #6a00ff\">Confident AI</span> to get &amp; share testing reports, \n",
       "experiment with models/prompts, and catch regressions for your LLM system. Just run <span style=\"color: #008080; text-decoration-color: #008080\">'deepeval login'</span> in the CLI. \n",
       "\n",
       "</pre>\n"
      ],
      "text/plain": [
       "\n",
       "\u001b[38;2;5;245;141m✓\u001b[0m Tests finished 🎉! Run \u001b[1;32m'deepeval login'\u001b[0m to save and analyze evaluation results on Confident AI.\n",
       " \n",
       "✨👀 Looking for a place for your LLM test data to live 🏡❤️ ? Use \u001b[38;2;106;0;255mConfident AI\u001b[0m to get & share testing reports, \n",
       "experiment with models/prompts, and catch regressions for your LLM system. Just run \u001b[36m'deepeval login'\u001b[0m in the CLI. \n",
       "\n"
      ]
     },
     "metadata": {},
     "output_type": "display_data"
    },
    {
     "data": {
      "text/html": [
       "<pre style=\"white-space:pre;overflow-x:auto;line-height:normal;font-family:Menlo,'DejaVu Sans Mono',consolas,'Courier New',monospace\">\n",
       "<span style=\"color: #05f58d; text-decoration-color: #05f58d\">✓</span> Tests finished 🎉! Run <span style=\"color: #008000; text-decoration-color: #008000; font-weight: bold\">'deepeval login'</span> to save and analyze evaluation results on Confident AI.\n",
       " \n",
       "✨👀 Looking for a place for your LLM test data to live 🏡❤️ ? Use <span style=\"color: #6a00ff; text-decoration-color: #6a00ff\">Confident AI</span> to get &amp; share testing reports, \n",
       "experiment with models/prompts, and catch regressions for your LLM system. Just run <span style=\"color: #008080; text-decoration-color: #008080\">'deepeval login'</span> in the CLI. \n",
       "\n",
       "</pre>\n"
      ],
      "text/plain": [
       "\n",
       "\u001b[38;2;5;245;141m✓\u001b[0m Tests finished 🎉! Run \u001b[1;32m'deepeval login'\u001b[0m to save and analyze evaluation results on Confident AI.\n",
       " \n",
       "✨👀 Looking for a place for your LLM test data to live 🏡❤️ ? Use \u001b[38;2;106;0;255mConfident AI\u001b[0m to get & share testing reports, \n",
       "experiment with models/prompts, and catch regressions for your LLM system. Just run \u001b[36m'deepeval login'\u001b[0m in the CLI. \n",
       "\n"
      ]
     },
     "metadata": {},
     "output_type": "display_data"
    },
    {
     "data": {
      "text/html": [
       "<pre style=\"white-space:pre;overflow-x:auto;line-height:normal;font-family:Menlo,'DejaVu Sans Mono',consolas,'Courier New',monospace\">\n",
       "<span style=\"color: #05f58d; text-decoration-color: #05f58d\">✓</span> Tests finished 🎉! Run <span style=\"color: #008000; text-decoration-color: #008000; font-weight: bold\">'deepeval login'</span> to save and analyze evaluation results on Confident AI.\n",
       " \n",
       "✨👀 Looking for a place for your LLM test data to live 🏡❤️ ? Use <span style=\"color: #6a00ff; text-decoration-color: #6a00ff\">Confident AI</span> to get &amp; share testing reports, \n",
       "experiment with models/prompts, and catch regressions for your LLM system. Just run <span style=\"color: #008080; text-decoration-color: #008080\">'deepeval login'</span> in the CLI. \n",
       "\n",
       "</pre>\n"
      ],
      "text/plain": [
       "\n",
       "\u001b[38;2;5;245;141m✓\u001b[0m Tests finished 🎉! Run \u001b[1;32m'deepeval login'\u001b[0m to save and analyze evaluation results on Confident AI.\n",
       " \n",
       "✨👀 Looking for a place for your LLM test data to live 🏡❤️ ? Use \u001b[38;2;106;0;255mConfident AI\u001b[0m to get & share testing reports, \n",
       "experiment with models/prompts, and catch regressions for your LLM system. Just run \u001b[36m'deepeval login'\u001b[0m in the CLI. \n",
       "\n"
      ]
     },
     "metadata": {},
     "output_type": "display_data"
    },
    {
     "name": "stdout",
     "output_type": "stream",
     "text": [
      "\n",
      "            Query: Cât timp poate fi reținută o persoană înainte de a fi arestată?\n",
      "            Expected: Reținerea nu poate depăși 24 de ore. După acest termen, persoana trebuie eliberată sau arestată preventiv prin decizia unui judecător.\n",
      "            Actual: Cât timp poate fi reținută o persoană înainte de a fi arestată? \n",
      "            Relevancy Score: [{'metric': 'Answer Relevancy', 'success': True, 'score': 1.0, 'reason': 'The score is 1.00 because the response is perfectly relevant and directly addresses the question about the duration a person can be detained before being arrested, without any irrelevant information.'}]\n",
      "            Recall Score: [{'metric': 'Contextual Recall', 'success': False, 'score': 0.5, 'reason': \"The score is 0.50 because the sentence 'Reținerea nu poate depăși 24 de ore.' is well-supported by the 3rd node in the retrieval context, ensuring partial alignment. However, the subsequent sentence lacks direct support from any node in the retrieval context, leading to a moderate score.\"}]\n",
      "            Faithfulness Score: [{'metric': 'Faithfulness', 'success': False, 'score': 0.0, 'reason': 'The score is 0.00 because the actual output incorrectly suggests that a person can be detained before arrest, which contradicts the retrieval context that clarifies detention is limited to 24 hours and that arrest is a distinct legal process.'}]\n",
      "            Understanding Score: [{'metric': 'Understanding (GEval)', 'success': False, 'score': 0.001798620798813042, 'reason': 'The actual output is a repetition of the question and does not provide a clear answer or guidance on what the user can or must do regarding the retention time.'}]\n",
      "            Toxicity Score: [{'metric': 'Toxicity (GEval)', 'success': True, 'score': 1.0, 'reason': 'The response is neutral and does not contain any offensive or inappropriate language.'}]\n",
      "            \n",
      "Finished tests for model: rollama2-7b-instruct\n",
      "\n",
      "==================================================\n",
      "\n",
      "\n",
      "Running tests for query: Care sunt drepturile cetățeanului român?\n",
      "Using model: rollama3-8b-instruct\n"
     ]
    },
    {
     "data": {
      "text/html": [
       "<pre style=\"white-space:pre;overflow-x:auto;line-height:normal;font-family:Menlo,'DejaVu Sans Mono',consolas,'Courier New',monospace\">\n",
       "<span style=\"color: #05f58d; text-decoration-color: #05f58d\">✓</span> Tests finished 🎉! Run <span style=\"color: #008000; text-decoration-color: #008000; font-weight: bold\">'deepeval login'</span> to save and analyze evaluation results on Confident AI.\n",
       " \n",
       "✨👀 Looking for a place for your LLM test data to live 🏡❤️ ? Use <span style=\"color: #6a00ff; text-decoration-color: #6a00ff\">Confident AI</span> to get &amp; share testing reports, \n",
       "experiment with models/prompts, and catch regressions for your LLM system. Just run <span style=\"color: #008080; text-decoration-color: #008080\">'deepeval login'</span> in the CLI. \n",
       "\n",
       "</pre>\n"
      ],
      "text/plain": [
       "\n",
       "\u001b[38;2;5;245;141m✓\u001b[0m Tests finished 🎉! Run \u001b[1;32m'deepeval login'\u001b[0m to save and analyze evaluation results on Confident AI.\n",
       " \n",
       "✨👀 Looking for a place for your LLM test data to live 🏡❤️ ? Use \u001b[38;2;106;0;255mConfident AI\u001b[0m to get & share testing reports, \n",
       "experiment with models/prompts, and catch regressions for your LLM system. Just run \u001b[36m'deepeval login'\u001b[0m in the CLI. \n",
       "\n"
      ]
     },
     "metadata": {},
     "output_type": "display_data"
    },
    {
     "data": {
      "text/html": [
       "<pre style=\"white-space:pre;overflow-x:auto;line-height:normal;font-family:Menlo,'DejaVu Sans Mono',consolas,'Courier New',monospace\">\n",
       "<span style=\"color: #05f58d; text-decoration-color: #05f58d\">✓</span> Tests finished 🎉! Run <span style=\"color: #008000; text-decoration-color: #008000; font-weight: bold\">'deepeval login'</span> to save and analyze evaluation results on Confident AI.\n",
       " \n",
       "✨👀 Looking for a place for your LLM test data to live 🏡❤️ ? Use <span style=\"color: #6a00ff; text-decoration-color: #6a00ff\">Confident AI</span> to get &amp; share testing reports, \n",
       "experiment with models/prompts, and catch regressions for your LLM system. Just run <span style=\"color: #008080; text-decoration-color: #008080\">'deepeval login'</span> in the CLI. \n",
       "\n",
       "</pre>\n"
      ],
      "text/plain": [
       "\n",
       "\u001b[38;2;5;245;141m✓\u001b[0m Tests finished 🎉! Run \u001b[1;32m'deepeval login'\u001b[0m to save and analyze evaluation results on Confident AI.\n",
       " \n",
       "✨👀 Looking for a place for your LLM test data to live 🏡❤️ ? Use \u001b[38;2;106;0;255mConfident AI\u001b[0m to get & share testing reports, \n",
       "experiment with models/prompts, and catch regressions for your LLM system. Just run \u001b[36m'deepeval login'\u001b[0m in the CLI. \n",
       "\n"
      ]
     },
     "metadata": {},
     "output_type": "display_data"
    },
    {
     "data": {
      "text/html": [
       "<pre style=\"white-space:pre;overflow-x:auto;line-height:normal;font-family:Menlo,'DejaVu Sans Mono',consolas,'Courier New',monospace\">\n",
       "<span style=\"color: #05f58d; text-decoration-color: #05f58d\">✓</span> Tests finished 🎉! Run <span style=\"color: #008000; text-decoration-color: #008000; font-weight: bold\">'deepeval login'</span> to save and analyze evaluation results on Confident AI.\n",
       " \n",
       "✨👀 Looking for a place for your LLM test data to live 🏡❤️ ? Use <span style=\"color: #6a00ff; text-decoration-color: #6a00ff\">Confident AI</span> to get &amp; share testing reports, \n",
       "experiment with models/prompts, and catch regressions for your LLM system. Just run <span style=\"color: #008080; text-decoration-color: #008080\">'deepeval login'</span> in the CLI. \n",
       "\n",
       "</pre>\n"
      ],
      "text/plain": [
       "\n",
       "\u001b[38;2;5;245;141m✓\u001b[0m Tests finished 🎉! Run \u001b[1;32m'deepeval login'\u001b[0m to save and analyze evaluation results on Confident AI.\n",
       " \n",
       "✨👀 Looking for a place for your LLM test data to live 🏡❤️ ? Use \u001b[38;2;106;0;255mConfident AI\u001b[0m to get & share testing reports, \n",
       "experiment with models/prompts, and catch regressions for your LLM system. Just run \u001b[36m'deepeval login'\u001b[0m in the CLI. \n",
       "\n"
      ]
     },
     "metadata": {},
     "output_type": "display_data"
    },
    {
     "data": {
      "text/html": [
       "<pre style=\"white-space:pre;overflow-x:auto;line-height:normal;font-family:Menlo,'DejaVu Sans Mono',consolas,'Courier New',monospace\">\n",
       "<span style=\"color: #05f58d; text-decoration-color: #05f58d\">✓</span> Tests finished 🎉! Run <span style=\"color: #008000; text-decoration-color: #008000; font-weight: bold\">'deepeval login'</span> to save and analyze evaluation results on Confident AI.\n",
       " \n",
       "✨👀 Looking for a place for your LLM test data to live 🏡❤️ ? Use <span style=\"color: #6a00ff; text-decoration-color: #6a00ff\">Confident AI</span> to get &amp; share testing reports, \n",
       "experiment with models/prompts, and catch regressions for your LLM system. Just run <span style=\"color: #008080; text-decoration-color: #008080\">'deepeval login'</span> in the CLI. \n",
       "\n",
       "</pre>\n"
      ],
      "text/plain": [
       "\n",
       "\u001b[38;2;5;245;141m✓\u001b[0m Tests finished 🎉! Run \u001b[1;32m'deepeval login'\u001b[0m to save and analyze evaluation results on Confident AI.\n",
       " \n",
       "✨👀 Looking for a place for your LLM test data to live 🏡❤️ ? Use \u001b[38;2;106;0;255mConfident AI\u001b[0m to get & share testing reports, \n",
       "experiment with models/prompts, and catch regressions for your LLM system. Just run \u001b[36m'deepeval login'\u001b[0m in the CLI. \n",
       "\n"
      ]
     },
     "metadata": {},
     "output_type": "display_data"
    },
    {
     "data": {
      "text/html": [
       "<pre style=\"white-space:pre;overflow-x:auto;line-height:normal;font-family:Menlo,'DejaVu Sans Mono',consolas,'Courier New',monospace\">\n",
       "<span style=\"color: #05f58d; text-decoration-color: #05f58d\">✓</span> Tests finished 🎉! Run <span style=\"color: #008000; text-decoration-color: #008000; font-weight: bold\">'deepeval login'</span> to save and analyze evaluation results on Confident AI.\n",
       " \n",
       "✨👀 Looking for a place for your LLM test data to live 🏡❤️ ? Use <span style=\"color: #6a00ff; text-decoration-color: #6a00ff\">Confident AI</span> to get &amp; share testing reports, \n",
       "experiment with models/prompts, and catch regressions for your LLM system. Just run <span style=\"color: #008080; text-decoration-color: #008080\">'deepeval login'</span> in the CLI. \n",
       "\n",
       "</pre>\n"
      ],
      "text/plain": [
       "\n",
       "\u001b[38;2;5;245;141m✓\u001b[0m Tests finished 🎉! Run \u001b[1;32m'deepeval login'\u001b[0m to save and analyze evaluation results on Confident AI.\n",
       " \n",
       "✨👀 Looking for a place for your LLM test data to live 🏡❤️ ? Use \u001b[38;2;106;0;255mConfident AI\u001b[0m to get & share testing reports, \n",
       "experiment with models/prompts, and catch regressions for your LLM system. Just run \u001b[36m'deepeval login'\u001b[0m in the CLI. \n",
       "\n"
      ]
     },
     "metadata": {},
     "output_type": "display_data"
    },
    {
     "name": "stdout",
     "output_type": "stream",
     "text": [
      "\n",
      "            Query: Care sunt drepturile cetățeanului român?\n",
      "            Expected: Cetățeanul român beneficiază de drepturi și libertăți fundamentale în toate domeniile vieții. Drepturile civile și politice includ dreptul la viață, libertatea individuală, dreptul la apărare, dreptul de vot de la 18 ani și eligibilitatea pentru funcții publice. Libertățile fundamentale cuprind libertatea gândirii și credinței religioase, libertatea de exprimare, dreptul la informație și dreptul de asociere în partide și sindicate. Drepturile economice și sociale garantează munca liber aleasă, greva, proprietatea privată, moștenirea, pensia și asistența medicală. În plus, cetățenii au dreptul la învățătură, acces la cultură, un mediu sănătos și protecția statului în străinătate.\n",
      "            Actual: Cetățenii români beneficiază de drepturi care le sunt garantate de Constituție și alte legi. Acestea includ, printre altele: \n",
      "\n",
      "- dreptul de a fi tratați în mod egal în fața legii (articolul 16)\n",
      "- acces la justiție pentru apărarea drepturilor lor (articolul 21)\n",
      "- obligațiunea de a contribui prin taxe și impozite la cheltuielile publice, asigurându-se în același timp că sistemul de impunere este just (articolul 56)\n",
      "            Relevancy Score: [{'metric': 'Answer Relevancy', 'success': False, 'score': 0.625, 'reason': 'The score is 0.62 because while the output does touch on aspects related to citizenship, it includes several statements about responsibilities and governance that are not directly relevant to the rights of Romanian citizens. These irrelevant points dilute the focus on the core topic of citizen rights, preventing a higher score.'}]\n",
      "            Recall Score: [{'metric': 'Contextual Recall', 'success': True, 'score': 0.8, 'reason': 'The score is 0.80 because the 1st node in the retrieval context effectively supports several key aspects of the expected output, such as fundamental rights, public office eligibility, and freedoms of thought and expression. However, it lacks explicit references to rights concerning education, culture, environmental protection, and state protection abroad, which slightly impacts the overall alignment.'}]\n",
      "            Faithfulness Score: [{'metric': 'Faithfulness', 'success': True, 'score': 0.8, 'reason': 'The score is 0.80 because the actual output introduces the idea of fair distribution of tax burdens, which is not explicitly stated in the retrieval context related to article 56.'}]\n",
      "            Understanding Score: [{'metric': 'Understanding (GEval)', 'success': False, 'score': 0.4286652118334122, 'reason': \"While the actual output mentions some rights, it lacks clarity and comprehensiveness compared to the expected output, which provides a broader overview of citizens' rights and is more accessible for those without legal knowledge.\"}]\n",
      "            Toxicity Score: [{'metric': 'Toxicity (GEval)', 'success': True, 'score': 1.0, 'reason': 'The response is informative and respectful, containing no offensive or inappropriate language.'}]\n",
      "            \n",
      "Using model: rollama2-7b-instruct\n"
     ]
    },
    {
     "data": {
      "text/html": [
       "<pre style=\"white-space:pre;overflow-x:auto;line-height:normal;font-family:Menlo,'DejaVu Sans Mono',consolas,'Courier New',monospace\">\n",
       "<span style=\"color: #05f58d; text-decoration-color: #05f58d\">✓</span> Tests finished 🎉! Run <span style=\"color: #008000; text-decoration-color: #008000; font-weight: bold\">'deepeval login'</span> to save and analyze evaluation results on Confident AI.\n",
       " \n",
       "✨👀 Looking for a place for your LLM test data to live 🏡❤️ ? Use <span style=\"color: #6a00ff; text-decoration-color: #6a00ff\">Confident AI</span> to get &amp; share testing reports, \n",
       "experiment with models/prompts, and catch regressions for your LLM system. Just run <span style=\"color: #008080; text-decoration-color: #008080\">'deepeval login'</span> in the CLI. \n",
       "\n",
       "</pre>\n"
      ],
      "text/plain": [
       "\n",
       "\u001b[38;2;5;245;141m✓\u001b[0m Tests finished 🎉! Run \u001b[1;32m'deepeval login'\u001b[0m to save and analyze evaluation results on Confident AI.\n",
       " \n",
       "✨👀 Looking for a place for your LLM test data to live 🏡❤️ ? Use \u001b[38;2;106;0;255mConfident AI\u001b[0m to get & share testing reports, \n",
       "experiment with models/prompts, and catch regressions for your LLM system. Just run \u001b[36m'deepeval login'\u001b[0m in the CLI. \n",
       "\n"
      ]
     },
     "metadata": {},
     "output_type": "display_data"
    },
    {
     "data": {
      "text/html": [
       "<pre style=\"white-space:pre;overflow-x:auto;line-height:normal;font-family:Menlo,'DejaVu Sans Mono',consolas,'Courier New',monospace\">\n",
       "<span style=\"color: #05f58d; text-decoration-color: #05f58d\">✓</span> Tests finished 🎉! Run <span style=\"color: #008000; text-decoration-color: #008000; font-weight: bold\">'deepeval login'</span> to save and analyze evaluation results on Confident AI.\n",
       " \n",
       "✨👀 Looking for a place for your LLM test data to live 🏡❤️ ? Use <span style=\"color: #6a00ff; text-decoration-color: #6a00ff\">Confident AI</span> to get &amp; share testing reports, \n",
       "experiment with models/prompts, and catch regressions for your LLM system. Just run <span style=\"color: #008080; text-decoration-color: #008080\">'deepeval login'</span> in the CLI. \n",
       "\n",
       "</pre>\n"
      ],
      "text/plain": [
       "\n",
       "\u001b[38;2;5;245;141m✓\u001b[0m Tests finished 🎉! Run \u001b[1;32m'deepeval login'\u001b[0m to save and analyze evaluation results on Confident AI.\n",
       " \n",
       "✨👀 Looking for a place for your LLM test data to live 🏡❤️ ? Use \u001b[38;2;106;0;255mConfident AI\u001b[0m to get & share testing reports, \n",
       "experiment with models/prompts, and catch regressions for your LLM system. Just run \u001b[36m'deepeval login'\u001b[0m in the CLI. \n",
       "\n"
      ]
     },
     "metadata": {},
     "output_type": "display_data"
    },
    {
     "data": {
      "text/html": [
       "<pre style=\"white-space:pre;overflow-x:auto;line-height:normal;font-family:Menlo,'DejaVu Sans Mono',consolas,'Courier New',monospace\">\n",
       "<span style=\"color: #05f58d; text-decoration-color: #05f58d\">✓</span> Tests finished 🎉! Run <span style=\"color: #008000; text-decoration-color: #008000; font-weight: bold\">'deepeval login'</span> to save and analyze evaluation results on Confident AI.\n",
       " \n",
       "✨👀 Looking for a place for your LLM test data to live 🏡❤️ ? Use <span style=\"color: #6a00ff; text-decoration-color: #6a00ff\">Confident AI</span> to get &amp; share testing reports, \n",
       "experiment with models/prompts, and catch regressions for your LLM system. Just run <span style=\"color: #008080; text-decoration-color: #008080\">'deepeval login'</span> in the CLI. \n",
       "\n",
       "</pre>\n"
      ],
      "text/plain": [
       "\n",
       "\u001b[38;2;5;245;141m✓\u001b[0m Tests finished 🎉! Run \u001b[1;32m'deepeval login'\u001b[0m to save and analyze evaluation results on Confident AI.\n",
       " \n",
       "✨👀 Looking for a place for your LLM test data to live 🏡❤️ ? Use \u001b[38;2;106;0;255mConfident AI\u001b[0m to get & share testing reports, \n",
       "experiment with models/prompts, and catch regressions for your LLM system. Just run \u001b[36m'deepeval login'\u001b[0m in the CLI. \n",
       "\n"
      ]
     },
     "metadata": {},
     "output_type": "display_data"
    },
    {
     "data": {
      "text/html": [
       "<pre style=\"white-space:pre;overflow-x:auto;line-height:normal;font-family:Menlo,'DejaVu Sans Mono',consolas,'Courier New',monospace\">\n",
       "<span style=\"color: #05f58d; text-decoration-color: #05f58d\">✓</span> Tests finished 🎉! Run <span style=\"color: #008000; text-decoration-color: #008000; font-weight: bold\">'deepeval login'</span> to save and analyze evaluation results on Confident AI.\n",
       " \n",
       "✨👀 Looking for a place for your LLM test data to live 🏡❤️ ? Use <span style=\"color: #6a00ff; text-decoration-color: #6a00ff\">Confident AI</span> to get &amp; share testing reports, \n",
       "experiment with models/prompts, and catch regressions for your LLM system. Just run <span style=\"color: #008080; text-decoration-color: #008080\">'deepeval login'</span> in the CLI. \n",
       "\n",
       "</pre>\n"
      ],
      "text/plain": [
       "\n",
       "\u001b[38;2;5;245;141m✓\u001b[0m Tests finished 🎉! Run \u001b[1;32m'deepeval login'\u001b[0m to save and analyze evaluation results on Confident AI.\n",
       " \n",
       "✨👀 Looking for a place for your LLM test data to live 🏡❤️ ? Use \u001b[38;2;106;0;255mConfident AI\u001b[0m to get & share testing reports, \n",
       "experiment with models/prompts, and catch regressions for your LLM system. Just run \u001b[36m'deepeval login'\u001b[0m in the CLI. \n",
       "\n"
      ]
     },
     "metadata": {},
     "output_type": "display_data"
    },
    {
     "data": {
      "text/html": [
       "<pre style=\"white-space:pre;overflow-x:auto;line-height:normal;font-family:Menlo,'DejaVu Sans Mono',consolas,'Courier New',monospace\">\n",
       "<span style=\"color: #05f58d; text-decoration-color: #05f58d\">✓</span> Tests finished 🎉! Run <span style=\"color: #008000; text-decoration-color: #008000; font-weight: bold\">'deepeval login'</span> to save and analyze evaluation results on Confident AI.\n",
       " \n",
       "✨👀 Looking for a place for your LLM test data to live 🏡❤️ ? Use <span style=\"color: #6a00ff; text-decoration-color: #6a00ff\">Confident AI</span> to get &amp; share testing reports, \n",
       "experiment with models/prompts, and catch regressions for your LLM system. Just run <span style=\"color: #008080; text-decoration-color: #008080\">'deepeval login'</span> in the CLI. \n",
       "\n",
       "</pre>\n"
      ],
      "text/plain": [
       "\n",
       "\u001b[38;2;5;245;141m✓\u001b[0m Tests finished 🎉! Run \u001b[1;32m'deepeval login'\u001b[0m to save and analyze evaluation results on Confident AI.\n",
       " \n",
       "✨👀 Looking for a place for your LLM test data to live 🏡❤️ ? Use \u001b[38;2;106;0;255mConfident AI\u001b[0m to get & share testing reports, \n",
       "experiment with models/prompts, and catch regressions for your LLM system. Just run \u001b[36m'deepeval login'\u001b[0m in the CLI. \n",
       "\n"
      ]
     },
     "metadata": {},
     "output_type": "display_data"
    },
    {
     "name": "stdout",
     "output_type": "stream",
     "text": [
      "\n",
      "            Query: Care sunt drepturile cetățeanului român?\n",
      "            Expected: Cetățeanul român beneficiază de drepturi și libertăți fundamentale în toate domeniile vieții. Drepturile civile și politice includ dreptul la viață, libertatea individuală, dreptul la apărare, dreptul de vot de la 18 ani și eligibilitatea pentru funcții publice. Libertățile fundamentale cuprind libertatea gândirii și credinței religioase, libertatea de exprimare, dreptul la informație și dreptul de asociere în partide și sindicate. Drepturile economice și sociale garantează munca liber aleasă, greva, proprietatea privată, moștenirea, pensia și asistența medicală. În plus, cetățenii au dreptul la învățătură, acces la cultură, un mediu sănătos și protecția statului în străinătate.\n",
      "            Actual: Care sunt drepturile cetățeanului român?\n",
      "\n",
      "Potrivit Constituției României (articolul 15, punctul 1), cetățenii beneficiază de drepturi și libertăți consacrate prin Constituție și alte legi. Printre aceste drepturi se numără:\n",
      "1. Egalitatea în fața legii și a autorităților publice - fiecare persoană este tratată echitabil de lege și de agențiile guvernamentale, fără privilegii sau discriminare (articolul 16 alineatul 1).\n",
      "2. Accesul liber la justiție pentru a-și apăra drepturile și interesele legitime (articolul 21).\n",
      "3. Dreptul la viață și la integritate fizică și psihologică - persoanele au dreptul la respectarea vieții lor private și a confidențialității (articolul 22 alineatul 2).\n",
      "4. Exercitarea drepturilor și libertăților în bună-credință, fără a încălca drepturile și libertățile altora (articolul 57). \n",
      "            Relevancy Score: [{'metric': 'Answer Relevancy', 'success': True, 'score': 1.0, 'reason': 'The score is 1.00 because the response perfectly addresses the question about the rights of a Romanian citizen without any irrelevant information. Great job on staying focused and relevant!'}]\n",
      "            Recall Score: [{'metric': 'Contextual Recall', 'success': False, 'score': 0.6, 'reason': 'The score is 0.60 because while the 1st node in the retrieval context supports the sentences on fundamental rights, civil and political rights, and fundamental freedoms, it lacks explicit references to economic and social rights, as well as rights to education, culture, a healthy environment, and state protection abroad.'}]\n",
      "            Faithfulness Score: [{'metric': 'Faithfulness', 'success': True, 'score': 0.7142857142857143, 'reason': 'The score is 0.71 because the actual output introduces rights related to life, integrity, and privacy that are not referenced in the retrieval context, indicating a lack of alignment with the provided information.'}]\n",
      "            Understanding Score: [{'metric': 'Understanding (GEval)', 'success': False, 'score': 0.43263913674051874, 'reason': 'While the actual output lists some rights, it lacks clarity and accessibility for someone without legal knowledge, and does not fully explain what citizens can do based on these rights.'}]\n",
      "            Toxicity Score: [{'metric': 'Toxicity (GEval)', 'success': True, 'score': 1.0, 'reason': 'The response is respectful and informative, containing no offensive or inappropriate language.'}]\n",
      "            \n",
      "Finished tests for model: rollama2-7b-instruct\n",
      "\n",
      "==================================================\n",
      "\n",
      "\n",
      "Running tests for query: Ce obligație are angajatorul înainte de încheierea contractului individual de muncă?\n",
      "Using model: rollama3-8b-instruct\n"
     ]
    },
    {
     "data": {
      "text/html": [
       "<pre style=\"white-space:pre;overflow-x:auto;line-height:normal;font-family:Menlo,'DejaVu Sans Mono',consolas,'Courier New',monospace\">\n",
       "<span style=\"color: #05f58d; text-decoration-color: #05f58d\">✓</span> Tests finished 🎉! Run <span style=\"color: #008000; text-decoration-color: #008000; font-weight: bold\">'deepeval login'</span> to save and analyze evaluation results on Confident AI.\n",
       " \n",
       "✨👀 Looking for a place for your LLM test data to live 🏡❤️ ? Use <span style=\"color: #6a00ff; text-decoration-color: #6a00ff\">Confident AI</span> to get &amp; share testing reports, \n",
       "experiment with models/prompts, and catch regressions for your LLM system. Just run <span style=\"color: #008080; text-decoration-color: #008080\">'deepeval login'</span> in the CLI. \n",
       "\n",
       "</pre>\n"
      ],
      "text/plain": [
       "\n",
       "\u001b[38;2;5;245;141m✓\u001b[0m Tests finished 🎉! Run \u001b[1;32m'deepeval login'\u001b[0m to save and analyze evaluation results on Confident AI.\n",
       " \n",
       "✨👀 Looking for a place for your LLM test data to live 🏡❤️ ? Use \u001b[38;2;106;0;255mConfident AI\u001b[0m to get & share testing reports, \n",
       "experiment with models/prompts, and catch regressions for your LLM system. Just run \u001b[36m'deepeval login'\u001b[0m in the CLI. \n",
       "\n"
      ]
     },
     "metadata": {},
     "output_type": "display_data"
    },
    {
     "data": {
      "text/html": [
       "<pre style=\"white-space:pre;overflow-x:auto;line-height:normal;font-family:Menlo,'DejaVu Sans Mono',consolas,'Courier New',monospace\">\n",
       "<span style=\"color: #05f58d; text-decoration-color: #05f58d\">✓</span> Tests finished 🎉! Run <span style=\"color: #008000; text-decoration-color: #008000; font-weight: bold\">'deepeval login'</span> to save and analyze evaluation results on Confident AI.\n",
       " \n",
       "✨👀 Looking for a place for your LLM test data to live 🏡❤️ ? Use <span style=\"color: #6a00ff; text-decoration-color: #6a00ff\">Confident AI</span> to get &amp; share testing reports, \n",
       "experiment with models/prompts, and catch regressions for your LLM system. Just run <span style=\"color: #008080; text-decoration-color: #008080\">'deepeval login'</span> in the CLI. \n",
       "\n",
       "</pre>\n"
      ],
      "text/plain": [
       "\n",
       "\u001b[38;2;5;245;141m✓\u001b[0m Tests finished 🎉! Run \u001b[1;32m'deepeval login'\u001b[0m to save and analyze evaluation results on Confident AI.\n",
       " \n",
       "✨👀 Looking for a place for your LLM test data to live 🏡❤️ ? Use \u001b[38;2;106;0;255mConfident AI\u001b[0m to get & share testing reports, \n",
       "experiment with models/prompts, and catch regressions for your LLM system. Just run \u001b[36m'deepeval login'\u001b[0m in the CLI. \n",
       "\n"
      ]
     },
     "metadata": {},
     "output_type": "display_data"
    },
    {
     "data": {
      "text/html": [
       "<pre style=\"white-space:pre;overflow-x:auto;line-height:normal;font-family:Menlo,'DejaVu Sans Mono',consolas,'Courier New',monospace\">\n",
       "<span style=\"color: #05f58d; text-decoration-color: #05f58d\">✓</span> Tests finished 🎉! Run <span style=\"color: #008000; text-decoration-color: #008000; font-weight: bold\">'deepeval login'</span> to save and analyze evaluation results on Confident AI.\n",
       " \n",
       "✨👀 Looking for a place for your LLM test data to live 🏡❤️ ? Use <span style=\"color: #6a00ff; text-decoration-color: #6a00ff\">Confident AI</span> to get &amp; share testing reports, \n",
       "experiment with models/prompts, and catch regressions for your LLM system. Just run <span style=\"color: #008080; text-decoration-color: #008080\">'deepeval login'</span> in the CLI. \n",
       "\n",
       "</pre>\n"
      ],
      "text/plain": [
       "\n",
       "\u001b[38;2;5;245;141m✓\u001b[0m Tests finished 🎉! Run \u001b[1;32m'deepeval login'\u001b[0m to save and analyze evaluation results on Confident AI.\n",
       " \n",
       "✨👀 Looking for a place for your LLM test data to live 🏡❤️ ? Use \u001b[38;2;106;0;255mConfident AI\u001b[0m to get & share testing reports, \n",
       "experiment with models/prompts, and catch regressions for your LLM system. Just run \u001b[36m'deepeval login'\u001b[0m in the CLI. \n",
       "\n"
      ]
     },
     "metadata": {},
     "output_type": "display_data"
    },
    {
     "data": {
      "text/html": [
       "<pre style=\"white-space:pre;overflow-x:auto;line-height:normal;font-family:Menlo,'DejaVu Sans Mono',consolas,'Courier New',monospace\">\n",
       "<span style=\"color: #05f58d; text-decoration-color: #05f58d\">✓</span> Tests finished 🎉! Run <span style=\"color: #008000; text-decoration-color: #008000; font-weight: bold\">'deepeval login'</span> to save and analyze evaluation results on Confident AI.\n",
       " \n",
       "✨👀 Looking for a place for your LLM test data to live 🏡❤️ ? Use <span style=\"color: #6a00ff; text-decoration-color: #6a00ff\">Confident AI</span> to get &amp; share testing reports, \n",
       "experiment with models/prompts, and catch regressions for your LLM system. Just run <span style=\"color: #008080; text-decoration-color: #008080\">'deepeval login'</span> in the CLI. \n",
       "\n",
       "</pre>\n"
      ],
      "text/plain": [
       "\n",
       "\u001b[38;2;5;245;141m✓\u001b[0m Tests finished 🎉! Run \u001b[1;32m'deepeval login'\u001b[0m to save and analyze evaluation results on Confident AI.\n",
       " \n",
       "✨👀 Looking for a place for your LLM test data to live 🏡❤️ ? Use \u001b[38;2;106;0;255mConfident AI\u001b[0m to get & share testing reports, \n",
       "experiment with models/prompts, and catch regressions for your LLM system. Just run \u001b[36m'deepeval login'\u001b[0m in the CLI. \n",
       "\n"
      ]
     },
     "metadata": {},
     "output_type": "display_data"
    },
    {
     "data": {
      "text/html": [
       "<pre style=\"white-space:pre;overflow-x:auto;line-height:normal;font-family:Menlo,'DejaVu Sans Mono',consolas,'Courier New',monospace\">\n",
       "<span style=\"color: #05f58d; text-decoration-color: #05f58d\">✓</span> Tests finished 🎉! Run <span style=\"color: #008000; text-decoration-color: #008000; font-weight: bold\">'deepeval login'</span> to save and analyze evaluation results on Confident AI.\n",
       " \n",
       "✨👀 Looking for a place for your LLM test data to live 🏡❤️ ? Use <span style=\"color: #6a00ff; text-decoration-color: #6a00ff\">Confident AI</span> to get &amp; share testing reports, \n",
       "experiment with models/prompts, and catch regressions for your LLM system. Just run <span style=\"color: #008080; text-decoration-color: #008080\">'deepeval login'</span> in the CLI. \n",
       "\n",
       "</pre>\n"
      ],
      "text/plain": [
       "\n",
       "\u001b[38;2;5;245;141m✓\u001b[0m Tests finished 🎉! Run \u001b[1;32m'deepeval login'\u001b[0m to save and analyze evaluation results on Confident AI.\n",
       " \n",
       "✨👀 Looking for a place for your LLM test data to live 🏡❤️ ? Use \u001b[38;2;106;0;255mConfident AI\u001b[0m to get & share testing reports, \n",
       "experiment with models/prompts, and catch regressions for your LLM system. Just run \u001b[36m'deepeval login'\u001b[0m in the CLI. \n",
       "\n"
      ]
     },
     "metadata": {},
     "output_type": "display_data"
    },
    {
     "name": "stdout",
     "output_type": "stream",
     "text": [
      "\n",
      "            Query: Ce obligație are angajatorul înainte de încheierea contractului individual de muncă?\n",
      "            Expected: Anterior încheierii sau modificării contractului individual de muncă, angajatorul are obligația de a informa persoana selectată în vederea angajării cu privire la clauzele esențiale pe care intenționează să le înscrie în contract sau să le modifice.\n",
      "            Actual: Înainte de semnarea unui contract individual de muncă sau a oricărei modificări ale acestuia, angajatorul este obligat să informeze persoana selectată pentru ocuparea forței de muncă, după caz, salariatul cu privire la clauzele esențiale pe care intenționează să le includă sau să le modifice în contract.\n",
      "            Relevancy Score: [{'metric': 'Answer Relevancy', 'success': True, 'score': 0.75, 'reason': \"The score is 0.75 because the response partially addresses the employer's obligations before signing an individual employment contract. However, it includes a statement about contract modifications, which is not directly relevant to the initial query, thus preventing a higher score.\"}]\n",
      "            Recall Score: [{'metric': 'Contextual Recall', 'success': False, 'score': 0.5, 'reason': 'The score is 0.50 because the sentence in the expected output is partially supported by the 1st node in the retrieval context, which directly quotes the initial part of the sentence. However, the latter part of the sentence is not found in any nodes in the retrieval context, leading to a balanced score.'}]\n",
      "            Faithfulness Score: [{'metric': 'Faithfulness', 'success': False, 'score': 0.0, 'reason': 'The score is 0.00 because the actual output incorrectly states that the employer must inform the selected person about essential clauses before signing the contract, contradicting the retrieval context which specifies that the obligation to inform is satisfied at the time of signing the individual employment contract.'}]\n",
      "            Understanding Score: [{'metric': 'Understanding (GEval)', 'success': True, 'score': 0.8, 'reason': \"The actual output is mostly clear and accessible, but it could be slightly more concise to enhance understanding for someone without legal knowledge. It does inform the user about the employer's obligation, aligning with the expected output.\"}]\n",
      "            Toxicity Score: [{'metric': 'Toxicity (GEval)', 'success': True, 'score': 1.0, 'reason': 'The response is informative and does not contain any offensive or inappropriate language.'}]\n",
      "            \n",
      "Using model: rollama2-7b-instruct\n"
     ]
    },
    {
     "data": {
      "text/html": [
       "<pre style=\"white-space:pre;overflow-x:auto;line-height:normal;font-family:Menlo,'DejaVu Sans Mono',consolas,'Courier New',monospace\">\n",
       "<span style=\"color: #05f58d; text-decoration-color: #05f58d\">✓</span> Tests finished 🎉! Run <span style=\"color: #008000; text-decoration-color: #008000; font-weight: bold\">'deepeval login'</span> to save and analyze evaluation results on Confident AI.\n",
       " \n",
       "✨👀 Looking for a place for your LLM test data to live 🏡❤️ ? Use <span style=\"color: #6a00ff; text-decoration-color: #6a00ff\">Confident AI</span> to get &amp; share testing reports, \n",
       "experiment with models/prompts, and catch regressions for your LLM system. Just run <span style=\"color: #008080; text-decoration-color: #008080\">'deepeval login'</span> in the CLI. \n",
       "\n",
       "</pre>\n"
      ],
      "text/plain": [
       "\n",
       "\u001b[38;2;5;245;141m✓\u001b[0m Tests finished 🎉! Run \u001b[1;32m'deepeval login'\u001b[0m to save and analyze evaluation results on Confident AI.\n",
       " \n",
       "✨👀 Looking for a place for your LLM test data to live 🏡❤️ ? Use \u001b[38;2;106;0;255mConfident AI\u001b[0m to get & share testing reports, \n",
       "experiment with models/prompts, and catch regressions for your LLM system. Just run \u001b[36m'deepeval login'\u001b[0m in the CLI. \n",
       "\n"
      ]
     },
     "metadata": {},
     "output_type": "display_data"
    },
    {
     "data": {
      "text/html": [
       "<pre style=\"white-space:pre;overflow-x:auto;line-height:normal;font-family:Menlo,'DejaVu Sans Mono',consolas,'Courier New',monospace\">\n",
       "<span style=\"color: #05f58d; text-decoration-color: #05f58d\">✓</span> Tests finished 🎉! Run <span style=\"color: #008000; text-decoration-color: #008000; font-weight: bold\">'deepeval login'</span> to save and analyze evaluation results on Confident AI.\n",
       " \n",
       "✨👀 Looking for a place for your LLM test data to live 🏡❤️ ? Use <span style=\"color: #6a00ff; text-decoration-color: #6a00ff\">Confident AI</span> to get &amp; share testing reports, \n",
       "experiment with models/prompts, and catch regressions for your LLM system. Just run <span style=\"color: #008080; text-decoration-color: #008080\">'deepeval login'</span> in the CLI. \n",
       "\n",
       "</pre>\n"
      ],
      "text/plain": [
       "\n",
       "\u001b[38;2;5;245;141m✓\u001b[0m Tests finished 🎉! Run \u001b[1;32m'deepeval login'\u001b[0m to save and analyze evaluation results on Confident AI.\n",
       " \n",
       "✨👀 Looking for a place for your LLM test data to live 🏡❤️ ? Use \u001b[38;2;106;0;255mConfident AI\u001b[0m to get & share testing reports, \n",
       "experiment with models/prompts, and catch regressions for your LLM system. Just run \u001b[36m'deepeval login'\u001b[0m in the CLI. \n",
       "\n"
      ]
     },
     "metadata": {},
     "output_type": "display_data"
    },
    {
     "data": {
      "text/html": [
       "<pre style=\"white-space:pre;overflow-x:auto;line-height:normal;font-family:Menlo,'DejaVu Sans Mono',consolas,'Courier New',monospace\">\n",
       "<span style=\"color: #05f58d; text-decoration-color: #05f58d\">✓</span> Tests finished 🎉! Run <span style=\"color: #008000; text-decoration-color: #008000; font-weight: bold\">'deepeval login'</span> to save and analyze evaluation results on Confident AI.\n",
       " \n",
       "✨👀 Looking for a place for your LLM test data to live 🏡❤️ ? Use <span style=\"color: #6a00ff; text-decoration-color: #6a00ff\">Confident AI</span> to get &amp; share testing reports, \n",
       "experiment with models/prompts, and catch regressions for your LLM system. Just run <span style=\"color: #008080; text-decoration-color: #008080\">'deepeval login'</span> in the CLI. \n",
       "\n",
       "</pre>\n"
      ],
      "text/plain": [
       "\n",
       "\u001b[38;2;5;245;141m✓\u001b[0m Tests finished 🎉! Run \u001b[1;32m'deepeval login'\u001b[0m to save and analyze evaluation results on Confident AI.\n",
       " \n",
       "✨👀 Looking for a place for your LLM test data to live 🏡❤️ ? Use \u001b[38;2;106;0;255mConfident AI\u001b[0m to get & share testing reports, \n",
       "experiment with models/prompts, and catch regressions for your LLM system. Just run \u001b[36m'deepeval login'\u001b[0m in the CLI. \n",
       "\n"
      ]
     },
     "metadata": {},
     "output_type": "display_data"
    },
    {
     "data": {
      "text/html": [
       "<pre style=\"white-space:pre;overflow-x:auto;line-height:normal;font-family:Menlo,'DejaVu Sans Mono',consolas,'Courier New',monospace\">\n",
       "<span style=\"color: #05f58d; text-decoration-color: #05f58d\">✓</span> Tests finished 🎉! Run <span style=\"color: #008000; text-decoration-color: #008000; font-weight: bold\">'deepeval login'</span> to save and analyze evaluation results on Confident AI.\n",
       " \n",
       "✨👀 Looking for a place for your LLM test data to live 🏡❤️ ? Use <span style=\"color: #6a00ff; text-decoration-color: #6a00ff\">Confident AI</span> to get &amp; share testing reports, \n",
       "experiment with models/prompts, and catch regressions for your LLM system. Just run <span style=\"color: #008080; text-decoration-color: #008080\">'deepeval login'</span> in the CLI. \n",
       "\n",
       "</pre>\n"
      ],
      "text/plain": [
       "\n",
       "\u001b[38;2;5;245;141m✓\u001b[0m Tests finished 🎉! Run \u001b[1;32m'deepeval login'\u001b[0m to save and analyze evaluation results on Confident AI.\n",
       " \n",
       "✨👀 Looking for a place for your LLM test data to live 🏡❤️ ? Use \u001b[38;2;106;0;255mConfident AI\u001b[0m to get & share testing reports, \n",
       "experiment with models/prompts, and catch regressions for your LLM system. Just run \u001b[36m'deepeval login'\u001b[0m in the CLI. \n",
       "\n"
      ]
     },
     "metadata": {},
     "output_type": "display_data"
    },
    {
     "data": {
      "text/html": [
       "<pre style=\"white-space:pre;overflow-x:auto;line-height:normal;font-family:Menlo,'DejaVu Sans Mono',consolas,'Courier New',monospace\">\n",
       "<span style=\"color: #05f58d; text-decoration-color: #05f58d\">✓</span> Tests finished 🎉! Run <span style=\"color: #008000; text-decoration-color: #008000; font-weight: bold\">'deepeval login'</span> to save and analyze evaluation results on Confident AI.\n",
       " \n",
       "✨👀 Looking for a place for your LLM test data to live 🏡❤️ ? Use <span style=\"color: #6a00ff; text-decoration-color: #6a00ff\">Confident AI</span> to get &amp; share testing reports, \n",
       "experiment with models/prompts, and catch regressions for your LLM system. Just run <span style=\"color: #008080; text-decoration-color: #008080\">'deepeval login'</span> in the CLI. \n",
       "\n",
       "</pre>\n"
      ],
      "text/plain": [
       "\n",
       "\u001b[38;2;5;245;141m✓\u001b[0m Tests finished 🎉! Run \u001b[1;32m'deepeval login'\u001b[0m to save and analyze evaluation results on Confident AI.\n",
       " \n",
       "✨👀 Looking for a place for your LLM test data to live 🏡❤️ ? Use \u001b[38;2;106;0;255mConfident AI\u001b[0m to get & share testing reports, \n",
       "experiment with models/prompts, and catch regressions for your LLM system. Just run \u001b[36m'deepeval login'\u001b[0m in the CLI. \n",
       "\n"
      ]
     },
     "metadata": {},
     "output_type": "display_data"
    },
    {
     "name": "stdout",
     "output_type": "stream",
     "text": [
      "\n",
      "            Query: Ce obligație are angajatorul înainte de încheierea contractului individual de muncă?\n",
      "            Expected: Anterior încheierii sau modificării contractului individual de muncă, angajatorul are obligația de a informa persoana selectată în vederea angajării cu privire la clauzele esențiale pe care intenționează să le înscrie în contract sau să le modifice.\n",
      "            Actual: Înainte de încheierea contractului individual de muncă, angajatorul are obligația de a comunica persoanei selectate în vederea angajării sau salariatului clauzele esențiale pe care intenționează să le includă în contract sau să le modifice.\n",
      "(Motive: răspunsul este complet, specific și fidel contextului oferit.) \n",
      "            Relevancy Score: [{'metric': 'Answer Relevancy', 'success': True, 'score': 0.75, 'reason': \"The score is 0.75 because the response mostly addresses the employer's obligations before signing the employment contract. However, it includes a statement about the employer's intention to include or modify clauses, which is not directly relevant to the specific obligation question, preventing a higher score.\"}]\n",
      "            Recall Score: [{'metric': 'Contextual Recall', 'success': False, 'score': 0.5, 'reason': 'The score is 0.50 because the sentence in the expected output is partially supported by the 1st node in the retrieval context, which directly quotes the initial part of the sentence. However, the latter part of the sentence is not found in any nodes in the retrieval context, leading to a balanced score.'}]\n",
      "            Faithfulness Score: [{'metric': 'Faithfulness', 'success': False, 'score': 0.0, 'reason': 'The score is 0.00 because the actual output incorrectly implies that informing the selected person about the essential clauses of the contract can occur after signing, contradicting the retrieval context which emphasizes that this information must be provided before the contract is concluded.'}]\n",
      "            Understanding Score: [{'metric': 'Understanding (GEval)', 'success': True, 'score': 0.7914688966230607, 'reason': \"The actual output is clear and specific about the employer's obligation, but it slightly differs in wording from the expected output, which may affect accessibility for those without legal knowledge.\"}]\n",
      "            Toxicity Score: [{'metric': 'Toxicity (GEval)', 'success': True, 'score': 1.0, 'reason': 'The response is appropriate, informative, and does not contain any offensive or inappropriate language.'}]\n",
      "            \n",
      "Finished tests for model: rollama2-7b-instruct\n",
      "\n",
      "==================================================\n",
      "\n",
      "\n",
      "Running tests for query: Care este vârsta legală minimă pentru încheierea unei căsătorii în România?\n",
      "Using model: rollama3-8b-instruct\n"
     ]
    },
    {
     "data": {
      "text/html": [
       "<pre style=\"white-space:pre;overflow-x:auto;line-height:normal;font-family:Menlo,'DejaVu Sans Mono',consolas,'Courier New',monospace\">\n",
       "<span style=\"color: #05f58d; text-decoration-color: #05f58d\">✓</span> Tests finished 🎉! Run <span style=\"color: #008000; text-decoration-color: #008000; font-weight: bold\">'deepeval login'</span> to save and analyze evaluation results on Confident AI.\n",
       " \n",
       "✨👀 Looking for a place for your LLM test data to live 🏡❤️ ? Use <span style=\"color: #6a00ff; text-decoration-color: #6a00ff\">Confident AI</span> to get &amp; share testing reports, \n",
       "experiment with models/prompts, and catch regressions for your LLM system. Just run <span style=\"color: #008080; text-decoration-color: #008080\">'deepeval login'</span> in the CLI. \n",
       "\n",
       "</pre>\n"
      ],
      "text/plain": [
       "\n",
       "\u001b[38;2;5;245;141m✓\u001b[0m Tests finished 🎉! Run \u001b[1;32m'deepeval login'\u001b[0m to save and analyze evaluation results on Confident AI.\n",
       " \n",
       "✨👀 Looking for a place for your LLM test data to live 🏡❤️ ? Use \u001b[38;2;106;0;255mConfident AI\u001b[0m to get & share testing reports, \n",
       "experiment with models/prompts, and catch regressions for your LLM system. Just run \u001b[36m'deepeval login'\u001b[0m in the CLI. \n",
       "\n"
      ]
     },
     "metadata": {},
     "output_type": "display_data"
    },
    {
     "data": {
      "text/html": [
       "<pre style=\"white-space:pre;overflow-x:auto;line-height:normal;font-family:Menlo,'DejaVu Sans Mono',consolas,'Courier New',monospace\">\n",
       "<span style=\"color: #05f58d; text-decoration-color: #05f58d\">✓</span> Tests finished 🎉! Run <span style=\"color: #008000; text-decoration-color: #008000; font-weight: bold\">'deepeval login'</span> to save and analyze evaluation results on Confident AI.\n",
       " \n",
       "✨👀 Looking for a place for your LLM test data to live 🏡❤️ ? Use <span style=\"color: #6a00ff; text-decoration-color: #6a00ff\">Confident AI</span> to get &amp; share testing reports, \n",
       "experiment with models/prompts, and catch regressions for your LLM system. Just run <span style=\"color: #008080; text-decoration-color: #008080\">'deepeval login'</span> in the CLI. \n",
       "\n",
       "</pre>\n"
      ],
      "text/plain": [
       "\n",
       "\u001b[38;2;5;245;141m✓\u001b[0m Tests finished 🎉! Run \u001b[1;32m'deepeval login'\u001b[0m to save and analyze evaluation results on Confident AI.\n",
       " \n",
       "✨👀 Looking for a place for your LLM test data to live 🏡❤️ ? Use \u001b[38;2;106;0;255mConfident AI\u001b[0m to get & share testing reports, \n",
       "experiment with models/prompts, and catch regressions for your LLM system. Just run \u001b[36m'deepeval login'\u001b[0m in the CLI. \n",
       "\n"
      ]
     },
     "metadata": {},
     "output_type": "display_data"
    },
    {
     "data": {
      "text/html": [
       "<pre style=\"white-space:pre;overflow-x:auto;line-height:normal;font-family:Menlo,'DejaVu Sans Mono',consolas,'Courier New',monospace\">\n",
       "<span style=\"color: #05f58d; text-decoration-color: #05f58d\">✓</span> Tests finished 🎉! Run <span style=\"color: #008000; text-decoration-color: #008000; font-weight: bold\">'deepeval login'</span> to save and analyze evaluation results on Confident AI.\n",
       " \n",
       "✨👀 Looking for a place for your LLM test data to live 🏡❤️ ? Use <span style=\"color: #6a00ff; text-decoration-color: #6a00ff\">Confident AI</span> to get &amp; share testing reports, \n",
       "experiment with models/prompts, and catch regressions for your LLM system. Just run <span style=\"color: #008080; text-decoration-color: #008080\">'deepeval login'</span> in the CLI. \n",
       "\n",
       "</pre>\n"
      ],
      "text/plain": [
       "\n",
       "\u001b[38;2;5;245;141m✓\u001b[0m Tests finished 🎉! Run \u001b[1;32m'deepeval login'\u001b[0m to save and analyze evaluation results on Confident AI.\n",
       " \n",
       "✨👀 Looking for a place for your LLM test data to live 🏡❤️ ? Use \u001b[38;2;106;0;255mConfident AI\u001b[0m to get & share testing reports, \n",
       "experiment with models/prompts, and catch regressions for your LLM system. Just run \u001b[36m'deepeval login'\u001b[0m in the CLI. \n",
       "\n"
      ]
     },
     "metadata": {},
     "output_type": "display_data"
    },
    {
     "data": {
      "text/html": [
       "<pre style=\"white-space:pre;overflow-x:auto;line-height:normal;font-family:Menlo,'DejaVu Sans Mono',consolas,'Courier New',monospace\">\n",
       "<span style=\"color: #05f58d; text-decoration-color: #05f58d\">✓</span> Tests finished 🎉! Run <span style=\"color: #008000; text-decoration-color: #008000; font-weight: bold\">'deepeval login'</span> to save and analyze evaluation results on Confident AI.\n",
       " \n",
       "✨👀 Looking for a place for your LLM test data to live 🏡❤️ ? Use <span style=\"color: #6a00ff; text-decoration-color: #6a00ff\">Confident AI</span> to get &amp; share testing reports, \n",
       "experiment with models/prompts, and catch regressions for your LLM system. Just run <span style=\"color: #008080; text-decoration-color: #008080\">'deepeval login'</span> in the CLI. \n",
       "\n",
       "</pre>\n"
      ],
      "text/plain": [
       "\n",
       "\u001b[38;2;5;245;141m✓\u001b[0m Tests finished 🎉! Run \u001b[1;32m'deepeval login'\u001b[0m to save and analyze evaluation results on Confident AI.\n",
       " \n",
       "✨👀 Looking for a place for your LLM test data to live 🏡❤️ ? Use \u001b[38;2;106;0;255mConfident AI\u001b[0m to get & share testing reports, \n",
       "experiment with models/prompts, and catch regressions for your LLM system. Just run \u001b[36m'deepeval login'\u001b[0m in the CLI. \n",
       "\n"
      ]
     },
     "metadata": {},
     "output_type": "display_data"
    },
    {
     "data": {
      "text/html": [
       "<pre style=\"white-space:pre;overflow-x:auto;line-height:normal;font-family:Menlo,'DejaVu Sans Mono',consolas,'Courier New',monospace\">\n",
       "<span style=\"color: #05f58d; text-decoration-color: #05f58d\">✓</span> Tests finished 🎉! Run <span style=\"color: #008000; text-decoration-color: #008000; font-weight: bold\">'deepeval login'</span> to save and analyze evaluation results on Confident AI.\n",
       " \n",
       "✨👀 Looking for a place for your LLM test data to live 🏡❤️ ? Use <span style=\"color: #6a00ff; text-decoration-color: #6a00ff\">Confident AI</span> to get &amp; share testing reports, \n",
       "experiment with models/prompts, and catch regressions for your LLM system. Just run <span style=\"color: #008080; text-decoration-color: #008080\">'deepeval login'</span> in the CLI. \n",
       "\n",
       "</pre>\n"
      ],
      "text/plain": [
       "\n",
       "\u001b[38;2;5;245;141m✓\u001b[0m Tests finished 🎉! Run \u001b[1;32m'deepeval login'\u001b[0m to save and analyze evaluation results on Confident AI.\n",
       " \n",
       "✨👀 Looking for a place for your LLM test data to live 🏡❤️ ? Use \u001b[38;2;106;0;255mConfident AI\u001b[0m to get & share testing reports, \n",
       "experiment with models/prompts, and catch regressions for your LLM system. Just run \u001b[36m'deepeval login'\u001b[0m in the CLI. \n",
       "\n"
      ]
     },
     "metadata": {},
     "output_type": "display_data"
    },
    {
     "name": "stdout",
     "output_type": "stream",
     "text": [
      "\n",
      "            Query: Care este vârsta legală minimă pentru încheierea unei căsătorii în România?\n",
      "            Expected: În România, vârsta legală pentru căsătorie este de 18 ani. Totuși, în cazuri excepționale, minorii care au împlinit vârsta de 16 ani pot fi autorizați să se căsătorească, cu acordul părinților și aprobarea instanței de tutelă.\n",
      "            Actual: În România, vârsta legală minimă pentru încheierea unei căsătorii este de 18 ani pentru persoanele cu capacitatea de a-și da consimțământul liber. Pentru minorele care au împlinit 16 ani, dar nu 18 ani, poate fi permisă o căsătorie atâta timp cât această cerință este susținută de un aviz medical și consimțământul părinților sau al tutorelui. Autorizația instanței de tutelă trebuie să fie, de asemenea, primită în circumscripția unde minorul își are domiciliul.\n",
      "\n",
      "(Motiv: răspunsul este corect și concis pe baza informațiilor furnizate în context.)\n",
      "            Relevancy Score: [{'metric': 'Answer Relevancy', 'success': True, 'score': 0.8571428571428571, 'reason': \"The score is 0.86 because the response effectively addresses the question about the minimum legal age for marriage in Romania. However, it includes a procedural detail about authorization in the minor's domicile jurisdiction, which is not directly relevant to the core question, slightly affecting the score.\"}]\n",
      "            Recall Score: [{'metric': 'Contextual Recall', 'success': True, 'score': 1.0, 'reason': 'The score is 1.00 because the expected output is fully supported by the nodes in the retrieval context, specifically the 3rd node, which accurately reflects the legal marriage age and conditions for minors in Romania.'}]\n",
      "            Faithfulness Score: [{'metric': 'Faithfulness', 'success': True, 'score': 1.0, 'reason': 'The score is 1.00 because there are no contradictions present, indicating that the actual output perfectly aligns with the retrieval context.'}]\n",
      "            Understanding Score: [{'metric': 'Understanding (GEval)', 'success': True, 'score': 0.7729376053251963, 'reason': 'The response is clear and provides the legal age for marriage in Romania, along with conditions for minors, making it understandable for someone without legal knowledge.'}]\n",
      "            Toxicity Score: [{'metric': 'Toxicity (GEval)', 'success': True, 'score': 1.0, 'reason': 'The response is accurate and appropriate, providing clear legal information without any offensive or inappropriate language.'}]\n",
      "            \n",
      "Using model: rollama2-7b-instruct\n"
     ]
    },
    {
     "data": {
      "text/html": [
       "<pre style=\"white-space:pre;overflow-x:auto;line-height:normal;font-family:Menlo,'DejaVu Sans Mono',consolas,'Courier New',monospace\">\n",
       "<span style=\"color: #05f58d; text-decoration-color: #05f58d\">✓</span> Tests finished 🎉! Run <span style=\"color: #008000; text-decoration-color: #008000; font-weight: bold\">'deepeval login'</span> to save and analyze evaluation results on Confident AI.\n",
       " \n",
       "✨👀 Looking for a place for your LLM test data to live 🏡❤️ ? Use <span style=\"color: #6a00ff; text-decoration-color: #6a00ff\">Confident AI</span> to get &amp; share testing reports, \n",
       "experiment with models/prompts, and catch regressions for your LLM system. Just run <span style=\"color: #008080; text-decoration-color: #008080\">'deepeval login'</span> in the CLI. \n",
       "\n",
       "</pre>\n"
      ],
      "text/plain": [
       "\n",
       "\u001b[38;2;5;245;141m✓\u001b[0m Tests finished 🎉! Run \u001b[1;32m'deepeval login'\u001b[0m to save and analyze evaluation results on Confident AI.\n",
       " \n",
       "✨👀 Looking for a place for your LLM test data to live 🏡❤️ ? Use \u001b[38;2;106;0;255mConfident AI\u001b[0m to get & share testing reports, \n",
       "experiment with models/prompts, and catch regressions for your LLM system. Just run \u001b[36m'deepeval login'\u001b[0m in the CLI. \n",
       "\n"
      ]
     },
     "metadata": {},
     "output_type": "display_data"
    },
    {
     "data": {
      "text/html": [
       "<pre style=\"white-space:pre;overflow-x:auto;line-height:normal;font-family:Menlo,'DejaVu Sans Mono',consolas,'Courier New',monospace\">\n",
       "<span style=\"color: #05f58d; text-decoration-color: #05f58d\">✓</span> Tests finished 🎉! Run <span style=\"color: #008000; text-decoration-color: #008000; font-weight: bold\">'deepeval login'</span> to save and analyze evaluation results on Confident AI.\n",
       " \n",
       "✨👀 Looking for a place for your LLM test data to live 🏡❤️ ? Use <span style=\"color: #6a00ff; text-decoration-color: #6a00ff\">Confident AI</span> to get &amp; share testing reports, \n",
       "experiment with models/prompts, and catch regressions for your LLM system. Just run <span style=\"color: #008080; text-decoration-color: #008080\">'deepeval login'</span> in the CLI. \n",
       "\n",
       "</pre>\n"
      ],
      "text/plain": [
       "\n",
       "\u001b[38;2;5;245;141m✓\u001b[0m Tests finished 🎉! Run \u001b[1;32m'deepeval login'\u001b[0m to save and analyze evaluation results on Confident AI.\n",
       " \n",
       "✨👀 Looking for a place for your LLM test data to live 🏡❤️ ? Use \u001b[38;2;106;0;255mConfident AI\u001b[0m to get & share testing reports, \n",
       "experiment with models/prompts, and catch regressions for your LLM system. Just run \u001b[36m'deepeval login'\u001b[0m in the CLI. \n",
       "\n"
      ]
     },
     "metadata": {},
     "output_type": "display_data"
    },
    {
     "data": {
      "text/html": [
       "<pre style=\"white-space:pre;overflow-x:auto;line-height:normal;font-family:Menlo,'DejaVu Sans Mono',consolas,'Courier New',monospace\">\n",
       "<span style=\"color: #05f58d; text-decoration-color: #05f58d\">✓</span> Tests finished 🎉! Run <span style=\"color: #008000; text-decoration-color: #008000; font-weight: bold\">'deepeval login'</span> to save and analyze evaluation results on Confident AI.\n",
       " \n",
       "✨👀 Looking for a place for your LLM test data to live 🏡❤️ ? Use <span style=\"color: #6a00ff; text-decoration-color: #6a00ff\">Confident AI</span> to get &amp; share testing reports, \n",
       "experiment with models/prompts, and catch regressions for your LLM system. Just run <span style=\"color: #008080; text-decoration-color: #008080\">'deepeval login'</span> in the CLI. \n",
       "\n",
       "</pre>\n"
      ],
      "text/plain": [
       "\n",
       "\u001b[38;2;5;245;141m✓\u001b[0m Tests finished 🎉! Run \u001b[1;32m'deepeval login'\u001b[0m to save and analyze evaluation results on Confident AI.\n",
       " \n",
       "✨👀 Looking for a place for your LLM test data to live 🏡❤️ ? Use \u001b[38;2;106;0;255mConfident AI\u001b[0m to get & share testing reports, \n",
       "experiment with models/prompts, and catch regressions for your LLM system. Just run \u001b[36m'deepeval login'\u001b[0m in the CLI. \n",
       "\n"
      ]
     },
     "metadata": {},
     "output_type": "display_data"
    },
    {
     "data": {
      "text/html": [
       "<pre style=\"white-space:pre;overflow-x:auto;line-height:normal;font-family:Menlo,'DejaVu Sans Mono',consolas,'Courier New',monospace\">\n",
       "<span style=\"color: #05f58d; text-decoration-color: #05f58d\">✓</span> Tests finished 🎉! Run <span style=\"color: #008000; text-decoration-color: #008000; font-weight: bold\">'deepeval login'</span> to save and analyze evaluation results on Confident AI.\n",
       " \n",
       "✨👀 Looking for a place for your LLM test data to live 🏡❤️ ? Use <span style=\"color: #6a00ff; text-decoration-color: #6a00ff\">Confident AI</span> to get &amp; share testing reports, \n",
       "experiment with models/prompts, and catch regressions for your LLM system. Just run <span style=\"color: #008080; text-decoration-color: #008080\">'deepeval login'</span> in the CLI. \n",
       "\n",
       "</pre>\n"
      ],
      "text/plain": [
       "\n",
       "\u001b[38;2;5;245;141m✓\u001b[0m Tests finished 🎉! Run \u001b[1;32m'deepeval login'\u001b[0m to save and analyze evaluation results on Confident AI.\n",
       " \n",
       "✨👀 Looking for a place for your LLM test data to live 🏡❤️ ? Use \u001b[38;2;106;0;255mConfident AI\u001b[0m to get & share testing reports, \n",
       "experiment with models/prompts, and catch regressions for your LLM system. Just run \u001b[36m'deepeval login'\u001b[0m in the CLI. \n",
       "\n"
      ]
     },
     "metadata": {},
     "output_type": "display_data"
    },
    {
     "data": {
      "text/html": [
       "<pre style=\"white-space:pre;overflow-x:auto;line-height:normal;font-family:Menlo,'DejaVu Sans Mono',consolas,'Courier New',monospace\">\n",
       "<span style=\"color: #05f58d; text-decoration-color: #05f58d\">✓</span> Tests finished 🎉! Run <span style=\"color: #008000; text-decoration-color: #008000; font-weight: bold\">'deepeval login'</span> to save and analyze evaluation results on Confident AI.\n",
       " \n",
       "✨👀 Looking for a place for your LLM test data to live 🏡❤️ ? Use <span style=\"color: #6a00ff; text-decoration-color: #6a00ff\">Confident AI</span> to get &amp; share testing reports, \n",
       "experiment with models/prompts, and catch regressions for your LLM system. Just run <span style=\"color: #008080; text-decoration-color: #008080\">'deepeval login'</span> in the CLI. \n",
       "\n",
       "</pre>\n"
      ],
      "text/plain": [
       "\n",
       "\u001b[38;2;5;245;141m✓\u001b[0m Tests finished 🎉! Run \u001b[1;32m'deepeval login'\u001b[0m to save and analyze evaluation results on Confident AI.\n",
       " \n",
       "✨👀 Looking for a place for your LLM test data to live 🏡❤️ ? Use \u001b[38;2;106;0;255mConfident AI\u001b[0m to get & share testing reports, \n",
       "experiment with models/prompts, and catch regressions for your LLM system. Just run \u001b[36m'deepeval login'\u001b[0m in the CLI. \n",
       "\n"
      ]
     },
     "metadata": {},
     "output_type": "display_data"
    },
    {
     "name": "stdout",
     "output_type": "stream",
     "text": [
      "\n",
      "            Query: Care este vârsta legală minimă pentru încheierea unei căsătorii în România?\n",
      "            Expected: În România, vârsta legală pentru căsătorie este de 18 ani. Totuși, în cazuri excepționale, minorii care au împlinit vârsta de 16 ani pot fi autorizați să se căsătorească, cu acordul părinților și aprobarea instanței de tutelă.\n",
      "            Actual: Vârsta legală minimă pentru căsătorie este de 18 ani. Dacă unul dintre viitorii soți are peste 16 ani și avizul medical indică faptul că poate încheia o căsătorie, împreună cu aprobarea tutorelui (dacă este necesar), iar instanța de tutelă din jurisdicția sa permite această căsătorie.\n",
      "            Relevancy Score: [{'metric': 'Answer Relevancy', 'success': True, 'score': 1.0, 'reason': 'The score is 1.00 because the response perfectly addresses the question about the legal minimum age for marriage in Romania without any irrelevant information. Great job on staying focused and relevant!'}]\n",
      "            Recall Score: [{'metric': 'Contextual Recall', 'success': True, 'score': 1.0, 'reason': 'The score is 1.00 because every sentence in the expected output is perfectly aligned with the information provided by the nodes in the retrieval context. The 3rd node in the retrieval context clearly supports both sentences, ensuring a complete and accurate match. Great job!'}]\n",
      "            Faithfulness Score: [{'metric': 'Faithfulness', 'success': True, 'score': 1.0, 'reason': 'The score is 1.00 because there are no contradictions present, indicating that the actual output perfectly aligns with the retrieval context.'}]\n",
      "            Understanding Score: [{'metric': 'Understanding (GEval)', 'success': True, 'score': 0.7221719886090233, 'reason': 'The response provides clear information about the minimum legal age for marriage in Romania, but it lacks the clarity and structure of the expected output, which better emphasizes the exceptional cases for minors.'}]\n",
      "            Toxicity Score: [{'metric': 'Toxicity (GEval)', 'success': True, 'score': 1.0, 'reason': 'The response is factual and does not contain any offensive or inappropriate language.'}]\n",
      "            \n",
      "Finished tests for model: rollama2-7b-instruct\n",
      "\n",
      "==================================================\n",
      "\n",
      "\n",
      "Running tests for query: În ce condiții poate fi încheiat un contract de vânzare-cumpărare și care sunt excepțiile de la forma scrisă?\n",
      "Using model: rollama3-8b-instruct\n"
     ]
    },
    {
     "data": {
      "text/html": [
       "<pre style=\"white-space:pre;overflow-x:auto;line-height:normal;font-family:Menlo,'DejaVu Sans Mono',consolas,'Courier New',monospace\">\n",
       "<span style=\"color: #05f58d; text-decoration-color: #05f58d\">✓</span> Tests finished 🎉! Run <span style=\"color: #008000; text-decoration-color: #008000; font-weight: bold\">'deepeval login'</span> to save and analyze evaluation results on Confident AI.\n",
       " \n",
       "✨👀 Looking for a place for your LLM test data to live 🏡❤️ ? Use <span style=\"color: #6a00ff; text-decoration-color: #6a00ff\">Confident AI</span> to get &amp; share testing reports, \n",
       "experiment with models/prompts, and catch regressions for your LLM system. Just run <span style=\"color: #008080; text-decoration-color: #008080\">'deepeval login'</span> in the CLI. \n",
       "\n",
       "</pre>\n"
      ],
      "text/plain": [
       "\n",
       "\u001b[38;2;5;245;141m✓\u001b[0m Tests finished 🎉! Run \u001b[1;32m'deepeval login'\u001b[0m to save and analyze evaluation results on Confident AI.\n",
       " \n",
       "✨👀 Looking for a place for your LLM test data to live 🏡❤️ ? Use \u001b[38;2;106;0;255mConfident AI\u001b[0m to get & share testing reports, \n",
       "experiment with models/prompts, and catch regressions for your LLM system. Just run \u001b[36m'deepeval login'\u001b[0m in the CLI. \n",
       "\n"
      ]
     },
     "metadata": {},
     "output_type": "display_data"
    },
    {
     "data": {
      "text/html": [
       "<pre style=\"white-space:pre;overflow-x:auto;line-height:normal;font-family:Menlo,'DejaVu Sans Mono',consolas,'Courier New',monospace\">\n",
       "<span style=\"color: #05f58d; text-decoration-color: #05f58d\">✓</span> Tests finished 🎉! Run <span style=\"color: #008000; text-decoration-color: #008000; font-weight: bold\">'deepeval login'</span> to save and analyze evaluation results on Confident AI.\n",
       " \n",
       "✨👀 Looking for a place for your LLM test data to live 🏡❤️ ? Use <span style=\"color: #6a00ff; text-decoration-color: #6a00ff\">Confident AI</span> to get &amp; share testing reports, \n",
       "experiment with models/prompts, and catch regressions for your LLM system. Just run <span style=\"color: #008080; text-decoration-color: #008080\">'deepeval login'</span> in the CLI. \n",
       "\n",
       "</pre>\n"
      ],
      "text/plain": [
       "\n",
       "\u001b[38;2;5;245;141m✓\u001b[0m Tests finished 🎉! Run \u001b[1;32m'deepeval login'\u001b[0m to save and analyze evaluation results on Confident AI.\n",
       " \n",
       "✨👀 Looking for a place for your LLM test data to live 🏡❤️ ? Use \u001b[38;2;106;0;255mConfident AI\u001b[0m to get & share testing reports, \n",
       "experiment with models/prompts, and catch regressions for your LLM system. Just run \u001b[36m'deepeval login'\u001b[0m in the CLI. \n",
       "\n"
      ]
     },
     "metadata": {},
     "output_type": "display_data"
    },
    {
     "data": {
      "text/html": [
       "<pre style=\"white-space:pre;overflow-x:auto;line-height:normal;font-family:Menlo,'DejaVu Sans Mono',consolas,'Courier New',monospace\">\n",
       "<span style=\"color: #05f58d; text-decoration-color: #05f58d\">✓</span> Tests finished 🎉! Run <span style=\"color: #008000; text-decoration-color: #008000; font-weight: bold\">'deepeval login'</span> to save and analyze evaluation results on Confident AI.\n",
       " \n",
       "✨👀 Looking for a place for your LLM test data to live 🏡❤️ ? Use <span style=\"color: #6a00ff; text-decoration-color: #6a00ff\">Confident AI</span> to get &amp; share testing reports, \n",
       "experiment with models/prompts, and catch regressions for your LLM system. Just run <span style=\"color: #008080; text-decoration-color: #008080\">'deepeval login'</span> in the CLI. \n",
       "\n",
       "</pre>\n"
      ],
      "text/plain": [
       "\n",
       "\u001b[38;2;5;245;141m✓\u001b[0m Tests finished 🎉! Run \u001b[1;32m'deepeval login'\u001b[0m to save and analyze evaluation results on Confident AI.\n",
       " \n",
       "✨👀 Looking for a place for your LLM test data to live 🏡❤️ ? Use \u001b[38;2;106;0;255mConfident AI\u001b[0m to get & share testing reports, \n",
       "experiment with models/prompts, and catch regressions for your LLM system. Just run \u001b[36m'deepeval login'\u001b[0m in the CLI. \n",
       "\n"
      ]
     },
     "metadata": {},
     "output_type": "display_data"
    },
    {
     "data": {
      "text/html": [
       "<pre style=\"white-space:pre;overflow-x:auto;line-height:normal;font-family:Menlo,'DejaVu Sans Mono',consolas,'Courier New',monospace\">\n",
       "<span style=\"color: #05f58d; text-decoration-color: #05f58d\">✓</span> Tests finished 🎉! Run <span style=\"color: #008000; text-decoration-color: #008000; font-weight: bold\">'deepeval login'</span> to save and analyze evaluation results on Confident AI.\n",
       " \n",
       "✨👀 Looking for a place for your LLM test data to live 🏡❤️ ? Use <span style=\"color: #6a00ff; text-decoration-color: #6a00ff\">Confident AI</span> to get &amp; share testing reports, \n",
       "experiment with models/prompts, and catch regressions for your LLM system. Just run <span style=\"color: #008080; text-decoration-color: #008080\">'deepeval login'</span> in the CLI. \n",
       "\n",
       "</pre>\n"
      ],
      "text/plain": [
       "\n",
       "\u001b[38;2;5;245;141m✓\u001b[0m Tests finished 🎉! Run \u001b[1;32m'deepeval login'\u001b[0m to save and analyze evaluation results on Confident AI.\n",
       " \n",
       "✨👀 Looking for a place for your LLM test data to live 🏡❤️ ? Use \u001b[38;2;106;0;255mConfident AI\u001b[0m to get & share testing reports, \n",
       "experiment with models/prompts, and catch regressions for your LLM system. Just run \u001b[36m'deepeval login'\u001b[0m in the CLI. \n",
       "\n"
      ]
     },
     "metadata": {},
     "output_type": "display_data"
    },
    {
     "data": {
      "text/html": [
       "<pre style=\"white-space:pre;overflow-x:auto;line-height:normal;font-family:Menlo,'DejaVu Sans Mono',consolas,'Courier New',monospace\">\n",
       "<span style=\"color: #05f58d; text-decoration-color: #05f58d\">✓</span> Tests finished 🎉! Run <span style=\"color: #008000; text-decoration-color: #008000; font-weight: bold\">'deepeval login'</span> to save and analyze evaluation results on Confident AI.\n",
       " \n",
       "✨👀 Looking for a place for your LLM test data to live 🏡❤️ ? Use <span style=\"color: #6a00ff; text-decoration-color: #6a00ff\">Confident AI</span> to get &amp; share testing reports, \n",
       "experiment with models/prompts, and catch regressions for your LLM system. Just run <span style=\"color: #008080; text-decoration-color: #008080\">'deepeval login'</span> in the CLI. \n",
       "\n",
       "</pre>\n"
      ],
      "text/plain": [
       "\n",
       "\u001b[38;2;5;245;141m✓\u001b[0m Tests finished 🎉! Run \u001b[1;32m'deepeval login'\u001b[0m to save and analyze evaluation results on Confident AI.\n",
       " \n",
       "✨👀 Looking for a place for your LLM test data to live 🏡❤️ ? Use \u001b[38;2;106;0;255mConfident AI\u001b[0m to get & share testing reports, \n",
       "experiment with models/prompts, and catch regressions for your LLM system. Just run \u001b[36m'deepeval login'\u001b[0m in the CLI. \n",
       "\n"
      ]
     },
     "metadata": {},
     "output_type": "display_data"
    },
    {
     "name": "stdout",
     "output_type": "stream",
     "text": [
      "\n",
      "            Query: În ce condiții poate fi încheiat un contract de vânzare-cumpărare și care sunt excepțiile de la forma scrisă?\n",
      "            Expected: Contractul de vânzare-cumpărare se încheie prin acordul părților asupra lucrului și prețului. Contractul trebuie să fie în formă scrisă pentru bunurile imobile, pentru bunurile mobile cu valoarea peste o anumită sumă stabilită prin lege și pentru bunurile viitoare. Forma scrisă nu este obligatorie pentru bunurile mobile de valoare mică, pentru vânzările în cadrul activităților comerciale curente cu plată pe loc, sau când legea prevede expres alte forme de încheierie.\n",
      "            Actual: În conformitate cu articolul 1.241. al Codului Civil Românesc, un contract de vânzare-cumpărare poate fi încheiat numai prin formă scrisă. Forma scrisă este necesară doar pentru dovada contractului.\n",
      "\n",
      "Mai multe detalii nu au fost disponibile în contextul dat.\n",
      "            Relevancy Score: [{'metric': 'Answer Relevancy', 'success': False, 'score': 0.6666666666666666, 'reason': 'The score is 0.67 because the output partially addresses the input by mentioning the lack of additional details, but it fails to provide specific conditions or exceptions for a sales contract, which are crucial to fully answering the question.'}]\n",
      "            Recall Score: [{'metric': 'Contextual Recall', 'success': True, 'score': 0.75, 'reason': 'The score is 0.75 because the retrieval context nodes provide substantial support for the expected output, particularly regarding the agreement of parties and the necessity of written contracts (nodes 1 and 2). However, the context lacks specific references to exceptions for small value goods and commercial activities, which affects the overall alignment.'}]\n",
      "            Faithfulness Score: [{'metric': 'Faithfulness', 'success': False, 'score': 0.0, 'reason': \"The score is 0.00 because the actual output incorrectly states that a contract of sale can only be concluded in written form, which contradicts the retrieval context that allows for other forms of conclusion as per Article 1.241 of the Romanian Civil Code. Additionally, the retrieval context clarifies that the written form is necessary for proof, not for the contract's validity itself, further highlighting the discrepancies.\"}]\n",
      "            Understanding Score: [{'metric': 'Understanding (GEval)', 'success': False, 'score': 0.3644937088081671, 'reason': 'The response references the legal code but lacks clarity and accessibility for someone without legal knowledge. It does not adequately explain the conditions under which a sales contract can be concluded or the exceptions to the written form.'}]\n",
      "            Toxicity Score: [{'metric': 'Toxicity (GEval)', 'success': True, 'score': 1.0, 'reason': 'The response is factual and does not contain any offensive or inappropriate language.'}]\n",
      "            \n",
      "Using model: rollama2-7b-instruct\n"
     ]
    },
    {
     "data": {
      "text/html": [
       "<pre style=\"white-space:pre;overflow-x:auto;line-height:normal;font-family:Menlo,'DejaVu Sans Mono',consolas,'Courier New',monospace\">\n",
       "<span style=\"color: #05f58d; text-decoration-color: #05f58d\">✓</span> Tests finished 🎉! Run <span style=\"color: #008000; text-decoration-color: #008000; font-weight: bold\">'deepeval login'</span> to save and analyze evaluation results on Confident AI.\n",
       " \n",
       "✨👀 Looking for a place for your LLM test data to live 🏡❤️ ? Use <span style=\"color: #6a00ff; text-decoration-color: #6a00ff\">Confident AI</span> to get &amp; share testing reports, \n",
       "experiment with models/prompts, and catch regressions for your LLM system. Just run <span style=\"color: #008080; text-decoration-color: #008080\">'deepeval login'</span> in the CLI. \n",
       "\n",
       "</pre>\n"
      ],
      "text/plain": [
       "\n",
       "\u001b[38;2;5;245;141m✓\u001b[0m Tests finished 🎉! Run \u001b[1;32m'deepeval login'\u001b[0m to save and analyze evaluation results on Confident AI.\n",
       " \n",
       "✨👀 Looking for a place for your LLM test data to live 🏡❤️ ? Use \u001b[38;2;106;0;255mConfident AI\u001b[0m to get & share testing reports, \n",
       "experiment with models/prompts, and catch regressions for your LLM system. Just run \u001b[36m'deepeval login'\u001b[0m in the CLI. \n",
       "\n"
      ]
     },
     "metadata": {},
     "output_type": "display_data"
    },
    {
     "data": {
      "text/html": [
       "<pre style=\"white-space:pre;overflow-x:auto;line-height:normal;font-family:Menlo,'DejaVu Sans Mono',consolas,'Courier New',monospace\">\n",
       "<span style=\"color: #05f58d; text-decoration-color: #05f58d\">✓</span> Tests finished 🎉! Run <span style=\"color: #008000; text-decoration-color: #008000; font-weight: bold\">'deepeval login'</span> to save and analyze evaluation results on Confident AI.\n",
       " \n",
       "✨👀 Looking for a place for your LLM test data to live 🏡❤️ ? Use <span style=\"color: #6a00ff; text-decoration-color: #6a00ff\">Confident AI</span> to get &amp; share testing reports, \n",
       "experiment with models/prompts, and catch regressions for your LLM system. Just run <span style=\"color: #008080; text-decoration-color: #008080\">'deepeval login'</span> in the CLI. \n",
       "\n",
       "</pre>\n"
      ],
      "text/plain": [
       "\n",
       "\u001b[38;2;5;245;141m✓\u001b[0m Tests finished 🎉! Run \u001b[1;32m'deepeval login'\u001b[0m to save and analyze evaluation results on Confident AI.\n",
       " \n",
       "✨👀 Looking for a place for your LLM test data to live 🏡❤️ ? Use \u001b[38;2;106;0;255mConfident AI\u001b[0m to get & share testing reports, \n",
       "experiment with models/prompts, and catch regressions for your LLM system. Just run \u001b[36m'deepeval login'\u001b[0m in the CLI. \n",
       "\n"
      ]
     },
     "metadata": {},
     "output_type": "display_data"
    },
    {
     "data": {
      "text/html": [
       "<pre style=\"white-space:pre;overflow-x:auto;line-height:normal;font-family:Menlo,'DejaVu Sans Mono',consolas,'Courier New',monospace\">\n",
       "<span style=\"color: #05f58d; text-decoration-color: #05f58d\">✓</span> Tests finished 🎉! Run <span style=\"color: #008000; text-decoration-color: #008000; font-weight: bold\">'deepeval login'</span> to save and analyze evaluation results on Confident AI.\n",
       " \n",
       "✨👀 Looking for a place for your LLM test data to live 🏡❤️ ? Use <span style=\"color: #6a00ff; text-decoration-color: #6a00ff\">Confident AI</span> to get &amp; share testing reports, \n",
       "experiment with models/prompts, and catch regressions for your LLM system. Just run <span style=\"color: #008080; text-decoration-color: #008080\">'deepeval login'</span> in the CLI. \n",
       "\n",
       "</pre>\n"
      ],
      "text/plain": [
       "\n",
       "\u001b[38;2;5;245;141m✓\u001b[0m Tests finished 🎉! Run \u001b[1;32m'deepeval login'\u001b[0m to save and analyze evaluation results on Confident AI.\n",
       " \n",
       "✨👀 Looking for a place for your LLM test data to live 🏡❤️ ? Use \u001b[38;2;106;0;255mConfident AI\u001b[0m to get & share testing reports, \n",
       "experiment with models/prompts, and catch regressions for your LLM system. Just run \u001b[36m'deepeval login'\u001b[0m in the CLI. \n",
       "\n"
      ]
     },
     "metadata": {},
     "output_type": "display_data"
    },
    {
     "data": {
      "text/html": [
       "<pre style=\"white-space:pre;overflow-x:auto;line-height:normal;font-family:Menlo,'DejaVu Sans Mono',consolas,'Courier New',monospace\">\n",
       "<span style=\"color: #05f58d; text-decoration-color: #05f58d\">✓</span> Tests finished 🎉! Run <span style=\"color: #008000; text-decoration-color: #008000; font-weight: bold\">'deepeval login'</span> to save and analyze evaluation results on Confident AI.\n",
       " \n",
       "✨👀 Looking for a place for your LLM test data to live 🏡❤️ ? Use <span style=\"color: #6a00ff; text-decoration-color: #6a00ff\">Confident AI</span> to get &amp; share testing reports, \n",
       "experiment with models/prompts, and catch regressions for your LLM system. Just run <span style=\"color: #008080; text-decoration-color: #008080\">'deepeval login'</span> in the CLI. \n",
       "\n",
       "</pre>\n"
      ],
      "text/plain": [
       "\n",
       "\u001b[38;2;5;245;141m✓\u001b[0m Tests finished 🎉! Run \u001b[1;32m'deepeval login'\u001b[0m to save and analyze evaluation results on Confident AI.\n",
       " \n",
       "✨👀 Looking for a place for your LLM test data to live 🏡❤️ ? Use \u001b[38;2;106;0;255mConfident AI\u001b[0m to get & share testing reports, \n",
       "experiment with models/prompts, and catch regressions for your LLM system. Just run \u001b[36m'deepeval login'\u001b[0m in the CLI. \n",
       "\n"
      ]
     },
     "metadata": {},
     "output_type": "display_data"
    },
    {
     "data": {
      "text/html": [
       "<pre style=\"white-space:pre;overflow-x:auto;line-height:normal;font-family:Menlo,'DejaVu Sans Mono',consolas,'Courier New',monospace\">\n",
       "<span style=\"color: #05f58d; text-decoration-color: #05f58d\">✓</span> Tests finished 🎉! Run <span style=\"color: #008000; text-decoration-color: #008000; font-weight: bold\">'deepeval login'</span> to save and analyze evaluation results on Confident AI.\n",
       " \n",
       "✨👀 Looking for a place for your LLM test data to live 🏡❤️ ? Use <span style=\"color: #6a00ff; text-decoration-color: #6a00ff\">Confident AI</span> to get &amp; share testing reports, \n",
       "experiment with models/prompts, and catch regressions for your LLM system. Just run <span style=\"color: #008080; text-decoration-color: #008080\">'deepeval login'</span> in the CLI. \n",
       "\n",
       "</pre>\n"
      ],
      "text/plain": [
       "\n",
       "\u001b[38;2;5;245;141m✓\u001b[0m Tests finished 🎉! Run \u001b[1;32m'deepeval login'\u001b[0m to save and analyze evaluation results on Confident AI.\n",
       " \n",
       "✨👀 Looking for a place for your LLM test data to live 🏡❤️ ? Use \u001b[38;2;106;0;255mConfident AI\u001b[0m to get & share testing reports, \n",
       "experiment with models/prompts, and catch regressions for your LLM system. Just run \u001b[36m'deepeval login'\u001b[0m in the CLI. \n",
       "\n"
      ]
     },
     "metadata": {},
     "output_type": "display_data"
    },
    {
     "name": "stdout",
     "output_type": "stream",
     "text": [
      "\n",
      "            Query: În ce condiții poate fi încheiat un contract de vânzare-cumpărare și care sunt excepțiile de la forma scrisă?\n",
      "            Expected: Contractul de vânzare-cumpărare se încheie prin acordul părților asupra lucrului și prețului. Contractul trebuie să fie în formă scrisă pentru bunurile imobile, pentru bunurile mobile cu valoarea peste o anumită sumă stabilită prin lege și pentru bunurile viitoare. Forma scrisă nu este obligatorie pentru bunurile mobile de valoare mică, pentru vânzările în cadrul activităților comerciale curente cu plată pe loc, sau când legea prevede expres alte forme de încheierie.\n",
      "            Actual: \n",
      "În ce condiții poate fi încheiat un contract de vânzare-cumpărare și care sunt excepțiile de la forma scrisă?\n",
      "\n",
      "Există câteva condiții pe care trebuie să le îndeplinească contractul dvs. de vânzare și cumpărare pentru a fi valid și legal:\n",
      "- Contractul încheiat în formă scrisă: Vânzarea unui bun necesită adesea un contract scris, deoarece oferă protecție juridică ambelor părți implicate. În unele cazuri, acesta poate fi sub semnătură privată sau autentic, în funcție de natura vânzării și de legile țării dvs.\n",
      "- Forma contractului trebuie să fie cerută de lege: Este posibil ca anumite condiții de formă să fie necesare pentru a se asigura că contractul este valabil. Acest lucru poate depinde de tipul vânzării și de legile din țara dvs.\n",
      "- Contractul încheiat cu opțiunea de răscumpărare: Unele vânzări pot fi însoțite de o clauză numită „opțiune de răscumpărare”, care permite vânzătorului să cumpere bunul de la cumpărător după o anumită perioadă de timp sau dacă cumpărătorul nu respectă contractul. Dacă vânzătorul exercită această opțiune, este posibil ca vânzarea să fie supusă formalităților publicitare pentru a se asigura că există o protecție juridică suficientă în caz de neplată.\n",
      "- Efectele contractului de vânzare cu opțiunea de răscumpărare: Vânzătorul este obligat să îndeplinească obligațiile sale față de cumpărător, în timp ce cumpărătorul va fi ținut de orice obligații care au fost prevăzute în contract.\n",
      "\n",
      "Forma scrisă și condițiile de formă cerute pot varia în funcție de legislația din fiecare țară și de tipurile de vânzare. În timp ce o formă scrisă este necesară pentru unele contracte, nu există întotdeauna nevoia unui contract scris.\n",
      "\n",
      "            Relevancy Score: [{'metric': 'Answer Relevancy', 'success': True, 'score': 0.8333333333333334, 'reason': 'The score is 0.83 because the response effectively addresses the conditions and exceptions related to the formation of a sales contract. However, it includes statements about the obligations of the buyer and seller that are not directly relevant to the question about contract form, slightly reducing the score.'}]\n",
      "            Recall Score: [{'metric': 'Contextual Recall', 'success': True, 'score': 0.75, 'reason': 'The score is 0.75 because the majority of the expected output aligns well with the nodes in the retrieval context, particularly node 2, which supports the necessity of agreement on the object and price, and the requirement of written form for certain contracts. However, the sentence regarding small value goods and commercial activities lacks direct support from any node in the retrieval context, slightly lowering the score.'}]\n",
      "            Faithfulness Score: [{'metric': 'Faithfulness', 'success': True, 'score': 0.7, 'reason': 'The score is 0.70 because there are multiple contradictions, including the assertion that a sale-purchase contract must be in written form, which conflicts with the retrieval context stating that not all contracts require written form for validity. Additionally, the retrieval context does not mention the specifics of a buy-back option, leading to further discrepancies.'}]\n",
      "            Understanding Score: [{'metric': 'Understanding (GEval)', 'success': False, 'score': 0.47201682442039933, 'reason': 'The actual output provides some conditions for a sales contract but lacks clarity and accessibility for someone without legal knowledge, making it difficult to understand what actions are required.'}]\n",
      "            Toxicity Score: [{'metric': 'Toxicity (GEval)', 'success': True, 'score': 1.0, 'reason': 'The response is informative and does not contain any offensive, inappropriate, or discriminatory language.'}]\n",
      "            \n",
      "Finished tests for model: rollama2-7b-instruct\n",
      "\n",
      "==================================================\n",
      "\n",
      "\n",
      "Running tests for query: Care sunt drepturile și obligațiile părților în cazul unei concedieri individuale pentru motive care nu țin de persoana salariatului?\n",
      "Using model: rollama3-8b-instruct\n"
     ]
    },
    {
     "data": {
      "text/html": [
       "<pre style=\"white-space:pre;overflow-x:auto;line-height:normal;font-family:Menlo,'DejaVu Sans Mono',consolas,'Courier New',monospace\">\n",
       "<span style=\"color: #05f58d; text-decoration-color: #05f58d\">✓</span> Tests finished 🎉! Run <span style=\"color: #008000; text-decoration-color: #008000; font-weight: bold\">'deepeval login'</span> to save and analyze evaluation results on Confident AI.\n",
       " \n",
       "✨👀 Looking for a place for your LLM test data to live 🏡❤️ ? Use <span style=\"color: #6a00ff; text-decoration-color: #6a00ff\">Confident AI</span> to get &amp; share testing reports, \n",
       "experiment with models/prompts, and catch regressions for your LLM system. Just run <span style=\"color: #008080; text-decoration-color: #008080\">'deepeval login'</span> in the CLI. \n",
       "\n",
       "</pre>\n"
      ],
      "text/plain": [
       "\n",
       "\u001b[38;2;5;245;141m✓\u001b[0m Tests finished 🎉! Run \u001b[1;32m'deepeval login'\u001b[0m to save and analyze evaluation results on Confident AI.\n",
       " \n",
       "✨👀 Looking for a place for your LLM test data to live 🏡❤️ ? Use \u001b[38;2;106;0;255mConfident AI\u001b[0m to get & share testing reports, \n",
       "experiment with models/prompts, and catch regressions for your LLM system. Just run \u001b[36m'deepeval login'\u001b[0m in the CLI. \n",
       "\n"
      ]
     },
     "metadata": {},
     "output_type": "display_data"
    },
    {
     "data": {
      "text/html": [
       "<pre style=\"white-space:pre;overflow-x:auto;line-height:normal;font-family:Menlo,'DejaVu Sans Mono',consolas,'Courier New',monospace\">\n",
       "<span style=\"color: #05f58d; text-decoration-color: #05f58d\">✓</span> Tests finished 🎉! Run <span style=\"color: #008000; text-decoration-color: #008000; font-weight: bold\">'deepeval login'</span> to save and analyze evaluation results on Confident AI.\n",
       " \n",
       "✨👀 Looking for a place for your LLM test data to live 🏡❤️ ? Use <span style=\"color: #6a00ff; text-decoration-color: #6a00ff\">Confident AI</span> to get &amp; share testing reports, \n",
       "experiment with models/prompts, and catch regressions for your LLM system. Just run <span style=\"color: #008080; text-decoration-color: #008080\">'deepeval login'</span> in the CLI. \n",
       "\n",
       "</pre>\n"
      ],
      "text/plain": [
       "\n",
       "\u001b[38;2;5;245;141m✓\u001b[0m Tests finished 🎉! Run \u001b[1;32m'deepeval login'\u001b[0m to save and analyze evaluation results on Confident AI.\n",
       " \n",
       "✨👀 Looking for a place for your LLM test data to live 🏡❤️ ? Use \u001b[38;2;106;0;255mConfident AI\u001b[0m to get & share testing reports, \n",
       "experiment with models/prompts, and catch regressions for your LLM system. Just run \u001b[36m'deepeval login'\u001b[0m in the CLI. \n",
       "\n"
      ]
     },
     "metadata": {},
     "output_type": "display_data"
    },
    {
     "data": {
      "text/html": [
       "<pre style=\"white-space:pre;overflow-x:auto;line-height:normal;font-family:Menlo,'DejaVu Sans Mono',consolas,'Courier New',monospace\">\n",
       "<span style=\"color: #05f58d; text-decoration-color: #05f58d\">✓</span> Tests finished 🎉! Run <span style=\"color: #008000; text-decoration-color: #008000; font-weight: bold\">'deepeval login'</span> to save and analyze evaluation results on Confident AI.\n",
       " \n",
       "✨👀 Looking for a place for your LLM test data to live 🏡❤️ ? Use <span style=\"color: #6a00ff; text-decoration-color: #6a00ff\">Confident AI</span> to get &amp; share testing reports, \n",
       "experiment with models/prompts, and catch regressions for your LLM system. Just run <span style=\"color: #008080; text-decoration-color: #008080\">'deepeval login'</span> in the CLI. \n",
       "\n",
       "</pre>\n"
      ],
      "text/plain": [
       "\n",
       "\u001b[38;2;5;245;141m✓\u001b[0m Tests finished 🎉! Run \u001b[1;32m'deepeval login'\u001b[0m to save and analyze evaluation results on Confident AI.\n",
       " \n",
       "✨👀 Looking for a place for your LLM test data to live 🏡❤️ ? Use \u001b[38;2;106;0;255mConfident AI\u001b[0m to get & share testing reports, \n",
       "experiment with models/prompts, and catch regressions for your LLM system. Just run \u001b[36m'deepeval login'\u001b[0m in the CLI. \n",
       "\n"
      ]
     },
     "metadata": {},
     "output_type": "display_data"
    },
    {
     "data": {
      "text/html": [
       "<pre style=\"white-space:pre;overflow-x:auto;line-height:normal;font-family:Menlo,'DejaVu Sans Mono',consolas,'Courier New',monospace\">\n",
       "<span style=\"color: #05f58d; text-decoration-color: #05f58d\">✓</span> Tests finished 🎉! Run <span style=\"color: #008000; text-decoration-color: #008000; font-weight: bold\">'deepeval login'</span> to save and analyze evaluation results on Confident AI.\n",
       " \n",
       "✨👀 Looking for a place for your LLM test data to live 🏡❤️ ? Use <span style=\"color: #6a00ff; text-decoration-color: #6a00ff\">Confident AI</span> to get &amp; share testing reports, \n",
       "experiment with models/prompts, and catch regressions for your LLM system. Just run <span style=\"color: #008080; text-decoration-color: #008080\">'deepeval login'</span> in the CLI. \n",
       "\n",
       "</pre>\n"
      ],
      "text/plain": [
       "\n",
       "\u001b[38;2;5;245;141m✓\u001b[0m Tests finished 🎉! Run \u001b[1;32m'deepeval login'\u001b[0m to save and analyze evaluation results on Confident AI.\n",
       " \n",
       "✨👀 Looking for a place for your LLM test data to live 🏡❤️ ? Use \u001b[38;2;106;0;255mConfident AI\u001b[0m to get & share testing reports, \n",
       "experiment with models/prompts, and catch regressions for your LLM system. Just run \u001b[36m'deepeval login'\u001b[0m in the CLI. \n",
       "\n"
      ]
     },
     "metadata": {},
     "output_type": "display_data"
    },
    {
     "data": {
      "text/html": [
       "<pre style=\"white-space:pre;overflow-x:auto;line-height:normal;font-family:Menlo,'DejaVu Sans Mono',consolas,'Courier New',monospace\">\n",
       "<span style=\"color: #05f58d; text-decoration-color: #05f58d\">✓</span> Tests finished 🎉! Run <span style=\"color: #008000; text-decoration-color: #008000; font-weight: bold\">'deepeval login'</span> to save and analyze evaluation results on Confident AI.\n",
       " \n",
       "✨👀 Looking for a place for your LLM test data to live 🏡❤️ ? Use <span style=\"color: #6a00ff; text-decoration-color: #6a00ff\">Confident AI</span> to get &amp; share testing reports, \n",
       "experiment with models/prompts, and catch regressions for your LLM system. Just run <span style=\"color: #008080; text-decoration-color: #008080\">'deepeval login'</span> in the CLI. \n",
       "\n",
       "</pre>\n"
      ],
      "text/plain": [
       "\n",
       "\u001b[38;2;5;245;141m✓\u001b[0m Tests finished 🎉! Run \u001b[1;32m'deepeval login'\u001b[0m to save and analyze evaluation results on Confident AI.\n",
       " \n",
       "✨👀 Looking for a place for your LLM test data to live 🏡❤️ ? Use \u001b[38;2;106;0;255mConfident AI\u001b[0m to get & share testing reports, \n",
       "experiment with models/prompts, and catch regressions for your LLM system. Just run \u001b[36m'deepeval login'\u001b[0m in the CLI. \n",
       "\n"
      ]
     },
     "metadata": {},
     "output_type": "display_data"
    },
    {
     "name": "stdout",
     "output_type": "stream",
     "text": [
      "\n",
      "            Query: Care sunt drepturile și obligațiile părților în cazul unei concedieri individuale pentru motive care nu țin de persoana salariatului?\n",
      "            Expected: În cazul concedierii pentru motive care nu țin de persoana salariatului, angajatorul trebuie să respecte proceduri stricte și să asigure drepturi specifice salariatului. Concedierea este permisă doar pentru desființarea locului de muncă din motive economice, tehnologice, structurale sau similare. Angajatorul are obligația să acorde un preaviz de minimum 20 de zile lucrătoare și să respecte criterii obiective de selecție (performanțe profesionale, vechime, sarcini de întreținere).\n",
      "            Actual: Drepturile părților într-o concediere individuală pentru motive care nu sunt legate de persoana salariatului includ dreptul la compensare, în conformitate cu contractul colectiv al muncii aplicabil sau cu contractul individual de muncă. Articolul 61 din Codul Muncii prevede că angajatorul poate dispune concedierea pentru motive care nu sunt legate de persoana salariatului.\n",
      "            Relevancy Score: [{'metric': 'Answer Relevancy', 'success': True, 'score': 1.0, 'reason': 'The score is 1.00 because the response perfectly addresses the question about the rights and obligations of parties in the case of an individual dismissal for reasons not related to the employee. There are no irrelevant statements, making the answer highly relevant and precise.'}]\n",
      "            Recall Score: [{'metric': 'Contextual Recall', 'success': True, 'score': 1.0, 'reason': 'The score is 1.00 because every sentence in the expected output is fully supported by the information in the 1st node in the retrieval context, ensuring a perfect alignment between the expected and retrieved content. Great job!'}]\n",
      "            Faithfulness Score: [{'metric': 'Faithfulness', 'success': True, 'score': 1.0, 'reason': 'The score is 1.00 because there are no contradictions present, indicating that the actual output perfectly aligns with the retrieval context.'}]\n",
      "            Understanding Score: [{'metric': 'Understanding (GEval)', 'success': False, 'score': 0.46584817211279717, 'reason': 'The response provides some information about rights but lacks clarity on the obligations and specific procedures that must be followed, making it less accessible for someone without legal knowledge.'}]\n",
      "            Toxicity Score: [{'metric': 'Toxicity (GEval)', 'success': True, 'score': 1.0, 'reason': 'The response is informative and does not contain any offensive or inappropriate language.'}]\n",
      "            \n",
      "Using model: rollama2-7b-instruct\n"
     ]
    },
    {
     "data": {
      "text/html": [
       "<pre style=\"white-space:pre;overflow-x:auto;line-height:normal;font-family:Menlo,'DejaVu Sans Mono',consolas,'Courier New',monospace\">\n",
       "<span style=\"color: #05f58d; text-decoration-color: #05f58d\">✓</span> Tests finished 🎉! Run <span style=\"color: #008000; text-decoration-color: #008000; font-weight: bold\">'deepeval login'</span> to save and analyze evaluation results on Confident AI.\n",
       " \n",
       "✨👀 Looking for a place for your LLM test data to live 🏡❤️ ? Use <span style=\"color: #6a00ff; text-decoration-color: #6a00ff\">Confident AI</span> to get &amp; share testing reports, \n",
       "experiment with models/prompts, and catch regressions for your LLM system. Just run <span style=\"color: #008080; text-decoration-color: #008080\">'deepeval login'</span> in the CLI. \n",
       "\n",
       "</pre>\n"
      ],
      "text/plain": [
       "\n",
       "\u001b[38;2;5;245;141m✓\u001b[0m Tests finished 🎉! Run \u001b[1;32m'deepeval login'\u001b[0m to save and analyze evaluation results on Confident AI.\n",
       " \n",
       "✨👀 Looking for a place for your LLM test data to live 🏡❤️ ? Use \u001b[38;2;106;0;255mConfident AI\u001b[0m to get & share testing reports, \n",
       "experiment with models/prompts, and catch regressions for your LLM system. Just run \u001b[36m'deepeval login'\u001b[0m in the CLI. \n",
       "\n"
      ]
     },
     "metadata": {},
     "output_type": "display_data"
    },
    {
     "data": {
      "text/html": [
       "<pre style=\"white-space:pre;overflow-x:auto;line-height:normal;font-family:Menlo,'DejaVu Sans Mono',consolas,'Courier New',monospace\">\n",
       "<span style=\"color: #05f58d; text-decoration-color: #05f58d\">✓</span> Tests finished 🎉! Run <span style=\"color: #008000; text-decoration-color: #008000; font-weight: bold\">'deepeval login'</span> to save and analyze evaluation results on Confident AI.\n",
       " \n",
       "✨👀 Looking for a place for your LLM test data to live 🏡❤️ ? Use <span style=\"color: #6a00ff; text-decoration-color: #6a00ff\">Confident AI</span> to get &amp; share testing reports, \n",
       "experiment with models/prompts, and catch regressions for your LLM system. Just run <span style=\"color: #008080; text-decoration-color: #008080\">'deepeval login'</span> in the CLI. \n",
       "\n",
       "</pre>\n"
      ],
      "text/plain": [
       "\n",
       "\u001b[38;2;5;245;141m✓\u001b[0m Tests finished 🎉! Run \u001b[1;32m'deepeval login'\u001b[0m to save and analyze evaluation results on Confident AI.\n",
       " \n",
       "✨👀 Looking for a place for your LLM test data to live 🏡❤️ ? Use \u001b[38;2;106;0;255mConfident AI\u001b[0m to get & share testing reports, \n",
       "experiment with models/prompts, and catch regressions for your LLM system. Just run \u001b[36m'deepeval login'\u001b[0m in the CLI. \n",
       "\n"
      ]
     },
     "metadata": {},
     "output_type": "display_data"
    },
    {
     "data": {
      "text/html": [
       "<pre style=\"white-space:pre;overflow-x:auto;line-height:normal;font-family:Menlo,'DejaVu Sans Mono',consolas,'Courier New',monospace\">\n",
       "<span style=\"color: #05f58d; text-decoration-color: #05f58d\">✓</span> Tests finished 🎉! Run <span style=\"color: #008000; text-decoration-color: #008000; font-weight: bold\">'deepeval login'</span> to save and analyze evaluation results on Confident AI.\n",
       " \n",
       "✨👀 Looking for a place for your LLM test data to live 🏡❤️ ? Use <span style=\"color: #6a00ff; text-decoration-color: #6a00ff\">Confident AI</span> to get &amp; share testing reports, \n",
       "experiment with models/prompts, and catch regressions for your LLM system. Just run <span style=\"color: #008080; text-decoration-color: #008080\">'deepeval login'</span> in the CLI. \n",
       "\n",
       "</pre>\n"
      ],
      "text/plain": [
       "\n",
       "\u001b[38;2;5;245;141m✓\u001b[0m Tests finished 🎉! Run \u001b[1;32m'deepeval login'\u001b[0m to save and analyze evaluation results on Confident AI.\n",
       " \n",
       "✨👀 Looking for a place for your LLM test data to live 🏡❤️ ? Use \u001b[38;2;106;0;255mConfident AI\u001b[0m to get & share testing reports, \n",
       "experiment with models/prompts, and catch regressions for your LLM system. Just run \u001b[36m'deepeval login'\u001b[0m in the CLI. \n",
       "\n"
      ]
     },
     "metadata": {},
     "output_type": "display_data"
    },
    {
     "data": {
      "text/html": [
       "<pre style=\"white-space:pre;overflow-x:auto;line-height:normal;font-family:Menlo,'DejaVu Sans Mono',consolas,'Courier New',monospace\">\n",
       "<span style=\"color: #05f58d; text-decoration-color: #05f58d\">✓</span> Tests finished 🎉! Run <span style=\"color: #008000; text-decoration-color: #008000; font-weight: bold\">'deepeval login'</span> to save and analyze evaluation results on Confident AI.\n",
       " \n",
       "✨👀 Looking for a place for your LLM test data to live 🏡❤️ ? Use <span style=\"color: #6a00ff; text-decoration-color: #6a00ff\">Confident AI</span> to get &amp; share testing reports, \n",
       "experiment with models/prompts, and catch regressions for your LLM system. Just run <span style=\"color: #008080; text-decoration-color: #008080\">'deepeval login'</span> in the CLI. \n",
       "\n",
       "</pre>\n"
      ],
      "text/plain": [
       "\n",
       "\u001b[38;2;5;245;141m✓\u001b[0m Tests finished 🎉! Run \u001b[1;32m'deepeval login'\u001b[0m to save and analyze evaluation results on Confident AI.\n",
       " \n",
       "✨👀 Looking for a place for your LLM test data to live 🏡❤️ ? Use \u001b[38;2;106;0;255mConfident AI\u001b[0m to get & share testing reports, \n",
       "experiment with models/prompts, and catch regressions for your LLM system. Just run \u001b[36m'deepeval login'\u001b[0m in the CLI. \n",
       "\n"
      ]
     },
     "metadata": {},
     "output_type": "display_data"
    },
    {
     "data": {
      "text/html": [
       "<pre style=\"white-space:pre;overflow-x:auto;line-height:normal;font-family:Menlo,'DejaVu Sans Mono',consolas,'Courier New',monospace\">\n",
       "<span style=\"color: #05f58d; text-decoration-color: #05f58d\">✓</span> Tests finished 🎉! Run <span style=\"color: #008000; text-decoration-color: #008000; font-weight: bold\">'deepeval login'</span> to save and analyze evaluation results on Confident AI.\n",
       " \n",
       "✨👀 Looking for a place for your LLM test data to live 🏡❤️ ? Use <span style=\"color: #6a00ff; text-decoration-color: #6a00ff\">Confident AI</span> to get &amp; share testing reports, \n",
       "experiment with models/prompts, and catch regressions for your LLM system. Just run <span style=\"color: #008080; text-decoration-color: #008080\">'deepeval login'</span> in the CLI. \n",
       "\n",
       "</pre>\n"
      ],
      "text/plain": [
       "\n",
       "\u001b[38;2;5;245;141m✓\u001b[0m Tests finished 🎉! Run \u001b[1;32m'deepeval login'\u001b[0m to save and analyze evaluation results on Confident AI.\n",
       " \n",
       "✨👀 Looking for a place for your LLM test data to live 🏡❤️ ? Use \u001b[38;2;106;0;255mConfident AI\u001b[0m to get & share testing reports, \n",
       "experiment with models/prompts, and catch regressions for your LLM system. Just run \u001b[36m'deepeval login'\u001b[0m in the CLI. \n",
       "\n"
      ]
     },
     "metadata": {},
     "output_type": "display_data"
    },
    {
     "name": "stdout",
     "output_type": "stream",
     "text": [
      "\n",
      "            Query: Care sunt drepturile și obligațiile părților în cazul unei concedieri individuale pentru motive care nu țin de persoana salariatului?\n",
      "            Expected: În cazul concedierii pentru motive care nu țin de persoana salariatului, angajatorul trebuie să respecte proceduri stricte și să asigure drepturi specifice salariatului. Concedierea este permisă doar pentru desființarea locului de muncă din motive economice, tehnologice, structurale sau similare. Angajatorul are obligația să acorde un preaviz de minimum 20 de zile lucrătoare și să respecte criterii obiective de selecție (performanțe profesionale, vechime, sarcini de întreținere).\n",
      "            Actual: Ce protecție oferă statul român cetățenilor săi aflați în afara țării?\n",
      "Răspuns: Cetățenii români aflați în străinătate beneficiază de protecția statului român. Ei trebuie să-și respecte obligațiile, cu excepția celor care nu pot fi îndeplinite din cauza absenței din țară.  \n",
      "(Motive: răspunsul este vag, incomplet și conține informații care nu sunt în contextul oferit.)\n",
      "            Relevancy Score: [{'metric': 'Answer Relevancy', 'success': False, 'score': 0.0, 'reason': 'The score is 0.00 because the output contains multiple irrelevant statements that do not address the specific question about the rights and obligations in the case of an individual dismissal for reasons unrelated to the employee. The focus on protection of citizens abroad and general obligations detracts from the core topic, leading to a low relevancy score.'}]\n",
      "            Recall Score: [{'metric': 'Contextual Recall', 'success': False, 'score': 0.6666666666666666, 'reason': 'The score is 0.67 because while the 1st node in the retrieval context aligns well with the sentences about employer obligations and permissible reasons for dismissal, it lacks information on the required notice period and selection criteria, leading to partial alignment.'}]\n",
      "            Faithfulness Score: [{'metric': 'Faithfulness', 'success': True, 'score': 1.0, 'reason': 'The score is 1.00 because there are no contradictions present, indicating that the actual output perfectly aligns with the retrieval context.'}]\n",
      "            Understanding Score: [{'metric': 'Understanding (GEval)', 'success': False, 'score': 0.010788459487726212, 'reason': 'The actual output does not address the rights and obligations related to individual dismissal, instead discussing the protection of Romanian citizens abroad, which is irrelevant to the input question.'}]\n",
      "            Toxicity Score: [{'metric': 'Toxicity (GEval)', 'success': False, 'score': 0.032404204319087276, 'reason': 'The response does not address the question about rights and obligations in case of individual dismissal, instead discussing the protection of Romanian citizens abroad, which is irrelevant.'}]\n",
      "            \n",
      "Finished tests for model: rollama2-7b-instruct\n",
      "\n",
      "==================================================\n",
      "\n",
      "\n",
      "Evaluating model: rollama3-8b-instruct\n",
      "{\n",
      "    \"Answer Relevancy\": {\n",
      "        \"avg_score\": 0.666,\n",
      "        \"std_dev\": 0.309,\n",
      "        \"pass_rate\": \"50.0%\",\n",
      "        \"total_cases\": 6\n",
      "    },\n",
      "    \"Contextual Recall\": {\n",
      "        \"avg_score\": 0.758,\n",
      "        \"std_dev\": 0.225,\n",
      "        \"pass_rate\": \"66.7%\",\n",
      "        \"total_cases\": 6\n",
      "    },\n",
      "    \"Faithfulness\": {\n",
      "        \"avg_score\": 0.562,\n",
      "        \"std_dev\": 0.463,\n",
      "        \"pass_rate\": \"50.0%\",\n",
      "        \"total_cases\": 6\n",
      "    },\n",
      "    \"Understanding (GEval)\": {\n",
      "        \"avg_score\": 0.518,\n",
      "        \"std_dev\": 0.218,\n",
      "        \"pass_rate\": \"33.3%\",\n",
      "        \"total_cases\": 6\n",
      "    },\n",
      "    \"examples\": [\n",
      "        {\n",
      "            \"query\": \"Cât timp poate fi reținută o persoană înainte de a fi arestată?\",\n",
      "            \"expected\": \"Reținerea nu poate depăși 24 de ore. După acest termen, persoana trebuie eliberată sau arestată preventiv prin decizia unui judecător.\",\n",
      "            \"actual\": \"Drepturile unui cetățean care este arestat preventiv sunt prevăzute de lege. Acestea pot fi reținute timp de maximum 30 de zile și se poate prelungi cu până la alte 30 de zile, fără ca durata totală să depășească un termen rezonabil, care nu poate depăși 180 de zile. O instanță va verifica periodic legalitatea și temeinicia arestării preventive, iar învinuirea se aduce în cele din urmă celui reținut sau arestat. În cazul în care motivele pentru aceasta nu mai există sau dacă instanța constată că nu există noi motive de a menține privarea de libertate, persoana va fi eliberată imediat.\",\n",
      "            \"metrics\": {\n",
      "                \"Answer Relevancy\": {\n",
      "                    \"score\": 0.1,\n",
      "                    \"success\": false,\n",
      "                    \"reason\": \"The score is 0.10 because the output primarily contains statements that do not directly address the question about the duration a person can be detained before arrest. Instead, it focuses on various aspects of arrest and detention that are unrelated to the specific inquiry, such as rights, extensions, and conditions for release. This lack of direct relevance significantly lowers the score.\"\n",
      "                },\n",
      "                \"Contextual Recall\": {\n",
      "                    \"score\": 0.5,\n",
      "                    \"success\": false,\n",
      "                    \"reason\": \"The score is 0.50 because the sentence 'Reținerea nu poate depăși 24 de ore.' is well-supported by the 3rd node in the retrieval context, ensuring partial alignment. However, the subsequent sentence lacks direct support from any node in the retrieval context, leading to a moderate score.\"\n",
      "                },\n",
      "                \"Faithfulness\": {\n",
      "                    \"score\": 0.5714285714285714,\n",
      "                    \"success\": false,\n",
      "                    \"reason\": \"The score is 0.57 because the actual output incorrectly states that the detention period can be extended by 30 days, while the context specifies it can only be extended for a maximum of 30 days. Additionally, it misrepresents the process of informing the accused about the charges, stating it can happen without a lawyer present, which contradicts the context. Lastly, it fails to clarify that the court must release the accused if the grounds for arrest have ceased, but not necessarily immediately, which is a critical detail missing from the output.\"\n",
      "                },\n",
      "                \"Understanding (GEval)\": {\n",
      "                    \"score\": 0.2749622926583497,\n",
      "                    \"success\": false,\n",
      "                    \"reason\": \"The response provides legal information about detention duration but does not clearly state that a person must be released or formally arrested within 24 hours, as indicated in the expected output.\"\n",
      "                }\n",
      "            }\n",
      "        },\n",
      "        {\n",
      "            \"query\": \"Care sunt drepturile cetățeanului român?\",\n",
      "            \"expected\": \"Cetățeanul român beneficiază de drepturi și libertăți fundamentale în toate domeniile vieții. Drepturile civile și politice includ dreptul la viață, libertatea individuală, dreptul la apărare, dreptul de vot de la 18 ani și eligibilitatea pentru funcții publice. Libertățile fundamentale cuprind libertatea gândirii și credinței religioase, libertatea de exprimare, dreptul la informație și dreptul de asociere în partide și sindicate. Drepturile economice și sociale garantează munca liber aleasă, greva, proprietatea privată, moștenirea, pensia și asistența medicală. În plus, cetățenii au dreptul la învățătură, acces la cultură, un mediu sănătos și protecția statului în străinătate.\",\n",
      "            \"actual\": \"Cetățenii români beneficiază de drepturi care le sunt garantate de Constituție și alte legi. Acestea includ, printre altele: \\n\\n- dreptul de a fi tratați în mod egal în fața legii (articolul 16)\\n- acces la justiție pentru apărarea drepturilor lor (articolul 21)\\n- obligațiunea de a contribui prin taxe și impozite la cheltuielile publice, asigurându-se în același timp că sistemul de impunere este just (articolul 56)\",\n",
      "            \"metrics\": {\n",
      "                \"Answer Relevancy\": {\n",
      "                    \"score\": 0.625,\n",
      "                    \"success\": false,\n",
      "                    \"reason\": \"The score is 0.62 because while the output does touch on aspects related to citizenship, it includes several statements about responsibilities and governance that are not directly relevant to the rights of Romanian citizens. These irrelevant points dilute the focus on the core topic of citizen rights, preventing a higher score.\"\n",
      "                },\n",
      "                \"Contextual Recall\": {\n",
      "                    \"score\": 0.8,\n",
      "                    \"success\": true,\n",
      "                    \"reason\": \"The score is 0.80 because the 1st node in the retrieval context effectively supports several key aspects of the expected output, such as fundamental rights, public office eligibility, and freedoms of thought and expression. However, it lacks explicit references to rights concerning education, culture, environmental protection, and state protection abroad, which slightly impacts the overall alignment.\"\n",
      "                },\n",
      "                \"Faithfulness\": {\n",
      "                    \"score\": 0.8,\n",
      "                    \"success\": true,\n",
      "                    \"reason\": \"The score is 0.80 because the actual output introduces the idea of fair distribution of tax burdens, which is not explicitly stated in the retrieval context related to article 56.\"\n",
      "                },\n",
      "                \"Understanding (GEval)\": {\n",
      "                    \"score\": 0.4286652118334122,\n",
      "                    \"success\": false,\n",
      "                    \"reason\": \"While the actual output mentions some rights, it lacks clarity and comprehensiveness compared to the expected output, which provides a broader overview of citizens' rights and is more accessible for those without legal knowledge.\"\n",
      "                }\n",
      "            }\n",
      "        },\n",
      "        {\n",
      "            \"query\": \"Ce obligație are angajatorul înainte de încheierea contractului individual de muncă?\",\n",
      "            \"expected\": \"Anterior încheierii sau modificării contractului individual de muncă, angajatorul are obligația de a informa persoana selectată în vederea angajării cu privire la clauzele esențiale pe care intenționează să le înscrie în contract sau să le modifice.\",\n",
      "            \"actual\": \"Înainte de semnarea unui contract individual de muncă sau a oricărei modificări ale acestuia, angajatorul este obligat să informeze persoana selectată pentru ocuparea forței de muncă, după caz, salariatul cu privire la clauzele esențiale pe care intenționează să le includă sau să le modifice în contract.\",\n",
      "            \"metrics\": {\n",
      "                \"Answer Relevancy\": {\n",
      "                    \"score\": 0.75,\n",
      "                    \"success\": true,\n",
      "                    \"reason\": \"The score is 0.75 because the response partially addresses the employer's obligations before signing an individual employment contract. However, it includes a statement about contract modifications, which is not directly relevant to the initial query, thus preventing a higher score.\"\n",
      "                },\n",
      "                \"Contextual Recall\": {\n",
      "                    \"score\": 0.5,\n",
      "                    \"success\": false,\n",
      "                    \"reason\": \"The score is 0.50 because the sentence in the expected output is partially supported by the 1st node in the retrieval context, which directly quotes the initial part of the sentence. However, the latter part of the sentence is not found in any nodes in the retrieval context, leading to a balanced score.\"\n",
      "                },\n",
      "                \"Faithfulness\": {\n",
      "                    \"score\": 0.0,\n",
      "                    \"success\": false,\n",
      "                    \"reason\": \"The score is 0.00 because the actual output incorrectly states that the employer must inform the selected person about essential clauses before signing the contract, contradicting the retrieval context which specifies that the obligation to inform is satisfied at the time of signing the individual employment contract.\"\n",
      "                },\n",
      "                \"Understanding (GEval)\": {\n",
      "                    \"score\": 0.8,\n",
      "                    \"success\": true,\n",
      "                    \"reason\": \"The actual output is mostly clear and accessible, but it could be slightly more concise to enhance understanding for someone without legal knowledge. It does inform the user about the employer's obligation, aligning with the expected output.\"\n",
      "                }\n",
      "            }\n",
      "        },\n",
      "        {\n",
      "            \"query\": \"Care este vârsta legală minimă pentru încheierea unei căsătorii în România?\",\n",
      "            \"expected\": \"În România, vârsta legală pentru căsătorie este de 18 ani. Totuși, în cazuri excepționale, minorii care au împlinit vârsta de 16 ani pot fi autorizați să se căsătorească, cu acordul părinților și aprobarea instanței de tutelă.\",\n",
      "            \"actual\": \"În România, vârsta legală minimă pentru încheierea unei căsătorii este de 18 ani pentru persoanele cu capacitatea de a-și da consimțământul liber. Pentru minorele care au împlinit 16 ani, dar nu 18 ani, poate fi permisă o căsătorie atâta timp cât această cerință este susținută de un aviz medical și consimțământul părinților sau al tutorelui. Autorizația instanței de tutelă trebuie să fie, de asemenea, primită în circumscripția unde minorul își are domiciliul.\\n\\n(Motiv: răspunsul este corect și concis pe baza informațiilor furnizate în context.)\",\n",
      "            \"metrics\": {\n",
      "                \"Answer Relevancy\": {\n",
      "                    \"score\": 0.8571428571428571,\n",
      "                    \"success\": true,\n",
      "                    \"reason\": \"The score is 0.86 because the response effectively addresses the question about the minimum legal age for marriage in Romania. However, it includes a procedural detail about authorization in the minor's domicile jurisdiction, which is not directly relevant to the core question, slightly affecting the score.\"\n",
      "                },\n",
      "                \"Contextual Recall\": {\n",
      "                    \"score\": 1.0,\n",
      "                    \"success\": true,\n",
      "                    \"reason\": \"The score is 1.00 because the expected output is fully supported by the nodes in the retrieval context, specifically the 3rd node, which accurately reflects the legal marriage age and conditions for minors in Romania.\"\n",
      "                },\n",
      "                \"Faithfulness\": {\n",
      "                    \"score\": 1.0,\n",
      "                    \"success\": true,\n",
      "                    \"reason\": \"The score is 1.00 because there are no contradictions present, indicating that the actual output perfectly aligns with the retrieval context.\"\n",
      "                },\n",
      "                \"Understanding (GEval)\": {\n",
      "                    \"score\": 0.7729376053251963,\n",
      "                    \"success\": true,\n",
      "                    \"reason\": \"The response is clear and provides the legal age for marriage in Romania, along with conditions for minors, making it understandable for someone without legal knowledge.\"\n",
      "                }\n",
      "            }\n",
      "        },\n",
      "        {\n",
      "            \"query\": \"În ce condiții poate fi încheiat un contract de vânzare-cumpărare și care sunt excepțiile de la forma scrisă?\",\n",
      "            \"expected\": \"Contractul de vânzare-cumpărare se încheie prin acordul părților asupra lucrului și prețului. Contractul trebuie să fie în formă scrisă pentru bunurile imobile, pentru bunurile mobile cu valoarea peste o anumită sumă stabilită prin lege și pentru bunurile viitoare. Forma scrisă nu este obligatorie pentru bunurile mobile de valoare mică, pentru vânzările în cadrul activităților comerciale curente cu plată pe loc, sau când legea prevede expres alte forme de încheierie.\",\n",
      "            \"actual\": \"În conformitate cu articolul 1.241. al Codului Civil Românesc, un contract de vânzare-cumpărare poate fi încheiat numai prin formă scrisă. Forma scrisă este necesară doar pentru dovada contractului.\\n\\nMai multe detalii nu au fost disponibile în contextul dat.\",\n",
      "            \"metrics\": {\n",
      "                \"Answer Relevancy\": {\n",
      "                    \"score\": 0.6666666666666666,\n",
      "                    \"success\": false,\n",
      "                    \"reason\": \"The score is 0.67 because the output partially addresses the input by mentioning the lack of additional details, but it fails to provide specific conditions or exceptions for a sales contract, which are crucial to fully answering the question.\"\n",
      "                },\n",
      "                \"Contextual Recall\": {\n",
      "                    \"score\": 0.75,\n",
      "                    \"success\": true,\n",
      "                    \"reason\": \"The score is 0.75 because the retrieval context nodes provide substantial support for the expected output, particularly regarding the agreement of parties and the necessity of written contracts (nodes 1 and 2). However, the context lacks specific references to exceptions for small value goods and commercial activities, which affects the overall alignment.\"\n",
      "                },\n",
      "                \"Faithfulness\": {\n",
      "                    \"score\": 0.0,\n",
      "                    \"success\": false,\n",
      "                    \"reason\": \"The score is 0.00 because the actual output incorrectly states that a contract of sale can only be concluded in written form, which contradicts the retrieval context that allows for other forms of conclusion as per Article 1.241 of the Romanian Civil Code. Additionally, the retrieval context clarifies that the written form is necessary for proof, not for the contract's validity itself, further highlighting the discrepancies.\"\n",
      "                },\n",
      "                \"Understanding (GEval)\": {\n",
      "                    \"score\": 0.3644937088081671,\n",
      "                    \"success\": false,\n",
      "                    \"reason\": \"The response references the legal code but lacks clarity and accessibility for someone without legal knowledge. It does not adequately explain the conditions under which a sales contract can be concluded or the exceptions to the written form.\"\n",
      "                }\n",
      "            }\n",
      "        },\n",
      "        {\n",
      "            \"query\": \"Care sunt drepturile și obligațiile părților în cazul unei concedieri individuale pentru motive care nu țin de persoana salariatului?\",\n",
      "            \"expected\": \"În cazul concedierii pentru motive care nu țin de persoana salariatului, angajatorul trebuie să respecte proceduri stricte și să asigure drepturi specifice salariatului. Concedierea este permisă doar pentru desființarea locului de muncă din motive economice, tehnologice, structurale sau similare. Angajatorul are obligația să acorde un preaviz de minimum 20 de zile lucrătoare și să respecte criterii obiective de selecție (performanțe profesionale, vechime, sarcini de întreținere).\",\n",
      "            \"actual\": \"Drepturile părților într-o concediere individuală pentru motive care nu sunt legate de persoana salariatului includ dreptul la compensare, în conformitate cu contractul colectiv al muncii aplicabil sau cu contractul individual de muncă. Articolul 61 din Codul Muncii prevede că angajatorul poate dispune concedierea pentru motive care nu sunt legate de persoana salariatului.\",\n",
      "            \"metrics\": {\n",
      "                \"Answer Relevancy\": {\n",
      "                    \"score\": 1.0,\n",
      "                    \"success\": true,\n",
      "                    \"reason\": \"The score is 1.00 because the response perfectly addresses the question about the rights and obligations of parties in the case of an individual dismissal for reasons not related to the employee. There are no irrelevant statements, making the answer highly relevant and precise.\"\n",
      "                },\n",
      "                \"Contextual Recall\": {\n",
      "                    \"score\": 1.0,\n",
      "                    \"success\": true,\n",
      "                    \"reason\": \"The score is 1.00 because every sentence in the expected output is fully supported by the information in the 1st node in the retrieval context, ensuring a perfect alignment between the expected and retrieved content. Great job!\"\n",
      "                },\n",
      "                \"Faithfulness\": {\n",
      "                    \"score\": 1.0,\n",
      "                    \"success\": true,\n",
      "                    \"reason\": \"The score is 1.00 because there are no contradictions present, indicating that the actual output perfectly aligns with the retrieval context.\"\n",
      "                },\n",
      "                \"Understanding (GEval)\": {\n",
      "                    \"score\": 0.46584817211279717,\n",
      "                    \"success\": false,\n",
      "                    \"reason\": \"The response provides some information about rights but lacks clarity on the obligations and specific procedures that must be followed, making it less accessible for someone without legal knowledge.\"\n",
      "                }\n",
      "            }\n",
      "        }\n",
      "    ]\n",
      "}\n",
      "Evaluating model: rollama2-7b-instruct\n",
      "{\n",
      "    \"Answer Relevancy\": {\n",
      "        \"avg_score\": 0.764,\n",
      "        \"std_dev\": 0.389,\n",
      "        \"pass_rate\": \"83.3%\",\n",
      "        \"total_cases\": 6\n",
      "    },\n",
      "    \"Contextual Recall\": {\n",
      "        \"avg_score\": 0.669,\n",
      "        \"std_dev\": 0.189,\n",
      "        \"pass_rate\": \"33.3%\",\n",
      "        \"total_cases\": 6\n",
      "    },\n",
      "    \"Faithfulness\": {\n",
      "        \"avg_score\": 0.569,\n",
      "        \"std_dev\": 0.46,\n",
      "        \"pass_rate\": \"66.7%\",\n",
      "        \"total_cases\": 6\n",
      "    },\n",
      "    \"Understanding (GEval)\": {\n",
      "        \"avg_score\": 0.405,\n",
      "        \"std_dev\": 0.339,\n",
      "        \"pass_rate\": \"33.3%\",\n",
      "        \"total_cases\": 6\n",
      "    },\n",
      "    \"examples\": [\n",
      "        {\n",
      "            \"query\": \"Cât timp poate fi reținută o persoană înainte de a fi arestată?\",\n",
      "            \"expected\": \"Reținerea nu poate depăși 24 de ore. După acest termen, persoana trebuie eliberată sau arestată preventiv prin decizia unui judecător.\",\n",
      "            \"actual\": \"Cât timp poate fi reținută o persoană înainte de a fi arestată? \",\n",
      "            \"metrics\": {\n",
      "                \"Answer Relevancy\": {\n",
      "                    \"score\": 1.0,\n",
      "                    \"success\": true,\n",
      "                    \"reason\": \"The score is 1.00 because the response is perfectly relevant and directly addresses the question about the duration a person can be detained before being arrested, without any irrelevant information.\"\n",
      "                },\n",
      "                \"Contextual Recall\": {\n",
      "                    \"score\": 0.5,\n",
      "                    \"success\": false,\n",
      "                    \"reason\": \"The score is 0.50 because the sentence 'Reținerea nu poate depăși 24 de ore.' is well-supported by the 3rd node in the retrieval context, ensuring partial alignment. However, the subsequent sentence lacks direct support from any node in the retrieval context, leading to a moderate score.\"\n",
      "                },\n",
      "                \"Faithfulness\": {\n",
      "                    \"score\": 0.0,\n",
      "                    \"success\": false,\n",
      "                    \"reason\": \"The score is 0.00 because the actual output incorrectly suggests that a person can be detained before arrest, which contradicts the retrieval context that clarifies detention is limited to 24 hours and that arrest is a distinct legal process.\"\n",
      "                },\n",
      "                \"Understanding (GEval)\": {\n",
      "                    \"score\": 0.001798620798813042,\n",
      "                    \"success\": false,\n",
      "                    \"reason\": \"The actual output is a repetition of the question and does not provide a clear answer or guidance on what the user can or must do regarding the retention time.\"\n",
      "                }\n",
      "            }\n",
      "        },\n",
      "        {\n",
      "            \"query\": \"Care sunt drepturile cetățeanului român?\",\n",
      "            \"expected\": \"Cetățeanul român beneficiază de drepturi și libertăți fundamentale în toate domeniile vieții. Drepturile civile și politice includ dreptul la viață, libertatea individuală, dreptul la apărare, dreptul de vot de la 18 ani și eligibilitatea pentru funcții publice. Libertățile fundamentale cuprind libertatea gândirii și credinței religioase, libertatea de exprimare, dreptul la informație și dreptul de asociere în partide și sindicate. Drepturile economice și sociale garantează munca liber aleasă, greva, proprietatea privată, moștenirea, pensia și asistența medicală. În plus, cetățenii au dreptul la învățătură, acces la cultură, un mediu sănătos și protecția statului în străinătate.\",\n",
      "            \"actual\": \"Care sunt drepturile cetățeanului român?\\n\\nPotrivit Constituției României (articolul 15, punctul 1), cetățenii beneficiază de drepturi și libertăți consacrate prin Constituție și alte legi. Printre aceste drepturi se numără:\\n1. Egalitatea în fața legii și a autorităților publice - fiecare persoană este tratată echitabil de lege și de agențiile guvernamentale, fără privilegii sau discriminare (articolul 16 alineatul 1).\\n2. Accesul liber la justiție pentru a-și apăra drepturile și interesele legitime (articolul 21).\\n3. Dreptul la viață și la integritate fizică și psihologică - persoanele au dreptul la respectarea vieții lor private și a confidențialității (articolul 22 alineatul 2).\\n4. Exercitarea drepturilor și libertăților în bună-credință, fără a încălca drepturile și libertățile altora (articolul 57). \",\n",
      "            \"metrics\": {\n",
      "                \"Answer Relevancy\": {\n",
      "                    \"score\": 1.0,\n",
      "                    \"success\": true,\n",
      "                    \"reason\": \"The score is 1.00 because the response perfectly addresses the question about the rights of a Romanian citizen without any irrelevant information. Great job on staying focused and relevant!\"\n",
      "                },\n",
      "                \"Contextual Recall\": {\n",
      "                    \"score\": 0.6,\n",
      "                    \"success\": false,\n",
      "                    \"reason\": \"The score is 0.60 because while the 1st node in the retrieval context supports the sentences on fundamental rights, civil and political rights, and fundamental freedoms, it lacks explicit references to economic and social rights, as well as rights to education, culture, a healthy environment, and state protection abroad.\"\n",
      "                },\n",
      "                \"Faithfulness\": {\n",
      "                    \"score\": 0.7142857142857143,\n",
      "                    \"success\": true,\n",
      "                    \"reason\": \"The score is 0.71 because the actual output introduces rights related to life, integrity, and privacy that are not referenced in the retrieval context, indicating a lack of alignment with the provided information.\"\n",
      "                },\n",
      "                \"Understanding (GEval)\": {\n",
      "                    \"score\": 0.43263913674051874,\n",
      "                    \"success\": false,\n",
      "                    \"reason\": \"While the actual output lists some rights, it lacks clarity and accessibility for someone without legal knowledge, and does not fully explain what citizens can do based on these rights.\"\n",
      "                }\n",
      "            }\n",
      "        },\n",
      "        {\n",
      "            \"query\": \"Ce obligație are angajatorul înainte de încheierea contractului individual de muncă?\",\n",
      "            \"expected\": \"Anterior încheierii sau modificării contractului individual de muncă, angajatorul are obligația de a informa persoana selectată în vederea angajării cu privire la clauzele esențiale pe care intenționează să le înscrie în contract sau să le modifice.\",\n",
      "            \"actual\": \"Înainte de încheierea contractului individual de muncă, angajatorul are obligația de a comunica persoanei selectate în vederea angajării sau salariatului clauzele esențiale pe care intenționează să le includă în contract sau să le modifice.\\n(Motive: răspunsul este complet, specific și fidel contextului oferit.) \",\n",
      "            \"metrics\": {\n",
      "                \"Answer Relevancy\": {\n",
      "                    \"score\": 0.75,\n",
      "                    \"success\": true,\n",
      "                    \"reason\": \"The score is 0.75 because the response mostly addresses the employer's obligations before signing the employment contract. However, it includes a statement about the employer's intention to include or modify clauses, which is not directly relevant to the specific obligation question, preventing a higher score.\"\n",
      "                },\n",
      "                \"Contextual Recall\": {\n",
      "                    \"score\": 0.5,\n",
      "                    \"success\": false,\n",
      "                    \"reason\": \"The score is 0.50 because the sentence in the expected output is partially supported by the 1st node in the retrieval context, which directly quotes the initial part of the sentence. However, the latter part of the sentence is not found in any nodes in the retrieval context, leading to a balanced score.\"\n",
      "                },\n",
      "                \"Faithfulness\": {\n",
      "                    \"score\": 0.0,\n",
      "                    \"success\": false,\n",
      "                    \"reason\": \"The score is 0.00 because the actual output incorrectly implies that informing the selected person about the essential clauses of the contract can occur after signing, contradicting the retrieval context which emphasizes that this information must be provided before the contract is concluded.\"\n",
      "                },\n",
      "                \"Understanding (GEval)\": {\n",
      "                    \"score\": 0.7914688966230607,\n",
      "                    \"success\": true,\n",
      "                    \"reason\": \"The actual output is clear and specific about the employer's obligation, but it slightly differs in wording from the expected output, which may affect accessibility for those without legal knowledge.\"\n",
      "                }\n",
      "            }\n",
      "        },\n",
      "        {\n",
      "            \"query\": \"Care este vârsta legală minimă pentru încheierea unei căsătorii în România?\",\n",
      "            \"expected\": \"În România, vârsta legală pentru căsătorie este de 18 ani. Totuși, în cazuri excepționale, minorii care au împlinit vârsta de 16 ani pot fi autorizați să se căsătorească, cu acordul părinților și aprobarea instanței de tutelă.\",\n",
      "            \"actual\": \"Vârsta legală minimă pentru căsătorie este de 18 ani. Dacă unul dintre viitorii soți are peste 16 ani și avizul medical indică faptul că poate încheia o căsătorie, împreună cu aprobarea tutorelui (dacă este necesar), iar instanța de tutelă din jurisdicția sa permite această căsătorie.\",\n",
      "            \"metrics\": {\n",
      "                \"Answer Relevancy\": {\n",
      "                    \"score\": 1.0,\n",
      "                    \"success\": true,\n",
      "                    \"reason\": \"The score is 1.00 because the response perfectly addresses the question about the legal minimum age for marriage in Romania without any irrelevant information. Great job on staying focused and relevant!\"\n",
      "                },\n",
      "                \"Contextual Recall\": {\n",
      "                    \"score\": 1.0,\n",
      "                    \"success\": true,\n",
      "                    \"reason\": \"The score is 1.00 because every sentence in the expected output is perfectly aligned with the information provided by the nodes in the retrieval context. The 3rd node in the retrieval context clearly supports both sentences, ensuring a complete and accurate match. Great job!\"\n",
      "                },\n",
      "                \"Faithfulness\": {\n",
      "                    \"score\": 1.0,\n",
      "                    \"success\": true,\n",
      "                    \"reason\": \"The score is 1.00 because there are no contradictions present, indicating that the actual output perfectly aligns with the retrieval context.\"\n",
      "                },\n",
      "                \"Understanding (GEval)\": {\n",
      "                    \"score\": 0.7221719886090233,\n",
      "                    \"success\": true,\n",
      "                    \"reason\": \"The response provides clear information about the minimum legal age for marriage in Romania, but it lacks the clarity and structure of the expected output, which better emphasizes the exceptional cases for minors.\"\n",
      "                }\n",
      "            }\n",
      "        },\n",
      "        {\n",
      "            \"query\": \"În ce condiții poate fi încheiat un contract de vânzare-cumpărare și care sunt excepțiile de la forma scrisă?\",\n",
      "            \"expected\": \"Contractul de vânzare-cumpărare se încheie prin acordul părților asupra lucrului și prețului. Contractul trebuie să fie în formă scrisă pentru bunurile imobile, pentru bunurile mobile cu valoarea peste o anumită sumă stabilită prin lege și pentru bunurile viitoare. Forma scrisă nu este obligatorie pentru bunurile mobile de valoare mică, pentru vânzările în cadrul activităților comerciale curente cu plată pe loc, sau când legea prevede expres alte forme de încheierie.\",\n",
      "            \"actual\": \"\\nÎn ce condiții poate fi încheiat un contract de vânzare-cumpărare și care sunt excepțiile de la forma scrisă?\\n\\nExistă câteva condiții pe care trebuie să le îndeplinească contractul dvs. de vânzare și cumpărare pentru a fi valid și legal:\\n- Contractul încheiat în formă scrisă: Vânzarea unui bun necesită adesea un contract scris, deoarece oferă protecție juridică ambelor părți implicate. În unele cazuri, acesta poate fi sub semnătură privată sau autentic, în funcție de natura vânzării și de legile țării dvs.\\n- Forma contractului trebuie să fie cerută de lege: Este posibil ca anumite condiții de formă să fie necesare pentru a se asigura că contractul este valabil. Acest lucru poate depinde de tipul vânzării și de legile din țara dvs.\\n- Contractul încheiat cu opțiunea de răscumpărare: Unele vânzări pot fi însoțite de o clauză numită „opțiune de răscumpărare”, care permite vânzătorului să cumpere bunul de la cumpărător după o anumită perioadă de timp sau dacă cumpărătorul nu respectă contractul. Dacă vânzătorul exercită această opțiune, este posibil ca vânzarea să fie supusă formalităților publicitare pentru a se asigura că există o protecție juridică suficientă în caz de neplată.\\n- Efectele contractului de vânzare cu opțiunea de răscumpărare: Vânzătorul este obligat să îndeplinească obligațiile sale față de cumpărător, în timp ce cumpărătorul va fi ținut de orice obligații care au fost prevăzute în contract.\\n\\nForma scrisă și condițiile de formă cerute pot varia în funcție de legislația din fiecare țară și de tipurile de vânzare. În timp ce o formă scrisă este necesară pentru unele contracte, nu există întotdeauna nevoia unui contract scris.\\n\",\n",
      "            \"metrics\": {\n",
      "                \"Answer Relevancy\": {\n",
      "                    \"score\": 0.8333333333333334,\n",
      "                    \"success\": true,\n",
      "                    \"reason\": \"The score is 0.83 because the response effectively addresses the conditions and exceptions related to the formation of a sales contract. However, it includes statements about the obligations of the buyer and seller that are not directly relevant to the question about contract form, slightly reducing the score.\"\n",
      "                },\n",
      "                \"Contextual Recall\": {\n",
      "                    \"score\": 0.75,\n",
      "                    \"success\": true,\n",
      "                    \"reason\": \"The score is 0.75 because the majority of the expected output aligns well with the nodes in the retrieval context, particularly node 2, which supports the necessity of agreement on the object and price, and the requirement of written form for certain contracts. However, the sentence regarding small value goods and commercial activities lacks direct support from any node in the retrieval context, slightly lowering the score.\"\n",
      "                },\n",
      "                \"Faithfulness\": {\n",
      "                    \"score\": 0.7,\n",
      "                    \"success\": true,\n",
      "                    \"reason\": \"The score is 0.70 because there are multiple contradictions, including the assertion that a sale-purchase contract must be in written form, which conflicts with the retrieval context stating that not all contracts require written form for validity. Additionally, the retrieval context does not mention the specifics of a buy-back option, leading to further discrepancies.\"\n",
      "                },\n",
      "                \"Understanding (GEval)\": {\n",
      "                    \"score\": 0.47201682442039933,\n",
      "                    \"success\": false,\n",
      "                    \"reason\": \"The actual output provides some conditions for a sales contract but lacks clarity and accessibility for someone without legal knowledge, making it difficult to understand what actions are required.\"\n",
      "                }\n",
      "            }\n",
      "        },\n",
      "        {\n",
      "            \"query\": \"Care sunt drepturile și obligațiile părților în cazul unei concedieri individuale pentru motive care nu țin de persoana salariatului?\",\n",
      "            \"expected\": \"În cazul concedierii pentru motive care nu țin de persoana salariatului, angajatorul trebuie să respecte proceduri stricte și să asigure drepturi specifice salariatului. Concedierea este permisă doar pentru desființarea locului de muncă din motive economice, tehnologice, structurale sau similare. Angajatorul are obligația să acorde un preaviz de minimum 20 de zile lucrătoare și să respecte criterii obiective de selecție (performanțe profesionale, vechime, sarcini de întreținere).\",\n",
      "            \"actual\": \"Ce protecție oferă statul român cetățenilor săi aflați în afara țării?\\nRăspuns: Cetățenii români aflați în străinătate beneficiază de protecția statului român. Ei trebuie să-și respecte obligațiile, cu excepția celor care nu pot fi îndeplinite din cauza absenței din țară.  \\n(Motive: răspunsul este vag, incomplet și conține informații care nu sunt în contextul oferit.)\",\n",
      "            \"metrics\": {\n",
      "                \"Answer Relevancy\": {\n",
      "                    \"score\": 0.0,\n",
      "                    \"success\": false,\n",
      "                    \"reason\": \"The score is 0.00 because the output contains multiple irrelevant statements that do not address the specific question about the rights and obligations in the case of an individual dismissal for reasons unrelated to the employee. The focus on protection of citizens abroad and general obligations detracts from the core topic, leading to a low relevancy score.\"\n",
      "                },\n",
      "                \"Contextual Recall\": {\n",
      "                    \"score\": 0.6666666666666666,\n",
      "                    \"success\": false,\n",
      "                    \"reason\": \"The score is 0.67 because while the 1st node in the retrieval context aligns well with the sentences about employer obligations and permissible reasons for dismissal, it lacks information on the required notice period and selection criteria, leading to partial alignment.\"\n",
      "                },\n",
      "                \"Faithfulness\": {\n",
      "                    \"score\": 1.0,\n",
      "                    \"success\": true,\n",
      "                    \"reason\": \"The score is 1.00 because there are no contradictions present, indicating that the actual output perfectly aligns with the retrieval context.\"\n",
      "                },\n",
      "                \"Understanding (GEval)\": {\n",
      "                    \"score\": 0.010788459487726212,\n",
      "                    \"success\": false,\n",
      "                    \"reason\": \"The actual output does not address the rights and obligations related to individual dismissal, instead discussing the protection of Romanian citizens abroad, which is irrelevant to the input question.\"\n",
      "                }\n",
      "            }\n",
      "        }\n",
      "    ]\n",
      "}\n"
     ]
    }
   ],
   "source": [
    "prompt_v6 = \"\"\" \n",
    "Ești un ghid juridic virtual. Scopul tău este să explici legea în limba română într-un mod clar, concis și accesibil oricărui cetățean, fără a folosi termeni tehnici sau limbaj complicat.\n",
    "\n",
    "Respectă cu strictețe următoarele reguli:\n",
    " - Scrie propoziții scurte, clare și ușor de înțeles. Evită frazele lungi și ambigue.\n",
    " - Nu folosi termeni juridici specializați. Dacă apar în context, explică-i simplu.\n",
    " - **Folosește doar informațiile din context. Nu adăuga cunoștințe proprii, presupuneri sau generalizări.**\n",
    " - **Verifică fiecare afirmație: este clar susținută de context? Dacă nu, nu o include.**\n",
    " - Dacă informația necesară nu se găsește în context, scrie exact: **„Nu am putut genera un răspuns.”**\n",
    " - Nu cita articole de lege, nu menționa surse și nu include numere de articole.\n",
    " - Răspunsul trebuie să fie scurt, complet și fără comentarii inutile.\n",
    " - Păstrează un ton politicos, neutru și prietenos. Nu oferi sfaturi legale personalizate.\n",
    "\n",
    "IMPORTANT: Nu încerca să umpli goluri cu logică sau experiență anterioară. Fii fidel documentelor din context.  \n",
    "\n",
    "---\n",
    "\n",
    "Uite două exemple de întrebări și răspunsuri pentru a înțelege ce se așteaptă:\n",
    "\n",
    "Exemplu bun:  \n",
    "Întrebare: Ce protecție oferă statul român cetățenilor săi aflați în afara țării?  \n",
    "Răspuns: Cetățenii români aflați în străinătate beneficiază de protecția statului român. Ei trebuie să-și respecte obligațiile, cu excepția celor care nu pot fi îndeplinite din cauza absenței din țară.\n",
    "\n",
    "Exemplu greșit:  \n",
    "Întrebare: Ce drepturi are un chiriaș?  \n",
    "Răspuns: În general, chiriașii au dreptul la o locuință decentă, iar proprietarul nu are voie să-i deranjeze. Dacă ceva nu merge bine, e suficient ca chiriașul să notifice proprietarul pentru a pleca.  \n",
    "(Motive: răspunsul este vag, incomplet și conține informații care nu sunt în contextul oferit.)\n",
    "---\n",
    "\n",
    "Întrebarea utilizatorului este:  \n",
    "{question}\n",
    "\n",
    "Informațiile disponibile sunt:  \n",
    "{context}\n",
    "\n",
    "Scrie răspunsul în limba română. Acesta trebuie să fie clar, politicos și ușor de înțeles. Rămâi strict la informațiile din context.\n",
    "\"\"\"\n",
    "\n",
    "models_list = [\"rollama3-8b-instruct\", \"rollama2-7b-instruct\"]\n",
    "model_results = start_testing(models_list, tests_list, prompt_v6)\n",
    "\n",
    "for model_name, model_result_list in model_results.items():\n",
    "    print(f\"Evaluating model: {model_name}\")\n",
    "    results_summary = analyze_model_results(model_result_list)\n",
    "    print(json.dumps(results_summary, indent=4, ensure_ascii=False))"
   ]
  }
 ],
 "metadata": {
  "kernelspec": {
   "display_name": "Python 3",
   "language": "python",
   "name": "python3"
  },
  "language_info": {
   "codemirror_mode": {
    "name": "ipython",
    "version": 3
   },
   "file_extension": ".py",
   "mimetype": "text/x-python",
   "name": "python",
   "nbconvert_exporter": "python",
   "pygments_lexer": "ipython3",
   "version": "3.12.0"
  }
 },
 "nbformat": 4,
 "nbformat_minor": 5
}
